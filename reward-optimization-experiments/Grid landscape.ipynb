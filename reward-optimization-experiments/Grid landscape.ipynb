{
 "cells": [
  {
   "cell_type": "code",
   "execution_count": 1,
   "metadata": {},
   "outputs": [],
   "source": [
    "import gym\n",
    "\n",
    "import numpy as np\n",
    "import pandas as pd\n",
    "import matplotlib.pyplot as plt\n",
    "\n",
    "from matplotlib.ticker import (MultipleLocator, \n",
    "                               FormatStrFormatter, \n",
    "                               AutoMinorLocator) \n",
    "\n",
    "from lcs import Perception\n",
    "from lcs.agents import EnvironmentAdapter\n",
    "from lcs.metrics import population_metrics\n",
    "\n",
    "import lcs.agents.acs2 as acs2\n",
    "import lcs.agents.aacs2 as aacs2\n",
    "import lcs.agents.acs2ar as acs2ar\n",
    "\n",
    "import random\n",
    "from collections import namedtuple\n",
    "\n",
    "# Logger\n",
    "import logging\n",
    "logging.basicConfig(level=logging.INFO)\n",
    "\n",
    "import gym_grid\n",
    "grid20 = gym.make('grid-20-v0')\n",
    "grid40 = gym.make('grid-40-v0')"
   ]
  },
  {
   "cell_type": "code",
   "execution_count": 2,
   "metadata": {},
   "outputs": [],
   "source": [
    "def common_metrics(agent, env):\n",
    "    pop = agent.get_population()\n",
    "\n",
    "    metrics = {\n",
    "        'agent': agent.__class__.__name__,\n",
    "        'reliable': len([cl for cl in pop if cl.is_reliable()]),\n",
    "    }\n",
    "\n",
    "    if hasattr(agent, 'rho'):\n",
    "        metrics['rho'] = agent.rho\n",
    "    else:\n",
    "        metrics['rho'] = 0\n",
    "\n",
    "    metrics.update(population_metrics(pop, env))\n",
    "    return metrics"
   ]
  },
  {
   "cell_type": "code",
   "execution_count": 3,
   "metadata": {},
   "outputs": [
    {
     "data": {
      "text/plain": [
       "400"
      ]
     },
     "execution_count": 3,
     "metadata": {},
     "output_type": "execute_result"
    }
   ],
   "source": [
    "# SET THE ENVIRONMENT\n",
    "env = grid20\n",
    "\n",
    "state_to_actions = env.env._state_action()\n",
    "len(state_to_actions)"
   ]
  },
  {
   "cell_type": "code",
   "execution_count": 4,
   "metadata": {},
   "outputs": [
    {
     "data": {
      "text/plain": [
       "1518"
      ]
     },
     "execution_count": 4,
     "metadata": {},
     "output_type": "execute_result"
    }
   ],
   "source": [
    "StateAction = namedtuple('StateAction', 'id state action')\n",
    "\n",
    "state_action = []\n",
    "\n",
    "idx = 1\n",
    "for state, actions in state_to_actions.items():\n",
    "    if len(actions) > 0:\n",
    "        for action in actions:\n",
    "            state_action.append(StateAction(idx, state, action))\n",
    "            idx += 1\n",
    "            \n",
    "len(state_action)"
   ]
  },
  {
   "cell_type": "code",
   "execution_count": 5,
   "metadata": {},
   "outputs": [
    {
     "data": {
      "text/plain": [
       "[StateAction(id=1, state=('1', '1'), action=1),\n",
       " StateAction(id=2, state=('1', '1'), action=2),\n",
       " StateAction(id=3, state=('1', '2'), action=0),\n",
       " StateAction(id=4, state=('1', '2'), action=1),\n",
       " StateAction(id=5, state=('1', '2'), action=2),\n",
       " StateAction(id=6, state=('1', '3'), action=0),\n",
       " StateAction(id=7, state=('1', '3'), action=1),\n",
       " StateAction(id=8, state=('1', '3'), action=2),\n",
       " StateAction(id=9, state=('1', '4'), action=0),\n",
       " StateAction(id=10, state=('1', '4'), action=1)]"
      ]
     },
     "execution_count": 5,
     "metadata": {},
     "output_type": "execute_result"
    }
   ],
   "source": [
    "state_action[:10]"
   ]
  },
  {
   "cell_type": "code",
   "execution_count": 6,
   "metadata": {},
   "outputs": [],
   "source": [
    "# create a dict id > perception (for q-learning)\n",
    "\n",
    "unique_states = {sa.state for sa in state_action}\n",
    "sp = {}\n",
    "for idx, state in enumerate(unique_states):\n",
    "    sp[idx] = state"
   ]
  },
  {
   "cell_type": "code",
   "execution_count": 7,
   "metadata": {},
   "outputs": [],
   "source": [
    "def find_state_id(state):\n",
    "    for sp_id, sp_state in sp.items():\n",
    "        if sp_state == state:\n",
    "            return sp_id\n",
    "    return None"
   ]
  },
  {
   "cell_type": "code",
   "execution_count": 8,
   "metadata": {},
   "outputs": [
    {
     "data": {
      "text/plain": [
       "('16', '9')"
      ]
     },
     "execution_count": 8,
     "metadata": {},
     "output_type": "execute_result"
    }
   ],
   "source": [
    "sp[164]"
   ]
  },
  {
   "cell_type": "markdown",
   "metadata": {},
   "source": [
    "# Agent estimations"
   ]
  },
  {
   "cell_type": "code",
   "execution_count": 9,
   "metadata": {},
   "outputs": [],
   "source": [
    "learning_rate = 0.1\n",
    "discount_factor = 0.95\n",
    "epsilon = 0.1\n",
    "zeta = 0.0001"
   ]
  },
  {
   "cell_type": "code",
   "execution_count": 10,
   "metadata": {},
   "outputs": [
    {
     "name": "stderr",
     "output_type": "stream",
     "text": [
      "INFO:lcs.agents.Agent:{'trial': 0, 'steps_in_trial': 2000, 'reward': 0}\n",
      "INFO:lcs.agents.Agent:{'trial': 150, 'steps_in_trial': 1525, 'reward': 1000}\n",
      "INFO:lcs.agents.Agent:{'trial': 300, 'steps_in_trial': 424, 'reward': 1000}\n",
      "INFO:lcs.agents.Agent:{'trial': 450, 'steps_in_trial': 2000, 'reward': 0}\n",
      "INFO:lcs.agents.Agent:{'trial': 600, 'steps_in_trial': 1821, 'reward': 1000}\n",
      "INFO:lcs.agents.Agent:{'trial': 750, 'steps_in_trial': 813, 'reward': 1000}\n",
      "INFO:lcs.agents.Agent:{'trial': 900, 'steps_in_trial': 632, 'reward': 1000}\n",
      "INFO:lcs.agents.Agent:{'trial': 1050, 'steps_in_trial': 316, 'reward': 1000}\n",
      "INFO:lcs.agents.Agent:{'trial': 1200, 'steps_in_trial': 866, 'reward': 1000}\n",
      "INFO:lcs.agents.Agent:{'trial': 1350, 'steps_in_trial': 2000, 'reward': 0}\n"
     ]
    },
    {
     "name": "stdout",
     "output_type": "stream",
     "text": [
      "CPU times: user 10min 49s, sys: 5.45 s, total: 10min 55s\n",
      "Wall time: 12min 21s\n"
     ]
    }
   ],
   "source": [
    "%%time\n",
    "\n",
    "acs2_cfg = acs2.Configuration(2, 4,\n",
    "                         do_ga=False,\n",
    "                         beta=learning_rate,\n",
    "                         epsilon=1-epsilon,\n",
    "                         gamma=discount_factor,\n",
    "                         biased_exploration_prob=0.8)\n",
    "\n",
    "\n",
    "acs2_agent = acs2.ACS2(acs2_cfg)\n",
    "acs2_population, _ = acs2_agent.explore(env, 1500)"
   ]
  },
  {
   "cell_type": "code",
   "execution_count": 11,
   "metadata": {},
   "outputs": [
    {
     "name": "stderr",
     "output_type": "stream",
     "text": [
      "INFO:lcs.agents.Agent:{'trial': 0, 'steps_in_trial': 572, 'reward': 1000}\n",
      "INFO:lcs.agents.Agent:{'trial': 300, 'steps_in_trial': 2000, 'reward': 0}\n",
      "INFO:lcs.agents.Agent:{'trial': 600, 'steps_in_trial': 531, 'reward': 1000}\n",
      "INFO:lcs.agents.Agent:{'trial': 900, 'steps_in_trial': 1991, 'reward': 1000}\n",
      "INFO:lcs.agents.Agent:{'trial': 1200, 'steps_in_trial': 2000, 'reward': 0}\n",
      "INFO:lcs.agents.Agent:{'trial': 1500, 'steps_in_trial': 2000, 'reward': 0}\n",
      "INFO:lcs.agents.Agent:{'trial': 1800, 'steps_in_trial': 1759, 'reward': 1000}\n",
      "INFO:lcs.agents.Agent:{'trial': 2100, 'steps_in_trial': 2000, 'reward': 0}\n",
      "INFO:lcs.agents.Agent:{'trial': 2400, 'steps_in_trial': 720, 'reward': 1000}\n",
      "INFO:lcs.agents.Agent:{'trial': 2700, 'steps_in_trial': 757, 'reward': 1000}\n"
     ]
    },
    {
     "name": "stdout",
     "output_type": "stream",
     "text": [
      "CPU times: user 22min 35s, sys: 2.03 s, total: 22min 37s\n",
      "Wall time: 22min 48s\n"
     ]
    }
   ],
   "source": [
    "%%time\n",
    "\n",
    "aacs2_cfg = aacs2.Configuration(2, 4,\n",
    "                         do_ga=False,\n",
    "                         beta=learning_rate,\n",
    "                         epsilon=1-epsilon,\n",
    "                         gamma=discount_factor,\n",
    "                         biased_exploration_prob=0.8)\n",
    "\n",
    "\n",
    "aacs2_agent = aacs2.AACS2(aacs2_cfg)\n",
    "aacs2_population, _ = aacs2_agent.explore_exploit(env, 3000)"
   ]
  },
  {
   "cell_type": "code",
   "execution_count": 12,
   "metadata": {},
   "outputs": [
    {
     "ename": "NameError",
     "evalue": "name 'Q' is not defined",
     "output_type": "error",
     "traceback": [
      "\u001b[0;31m---------------------------------------------------------------------------\u001b[0m",
      "\u001b[0;31mNameError\u001b[0m                                 Traceback (most recent call last)",
      "\u001b[0;32m<ipython-input-12-34c1f1cc4045>\u001b[0m in \u001b[0;36m<module>\u001b[0;34m\u001b[0m\n\u001b[1;32m      1\u001b[0m \u001b[0mns\u001b[0m \u001b[0;34m=\u001b[0m \u001b[0mfind_state_id\u001b[0m\u001b[0;34m(\u001b[0m\u001b[0;34m(\u001b[0m\u001b[0;34m'19'\u001b[0m\u001b[0;34m,\u001b[0m \u001b[0;34m'15'\u001b[0m\u001b[0;34m)\u001b[0m\u001b[0;34m)\u001b[0m\u001b[0;34m\u001b[0m\u001b[0;34m\u001b[0m\u001b[0m\n\u001b[1;32m      2\u001b[0m \u001b[0;34m\u001b[0m\u001b[0m\n\u001b[0;32m----> 3\u001b[0;31m \u001b[0mQ\u001b[0m\u001b[0;34m[\u001b[0m\u001b[0mns\u001b[0m\u001b[0;34m,\u001b[0m \u001b[0;34m:\u001b[0m\u001b[0;34m]\u001b[0m\u001b[0;34m\u001b[0m\u001b[0;34m\u001b[0m\u001b[0m\n\u001b[0m",
      "\u001b[0;31mNameError\u001b[0m: name 'Q' is not defined"
     ]
    }
   ],
   "source": [
    "ns = find_state_id(('19', '15'))\n",
    "\n",
    "Q[ns, :]"
   ]
  },
  {
   "cell_type": "code",
   "execution_count": 13,
   "metadata": {},
   "outputs": [
    {
     "name": "stderr",
     "output_type": "stream",
     "text": [
      "INFO:lcs.agents.Agent:{'trial': 0, 'steps_in_trial': 105, 'reward': 1000}\n",
      "INFO:lcs.agents.Agent:{'trial': 300, 'steps_in_trial': 1891, 'reward': 1000}\n",
      "INFO:lcs.agents.Agent:{'trial': 600, 'steps_in_trial': 1006, 'reward': 1000}\n",
      "INFO:lcs.agents.Agent:{'trial': 900, 'steps_in_trial': 2000, 'reward': 0}\n",
      "INFO:lcs.agents.Agent:{'trial': 1200, 'steps_in_trial': 23, 'reward': 1000}\n",
      "INFO:lcs.agents.Agent:{'trial': 1500, 'steps_in_trial': 2000, 'reward': 0}\n",
      "INFO:lcs.agents.Agent:{'trial': 1800, 'steps_in_trial': 635, 'reward': 1000}\n",
      "INFO:lcs.agents.Agent:{'trial': 2100, 'steps_in_trial': 55, 'reward': 1000}\n",
      "INFO:lcs.agents.Agent:{'trial': 2400, 'steps_in_trial': 28, 'reward': 1000}\n",
      "INFO:lcs.agents.Agent:{'trial': 2700, 'steps_in_trial': 2000, 'reward': 0}\n"
     ]
    },
    {
     "name": "stdout",
     "output_type": "stream",
     "text": [
      "CPU times: user 21min 21s, sys: 2.95 s, total: 21min 24s\n",
      "Wall time: 21min 51s\n"
     ]
    }
   ],
   "source": [
    "%%time\n",
    "\n",
    "acs2ar_cfg = acs2ar.Configuration(2, 4,\n",
    "                         do_ga=False,\n",
    "                         beta=learning_rate,\n",
    "                         epsilon=1-epsilon,\n",
    "                         gamma=discount_factor,\n",
    "                         zeta=zeta,\n",
    "                         biased_exploration_prob=0.8)\n",
    "\n",
    "\n",
    "acs2ar_agent = acs2ar.ACS2AR(acs2ar_cfg)\n",
    "acs2ar_population, _ = acs2ar_agent.explore_exploit(env, 3000)"
   ]
  },
  {
   "cell_type": "code",
   "execution_count": 14,
   "metadata": {},
   "outputs": [
    {
     "ename": "NameError",
     "evalue": "name 'Q' is not defined",
     "output_type": "error",
     "traceback": [
      "\u001b[0;31m---------------------------------------------------------------------------\u001b[0m",
      "\u001b[0;31mNameError\u001b[0m                                 Traceback (most recent call last)",
      "\u001b[0;32m<timed exec>\u001b[0m in \u001b[0;36m<module>\u001b[0;34m\u001b[0m\n",
      "\u001b[0;31mNameError\u001b[0m: name 'Q' is not defined"
     ]
    }
   ],
   "source": [
    "%%time\n",
    "\n",
    "# Q = np.zeros((len(sp), env.action_space.n))\n",
    "episodes = 1000 # 50_000\n",
    "\n",
    "print(f\"All elements\\t: {Q.shape[0] * Q.shape[1]}\")\n",
    "\n",
    "for i in range(1, episodes):\n",
    "#     print(f\"\\nEPISODE {i}\")\n",
    "\n",
    "    if i % 5000 == 0:\n",
    "        print(f\"Episode {i}\")\n",
    "        print(f\"\\tNon zero\\t: {np.count_nonzero((Q))}\")\n",
    "        \n",
    "    obs = env.reset()\n",
    "    state = find_state_id(obs)\n",
    "    done = False\n",
    "    \n",
    "    while not done:\n",
    "        if random.uniform(0, 1) < epsilon:\n",
    "            action = env.action_space.sample()\n",
    "        else:\n",
    "            action = np.argmax(Q[state, :])\n",
    "            \n",
    "        next_obs, reward, done, info = env.step(action)\n",
    "        next_state = find_state_id(next_obs)\n",
    "        \n",
    "#         if reward != 0:\n",
    "#             print(f\"******* REWARD ******* \")\n",
    "        \n",
    "        if next_state is not None:\n",
    "            discounted = np.max(Q[next_state, :])\n",
    "        else:\n",
    "            discounted = 0\n",
    "        \n",
    "        Q[state, action] = Q[state, action] + learning_rate * (reward + discount_factor * discounted - Q[state, action])\n",
    "        \n",
    "#         print(f\"{state} == ({action}) ==> {next_state} (r: {reward})\\tQ[{state}, {action}]: {Q[state, action]}\")\n",
    "        state = next_state"
   ]
  },
  {
   "cell_type": "code",
   "execution_count": null,
   "metadata": {},
   "outputs": [],
   "source": [
    "%%time\n",
    "\n",
    "episodes = 1000 #50_000\n",
    "\n",
    "R = np.zeros((len(sp), env.action_space.n))\n",
    "rho = 0\n",
    "\n",
    "for i in range(1, episodes):\n",
    "    state = find_state_id(env.reset())\n",
    "\n",
    "    if i % 1000 == 0:\n",
    "        print(f\"\\tEpisode {i}. Non zero\\t: {np.count_nonzero((R))}\")\n",
    "\n",
    "    was_greedy = False\n",
    "    done = False\n",
    "\n",
    "    while not done:\n",
    "        if random.uniform(0, 1) < epsilon:\n",
    "            action = env.action_space.sample()\n",
    "        else:\n",
    "            action = np.argmax(R[state, :])\n",
    "            was_greedy = True\n",
    "\n",
    "        next_state, reward, done, info = env.step(action)\n",
    "        next_state = find_state_id(next_state)\n",
    "\n",
    "        if next_state is not None:\n",
    "            discounted = np.max(R[next_state, :])\n",
    "        else:\n",
    "            discounted = 0\n",
    "\n",
    "        R[state, action] = R[state, action] + learning_rate * (reward - rho + discounted - R[state, action])\n",
    "\n",
    "        if was_greedy:\n",
    "            rho = rho + zeta * (reward + np.max(R[next_state, :]) - discounted - rho)\n",
    "\n",
    "        state = next_state "
   ]
  },
  {
   "cell_type": "markdown",
   "metadata": {},
   "source": [
    "# Payoff landscape"
   ]
  },
  {
   "cell_type": "code",
   "execution_count": 20,
   "metadata": {},
   "outputs": [
    {
     "name": "stdout",
     "output_type": "stream",
     "text": [
      "CPU times: user 1.15 s, sys: 10.5 ms, total: 1.16 s\n",
      "Wall time: 1.22 s\n"
     ]
    }
   ],
   "source": [
    "%%time\n",
    "\n",
    "payoffs = {}\n",
    "\n",
    "for sa in state_action:\n",
    "    p = Perception(sa.state)\n",
    "    \n",
    "    # ACS2\n",
    "    acs2_match_set = acs2_population.form_match_set(p)\n",
    "    acs2_action_set = acs2_match_set.form_action_set(sa.action)\n",
    "    \n",
    "#     AACS2\n",
    "    aacs2_match_set = aacs2_population.form_match_set(p)\n",
    "    aacs2_action_set = aacs2_match_set.form_action_set(sa.action)\n",
    "    \n",
    "    # ACS2AR\n",
    "    acs2ar_match_set = acs2ar_population.form_match_set(p)\n",
    "    acs2ar_action_set = acs2ar_match_set.form_action_set(sa.action)\n",
    "    \n",
    "    payoffs[sa] = {\n",
    "        'acs2': np.mean(list(map(lambda cl: cl.r, acs2_action_set))),\n",
    "        'aacs2': np.mean(list(map(lambda cl: cl.r, aacs2_action_set))),\n",
    "        'acs2ar': np.mean(list(map(lambda cl: cl.r, acs2ar_action_set))),\n",
    "#         'q-learning': Q[find_state_id(sa.state), sa.action],\n",
    "#         'r-learning': R[find_state_id(sa.state), sa.action]\n",
    "    }"
   ]
  },
  {
   "cell_type": "markdown",
   "metadata": {},
   "source": [
    "## Plot results"
   ]
  },
  {
   "cell_type": "code",
   "execution_count": 21,
   "metadata": {},
   "outputs": [
    {
     "data": {
      "image/png": "[encoded data removed]",
      "text/plain": [
       "<Figure size 1080x720 with 1 Axes>"
      ]
     },
     "metadata": {
      "needs_background": "light"
     },
     "output_type": "display_data"
    }
   ],
   "source": [
    "fig, ax = plt.subplots(figsize=(15, 10))\n",
    "\n",
    "x = range(1, len(payoffs)+1)\n",
    "y_acs2 = sorted([v['acs2'] for k, v in payoffs.items()])\n",
    "y_aacs2 = sorted([v['aacs2'] for k, v in payoffs.items()])\n",
    "y_acs2ar = sorted([v['acs2ar'] for k, v in payoffs.items()])\n",
    "# y_qlearning = sorted([v['q-learning'] for k, v in payoffs.items()])\n",
    "# y_rlearning = sorted([v['r-learning'] for k, v in payoffs.items()])\n",
    "\n",
    "# ACS2\n",
    "# plt.scatter(x, y_acs2)\n",
    "plt.plot(x, y_acs2, label='ACS2')\n",
    "\n",
    "# AACS2\n",
    "# plt.scatter(x, y_aacs2)\n",
    "plt.plot(x, y_aacs2, label='AACS2')\n",
    "\n",
    "# ACS2AR\n",
    "# plt.scatter(x, y_acs2ar)\n",
    "plt.plot(x, y_acs2ar, label='ACS2AR')\n",
    "\n",
    "# Q-learning\n",
    "# plt.scatter(x, y_qlearning)\n",
    "# plt.plot(x, y_qlearning, label='Q-learning')\n",
    "\n",
    "# R-learning\n",
    "# plt.scatter(x, y_rlearning)\n",
    "# plt.plot(x, y_rlearning, label='R-learning')\n",
    "\n",
    "ax.xaxis.set_major_locator(MultipleLocator(1000)) \n",
    "ax.xaxis.set_major_formatter(FormatStrFormatter('%1.0f')) \n",
    "\n",
    "ax.set_xlabel(\"State-action pairs\")\n",
    "ax.set_ylabel(\"Payoff value\")\n",
    "ax.set_title(\"Payoff Landscape (Grid)\")\n",
    "\n",
    "ax.legend(loc='lower right')\n",
    "\n",
    "plt.show()"
   ]
  }
 ],
 "metadata": {
  "kernelspec": {
   "display_name": "Python 3",
   "language": "python",
   "name": "python3"
  },
  "language_info": {
   "codemirror_mode": {
    "name": "ipython",
    "version": 3
   },
   "file_extension": ".py",
   "mimetype": "text/x-python",
   "name": "python",
   "nbconvert_exporter": "python",
   "pygments_lexer": "ipython3",
   "version": "3.7.6"
  }
 },
 "nbformat": 4,
 "nbformat_minor": 4
}
