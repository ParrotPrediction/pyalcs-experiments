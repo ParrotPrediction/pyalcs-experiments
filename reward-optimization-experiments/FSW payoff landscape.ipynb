{
 "cells": [
  {
   "cell_type": "markdown",
   "metadata": {},
   "source": [
    "# FSW Payoff landscape"
   ]
  },
  {
   "cell_type": "code",
   "execution_count": 1,
   "metadata": {},
   "outputs": [],
   "source": [
    "import gym\n",
    "\n",
    "import numpy as np\n",
    "import pandas as pd\n",
    "import matplotlib.pyplot as plt\n",
    "\n",
    "from matplotlib.ticker import (MultipleLocator, \n",
    "                               FormatStrFormatter, \n",
    "                               AutoMinorLocator) \n",
    "\n",
    "from lcs import Perception\n",
    "from lcs.agents import EnvironmentAdapter\n",
    "from lcs.metrics import population_metrics\n",
    "\n",
    "import lcs.agents.acs2 as acs2\n",
    "import lcs.agents.aacs2 as aacs2\n",
    "import lcs.agents.acs2ar as acs2ar\n",
    "\n",
    "import random\n",
    "from collections import namedtuple\n",
    "\n",
    "# Logger\n",
    "import logging\n",
    "logging.basicConfig(level=logging.INFO)"
   ]
  },
  {
   "cell_type": "code",
   "execution_count": 2,
   "metadata": {},
   "outputs": [],
   "source": [
    "import gym_fsw\n",
    "fsw5 = gym.make('fsw-5-v0')\n",
    "fsw10 = gym.make('fsw-10-v0')\n",
    "\n",
    "class FSWAdapter(EnvironmentAdapter):\n",
    "    @staticmethod\n",
    "    def to_genotype(phenotype):\n",
    "        return phenotype,"
   ]
  },
  {
   "cell_type": "code",
   "execution_count": 3,
   "metadata": {},
   "outputs": [
    {
     "data": {
      "text/plain": [
       "{'0': [0, 1],\n",
       " '1': [0, 1],\n",
       " '2': [0, 1],\n",
       " '3': [0, 1],\n",
       " '4': [0, 1],\n",
       " '5': [0, 1],\n",
       " '6': [0, 1],\n",
       " '7': [0, 1],\n",
       " '8': [0, 1],\n",
       " '9': [0, 1],\n",
       " '10': []}"
      ]
     },
     "execution_count": 3,
     "metadata": {},
     "output_type": "execute_result"
    }
   ],
   "source": [
    "# SET THE ENVIRONMENT\n",
    "env = fsw5\n",
    "\n",
    "state_to_actions = env._state_action()\n",
    "state_to_actions"
   ]
  },
  {
   "cell_type": "code",
   "execution_count": 4,
   "metadata": {},
   "outputs": [
    {
     "data": {
      "text/plain": [
       "[StateAction(id=1, state='0', action=0),\n",
       " StateAction(id=2, state='0', action=1),\n",
       " StateAction(id=3, state='1', action=0),\n",
       " StateAction(id=4, state='1', action=1),\n",
       " StateAction(id=5, state='2', action=0),\n",
       " StateAction(id=6, state='2', action=1),\n",
       " StateAction(id=7, state='3', action=0),\n",
       " StateAction(id=8, state='3', action=1),\n",
       " StateAction(id=9, state='4', action=0),\n",
       " StateAction(id=10, state='4', action=1),\n",
       " StateAction(id=11, state='5', action=0),\n",
       " StateAction(id=12, state='5', action=1),\n",
       " StateAction(id=13, state='6', action=0),\n",
       " StateAction(id=14, state='6', action=1),\n",
       " StateAction(id=15, state='7', action=0),\n",
       " StateAction(id=16, state='7', action=1),\n",
       " StateAction(id=17, state='8', action=0),\n",
       " StateAction(id=18, state='8', action=1),\n",
       " StateAction(id=19, state='9', action=0),\n",
       " StateAction(id=20, state='9', action=1)]"
      ]
     },
     "execution_count": 4,
     "metadata": {},
     "output_type": "execute_result"
    }
   ],
   "source": [
    "StateAction = namedtuple('StateAction', 'id state action')\n",
    "\n",
    "state_action = []\n",
    "\n",
    "idx = 1\n",
    "for state, actions in state_to_actions.items():\n",
    "    if len(actions) > 0:\n",
    "        for action in actions:\n",
    "            state_action.append(StateAction(idx, state, action))\n",
    "            idx += 1\n",
    "            \n",
    "state_action"
   ]
  },
  {
   "cell_type": "markdown",
   "metadata": {},
   "source": [
    "## Agent estimations"
   ]
  },
  {
   "cell_type": "code",
   "execution_count": 5,
   "metadata": {},
   "outputs": [],
   "source": [
    "learning_rate = 0.1\n",
    "discount_factor = 0.95\n",
    "epsilon = 0.1\n",
    "zeta = 0.0001"
   ]
  },
  {
   "cell_type": "code",
   "execution_count": 6,
   "metadata": {},
   "outputs": [
    {
     "name": "stderr",
     "output_type": "stream",
     "text": [
      "INFO:lcs.agents.Agent:{'trial': 0, 'steps_in_trial': 8, 'reward': 100}\n",
      "INFO:lcs.agents.Agent:{'trial': 250, 'steps_in_trial': 6, 'reward': 100}\n",
      "INFO:lcs.agents.Agent:{'trial': 500, 'steps_in_trial': 6, 'reward': 100}\n",
      "INFO:lcs.agents.Agent:{'trial': 750, 'steps_in_trial': 7, 'reward': 100}\n",
      "INFO:lcs.agents.Agent:{'trial': 1000, 'steps_in_trial': 6, 'reward': 100}\n",
      "INFO:lcs.agents.Agent:{'trial': 1250, 'steps_in_trial': 8, 'reward': 100}\n",
      "INFO:lcs.agents.Agent:{'trial': 1500, 'steps_in_trial': 9, 'reward': 100}\n",
      "INFO:lcs.agents.Agent:{'trial': 1750, 'steps_in_trial': 7, 'reward': 100}\n",
      "INFO:lcs.agents.Agent:{'trial': 2000, 'steps_in_trial': 6, 'reward': 100}\n",
      "INFO:lcs.agents.Agent:{'trial': 2250, 'steps_in_trial': 6, 'reward': 100}\n"
     ]
    },
    {
     "name": "stdout",
     "output_type": "stream",
     "text": [
      "CPU times: user 3 s, sys: 37.5 ms, total: 3.04 s\n",
      "Wall time: 3.58 s\n"
     ]
    }
   ],
   "source": [
    "%%time\n",
    "\n",
    "acs2_cfg = acs2.Configuration(1, 2,\n",
    "                         do_ga=False,\n",
    "                         beta=learning_rate,\n",
    "                         epsilon=1-epsilon,\n",
    "                         gamma=discount_factor,\n",
    "                         environment_adapter=FSWAdapter,\n",
    "                         biased_exploration_prob=0.8)\n",
    "\n",
    "\n",
    "acs2_agent = acs2.ACS2(acs2_cfg)\n",
    "acs2_population, _ = acs2_agent.explore(env, 2500)"
   ]
  },
  {
   "cell_type": "code",
   "execution_count": 7,
   "metadata": {},
   "outputs": [
    {
     "name": "stderr",
     "output_type": "stream",
     "text": [
      "INFO:lcs.agents.Agent:{'trial': 0, 'steps_in_trial': 7, 'reward': 100}\n",
      "INFO:lcs.agents.Agent:{'trial': 500, 'steps_in_trial': 7, 'reward': 100}\n",
      "INFO:lcs.agents.Agent:{'trial': 1000, 'steps_in_trial': 5, 'reward': 100}\n",
      "INFO:lcs.agents.Agent:{'trial': 1500, 'steps_in_trial': 8, 'reward': 100}\n",
      "INFO:lcs.agents.Agent:{'trial': 2000, 'steps_in_trial': 6, 'reward': 100}\n",
      "INFO:lcs.agents.Agent:{'trial': 2500, 'steps_in_trial': 7, 'reward': 100}\n",
      "INFO:lcs.agents.Agent:{'trial': 3000, 'steps_in_trial': 6, 'reward': 100}\n",
      "INFO:lcs.agents.Agent:{'trial': 3500, 'steps_in_trial': 7, 'reward': 100}\n",
      "INFO:lcs.agents.Agent:{'trial': 4000, 'steps_in_trial': 6, 'reward': 100}\n",
      "INFO:lcs.agents.Agent:{'trial': 4500, 'steps_in_trial': 6, 'reward': 100}\n"
     ]
    },
    {
     "name": "stdout",
     "output_type": "stream",
     "text": [
      "CPU times: user 3.99 s, sys: 35.7 ms, total: 4.03 s\n",
      "Wall time: 4.59 s\n"
     ]
    }
   ],
   "source": [
    "%%time\n",
    "\n",
    "aacs2_cfg = aacs2.Configuration(1, 2,\n",
    "                         do_ga=False,\n",
    "                         beta=learning_rate,\n",
    "                         epsilon=1-epsilon,\n",
    "                         gamma=discount_factor,\n",
    "                         environment_adapter=FSWAdapter,\n",
    "                         biased_exploration_prob=0.8)\n",
    "\n",
    "\n",
    "aacs2_agent = aacs2.AACS2(aacs2_cfg)\n",
    "aacs2_population, _ = aacs2_agent.explore_exploit(env, 5000)"
   ]
  },
  {
   "cell_type": "code",
   "execution_count": 8,
   "metadata": {},
   "outputs": [
    {
     "name": "stderr",
     "output_type": "stream",
     "text": [
      "INFO:lcs.agents.Agent:{'trial': 0, 'steps_in_trial': 8, 'reward': 100}\n",
      "INFO:lcs.agents.Agent:{'trial': 500, 'steps_in_trial': 9, 'reward': 100}\n",
      "INFO:lcs.agents.Agent:{'trial': 1000, 'steps_in_trial': 6, 'reward': 100}\n",
      "INFO:lcs.agents.Agent:{'trial': 1500, 'steps_in_trial': 7, 'reward': 100}\n",
      "INFO:lcs.agents.Agent:{'trial': 2000, 'steps_in_trial': 5, 'reward': 100}\n",
      "INFO:lcs.agents.Agent:{'trial': 2500, 'steps_in_trial': 8, 'reward': 100}\n",
      "INFO:lcs.agents.Agent:{'trial': 3000, 'steps_in_trial': 7, 'reward': 100}\n",
      "INFO:lcs.agents.Agent:{'trial': 3500, 'steps_in_trial': 6, 'reward': 100}\n",
      "INFO:lcs.agents.Agent:{'trial': 4000, 'steps_in_trial': 7, 'reward': 100}\n",
      "INFO:lcs.agents.Agent:{'trial': 4500, 'steps_in_trial': 9, 'reward': 100}\n"
     ]
    },
    {
     "name": "stdout",
     "output_type": "stream",
     "text": [
      "CPU times: user 4.14 s, sys: 24.1 ms, total: 4.16 s\n",
      "Wall time: 4.39 s\n"
     ]
    }
   ],
   "source": [
    "%%time\n",
    "\n",
    "acs2ar_cfg = acs2ar.Configuration(1, 2,\n",
    "                         do_ga=False,\n",
    "                         beta=learning_rate,\n",
    "                         epsilon=1-epsilon,\n",
    "                         gamma=discount_factor,\n",
    "                         zeta=zeta,\n",
    "                         environment_adapter=FSWAdapter,\n",
    "                         biased_exploration_prob=0.8)\n",
    "\n",
    "\n",
    "acs2ar_agent = acs2ar.ACS2AR(acs2ar_cfg)\n",
    "acs2ar_population, _ = acs2ar_agent.explore_exploit(env, 5000)"
   ]
  },
  {
   "cell_type": "code",
   "execution_count": 9,
   "metadata": {},
   "outputs": [
    {
     "name": "stdout",
     "output_type": "stream",
     "text": [
      "CPU times: user 904 ms, sys: 7.91 ms, total: 912 ms\n",
      "Wall time: 975 ms\n"
     ]
    },
    {
     "data": {
      "text/plain": [
       "array([[ 81.450625  ,  77.37809375],\n",
       "       [ 81.450625  ,  85.7375    ],\n",
       "       [ 90.25      ,  85.7375    ],\n",
       "       [ 90.25      ,  95.        ],\n",
       "       [100.        ,  95.        ],\n",
       "       [ 81.450625  ,  76.14294404],\n",
       "       [ 85.7375    ,  80.19792991],\n",
       "       [ 82.99922468,  90.25      ],\n",
       "       [ 95.        ,  93.97018627],\n",
       "       [100.        ,  97.4968445 ],\n",
       "       [  0.        ,   0.        ]])"
      ]
     },
     "execution_count": 9,
     "metadata": {},
     "output_type": "execute_result"
    }
   ],
   "source": [
    "%%time\n",
    "\n",
    "# q-learning\n",
    "\n",
    "Q = np.zeros((env.observation_space.n, env.action_space.n))\n",
    "episodes = 10000\n",
    "\n",
    "for i in range(1, episodes):\n",
    "    state = int(env.reset())\n",
    "    done = False\n",
    "    \n",
    "    while not done:\n",
    "        if random.uniform(0, 1) < epsilon:\n",
    "            action = env.action_space.sample()\n",
    "        else:\n",
    "            action = np.argmax(Q[state, :])\n",
    "            \n",
    "        next_state, reward, done, info = env.step(action)\n",
    "        next_state = int(next_state)\n",
    "                \n",
    "        Q[state, action] = Q[state, action] + learning_rate * (reward + discount_factor * np.max(Q[next_state, :]) - Q[state, action])\n",
    "        \n",
    "        state = next_state\n",
    "\n",
    "Q"
   ]
  },
  {
   "cell_type": "markdown",
   "metadata": {},
   "source": [
    "Because R-Learning is unstable it will be performed multiple times and then averaged"
   ]
  },
  {
   "cell_type": "code",
   "execution_count": 10,
   "metadata": {},
   "outputs": [
    {
     "name": "stdout",
     "output_type": "stream",
     "text": [
      "CPU times: user 7 µs, sys: 2 µs, total: 9 µs\n",
      "Wall time: 11.9 µs\n"
     ]
    }
   ],
   "source": [
    "%%time\n",
    "\n",
    "learning_rate = 0.1\n",
    "\n",
    "def rlearning(env, episodes=5000):\n",
    "    R = np.zeros((env.observation_space.n, env.action_space.n))\n",
    "    rho = 0\n",
    "\n",
    "    for i in range(1, episodes):\n",
    "        state = int(env.reset())\n",
    "        was_greedy = False\n",
    "        done = False\n",
    "\n",
    "        while not done:\n",
    "            if random.uniform(0, 1) < epsilon:\n",
    "                action = env.action_space.sample()\n",
    "            else:\n",
    "                action = np.argmax(R[state, :])\n",
    "                was_greedy = True\n",
    "\n",
    "            next_state, reward, done, info = env.step(action)\n",
    "            next_state = int(next_state)\n",
    "\n",
    "            R[state, action] = R[state, action] + learning_rate * (reward - rho + np.max(R[next_state, :]) - R[state, action])\n",
    "\n",
    "            if was_greedy:\n",
    "                rho = rho + zeta * (reward + np.max(R[next_state, :]) - np.max(R[state, :]) - rho)\n",
    "\n",
    "            state = next_state \n",
    "    \n",
    "    return R, rho\n",
    "\n",
    "def avg(matrices):\n",
    "    X = sum(matrices)\n",
    "    X /= len(matrices)\n",
    "    return X"
   ]
  },
  {
   "cell_type": "code",
   "execution_count": 11,
   "metadata": {},
   "outputs": [
    {
     "name": "stdout",
     "output_type": "stream",
     "text": [
      "Performing experiment 0\n",
      "Performing experiment 1\n",
      "Performing experiment 2\n",
      "Performing experiment 3\n",
      "Performing experiment 4\n",
      "Performing experiment 5\n",
      "Performing experiment 6\n",
      "Performing experiment 7\n",
      "Performing experiment 8\n",
      "Performing experiment 9\n",
      "\n",
      "Rho: 0.46577239448264296\n",
      "\n",
      "[[97.66969778 97.1846847 ]\n",
      " [97.65323888 98.13596171]\n",
      " [98.60213381 98.1245523 ]\n",
      " [98.5933887  99.06818952]\n",
      " [99.53414232 99.06268541]\n",
      " [88.99201234 78.411179  ]\n",
      " [95.15675941 78.5972477 ]\n",
      " [80.90418418 89.4167193 ]\n",
      " [99.06455203 70.15482108]\n",
      " [99.53231545 71.87126625]\n",
      " [ 0.          0.        ]]\n"
     ]
    }
   ],
   "source": [
    "# perform r-learning\n",
    "experiments = 10\n",
    "Rs = []\n",
    "rhos = []\n",
    "\n",
    "for i in range(0, experiments):\n",
    "    print(f\"Performing experiment {i}\")\n",
    "    R, rho = rlearning(env)\n",
    "    \n",
    "    Rs.append(R)\n",
    "    rhos.append(rho)\n",
    "    \n",
    "R = avg(Rs)\n",
    "rho = np.mean(rhos)\n",
    "\n",
    "print(f\"\\nRho: {rho}\\n\")\n",
    "print(R)"
   ]
  },
  {
   "cell_type": "markdown",
   "metadata": {},
   "source": [
    "## PAYOFF LANDSCAPE"
   ]
  },
  {
   "cell_type": "markdown",
   "metadata": {},
   "source": [
    "For each state-action determine the reward reward"
   ]
  },
  {
   "cell_type": "code",
   "execution_count": 12,
   "metadata": {},
   "outputs": [],
   "source": [
    "payoffs = {}\n",
    "\n",
    "for sa in state_action:\n",
    "    p = Perception((sa.state,))\n",
    "    \n",
    "    # ACS2\n",
    "    acs2_match_set = acs2_population.form_match_set(p)\n",
    "    acs2_action_set = acs2_match_set.form_action_set(sa.action)\n",
    "    \n",
    "    # AACS2\n",
    "    aacs2_match_set = aacs2_population.form_match_set(p)\n",
    "    aacs2_action_set = aacs2_match_set.form_action_set(sa.action)\n",
    "    \n",
    "    # ACS2AR\n",
    "    acs2ar_match_set = acs2ar_population.form_match_set(p)\n",
    "    acs2ar_action_set = acs2ar_match_set.form_action_set(sa.action)\n",
    "    \n",
    "    payoffs[sa] = {\n",
    "        'acs2': np.mean(list(map(lambda cl: cl.r, acs2_action_set))),\n",
    "        'aacs2': np.mean(list(map(lambda cl: cl.r, aacs2_action_set))),\n",
    "        'acs2ar': np.mean(list(map(lambda cl: cl.r, acs2ar_action_set))),\n",
    "        'q-learning': Q[int(sa.state), sa.action],\n",
    "        'r-learning': R[int(sa.state), sa.action]\n",
    "    }"
   ]
  },
  {
   "cell_type": "markdown",
   "metadata": {},
   "source": [
    "## Plot results"
   ]
  },
  {
   "cell_type": "code",
   "execution_count": 13,
   "metadata": {},
   "outputs": [
    {
     "data": {
      "image/png": "[encoded data removed]",
      "text/plain": [
       "<Figure size 1080x720 with 1 Axes>"
      ]
     },
     "metadata": {
      "needs_background": "light"
     },
     "output_type": "display_data"
    }
   ],
   "source": [
    "fig, ax = plt.subplots(figsize=(15, 10))\n",
    "\n",
    "x = range(1, len(payoffs)+1)\n",
    "y_acs2 = sorted([v['acs2'] for k, v in payoffs.items()])\n",
    "y_aacs2 = sorted([v['aacs2'] for k, v in payoffs.items()])\n",
    "y_acs2ar = sorted([v['acs2ar'] for k, v in payoffs.items()])\n",
    "y_qlearning = sorted([v['q-learning'] for k, v in payoffs.items()])\n",
    "y_rlearning = sorted([v['r-learning'] for k, v in payoffs.items()])\n",
    "\n",
    "# ACS2\n",
    "plt.scatter(x, y_acs2)\n",
    "plt.plot(x, y_acs2, label='ACS2')\n",
    "\n",
    "# AACS2\n",
    "plt.scatter(x, y_aacs2)\n",
    "plt.plot(x, y_aacs2, label='AACS2')\n",
    "\n",
    "# ACS2AR\n",
    "plt.scatter(x, y_acs2ar)\n",
    "plt.plot(x, y_acs2ar, label='ACS2AR')\n",
    "\n",
    "# Q-learning\n",
    "plt.scatter(x, y_qlearning)\n",
    "plt.plot(x, y_qlearning, label='Q-learning')\n",
    "\n",
    "# R-learning\n",
    "plt.scatter(x, y_rlearning)\n",
    "plt.plot(x, y_rlearning, label='R-learning')\n",
    "\n",
    "ax.xaxis.set_major_locator(MultipleLocator(1)) \n",
    "ax.xaxis.set_major_formatter(FormatStrFormatter('%1.0f')) \n",
    "\n",
    "ax.set_xlabel(\"State-action pairs\")\n",
    "ax.set_ylabel(\"Payoff value\")\n",
    "ax.set_title(\"Payoff Landscape (FSW)\")\n",
    "\n",
    "ax.legend(loc='lower right')\n",
    "\n",
    "plt.show()"
   ]
  }
 ],
 "metadata": {
  "kernelspec": {
   "display_name": "Python 3",
   "language": "python",
   "name": "python3"
  },
  "language_info": {
   "codemirror_mode": {
    "name": "ipython",
    "version": 3
   },
   "file_extension": ".py",
   "mimetype": "text/x-python",
   "name": "python",
   "nbconvert_exporter": "python",
   "pygments_lexer": "ipython3",
   "version": "3.7.6"
  }
 },
 "nbformat": 4,
 "nbformat_minor": 4
}
