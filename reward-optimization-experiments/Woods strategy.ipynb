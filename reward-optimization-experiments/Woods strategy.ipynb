{
 "cells": [
  {
   "cell_type": "markdown",
   "metadata": {},
   "source": [
    "# Woods strategy"
   ]
  },
  {
   "cell_type": "code",
   "execution_count": 1,
   "metadata": {},
   "outputs": [],
   "source": [
    "import gym\n",
    "\n",
    "import numpy as np\n",
    "import pandas as pd\n",
    "import matplotlib.pyplot as plt\n",
    "\n",
    "from matplotlib.ticker import (MultipleLocator, \n",
    "                               FormatStrFormatter, \n",
    "                               AutoMinorLocator) \n",
    "\n",
    "from lcs import Perception\n",
    "from lcs.agents import EnvironmentAdapter\n",
    "from lcs.metrics import population_metrics\n",
    "\n",
    "import lcs.agents.acs2 as acs2\n",
    "import lcs.agents.aacs2 as aacs2\n",
    "import lcs.agents.acs2ar as acs2ar\n",
    "\n",
    "import random\n",
    "from collections import namedtuple\n",
    "\n",
    "# Logger\n",
    "import logging\n",
    "logging.basicConfig(level=logging.INFO)\n",
    "\n",
    "import gym_woods\n",
    "woods1 = gym.make('Woods1-v0')\n",
    "woods2 = gym.make('Woods2-v0')\n",
    "woods14 = gym.make('Woods14-v0')"
   ]
  },
  {
   "cell_type": "code",
   "execution_count": 2,
   "metadata": {},
   "outputs": [],
   "source": [
    "class WoodsAdapter(EnvironmentAdapter):\n",
    "\n",
    "    @classmethod\n",
    "    def to_genotype(cls, phenotype):\n",
    "        result = []\n",
    "        for el in phenotype:\n",
    "            if el == 'F':\n",
    "                result.extend(['1', '1', '0'])\n",
    "            if el == 'G':\n",
    "                result.extend(['1', '1', '1'])\n",
    "            if el == 'O':\n",
    "                result.extend(['0', '1', '0'])\n",
    "            if el == 'Q':\n",
    "                result.extend(['0', '1', '1'])\n",
    "            if el == '.':\n",
    "                result.extend(['0', '0', '0'])\n",
    "\n",
    "        return result"
   ]
  },
  {
   "cell_type": "code",
   "execution_count": 3,
   "metadata": {},
   "outputs": [],
   "source": [
    "def common_metrics(agent, env):\n",
    "    pop = agent.get_population()\n",
    "\n",
    "    metrics = {\n",
    "        'agent': agent.__class__.__name__,\n",
    "        'reliable': len([cl for cl in pop if cl.is_reliable()]),\n",
    "    }\n",
    "\n",
    "    if hasattr(agent, 'rho'):\n",
    "        metrics['rho'] = agent.rho\n",
    "    else:\n",
    "        metrics['rho'] = 0\n",
    "\n",
    "    metrics.update(population_metrics(pop, env))\n",
    "    return metrics"
   ]
  },
  {
   "cell_type": "code",
   "execution_count": 4,
   "metadata": {},
   "outputs": [],
   "source": [
    "def parse_metrics(metrics):\n",
    "    idx = [d['agent'] for d in metrics]\n",
    "\n",
    "    data = [[\n",
    "        d['trial'],\n",
    "        d['steps_in_trial'],\n",
    "        d['rho'],\n",
    "        d['population'],\n",
    "        d['reliable']] for d in metrics]\n",
    "\n",
    "    df = pd.DataFrame(\n",
    "        data,\n",
    "        columns=['trial', 'steps_in_trial', 'rho', 'population', 'reliable'],\n",
    "        index=idx\n",
    "    )\n",
    "\n",
    "    df['phase'] = df.trial.map(\n",
    "        lambda t: \"explore\" if t % 2 == 0 else \"exploit\")\n",
    "    \n",
    "    return df"
   ]
  },
  {
   "cell_type": "markdown",
   "metadata": {},
   "source": [
    "Train the ACS2 agent"
   ]
  },
  {
   "cell_type": "code",
   "execution_count": 5,
   "metadata": {},
   "outputs": [
    {
     "name": "stdout",
     "output_type": "stream",
     "text": [
      "\n",
      "\u001b[37m□\u001b[0m \u001b[37m□\u001b[0m \u001b[37m□\u001b[0m \u001b[37m□\u001b[0m \u001b[37m□\u001b[0m\n",
      "\u001b[37m□\u001b[0m \u001b[30m■\u001b[0m \u001b[30m■\u001b[0m \u001b[33m$\u001b[0m \u001b[37m□\u001b[0m\n",
      "\u001b[37m□\u001b[0m \u001b[30m■\u001b[0m \u001b[30m■\u001b[0m \u001b[30m■\u001b[0m \u001b[37m□\u001b[0m\n",
      "\u001b[37m□\u001b[0m \u001b[30m■\u001b[0m \u001b[30m■\u001b[0m \u001b[30m■\u001b[0m \u001b[37m□\u001b[0m\n",
      "\u001b[37m□\u001b[0m \u001b[37m□\u001b[0m \u001b[36mX\u001b[0m \u001b[37m□\u001b[0m \u001b[37m□\u001b[0m\n"
     ]
    }
   ],
   "source": [
    "env = woods1\n",
    "\n",
    "env.reset()\n",
    "env.render()"
   ]
  },
  {
   "cell_type": "code",
   "execution_count": 6,
   "metadata": {},
   "outputs": [
    {
     "data": {
      "text/plain": [
       "{('0', '0'): [0, 1, 2, 4, 5, 6, 7],\n",
       " ('1', '0'): [0, 1, 2, 5, 6, 7],\n",
       " ('2', '0'): [0, 1, 2, 3, 6, 7],\n",
       " ('3', '0'): [0, 1, 2, 3, 4, 6, 7],\n",
       " ('4', '0'): [0, 1, 2, 3, 4, 5, 6, 7],\n",
       " ('0', '1'): [0, 1, 4, 5, 6, 7],\n",
       " ('4', '1'): [0, 1, 2, 3, 4, 6, 7],\n",
       " ('0', '2'): [0, 4, 5, 6, 7],\n",
       " ('4', '2'): [0, 1, 2, 3, 4, 7],\n",
       " ('0', '3'): [0, 3, 4, 5, 6, 7],\n",
       " ('4', '3'): [0, 1, 2, 3, 4, 5],\n",
       " ('0', '4'): [0, 2, 3, 4, 5, 6, 7],\n",
       " ('1', '4'): [2, 3, 4, 5, 6, 7],\n",
       " ('2', '4'): [2, 3, 4, 5, 6],\n",
       " ('3', '4'): [1, 2, 3, 4, 5, 6],\n",
       " ('4', '4'): [0, 1, 2, 3, 4, 5, 6]}"
      ]
     },
     "execution_count": 6,
     "metadata": {},
     "output_type": "execute_result"
    }
   ],
   "source": [
    "state_to_actions = env.env._state_action()\n",
    "state_to_actions"
   ]
  },
  {
   "cell_type": "code",
   "execution_count": 7,
   "metadata": {},
   "outputs": [
    {
     "data": {
      "text/plain": [
       "[PerceptionAction(id=1, perception=['.', '.', '.', 'O', '.', '.', '.', '.'], action=0),\n",
       " PerceptionAction(id=2, perception=['.', '.', '.', 'O', '.', '.', '.', '.'], action=1),\n",
       " PerceptionAction(id=3, perception=['.', '.', '.', 'O', '.', '.', '.', '.'], action=2),\n",
       " PerceptionAction(id=4, perception=['.', '.', '.', 'O', '.', '.', '.', '.'], action=4),\n",
       " PerceptionAction(id=5, perception=['.', '.', '.', 'O', '.', '.', '.', '.'], action=5),\n",
       " PerceptionAction(id=6, perception=['.', '.', '.', 'O', '.', '.', '.', '.'], action=6),\n",
       " PerceptionAction(id=7, perception=['.', '.', '.', 'O', '.', '.', '.', '.'], action=7),\n",
       " PerceptionAction(id=8, perception=['.', '.', '.', 'O', 'O', '.', '.', '.'], action=0),\n",
       " PerceptionAction(id=9, perception=['.', '.', '.', 'O', 'O', '.', '.', '.'], action=1),\n",
       " PerceptionAction(id=10, perception=['.', '.', '.', 'O', 'O', '.', '.', '.'], action=2)]"
      ]
     },
     "execution_count": 7,
     "metadata": {},
     "output_type": "execute_result"
    }
   ],
   "source": [
    "PerceptionAction = namedtuple('PerceptionAction', 'id perception action')\n",
    "\n",
    "state_action = []\n",
    "\n",
    "idx = 1\n",
    "for state, actions in state_to_actions.items():\n",
    "    if len(actions) > 0:\n",
    "        for action in actions:\n",
    "            perception = env.env._perception(int(state[0]), int(state[1]))\n",
    "            state_action.append(PerceptionAction(idx, perception, action))\n",
    "            idx += 1\n",
    "        \n",
    "# print first few records        \n",
    "state_action[:10]"
   ]
  },
  {
   "cell_type": "code",
   "execution_count": 8,
   "metadata": {},
   "outputs": [
    {
     "data": {
      "text/plain": [
       "{0: ['.', '.', '.', 'O', '.', '.', '.', '.'],\n",
       " 1: ['.', '.', '.', 'O', 'O', '.', '.', '.'],\n",
       " 2: ['.', '.', '.', 'F', 'O', 'O', '.', '.'],\n",
       " 3: ['.', '.', '.', '.', 'F', 'O', '.', '.'],\n",
       " 4: ['.', '.', '.', '.', '.', 'F', '.', '.'],\n",
       " 5: ['.', '.', 'O', 'O', '.', '.', '.', '.'],\n",
       " 6: ['.', '.', '.', '.', '.', 'O', 'F', '.'],\n",
       " 7: ['.', 'O', 'O', 'O', '.', '.', '.', '.'],\n",
       " 8: ['.', '.', '.', '.', '.', 'O', 'O', 'F'],\n",
       " 9: ['.', 'O', 'O', '.', '.', '.', '.', '.'],\n",
       " 10: ['.', '.', '.', '.', '.', '.', 'O', 'O'],\n",
       " 11: ['.', 'O', '.', '.', '.', '.', '.', '.'],\n",
       " 12: ['O', 'O', '.', '.', '.', '.', '.', '.'],\n",
       " 13: ['O', 'O', '.', '.', '.', '.', '.', 'O'],\n",
       " 14: ['O', '.', '.', '.', '.', '.', '.', 'O'],\n",
       " 15: ['.', '.', '.', '.', '.', '.', '.', 'O']}"
      ]
     },
     "execution_count": 8,
     "metadata": {},
     "output_type": "execute_result"
    }
   ],
   "source": [
    "# create a dict id > perception (for q-learning)\n",
    "\n",
    "sp = {idx: env.env._perception(int(i[0][0]), int(i[0][1])) for idx, i in enumerate(state_to_actions.items())}\n",
    "sp"
   ]
  },
  {
   "cell_type": "code",
   "execution_count": 9,
   "metadata": {},
   "outputs": [],
   "source": [
    "def find_obs_id(p):\n",
    "    for idx, perception in sp.items():\n",
    "        if perception == p:\n",
    "            return idx\n",
    "    \n",
    "    return None\n",
    "\n",
    "# p = env.env._perception(0, 2)\n",
    "# find_id(p)"
   ]
  },
  {
   "cell_type": "markdown",
   "metadata": {},
   "source": [
    "## Experiments"
   ]
  },
  {
   "cell_type": "code",
   "execution_count": 10,
   "metadata": {},
   "outputs": [],
   "source": [
    "learning_rate = 0.8\n",
    "discount_factor = 0.95\n",
    "epsilon = 0.1\n",
    "zeta = 0.0001"
   ]
  },
  {
   "cell_type": "code",
   "execution_count": 11,
   "metadata": {},
   "outputs": [
    {
     "name": "stderr",
     "output_type": "stream",
     "text": [
      "INFO:lcs.agents.Agent:{'trial': 0, 'steps_in_trial': 50, 'reward': 0, 'agent': 'ACS2', 'reliable': 2, 'rho': 0, 'population': 28, 'numerosity': 28}\n",
      "INFO:lcs.agents.Agent:{'trial': 100, 'steps_in_trial': 16, 'reward': 1000, 'agent': 'ACS2', 'reliable': 248, 'rho': 0, 'population': 304, 'numerosity': 697}\n",
      "INFO:lcs.agents.Agent:{'trial': 200, 'steps_in_trial': 10, 'reward': 1000, 'agent': 'ACS2', 'reliable': 332, 'rho': 0, 'population': 359, 'numerosity': 1256}\n",
      "INFO:lcs.agents.Agent:{'trial': 300, 'steps_in_trial': 8, 'reward': 1000, 'agent': 'ACS2', 'reliable': 320, 'rho': 0, 'population': 340, 'numerosity': 1615}\n",
      "INFO:lcs.agents.Agent:{'trial': 400, 'steps_in_trial': 6, 'reward': 1000, 'agent': 'ACS2', 'reliable': 281, 'rho': 0, 'population': 295, 'numerosity': 1728}\n",
      "INFO:lcs.agents.Agent:{'trial': 500, 'steps_in_trial': 17, 'reward': 1000, 'agent': 'ACS2', 'reliable': 256, 'rho': 0, 'population': 266, 'numerosity': 1815}\n",
      "INFO:lcs.agents.Agent:{'trial': 600, 'steps_in_trial': 20, 'reward': 1000, 'agent': 'ACS2', 'reliable': 209, 'rho': 0, 'population': 225, 'numerosity': 1845}\n",
      "INFO:lcs.agents.Agent:{'trial': 700, 'steps_in_trial': 20, 'reward': 1000, 'agent': 'ACS2', 'reliable': 197, 'rho': 0, 'population': 210, 'numerosity': 1858}\n",
      "INFO:lcs.agents.Agent:{'trial': 800, 'steps_in_trial': 28, 'reward': 1000, 'agent': 'ACS2', 'reliable': 178, 'rho': 0, 'population': 187, 'numerosity': 1856}\n",
      "INFO:lcs.agents.Agent:{'trial': 900, 'steps_in_trial': 50, 'reward': 0, 'agent': 'ACS2', 'reliable': 170, 'rho': 0, 'population': 187, 'numerosity': 1867}\n"
     ]
    },
    {
     "name": "stdout",
     "output_type": "stream",
     "text": [
      "CPU times: user 30.9 s, sys: 198 ms, total: 31.1 s\n",
      "Wall time: 33.4 s\n"
     ]
    }
   ],
   "source": [
    "%%time\n",
    "\n",
    "cfg = acs2.Configuration(8, 8,\n",
    "                         do_ga=True,\n",
    "                         beta=learning_rate,\n",
    "                         gamma=discount_factor,\n",
    "                         epsilon=1-epsilon,\n",
    "                         user_metrics_collector_fcn=common_metrics,\n",
    "                         biased_exploration_prob=0.5,\n",
    "                         metrics_trial_frequency=1)\n",
    "\n",
    "\n",
    "agent = acs2.ACS2(cfg)\n",
    "acs2_population, acs2_metrics = agent.explore(env, 1_000)"
   ]
  },
  {
   "cell_type": "code",
   "execution_count": 12,
   "metadata": {},
   "outputs": [
    {
     "name": "stderr",
     "output_type": "stream",
     "text": [
      "INFO:lcs.agents.Agent:{'trial': 0, 'steps_in_trial': 1, 'reward': 1000, 'agent': 'ACS2', 'reliable': 168, 'rho': 0, 'population': 184, 'numerosity': 1889}\n",
      "INFO:lcs.agents.Agent:{'trial': 10, 'steps_in_trial': 1, 'reward': 1000, 'agent': 'ACS2', 'reliable': 168, 'rho': 0, 'population': 184, 'numerosity': 1889}\n",
      "INFO:lcs.agents.Agent:{'trial': 20, 'steps_in_trial': 3, 'reward': 1000, 'agent': 'ACS2', 'reliable': 168, 'rho': 0, 'population': 184, 'numerosity': 1889}\n",
      "INFO:lcs.agents.Agent:{'trial': 30, 'steps_in_trial': 3, 'reward': 1000, 'agent': 'ACS2', 'reliable': 168, 'rho': 0, 'population': 184, 'numerosity': 1889}\n",
      "INFO:lcs.agents.Agent:{'trial': 40, 'steps_in_trial': 4, 'reward': 1000, 'agent': 'ACS2', 'reliable': 168, 'rho': 0, 'population': 184, 'numerosity': 1889}\n",
      "INFO:lcs.agents.Agent:{'trial': 50, 'steps_in_trial': 2, 'reward': 1000, 'agent': 'ACS2', 'reliable': 168, 'rho': 0, 'population': 184, 'numerosity': 1889}\n",
      "INFO:lcs.agents.Agent:{'trial': 60, 'steps_in_trial': 3, 'reward': 1000, 'agent': 'ACS2', 'reliable': 168, 'rho': 0, 'population': 184, 'numerosity': 1889}\n",
      "INFO:lcs.agents.Agent:{'trial': 70, 'steps_in_trial': 1, 'reward': 1000, 'agent': 'ACS2', 'reliable': 168, 'rho': 0, 'population': 184, 'numerosity': 1889}\n",
      "INFO:lcs.agents.Agent:{'trial': 80, 'steps_in_trial': 4, 'reward': 1000, 'agent': 'ACS2', 'reliable': 168, 'rho': 0, 'population': 184, 'numerosity': 1889}\n",
      "INFO:lcs.agents.Agent:{'trial': 90, 'steps_in_trial': 2, 'reward': 1000, 'agent': 'ACS2', 'reliable': 168, 'rho': 0, 'population': 184, 'numerosity': 1889}\n"
     ]
    }
   ],
   "source": [
    "from copy import copy\n",
    "\n",
    "acs2_exploiter = acs2.ACS2(cfg, copy(acs2_population))\n",
    "acs2_explt_population, acs2_explt_metrics = acs2_exploiter.exploit(env, 100)"
   ]
  },
  {
   "cell_type": "code",
   "execution_count": 13,
   "metadata": {},
   "outputs": [
    {
     "name": "stderr",
     "output_type": "stream",
     "text": [
      "INFO:lcs.agents.Agent:{'trial': 0, 'steps_in_trial': 12, 'reward': 1000, 'agent': 'AACS2', 'reliable': 0, 'rho': 0, 'population': 9, 'numerosity': 9}\n",
      "INFO:lcs.agents.Agent:{'trial': 200, 'steps_in_trial': 3, 'reward': 1000, 'agent': 'AACS2', 'reliable': 276, 'rho': 6.331387693980872, 'population': 354, 'numerosity': 815}\n",
      "INFO:lcs.agents.Agent:{'trial': 400, 'steps_in_trial': 35, 'reward': 1000, 'agent': 'AACS2', 'reliable': 351, 'rho': 13.747970078134475, 'population': 393, 'numerosity': 1365}\n",
      "INFO:lcs.agents.Agent:{'trial': 600, 'steps_in_trial': 44, 'reward': 1000, 'agent': 'AACS2', 'reliable': 321, 'rho': 19.753438464902207, 'population': 341, 'numerosity': 1603}\n",
      "INFO:lcs.agents.Agent:{'trial': 800, 'steps_in_trial': 9, 'reward': 1000, 'agent': 'AACS2', 'reliable': 258, 'rho': 27.81495292578859, 'population': 279, 'numerosity': 1704}\n",
      "INFO:lcs.agents.Agent:{'trial': 1000, 'steps_in_trial': 2, 'reward': 1000, 'agent': 'AACS2', 'reliable': 218, 'rho': 36.71403596526056, 'population': 237, 'numerosity': 1755}\n",
      "INFO:lcs.agents.Agent:{'trial': 1200, 'steps_in_trial': 11, 'reward': 1000, 'agent': 'AACS2', 'reliable': 192, 'rho': 45.44047964328452, 'population': 212, 'numerosity': 1778}\n",
      "INFO:lcs.agents.Agent:{'trial': 1400, 'steps_in_trial': 21, 'reward': 1000, 'agent': 'AACS2', 'reliable': 182, 'rho': 54.2293382803722, 'population': 200, 'numerosity': 1782}\n",
      "INFO:lcs.agents.Agent:{'trial': 1600, 'steps_in_trial': 19, 'reward': 1000, 'agent': 'AACS2', 'reliable': 171, 'rho': 62.96507212273956, 'population': 182, 'numerosity': 1782}\n",
      "INFO:lcs.agents.Agent:{'trial': 1800, 'steps_in_trial': 10, 'reward': 1000, 'agent': 'AACS2', 'reliable': 170, 'rho': 71.66741726378193, 'population': 182, 'numerosity': 1795}\n"
     ]
    },
    {
     "name": "stdout",
     "output_type": "stream",
     "text": [
      "CPU times: user 32.8 s, sys: 153 ms, total: 33 s\n",
      "Wall time: 34.2 s\n"
     ]
    }
   ],
   "source": [
    "%%time\n",
    "\n",
    "# AACS2\n",
    "aacs2_cfg = aacs2.Configuration(8, 8,\n",
    "                                do_ga=True,\n",
    "                                beta=learning_rate,\n",
    "                                epsilon=1-epsilon,\n",
    "                                zeta=zeta,\n",
    "                                gamma=discount_factor,\n",
    "                                user_metrics_collector_fcn=common_metrics,\n",
    "                                biased_exploration_prob=0.2)\n",
    "\n",
    "aacs2_agent = aacs2.AACS2(aacs2_cfg)\n",
    "aacs2_population, aacs2_metrics = aacs2_agent.explore_exploit(env, 2_000) # was 200_000\n",
    "\n",
    "# worked for 200k with GA=false"
   ]
  },
  {
   "cell_type": "code",
   "execution_count": 14,
   "metadata": {},
   "outputs": [
    {
     "name": "stderr",
     "output_type": "stream",
     "text": [
      "INFO:lcs.agents.Agent:{'trial': 0, 'steps_in_trial': 50, 'reward': 0, 'agent': 'ACS2AR', 'reliable': 1, 'rho': 0.0, 'population': 33, 'numerosity': 33}\n",
      "INFO:lcs.agents.Agent:{'trial': 1500, 'steps_in_trial': 39, 'reward': 1000, 'agent': 'ACS2AR', 'reliable': 183, 'rho': 148.79258012204505, 'population': 200, 'numerosity': 1794}\n",
      "INFO:lcs.agents.Agent:{'trial': 3000, 'steps_in_trial': 6, 'reward': 1000, 'agent': 'ACS2AR', 'reliable': 159, 'rho': 264.09614445868436, 'population': 171, 'numerosity': 1840}\n",
      "INFO:lcs.agents.Agent:{'trial': 4500, 'steps_in_trial': 7, 'reward': 1000, 'agent': 'ACS2AR', 'reliable': 158, 'rho': 334.1550858186292, 'population': 173, 'numerosity': 1861}\n",
      "INFO:lcs.agents.Agent:{'trial': 6000, 'steps_in_trial': 4, 'reward': 1000, 'agent': 'ACS2AR', 'reliable': 162, 'rho': 384.644949906162, 'population': 176, 'numerosity': 1938}\n",
      "INFO:lcs.agents.Agent:{'trial': 7500, 'steps_in_trial': 24, 'reward': 1000, 'agent': 'ACS2AR', 'reliable': 156, 'rho': 421.7378675953613, 'population': 165, 'numerosity': 1950}\n",
      "INFO:lcs.agents.Agent:{'trial': 9000, 'steps_in_trial': 1, 'reward': 1000, 'agent': 'ACS2AR', 'reliable': 159, 'rho': 441.96797389137095, 'population': 167, 'numerosity': 1975}\n",
      "INFO:lcs.agents.Agent:{'trial': 10500, 'steps_in_trial': 31, 'reward': 1000, 'agent': 'ACS2AR', 'reliable': 157, 'rho': 452.50833841536866, 'population': 173, 'numerosity': 1979}\n",
      "INFO:lcs.agents.Agent:{'trial': 12000, 'steps_in_trial': 17, 'reward': 1000, 'agent': 'ACS2AR', 'reliable': 157, 'rho': 463.7891435486739, 'population': 176, 'numerosity': 1988}\n",
      "INFO:lcs.agents.Agent:{'trial': 13500, 'steps_in_trial': 29, 'reward': 1000, 'agent': 'ACS2AR', 'reliable': 158, 'rho': 465.0216682222494, 'population': 171, 'numerosity': 1996}\n"
     ]
    },
    {
     "name": "stdout",
     "output_type": "stream",
     "text": [
      "CPU times: user 2min 27s, sys: 359 ms, total: 2min 27s\n",
      "Wall time: 2min 28s\n"
     ]
    }
   ],
   "source": [
    "%%time\n",
    "# This one seems to be wrong\n",
    "\n",
    "acs2ar_cfg = acs2ar.Configuration(8, 8,\n",
    "                                  do_ga=True,\n",
    "                                  beta=learning_rate,\n",
    "                                  epsilon=1-epsilon,\n",
    "                                  gamma=discount_factor,\n",
    "                                  zeta=zeta,\n",
    "                                  biased_exploration_prob=0.2)\n",
    "\n",
    "\n",
    "acs2ar_agent = acs2ar.ACS2AR(aacs2_cfg)\n",
    "acs2ar_population, acs2ar_metrics = acs2ar_agent.explore_exploit(env, 15000)"
   ]
  },
  {
   "cell_type": "markdown",
   "metadata": {},
   "source": [
    "## Q-learning"
   ]
  },
  {
   "cell_type": "code",
   "execution_count": 15,
   "metadata": {},
   "outputs": [
    {
     "name": "stdout",
     "output_type": "stream",
     "text": [
      "CPU times: user 686 ms, sys: 24.5 ms, total: 710 ms\n",
      "Wall time: 712 ms\n"
     ]
    },
    {
     "data": {
      "text/plain": [
       "array([[ 902.497112  ,  893.4009234 ,  902.48269196,  902.49837325,\n",
       "         852.22185252,  950.        ,  949.99131172,  900.68396018],\n",
       "       [ 893.47393   ,  901.79554438,  950.        ,  899.04884   ,\n",
       "         900.68183072,  902.4970242 ,  902.44224   ,  902.5       ],\n",
       "       [ 902.4999982 ,  902.49999999,  950.        , 1000.        ,\n",
       "         949.99997784,  949.9999944 ,  902.49953792,  902.49999524],\n",
       "       [ 902.42782651,  902.49722752,  949.99915828,  949.9995136 ,\n",
       "        1000.        ,  949.99996611,  949.99717888,  902.49977239],\n",
       "       [ 902.49988448,  902.5       ,  902.49990758,  902.49999997,\n",
       "         949.99999922, 1000.        ,  949.99998054,  902.5       ],\n",
       "       [ 902.5       ,  823.08      ,  866.4       ,  899.3232    ,\n",
       "         895.28      ,  948.48      ,  942.4       ,  950.        ],\n",
       "       [ 949.99990056,  902.49999979,  902.49940343,  902.49990758,\n",
       "         949.997568  ,  949.99999984, 1000.        ,  949.94344223],\n",
       "       [ 902.47935874,  902.44224   ,  902.44224   ,  902.2112    ,\n",
       "         866.4       ,  902.49990758,  950.        ,  949.9392    ],\n",
       "       [ 949.99999999,  902.49999538,  902.5       ,  902.5       ,\n",
       "         902.5       ,  950.        ,  950.        , 1000.        ],\n",
       "       [ 902.5       ,  902.4994455 ,  902.49999423,  902.42665003,\n",
       "         893.836     ,  902.4168256 ,  902.4976896 ,  950.        ],\n",
       "       [ 950.        ,  902.4976896 ,  902.49953792,  902.42736102,\n",
       "         893.836     ,  902.42716787,  902.488448  ,  902.2112    ],\n",
       "       [ 902.5       ,  902.4168256 ,  902.42007513,  902.05587495,\n",
       "         902.4197136 ,  950.        ,  902.48884662,  902.4999963 ],\n",
       "       [ 902.41809205,  900.6840256 ,  902.41961625,  950.        ,\n",
       "         900.31245146,  902.5       ,  902.49490418,  901.056     ],\n",
       "       [ 900.49284   ,  884.23869109,  900.49284   ,  948.48      ,\n",
       "         950.        ,  902.49999907,  876.7561875 ,  891.16099   ],\n",
       "       [ 902.48613749,  902.5       ,  857.375     ,  948.48      ,\n",
       "         950.        ,  949.87085942,  875.84393357,  900.76719704],\n",
       "       [ 902.5       ,  902.430688  ,  900.68183072,  902.3230214 ,\n",
       "         950.        ,  949.7081451 ,  902.49435172,  902.33171309]])"
      ]
     },
     "execution_count": 15,
     "metadata": {},
     "output_type": "execute_result"
    }
   ],
   "source": [
    "%%time\n",
    "\n",
    "Q = np.zeros((len(sp), env.action_space.n))\n",
    "episodes = 5000\n",
    "\n",
    "for i in range(1, episodes):\n",
    "#     print(\"\\nNEW EPISODE\")\n",
    "    obs = env.reset()\n",
    "    state = find_obs_id(obs)\n",
    "    done = False\n",
    "    \n",
    "    while not done:\n",
    "        if random.uniform(0, 1) < epsilon:\n",
    "            action = env.action_space.sample()\n",
    "        else:\n",
    "            action = np.argmax(Q[state, :])\n",
    "            \n",
    "        next_obs, reward, done, info = env.step(action)\n",
    "        next_state = find_obs_id(next_obs)\n",
    "        \n",
    "        if next_state is not None:\n",
    "            discounted = np.max(Q[next_state, :])\n",
    "        else:\n",
    "            discounted = 0\n",
    "        \n",
    "        Q[state, action] = Q[state, action] + learning_rate * (reward + discount_factor * discounted - Q[state, action])\n",
    "        \n",
    "#         print(f\"{state} == ({action}) ==> {next_state} (r: {reward})\\tQ[{state}, {action}]: {Q[state, action]}\")\n",
    "        state = next_state\n",
    "\n",
    "Q"
   ]
  },
  {
   "cell_type": "code",
   "execution_count": 16,
   "metadata": {},
   "outputs": [],
   "source": [
    "# learning_rate = 0.1\n",
    "\n",
    "def rlearning(env, episodes=5000):\n",
    "    R = np.zeros((len(sp), env.action_space.n))\n",
    "    rho = 0\n",
    "\n",
    "    for i in range(1, episodes):\n",
    "        state = find_obs_id(env.reset())\n",
    "        was_greedy = False\n",
    "        done = False\n",
    "\n",
    "        while not done:\n",
    "            if random.uniform(0, 1) < epsilon:\n",
    "                action = env.action_space.sample()\n",
    "            else:\n",
    "                action = np.argmax(R[state, :])\n",
    "                was_greedy = True\n",
    "\n",
    "            next_obs, reward, done, info = env.step(action)\n",
    "            next_state = find_obs_id(next_obs)\n",
    "\n",
    "            if next_state is not None:\n",
    "                discounted = np.max(R[next_state, :])\n",
    "            else:\n",
    "                discounted = 0\n",
    "            \n",
    "            R[state, action] = R[state, action] + learning_rate * (reward - rho + discounted - R[state, action])\n",
    "\n",
    "            if was_greedy:\n",
    "                rho = rho + zeta * (reward + np.max(R[next_state, :]) - discounted - rho)\n",
    "\n",
    "            state = next_state \n",
    "    \n",
    "    return R, rho\n",
    "\n",
    "def avg(matrices):\n",
    "    X = sum(matrices)\n",
    "    X /= len(matrices)\n",
    "    return X"
   ]
  },
  {
   "cell_type": "code",
   "execution_count": 17,
   "metadata": {},
   "outputs": [
    {
     "name": "stdout",
     "output_type": "stream",
     "text": [
      "Performing experiment 0\n",
      "Performing experiment 1\n",
      "\n",
      "Rho: 532.9539378533084\n",
      "\n"
     ]
    }
   ],
   "source": [
    "# perform r-learning\n",
    "experiments = 2\n",
    "Rs = []\n",
    "rhos = []\n",
    "\n",
    "for i in range(0, experiments):\n",
    "    print(f\"Performing experiment {i}\")\n",
    "    R, rho = rlearning(env)\n",
    "    \n",
    "    Rs.append(R)\n",
    "    rhos.append(rho)\n",
    "    \n",
    "R = avg(Rs)\n",
    "rho = np.mean(rhos)\n",
    "\n",
    "print(f\"\\nRho: {rho}\\n\")\n",
    "# print(R)"
   ]
  },
  {
   "cell_type": "markdown",
   "metadata": {},
   "source": [
    "## Payoff landscape"
   ]
  },
  {
   "cell_type": "code",
   "execution_count": 18,
   "metadata": {},
   "outputs": [
    {
     "name": "stdout",
     "output_type": "stream",
     "text": [
      "WARN: No ACS2 classifiers for state: 0, action: 2\n",
      "WARN: No ACS2AR classifiers for state: 0, action: 2\n",
      "WARN: No ACS2 classifiers for state: 0, action: 4\n",
      "WARN: No AACS2 classifiers for state: 0, action: 4\n",
      "WARN: No AACS2 classifiers for state: 0, action: 5\n",
      "WARN: No ACS2 classifiers for state: 5, action: 4\n",
      "WARN: No AACS2 classifiers for state: 11, action: 0\n",
      "WARN: No ACS2AR classifiers for state: 11, action: 0\n",
      "WARN: No AACS2 classifiers for state: 11, action: 2\n",
      "WARN: No ACS2AR classifiers for state: 11, action: 3\n",
      "WARN: No AACS2 classifiers for state: 11, action: 5\n",
      "WARN: No AACS2 classifiers for state: 11, action: 6\n",
      "WARN: No AACS2 classifiers for state: 12, action: 2\n",
      "WARN: No ACS2 classifiers for state: 14, action: 6\n",
      "WARN: No AACS2 classifiers for state: 15, action: 0\n",
      "WARN: No ACS2AR classifiers for state: 15, action: 0\n",
      "WARN: No ACS2 classifiers for state: 15, action: 2\n",
      "WARN: No AACS2 classifiers for state: 15, action: 3\n",
      "WARN: No AACS2 classifiers for state: 15, action: 5\n",
      "WARN: No ACS2 classifiers for state: 15, action: 6"
     ]
    },
    {
     "name": "stderr",
     "output_type": "stream",
     "text": [
      "/Users/khozzy/miniconda/envs/pyalcs-experiments/lib/python3.7/site-packages/numpy/core/fromnumeric.py:3335: RuntimeWarning: Mean of empty slice.\n",
      "  out=out, **kwargs)\n",
      "/Users/khozzy/miniconda/envs/pyalcs-experiments/lib/python3.7/site-packages/numpy/core/_methods.py:161: RuntimeWarning: invalid value encountered in double_scalars\n",
      "  ret = ret.dtype.type(ret / rcount)\n"
     ]
    },
    {
     "name": "stdout",
     "output_type": "stream",
     "text": [
      "\n",
      "WARN: No AACS2 classifiers for state: 15, action: 6\n"
     ]
    }
   ],
   "source": [
    "payoffs = {}\n",
    "\n",
    "acs2_rewards = []\n",
    "\n",
    "for sa in state_action:\n",
    "    p = Perception(sa.perception)\n",
    "    \n",
    "    # ACS2\n",
    "    acs2_match_set = acs2_population.form_match_set(p)\n",
    "    acs2_action_set = acs2_match_set.form_action_set(sa.action)\n",
    "\n",
    "    # AACS2\n",
    "    aacs2_match_set = aacs2_population.form_match_set(p)\n",
    "    aacs2_action_set = aacs2_match_set.form_action_set(sa.action)\n",
    "    \n",
    "    # ACS2AR\n",
    "    acs2ar_match_set = acs2ar_population.form_match_set(p)\n",
    "    acs2ar_action_set = acs2ar_match_set.form_action_set(sa.action)\n",
    "    \n",
    "    for alg, action_set in zip(['ACS2', 'AACS2', 'ACS2AR'], [acs2_action_set, aacs2_action_set, acs2ar_action_set]):\n",
    "        if len(action_set) == 0:\n",
    "            print(f\"WARN: No {alg} classifiers for state: {find_obs_id(sa.perception)}, action: {sa.action}\")\n",
    "    \n",
    "    payoffs[sa.id] = {\n",
    "        'acs2': np.mean(list(map(lambda cl: cl.r, acs2_action_set))),\n",
    "        'aacs2': np.mean(list(map(lambda cl: cl.r, aacs2_action_set))),\n",
    "        'acs2ar': np.mean(list(map(lambda cl: cl.r, acs2ar_action_set))),\n",
    "        'q-learning': Q[find_obs_id(sa.perception), sa.action],\n",
    "        'r-learning': R[find_obs_id(sa.perception), sa.action],\n",
    "    }"
   ]
  },
  {
   "cell_type": "code",
   "execution_count": 19,
   "metadata": {},
   "outputs": [
    {
     "data": {
      "image/png": "[encoded data removed]",
      "text/plain": [
       "<Figure size 1080x720 with 1 Axes>"
      ]
     },
     "metadata": {
      "needs_background": "light"
     },
     "output_type": "display_data"
    }
   ],
   "source": [
    "fig, ax = plt.subplots(figsize=(15, 10))\n",
    "\n",
    "x = range(1, len(payoffs)+1)\n",
    "y_acs2 = sorted([v['acs2'] for k, v in payoffs.items()])\n",
    "y_aacs2 = sorted([v['aacs2'] for k, v in payoffs.items()])\n",
    "y_acs2ar = sorted([v['acs2ar'] for k, v in payoffs.items()])\n",
    "y_qlearning = sorted([v['q-learning'] for k, v in payoffs.items()])\n",
    "y_rlearning = sorted([v['r-learning'] for k, v in payoffs.items()])\n",
    "\n",
    "\n",
    "# ACS2\n",
    "# plt.scatter(x, y_acs2)\n",
    "plt.plot(x, y_acs2, label='ACS2')\n",
    "\n",
    "# AACS2\n",
    "# plt.scatter(x, y_aacs2)\n",
    "plt.plot(x, y_aacs2, label='AACS2')\n",
    "\n",
    "# ACS2AR\n",
    "plt.scatter(x, y_aacs2)\n",
    "plt.plot(x, y_acs2ar, label='ACS2AR')\n",
    "\n",
    "# Q-learning\n",
    "# plt.scatter(x, y_qlearning)\n",
    "plt.plot(x, y_qlearning, label='Q-learning')\n",
    "\n",
    "# R-learning\n",
    "# plt.scatter(x, y_qlearning)\n",
    "plt.plot(x, y_rlearning, label='R-learning')\n",
    "\n",
    "ax.xaxis.set_major_locator(MultipleLocator(10)) \n",
    "ax.xaxis.set_major_formatter(FormatStrFormatter('%1.0f')) \n",
    "\n",
    "ax.set_xlabel(\"State-action pairs\")\n",
    "ax.set_ylabel(\"Payoff value\")\n",
    "ax.set_title(\"Payoff Landscape (FSW)\")\n",
    "\n",
    "ax.legend(loc='lower right')\n",
    "\n",
    "plt.show()"
   ]
  },
  {
   "cell_type": "markdown",
   "metadata": {},
   "source": [
    "## Steps to reward"
   ]
  },
  {
   "cell_type": "code",
   "execution_count": 20,
   "metadata": {},
   "outputs": [
    {
     "data": {
      "image/png": "[encoded data removed]",
      "text/plain": [
       "<Figure size 432x288 with 1 Axes>"
      ]
     },
     "metadata": {
      "needs_background": "light"
     },
     "output_type": "display_data"
    }
   ],
   "source": [
    "m = parse_metrics(acs2_explt_metrics)\n",
    "\n",
    "plt.plot(m['trial'], m['steps_in_trial'])\n",
    "plt.show()"
   ]
  },
  {
   "cell_type": "code",
   "execution_count": 21,
   "metadata": {},
   "outputs": [
    {
     "data": {
      "text/plain": [
       "2.42"
      ]
     },
     "execution_count": 21,
     "metadata": {},
     "output_type": "execute_result"
    }
   ],
   "source": [
    "m['steps_in_trial'].mean()"
   ]
  }
 ],
 "metadata": {
  "kernelspec": {
   "display_name": "Python 3",
   "language": "python",
   "name": "python3"
  },
  "language_info": {
   "codemirror_mode": {
    "name": "ipython",
    "version": 3
   },
   "file_extension": ".py",
   "mimetype": "text/x-python",
   "name": "python",
   "nbconvert_exporter": "python",
   "pygments_lexer": "ipython3",
   "version": "3.7.6"
  }
 },
 "nbformat": 4,
 "nbformat_minor": 4
}
