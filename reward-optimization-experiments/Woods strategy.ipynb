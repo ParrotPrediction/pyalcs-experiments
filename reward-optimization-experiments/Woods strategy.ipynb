{
 "cells": [
  {
   "cell_type": "markdown",
   "metadata": {},
   "source": [
    "# Woods strategy"
   ]
  },
  {
   "cell_type": "code",
   "execution_count": 70,
   "metadata": {},
   "outputs": [],
   "source": [
    "import gym\n",
    "\n",
    "import numpy as np\n",
    "import pandas as pd\n",
    "import matplotlib.pyplot as plt\n",
    "\n",
    "from matplotlib.ticker import (MultipleLocator, \n",
    "                               FormatStrFormatter, \n",
    "                               AutoMinorLocator) \n",
    "\n",
    "from lcs import Perception\n",
    "from lcs.agents import EnvironmentAdapter\n",
    "from lcs.metrics import population_metrics\n",
    "\n",
    "import lcs.agents.acs2 as acs2\n",
    "import lcs.agents.aacs2 as aacs2\n",
    "import lcs.agents.acs2ar as acs2ar\n",
    "\n",
    "import random\n",
    "from collections import namedtuple\n",
    "\n",
    "# Logger\n",
    "import logging\n",
    "logging.basicConfig(level=logging.INFO)\n",
    "\n",
    "import gym_woods\n",
    "woods1 = gym.make('Woods1-v0')\n",
    "woods2 = gym.make('Woods2-v0')\n",
    "woods14 = gym.make('Woods14-v0')"
   ]
  },
  {
   "cell_type": "code",
   "execution_count": 2,
   "metadata": {},
   "outputs": [],
   "source": [
    "class WoodsAdapter(EnvironmentAdapter):\n",
    "\n",
    "    @classmethod\n",
    "    def to_genotype(cls, phenotype):\n",
    "        result = []\n",
    "        for el in phenotype:\n",
    "            if el == 'F':\n",
    "                result.extend(['1', '1', '0'])\n",
    "            if el == 'G':\n",
    "                result.extend(['1', '1', '1'])\n",
    "            if el == 'O':\n",
    "                result.extend(['0', '1', '0'])\n",
    "            if el == 'Q':\n",
    "                result.extend(['0', '1', '1'])\n",
    "            if el == '.':\n",
    "                result.extend(['0', '0', '0'])\n",
    "\n",
    "        return result"
   ]
  },
  {
   "cell_type": "code",
   "execution_count": 3,
   "metadata": {},
   "outputs": [],
   "source": [
    "def common_metrics(agent, env):\n",
    "    pop = agent.get_population()\n",
    "\n",
    "    metrics = {\n",
    "        'agent': agent.__class__.__name__,\n",
    "        'reliable': len([cl for cl in pop if cl.is_reliable()]),\n",
    "    }\n",
    "\n",
    "    if hasattr(agent, 'rho'):\n",
    "        metrics['rho'] = agent.rho\n",
    "    else:\n",
    "        metrics['rho'] = 0\n",
    "\n",
    "    metrics.update(population_metrics(pop, env))\n",
    "    return metrics"
   ]
  },
  {
   "cell_type": "code",
   "execution_count": 4,
   "metadata": {},
   "outputs": [],
   "source": [
    "def parse_metrics(metrics):\n",
    "    idx = [d['agent'] for d in metrics]\n",
    "\n",
    "    data = [[\n",
    "        d['trial'],\n",
    "        d['steps_in_trial'],\n",
    "        d['rho'],\n",
    "        d['population'],\n",
    "        d['reliable']] for d in metrics]\n",
    "\n",
    "    df = pd.DataFrame(\n",
    "        data,\n",
    "        columns=['trial', 'steps_in_trial', 'rho', 'population', 'reliable'],\n",
    "        index=idx\n",
    "    )\n",
    "\n",
    "    df['phase'] = df.trial.map(\n",
    "        lambda t: \"explore\" if t % 2 == 0 else \"exploit\")\n",
    "    \n",
    "    return df"
   ]
  },
  {
   "cell_type": "markdown",
   "metadata": {},
   "source": [
    "Train the ACS2 agent"
   ]
  },
  {
   "cell_type": "code",
   "execution_count": 5,
   "metadata": {},
   "outputs": [
    {
     "name": "stdout",
     "output_type": "stream",
     "text": [
      "\n",
      "\u001b[37m□\u001b[0m \u001b[37m□\u001b[0m \u001b[37m□\u001b[0m \u001b[36mX\u001b[0m \u001b[37m□\u001b[0m\n",
      "\u001b[37m□\u001b[0m \u001b[30m■\u001b[0m \u001b[30m■\u001b[0m \u001b[33m$\u001b[0m \u001b[37m□\u001b[0m\n",
      "\u001b[37m□\u001b[0m \u001b[30m■\u001b[0m \u001b[30m■\u001b[0m \u001b[30m■\u001b[0m \u001b[37m□\u001b[0m\n",
      "\u001b[37m□\u001b[0m \u001b[30m■\u001b[0m \u001b[30m■\u001b[0m \u001b[30m■\u001b[0m \u001b[37m□\u001b[0m\n",
      "\u001b[37m□\u001b[0m \u001b[37m□\u001b[0m \u001b[37m□\u001b[0m \u001b[37m□\u001b[0m \u001b[37m□\u001b[0m\n"
     ]
    }
   ],
   "source": [
    "env = woods1\n",
    "\n",
    "env.reset()\n",
    "env.render()"
   ]
  },
  {
   "cell_type": "code",
   "execution_count": 6,
   "metadata": {},
   "outputs": [
    {
     "data": {
      "text/plain": [
       "{('0', '0'): [0, 1, 2, 4, 5, 6, 7],\n",
       " ('1', '0'): [0, 1, 2, 5, 6, 7],\n",
       " ('2', '0'): [0, 1, 2, 3, 6, 7],\n",
       " ('3', '0'): [0, 1, 2, 3, 4, 6, 7],\n",
       " ('4', '0'): [0, 1, 2, 3, 4, 5, 6, 7],\n",
       " ('0', '1'): [0, 1, 4, 5, 6, 7],\n",
       " ('4', '1'): [0, 1, 2, 3, 4, 6, 7],\n",
       " ('0', '2'): [0, 4, 5, 6, 7],\n",
       " ('4', '2'): [0, 1, 2, 3, 4, 7],\n",
       " ('0', '3'): [0, 3, 4, 5, 6, 7],\n",
       " ('4', '3'): [0, 1, 2, 3, 4, 5],\n",
       " ('0', '4'): [0, 2, 3, 4, 5, 6, 7],\n",
       " ('1', '4'): [2, 3, 4, 5, 6, 7],\n",
       " ('2', '4'): [2, 3, 4, 5, 6],\n",
       " ('3', '4'): [1, 2, 3, 4, 5, 6],\n",
       " ('4', '4'): [0, 1, 2, 3, 4, 5, 6]}"
      ]
     },
     "execution_count": 6,
     "metadata": {},
     "output_type": "execute_result"
    }
   ],
   "source": [
    "state_to_actions = env.env._state_action()\n",
    "state_to_actions"
   ]
  },
  {
   "cell_type": "code",
   "execution_count": 7,
   "metadata": {},
   "outputs": [
    {
     "data": {
      "text/plain": [
       "[PerceptionAction(id=1, perception=['.', '.', '.', 'O', '.', '.', '.', '.'], action=0),\n",
       " PerceptionAction(id=2, perception=['.', '.', '.', 'O', '.', '.', '.', '.'], action=1),\n",
       " PerceptionAction(id=3, perception=['.', '.', '.', 'O', '.', '.', '.', '.'], action=2),\n",
       " PerceptionAction(id=4, perception=['.', '.', '.', 'O', '.', '.', '.', '.'], action=4),\n",
       " PerceptionAction(id=5, perception=['.', '.', '.', 'O', '.', '.', '.', '.'], action=5),\n",
       " PerceptionAction(id=6, perception=['.', '.', '.', 'O', '.', '.', '.', '.'], action=6),\n",
       " PerceptionAction(id=7, perception=['.', '.', '.', 'O', '.', '.', '.', '.'], action=7),\n",
       " PerceptionAction(id=8, perception=['.', '.', '.', 'O', 'O', '.', '.', '.'], action=0),\n",
       " PerceptionAction(id=9, perception=['.', '.', '.', 'O', 'O', '.', '.', '.'], action=1),\n",
       " PerceptionAction(id=10, perception=['.', '.', '.', 'O', 'O', '.', '.', '.'], action=2)]"
      ]
     },
     "execution_count": 7,
     "metadata": {},
     "output_type": "execute_result"
    }
   ],
   "source": [
    "PerceptionAction = namedtuple('PerceptionAction', 'id perception action')\n",
    "\n",
    "state_action = []\n",
    "\n",
    "idx = 1\n",
    "for state, actions in state_to_actions.items():\n",
    "    if len(actions) > 0:\n",
    "        for action in actions:\n",
    "            perception = env.env._perception(int(state[0]), int(state[1]))\n",
    "            state_action.append(PerceptionAction(idx, perception, action))\n",
    "            idx += 1\n",
    "        \n",
    "# print first few records        \n",
    "state_action[:10]"
   ]
  },
  {
   "cell_type": "code",
   "execution_count": 8,
   "metadata": {},
   "outputs": [
    {
     "data": {
      "text/plain": [
       "{0: ['.', '.', '.', 'O', '.', '.', '.', '.'],\n",
       " 1: ['.', '.', '.', 'O', 'O', '.', '.', '.'],\n",
       " 2: ['.', '.', '.', 'F', 'O', 'O', '.', '.'],\n",
       " 3: ['.', '.', '.', '.', 'F', 'O', '.', '.'],\n",
       " 4: ['.', '.', '.', '.', '.', 'F', '.', '.'],\n",
       " 5: ['.', '.', 'O', 'O', '.', '.', '.', '.'],\n",
       " 6: ['.', '.', '.', '.', '.', 'O', 'F', '.'],\n",
       " 7: ['.', 'O', 'O', 'O', '.', '.', '.', '.'],\n",
       " 8: ['.', '.', '.', '.', '.', 'O', 'O', 'F'],\n",
       " 9: ['.', 'O', 'O', '.', '.', '.', '.', '.'],\n",
       " 10: ['.', '.', '.', '.', '.', '.', 'O', 'O'],\n",
       " 11: ['.', 'O', '.', '.', '.', '.', '.', '.'],\n",
       " 12: ['O', 'O', '.', '.', '.', '.', '.', '.'],\n",
       " 13: ['O', 'O', '.', '.', '.', '.', '.', 'O'],\n",
       " 14: ['O', '.', '.', '.', '.', '.', '.', 'O'],\n",
       " 15: ['.', '.', '.', '.', '.', '.', '.', 'O']}"
      ]
     },
     "execution_count": 8,
     "metadata": {},
     "output_type": "execute_result"
    }
   ],
   "source": [
    "# create a dict id > perception (for q-learning)\n",
    "\n",
    "sp = {idx: env.env._perception(int(i[0][0]), int(i[0][1])) for idx, i in enumerate(state_to_actions.items())}\n",
    "sp"
   ]
  },
  {
   "cell_type": "code",
   "execution_count": 9,
   "metadata": {},
   "outputs": [],
   "source": [
    "def find_obs_id(p):\n",
    "    for idx, perception in sp.items():\n",
    "        if perception == p:\n",
    "            return idx\n",
    "    \n",
    "    return None\n",
    "\n",
    "# p = env.env._perception(0, 2)\n",
    "# find_id(p)"
   ]
  },
  {
   "cell_type": "markdown",
   "metadata": {},
   "source": [
    "## Experiments"
   ]
  },
  {
   "cell_type": "code",
   "execution_count": 95,
   "metadata": {},
   "outputs": [],
   "source": [
    "learning_rate = 0.8\n",
    "discount_factor = 0.95\n",
    "epsilon = 0.1\n",
    "zeta = 0.0001"
   ]
  },
  {
   "cell_type": "code",
   "execution_count": 11,
   "metadata": {},
   "outputs": [
    {
     "name": "stderr",
     "output_type": "stream",
     "text": [
      "INFO:lcs.agents.Agent:{'trial': 0, 'steps_in_trial': 5, 'reward': 1000, 'agent': 'ACS2', 'reliable': 0, 'rho': 0, 'population': 4, 'numerosity': 4}\n",
      "INFO:lcs.agents.Agent:{'trial': 1000, 'steps_in_trial': 11, 'reward': 1000, 'agent': 'ACS2', 'reliable': 187, 'rho': 0, 'population': 200, 'numerosity': 2023}\n",
      "INFO:lcs.agents.Agent:{'trial': 2000, 'steps_in_trial': 18, 'reward': 1000, 'agent': 'ACS2', 'reliable': 164, 'rho': 0, 'population': 175, 'numerosity': 2034}\n",
      "INFO:lcs.agents.Agent:{'trial': 3000, 'steps_in_trial': 1, 'reward': 1000, 'agent': 'ACS2', 'reliable': 163, 'rho': 0, 'population': 182, 'numerosity': 2037}\n",
      "INFO:lcs.agents.Agent:{'trial': 4000, 'steps_in_trial': 23, 'reward': 1000, 'agent': 'ACS2', 'reliable': 163, 'rho': 0, 'population': 177, 'numerosity': 2033}\n",
      "INFO:lcs.agents.Agent:{'trial': 5000, 'steps_in_trial': 6, 'reward': 1000, 'agent': 'ACS2', 'reliable': 157, 'rho': 0, 'population': 172, 'numerosity': 2031}\n",
      "INFO:lcs.agents.Agent:{'trial': 6000, 'steps_in_trial': 3, 'reward': 1000, 'agent': 'ACS2', 'reliable': 157, 'rho': 0, 'population': 175, 'numerosity': 2036}\n",
      "INFO:lcs.agents.Agent:{'trial': 7000, 'steps_in_trial': 35, 'reward': 1000, 'agent': 'ACS2', 'reliable': 155, 'rho': 0, 'population': 172, 'numerosity': 2032}\n",
      "INFO:lcs.agents.Agent:{'trial': 8000, 'steps_in_trial': 16, 'reward': 1000, 'agent': 'ACS2', 'reliable': 157, 'rho': 0, 'population': 177, 'numerosity': 2038}\n",
      "INFO:lcs.agents.Agent:{'trial': 9000, 'steps_in_trial': 10, 'reward': 1000, 'agent': 'ACS2', 'reliable': 154, 'rho': 0, 'population': 170, 'numerosity': 2034}\n"
     ]
    },
    {
     "name": "stdout",
     "output_type": "stream",
     "text": [
      "CPU times: user 3min 9s, sys: 1.19 s, total: 3min 10s\n",
      "Wall time: 3min 14s\n"
     ]
    }
   ],
   "source": [
    "%%time\n",
    "\n",
    "cfg = acs2.Configuration(8, 8,\n",
    "                         do_ga=True,\n",
    "                         beta=learning_rate,\n",
    "                         gamma=discount_factor,\n",
    "                         epsilon=1-epsilon,\n",
    "                         user_metrics_collector_fcn=common_metrics,\n",
    "                         biased_exploration_prob=0.5,\n",
    "                         metrics_trial_frequency=1)\n",
    "\n",
    "\n",
    "agent = acs2.ACS2(cfg)\n",
    "acs2_population, acs2_metrics = agent.explore(env, 10_000)"
   ]
  },
  {
   "cell_type": "code",
   "execution_count": 12,
   "metadata": {},
   "outputs": [
    {
     "name": "stderr",
     "output_type": "stream",
     "text": [
      "INFO:lcs.agents.Agent:{'trial': 0, 'steps_in_trial': 15, 'reward': 1000, 'agent': 'ACS2', 'reliable': 156, 'rho': 0, 'population': 170, 'numerosity': 2036}\n",
      "INFO:lcs.agents.Agent:{'trial': 10, 'steps_in_trial': 17, 'reward': 1000, 'agent': 'ACS2', 'reliable': 156, 'rho': 0, 'population': 170, 'numerosity': 2036}\n",
      "INFO:lcs.agents.Agent:{'trial': 20, 'steps_in_trial': 22, 'reward': 1000, 'agent': 'ACS2', 'reliable': 156, 'rho': 0, 'population': 170, 'numerosity': 2036}\n",
      "INFO:lcs.agents.Agent:{'trial': 30, 'steps_in_trial': 5, 'reward': 1000, 'agent': 'ACS2', 'reliable': 156, 'rho': 0, 'population': 170, 'numerosity': 2036}\n",
      "INFO:lcs.agents.Agent:{'trial': 40, 'steps_in_trial': 3, 'reward': 1000, 'agent': 'ACS2', 'reliable': 156, 'rho': 0, 'population': 170, 'numerosity': 2036}\n",
      "INFO:lcs.agents.Agent:{'trial': 50, 'steps_in_trial': 6, 'reward': 1000, 'agent': 'ACS2', 'reliable': 156, 'rho': 0, 'population': 170, 'numerosity': 2036}\n",
      "INFO:lcs.agents.Agent:{'trial': 60, 'steps_in_trial': 2, 'reward': 1000, 'agent': 'ACS2', 'reliable': 156, 'rho': 0, 'population': 170, 'numerosity': 2036}\n",
      "INFO:lcs.agents.Agent:{'trial': 70, 'steps_in_trial': 3, 'reward': 1000, 'agent': 'ACS2', 'reliable': 156, 'rho': 0, 'population': 170, 'numerosity': 2036}\n",
      "INFO:lcs.agents.Agent:{'trial': 80, 'steps_in_trial': 1, 'reward': 1000, 'agent': 'ACS2', 'reliable': 156, 'rho': 0, 'population': 170, 'numerosity': 2036}\n",
      "INFO:lcs.agents.Agent:{'trial': 90, 'steps_in_trial': 15, 'reward': 1000, 'agent': 'ACS2', 'reliable': 156, 'rho': 0, 'population': 170, 'numerosity': 2036}\n"
     ]
    }
   ],
   "source": [
    "from copy import copy\n",
    "\n",
    "acs2_exploiter = acs2.ACS2(cfg, copy(acs2_population))\n",
    "acs2_explt_population, acs2_explt_metrics = acs2_exploiter.exploit(env, 100)"
   ]
  },
  {
   "cell_type": "code",
   "execution_count": 69,
   "metadata": {},
   "outputs": [
    {
     "name": "stderr",
     "output_type": "stream",
     "text": [
      "INFO:lcs.agents.Agent:{'trial': 0, 'steps_in_trial': 4, 'reward': 1000, 'agent': 'AACS2', 'reliable': 0, 'rho': 0, 'population': 4, 'numerosity': 4}\n",
      "INFO:lcs.agents.Agent:{'trial': 20000, 'steps_in_trial': 2, 'reward': 1000, 'agent': 'AACS2', 'reliable': 158, 'rho': 478.94569381310845, 'population': 180, 'numerosity': 2073}\n",
      "INFO:lcs.agents.Agent:{'trial': 40000, 'steps_in_trial': 2, 'reward': 1000, 'agent': 'AACS2', 'reliable': 150, 'rho': 494.46010418129947, 'population': 163, 'numerosity': 2103}\n",
      "INFO:lcs.agents.Agent:{'trial': 60000, 'steps_in_trial': 27, 'reward': 1000, 'agent': 'AACS2', 'reliable': 145, 'rho': 488.26868510992375, 'population': 164, 'numerosity': 2118}\n",
      "INFO:lcs.agents.Agent:{'trial': 80000, 'steps_in_trial': 11, 'reward': 1000, 'agent': 'AACS2', 'reliable': 140, 'rho': 488.93121726213445, 'population': 155, 'numerosity': 2106}\n",
      "INFO:lcs.agents.Agent:{'trial': 100000, 'steps_in_trial': 3, 'reward': 1000, 'agent': 'AACS2', 'reliable': 140, 'rho': 489.4278741136652, 'population': 149, 'numerosity': 2109}\n",
      "INFO:lcs.agents.Agent:{'trial': 120000, 'steps_in_trial': 1, 'reward': 1000, 'agent': 'AACS2', 'reliable': 132, 'rho': 490.9375808816248, 'population': 147, 'numerosity': 2107}\n",
      "INFO:lcs.agents.Agent:{'trial': 140000, 'steps_in_trial': 5, 'reward': 1000, 'agent': 'AACS2', 'reliable': 136, 'rho': 488.43327142174, 'population': 146, 'numerosity': 2099}\n",
      "INFO:lcs.agents.Agent:{'trial': 160000, 'steps_in_trial': 20, 'reward': 1000, 'agent': 'AACS2', 'reliable': 130, 'rho': 489.3852912758358, 'population': 136, 'numerosity': 2113}\n",
      "INFO:lcs.agents.Agent:{'trial': 180000, 'steps_in_trial': 9, 'reward': 1000, 'agent': 'AACS2', 'reliable': 129, 'rho': 488.6326686061124, 'population': 141, 'numerosity': 2111}\n"
     ]
    },
    {
     "name": "stdout",
     "output_type": "stream",
     "text": [
      "CPU times: user 24min 28s, sys: 3.12 s, total: 24min 31s\n",
      "Wall time: 24min 36s\n"
     ]
    }
   ],
   "source": [
    "%%time\n",
    "\n",
    "# AACS2\n",
    "aacs2_cfg = aacs2.Configuration(8, 8,\n",
    "                                do_ga=True,\n",
    "                                beta=learning_rate,\n",
    "                                epsilon=1-epsilon,\n",
    "                                zeta=zeta,\n",
    "                                gamma=discount_factor,\n",
    "                                user_metrics_collector_fcn=common_metrics,\n",
    "                                biased_exploration_prob=0.2)\n",
    "\n",
    "aacs2_agent = aacs2.AACS2(aacs2_cfg)\n",
    "aacs2_population, aacs2_metrics = aacs2_agent.explore_exploit(env, 200_000)\n",
    "\n",
    "# worked for 200k with GA=false"
   ]
  },
  {
   "cell_type": "code",
   "execution_count": 64,
   "metadata": {},
   "outputs": [
    {
     "name": "stderr",
     "output_type": "stream",
     "text": [
      "INFO:lcs.agents.Agent:{'trial': 0, 'steps_in_trial': 2, 'reward': 1000, 'agent': 'ACS2AR', 'reliable': 0, 'rho': 0, 'population': 2, 'numerosity': 2}\n",
      "INFO:lcs.agents.Agent:{'trial': 500, 'steps_in_trial': 8, 'reward': 1000, 'agent': 'ACS2AR', 'reliable': 292, 'rho': -50.51775551629377, 'population': 316, 'numerosity': 1582}\n",
      "INFO:lcs.agents.Agent:{'trial': 1000, 'steps_in_trial': 50, 'reward': 0, 'agent': 'ACS2AR', 'reliable': 178, 'rho': -8756.792854526173, 'population': 192, 'numerosity': 1733}\n",
      "INFO:lcs.agents.Agent:{'trial': 1500, 'steps_in_trial': 11, 'reward': 1000, 'agent': 'ACS2AR', 'reliable': 176, 'rho': -1883307.6225288545, 'population': 196, 'numerosity': 1796}\n",
      "INFO:lcs.agents.Agent:{'trial': 2000, 'steps_in_trial': 43, 'reward': 1000, 'agent': 'ACS2AR', 'reliable': 169, 'rho': -323986599.0247179, 'population': 182, 'numerosity': 1857}\n",
      "INFO:lcs.agents.Agent:{'trial': 2500, 'steps_in_trial': 3, 'reward': 1000, 'agent': 'ACS2AR', 'reliable': 163, 'rho': -62951942969.65098, 'population': 184, 'numerosity': 1856}\n",
      "INFO:lcs.agents.Agent:{'trial': 3000, 'steps_in_trial': 45, 'reward': 1000, 'agent': 'ACS2AR', 'reliable': 162, 'rho': -10586860658138.06, 'population': 176, 'numerosity': 1839}\n",
      "INFO:lcs.agents.Agent:{'trial': 3500, 'steps_in_trial': 1, 'reward': 1000, 'agent': 'ACS2AR', 'reliable': 170, 'rho': -1918804247828435.0, 'population': 188, 'numerosity': 1902}\n",
      "INFO:lcs.agents.Agent:{'trial': 4000, 'steps_in_trial': 11, 'reward': 1000, 'agent': 'ACS2AR', 'reliable': 169, 'rho': -5.232957149972474e+17, 'population': 188, 'numerosity': 1904}\n",
      "INFO:lcs.agents.Agent:{'trial': 4500, 'steps_in_trial': 50, 'reward': 0, 'agent': 'ACS2AR', 'reliable': 171, 'rho': -1.2085664865010126e+20, 'population': 198, 'numerosity': 1939}\n"
     ]
    },
    {
     "name": "stdout",
     "output_type": "stream",
     "text": [
      "CPU times: user 3min 38s, sys: 1.18 s, total: 3min 39s\n",
      "Wall time: 3min 50s\n"
     ]
    }
   ],
   "source": [
    "%%time\n",
    "# This one seems to be wrong\n",
    "\n",
    "acs2ar_cfg = acs2ar.Configuration(8, 8,\n",
    "                                  do_ga=True,\n",
    "                                  beta=learning_rate,\n",
    "                                  epsilon=1-epsilon,\n",
    "                                  gamma=discount_factor,\n",
    "                                  zeta=zeta,\n",
    "                                  biased_exploration_prob=0.2)\n",
    "\n",
    "\n",
    "acs2ar_agent = acs2ar.ACS2AR(aacs2_cfg)\n",
    "acs2ar_population, acs2ar_metrics = acs2ar_agent.explore_exploit(env, 1000)"
   ]
  },
  {
   "cell_type": "markdown",
   "metadata": {},
   "source": [
    "## Q-learning"
   ]
  },
  {
   "cell_type": "code",
   "execution_count": 13,
   "metadata": {},
   "outputs": [
    {
     "name": "stdout",
     "output_type": "stream",
     "text": [
      "CPU times: user 812 ms, sys: 9.68 ms, total: 822 ms\n",
      "Wall time: 849 ms\n"
     ]
    },
    {
     "data": {
      "text/plain": [
       "array([[ 857.375     ,  900.0062213 ,  798.56498942,  902.00757898,\n",
       "         902.5       ,  950.        ,  923.2442    ,  850.516     ],\n",
       "       [ 902.5       ,  892.4642    ,  760.        ,  847.84099   ,\n",
       "         857.29872792,  858.08256   ,  855.72884   ,  866.4       ],\n",
       "       [ 902.49999817,  902.48335204,  950.        , 1000.        ,\n",
       "         949.99996987,  949.99997198,  857.37495486,  902.49999965],\n",
       "       [ 902.49955747,  902.49999999,  949.9697946 ,  949.99915224,\n",
       "        1000.        ,  949.99999389,  949.99997553,  892.46419988],\n",
       "       [ 902.5       ,  900.69280512,  900.34954784,  902.430688  ,\n",
       "         948.48      , 1000.        ,  905.92      ,  902.4854722 ],\n",
       "       [ 848.80124956,  823.08      ,  902.4489055 ,  901.713742  ,\n",
       "         902.5       ,  948.48      ,  950.        ,  949.99967508],\n",
       "       [ 949.99873219,  902.49980701,  902.4976896 ,  902.5       ,\n",
       "         949.99990272,  949.997568  , 1000.        ,  949.99984722],\n",
       "       [ 900.02402494,  902.4976896 ,  901.056     ,  902.49996673,\n",
       "         902.4277959 ,  902.49998152,  950.        ,  936.76099   ],\n",
       "       [ 950.        ,  902.5       ,  902.5       ,  902.5       ,\n",
       "         902.5       ,  950.        ,  950.        , 1000.        ],\n",
       "       [ 902.5       ,  902.2112    ,  902.15298524,  901.42072552,\n",
       "         877.96413934,  902.372928  ,  866.4       ,  950.        ],\n",
       "       [ 950.        ,  902.5       ,  902.49703765,  900.6904755 ,\n",
       "         902.49999996,  900.695     ,  902.5       ,  902.5       ],\n",
       "       [ 894.81430867,  857.37499227,  902.05647034,  848.38699952,\n",
       "         898.12697252,  950.        ,  857.375     ,  902.5       ],\n",
       "       [ 902.49929041,  902.41462791,  902.39480936,  950.        ,\n",
       "         857.37499161,  902.35921   ,  893.475     ,  902.4861376 ],\n",
       "       [ 901.53540741,  895.28      ,  902.5       ,  949.9392    ,\n",
       "         950.        ,  823.08      ,    0.        ,  892.4642    ],\n",
       "       [ 902.4993346 ,  902.5       ,  902.4993346 ,  946.1742816 ,\n",
       "         950.        ,  949.83328792,  884.63875966,  902.084128  ],\n",
       "       [ 902.5       ,  902.49654077,  893.420128  ,  855.64982432,\n",
       "         916.3852    ,  950.        ,  902.1384328 ,  902.42736102]])"
      ]
     },
     "execution_count": 13,
     "metadata": {},
     "output_type": "execute_result"
    }
   ],
   "source": [
    "%%time\n",
    "\n",
    "Q = np.zeros((len(sp), env.action_space.n))\n",
    "episodes = 5000\n",
    "\n",
    "for i in range(1, episodes):\n",
    "#     print(\"\\nNEW EPISODE\")\n",
    "    obs = env.reset()\n",
    "    state = find_obs_id(obs)\n",
    "    done = False\n",
    "    \n",
    "    while not done:\n",
    "        if random.uniform(0, 1) < epsilon:\n",
    "            action = env.action_space.sample()\n",
    "        else:\n",
    "            action = np.argmax(Q[state, :])\n",
    "            \n",
    "        next_obs, reward, done, info = env.step(action)\n",
    "        next_state = find_obs_id(next_obs)\n",
    "        \n",
    "        if next_state is not None:\n",
    "            discounted = np.max(Q[next_state, :])\n",
    "        else:\n",
    "            discounted = 0\n",
    "        \n",
    "        Q[state, action] = Q[state, action] + learning_rate * (reward + discount_factor * discounted - Q[state, action])\n",
    "        \n",
    "#         print(f\"{state} == ({action}) ==> {next_state} (r: {reward})\\tQ[{state}, {action}]: {Q[state, action]}\")\n",
    "        state = next_state\n",
    "\n",
    "Q"
   ]
  },
  {
   "cell_type": "code",
   "execution_count": 96,
   "metadata": {},
   "outputs": [],
   "source": [
    "# learning_rate = 0.1\n",
    "\n",
    "def rlearning(env, episodes=5000):\n",
    "    R = np.zeros((len(sp), env.action_space.n))\n",
    "    rho = 0\n",
    "\n",
    "    for i in range(1, episodes):\n",
    "        state = find_obs_id(env.reset())\n",
    "        was_greedy = False\n",
    "        done = False\n",
    "\n",
    "        while not done:\n",
    "            if random.uniform(0, 1) < epsilon:\n",
    "                action = env.action_space.sample()\n",
    "            else:\n",
    "                action = np.argmax(R[state, :])\n",
    "                was_greedy = True\n",
    "\n",
    "            next_obs, reward, done, info = env.step(action)\n",
    "            next_state = find_obs_id(next_obs)\n",
    "\n",
    "            if next_state is not None:\n",
    "                discounted = np.max(R[next_state, :])\n",
    "            else:\n",
    "                discounted = 0\n",
    "            \n",
    "            R[state, action] = R[state, action] + learning_rate * (reward - rho + discounted - R[state, action])\n",
    "\n",
    "            if was_greedy:\n",
    "                rho = rho + zeta * (reward + np.max(R[next_state, :]) - discounted - rho)\n",
    "\n",
    "            state = next_state \n",
    "    \n",
    "    return R, rho\n",
    "\n",
    "def avg(matrices):\n",
    "    X = sum(matrices)\n",
    "    X /= len(matrices)\n",
    "    return X"
   ]
  },
  {
   "cell_type": "code",
   "execution_count": 100,
   "metadata": {},
   "outputs": [
    {
     "name": "stdout",
     "output_type": "stream",
     "text": [
      "Performing experiment 0\n",
      "Performing experiment 1\n",
      "Performing experiment 2\n",
      "Performing experiment 3\n",
      "Performing experiment 4\n",
      "Performing experiment 5\n",
      "Performing experiment 6\n",
      "Performing experiment 7\n",
      "Performing experiment 8\n",
      "Performing experiment 9\n",
      "\n",
      "Rho: 531.7041015243077\n",
      "\n"
     ]
    }
   ],
   "source": [
    "# perform r-learning\n",
    "experiments = 10\n",
    "Rs = []\n",
    "rhos = []\n",
    "\n",
    "for i in range(0, experiments):\n",
    "    print(f\"Performing experiment {i}\")\n",
    "    R, rho = rlearning(env)\n",
    "    \n",
    "    Rs.append(R)\n",
    "    rhos.append(rho)\n",
    "    \n",
    "R = avg(Rs)\n",
    "rho = np.mean(rhos)\n",
    "\n",
    "print(f\"\\nRho: {rho}\\n\")\n",
    "# print(R)"
   ]
  },
  {
   "cell_type": "markdown",
   "metadata": {},
   "source": [
    "## Payoff landscape"
   ]
  },
  {
   "cell_type": "code",
   "execution_count": 101,
   "metadata": {},
   "outputs": [
    {
     "name": "stdout",
     "output_type": "stream",
     "text": [
      "WARN: No ACS2AR classifiers for state: 0, action: 4\n",
      "WARN: No ACS2AR classifiers for state: 11, action: 2\n",
      "WARN: No ACS2AR classifiers for state: 11, action: 7\n",
      "WARN: No ACS2AR classifiers for state: 15, action: 3\n",
      "WARN: No ACS2AR classifiers for state: 15, action: 6\n"
     ]
    }
   ],
   "source": [
    "payoffs = {}\n",
    "\n",
    "acs2_rewards = []\n",
    "\n",
    "for sa in state_action:\n",
    "    p = Perception(sa.perception)\n",
    "    \n",
    "    # ACS2\n",
    "    acs2_match_set = acs2_population.form_match_set(p)\n",
    "    acs2_action_set = acs2_match_set.form_action_set(sa.action)\n",
    "\n",
    "    # AACS2\n",
    "    aacs2_match_set = aacs2_population.form_match_set(p)\n",
    "    aacs2_action_set = aacs2_match_set.form_action_set(sa.action)\n",
    "    \n",
    "    # ACS2AR\n",
    "    acs2ar_match_set = acs2ar_population.form_match_set(p)\n",
    "    acs2ar_action_set = acs2ar_match_set.form_action_set(sa.action)\n",
    "    \n",
    "    for alg, action_set in zip(['ACS2', 'AACS2', 'ACS2AR'], [acs2_action_set, aacs2_action_set, acs2ar_action_set]):\n",
    "        if len(action_set) == 0:\n",
    "            print(f\"WARN: No {alg} classifiers for state: {find_obs_id(sa.perception)}, action: {sa.action}\")\n",
    "    \n",
    "    payoffs[sa.id] = {\n",
    "        'acs2': np.mean(list(map(lambda cl: cl.r, acs2_action_set))),\n",
    "        'aacs2': np.mean(list(map(lambda cl: cl.r, aacs2_action_set))),\n",
    "        'acs2ar': np.mean(list(map(lambda cl: cl.r, acs2ar_action_set))),\n",
    "        'q-learning': Q[find_obs_id(sa.perception), sa.action],\n",
    "        'r-learning': R[find_obs_id(sa.perception), sa.action],\n",
    "    }"
   ]
  },
  {
   "cell_type": "code",
   "execution_count": 102,
   "metadata": {},
   "outputs": [
    {
     "data": {
      "image/png": "[encoded data removed]",
      "text/plain": [
       "<Figure size 1080x720 with 1 Axes>"
      ]
     },
     "metadata": {
      "needs_background": "light"
     },
     "output_type": "display_data"
    }
   ],
   "source": [
    "fig, ax = plt.subplots(figsize=(15, 10))\n",
    "\n",
    "x = range(1, len(payoffs)+1)\n",
    "y_acs2 = sorted([v['acs2'] for k, v in payoffs.items()])\n",
    "y_aacs2 = sorted([v['aacs2'] for k, v in payoffs.items()])\n",
    "y_acs2ar = sorted([v['acs2ar'] for k, v in payoffs.items()])\n",
    "y_qlearning = sorted([v['q-learning'] for k, v in payoffs.items()])\n",
    "y_rlearning = sorted([v['r-learning'] for k, v in payoffs.items()])\n",
    "\n",
    "\n",
    "# ACS2\n",
    "# plt.scatter(x, y_acs2)\n",
    "plt.plot(x, y_acs2, label='ACS2')\n",
    "\n",
    "# AACS2\n",
    "# plt.scatter(x, y_aacs2)\n",
    "plt.plot(x, y_aacs2, label='AACS2')\n",
    "\n",
    "# ACS2AR\n",
    "# plt.scatter(x, y_aacs2)\n",
    "# plt.plot(x, y_acs2ar, label='ACS2AR')\n",
    "\n",
    "# Q-learning\n",
    "# plt.scatter(x, y_qlearning)\n",
    "plt.plot(x, y_qlearning, label='Q-learning')\n",
    "\n",
    "# R-learning\n",
    "# plt.scatter(x, y_qlearning)\n",
    "plt.plot(x, y_rlearning, label='R-learning')\n",
    "\n",
    "ax.xaxis.set_major_locator(MultipleLocator(10)) \n",
    "ax.xaxis.set_major_formatter(FormatStrFormatter('%1.0f')) \n",
    "\n",
    "ax.set_xlabel(\"State-action pairs\")\n",
    "ax.set_ylabel(\"Payoff value\")\n",
    "ax.set_title(\"Payoff Landscape (FSW)\")\n",
    "\n",
    "ax.legend(loc='lower right')\n",
    "\n",
    "plt.show()"
   ]
  },
  {
   "cell_type": "markdown",
   "metadata": {},
   "source": [
    "## Steps to reward"
   ]
  },
  {
   "cell_type": "code",
   "execution_count": 16,
   "metadata": {},
   "outputs": [
    {
     "data": {
      "image/png": "[encoded data removed]",
      "text/plain": [
       "<Figure size 432x288 with 1 Axes>"
      ]
     },
     "metadata": {
      "needs_background": "light"
     },
     "output_type": "display_data"
    }
   ],
   "source": [
    "m = parse_metrics(acs2_explt_metrics)\n",
    "\n",
    "plt.plot(m['trial'], m['steps_in_trial'])\n",
    "plt.show()"
   ]
  },
  {
   "cell_type": "code",
   "execution_count": 17,
   "metadata": {},
   "outputs": [
    {
     "data": {
      "text/plain": [
       "5.61"
      ]
     },
     "execution_count": 17,
     "metadata": {},
     "output_type": "execute_result"
    }
   ],
   "source": [
    "m['steps_in_trial'].mean()"
   ]
  }
 ],
 "metadata": {
  "kernelspec": {
   "display_name": "Python 3",
   "language": "python",
   "name": "python3"
  },
  "language_info": {
   "codemirror_mode": {
    "name": "ipython",
    "version": 3
   },
   "file_extension": ".py",
   "mimetype": "text/x-python",
   "name": "python",
   "nbconvert_exporter": "python",
   "pygments_lexer": "ipython3",
   "version": "3.7.6"
  }
 },
 "nbformat": 4,
 "nbformat_minor": 4
}
