{
 "cells": [
  {
   "cell_type": "markdown",
   "metadata": {},
   "source": [
    "# Grid\n",
    "## Change the adapter"
   ]
  },
  {
   "cell_type": "code",
   "execution_count": 1,
   "metadata": {},
   "outputs": [],
   "source": [
    "import gym\n",
    "import gym_grid\n",
    "\n",
    "from lcs import Perception\n",
    "from lcs.agents import EnvironmentAdapter\n",
    "from lcs.metrics import population_metrics\n",
    "from lcs.agents.acs2 import ACS2, Configuration\n",
    "\n",
    "import pandas as pd\n",
    "\n",
    "import matplotlib.pyplot as plt\n",
    "\n",
    "env = gym.make('grid-40-v0')\n",
    "s = env.reset()"
   ]
  },
  {
   "cell_type": "code",
   "execution_count": 2,
   "metadata": {},
   "outputs": [],
   "source": [
    "class Adapter(EnvironmentAdapter):\n",
    "\n",
    "    @classmethod\n",
    "    def to_genotype(cls, phenotype):\n",
    "        # Represent state as a single unicode character\n",
    "        return list(map(lambda x: chr(int(x) + 65), phenotype))\n",
    "    \n",
    "def metrics(agent, env):\n",
    "    pop = agent.get_population()\n",
    "\n",
    "    metrics = {\n",
    "        'reliable': len([cl for cl in pop if cl.is_reliable()]),\n",
    "    }\n",
    "\n",
    "    metrics.update(population_metrics(pop, env))\n",
    "    return metrics\n",
    "\n",
    "acs2_cfg = Configuration(2, 4,\n",
    "                         environment_adapter=Adapter,\n",
    "                         user_metrics_collector_fcn=metrics,\n",
    "                         epsilon=0.9,\n",
    "                         do_ga=True,\n",
    "                         metrics_trial_frequency=1)\n",
    "\n",
    "acs2_agent = ACS2(cfg=acs2_cfg)"
   ]
  },
  {
   "cell_type": "code",
   "execution_count": 3,
   "metadata": {},
   "outputs": [],
   "source": [
    "ex_pop, ex_met = acs2_agent.explore(env, 5000, decay=False)"
   ]
  },
  {
   "cell_type": "code",
   "execution_count": 4,
   "metadata": {},
   "outputs": [
    {
     "data": {
      "text/plain": [
       "[#g 2 #h               (empty)               q: 1.0   r: 89.88  ir: 0.0    f: 89.88  exp: 80776 tga: 8738847 talp: 8738847 tav: 27.9   num: 20,\n",
       " #i 3 #h               (empty)               q: 1.0   r: 89.05  ir: 0.0    f: 89.05  exp: 88342 tga: 8738638 talp: 8738709 tav: 17.7   num: 20,\n",
       " #h 2 #i               (empty)               q: 1.0   r: 88.94  ir: 0.8431 f: 88.94  exp: 89492 tga: 8738850 talp: 8738850 tav: 23.9   num: 20,\n",
       " #h 3 #g               (empty)               q: 1.0   r: 88.7   ir: 0.0    f: 88.7   exp: 79608 tga: 8738740 talp: 8738740 tav: 23.8   num: 20,\n",
       " #i 2 ##               (empty)               q: 1.0   r: 87.14  ir: 0.0    f: 87.14  exp: 64567 tga: 8738637 talp: 8738686 tav: 35.4   num: 20,\n",
       " #] 2 #^               (empty)               q: 1.0   r: 83.08  ir: 0.0    f: 83.08  exp: 47580 tga: 8740146 talp: 8740146 tav: 23.7   num: 20,\n",
       " #^ 3 #]               (empty)               q: 1.0   r: 82.94  ir: 0.0    f: 82.94  exp: 46830 tga: 8740132 talp: 8740153 tav: 23.9   num: 20,\n",
       " #f 2 #g               (empty)               q: 1.0   r: 82.92  ir: 0.0    f: 82.92  exp: 69068 tga: 8738844 talp: 8738844 tav: 58.1   num: 20,\n",
       " f# 1 g#               (empty)               q: 1.0   r: 81.96  ir: 0.0    f: 81.96  exp: 67091 tga: 8740848 talp: 8740848 tav: 33.6   num: 20,\n",
       " #_ 3 #^               (empty)               q: 1.0   r: 81.83  ir: 0.0    f: 81.83  exp: 46515 tga: 8740088 talp: 8740150 tav: 50.1   num: 20,\n",
       " e# 1 f#               (empty)               q: 1.0   r: 81.8   ir: 0.0    f: 81.8   exp: 57278 tga: 8740852 talp: 8740852 tav: 46.9   num: 20,\n",
       " #^ 2 #_               (empty)               q: 1.0   r: 81.6   ir: 0.0    f: 81.6   exp: 47312 tga: 8740087 talp: 8740148 tav: 50.0   num: 20,\n",
       " #\\ 2 #]               (empty)               q: 1.0   r: 81.42  ir: 0.0    f: 81.42  exp: 48322 tga: 8740051 talp: 8740141 tav: 42.6   num: 20,\n",
       " g# 0 f#               (empty)               q: 1.0   r: 81.41  ir: 0.0    f: 81.41  exp: 65952 tga: 8740846 talp: 8740849 tav: 33.1   num: 20,\n",
       " i# 1 ##               (empty)               q: 1.0   r: 80.9   ir: 0.0    f: 80.9   exp: 62630 tga: 8740768 talp: 8740837 tav: 26.8   num: 20,\n",
       " h# 0 g#               (empty)               q: 1.0   r: 80.82  ir: 0.0    f: 80.82  exp: 76637 tga: 8740823 talp: 8740845 tav: 22.4   num: 20,\n",
       " g# 1 h#               (empty)               q: 1.0   r: 80.74  ir: 0.0    f: 80.74  exp: 77757 tga: 8740821 talp: 8740830 tav: 22.1   num: 20,\n",
       " #] 3 #\\               (empty)               q: 1.0   r: 80.49  ir: 0.0    f: 80.49  exp: 47617 tga: 8740154 talp: 8740154 tav: 43.0   num: 20,\n",
       " i# 0 h#               (empty)               q: 1.0   r: 79.97  ir: 0.0    f: 79.97  exp: 85063 tga: 8740841 talp: 8740843 tav: 17.6   num: 20,\n",
       " h# 1 i#               (empty)               q: 1.0   r: 79.58  ir: 0.06431 f: 79.58  exp: 86204 tga: 8740842 talp: 8740842 tav: 17.7   num: 20]"
      ]
     },
     "execution_count": 4,
     "metadata": {},
     "output_type": "execute_result"
    }
   ],
   "source": [
    "rel = [cl for cl in ex_pop if cl.is_reliable()]\n",
    "sorted(rel, key=lambda cl: -cl.fitness)[:20]"
   ]
  },
  {
   "cell_type": "code",
   "execution_count": 5,
   "metadata": {},
   "outputs": [],
   "source": [
    "def parse_metrics(metrics):\n",
    "    lst = [[d['trial'], d['population'], d['reliable'], d['steps_in_trial']] for d in metrics]\n",
    "\n",
    "    df = pd.DataFrame(lst, columns=['trial', 'population', 'reliable', 'steps_in_trial'])\n",
    "    df = df.set_index('trial')\n",
    "\n",
    "    return df"
   ]
  },
  {
   "cell_type": "code",
   "execution_count": 6,
   "metadata": {},
   "outputs": [],
   "source": [
    "met_df = parse_metrics(ex_met)"
   ]
  },
  {
   "cell_type": "code",
   "execution_count": 7,
   "metadata": {},
   "outputs": [
    {
     "data": {
      "image/png": "[encoded data removed]",
      "text/plain": [
       "<Figure size 432x288 with 1 Axes>"
      ]
     },
     "metadata": {
      "needs_background": "light"
     },
     "output_type": "display_data"
    }
   ],
   "source": [
    "met_df['steps_in_trial'].plot()\n",
    "plt.show()"
   ]
  },
  {
   "cell_type": "markdown",
   "metadata": {},
   "source": [
    "## exploit"
   ]
  },
  {
   "cell_type": "code",
   "execution_count": 8,
   "metadata": {},
   "outputs": [],
   "source": [
    "agent2 = ACS2(cfg=acs2_cfg, population=ex_pop)\n",
    "expl_pop, expl_met = agent2.exploit(env, 50)"
   ]
  },
  {
   "cell_type": "code",
   "execution_count": 9,
   "metadata": {},
   "outputs": [],
   "source": [
    "expl_met_df = parse_metrics(expl_met)"
   ]
  },
  {
   "cell_type": "code",
   "execution_count": 10,
   "metadata": {},
   "outputs": [
    {
     "data": {
      "image/png": "[encoded data removed]",
      "text/plain": [
       "<Figure size 432x288 with 1 Axes>"
      ]
     },
     "metadata": {
      "needs_background": "light"
     },
     "output_type": "display_data"
    }
   ],
   "source": [
    "expl_met_df['steps_in_trial'].plot()\n",
    "plt.show()"
   ]
  }
 ],
 "metadata": {
  "kernelspec": {
   "display_name": "Python 3",
   "language": "python",
   "name": "python3"
  },
  "language_info": {
   "codemirror_mode": {
    "name": "ipython",
    "version": 3
   },
   "file_extension": ".py",
   "mimetype": "text/x-python",
   "name": "python",
   "nbconvert_exporter": "python",
   "pygments_lexer": "ipython3",
   "version": "3.7.6"
  }
 },
 "nbformat": 4,
 "nbformat_minor": 4
}
