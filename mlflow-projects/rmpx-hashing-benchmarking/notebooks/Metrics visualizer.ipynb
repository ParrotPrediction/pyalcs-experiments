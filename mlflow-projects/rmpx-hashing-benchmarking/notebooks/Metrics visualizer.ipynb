{
 "cells": [
  {
   "cell_type": "markdown",
   "id": "roman-contents",
   "metadata": {},
   "source": [
    "# Metrics visualizer"
   ]
  },
  {
   "cell_type": "code",
   "execution_count": 1,
   "id": "strong-spare",
   "metadata": {},
   "outputs": [
    {
     "name": "stdout",
     "output_type": "stream",
     "text": [
      "Collecting awscli\n",
      "  Downloading awscli-1.19.95.tar.gz (1.4 MB)\n",
      "\u001B[K     |████████████████████████████████| 1.4 MB 307 kB/s eta 0:00:01\n",
      "\u001B[?25hCollecting botocore==1.20.95\n",
      "  Downloading botocore-1.20.95-py2.py3-none-any.whl (7.6 MB)\n",
      "\u001B[K     |████████████████████████████████| 7.6 MB 968 kB/s eta 0:00:01\n",
      "\u001B[?25hCollecting docutils<0.16,>=0.10\n",
      "  Downloading docutils-0.15.2-py3-none-any.whl (547 kB)\n",
      "\u001B[K     |████████████████████████████████| 547 kB 4.3 MB/s eta 0:00:01\n",
      "\u001B[?25hRequirement already satisfied: s3transfer<0.5.0,>=0.4.0 in /home/arc/miniconda3/envs/pyalcs-experiments/lib/python3.7/site-packages (from awscli) (0.4.2)\n",
      "Requirement already satisfied: PyYAML<5.5,>=3.10 in /home/arc/miniconda3/envs/pyalcs-experiments/lib/python3.7/site-packages (from awscli) (5.4.1)\n",
      "Collecting colorama<0.4.4,>=0.2.5\n",
      "  Downloading colorama-0.4.3-py2.py3-none-any.whl (15 kB)\n",
      "Collecting rsa<4.8,>=3.1.2\n",
      "  Downloading rsa-4.7.2-py3-none-any.whl (34 kB)\n",
      "Requirement already satisfied: urllib3<1.27,>=1.25.4 in /home/arc/miniconda3/envs/pyalcs-experiments/lib/python3.7/site-packages (from botocore==1.20.95->awscli) (1.26.3)\n",
      "Requirement already satisfied: jmespath<1.0.0,>=0.7.1 in /home/arc/miniconda3/envs/pyalcs-experiments/lib/python3.7/site-packages (from botocore==1.20.95->awscli) (0.10.0)\n",
      "Requirement already satisfied: python-dateutil<3.0.0,>=2.1 in /home/arc/miniconda3/envs/pyalcs-experiments/lib/python3.7/site-packages (from botocore==1.20.95->awscli) (2.8.1)\n",
      "Requirement already satisfied: six>=1.5 in /home/arc/miniconda3/envs/pyalcs-experiments/lib/python3.7/site-packages (from python-dateutil<3.0.0,>=2.1->botocore==1.20.95->awscli) (1.15.0)\n",
      "Collecting pyasn1>=0.1.3\n",
      "  Downloading pyasn1-0.4.8-py2.py3-none-any.whl (77 kB)\n",
      "\u001B[K     |████████████████████████████████| 77 kB 2.4 MB/s eta 0:00:01\n",
      "\u001B[?25hBuilding wheels for collected packages: awscli\n",
      "  Building wheel for awscli (setup.py) ... \u001B[?25ldone\n",
      "\u001B[?25h  Created wheel for awscli: filename=awscli-1.19.95-py2.py3-none-any.whl size=3627018 sha256=e496f2f196c8d25e21fc3df83236d6f389b7da8f18efa26ba69586c9f189c2cf\n",
      "  Stored in directory: /home/arc/.cache/pip/wheels/e8/94/9e/3014d8c0c5498e7f610ccea55e3e57344cd1143c1fb143e131\n",
      "Successfully built awscli\n",
      "Installing collected packages: pyasn1, botocore, rsa, docutils, colorama, awscli\n",
      "  Attempting uninstall: botocore\n",
      "    Found existing installation: botocore 1.20.73\n",
      "    Uninstalling botocore-1.20.73:\n",
      "      Successfully uninstalled botocore-1.20.73\n",
      "  Attempting uninstall: colorama\n",
      "    Found existing installation: colorama 0.4.4\n",
      "    Uninstalling colorama-0.4.4:\n",
      "      Successfully uninstalled colorama-0.4.4\n",
      "Successfully installed awscli-1.19.95 botocore-1.20.95 colorama-0.4.3 docutils-0.15.2 pyasn1-0.4.8 rsa-4.7.2\n"
     ]
    }
   ],
   "source": [
    "!pip install awscli"
   ]
  },
  {
   "cell_type": "markdown",
   "id": "little-fever",
   "metadata": {},
   "source": [
    "## Download file from S3"
   ]
  },
  {
   "cell_type": "code",
   "execution_count": 16,
   "id": "potential-brunei",
   "metadata": {},
   "outputs": [],
   "source": [
    "import boto3\n",
    "import dill\n",
    "\n",
    "AWS_ACCESS_KEY=''\n",
    "AWS_SECRET_KEY=''"
   ]
  },
  {
   "cell_type": "code",
   "execution_count": 11,
   "id": "lasting-gabriel",
   "metadata": {},
   "outputs": [],
   "source": [
    "s3 = boto3.client('s3', aws_access_key_id=AWS_ACCESS_KEY, aws_secret_access_key=AWS_SECRET_KEY)"
   ]
  },
  {
   "cell_type": "code",
   "execution_count": 20,
   "id": "better-class",
   "metadata": {},
   "outputs": [],
   "source": [
    "def download(bucket, key):\n",
    "    response = s3.get_object(Bucket=bucket, Key=key)\n",
    "    return dill.loads(response['Body'].read())\n",
    "\n",
    "f = download('mlflow-pwr', '0/63535494a975421c93260b04569ebc37/artifacts/750/metrics.dill')"
   ]
  },
  {
   "cell_type": "code",
   "execution_count": 21,
   "id": "cardiac-practitioner",
   "metadata": {},
   "outputs": [
    {
     "data": {
      "text/plain": [
       "list"
      ]
     },
     "execution_count": 21,
     "metadata": {},
     "output_type": "execute_result"
    }
   ],
   "source": [
    "type(f)"
   ]
  }
 ],
 "metadata": {
  "kernelspec": {
   "display_name": "Python 3",
   "language": "python",
   "name": "python3"
  },
  "language_info": {
   "codemirror_mode": {
    "name": "ipython",
    "version": 3
   },
   "file_extension": ".py",
   "mimetype": "text/x-python",
   "name": "python",
   "nbconvert_exporter": "python",
   "pygments_lexer": "ipython3",
   "version": "3.7.10"
  }
 },
 "nbformat": 4,
 "nbformat_minor": 5
}