{
 "cells": [
  {
   "cell_type": "markdown",
   "id": "white-capitol",
   "metadata": {},
   "source": [
    "# hypothesis matrix"
   ]
  },
  {
   "cell_type": "code",
   "execution_count": 21,
   "id": "micro-herald",
   "metadata": {},
   "outputs": [],
   "source": [
    "import itertools\n",
    "import pandas as pd"
   ]
  },
  {
   "cell_type": "code",
   "execution_count": 28,
   "id": "representative-turkey",
   "metadata": {},
   "outputs": [
    {
     "name": "stdout",
     "output_type": "stream",
     "text": [
      "Total combinations 128\n"
     ]
    }
   ],
   "source": [
    "algorithm = ['acs', 'acs2', 'acs2ga', 'yacs']\n",
    "hashz = ['sha256', 'md5']\n",
    "rmpx_size = [3, 6, 11, 20]\n",
    "modulo = [4, 8, 16, 32]\n",
    "\n",
    "\n",
    "res = list(itertools.product(algorithm, hashz, rmpx_size, modulo))\n",
    "\n",
    "print(f'Total combinations {len(res)}')"
   ]
  },
  {
   "cell_type": "code",
   "execution_count": 35,
   "id": "cleared-avatar",
   "metadata": {},
   "outputs": [
    {
     "data": {
      "text/html": [
       "<div>\n",
       "<style scoped>\n",
       "    .dataframe tbody tr th:only-of-type {\n",
       "        vertical-align: middle;\n",
       "    }\n",
       "\n",
       "    .dataframe tbody tr th {\n",
       "        vertical-align: top;\n",
       "    }\n",
       "\n",
       "    .dataframe thead th {\n",
       "        text-align: right;\n",
       "    }\n",
       "</style>\n",
       "<table border=\"1\" class=\"dataframe\">\n",
       "  <thead>\n",
       "    <tr style=\"text-align: right;\">\n",
       "      <th></th>\n",
       "      <th>agent</th>\n",
       "      <th>hash</th>\n",
       "      <th>rmpx_size</th>\n",
       "      <th>modulo</th>\n",
       "      <th>cmd</th>\n",
       "    </tr>\n",
       "  </thead>\n",
       "  <tbody>\n",
       "    <tr>\n",
       "      <th>0</th>\n",
       "      <td>acs</td>\n",
       "      <td>sha256</td>\n",
       "      <td>3</td>\n",
       "      <td>4</td>\n",
       "      <td>docker run --rm -e AWS_ACCESS_KEY=xacs</td>\n",
       "    </tr>\n",
       "    <tr>\n",
       "      <th>1</th>\n",
       "      <td>acs</td>\n",
       "      <td>sha256</td>\n",
       "      <td>3</td>\n",
       "      <td>8</td>\n",
       "      <td>docker run --rm -e AWS_ACCESS_KEY=xacs</td>\n",
       "    </tr>\n",
       "    <tr>\n",
       "      <th>2</th>\n",
       "      <td>acs</td>\n",
       "      <td>sha256</td>\n",
       "      <td>3</td>\n",
       "      <td>16</td>\n",
       "      <td>docker run --rm -e AWS_ACCESS_KEY=xacs</td>\n",
       "    </tr>\n",
       "    <tr>\n",
       "      <th>3</th>\n",
       "      <td>acs</td>\n",
       "      <td>sha256</td>\n",
       "      <td>3</td>\n",
       "      <td>32</td>\n",
       "      <td>docker run --rm -e AWS_ACCESS_KEY=xacs</td>\n",
       "    </tr>\n",
       "    <tr>\n",
       "      <th>4</th>\n",
       "      <td>acs</td>\n",
       "      <td>sha256</td>\n",
       "      <td>6</td>\n",
       "      <td>4</td>\n",
       "      <td>docker run --rm -e AWS_ACCESS_KEY=xacs</td>\n",
       "    </tr>\n",
       "    <tr>\n",
       "      <th>...</th>\n",
       "      <td>...</td>\n",
       "      <td>...</td>\n",
       "      <td>...</td>\n",
       "      <td>...</td>\n",
       "      <td>...</td>\n",
       "    </tr>\n",
       "    <tr>\n",
       "      <th>123</th>\n",
       "      <td>yacs</td>\n",
       "      <td>md5</td>\n",
       "      <td>11</td>\n",
       "      <td>32</td>\n",
       "      <td>docker run --rm -e AWS_ACCESS_KEY=xyacs</td>\n",
       "    </tr>\n",
       "    <tr>\n",
       "      <th>124</th>\n",
       "      <td>yacs</td>\n",
       "      <td>md5</td>\n",
       "      <td>20</td>\n",
       "      <td>4</td>\n",
       "      <td>docker run --rm -e AWS_ACCESS_KEY=xyacs</td>\n",
       "    </tr>\n",
       "    <tr>\n",
       "      <th>125</th>\n",
       "      <td>yacs</td>\n",
       "      <td>md5</td>\n",
       "      <td>20</td>\n",
       "      <td>8</td>\n",
       "      <td>docker run --rm -e AWS_ACCESS_KEY=xyacs</td>\n",
       "    </tr>\n",
       "    <tr>\n",
       "      <th>126</th>\n",
       "      <td>yacs</td>\n",
       "      <td>md5</td>\n",
       "      <td>20</td>\n",
       "      <td>16</td>\n",
       "      <td>docker run --rm -e AWS_ACCESS_KEY=xyacs</td>\n",
       "    </tr>\n",
       "    <tr>\n",
       "      <th>127</th>\n",
       "      <td>yacs</td>\n",
       "      <td>md5</td>\n",
       "      <td>20</td>\n",
       "      <td>32</td>\n",
       "      <td>docker run --rm -e AWS_ACCESS_KEY=xyacs</td>\n",
       "    </tr>\n",
       "  </tbody>\n",
       "</table>\n",
       "<p>128 rows × 5 columns</p>\n",
       "</div>"
      ],
      "text/plain": [
       "    agent    hash  rmpx_size  modulo                                      cmd\n",
       "0     acs  sha256          3       4   docker run --rm -e AWS_ACCESS_KEY=xacs\n",
       "1     acs  sha256          3       8   docker run --rm -e AWS_ACCESS_KEY=xacs\n",
       "2     acs  sha256          3      16   docker run --rm -e AWS_ACCESS_KEY=xacs\n",
       "3     acs  sha256          3      32   docker run --rm -e AWS_ACCESS_KEY=xacs\n",
       "4     acs  sha256          6       4   docker run --rm -e AWS_ACCESS_KEY=xacs\n",
       "..    ...     ...        ...     ...                                      ...\n",
       "123  yacs     md5         11      32  docker run --rm -e AWS_ACCESS_KEY=xyacs\n",
       "124  yacs     md5         20       4  docker run --rm -e AWS_ACCESS_KEY=xyacs\n",
       "125  yacs     md5         20       8  docker run --rm -e AWS_ACCESS_KEY=xyacs\n",
       "126  yacs     md5         20      16  docker run --rm -e AWS_ACCESS_KEY=xyacs\n",
       "127  yacs     md5         20      32  docker run --rm -e AWS_ACCESS_KEY=xyacs\n",
       "\n",
       "[128 rows x 5 columns]"
      ]
     },
     "execution_count": 35,
     "metadata": {},
     "output_type": "execute_result"
    }
   ],
   "source": [
    "exp = pd.DataFrame(res, columns=['agent', 'hash', 'rmpx_size', 'modulo'])\n",
    "exp['cmd'] = exp.apply(lambda row: f'docker run --rm -e AWS_ACCESS_KEY=x {row[\"agent\"]}', axis=1)\n",
    "exp\n"
   ]
  }
 ],
 "metadata": {
  "kernelspec": {
   "display_name": "Python 3",
   "language": "python",
   "name": "python3"
  },
  "language_info": {
   "codemirror_mode": {
    "name": "ipython",
    "version": 3
   },
   "file_extension": ".py",
   "mimetype": "text/x-python",
   "name": "python",
   "nbconvert_exporter": "python",
   "pygments_lexer": "ipython3",
   "version": "3.7.10"
  }
 },
 "nbformat": 4,
 "nbformat_minor": 5
}
