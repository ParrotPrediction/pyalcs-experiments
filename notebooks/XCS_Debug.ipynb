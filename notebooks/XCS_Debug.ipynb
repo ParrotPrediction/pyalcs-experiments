{
 "cells": [
  {
   "cell_type": "markdown",
   "metadata": {},
   "source": [
    "I decided to keep random tests here to confirm proper function and gain understanding \n"
   ]
  },
  {
   "cell_type": "code",
   "execution_count": null,
   "metadata": {},
   "outputs": [
    {
     "ename": "NameError",
     "evalue": "name 'self' is not defined",
     "traceback": [
      "\u001b[1;31m---------------------------------------------------------------------------\u001b[0m",
      "\u001b[1;31mNameError\u001b[0m                                 Traceback (most recent call last)",
      "\u001b[1;32m<ipython-input-19-ef77cc9dfa99>\u001b[0m in \u001b[0;36m<module>\u001b[1;34m\u001b[0m\n\u001b[0;32m      8\u001b[0m \u001b[1;33m\u001b[0m\u001b[0m\n\u001b[0;32m      9\u001b[0m \u001b[0mraw_state\u001b[0m \u001b[1;33m=\u001b[0m \u001b[0menv\u001b[0m\u001b[1;33m.\u001b[0m\u001b[0mreset\u001b[0m\u001b[1;33m(\u001b[0m\u001b[1;33m)\u001b[0m\u001b[1;33m\u001b[0m\u001b[1;33m\u001b[0m\u001b[0m\n\u001b[1;32m---> 10\u001b[1;33m \u001b[0mstate\u001b[0m \u001b[1;33m=\u001b[0m \u001b[0mself\u001b[0m\u001b[1;33m.\u001b[0m\u001b[0mcfg\u001b[0m\u001b[1;33m.\u001b[0m\u001b[0menvironment_adapter\u001b[0m\u001b[1;33m.\u001b[0m\u001b[0mto_genotype\u001b[0m\u001b[1;33m(\u001b[0m\u001b[0mraw_state\u001b[0m\u001b[1;33m)\u001b[0m\u001b[1;33m\u001b[0m\u001b[1;33m\u001b[0m\u001b[0m\n\u001b[0m",
      "\u001b[1;31mNameError\u001b[0m: name 'self' is not defined"
     ],
     "output_type": "error"
    }
   ],
   "source": [
    "import random\n",
    "array = [1, 2, 3, 4, 5, 6, 7, 8, 9, 0]\n",
    "xp = []\n",
    "for _ in range(50):\n",
    "    xp.append(\n",
    "        array[random.randrange(len(array))]\n",
    "    )\n",
    "print(xp)\n"
   ]
  },
  {
   "cell_type": "code",
   "execution_count": 1,
   "metadata": {},
   "outputs": [
    {
     "name": "stdout",
     "output_type": "stream",
     "text": [
      "[............................X..........$]\n"
     ]
    }
   ],
   "source": [
    "from lcs.agents.xcs import XCS, Configuration, Classifier, ClassifiersList\n",
    "from lcs.strategies.reinforcement_learning import simple_q_learning\n",
    "from copy import copy\n",
    "import gym\n",
    "# noinspection PyUnresolvedReferences\n",
    "import gym_corridor\n",
    "\n",
    "env = gym.make('corridor-40-v0')\n",
    "cfg = Configuration(2)\n",
    "\n",
    "env.reset()\n",
    "env.render()\n",
    "\n"
   ]
  },
  {
   "cell_type": "code",
   "execution_count": 2,
   "metadata": {},
   "outputs": [
    {
     "data": {
      "text/plain": [
       "TrialMetrics(steps=200, reward=5.639375827387077e-41)"
      ]
     },
     "execution_count": 2,
     "metadata": {},
     "output_type": "execute_result"
    }
   ],
   "source": [
    "\n",
    "agent2 = XCS(cfg)\n",
    "agent2._run_trial_explore(env, 0, 0)"
   ]
  },
  {
   "cell_type": "code",
   "execution_count": 20,
   "metadata": {},
   "outputs": [],
   "source": [
    "agent = XCS(cfg)\n",
    "prev_action_set = None\n",
    "prev_reward = None\n",
    "prev_state = None  # state is known as situation\n",
    "agent.time_stamp = 0  # steps\n",
    "agent.done = False  # eop\n",
    "reward = None\n",
    "\n",
    "raw_state = env.reset()\n",
    "state = agent.cfg.environment_adapter.to_genotype(raw_state)"
   ]
  },
  {
   "cell_type": "code",
   "execution_count": 89,
   "metadata": {},
   "outputs": [
    {
     "name": "stdout",
     "output_type": "stream",
     "text": [
      "Cond:23 - Act:0 - Num:1 [fit: 0.050, exp: 1.00, pred: 0.000]\nCond:23 - Act:1 - Num:1 [fit: 0.050, exp: 1.00, pred: 0.000]\n========================\n34 items\nCond:38 - Act:0 - Num:1 [fit: 0.095, exp: 2.00, pred: 0.000]\nCond:38 - Act:1 - Num:1 [fit: 0.000, exp: 0.00, pred: 0.000]\nCond:37 - Act:0 - Num:1 [fit: 0.095, exp: 2.00, pred: 0.000]\nCond:37 - Act:1 - Num:1 [fit: 0.050, exp: 1.00, pred: 0.000]\nCond:36 - Act:0 - Num:1 [fit: 0.095, exp: 2.00, pred: 0.000]\nCond:36 - Act:1 - Num:1 [fit: 0.050, exp: 1.00, pred: 0.000]\nCond:35 - Act:0 - Num:1 [fit: 0.095, exp: 2.00, pred: 0.000]\nCond:35 - Act:1 - Num:1 [fit: 0.050, exp: 1.00, pred: 0.000]\nCond:34 - Act:0 - Num:1 [fit: 0.136, exp: 3.00, pred: 0.000]\nCond:34 - Act:1 - Num:1 [fit: 0.050, exp: 1.00, pred: 0.000]\nCond:33 - Act:0 - Num:1 [fit: 0.095, exp: 2.00, pred: 0.000]\nCond:33 - Act:1 - Num:1 [fit: 0.095, exp: 2.00, pred: 0.000]\nCond:32 - Act:0 - Num:1 [fit: 0.172, exp: 4.00, pred: 0.000]\nCond:32 - Act:1 - Num:1 [fit: 0.050, exp: 1.00, pred: 0.000]\nCond:31 - Act:0 - Num:1 [fit: 0.095, exp: 2.00, pred: 0.000]\nCond:31 - Act:1 - Num:1 [fit: 0.136, exp: 3.00, pred: 0.000]\nCond:30 - Act:0 - Num:1 [fit: 0.095, exp: 2.00, pred: 0.000]\nCond:30 - Act:1 - Num:1 [fit: 0.050, exp: 1.00, pred: 0.000]\nCond:29 - Act:0 - Num:1 [fit: 0.095, exp: 2.00, pred: 0.000]\nCond:29 - Act:1 - Num:1 [fit: 0.050, exp: 1.00, pred: 0.000]\nCond:28 - Act:0 - Num:1 [fit: 0.050, exp: 1.00, pred: 0.000]\nCond:28 - Act:1 - Num:1 [fit: 0.050, exp: 1.00, pred: 0.000]\nCond:27 - Act:0 - Num:1 [fit: 0.095, exp: 2.00, pred: 0.000]\nCond:27 - Act:1 - Num:1 [fit: 0.000, exp: 0.00, pred: 0.000]\nCond:26 - Act:0 - Num:1 [fit: 0.205, exp: 5.00, pred: 0.000]\nCond:26 - Act:1 - Num:1 [fit: 0.050, exp: 1.00, pred: 0.000]\nCond:25 - Act:0 - Num:1 [fit: 0.095, exp: 2.00, pred: 0.000]\nCond:25 - Act:1 - Num:1 [fit: 0.172, exp: 4.00, pred: 0.000]\nCond:24 - Act:0 - Num:1 [fit: 0.095, exp: 2.00, pred: 0.000]\nCond:24 - Act:1 - Num:1 [fit: 0.050, exp: 1.00, pred: 0.000]\nCond:23 - Act:0 - Num:1 [fit: 0.050, exp: 1.00, pred: 0.000]\nCond:23 - Act:1 - Num:1 [fit: 0.050, exp: 1.00, pred: 0.000]\nCond:22 - Act:0 - Num:1 [fit: 0.000, exp: 0.00, pred: 0.000]\nCond:22 - Act:1 - Num:1 [fit: 0.050, exp: 1.00, pred: 0.000]\n[.......................X...............$]\n"
     ]
    }
   ],
   "source": [
    "match_set = agent.population.form_match_set(state, agent.time_stamp)\n",
    "prediction_array = match_set.prediction_array\n",
    "action = agent.select_action(prediction_array, match_set)\n",
    "action_set = match_set.form_action_set(action)\n",
    "\n",
    "\n",
    "raw_state, step_reward, done, _ = env.step(action)\n",
    "state = agent.cfg.environment_adapter.to_genotype(raw_state)\n",
    "reward = simple_q_learning(agent.act_reward[action],\n",
    "                            step_reward,\n",
    "                            agent.cfg.learning_rate,\n",
    "                            agent.cfg.gamma,\n",
    "                            match_set.best_prediction())\n",
    "\n",
    "agent._distribute_and_update(prev_action_set, prev_state, prev_reward, prediction_array)\n",
    "\n",
    "\n",
    "prev_action_set = copy(action_set)\n",
    "prev_reward = copy(reward)\n",
    "prev_state = copy(state)\n",
    "agent.time_stamp += 1\n",
    "\n",
    "for cl in match_set:\n",
    "    print(cl)\n",
    "print(\"========================\")\n",
    "print(agent.population)\n",
    "for cl in agent.population:\n",
    "    print(cl)\n",
    "env.render()\n"
   ]
  },
  {
   "cell_type": "code",
   "execution_count": 67,
   "metadata": {},
   "outputs": [],
   "source": []
  },
  {
   "cell_type": "code",
   "execution_count": null,
   "metadata": {},
   "outputs": [],
   "source": []
  }
 ],
 "metadata": {
  "kernelspec": {
   "display_name": "Python 2",
   "language": "python",
   "name": "python2"
  },
  "language_info": {
   "codemirror_mode": {
    "name": "ipython",
    "version": 2
   },
   "file_extension": ".py",
   "mimetype": "text/x-python",
   "name": "python",
   "nbconvert_exporter": "python",
   "pygments_lexer": "ipython2",
   "version": "2.7.6"
  }
 },
 "nbformat": 4,
 "nbformat_minor": 0
}
