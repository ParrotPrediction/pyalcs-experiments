{
 "cells": [
  {
   "cell_type": "code",
   "execution_count": 1,
   "metadata": {},
   "outputs": [],
   "source": [
    "import logging\n",
    "logging.basicConfig(level=logging.INFO)"
   ]
  },
  {
   "cell_type": "markdown",
   "metadata": {},
   "source": [
    "# ACS-ACS2\n",
    "Notatnik przedstawiający użycie algorytmów ACS i ACS2 dla przykładowego problemu Maze"
   ]
  },
  {
   "cell_type": "markdown",
   "metadata": {},
   "source": [
    "## Środowisko"
   ]
  },
  {
   "cell_type": "code",
   "execution_count": 2,
   "metadata": {},
   "outputs": [],
   "source": [
    "import gym\n",
    "import gym_maze"
   ]
  },
  {
   "cell_type": "code",
   "execution_count": 3,
   "metadata": {},
   "outputs": [
    {
     "name": "stdout",
     "output_type": "stream",
     "text": [
      "Maze ID: [MazeF1-v0], non-deterministic: [False]\n",
      "Maze ID: [MazeF2-v0], non-deterministic: [False]\n",
      "Maze ID: [MazeF3-v0], non-deterministic: [False]\n",
      "Maze ID: [MazeF4-v0], non-deterministic: [True]\n",
      "Maze ID: [Maze4-v0], non-deterministic: [False]\n",
      "Maze ID: [Maze5-v0], non-deterministic: [False]\n",
      "Maze ID: [Maze6-v0], non-deterministic: [True]\n",
      "Maze ID: [MazeT2-v0], non-deterministic: [False]\n",
      "Maze ID: [MazeT3-v0], non-deterministic: [False]\n",
      "Maze ID: [MazeT4-v0], non-deterministic: [True]\n",
      "Maze ID: [Maze228-v0], non-deterministic: [True]\n",
      "Maze ID: [Maze252-v0], non-deterministic: [True]\n",
      "Maze ID: [Maze288-v0], non-deterministic: [True]\n",
      "Maze ID: [Maze324-v0], non-deterministic: [True]\n"
     ]
    }
   ],
   "source": [
    "# Listowanie dostępnych środowisk\n",
    "filter_envs = lambda env: env.id.startswith(\"Maze\") or env.id.startswith(\"Woods\")\n",
    "\n",
    "all_envs = [env for env in gym.envs.registry.all()]\n",
    "maze_envs = [env for env in all_envs if filter_envs(env)]\n",
    "\n",
    "for env in maze_envs:\n",
    "    print(\"Maze ID: [{}], non-deterministic: [{}]\".format(\n",
    "            env.id, env.nondeterministic))"
   ]
  },
  {
   "cell_type": "code",
   "execution_count": 4,
   "metadata": {},
   "outputs": [
    {
     "name": "stdout",
     "output_type": "stream",
     "text": [
      "\n",
      "\u001b[30m■\u001b[0m \u001b[30m■\u001b[0m \u001b[30m■\u001b[0m \u001b[30m■\u001b[0m\n",
      "\u001b[30m■\u001b[0m \u001b[37m□\u001b[0m \u001b[33m$\u001b[0m \u001b[30m■\u001b[0m\n",
      "\u001b[30m■\u001b[0m \u001b[37m□\u001b[0m \u001b[30m■\u001b[0m \u001b[30m■\u001b[0m\n",
      "\u001b[30m■\u001b[0m \u001b[37m□\u001b[0m \u001b[31mA\u001b[0m \u001b[30m■\u001b[0m\n",
      "\u001b[30m■\u001b[0m \u001b[37m□\u001b[0m \u001b[30m■\u001b[0m \u001b[30m■\u001b[0m\n",
      "\u001b[30m■\u001b[0m \u001b[30m■\u001b[0m \u001b[30m■\u001b[0m \u001b[30m■\u001b[0m\n"
     ]
    }
   ],
   "source": [
    "# Użycie przykładowego środowika\n",
    "MAZE = \"MazeF1-v0\"\n",
    "\n",
    "maze = gym.make(MAZE)\n",
    "situation = maze.reset()\n",
    "\n",
    "maze.render()"
   ]
  },
  {
   "cell_type": "code",
   "execution_count": 5,
   "metadata": {},
   "outputs": [
    {
     "data": {
      "text/plain": [
       "['1', '1', '1', '1', '1', '0', '0', '0']"
      ]
     },
     "execution_count": 5,
     "metadata": {},
     "output_type": "execute_result"
    }
   ],
   "source": [
    "# przykład zwracanej percepcji (używana przez agenta)\n",
    "situation "
   ]
  },
  {
   "cell_type": "markdown",
   "metadata": {},
   "source": [
    "## Algorytmy\n",
    "Każdy algorytm ma swój obiekt konfiguracji który pozwala dostosować go do wybranego środowiska, określić parametry, zdefiniować własne metryki itp.\n",
    "\n",
    "Domyślne metryki to liczba kroków w trialu oraz ostateczna nagroda."
   ]
  },
  {
   "cell_type": "code",
   "execution_count": 6,
   "metadata": {},
   "outputs": [],
   "source": [
    "import lcs.agents.acs as acs\n",
    "import lcs.agents.acs2 as acs2"
   ]
  },
  {
   "cell_type": "markdown",
   "metadata": {},
   "source": [
    "### ACS"
   ]
  },
  {
   "cell_type": "code",
   "execution_count": 7,
   "metadata": {},
   "outputs": [],
   "source": [
    "acs_cfg = acs.Configuration(classifier_length=8, number_of_possible_actions=8, epsilon=0.9, metrics_trial_frequency=5)\n",
    "acs_agent = acs.ACS(acs_cfg)"
   ]
  },
  {
   "cell_type": "code",
   "execution_count": 8,
   "metadata": {},
   "outputs": [
    {
     "name": "stderr",
     "output_type": "stream",
     "text": [
      "INFO:lcs.agents.Agent:{'trial': 0, 'steps_in_trial': 23, 'reward': 1000, 'perf_time': 0.004979328979970887}\n",
      "INFO:lcs.agents.Agent:{'trial': 50, 'steps_in_trial': 17, 'reward': 1000, 'perf_time': 0.005170493997866288}\n",
      "INFO:lcs.agents.Agent:{'trial': 100, 'steps_in_trial': 15, 'reward': 1000, 'perf_time': 0.004103032988496125}\n",
      "INFO:lcs.agents.Agent:{'trial': 150, 'steps_in_trial': 30, 'reward': 1000, 'perf_time': 0.008430760994087905}\n",
      "INFO:lcs.agents.Agent:{'trial': 200, 'steps_in_trial': 50, 'reward': 0, 'perf_time': 0.014560273004462942}\n",
      "INFO:lcs.agents.Agent:{'trial': 250, 'steps_in_trial': 9, 'reward': 1000, 'perf_time': 0.002387760003330186}\n",
      "INFO:lcs.agents.Agent:{'trial': 300, 'steps_in_trial': 28, 'reward': 1000, 'perf_time': 0.007193817000370473}\n",
      "INFO:lcs.agents.Agent:{'trial': 350, 'steps_in_trial': 7, 'reward': 1000, 'perf_time': 0.0019813560065813363}\n",
      "INFO:lcs.agents.Agent:{'trial': 400, 'steps_in_trial': 50, 'reward': 0, 'perf_time': 0.012760959012666717}\n",
      "INFO:lcs.agents.Agent:{'trial': 450, 'steps_in_trial': 22, 'reward': 1000, 'perf_time': 0.006012690020725131}\n"
     ]
    }
   ],
   "source": [
    "# eksploracja\n",
    "acs_population, acs_explore_metrics = acs_agent.explore(maze, 500)"
   ]
  },
  {
   "cell_type": "code",
   "execution_count": 9,
   "metadata": {},
   "outputs": [
    {
     "name": "stdout",
     "output_type": "stream",
     "text": [
      "0910#### 0 1191#### (empty)               q: 1.0   r: 271.2  f: 271.2 \n",
      "11#11000 7 09#00111 (empty)               q: 1.0   r: 251.0  f: 251.0 \n",
      "#101#### 0 #910#### (empty)               q: 1.0   r: 239.4  f: 239.4 \n",
      "1191#### 4 0910#### (empty)               q: 1.0   r: 234.2  f: 234.2 \n",
      "00###111 1 11###000 (empty)               q: 1.0   r: 156.5  f: 156.5 \n",
      "#910#### 4 #101#### (empty)               q: 1.0   r: 137.8  f: 137.8 \n",
      "09#00111 3 11#11000 (empty)               q: 1.0   r: 131.8  f: 131.8 \n",
      "1#1#1000 6 0#0#0111 (empty)               q: 1.0   r: 120.3  f: 120.3 \n",
      "#01#1### 0 #10#0### (empty)               q: 1.0   r: 117.5  f: 117.5 \n",
      "11###000 5 00###111 (empty)               q: 1.0   r: 116.4  f: 116.4 \n",
      "#10#0### 4 #01#1### (empty)               q: 1.0   r: 112.1  f: 112.1 \n",
      "0#0#0111 2 1#1#1000 (empty)               q: 1.0   r: 105.1  f: 105.0 \n",
      "######## 4 ######## (empty)               q: 1.9e-09 r: 200.6  f: 3.809e-07\n",
      "######## 0 ######## (empty)               q: 3.14e-11 r: 242.8  f: 7.616e-09\n",
      "######## 3 ######## (empty)               q: 7.25e-17 r: 205.2  f: 1.488e-14\n",
      "######## 2 ######## (empty)               q: 2e-18 r: 211.7  f: 4.234e-16\n",
      "######## 6 ######## (empty)               q: 7.55e-19 r: 219.8  f: 1.659e-16\n",
      "######## 7 ######## (empty)               q: 6.81e-19 r: 233.1  f: 1.588e-16\n",
      "######## 5 ######## (empty)               q: 5.84e-19 r: 208.5  f: 1.218e-16\n",
      "######## 1 ######## (empty)               q: 1.99e-19 r: 212.5  f: 4.227e-17\n"
     ]
    }
   ],
   "source": [
    "# przykład populacji (quality - reward - fitness)\n",
    "for cl in sorted(acs_population, key=lambda c: -c.fitness)[:20]:\n",
    "    print(cl)"
   ]
  },
  {
   "cell_type": "markdown",
   "metadata": {},
   "source": [
    "### ACS2"
   ]
  },
  {
   "cell_type": "code",
   "execution_count": 10,
   "metadata": {},
   "outputs": [],
   "source": [
    "acs2_cfg = acs2.Configuration(classifier_length=8, number_of_possible_actions=8, epsilon=0.9, metrics_trial_frequency=5)\n",
    "acs2_agent = acs2.ACS2(acs2_cfg)"
   ]
  },
  {
   "cell_type": "code",
   "execution_count": 11,
   "metadata": {},
   "outputs": [
    {
     "name": "stderr",
     "output_type": "stream",
     "text": [
      "INFO:lcs.agents.Agent:{'trial': 0, 'steps_in_trial': 47, 'reward': 1000, 'perf_time': 0.018493223993573338}\n",
      "INFO:lcs.agents.Agent:{'trial': 50, 'steps_in_trial': 27, 'reward': 1000, 'perf_time': 0.016718879982363433}\n",
      "INFO:lcs.agents.Agent:{'trial': 100, 'steps_in_trial': 6, 'reward': 1000, 'perf_time': 0.0034206380078103393}\n",
      "INFO:lcs.agents.Agent:{'trial': 150, 'steps_in_trial': 22, 'reward': 1000, 'perf_time': 0.01230887699057348}\n",
      "INFO:lcs.agents.Agent:{'trial': 200, 'steps_in_trial': 50, 'reward': 0, 'perf_time': 0.02800431801006198}\n",
      "INFO:lcs.agents.Agent:{'trial': 250, 'steps_in_trial': 50, 'reward': 0, 'perf_time': 0.026174594997428358}\n",
      "INFO:lcs.agents.Agent:{'trial': 300, 'steps_in_trial': 50, 'reward': 0, 'perf_time': 0.030467581003904343}\n",
      "INFO:lcs.agents.Agent:{'trial': 350, 'steps_in_trial': 3, 'reward': 1000, 'perf_time': 0.0017615800024941564}\n",
      "INFO:lcs.agents.Agent:{'trial': 400, 'steps_in_trial': 18, 'reward': 1000, 'perf_time': 0.009686998004326597}\n",
      "INFO:lcs.agents.Agent:{'trial': 450, 'steps_in_trial': 33, 'reward': 1000, 'perf_time': 0.019032515003345907}\n"
     ]
    }
   ],
   "source": [
    "# eksploracja\n",
    "acs2_population, acs2_explore_metrics = acs2_agent.explore(maze, 500)"
   ]
  },
  {
   "cell_type": "code",
   "execution_count": 12,
   "metadata": {},
   "outputs": [
    {
     "name": "stdout",
     "output_type": "stream",
     "text": [
      "###0#### 1 ########         (empty)               q: 1.0   r: 1e+03  ir: 1e+03  f: 1e+03  exp: 250 tga: 55    talp: 12530 tav: 44.6   num: 1\n",
      "#9###### 1 ########         (empty)               q: 1.0   r: 1e+03  ir: 1e+03  f: 1e+03  exp: 249 tga: 63    talp: 12530 tav: 44.6   num: 1\n",
      "##9##### 2 ########         (empty)               q: 1.0   r: 999.2  ir: 999.2  f: 998.8  exp: 139 tga: 221   talp: 12491 tav: 91.4   num: 1\n",
      "####0### 1 ########         (empty)               q: 1.0   r: 452.1  ir: 452.1  f: 452.1  exp: 720 tga: 46    talp: 12567 tav: 18.6   num: 1\n",
      "1####### 2 ########         (empty)               q: 1.0   r: 316.0  ir: 316.0  f: 316.0  exp: 490 tga: 428   talp: 12562 tav: 31.9   num: 1\n",
      "##9##### 1 ########         (empty)               q: 0.999 r: 0.2282 ir: 0.2282 f: 0.2281 exp: 128 tga: 308   talp: 12529 tav: 1.36e+02 num: 1\n",
      "#9###### 2 ########         (empty)               q: 1.0   r: 0.0001656 ir: 0.0001656 f: 0.0001656 exp: 244 tga: 280   talp: 12511 tav: 68.0   num: 1\n",
      "##0##### 1 ########         (empty)               q: 1.0   r: 3.614e-06 ir: 3.614e-06 f: 3.614e-06 exp: 341 tga: 65    talp: 12567 tav: 41.4   num: 1\n",
      "#######0 1 ########         (empty)               q: 1.0   r: 1.128e-06 ir: 1.128e-06 f: 1.128e-06 exp: 365 tga: 261   talp: 12569 tav: 24.2   num: 1\n",
      "######0# 1 ########         (empty)               q: 1.0   r: 1.128e-06 ir: 1.128e-06 f: 1.128e-06 exp: 364 tga: 264   talp: 12569 tav: 24.2   num: 1\n",
      "#####0## 1 ########         (empty)               q: 1.0   r: 1.028e-06 ir: 1.028e-06 f: 1.028e-06 exp: 359 tga: 357   talp: 12569 tav: 24.2   num: 1\n",
      "#####0## 2 ########         (empty)               q: 1.0   r: 5.576e-07 ir: 5.576e-07 f: 5.576e-07 exp: 357 tga: 244   talp: 12562 tav: 45.0   num: 1\n",
      "#1###### 1 ########         (empty)               q: 1.0   r: 3.397e-17 ir: 3.397e-17 f: 3.397e-17 exp: 835 tga: 69    talp: 12569 tav: 12.1   num: 1\n",
      "#10#0### 4 #01#1###         (empty)               q: 1.0   r: 0.0    ir: 0.0    f: 0.0    exp: 452 tga: 3     talp: 12579 tav: 25.1   num: 1\n",
      "#01#1### 0 #10#0###         (empty)               q: 1.0   r: 0.0    ir: 0.0    f: 0.0    exp: 490 tga: 13    talp: 12578 tav: 27.6   num: 1\n",
      "0#0#0111 2 1#1#1000         (empty)               q: 1.0   r: 0.0    ir: 0.0    f: 0.0    exp: 479 tga: 16    talp: 12568 tav: 28.1   num: 1\n",
      "11###000 5 00###111         (empty)               q: 1.0   r: 0.0    ir: 0.0    f: 0.0    exp: 432 tga: 19    talp: 12574 tav: 29.1   num: 1\n",
      "#101#### 0 #910####         (empty)               q: 1.0   r: 0.0    ir: 0.0    f: 0.0    exp: 453 tga: 21    talp: 12510 tav: 27.0   num: 1\n",
      "#910#### 4 #101####         (empty)               q: 1.0   r: 0.0    ir: 0.0    f: 0.0    exp: 324 tga: 22    talp: 12537 tav: 36.4   num: 1\n",
      "#0###### 2 ########         (empty)               q: 1.0   r: 0.0    ir: 0.0    f: 0.0    exp: 330 tga: 27    talp: 12576 tav: 30.0   num: 1\n"
     ]
    }
   ],
   "source": [
    "# przykład populacji (quality - reward - fitness)\n",
    "for cl in sorted(acs2_population, key=lambda c: -c.fitness)[:20]:\n",
    "    print(cl)"
   ]
  },
  {
   "cell_type": "markdown",
   "metadata": {},
   "source": [
    "## Eksploitacja"
   ]
  },
  {
   "cell_type": "code",
   "execution_count": 13,
   "metadata": {},
   "outputs": [
    {
     "name": "stderr",
     "output_type": "stream",
     "text": [
      "INFO:lcs.agents.Agent:{'trial': 0, 'steps_in_trial': 50, 'reward': 0, 'perf_time': 0.009311678993981332}\n",
      "INFO:lcs.agents.Agent:{'trial': 5, 'steps_in_trial': 50, 'reward': 0, 'perf_time': 0.008491670014336705}\n",
      "INFO:lcs.agents.Agent:{'trial': 10, 'steps_in_trial': 50, 'reward': 0, 'perf_time': 0.012026921001961455}\n",
      "INFO:lcs.agents.Agent:{'trial': 15, 'steps_in_trial': 50, 'reward': 0, 'perf_time': 0.007844556006602943}\n",
      "INFO:lcs.agents.Agent:{'trial': 20, 'steps_in_trial': 50, 'reward': 0, 'perf_time': 0.009314456023275852}\n",
      "INFO:lcs.agents.Agent:{'trial': 25, 'steps_in_trial': 50, 'reward': 0, 'perf_time': 0.0080328680051025}\n",
      "INFO:lcs.agents.Agent:{'trial': 30, 'steps_in_trial': 50, 'reward': 0, 'perf_time': 0.011184767005033791}\n",
      "INFO:lcs.agents.Agent:{'trial': 35, 'steps_in_trial': 50, 'reward': 0, 'perf_time': 0.010848648002138361}\n",
      "INFO:lcs.agents.Agent:{'trial': 40, 'steps_in_trial': 50, 'reward': 0, 'perf_time': 0.010741824982687831}\n",
      "INFO:lcs.agents.Agent:{'trial': 45, 'steps_in_trial': 50, 'reward': 0, 'perf_time': 0.007906593004008755}\n"
     ]
    }
   ],
   "source": [
    "# Agent może zostać zainicjalizowany z początkowową wiedzą\n",
    "acs_exploiter_agent = acs.ACS(acs_cfg, acs_population)\n",
    "\n",
    "# A potem użyty w następujący sposób\n",
    "acs_exploit_population, acs_exploit_metrics = acs_exploiter_agent.exploit(maze, 50)"
   ]
  },
  {
   "cell_type": "markdown",
   "metadata": {},
   "source": [
    "## Własne metryki\n",
    "\n",
    "Zdefiniowanie własnej metryki - np. aktualny rozmiar populacji w danym trialu"
   ]
  },
  {
   "cell_type": "code",
   "execution_count": 17,
   "metadata": {},
   "outputs": [],
   "source": [
    "# własna funkcja która jako argument zawiera aktualną populację klasyfikatorów oraz testowane środowisko\n",
    "# zwraca słownik - możliwośc użycia wielu metryk\n",
    "def custom_metrics(agent, environment):\n",
    "    return {\n",
    "        'population': len(agent.population),\n",
    "    }"
   ]
  },
  {
   "cell_type": "code",
   "execution_count": 18,
   "metadata": {},
   "outputs": [
    {
     "name": "stderr",
     "output_type": "stream",
     "text": [
      "INFO:lcs.agents.Agent:{'trial': 0, 'steps_in_trial': 2, 'reward': 1000, 'perf_time': 0.0012873880041297525, 'population': 2}\n",
      "INFO:lcs.agents.Agent:{'trial': 50, 'steps_in_trial': 41, 'reward': 1000, 'perf_time': 0.023306999006308615, 'population': 83}\n",
      "INFO:lcs.agents.Agent:{'trial': 100, 'steps_in_trial': 2, 'reward': 1000, 'perf_time': 0.000945945008425042, 'population': 79}\n",
      "INFO:lcs.agents.Agent:{'trial': 150, 'steps_in_trial': 50, 'reward': 0, 'perf_time': 0.02787771201110445, 'population': 79}\n",
      "INFO:lcs.agents.Agent:{'trial': 200, 'steps_in_trial': 16, 'reward': 1000, 'perf_time': 0.007892353023635224, 'population': 79}\n",
      "INFO:lcs.agents.Agent:{'trial': 250, 'steps_in_trial': 2, 'reward': 1000, 'perf_time': 0.0009848009794950485, 'population': 79}\n",
      "INFO:lcs.agents.Agent:{'trial': 300, 'steps_in_trial': 7, 'reward': 1000, 'perf_time': 0.0038635200180578977, 'population': 79}\n",
      "INFO:lcs.agents.Agent:{'trial': 350, 'steps_in_trial': 18, 'reward': 1000, 'perf_time': 0.009213035984430462, 'population': 79}\n",
      "INFO:lcs.agents.Agent:{'trial': 400, 'steps_in_trial': 2, 'reward': 1000, 'perf_time': 0.0008977210090961307, 'population': 79}\n",
      "INFO:lcs.agents.Agent:{'trial': 450, 'steps_in_trial': 6, 'reward': 1000, 'perf_time': 0.003584769001463428, 'population': 79}\n"
     ]
    }
   ],
   "source": [
    "# metrykę należy umieścic w obiekcie konfiguracji agenta, np.\n",
    "acs2_cfg = acs2.Configuration(classifier_length=8,\n",
    "                              number_of_possible_actions=8,\n",
    "                              epsilon=0.9,\n",
    "                              user_metrics_collector_fcn=custom_metrics,\n",
    "                              metrics_trial_frequency=1)\n",
    "\n",
    "# ponowna inicjalizacja\n",
    "acs2_agent = acs2.ACS2(acs2_cfg)\n",
    "\n",
    "# i uruchomienie\n",
    "acs2_population, acs2_explore_metrics = acs2_agent.explore(maze, 500)"
   ]
  },
  {
   "cell_type": "markdown",
   "metadata": {},
   "source": [
    "Metryki zbierane są z określoną częstotliwością (w konfiguracji). Są obiektem typu słownik który da się łatwo przetwarzać."
   ]
  },
  {
   "cell_type": "code",
   "execution_count": 19,
   "metadata": {},
   "outputs": [
    {
     "data": {
      "text/html": [
       "<div>\n",
       "<style scoped>\n",
       "    .dataframe tbody tr th:only-of-type {\n",
       "        vertical-align: middle;\n",
       "    }\n",
       "\n",
       "    .dataframe tbody tr th {\n",
       "        vertical-align: top;\n",
       "    }\n",
       "\n",
       "    .dataframe thead th {\n",
       "        text-align: right;\n",
       "    }\n",
       "</style>\n",
       "<table border=\"1\" class=\"dataframe\">\n",
       "  <thead>\n",
       "    <tr style=\"text-align: right;\">\n",
       "      <th></th>\n",
       "      <th>steps_in_trial</th>\n",
       "      <th>reward</th>\n",
       "      <th>perf_time</th>\n",
       "      <th>population</th>\n",
       "    </tr>\n",
       "    <tr>\n",
       "      <th>trial</th>\n",
       "      <th></th>\n",
       "      <th></th>\n",
       "      <th></th>\n",
       "      <th></th>\n",
       "    </tr>\n",
       "  </thead>\n",
       "  <tbody>\n",
       "    <tr>\n",
       "      <th>0</th>\n",
       "      <td>2</td>\n",
       "      <td>1000</td>\n",
       "      <td>0.001287</td>\n",
       "      <td>2</td>\n",
       "    </tr>\n",
       "    <tr>\n",
       "      <th>1</th>\n",
       "      <td>10</td>\n",
       "      <td>1000</td>\n",
       "      <td>0.004451</td>\n",
       "      <td>10</td>\n",
       "    </tr>\n",
       "    <tr>\n",
       "      <th>2</th>\n",
       "      <td>15</td>\n",
       "      <td>1000</td>\n",
       "      <td>0.007040</td>\n",
       "      <td>19</td>\n",
       "    </tr>\n",
       "    <tr>\n",
       "      <th>3</th>\n",
       "      <td>47</td>\n",
       "      <td>1000</td>\n",
       "      <td>0.038495</td>\n",
       "      <td>33</td>\n",
       "    </tr>\n",
       "    <tr>\n",
       "      <th>4</th>\n",
       "      <td>48</td>\n",
       "      <td>1000</td>\n",
       "      <td>0.031514</td>\n",
       "      <td>47</td>\n",
       "    </tr>\n",
       "  </tbody>\n",
       "</table>\n",
       "</div>"
      ],
      "text/plain": [
       "       steps_in_trial  reward  perf_time  population\n",
       "trial                                               \n",
       "0                   2    1000   0.001287           2\n",
       "1                  10    1000   0.004451          10\n",
       "2                  15    1000   0.007040          19\n",
       "3                  47    1000   0.038495          33\n",
       "4                  48    1000   0.031514          47"
      ]
     },
     "execution_count": 19,
     "metadata": {},
     "output_type": "execute_result"
    }
   ],
   "source": [
    "import pandas as pd\n",
    "\n",
    "df = pd.DataFrame(acs2_explore_metrics)\n",
    "df.set_index('trial', inplace=True)\n",
    "\n",
    "df.head()"
   ]
  },
  {
   "cell_type": "code",
   "execution_count": 20,
   "metadata": {},
   "outputs": [
    {
     "data": {
      "image/png": "[encoded data removed]",
      "text/plain": [
       "<Figure size 432x288 with 1 Axes>"
      ]
     },
     "metadata": {
      "needs_background": "light"
     },
     "output_type": "display_data"
    }
   ],
   "source": [
    "df['population'].plot();"
   ]
  }
 ],
 "metadata": {
  "kernelspec": {
   "display_name": "Python 3",
   "language": "python",
   "name": "python3"
  },
  "language_info": {
   "codemirror_mode": {
    "name": "ipython",
    "version": 3
   },
   "file_extension": ".py",
   "mimetype": "text/x-python",
   "name": "python",
   "nbconvert_exporter": "python",
   "pygments_lexer": "ipython3",
   "version": "3.7.10"
  }
 },
 "nbformat": 4,
 "nbformat_minor": 4
}
