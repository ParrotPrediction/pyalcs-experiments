{
 "cells": [
  {
   "cell_type": "code",
   "execution_count": 1,
   "metadata": {},
   "outputs": [],
   "source": [
    "import logging\n",
    "logging.basicConfig(level=logging.INFO)"
   ]
  },
  {
   "cell_type": "markdown",
   "metadata": {},
   "source": [
    "# ACS-ACS2\n",
    "Notatnik przedstawiający użycie algorytmów ACS i ACS2 dla przykładowego problemu Maze"
   ]
  },
  {
   "cell_type": "markdown",
   "metadata": {},
   "source": [
    "## Środowisko"
   ]
  },
  {
   "cell_type": "code",
   "execution_count": 2,
   "metadata": {},
   "outputs": [],
   "source": [
    "import gym\n",
    "import gym_maze"
   ]
  },
  {
   "cell_type": "code",
   "execution_count": 3,
   "metadata": {},
   "outputs": [
    {
     "name": "stdout",
     "output_type": "stream",
     "text": [
      "Maze ID: [MazeF1-v0], non-deterministic: [False], trials: [100]\n",
      "Maze ID: [MazeF2-v0], non-deterministic: [False], trials: [100]\n",
      "Maze ID: [MazeF3-v0], non-deterministic: [False], trials: [100]\n",
      "Maze ID: [MazeF4-v0], non-deterministic: [True], trials: [100]\n",
      "Maze ID: [Maze4-v0], non-deterministic: [False], trials: [100]\n",
      "Maze ID: [Maze5-v0], non-deterministic: [False], trials: [100]\n",
      "Maze ID: [Maze6-v0], non-deterministic: [True], trials: [100]\n",
      "Maze ID: [MazeT2-v0], non-deterministic: [False], trials: [100]\n",
      "Maze ID: [MazeT3-v0], non-deterministic: [False], trials: [100]\n",
      "Maze ID: [MazeT4-v0], non-deterministic: [True], trials: [100]\n",
      "Maze ID: [Woods1-v0], non-deterministic: [False], trials: [100]\n",
      "Maze ID: [Woods14-v0], non-deterministic: [False], trials: [100]\n"
     ]
    }
   ],
   "source": [
    "# Listowanie dostępnych środowisk\n",
    "filter_envs = lambda env: env.id.startswith(\"Maze\") or env.id.startswith(\"Woods\")\n",
    "\n",
    "all_envs = [env for env in gym.envs.registry.all()]\n",
    "maze_envs = [env for env in all_envs if filter_envs(env)]\n",
    "\n",
    "for env in maze_envs:\n",
    "    print(\"Maze ID: [{}], non-deterministic: [{}], trials: [{}]\".format(\n",
    "            env.id, env.nondeterministic, env.trials))"
   ]
  },
  {
   "cell_type": "code",
   "execution_count": 4,
   "metadata": {},
   "outputs": [
    {
     "name": "stdout",
     "output_type": "stream",
     "text": [
      "\n",
      "\u001b[30m■\u001b[0m \u001b[30m■\u001b[0m \u001b[30m■\u001b[0m \u001b[30m■\u001b[0m\n",
      "\u001b[30m■\u001b[0m \u001b[31mA\u001b[0m \u001b[33m$\u001b[0m \u001b[30m■\u001b[0m\n",
      "\u001b[30m■\u001b[0m \u001b[37m□\u001b[0m \u001b[30m■\u001b[0m \u001b[30m■\u001b[0m\n",
      "\u001b[30m■\u001b[0m \u001b[37m□\u001b[0m \u001b[37m□\u001b[0m \u001b[30m■\u001b[0m\n",
      "\u001b[30m■\u001b[0m \u001b[37m□\u001b[0m \u001b[30m■\u001b[0m \u001b[30m■\u001b[0m\n",
      "\u001b[30m■\u001b[0m \u001b[30m■\u001b[0m \u001b[30m■\u001b[0m \u001b[30m■\u001b[0m\n"
     ]
    }
   ],
   "source": [
    "# Użycie przykładowego środowika\n",
    "MAZE = \"MazeF1-v0\"\n",
    "\n",
    "maze = gym.make(MAZE)\n",
    "situation = maze.reset()\n",
    "\n",
    "maze.render()"
   ]
  },
  {
   "cell_type": "code",
   "execution_count": 5,
   "metadata": {},
   "outputs": [
    {
     "data": {
      "text/plain": [
       "('1', '1', '9', '1', '0', '1', '1', '1')"
      ]
     },
     "execution_count": 5,
     "metadata": {},
     "output_type": "execute_result"
    }
   ],
   "source": [
    "# przykład zwracanej percepcji (używana przez agenta)\n",
    "situation "
   ]
  },
  {
   "cell_type": "markdown",
   "metadata": {},
   "source": [
    "## Algorytmy\n",
    "Każdy algorytm ma swój obiekt konfiguracji który pozwala dostosować go do wybranego środowiska, określić parametry, zdefiniować własne metryki itp.\n",
    "\n",
    "Domyślne metryki to liczba kroków w trialu oraz ostateczna nagroda."
   ]
  },
  {
   "cell_type": "code",
   "execution_count": 6,
   "metadata": {},
   "outputs": [],
   "source": [
    "import lcs.agents.acs as acs\n",
    "import lcs.agents.acs2 as acs2"
   ]
  },
  {
   "cell_type": "markdown",
   "metadata": {},
   "source": [
    "### ACS"
   ]
  },
  {
   "cell_type": "code",
   "execution_count": 7,
   "metadata": {},
   "outputs": [],
   "source": [
    "acs_cfg = acs.Configuration(8, 8, epsilon=0.9, metrics_trial_frequency=5)\n",
    "acs_agent = acs.ACS(acs_cfg)"
   ]
  },
  {
   "cell_type": "code",
   "execution_count": 19,
   "metadata": {},
   "outputs": [
    {
     "name": "stderr",
     "output_type": "stream",
     "text": [
      "INFO:lcs.agents.Agent:{'trial': 0, 'steps_in_trial': 34, 'reward': 1000}\n",
      "INFO:lcs.agents.Agent:{'trial': 50, 'steps_in_trial': 1, 'reward': 1000}\n",
      "INFO:lcs.agents.Agent:{'trial': 100, 'steps_in_trial': 12, 'reward': 1000}\n",
      "INFO:lcs.agents.Agent:{'trial': 150, 'steps_in_trial': 3, 'reward': 1000}\n",
      "INFO:lcs.agents.Agent:{'trial': 200, 'steps_in_trial': 47, 'reward': 1000}\n",
      "INFO:lcs.agents.Agent:{'trial': 250, 'steps_in_trial': 11, 'reward': 1000}\n",
      "INFO:lcs.agents.Agent:{'trial': 300, 'steps_in_trial': 5, 'reward': 1000}\n",
      "INFO:lcs.agents.Agent:{'trial': 350, 'steps_in_trial': 10, 'reward': 1000}\n",
      "INFO:lcs.agents.Agent:{'trial': 400, 'steps_in_trial': 11, 'reward': 1000}\n",
      "INFO:lcs.agents.Agent:{'trial': 450, 'steps_in_trial': 25, 'reward': 1000}\n"
     ]
    }
   ],
   "source": [
    "# eksploracja\n",
    "acs_population, acs_explore_metrics = acs_agent.explore(maze, 500)"
   ]
  },
  {
   "cell_type": "code",
   "execution_count": 20,
   "metadata": {},
   "outputs": [
    {
     "name": "stdout",
     "output_type": "stream",
     "text": [
      "#101#### 0 #910#### (empty)               q: 1.0   r: 414.2  f: 414.2 \n",
      "0910#### 0 1191#### (empty)               q: 1.0   r: 407.1  f: 407.1 \n",
      "11#11000 7 09#00111 (empty)               q: 1.0   r: 383.2  f: 383.2 \n",
      "00###111 1 11###000 (empty)               q: 1.0   r: 298.7  f: 298.7 \n",
      "1191#### 4 0910#### (empty)               q: 1.0   r: 291.9  f: 291.9 \n",
      "#01#1### 0 #10#0### (empty)               q: 1.0   r: 290.8  f: 290.8 \n",
      "11###000 5 00###111 (empty)               q: 1.0   r: 286.7  f: 286.7 \n",
      "1#1#1000 6 0#0#0111 (empty)               q: 1.0   r: 286.3  f: 286.3 \n",
      "#10#0### 4 #01#1### (empty)               q: 1.0   r: 283.5  f: 283.5 \n",
      "0#0#0111 2 1#1#1000 (empty)               q: 1.0   r: 279.5  f: 279.5 \n",
      "#910#### 4 #101#### (empty)               q: 1.0   r: 254.2  f: 254.2 \n",
      "09#00111 3 11#11000 (empty)               q: 1.0   r: 240.7  f: 240.7 \n",
      "09#0011# 1 11#1100# (empty)               q: 1.0   r: 0.5    f: 0.5   \n",
      "##9#011# 2 ##1#100# (empty)               q: 1.0   r: 0.5    f: 0.5   \n",
      "######## 0 ######## (empty)               q: 9.05e-14 r: 399.1  f: 3.613e-11\n",
      "######## 4 ######## (empty)               q: 3.12e-21 r: 362.8  f: 1.132e-18\n",
      "######## 1 ######## (empty)               q: 1.96e-22 r: 348.1  f: 6.809e-20\n",
      "######## 2 ######## (empty)               q: 9.76e-28 r: 369.9  f: 3.611e-25\n",
      "######## 5 ######## (empty)               q: 3.64e-30 r: 367.2  f: 1.338e-27\n",
      "######## 6 ######## (empty)               q: 3.46e-30 r: 375.2  f: 1.298e-27\n"
     ]
    }
   ],
   "source": [
    "# przykład populacji (quality - reward - fitness)\n",
    "for cl in sorted(acs_population, key=lambda c: -c.fitness)[:20]:\n",
    "    print(cl)"
   ]
  },
  {
   "cell_type": "markdown",
   "metadata": {},
   "source": [
    "### ACS2"
   ]
  },
  {
   "cell_type": "code",
   "execution_count": 12,
   "metadata": {},
   "outputs": [],
   "source": [
    "acs2_cfg = acs2.Configuration(8, 8, epsilon=0.9, metrics_trial_frequency=5)\n",
    "acs2_agent = acs2.ACS2(acs2_cfg)"
   ]
  },
  {
   "cell_type": "code",
   "execution_count": 1,
   "metadata": {},
   "outputs": [
    {
     "ename": "NameError",
     "evalue": "name 'acs2_agent' is not defined",
     "traceback": [
      "\u001b[1;31m---------------------------------------------------------------------------\u001b[0m",
      "\u001b[1;31mNameError\u001b[0m                                 Traceback (most recent call last)",
      "\u001b[1;32m<ipython-input-1-c43bf2b79426>\u001b[0m in \u001b[0;36m<module>\u001b[1;34m\u001b[0m\n\u001b[0;32m      1\u001b[0m \u001b[1;31m# eksploracja\u001b[0m\u001b[1;33m\u001b[0m\u001b[1;33m\u001b[0m\u001b[1;33m\u001b[0m\u001b[0m\n\u001b[1;32m----> 2\u001b[1;33m \u001b[0macs2_population\u001b[0m\u001b[1;33m,\u001b[0m \u001b[0macs2_explore_metrics\u001b[0m \u001b[1;33m=\u001b[0m \u001b[0macs2_agent\u001b[0m\u001b[1;33m.\u001b[0m\u001b[0mexplore\u001b[0m\u001b[1;33m(\u001b[0m\u001b[0mmaze\u001b[0m\u001b[1;33m,\u001b[0m \u001b[1;36m500\u001b[0m\u001b[1;33m)\u001b[0m\u001b[1;33m\u001b[0m\u001b[1;33m\u001b[0m\u001b[0m\n\u001b[0m",
      "\u001b[1;31mNameError\u001b[0m: name 'acs2_agent' is not defined"
     ],
     "output_type": "error"
    }
   ],
   "source": [
    "# eksploracja\n",
    "acs2_population, acs2_explore_metrics = acs2_agent.explore(maze, 500)"
   ]
  },
  {
   "cell_type": "code",
   "execution_count": 16,
   "metadata": {},
   "outputs": [
    {
     "name": "stdout",
     "output_type": "stream",
     "text": [
      "09#0011# 1 11#1100#         (empty)               q: 1.0   r: 1e+03  ir: 1e+03  f: 1e+03  exp: 475 tga: 8     talp: 11924 tav: 54.1   num: 1\n",
      "##9#011# 2 ##1#100#         (empty)               q: 1.0   r: 1e+03  ir: 1e+03  f: 1e+03  exp: 330 tga: 79    talp: 11922 tav: 67.1   num: 1\n",
      "###0#### 2 ########         (empty)               q: 1.0   r: 950.0  ir: 1.694e-09 f: 950.0  exp: 490 tga: 189   talp: 11908 tav: 44.1   num: 1\n",
      "#9###### 2 ########         (empty)               q: 1.0   r: 950.0  ir: 1.95e-09 f: 950.0  exp: 485 tga: 267   talp: 11908 tav: 44.1   num: 1\n",
      "##9##### 3 ########         (empty)               q: 1.0   r: 950.0  ir: 0.0    f: 950.0  exp: 343 tga: 79    talp: 11906 tav: 56.0   num: 1\n",
      "##9##### 5 ########         (empty)               q: 1.0   r: 950.0  ir: 0.0    f: 950.0  exp: 344 tga: 365   talp: 11921 tav: 56.1   num: 1\n",
      "###0#### 7 ########         (empty)               q: 1.0   r: 949.9  ir: 0.0    f: 949.9  exp: 480 tga: 72    talp: 11811 tav: 54.7   num: 1\n",
      "#101#### 0 #910####         (empty)               q: 1.0   r: 949.8  ir: 0.0    f: 949.8  exp: 699 tga: 19    talp: 11900 tav: 31.3   num: 1\n",
      "1191#### 4 0910####         (empty)               q: 1.0   r: 949.7  ir: 0.0    f: 949.7  exp: 353 tga: 22    talp: 11913 tav: 61.6   num: 1\n",
      "11#11000 7 09#00111         (empty)               q: 1.0   r: 949.7  ir: 0.0    f: 949.7  exp: 724 tga: 8     talp: 11924 tav: 35.2   num: 1\n",
      "0910#### 0 1191####         (empty)               q: 1.0   r: 949.6  ir: 0.0    f: 949.6  exp: 497 tga: 20    talp: 11915 tav: 38.2   num: 1\n",
      "##9#0### 1 ########         (empty)               q: 1.0   r: 949.5  ir: 9.608e-06 f: 949.5  exp: 338 tga: 433   talp: 11922 tav: 53.0   num: 1\n",
      "##9##### 1 ########         (empty)               q: 1.0   r: 949.5  ir: 0.0    f: 949.5  exp: 340 tga: 77    talp: 11922 tav: 53.0   num: 1\n",
      "##9##### 6 ########         (empty)               q: 1.0   r: 941.2  ir: 0.0    f: 941.2  exp: 340 tga: 429   talp: 11919 tav: 45.5   num: 1\n",
      "####0### 6 ########         (empty)               q: 1.0   r: 936.7  ir: 0.0    f: 936.7  exp: 1518 tga: 174   talp: 11919 tav: 14.1   num: 1\n",
      "1####### 0 ########         (empty)               q: 1.0   r: 931.5  ir: 0.0    f: 931.5  exp: 1042 tga: 134   talp: 11917 tav: 20.1   num: 1\n",
      "###0#### 6 ########         (empty)               q: 1.0   r: 931.5  ir: 0.0    f: 931.5  exp: 480 tga: 279   talp: 11914 tav: 43.3   num: 1\n",
      "#9###### 6 ########         (empty)               q: 1.0   r: 931.5  ir: 0.0    f: 931.5  exp: 470 tga: 824   talp: 11914 tav: 43.3   num: 1\n",
      "###10### 1 ########         (empty)               q: 1.0   r: 926.9  ir: 4.519e-21 f: 926.9  exp: 1009 tga: 116   talp: 11922 tav: 20.8   num: 1\n",
      "#1##0### 1 ########         (empty)               q: 1.0   r: 926.9  ir: 1.205e-20 f: 926.9  exp: 1006 tga: 290   talp: 11922 tav: 20.8   num: 1\n"
     ]
    }
   ],
   "source": [
    "# przykład populacji (quality - reward - fitness)\n",
    "for cl in sorted(acs2_population, key=lambda c: -c.fitness)[:20]:\n",
    "    print(cl)"
   ]
  },
  {
   "cell_type": "markdown",
   "metadata": {},
   "source": [
    "## Eksploitacja"
   ]
  },
  {
   "cell_type": "code",
   "execution_count": 25,
   "metadata": {},
   "outputs": [
    {
     "name": "stderr",
     "output_type": "stream",
     "text": [
      "INFO:lcs.agents.Agent:{'trial': 0, 'steps_in_trial': 50, 'reward': 0}\n",
      "INFO:lcs.agents.Agent:{'trial': 5, 'steps_in_trial': 50, 'reward': 0}\n",
      "INFO:lcs.agents.Agent:{'trial': 10, 'steps_in_trial': 50, 'reward': 0}\n",
      "INFO:lcs.agents.Agent:{'trial': 15, 'steps_in_trial': 50, 'reward': 0}\n",
      "INFO:lcs.agents.Agent:{'trial': 20, 'steps_in_trial': 50, 'reward': 0}\n",
      "INFO:lcs.agents.Agent:{'trial': 25, 'steps_in_trial': 50, 'reward': 0}\n",
      "INFO:lcs.agents.Agent:{'trial': 30, 'steps_in_trial': 50, 'reward': 0}\n",
      "INFO:lcs.agents.Agent:{'trial': 35, 'steps_in_trial': 50, 'reward': 0}\n",
      "INFO:lcs.agents.Agent:{'trial': 40, 'steps_in_trial': 50, 'reward': 0}\n",
      "INFO:lcs.agents.Agent:{'trial': 45, 'steps_in_trial': 50, 'reward': 0}\n"
     ]
    }
   ],
   "source": [
    "# Agent może zostać zainicjalizowany z początkowową wiedzą\n",
    "acs_exploiter_agent = acs.ACS(acs_cfg, acs_population)\n",
    "\n",
    "# A potem użyty w następujący sposób\n",
    "acs_exploit_population, acs_exploit_metrics = acs_exploiter_agent.exploit(maze, 50)"
   ]
  },
  {
   "cell_type": "markdown",
   "metadata": {},
   "source": [
    "## Własne metryki\n",
    "\n",
    "Zdefiniowanie własnej metryki - np. aktualny rozmiar populacji w danym trialu"
   ]
  },
  {
   "cell_type": "code",
   "execution_count": 27,
   "metadata": {},
   "outputs": [],
   "source": [
    "# własna funkcja która jako argument zawiera aktualną populację klasyfikatorów oraz testowane środowisko\n",
    "# zwraca słownik - możliwośc użycia wielu metryk\n",
    "def custom_metrics(population, environment):\n",
    "    return {\n",
    "        'population': len(population),\n",
    "    }"
   ]
  },
  {
   "cell_type": "code",
   "execution_count": 30,
   "metadata": {},
   "outputs": [
    {
     "name": "stderr",
     "output_type": "stream",
     "text": [
      "INFO:lcs.agents.Agent:{'trial': 0, 'steps_in_trial': 5, 'reward': 1000, 'population': 4}\n",
      "INFO:lcs.agents.Agent:{'trial': 50, 'steps_in_trial': 12, 'reward': 1000, 'population': 84}\n",
      "INFO:lcs.agents.Agent:{'trial': 100, 'steps_in_trial': 2, 'reward': 1000, 'population': 85}\n",
      "INFO:lcs.agents.Agent:{'trial': 150, 'steps_in_trial': 2, 'reward': 1000, 'population': 83}\n",
      "INFO:lcs.agents.Agent:{'trial': 200, 'steps_in_trial': 5, 'reward': 1000, 'population': 83}\n",
      "INFO:lcs.agents.Agent:{'trial': 250, 'steps_in_trial': 1, 'reward': 1000, 'population': 83}\n",
      "INFO:lcs.agents.Agent:{'trial': 300, 'steps_in_trial': 1, 'reward': 1000, 'population': 83}\n",
      "INFO:lcs.agents.Agent:{'trial': 350, 'steps_in_trial': 13, 'reward': 1000, 'population': 83}\n",
      "INFO:lcs.agents.Agent:{'trial': 400, 'steps_in_trial': 4, 'reward': 1000, 'population': 83}\n",
      "INFO:lcs.agents.Agent:{'trial': 450, 'steps_in_trial': 1, 'reward': 1000, 'population': 83}\n"
     ]
    }
   ],
   "source": [
    "# metrykę należy umieścic w obiekcie konfiguracji agenta, np.\n",
    "acs2_cfg = acs2.Configuration(8, 8,\n",
    "                              epsilon=0.9,\n",
    "                              user_metrics_collector_fcn=custom_metrics,\n",
    "                              metrics_trial_frequency=1)\n",
    "\n",
    "# ponowna inicjalizacja\n",
    "acs2_agent = acs2.ACS2(acs2_cfg)\n",
    "\n",
    "# i uruchomienie\n",
    "acs2_population, acs2_explore_metrics = acs2_agent.explore(maze, 500)"
   ]
  },
  {
   "cell_type": "markdown",
   "metadata": {},
   "source": [
    "Metryki zbierane są z określoną częstotliwością (w konfiguracji). Są obiektem typu słownik który da się łatwo przetwarzać."
   ]
  },
  {
   "cell_type": "code",
   "execution_count": 34,
   "metadata": {},
   "outputs": [
    {
     "data": {
      "text/html": [
       "<div>\n",
       "<style scoped>\n",
       "    .dataframe tbody tr th:only-of-type {\n",
       "        vertical-align: middle;\n",
       "    }\n",
       "\n",
       "    .dataframe tbody tr th {\n",
       "        vertical-align: top;\n",
       "    }\n",
       "\n",
       "    .dataframe thead th {\n",
       "        text-align: right;\n",
       "    }\n",
       "</style>\n",
       "<table border=\"1\" class=\"dataframe\">\n",
       "  <thead>\n",
       "    <tr style=\"text-align: right;\">\n",
       "      <th></th>\n",
       "      <th>steps_in_trial</th>\n",
       "      <th>reward</th>\n",
       "      <th>population</th>\n",
       "    </tr>\n",
       "    <tr>\n",
       "      <th>trial</th>\n",
       "      <th></th>\n",
       "      <th></th>\n",
       "      <th></th>\n",
       "    </tr>\n",
       "  </thead>\n",
       "  <tbody>\n",
       "    <tr>\n",
       "      <th>0</th>\n",
       "      <td>5</td>\n",
       "      <td>1000</td>\n",
       "      <td>4</td>\n",
       "    </tr>\n",
       "    <tr>\n",
       "      <th>1</th>\n",
       "      <td>1</td>\n",
       "      <td>1000</td>\n",
       "      <td>5</td>\n",
       "    </tr>\n",
       "    <tr>\n",
       "      <th>2</th>\n",
       "      <td>4</td>\n",
       "      <td>1000</td>\n",
       "      <td>7</td>\n",
       "    </tr>\n",
       "    <tr>\n",
       "      <th>3</th>\n",
       "      <td>6</td>\n",
       "      <td>1000</td>\n",
       "      <td>9</td>\n",
       "    </tr>\n",
       "    <tr>\n",
       "      <th>4</th>\n",
       "      <td>5</td>\n",
       "      <td>1000</td>\n",
       "      <td>9</td>\n",
       "    </tr>\n",
       "  </tbody>\n",
       "</table>\n",
       "</div>"
      ],
      "text/plain": [
       "       steps_in_trial  reward  population\n",
       "trial                                    \n",
       "0                   5    1000           4\n",
       "1                   1    1000           5\n",
       "2                   4    1000           7\n",
       "3                   6    1000           9\n",
       "4                   5    1000           9"
      ]
     },
     "execution_count": 34,
     "metadata": {},
     "output_type": "execute_result"
    }
   ],
   "source": [
    "import pandas as pd\n",
    "\n",
    "df = pd.DataFrame(acs2_explore_metrics)\n",
    "df.set_index('trial', inplace=True)\n",
    "\n",
    "df.head()"
   ]
  },
  {
   "cell_type": "code",
   "execution_count": 36,
   "metadata": {},
   "outputs": [
    {
     "data": {
      "image/png": "[encoded data removed]",
      "text/plain": [
       "<Figure size 432x288 with 1 Axes>"
      ]
     },
     "metadata": {
      "needs_background": "light"
     },
     "output_type": "display_data"
    }
   ],
   "source": [
    "df['population'].plot();"
   ]
  }
 ],
 "metadata": {
  "kernelspec": {
   "display_name": "Python 3",
   "language": "python",
   "name": "python3"
  },
  "language_info": {
   "codemirror_mode": {
    "name": "ipython",
    "version": 3
   },
   "file_extension": ".py",
   "mimetype": "text/x-python",
   "name": "python",
   "nbconvert_exporter": "python",
   "pygments_lexer": "ipython3",
   "version": "3.7.5"
  }
 },
 "nbformat": 4,
 "nbformat_minor": 4
}
