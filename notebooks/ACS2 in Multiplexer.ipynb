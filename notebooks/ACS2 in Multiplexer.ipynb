{
 "cells": [
  {
   "cell_type": "markdown",
   "metadata": {},
   "source": [
    "# ACS2 in Multiplexer"
   ]
  },
  {
   "cell_type": "code",
   "execution_count": 1,
   "metadata": {},
   "outputs": [],
   "source": [
    "%matplotlib inline\n",
    "\n",
    "# General\n",
    "from __future__ import unicode_literals\n",
    "\n",
    "import matplotlib\n",
    "import matplotlib.pyplot as plt\n",
    "import matplotlib.ticker as tkr\n",
    "\n",
    "import numpy as np\n",
    "import pandas as pd\n",
    "\n",
    "# Logger\n",
    "import logging\n",
    "logging.basicConfig(level=logging.WARN)\n",
    "\n",
    "\n",
    "# Enable automatic module reload\n",
    "%load_ext autoreload\n",
    "%autoreload 2\n",
    "\n",
    "# Load PyALCS module\n",
    "from lcs.agents import EnvironmentAdapter\n",
    "from lcs.agents.acs2 import ACS2, Configuration, ClassifiersList\n",
    "from lcs.metrics import population_metrics\n",
    "\n",
    "# Load environments\n",
    "import gym\n",
    "import gym_multiplexer"
   ]
  },
  {
   "cell_type": "markdown",
   "metadata": {},
   "source": [
    "## Multiplexer"
   ]
  },
  {
   "cell_type": "code",
   "execution_count": 2,
   "metadata": {},
   "outputs": [
    {
     "name": "stdout",
     "output_type": "stream",
     "text": [
      "[0, 0, 1, 0, 0, 0, 0, 0, 0, 1, 1, 0, 0, 1, 0, 1, 1, 0, 1, 0, 0]\n"
     ]
    }
   ],
   "source": [
    "mp = gym.make('boolean-multiplexer-20bit-v0')\n",
    "situation = mp.reset()\n",
    "\n",
    "# render phenotype\n",
    "mp.render()"
   ]
  },
  {
   "cell_type": "code",
   "execution_count": 3,
   "metadata": {},
   "outputs": [
    {
     "name": "stdout",
     "output_type": "stream",
     "text": [
      "New state: [0, 0, 1, 0, 0, 0, 0, 0, 0, 1, 1, 0, 0, 1, 0, 1, 1, 0, 1, 0, 1], reward: 1000, is done: True\n"
     ]
    }
   ],
   "source": [
    "# perform random action\n",
    "state, reward, done, _ = mp.step(mp.action_space.sample())\n",
    "print(f\"New state: {state}, reward: {reward}, is done: {done}\")"
   ]
  },
  {
   "cell_type": "markdown",
   "metadata": {},
   "source": [
    "## Environment adapter"
   ]
  },
  {
   "cell_type": "code",
   "execution_count": 4,
   "metadata": {},
   "outputs": [],
   "source": [
    "class MultiplexerAdapter(EnvironmentAdapter):\n",
    "    @classmethod\n",
    "    def to_genotype(cls, phenotype):\n",
    "        return [str(x) for x in phenotype]"
   ]
  },
  {
   "cell_type": "code",
   "execution_count": 5,
   "metadata": {},
   "outputs": [
    {
     "data": {
      "text/plain": [
       "'001000000110010110101'"
      ]
     },
     "execution_count": 5,
     "metadata": {},
     "output_type": "execute_result"
    }
   ],
   "source": [
    "genotype = MultiplexerAdapter().to_genotype(state)\n",
    "''.join(genotype)"
   ]
  },
  {
   "cell_type": "markdown",
   "metadata": {},
   "source": [
    "## Go agent, go...\n",
    "Perform experiment for a couple of explore/exploit trials."
   ]
  },
  {
   "cell_type": "code",
   "execution_count": 6,
   "metadata": {},
   "outputs": [],
   "source": [
    "def get_6bit_mp_actors():        \n",
    "    mp = gym.make('boolean-multiplexer-6bit-v0')\n",
    "    cfg = Configuration(\n",
    "        mp.env.observation_space.n, 2,\n",
    "        environment_adapter=MultiplexerAdapter(),\n",
    "        user_metrics_collector_fcn=population_metrics,\n",
    "        do_ga=True)\n",
    "\n",
    "    return ACS2(cfg), mp\n",
    "\n",
    "def get_11bit_mp_actors():\n",
    "    mp = gym.make('boolean-multiplexer-11bit-v0')    \n",
    "    cfg = Configuration(\n",
    "        mp.env.observation_space.n, 2,\n",
    "        environment_adapter=MultiplexerAdapter(),\n",
    "        user_metrics_collector_fcn=population_metrics,\n",
    "        do_ga=True)\n",
    "\n",
    "    return ACS2(cfg), mp\n",
    "\n",
    "def get_20bit_mp_actors():\n",
    "    mp = gym.make('boolean-multiplexer-20bit-v0')\n",
    "    cfg = Configuration(\n",
    "        mp.env.observation_space.n, 2,\n",
    "        environment_adapter=MultiplexerAdapter(),\n",
    "        user_metrics_collector_fcn=population_metrics,\n",
    "        do_ga=True)\n",
    "\n",
    "    return ACS2(cfg), mp"
   ]
  },
  {
   "cell_type": "code",
   "execution_count": 7,
   "metadata": {},
   "outputs": [],
   "source": [
    "def perform_experiment(agent, env, trials=250_000):\n",
    "    population, metrics = agent.explore_exploit(env, trials)\n",
    "    \n",
    "    print(\"Population size: {}\".format(metrics[-1]['population']))\n",
    "    print(\"Reliable size: {}\".format(metrics[-1]['reliable']))\n",
    "    print(metrics[-1])\n",
    "    \n",
    "    reliable_classifiers = [c for c in population if c.is_reliable()]\n",
    "    reliable_classifiers = sorted(reliable_classifiers, key=lambda cl: -cl.fitness)\n",
    "\n",
    "    # Print top 10 reliable classifiers\n",
    "    for cl in reliable_classifiers[:10]:\n",
    "        print(f\"{cl}, q: {cl.q:.2f}, fit: {cl.fitness:.2f}, exp: {cl.exp:.2f}\")\n",
    "    \n",
    "    return population, metrics"
   ]
  },
  {
   "cell_type": "markdown",
   "metadata": {},
   "source": [
    "Here you will probably want to run these experiments for about 250k trials."
   ]
  },
  {
   "cell_type": "code",
   "execution_count": 8,
   "metadata": {},
   "outputs": [],
   "source": [
    "TRIALS = 5_000"
   ]
  },
  {
   "cell_type": "markdown",
   "metadata": {},
   "source": [
    "### 6-bit MPX"
   ]
  },
  {
   "cell_type": "code",
   "execution_count": 9,
   "metadata": {},
   "outputs": [
    {
     "name": "stdout",
     "output_type": "stream",
     "text": [
      "Population size: 160\n",
      "Reliable size: 53\n",
      "{'trial': 4995, 'steps_in_trial': 1, 'reward': 1000, 'population': 160, 'numerosity': 351, 'reliable': 53}\n",
      "10##0## 0 ######1          (empty)               q: 1.0   r: 1e+03  ir: 1e+03  f: 1e+03  exp: 197 tga: 4886  talp: 4924  tav: 21.3   num: 14, q: 1.00, fit: 1000.00, exp: 197.00\n",
      "01#0### 0 ######1          (empty)               q: 1.0   r: 1e+03  ir: 1e+03  f: 1e+03  exp: 196 tga: 4880  talp: 4992  tav: 26.3   num: 15, q: 1.00, fit: 1000.00, exp: 196.00\n",
      "01#1### 1 ######1          (empty)               q: 1.0   r: 1e+03  ir: 1e+03  f: 1e+03  exp: 206 tga: 4902  talp: 4968  tav: 23.0   num: 12, q: 1.00, fit: 1000.00, exp: 206.00\n",
      "0#11### 1 ######1          (empty)               q: 1.0   r: 1e+03  ir: 1e+03  f: 1e+03  exp: 206 tga: 4902  talp: 4972  tav: 21.5   num: 5, q: 1.00, fit: 1000.00, exp: 206.00\n",
      "10##1## 1 ######1          (empty)               q: 1.0   r: 1e+03  ir: 1e+03  f: 1e+03  exp: 183 tga: 4906  talp: 4994  tav: 20.5   num: 14, q: 1.00, fit: 1000.00, exp: 183.00\n",
      "11###1# 1 ######1          (empty)               q: 1.0   r: 1e+03  ir: 1e+03  f: 1e+03  exp: 158 tga: 4984  talp: 4998  tav: 19.7   num: 15, q: 1.00, fit: 1000.00, exp: 158.00\n",
      "000###0 0 ######1          (empty)               q: 1.0   r: 1e+03  ir: 1e+03  f: 1e+03  exp: 203 tga: 4948  talp: 4996  tav: 21.4   num: 4, q: 1.00, fit: 1000.00, exp: 203.00\n",
      "#00#0## 0 ######1          (empty)               q: 1.0   r: 1e+03  ir: 1e+03  f: 1e+03  exp: 183 tga: 4948  talp: 4948  tav: 22.5   num: 2, q: 1.00, fit: 1000.00, exp: 183.00\n",
      "11###0# 0 ######1          (empty)               q: 1.0   r: 1e+03  ir: 1e+03  f: 1e+03  exp: 152 tga: 4914  talp: 4988  tav: 20.6   num: 6, q: 1.00, fit: 1000.00, exp: 152.00\n",
      "11###00 0 ######1          (empty)               q: 1.0   r: 1e+03  ir: 1e+03  f: 1e+03  exp: 204 tga: 4914  talp: 4988  tav: 20.6   num: 7, q: 1.00, fit: 1000.00, exp: 204.00\n",
      "CPU times: user 7.11 s, sys: 17.6 ms, total: 7.12 s\n",
      "Wall time: 7.15 s\n"
     ]
    }
   ],
   "source": [
    "%%time\n",
    "p6, m6 = perform_experiment(*get_6bit_mp_actors(), trials=TRIALS)"
   ]
  },
  {
   "cell_type": "markdown",
   "metadata": {},
   "source": [
    "### 11-bit MPX"
   ]
  },
  {
   "cell_type": "code",
   "execution_count": 10,
   "metadata": {},
   "outputs": [
    {
     "name": "stdout",
     "output_type": "stream",
     "text": [
      "Population size: 1575\n",
      "Reliable size: 81\n",
      "{'trial': 4995, 'steps_in_trial': 1, 'reward': 1000, 'population': 1575, 'numerosity': 1726, 'reliable': 81}\n",
      "#11###0###00 0 ###########1     (empty)               q: 1.0   r: 1e+03  ir: 1e+03  f: 1e+03  exp: 117 tga: 4884  talp: 4914  tav: 44.4   num: 8, q: 1.00, fit: 1000.00, exp: 117.00\n",
      "0#1#0#0####0 0 ###########1     (empty)               q: 1.0   r: 1e+03  ir: 1e+03  f: 1e+03  exp: 111 tga: 4912  talp: 4912  tav: 46.3   num: 8, q: 1.00, fit: 1000.00, exp: 111.00\n",
      "0#00#0#####0 0 ###########1     (empty)               q: 1.0   r: 1e+03  ir: 1e+03  f: 1e+03  exp: 88  tga: 4926  talp: 4998  tav: 43.3   num: 7, q: 1.00, fit: 1000.00, exp: 88.00\n",
      "111#######1# 1 ###########1     (empty)               q: 1.0   r: 1e+03  ir: 1e+03  f: 1e+03  exp: 93  tga: 4908  talp: 4950  tav: 41.1   num: 11, q: 1.00, fit: 999.99, exp: 93.00\n",
      "1#0####1#1#0 1 ###########1     (empty)               q: 1.0   r: 1e+03  ir: 1e+03  f: 1e+03  exp: 76  tga: 4976  talp: 4976  tav: 45.4   num: 5, q: 1.00, fit: 999.96, exp: 76.00\n",
      "0#1#1#1####0 1 ###########1     (empty)               q: 1.0   r: 999.9  ir: 999.9  f: 999.9  exp: 66  tga: 4970  talp: 4980  tav: 46.8   num: 8, q: 1.00, fit: 999.93, exp: 66.00\n",
      "001#1######0 1 ###########1     (empty)               q: 1.0   r: 999.9  ir: 999.9  f: 999.9  exp: 70  tga: 4970  talp: 4970  tav: 43.9   num: 1, q: 1.00, fit: 999.90, exp: 70.00\n",
      "00#11######0 1 ###########1     (empty)               q: 1.0   r: 999.9  ir: 999.9  f: 999.9  exp: 71  tga: 4860  talp: 4876  tav: 44.9   num: 2, q: 1.00, fit: 999.89, exp: 71.00\n",
      "#10##1###1#0 1 ###########1     (empty)               q: 1.0   r: 999.9  ir: 999.9  f: 999.9  exp: 72  tga: 4904  talp: 4904  tav: 46.4   num: 6, q: 1.00, fit: 999.87, exp: 72.00\n",
      "010##0###### 0 ###########1     (empty)               q: 1.0   r: 1e+03  ir: 1e+03  f: 999.8  exp: 59  tga: 4846  talp: 4998  tav: 51.3   num: 8, q: 1.00, fit: 999.84, exp: 59.00\n",
      "CPU times: user 34.3 s, sys: 56.3 ms, total: 34.3 s\n",
      "Wall time: 34.4 s\n"
     ]
    }
   ],
   "source": [
    "%%time\n",
    "p11, m11 = perform_experiment(*get_11bit_mp_actors(), trials=TRIALS)"
   ]
  },
  {
   "cell_type": "markdown",
   "metadata": {},
   "source": [
    "### 20-bit MPX"
   ]
  },
  {
   "cell_type": "code",
   "execution_count": null,
   "metadata": {},
   "outputs": [],
   "source": [
    "%%time\n",
    "p20, m20 = perform_experiment(*get_20bit_mp_actors(), trials=TRIALS)"
   ]
  },
  {
   "cell_type": "code",
   "execution_count": null,
   "metadata": {},
   "outputs": [],
   "source": [
    "def parse_metrics(metrics):\n",
    "    lst = [[\n",
    "        m['trial'],\n",
    "        m['numerosity'],\n",
    "        m['reliable'],\n",
    "        m['reward'],\n",
    "    ] for m in metrics]\n",
    "\n",
    "    df = pd.DataFrame(lst, columns=['trial', 'numerosity', 'reliable', 'reward'])\n",
    "    df = df.set_index('trial')\n",
    "\n",
    "    return df"
   ]
  },
  {
   "cell_type": "code",
   "execution_count": null,
   "metadata": {},
   "outputs": [],
   "source": [
    "# parse metrics to df\n",
    "df6bit = parse_metrics(m6)\n",
    "df11bit = parse_metrics(m11)\n",
    "df20bit = parse_metrics(m20)"
   ]
  },
  {
   "cell_type": "markdown",
   "metadata": {},
   "source": [
    "## Number of reliable classifiers"
   ]
  },
  {
   "cell_type": "code",
   "execution_count": null,
   "metadata": {},
   "outputs": [],
   "source": [
    "window=50\n",
    "\n",
    "fig, ax = plt.subplots()\n",
    "\n",
    "df6bit['reliable'].rolling(window=window).mean().plot(label='6-bit', linewidth=1.0, ax=ax)\n",
    "df11bit['reliable'].rolling(window=window).mean().plot(label='11-bit', linewidth=1.0, ax=ax)\n",
    "df20bit['reliable'].rolling(window=window).mean().plot(label='20-bit', linewidth=1.0, ax=ax)\n",
    "\n",
    "ax.set_xlabel('Trial')\n",
    "ax.set_ylabel('Reliable classifiers')\n",
    "ax.set_title(f'Number of reliable classifiers for boolean MPX.\\nResults averaged over {window} trials')\n",
    "\n",
    "plt.legend()\n",
    "plt.show()"
   ]
  },
  {
   "cell_type": "markdown",
   "metadata": {},
   "source": [
    "## Average reward"
   ]
  },
  {
   "cell_type": "code",
   "execution_count": null,
   "metadata": {},
   "outputs": [],
   "source": [
    "window=250\n",
    "\n",
    "fig, ax = plt.subplots()\n",
    "\n",
    "df6bit['reward'].rolling(window=window).mean().plot(label='6-bit', linewidth=1.0, ax=ax)\n",
    "df11bit['reward'].rolling(window=window).mean().plot(label='11-bit', linewidth=1.0, ax=ax)\n",
    "df20bit['reward'].rolling(window=window).mean().plot(label='20-bit', linewidth=1.0, ax=ax)\n",
    "plt.axhline(1000, c='black', linewidth=1.0, linestyle=':')\n",
    "\n",
    "\n",
    "ax.set_xlabel('Trial')\n",
    "ax.set_ylabel('Reward')\n",
    "ax.set_title(f'Reward obtained.\\nResults averaged over {window} trials')\n",
    "ax.set_ylim([500, 1050])\n",
    "\n",
    "plt.legend()\n",
    "plt.show()"
   ]
  }
 ],
 "metadata": {
  "kernelspec": {
   "display_name": "Python 3",
   "language": "python",
   "name": "python3"
  },
  "language_info": {
   "codemirror_mode": {
    "name": "ipython",
    "version": 3
   },
   "file_extension": ".py",
   "mimetype": "text/x-python",
   "name": "python",
   "nbconvert_exporter": "python",
   "pygments_lexer": "ipython3",
   "version": "3.7.10"
  }
 },
 "nbformat": 4,
 "nbformat_minor": 4
}