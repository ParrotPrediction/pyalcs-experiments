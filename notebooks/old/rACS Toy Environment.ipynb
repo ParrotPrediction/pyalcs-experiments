{
 "cells": [
  {
   "cell_type": "markdown",
   "metadata": {},
   "source": [
    "# rACS Toy Environment"
   ]
  },
  {
   "cell_type": "code",
   "execution_count": 1,
   "metadata": {},
   "outputs": [],
   "source": [
    "# Logger\n",
    "import logging\n",
    "logging.basicConfig(level=logging.INFO)\n",
    "\n",
    "import numpy as np\n",
    "import pandas as pd\n",
    "import matplotlib.pyplot as plt\n",
    "\n",
    "import itertools\n",
    "\n",
    "# Import local paths\n",
    "import sys, os\n",
    "sys.path.append(os.path.abspath('../../..'))\n",
    "sys.path.append(os.path.abspath('../../../../openai-envs'))\n",
    "\n",
    "# Enable automatic module reload\n",
    "%load_ext autoreload\n",
    "%autoreload 2\n",
    "\n",
    "# Load PyALCS module\n",
    "from lcs.representations.RealValueEncoder import RealValueEncoder\n",
    "from lcs.agents.racs import RACS, Configuration\n",
    "from lcs.metrics import population_metrics\n",
    "\n",
    "# Load OpenAI environments\n",
    "import gym\n",
    "import gym_real_value_toy"
   ]
  },
  {
   "cell_type": "markdown",
   "metadata": {},
   "source": [
    "## Single boundary\n",
    "This environment renders two dimensional space where the first dimension is responsible for determining class value. The threshold is set to `x < 0.5`."
   ]
  },
  {
   "cell_type": "code",
   "execution_count": 2,
   "metadata": {},
   "outputs": [
    {
     "data": {
      "text/plain": [
       "[0.21164740585926423, 0.6317627744036273, 0]"
      ]
     },
     "execution_count": 2,
     "metadata": {},
     "output_type": "execute_result"
    }
   ],
   "source": [
    "env = gym.make('orthogonal-single-boundary-v0')\n",
    "env.reset()"
   ]
  },
  {
   "cell_type": "markdown",
   "metadata": {},
   "source": [
    "The agent should ..."
   ]
  },
  {
   "cell_type": "code",
   "execution_count": 3,
   "metadata": {},
   "outputs": [],
   "source": [
    "def build_agent(env, encoder_bits):\n",
    "    cfg = Configuration(env.observation_space.shape[0], env.action_space.n,\n",
    "                        encoder=RealValueEncoder(encoder_bits),\n",
    "                        metrics_trial_frequency=5,\n",
    "                        user_metrics_collector_fcn=population_metrics,\n",
    "                        epsilon=1.0,  # no biased exploration\n",
    "                        do_ga=False,\n",
    "                        theta_r=0.9,  # reliablity threshold\n",
    "                        theta_i=0.2,  # inadequacy threshold\n",
    "                        theta_ga=100,\n",
    "                        chi=0.5,  # cross-over probability\n",
    "                        mu=0.1,  # mutation probability\n",
    "                        mutation_noise=1.0)  \n",
    "\n",
    "    return RACS(cfg)"
   ]
  },
  {
   "cell_type": "markdown",
   "metadata": {},
   "source": [
    "Explore the environment"
   ]
  },
  {
   "cell_type": "code",
   "execution_count": 4,
   "metadata": {},
   "outputs": [
    {
     "name": "stderr",
     "output_type": "stream",
     "text": [
      "INFO:lcs.agents.Agent:{'trial': 0, 'steps_in_trial': 1, 'reward': 0, 'population': 1, 'numerosity': 1, 'reliable': 0}\n"
     ]
    },
    {
     "name": "stdout",
     "output_type": "stream",
     "text": [
      "CPU times: user 3.37 s, sys: 43.1 ms, total: 3.41 s\n",
      "Wall time: 3.6 s\n"
     ]
    }
   ],
   "source": [
    "%%time\n",
    "\n",
    "agent = build_agent(env, 2)\n",
    "population, metrics = agent.explore_exploit(env, 5_000)"
   ]
  },
  {
   "cell_type": "markdown",
   "metadata": {},
   "source": [
    "Divide explored population by niches"
   ]
  },
  {
   "cell_type": "code",
   "execution_count": 5,
   "metadata": {},
   "outputs": [
    {
     "name": "stdout",
     "output_type": "stream",
     "text": [
      "\n",
      "=== Action [0] (10) ===\n",
      "\n",
      "O...|OOOO|OOOO\t[UBR(x1=0, x2=0), UBR(x1=0, x2=3), UBR(x1=0, x2=3)]\n",
      "OOOO|OOOO|OOOO\t[UBR(x1=0, x2=3), UBR(x1=0, x2=3), UBR(x1=0, x2=3)]\n",
      "q: 1.00, fit: 0.00, num: 1\n",
      "\n",
      ".O..|OOOO|OOOO\t[UBR(x1=1, x2=1), UBR(x1=0, x2=3), UBR(x1=0, x2=3)]\n",
      "OOOO|OOOO|OOOO\t[UBR(x1=0, x2=3), UBR(x1=0, x2=3), UBR(x1=0, x2=3)]\n",
      "q: 1.00, fit: 0.00, num: 1\n",
      "\n",
      "..O.|OOOO|O...\t[UBR(x1=2, x2=2), UBR(x1=0, x2=3), UBR(x1=0, x2=0)]\n",
      "OOOO|OOOO|...O\t[UBR(x1=0, x2=3), UBR(x1=0, x2=3), UBR(x1=3, x2=3)]\n",
      "q: 1.00, fit: 1.00, num: 1\n",
      "\n",
      "...O|OOOO|O...\t[UBR(x1=3, x2=3), UBR(x1=0, x2=3), UBR(x1=0, x2=0)]\n",
      "OOOO|OOOO|...O\t[UBR(x1=0, x2=3), UBR(x1=0, x2=3), UBR(x1=3, x2=3)]\n",
      "q: 1.00, fit: 1.00, num: 1\n",
      "\n",
      "..O.|..O.|O...\t[UBR(x1=2, x2=2), UBR(x1=2, x2=2), UBR(x1=0, x2=0)]\n",
      "OOOO|OOOO|...O\t[UBR(x1=0, x2=3), UBR(x1=0, x2=3), UBR(x1=3, x2=3)]\n",
      "q: 1.00, fit: 1.00, num: 1\n",
      "\n",
      "...O|..O.|O...\t[UBR(x1=3, x2=3), UBR(x1=2, x2=2), UBR(x1=0, x2=0)]\n",
      "OOOO|OOOO|...O\t[UBR(x1=0, x2=3), UBR(x1=0, x2=3), UBR(x1=3, x2=3)]\n",
      "q: 1.00, fit: 1.00, num: 1\n",
      "\n",
      "..O.|...O|O...\t[UBR(x1=2, x2=2), UBR(x1=3, x2=3), UBR(x1=0, x2=0)]\n",
      "OOOO|OOOO|...O\t[UBR(x1=0, x2=3), UBR(x1=0, x2=3), UBR(x1=3, x2=3)]\n",
      "q: 0.99, fit: 0.99, num: 1\n",
      "\n",
      "...O|.O..|O...\t[UBR(x1=3, x2=3), UBR(x1=1, x2=1), UBR(x1=0, x2=0)]\n",
      "OOOO|OOOO|...O\t[UBR(x1=0, x2=3), UBR(x1=0, x2=3), UBR(x1=3, x2=3)]\n",
      "q: 0.99, fit: 0.99, num: 1\n",
      "\n",
      "...O|...O|O...\t[UBR(x1=3, x2=3), UBR(x1=3, x2=3), UBR(x1=0, x2=0)]\n",
      "OOOO|OOOO|...O\t[UBR(x1=0, x2=3), UBR(x1=0, x2=3), UBR(x1=3, x2=3)]\n",
      "q: 0.94, fit: 0.94, num: 1\n",
      "\n",
      "O...|O...|OOOO\t[UBR(x1=0, x2=0), UBR(x1=0, x2=0), UBR(x1=0, x2=3)]\n",
      "OOOO|OOOO|OOOO\t[UBR(x1=0, x2=3), UBR(x1=0, x2=3), UBR(x1=0, x2=3)]\n",
      "q: 0.94, fit: 0.06, num: 1\n",
      "\n",
      "=== Action [1] (6) ===\n",
      "\n",
      "..O.|OOOO|OOOO\t[UBR(x1=2, x2=2), UBR(x1=0, x2=3), UBR(x1=0, x2=3)]\n",
      "OOOO|OOOO|OOOO\t[UBR(x1=0, x2=3), UBR(x1=0, x2=3), UBR(x1=0, x2=3)]\n",
      "q: 1.00, fit: 0.00, num: 1\n",
      "\n",
      "...O|OOOO|OOOO\t[UBR(x1=3, x2=3), UBR(x1=0, x2=3), UBR(x1=0, x2=3)]\n",
      "OOOO|OOOO|OOOO\t[UBR(x1=0, x2=3), UBR(x1=0, x2=3), UBR(x1=0, x2=3)]\n",
      "q: 1.00, fit: 0.00, num: 1\n",
      "\n",
      ".O..|OOOO|O...\t[UBR(x1=1, x2=1), UBR(x1=0, x2=3), UBR(x1=0, x2=0)]\n",
      "OOOO|OOOO|...O\t[UBR(x1=0, x2=3), UBR(x1=0, x2=3), UBR(x1=3, x2=3)]\n",
      "q: 1.00, fit: 1.00, num: 1\n",
      "\n",
      "O...|OOOO|O...\t[UBR(x1=0, x2=0), UBR(x1=0, x2=3), UBR(x1=0, x2=0)]\n",
      "OOOO|OOOO|...O\t[UBR(x1=0, x2=3), UBR(x1=0, x2=3), UBR(x1=3, x2=3)]\n",
      "q: 1.00, fit: 1.00, num: 1\n",
      "\n",
      ".O..|O...|O...\t[UBR(x1=1, x2=1), UBR(x1=0, x2=0), UBR(x1=0, x2=0)]\n",
      "OOOO|OOOO|...O\t[UBR(x1=0, x2=3), UBR(x1=0, x2=3), UBR(x1=3, x2=3)]\n",
      "q: 1.00, fit: 1.00, num: 1\n",
      "\n",
      "O...|O...|O...\t[UBR(x1=0, x2=0), UBR(x1=0, x2=0), UBR(x1=0, x2=0)]\n",
      "OOOO|OOOO|...O\t[UBR(x1=0, x2=3), UBR(x1=0, x2=3), UBR(x1=3, x2=3)]\n",
      "q: 0.93, fit: 0.93, num: 1\n"
     ]
    }
   ],
   "source": [
    "population = [cl for cl in population if cl.is_reliable()]\n",
    "population = sorted(population, key=lambda cl: cl.action)\n",
    "\n",
    "for action, classifiers in itertools.groupby(population, key=lambda cl: cl.action):\n",
    "    classifiers = list(classifiers)\n",
    "    print(f\"\\n=== Action [{action}] ({len(classifiers)}) ===\")\n",
    "    for cl in classifiers:\n",
    "        print(f\"\\n{cl.condition}\\t{cl.condition._items}\")\n",
    "        print(f\"{cl.effect}\\t{cl.effect._items}\")\n",
    "        print(f\"q: {cl.q:.2f}, fit: {cl.fitness:.2f}, num: {cl.num}\")"
   ]
  },
  {
   "cell_type": "markdown",
   "metadata": {},
   "source": [
    "Let's validate if we have any duplicate classifiers inside population"
   ]
  },
  {
   "cell_type": "code",
   "execution_count": 6,
   "metadata": {},
   "outputs": [
    {
     "data": {
      "text/plain": [
       "0"
      ]
     },
     "execution_count": 6,
     "metadata": {},
     "output_type": "execute_result"
    }
   ],
   "source": [
    "import itertools\n",
    "\n",
    "combinations = list(itertools.product(population, population))  # cartesian product\n",
    "\n",
    "similar = sum(1 for (cl1, cl2) in combinations if cl1 == cl2)  # all similar pairs\n",
    "diagonal = len(population)  # classifiers on diagonal (identities)\n",
    "\n",
    "similar - diagonal"
   ]
  },
  {
   "cell_type": "markdown",
   "metadata": {},
   "source": [
    "Visualize learning progress"
   ]
  },
  {
   "cell_type": "code",
   "execution_count": 7,
   "metadata": {},
   "outputs": [
    {
     "data": {
      "text/html": [
       "<div>\n",
       "<style scoped>\n",
       "    .dataframe tbody tr th:only-of-type {\n",
       "        vertical-align: middle;\n",
       "    }\n",
       "\n",
       "    .dataframe tbody tr th {\n",
       "        vertical-align: top;\n",
       "    }\n",
       "\n",
       "    .dataframe thead th {\n",
       "        text-align: right;\n",
       "    }\n",
       "</style>\n",
       "<table border=\"1\" class=\"dataframe\">\n",
       "  <thead>\n",
       "    <tr style=\"text-align: right;\">\n",
       "      <th></th>\n",
       "      <th>population</th>\n",
       "      <th>numerosity</th>\n",
       "      <th>reliable</th>\n",
       "      <th>reward</th>\n",
       "      <th>mode</th>\n",
       "    </tr>\n",
       "    <tr>\n",
       "      <th>trial</th>\n",
       "      <th></th>\n",
       "      <th></th>\n",
       "      <th></th>\n",
       "      <th></th>\n",
       "      <th></th>\n",
       "    </tr>\n",
       "  </thead>\n",
       "  <tbody>\n",
       "    <tr>\n",
       "      <th>0</th>\n",
       "      <td>1</td>\n",
       "      <td>1</td>\n",
       "      <td>0</td>\n",
       "      <td>0</td>\n",
       "      <td>explore</td>\n",
       "    </tr>\n",
       "    <tr>\n",
       "      <th>5</th>\n",
       "      <td>3</td>\n",
       "      <td>3</td>\n",
       "      <td>0</td>\n",
       "      <td>0</td>\n",
       "      <td>exploit</td>\n",
       "    </tr>\n",
       "    <tr>\n",
       "      <th>10</th>\n",
       "      <td>3</td>\n",
       "      <td>3</td>\n",
       "      <td>0</td>\n",
       "      <td>0</td>\n",
       "      <td>explore</td>\n",
       "    </tr>\n",
       "    <tr>\n",
       "      <th>15</th>\n",
       "      <td>5</td>\n",
       "      <td>5</td>\n",
       "      <td>0</td>\n",
       "      <td>0</td>\n",
       "      <td>exploit</td>\n",
       "    </tr>\n",
       "    <tr>\n",
       "      <th>20</th>\n",
       "      <td>8</td>\n",
       "      <td>8</td>\n",
       "      <td>0</td>\n",
       "      <td>0</td>\n",
       "      <td>explore</td>\n",
       "    </tr>\n",
       "  </tbody>\n",
       "</table>\n",
       "</div>"
      ],
      "text/plain": [
       "       population  numerosity  reliable  reward     mode\n",
       "trial                                                   \n",
       "0               1           1         0       0  explore\n",
       "5               3           3         0       0  exploit\n",
       "10              3           3         0       0  explore\n",
       "15              5           5         0       0  exploit\n",
       "20              8           8         0       0  explore"
      ]
     },
     "execution_count": 7,
     "metadata": {},
     "output_type": "execute_result"
    }
   ],
   "source": [
    "def parse_metrics(metrics):\n",
    "    lst = [[\n",
    "        d['trial'],\n",
    "        d['population'],\n",
    "        d['numerosity'],\n",
    "        d['reliable'],\n",
    "        d['reward']\n",
    "    ] for d in metrics]\n",
    "\n",
    "    df = pd.DataFrame(lst, columns=['trial', 'population', 'numerosity', 'reliable', 'reward'])\n",
    "    df = df.set_index('trial')\n",
    "\n",
    "    return df\n",
    "\n",
    "df = parse_metrics(metrics)\n",
    "df['mode'] = df.index.map(lambda t: \"explore\" if t % 2 == 0 else \"exploit\")\n",
    "df.head()"
   ]
  },
  {
   "cell_type": "code",
   "execution_count": 8,
   "metadata": {},
   "outputs": [],
   "source": [
    "explore_df = df[df['mode'] == 'explore']\n",
    "exploit_df = df[df['mode'] == 'exploit']"
   ]
  },
  {
   "cell_type": "markdown",
   "metadata": {},
   "source": [
    "## Performance plot"
   ]
  },
  {
   "cell_type": "code",
   "execution_count": 9,
   "metadata": {},
   "outputs": [
    {
     "data": {
      "image/png": "[encoded data removed]",
      "text/plain": [
       "<Figure size 432x288 with 1 Axes>"
      ]
     },
     "metadata": {},
     "output_type": "display_data"
    }
   ],
   "source": [
    "window = 50\n",
    "\n",
    "fig, ax = plt.subplots()\n",
    "explore_df['reward'].rolling(window=window).mean().plot(label='explore', ax=ax)\n",
    "exploit_df['reward'].rolling(window=window).mean().plot(label='exploit', ax=ax)\n",
    "plt.axhline(1.0, c='black', linestyle=':')\n",
    "\n",
    "ax.set_title('Performance (average reward)')\n",
    "ax.set_xlabel('Trial')\n",
    "ax.set_ylabel('Reward')\n",
    "ax.set_ylim([.4, 1.05])\n",
    "\n",
    "plt.legend()\n",
    "plt.show()"
   ]
  },
  {
   "cell_type": "markdown",
   "metadata": {},
   "source": [
    "### Classifiers plot"
   ]
  },
  {
   "cell_type": "code",
   "execution_count": 10,
   "metadata": {},
   "outputs": [
    {
     "data": {
      "image/png": "[encoded data removed]",
      "text/plain": [
       "<Figure size 432x288 with 1 Axes>"
      ]
     },
     "metadata": {},
     "output_type": "display_data"
    }
   ],
   "source": [
    "window=50\n",
    "\n",
    "fig, ax = plt.subplots()\n",
    "df['population'].rolling(window=window).mean().plot(label='macroclassifiers', ax=ax)\n",
    "df['reliable'].rolling(window=window).mean().plot(label='reliable', ax=ax)\n",
    "\n",
    "ax.set_title('Classifier numerosity')\n",
    "ax.set_xlabel('Trial')\n",
    "ax.set_ylabel('Number of classifiers')\n",
    "\n",
    "plt.legend()\n",
    "plt.show()"
   ]
  }
 ],
 "metadata": {
  "kernelspec": {
   "display_name": "Python 3",
   "language": "python",
   "name": "python3"
  },
  "language_info": {
   "codemirror_mode": {
    "name": "ipython",
    "version": 3
   },
   "file_extension": ".py",
   "mimetype": "text/x-python",
   "name": "python",
   "nbconvert_exporter": "python",
   "pygments_lexer": "ipython3",
   "version": "3.7.0"
  }
 },
 "nbformat": 4,
 "nbformat_minor": 2
}
