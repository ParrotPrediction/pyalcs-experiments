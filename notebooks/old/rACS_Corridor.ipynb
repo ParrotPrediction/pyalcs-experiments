{
 "cells": [
  {
   "cell_type": "code",
   "execution_count": 2,
   "metadata": {},
   "outputs": [
    {
     "name": "stdout",
     "output_type": "stream",
     "text": [
      "The autoreload extension is already loaded. To reload it, use:\n",
      "  %reload_ext autoreload\n"
     ]
    }
   ],
   "source": [
    "# Logger\n",
    "import logging\n",
    "logging.basicConfig(level=logging.INFO)\n",
    "\n",
    "from time import sleep\n",
    "\n",
    "import ipywidgets as widgets\n",
    "\n",
    "import pandas as pd\n",
    "\n",
    "import numpy as np\n",
    "from matplotlib import pyplot as plt\n",
    "\n",
    "# Import local paths\n",
    "import sys, os\n",
    "sys.path.append(os.path.abspath('../'))\n",
    "sys.path.append(os.path.abspath('../openai-envs'))\n",
    "\n",
    "# Enable automatic module reload\n",
    "%load_ext autoreload\n",
    "%autoreload 2\n",
    "\n",
    "# Load PyALCS module\n",
    "from lcs.metrics import population_metrics\n",
    "from lcs.agents import EnvironmentAdapter\n",
    "from lcs.agents.acs2 import ACS2, Configuration, ClassifiersList\n",
    "\n",
    "# Load environments\n",
    "import gym\n",
    "import gym_corridor\n",
    "\n",
    "# Load utils\n",
    "from utils.corridor import print_cl, plot_performance\n",
    "\n",
    "%matplotlib inline"
   ]
  },
  {
   "cell_type": "markdown",
   "metadata": {},
   "source": [
    "## Parameter selection"
   ]
  },
  {
   "cell_type": "code",
   "execution_count": 3,
   "metadata": {},
   "outputs": [
    {
     "data": {
      "application/vnd.jupyter.widget-view+json": {
       "model_id": "9d56b408a08740528bba6dcc3c605ec5",
       "version_major": 2,
       "version_minor": 0
      },
      "text/plain": [
       "Tab(children=(VBox(children=(Dropdown(description='Environment: ', options=(('Corridor 20', 'corridor-20-v0'),…"
      ]
     },
     "metadata": {},
     "output_type": "display_data"
    }
   ],
   "source": [
    "# Parameters list\n",
    "# https://ipywidgets.readthedocs.io/en/latest/examples/Widget%20List.html\n",
    "\n",
    "# Environment parameters\n",
    "env_select = widgets.Dropdown(options=[\n",
    "    ('Corridor 20', 'corridor-20-v0'),\n",
    "    ('Corridor 40', 'corridor-40-v0'),\n",
    "    ('Corridor 100', 'corridor-100-v0')], description='Environment: ')\n",
    "\n",
    "env_params = widgets.VBox(children=[env_select])\n",
    "\n",
    "# Agent parameters\n",
    "epsilon_slider = widgets.HBox([\n",
    "    widgets.Label(value='Exploration rate $\\epsilon$: '),\n",
    "    widgets.FloatSlider(value=1.0, min=0.0, max=1.0, step=0.05)\n",
    "])\n",
    "\n",
    "beta_slider = widgets.FloatSlider(value=0.05, min=0.0, max=1.0, step=0.05, description='Beta (learning rate): ')\n",
    "gamma_slider = widgets.FloatSlider(value=0.95, min=0.0, max=1.0, step=0.05, description='Gamma: ')\n",
    "do_ga_chbkx = widgets.Checkbox(value=True, description='Genetic Generalization')\n",
    "agent_params = widgets.VBox(children=[epsilon_slider, beta_slider, gamma_slider, do_ga_chbkx])\n",
    "\n",
    "# Experiment parameters\n",
    "explore_trials = widgets.IntSlider(value=300, min=10, max=10_000, step=10, description='Explore trials: ')\n",
    "exploit_trials = widgets.IntSlider(value=100, min=0, max=1000, step=10, description='Exploit trials: ')\n",
    "metrics_freq = widgets.IntSlider(value=5, min=0, max=100, step=10, description='Metric freq: ')\n",
    "\n",
    "exp_params = widgets.VBox(children=[\n",
    "    widgets.HBox(children=[explore_trials, exploit_trials]),\n",
    "    metrics_freq\n",
    "])\n",
    "\n",
    "# Rendering final tab\n",
    "tabs = widgets.Tab(children=[env_params, agent_params, exp_params])\n",
    "tabs.set_title(0, 'Environment')\n",
    "tabs.set_title(1, 'Agent')\n",
    "tabs.set_title(2, 'Experiment')\n",
    "\n",
    "display(tabs)"
   ]
  },
  {
   "cell_type": "code",
   "execution_count": 4,
   "metadata": {},
   "outputs": [],
   "source": [
    "def start_experiment():\n",
    "    # Prepare the environment\n",
    "    env = gym.make(env_select.value)\n",
    "    \n",
    "    # Build agent configuration\n",
    "    # Collect additional population metrics\n",
    "    def corridor_metrics(pop, env):\n",
    "        metrics = {}\n",
    "        metrics.update(population_metrics(pop, env))\n",
    "        return metrics\n",
    "    \n",
    "    class CorridorAdapter(EnvironmentAdapter):\n",
    "        @staticmethod\n",
    "        def to_genotype(phenotype):\n",
    "            return phenotype,\n",
    "\n",
    "    cfg = Configuration(\n",
    "            classifier_length=1,\n",
    "            number_of_possible_actions=2,\n",
    "            epsilon=epsilon_slider.children[1].value,\n",
    "            beta=beta_slider.value,\n",
    "            gamma=gamma_slider.value,\n",
    "            theta_exp=50,\n",
    "            theta_ga=50,\n",
    "            do_ga=do_ga_chbkx.value,\n",
    "            mu=0.03,\n",
    "            u_max=1,\n",
    "            metrics_trial_frequency=exp_params.children[1].value,\n",
    "            environment_adapter=CorridorAdapter,\n",
    "            user_metrics_collector_fcn=corridor_metrics)\n",
    "    \n",
    "    print(cfg)\n",
    "    sleep(1)\n",
    "    \n",
    "    # Perform environment interaction\n",
    "    explore_trials, exploit_trials = map(lambda x: x.value, exp_params.children[0].children)\n",
    "    \n",
    "    explorer = ACS2(cfg)\n",
    "    population_explore, metrics_explore = explorer.explore(env, explore_trials)\n",
    "    \n",
    "    exploiter = ACS2(cfg, population_explore)\n",
    "    population_exploit, metrics_exploit = explorer.exploit(env, exploit_trials)\n",
    "    \n",
    "    # Parse results into DataFrame\n",
    "    df = parse_experiments_results(metrics_explore, metrics_exploit, cfg.metrics_trial_frequency)\n",
    "    \n",
    "    # Plot results\n",
    "    plot_performance(df, population_exploit)"
   ]
  },
  {
   "cell_type": "code",
   "execution_count": 5,
   "metadata": {},
   "outputs": [],
   "source": [
    "# Build button for running simulation\n",
    "out = widgets.Output()\n",
    "\n",
    "@out.capture()\n",
    "def btn_clicked(btn):\n",
    "    out.clear_output()\n",
    "    start_experiment()\n",
    "    plt.show()\n",
    "    \n",
    "b = widgets.Button(\n",
    "    description=\"Run simulation\",\n",
    "    button_style='info', # 'success', 'info', 'warning', 'danger' or ''\n",
    "    icon=\"check\")\n",
    "\n",
    "b.on_click(btn_clicked)"
   ]
  },
  {
   "cell_type": "markdown",
   "metadata": {},
   "source": [
    "# Simulation"
   ]
  },
  {
   "cell_type": "code",
   "execution_count": 6,
   "metadata": {},
   "outputs": [
    {
     "data": {
      "application/vnd.jupyter.widget-view+json": {
       "model_id": "d859925ec25c44c28c533baa2e967ec7",
       "version_major": 2,
       "version_minor": 0
      },
      "text/plain": [
       "Button(button_style='info', description='Run simulation', icon='check', style=ButtonStyle())"
      ]
     },
     "metadata": {},
     "output_type": "display_data"
    },
    {
     "data": {
      "application/vnd.jupyter.widget-view+json": {
       "model_id": "36fec176e7a9404e9e0409821188477f",
       "version_major": 2,
       "version_minor": 0
      },
      "text/plain": [
       "Output()"
      ]
     },
     "metadata": {},
     "output_type": "display_data"
    }
   ],
   "source": [
    "display(b)\n",
    "display(out)"
   ]
  }
 ],
 "metadata": {
  "kernelspec": {
   "display_name": "Python 3",
   "language": "python",
   "name": "python3"
  },
  "language_info": {
   "codemirror_mode": {
    "name": "ipython",
    "version": 3
   },
   "file_extension": ".py",
   "mimetype": "text/x-python",
   "name": "python",
   "nbconvert_exporter": "python",
   "pygments_lexer": "ipython3",
   "version": "3.7.10"
  }
 },
 "nbformat": 4,
 "nbformat_minor": 4
}
