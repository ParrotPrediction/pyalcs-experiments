{
 "cells": [
  {
   "cell_type": "code",
   "execution_count": 1,
   "metadata": {},
   "outputs": [],
   "source": [
    "# logging \n",
    "import logging\n",
    "logging.basicConfig(level=logging.INFO)\n",
    "logger = logging.getLogger(__name__)\n"
   ]
  },
  {
   "cell_type": "code",
   "execution_count": 2,
   "metadata": {},
   "outputs": [
    {
     "name": "stdout",
     "output_type": "stream",
     "text": [
      "This is how maze looks like\n",
      "<class 'tuple'>\n",
      "('9', '1', '1', '1', '1', '0', '0', '0')\n",
      "\n",
      "\u001b[30m■\u001b[0m \u001b[30m■\u001b[0m \u001b[30m■\u001b[0m \u001b[30m■\u001b[0m \u001b[30m■\u001b[0m \u001b[30m■\u001b[0m \u001b[30m■\u001b[0m \u001b[30m■\u001b[0m\n",
      "\u001b[30m■\u001b[0m \u001b[37m□\u001b[0m \u001b[37m□\u001b[0m \u001b[30m■\u001b[0m \u001b[37m□\u001b[0m \u001b[37m□\u001b[0m \u001b[33m$\u001b[0m \u001b[30m■\u001b[0m\n",
      "\u001b[30m■\u001b[0m \u001b[30m■\u001b[0m \u001b[37m□\u001b[0m \u001b[37m□\u001b[0m \u001b[30m■\u001b[0m \u001b[37m□\u001b[0m \u001b[31mA\u001b[0m \u001b[30m■\u001b[0m\n",
      "\u001b[30m■\u001b[0m \u001b[30m■\u001b[0m \u001b[37m□\u001b[0m \u001b[30m■\u001b[0m \u001b[37m□\u001b[0m \u001b[37m□\u001b[0m \u001b[30m■\u001b[0m \u001b[30m■\u001b[0m\n",
      "\u001b[30m■\u001b[0m \u001b[37m□\u001b[0m \u001b[37m□\u001b[0m \u001b[37m□\u001b[0m \u001b[37m□\u001b[0m \u001b[37m□\u001b[0m \u001b[37m□\u001b[0m \u001b[30m■\u001b[0m\n",
      "\u001b[30m■\u001b[0m \u001b[30m■\u001b[0m \u001b[37m□\u001b[0m \u001b[30m■\u001b[0m \u001b[37m□\u001b[0m \u001b[37m□\u001b[0m \u001b[37m□\u001b[0m \u001b[30m■\u001b[0m\n",
      "\u001b[30m■\u001b[0m \u001b[37m□\u001b[0m \u001b[37m□\u001b[0m \u001b[37m□\u001b[0m \u001b[37m□\u001b[0m \u001b[30m■\u001b[0m \u001b[37m□\u001b[0m \u001b[30m■\u001b[0m\n",
      "\u001b[30m■\u001b[0m \u001b[30m■\u001b[0m \u001b[30m■\u001b[0m \u001b[30m■\u001b[0m \u001b[30m■\u001b[0m \u001b[30m■\u001b[0m \u001b[30m■\u001b[0m \u001b[30m■\u001b[0m\n"
     ]
    }
   ],
   "source": [
    "# environment setup\n",
    "import gym\n",
    "# noinspection PyUnresolvedReferences\n",
    "import gym_maze\n",
    "\n",
    "maze = gym.make('Maze4-v0')\n",
    "print(\"This is how maze looks like\")\n",
    "situation = maze.reset()\n",
    "print(type(situation))\n",
    "print(situation)\n",
    "maze.render()"
   ]
  },
  {
   "cell_type": "code",
   "execution_count": 3,
   "metadata": {},
   "outputs": [],
   "source": [
    "from lcs.agents.xncs import XNCS, Configuration\n",
    "\n",
    "def cl_accuracy(cl, cfg):\n",
    "     if cl.error < cfg.epsilon_0:\n",
    "        return 1\n",
    "     else:\n",
    "        return cfg.alpha * pow(1/(cl.error * cfg.epsilon_0), cfg.v)\n",
    "            \n",
    "def fraction_accuracy(xncs):\n",
    "    action_sets_percentages = []\n",
    "    for action in range(xncs.cfg.number_of_actions):\n",
    "        action_set = xncs.population.generate_action_set(action)\n",
    "        total_accuracy = 0\n",
    "        most_numerous = action_set[0]\n",
    "        for cl in action_set:\n",
    "            total_accuracy += cl_accuracy(cl, xncs.cfg)\n",
    "            if cl.numerosity > most_numerous.numerosity:\n",
    "                most_numerous = cl\n",
    "        action_sets_percentages.append(cl_accuracy(most_numerous, xncs.cfg) / total_accuracy)\n",
    "    return sum(action_sets_percentages) / xncs.cfg.number_of_actions\n",
    "\n",
    "def specificity(xncs, population):\n",
    "    total_specificity = 0\n",
    "    for cl in population:\n",
    "        total_specificity += pow(2, cl.wildcard_number)\n",
    "    return total_specificity / xncs.population.numerosity\n",
    "\n",
    "def xcs_maze_metrics(xncs: XNCS, environment):\n",
    "    return {\n",
    "        'numerosity': xncs.population.numerosity,\n",
    "        'population': len(xncs.population),\n",
    "        'average_specificity': specificity(xncs, xncs.population),\n",
    "        'fraction_accuracy': fraction_accuracy(xncs)\n",
    "    }"
   ]
  },
  {
   "cell_type": "code",
   "execution_count": 4,
   "metadata": {},
   "outputs": [],
   "source": [
    "cfg = Configuration(number_of_actions=8,\n",
    "                    max_population=1800,\n",
    "                    learning_rate=0.2,\n",
    "                    mutation_chance=0.08,\n",
    "                    chi=0.8,\n",
    "                    ga_threshold=25,\n",
    "                    deletion_threshold=25,\n",
    "                    delta=0.1,\n",
    "                    initial_error=0.01,\n",
    "                    metrics_trial_frequency=50,\n",
    "                    covering_wildcard_chance = 0.9,\n",
    "                    user_metrics_collector_fcn=xcs_maze_metrics,\n",
    "                    lmc=10,\n",
    "                    lem=200\n",
    "                   )"
   ]
  },
  {
   "cell_type": "code",
   "execution_count": 5,
   "metadata": {},
   "outputs": [
    {
     "name": "stderr",
     "output_type": "stream",
     "text": [
      "INFO:lcs.agents.Agent:{'trial': 0, 'steps_in_trial': 50, 'reward': [3.9118060459067915e-40, 5.413860061862611e-40, 3.941142991792016e-40, 7.590377365199942e-40, 6.451506126985341e-40, 9.27574868531297e-40, 5.856242558182133e-40, 2.4552240398233183e-40], 'numerosity': 85, 'population': 79, 'average_specificity': 2.1882352941176473, 'fraction_accuracy': 0.11473214285714287}\n",
      "INFO:lcs.agents.Agent:{'trial': 300, 'steps_in_trial': 41, 'reward': [22.892418689423998, 239.4080750982803, 23.420703111059797, 9.093514974797417, 10.558934437995042, 10.221880952919905, 8.903366641071203, 25.26348790733659], 'numerosity': 412, 'population': 215, 'average_specificity': 2.2305825242718447, 'fraction_accuracy': 0.09077187337373178}\n",
      "INFO:lcs.agents.Agent:{'trial': 600, 'steps_in_trial': 27, 'reward': [209.2220281470372, 21.560651716609325, 4.235509403181219, 8.454916147061603, 6.489864561230982, 10.360795240832607, 8.746914468429338, 5.503112912076596], 'numerosity': 422, 'population': 215, 'average_specificity': 2.2298578199052135, 'fraction_accuracy': 0.09881677498463062}\n",
      "INFO:lcs.agents.Agent:{'trial': 900, 'steps_in_trial': 50, 'reward': [28.11908724666064, 25.27669683611916, 25.870336679064145, 15.94734280435405, 22.26700032353821, 8.020079999270962, 9.067037916852492, 27.075249425185447], 'numerosity': 436, 'population': 215, 'average_specificity': 2.188073394495413, 'fraction_accuracy': 0.030456319023625805}\n",
      "INFO:lcs.agents.Agent:{'trial': 1200, 'steps_in_trial': 8, 'reward': [680.6862408820974, 9.065813692310716, 6.370761870269216, 0.318625989840621, 5.1315579431710505, 12.569512707630773, 13.3187697323244, 2.2611591818416628], 'numerosity': 436, 'population': 215, 'average_specificity': 2.188073394495413, 'fraction_accuracy': 0.026526046510969455}\n",
      "INFO:lcs.agents.Agent:{'trial': 1500, 'steps_in_trial': 6, 'reward': [327.0377570796951, 0.5651017735651891, 20.109752611871052, 31.99630580407149, 27.37389689980679, 13.449594180040862, 16.11691585382644, 9.278037907449004], 'numerosity': 436, 'population': 215, 'average_specificity': 2.188073394495413, 'fraction_accuracy': 0.04374632485605989}\n",
      "INFO:lcs.agents.Agent:{'trial': 1800, 'steps_in_trial': 50, 'reward': [31.589886358823357, 40.77698984709078, 35.25281683442096, 2.1440487994924298, 41.19402696517905, 13.711832643321179, 8.681710594485892, 2.8318700962258445], 'numerosity': 436, 'population': 215, 'average_specificity': 2.188073394495413, 'fraction_accuracy': 0.14137643664692842}\n",
      "INFO:lcs.agents.Agent:{'trial': 2100, 'steps_in_trial': 9, 'reward': [322.9023647407955, 21.00845089963394, 47.73234906749143, 26.007964033163987, 40.935341509681834, 11.888648277781781, 10.766830700058373, 23.998096831580273], 'numerosity': 436, 'population': 215, 'average_specificity': 2.188073394495413, 'fraction_accuracy': 0.05817542424841368}\n",
      "INFO:lcs.agents.Agent:{'trial': 2400, 'steps_in_trial': 3, 'reward': [698.4506067812291, 68.19611179743121, 34.626640708699604, 19.21630948071298, 3.078302032713637, 2.8105371457490076, 2.5176796801978245, 6.450307984330326], 'numerosity': 438, 'population': 215, 'average_specificity': 2.1872146118721463, 'fraction_accuracy': 0.051134710491147595}\n",
      "INFO:lcs.agents.Agent:{'trial': 2700, 'steps_in_trial': 9, 'reward': [381.9055417892714, 52.28399311178785, 20.466803181054846, 57.78703216380972, 2.4939078250028848, 0.33390964311098154, 0.28439895623794625, 9.134134012056212], 'numerosity': 438, 'population': 215, 'average_specificity': 2.1872146118721463, 'fraction_accuracy': 0.05420286606183351}\n"
     ]
    }
   ],
   "source": [
    "agent = XNCS(cfg)\n",
    "explore_population, explore_metrics = agent.explore(maze, 3000, True)"
   ]
  },
  {
   "cell_type": "code",
   "execution_count": 6,
   "metadata": {
    "scrolled": false
   },
   "outputs": [
    {
     "name": "stdout",
     "output_type": "stream",
     "text": [
      "Cond:0010000# - Act:0 - Num:1 [fit: 0.000, exp: 1547.00, pred: 693.150]\n",
      "Cond:#0##000# - Act:1 - Num:3 [fit: 0.000, exp: 271.00, pred: 258.011]\n",
      "Cond:#01##0#1 - Act:2 - Num:3 [fit: 0.000, exp: 127.00, pred: 126.896]\n",
      "Cond:0#100#0# - Act:3 - Num:3 [fit: 0.000, exp: 59.00, pred: 182.235]\n",
      "Cond:00100001 - Act:4 - Num:3 [fit: 0.000, exp: 150.00, pred: 146.540]\n",
      "Cond:00#00#01 - Act:5 - Num:3 [fit: 0.000, exp: 147.00, pred: 151.349]\n",
      "Cond:#0#00001 - Act:6 - Num:2 [fit: 0.000, exp: 77.00, pred: 153.266]\n",
      "Cond:00100001 - Act:7 - Num:1 [fit: 0.000, exp: 100.00, pred: 149.196]\n",
      "Cond:0#91001# - Act:0 - Num:3 [fit: 0.064, exp: 3.00, pred: 144.285]\n",
      "Cond:09010010 - Act:1 - Num:1 [fit: 0.000, exp: 547.00, pred: 266.113]\n",
      "Cond:0901001# - Act:2 - Num:1 [fit: 0.000, exp: 1988.00, pred: 353.646]\n",
      "Cond:0#010010 - Act:3 - Num:3 [fit: 0.000, exp: 86.00, pred: 165.690]\n",
      "Cond:09010010 - Act:4 - Num:1 [fit: 0.012, exp: 154.00, pred: 205.764]\n",
      "Cond:0#010#1# - Act:5 - Num:2 [fit: 0.000, exp: 381.00, pred: 113.679]\n",
      "Cond:#90100#0 - Act:6 - Num:3 [fit: 0.000, exp: 46.00, pred: 204.359]\n",
      "Cond:09010#10 - Act:7 - Num:1 [fit: 0.188, exp: 104.00, pred: 185.192]\n",
      "Cond:10#00010 - Act:0 - Num:1 [fit: 0.000, exp: 353.00, pred: 207.357]\n",
      "Cond:10000010 - Act:1 - Num:3 [fit: 0.000, exp: 419.00, pred: 285.718]\n",
      "Cond:#0##00#0 - Act:2 - Num:3 [fit: 0.000, exp: 347.00, pred: 176.512]\n",
      "Cond:10##001# - Act:3 - Num:3 [fit: 0.016, exp: 519.00, pred: 183.161]\n",
      "Cond:100000## - Act:4 - Num:3 [fit: 0.000, exp: 124.00, pred: 161.817]\n",
      "Cond:#00#0010 - Act:5 - Num:2 [fit: 0.000, exp: 224.00, pred: 131.278]\n",
      "Cond:1#0##010 - Act:6 - Num:3 [fit: 0.000, exp: 44.00, pred: 172.413]\n",
      "Cond:100#0##0 - Act:7 - Num:3 [fit: 0.000, exp: 79.00, pred: 140.109]\n",
      "Cond:101#1000 - Act:0 - Num:3 [fit: 0.000, exp: 58.00, pred: 137.380]\n",
      "Cond:1#10#000 - Act:1 - Num:3 [fit: 0.004, exp: 440.00, pred: 236.398]\n",
      "Cond:10###00# - Act:2 - Num:3 [fit: 0.000, exp: 89.00, pred: 132.032]\n",
      "Cond:#0##1#0# - Act:3 - Num:4 [fit: 0.000, exp: 1019.00, pred: 132.007]\n",
      "Cond:10101000 - Act:4 - Num:2 [fit: 0.000, exp: 62.00, pred: 133.655]\n",
      "Cond:10101000 - Act:5 - Num:1 [fit: 0.000, exp: 206.00, pred: 146.433]\n",
      "Cond:10101000 - Act:6 - Num:3 [fit: 0.000, exp: 98.00, pred: 137.121]\n",
      "Cond:10#01001 - Act:7 - Num:3 [fit: 0.244, exp: 3.00, pred: 14.629]\n",
      "Cond:##100101 - Act:0 - Num:3 [fit: 0.003, exp: 2506.00, pred: 113.485]\n",
      "Cond:##100#01 - Act:1 - Num:3 [fit: 0.074, exp: 3101.00, pred: 156.673]\n",
      "Cond:1110#101 - Act:2 - Num:1 [fit: 0.027, exp: 252.00, pred: 127.244]\n",
      "Cond:##100101 - Act:3 - Num:3 [fit: 0.000, exp: 463.00, pred: 200.237]\n",
      "Cond:11100#01 - Act:4 - Num:3 [fit: 0.020, exp: 612.00, pred: 110.956]\n",
      "Cond:1##0#10# - Act:5 - Num:3 [fit: 0.000, exp: 105.00, pred: 112.746]\n",
      "Cond:#10001#1 - Act:6 - Num:3 [fit: 0.195, exp: 4.00, pred: 21.118]\n",
      "Cond:1#100101 - Act:7 - Num:3 [fit: 0.000, exp: 74.00, pred: 106.179]\n",
      "Cond:##001111 - Act:0 - Num:3 [fit: 0.000, exp: 172.00, pred: 106.243]\n",
      "Cond:110##11# - Act:1 - Num:3 [fit: 0.000, exp: 71.00, pred: 105.686]\n",
      "Cond:0#001111 - Act:2 - Num:3 [fit: 0.180, exp: 2.00, pred: 0.301]\n",
      "Cond:11001111 - Act:3 - Num:3 [fit: 0.000, exp: 89.00, pred: 108.496]\n",
      "Cond:110#1111 - Act:4 - Num:1 [fit: 0.000, exp: 66.00, pred: 102.884]\n",
      "Cond:#1001111 - Act:5 - Num:3 [fit: 0.003, exp: 25.00, pred: 101.354]\n",
      "Cond:11##111# - Act:6 - Num:3 [fit: 0.001, exp: 25.00, pred: 94.249]\n",
      "Cond:11001111 - Act:7 - Num:3 [fit: 0.002, exp: 22.00, pred: 101.866]\n",
      "Cond:010##110 - Act:0 - Num:3 [fit: 0.000, exp: 929.00, pred: 390.227]\n",
      "Cond:0##10#10 - Act:1 - Num:2 [fit: 0.000, exp: 1970.00, pred: 137.019]\n",
      "Cond:01010110 - Act:2 - Num:1 [fit: 0.032, exp: 544.00, pred: 142.644]\n",
      "Cond:010#0#10 - Act:3 - Num:2 [fit: 0.000, exp: 93.00, pred: 115.840]\n",
      "Cond:010001#0 - Act:4 - Num:2 [fit: 0.156, exp: 5.00, pred: 25.669]\n",
      "Cond:01#10110 - Act:5 - Num:3 [fit: 0.000, exp: 180.00, pred: 108.344]\n",
      "Cond:0101011# - Act:6 - Num:1 [fit: 0.000, exp: 244.00, pred: 122.789]\n",
      "Cond:01#0011# - Act:7 - Num:3 [fit: 0.092, exp: 5.00, pred: 32.763]\n",
      "Cond:0010001# - Act:0 - Num:1 [fit: 0.000, exp: 1498.00, pred: 632.842]\n",
      "Cond:001##011 - Act:1 - Num:1 [fit: 0.000, exp: 161.00, pred: 134.188]\n",
      "Cond:00100011 - Act:2 - Num:1 [fit: 0.000, exp: 80.00, pred: 123.490]\n",
      "Cond:00100011 - Act:3 - Num:1 [fit: 0.077, exp: 50.00, pred: 134.063]\n",
      "Cond:0010##11 - Act:5 - Num:1 [fit: 0.000, exp: 83.00, pred: 131.970]\n",
      "Cond:00100011 - Act:6 - Num:1 [fit: 0.000, exp: 42.00, pred: 124.209]\n",
      "Cond:00100011 - Act:7 - Num:1 [fit: 0.000, exp: 70.00, pred: 130.008]\n",
      "Cond:10001111 - Act:0 - Num:1 [fit: 0.000, exp: 52.00, pred: 105.497]\n",
      "Cond:10001#11 - Act:1 - Num:1 [fit: 0.000, exp: 35.00, pred: 138.566]\n",
      "Cond:1000#111 - Act:3 - Num:1 [fit: 0.041, exp: 5.00, pred: 135.418]\n",
      "Cond:##001111 - Act:4 - Num:1 [fit: 0.000, exp: 75.00, pred: 107.374]\n",
      "Cond:1000#111 - Act:5 - Num:1 [fit: 0.005, exp: 18.00, pred: 137.161]\n",
      "Cond:#0001111 - Act:6 - Num:1 [fit: 0.015, exp: 19.00, pred: 124.905]\n",
      "Cond:10001111 - Act:7 - Num:1 [fit: 0.019, exp: 12.00, pred: 131.716]\n",
      "Cond:00#00010 - Act:1 - Num:1 [fit: 0.000, exp: 45.00, pred: 148.300]\n",
      "Cond:00100010 - Act:2 - Num:1 [fit: 0.001, exp: 24.00, pred: 143.620]\n",
      "Cond:00100010 - Act:3 - Num:1 [fit: 0.000, exp: 82.00, pred: 197.204]\n",
      "Cond:001000#0 - Act:4 - Num:1 [fit: 0.015, exp: 13.00, pred: 139.080]\n",
      "Cond:00100010 - Act:5 - Num:1 [fit: 0.001, exp: 20.00, pred: 131.211]\n",
      "Cond:00100010 - Act:6 - Num:1 [fit: 0.004, exp: 19.00, pred: 141.559]\n",
      "Cond:00#0001# - Act:7 - Num:1 [fit: 0.000, exp: 81.00, pred: 125.007]\n",
      "Cond:010#0#10 - Act:6 - Num:1 [fit: 0.000, exp: 244.00, pred: 122.789]\n",
      "Cond:0##10#10 - Act:2 - Num:1 [fit: 0.000, exp: 2656.00, pred: 353.646]\n",
      "Cond:0#010#01 - Act:0 - Num:2 [fit: 0.000, exp: 580.00, pred: 831.553]\n",
      "Cond:0101#101 - Act:1 - Num:3 [fit: 0.000, exp: 294.00, pred: 139.414]\n",
      "Cond:0101#101 - Act:2 - Num:3 [fit: 0.000, exp: 117.00, pred: 192.033]\n",
      "Cond:#1#1#101 - Act:3 - Num:3 [fit: 0.000, exp: 60.00, pred: 230.646]\n",
      "Cond:01010101 - Act:4 - Num:1 [fit: 0.000, exp: 51.00, pred: 145.805]\n",
      "Cond:0101#1#1 - Act:5 - Num:3 [fit: 0.001, exp: 20.00, pred: 143.110]\n",
      "Cond:010101## - Act:6 - Num:3 [fit: 0.000, exp: 268.00, pred: 122.789]\n",
      "Cond:01010101 - Act:7 - Num:1 [fit: 0.000, exp: 39.00, pred: 134.296]\n",
      "Cond:1000#000 - Act:0 - Num:3 [fit: 0.000, exp: 129.00, pred: 137.925]\n",
      "Cond:10001000 - Act:1 - Num:3 [fit: 0.000, exp: 58.00, pred: 153.363]\n",
      "Cond:10001000 - Act:2 - Num:1 [fit: 0.000, exp: 49.00, pred: 153.745]\n",
      "Cond:100010#0 - Act:3 - Num:1 [fit: 0.000, exp: 191.00, pred: 297.666]\n",
      "Cond:10####00 - Act:4 - Num:3 [fit: 0.000, exp: 132.00, pred: 136.352]\n",
      "Cond:10001000 - Act:5 - Num:1 [fit: 0.001, exp: 23.00, pred: 139.500]\n",
      "Cond:10001000 - Act:6 - Num:1 [fit: 0.000, exp: 125.00, pred: 532.194]\n",
      "Cond:10001000 - Act:7 - Num:3 [fit: 0.006, exp: 24.00, pred: 136.091]\n",
      "Cond:#0##00## - Act:0 - Num:3 [fit: 0.000, exp: 3877.00, pred: 648.341]\n",
      "Cond:#0##0010 - Act:3 - Num:3 [fit: 0.002, exp: 668.00, pred: 125.444]\n",
      "Cond:0#01#### - Act:4 - Num:3 [fit: 0.000, exp: 881.00, pred: 121.838]\n",
      "Cond:000#0010 - Act:5 - Num:1 [fit: 0.000, exp: 168.00, pred: 131.241]\n",
      "Cond:00010010 - Act:6 - Num:3 [fit: 0.000, exp: 60.00, pred: 129.815]\n",
      "Cond:000100#0 - Act:7 - Num:1 [fit: 0.002, exp: 110.00, pred: 133.750]\n",
      "Cond:0#000101 - Act:0 - Num:3 [fit: 0.000, exp: 398.00, pred: 517.222]\n",
      "Cond:0#00#101 - Act:1 - Num:3 [fit: 0.000, exp: 349.00, pred: 166.962]\n",
      "Cond:00000#01 - Act:2 - Num:1 [fit: 0.000, exp: 164.00, pred: 166.363]\n",
      "Cond:00000101 - Act:3 - Num:1 [fit: 0.000, exp: 47.00, pred: 165.918]\n",
      "Cond:0#0#0#00 - Act:4 - Num:3 [fit: 0.000, exp: 198.00, pred: 151.203]\n",
      "Cond:#00000#1 - Act:6 - Num:3 [fit: 0.215, exp: 7.00, pred: 22.372]\n",
      "Cond:0000010# - Act:7 - Num:1 [fit: 0.000, exp: 52.00, pred: 170.440]\n",
      "Cond:100#1111 - Act:2 - Num:1 [fit: 0.000, exp: 382.00, pred: 587.971]\n",
      "Cond:0#111110 - Act:0 - Num:3 [fit: 0.000, exp: 207.00, pred: 780.519]\n",
      "Cond:#1#11110 - Act:1 - Num:3 [fit: 0.000, exp: 260.00, pred: 170.669]\n",
      "Cond:0##11#10 - Act:2 - Num:3 [fit: 0.000, exp: 62.00, pred: 181.902]\n",
      "Cond:01##111# - Act:3 - Num:3 [fit: 0.000, exp: 34.00, pred: 173.011]\n",
      "Cond:01111#1# - Act:4 - Num:2 [fit: 0.000, exp: 83.00, pred: 212.841]\n",
      "Cond:01111#10 - Act:5 - Num:3 [fit: 0.000, exp: 39.00, pred: 168.987]\n",
      "Cond:0111#110 - Act:6 - Num:3 [fit: 0.001, exp: 36.00, pred: 213.380]\n",
      "Cond:01111110 - Act:7 - Num:3 [fit: 0.000, exp: 50.00, pred: 174.754]\n",
      "Cond:0#0010#0 - Act:0 - Num:3 [fit: 0.000, exp: 363.00, pred: 150.600]\n",
      "Cond:0##01000 - Act:1 - Num:3 [fit: 0.000, exp: 219.00, pred: 147.846]\n",
      "Cond:000#1000 - Act:2 - Num:2 [fit: 0.001, exp: 34.00, pred: 145.614]\n",
      "Cond:#0001000 - Act:3 - Num:1 [fit: 0.000, exp: 330.00, pred: 206.561]\n",
      "Cond:0#001000 - Act:4 - Num:3 [fit: 0.000, exp: 29.00, pred: 144.357]\n",
      "Cond:00001000 - Act:5 - Num:3 [fit: 0.000, exp: 91.00, pred: 150.439]\n",
      "Cond:###01000 - Act:6 - Num:3 [fit: 0.000, exp: 265.00, pred: 504.232]\n",
      "Cond:00001##0 - Act:7 - Num:1 [fit: 0.000, exp: 94.00, pred: 136.577]\n",
      "Cond:10101000 - Act:7 - Num:1 [fit: 0.002, exp: 19.00, pred: 122.227]\n",
      "Cond:#0##1#0# - Act:5 - Num:1 [fit: 0.000, exp: 417.00, pred: 146.433]\n",
      "Cond:#1001011 - Act:0 - Num:1 [fit: 0.000, exp: 190.00, pred: 187.095]\n",
      "Cond:1#001011 - Act:1 - Num:1 [fit: 0.000, exp: 162.00, pred: 151.147]\n",
      "Cond:#1001011 - Act:2 - Num:1 [fit: 0.000, exp: 83.00, pred: 135.420]\n",
      "Cond:11#0#011 - Act:3 - Num:1 [fit: 0.022, exp: 556.00, pred: 291.470]\n",
      "Cond:1100#01# - Act:4 - Num:1 [fit: 0.000, exp: 39.00, pred: 138.450]\n",
      "Cond:#100#011 - Act:5 - Num:1 [fit: 0.000, exp: 40.00, pred: 131.317]\n",
      "Cond:11#0101# - Act:6 - Num:1 [fit: 0.000, exp: 44.00, pred: 126.461]\n",
      "Cond:1100#0#1 - Act:7 - Num:1 [fit: 0.000, exp: 39.00, pred: 135.349]\n",
      "Cond:010#0000 - Act:0 - Num:3 [fit: 0.000, exp: 1099.00, pred: 149.586]\n",
      "Cond:#10#0000 - Act:1 - Num:3 [fit: 0.000, exp: 289.00, pred: 149.491]\n",
      "Cond:01##0#00 - Act:2 - Num:3 [fit: 0.000, exp: 95.00, pred: 146.627]\n",
      "Cond:0100000# - Act:3 - Num:3 [fit: 0.003, exp: 60.00, pred: 141.860]\n",
      "Cond:0100#000 - Act:4 - Num:1 [fit: 0.000, exp: 188.00, pred: 151.203]\n",
      "Cond:010#000# - Act:5 - Num:3 [fit: 0.000, exp: 201.00, pred: 462.182]\n",
      "Cond:0100#00# - Act:6 - Num:3 [fit: 0.000, exp: 107.00, pred: 150.142]\n",
      "Cond:0#00#0#0 - Act:7 - Num:3 [fit: 0.000, exp: 216.00, pred: 129.064]\n",
      "Cond:1110#101 - Act:6 - Num:1 [fit: 0.000, exp: 154.00, pred: 111.185]\n",
      "Cond:010001#0 - Act:7 - Num:1 [fit: 0.156, exp: 0.00, pred: 25.669]\n",
      "Cond:911#1#00 - Act:0 - Num:3 [fit: 0.000, exp: 2152.00, pred: 497.209]\n",
      "Cond:##11100# - Act:1 - Num:3 [fit: 0.000, exp: 345.00, pred: 294.588]\n",
      "Cond:911#1#00 - Act:2 - Num:3 [fit: 0.000, exp: 85.00, pred: 232.528]\n",
      "Cond:91111000 - Act:3 - Num:2 [fit: 0.000, exp: 47.00, pred: 254.395]\n",
      "Cond:#1111000 - Act:4 - Num:3 [fit: 0.000, exp: 54.00, pred: 267.293]\n",
      "Cond:91111000 - Act:5 - Num:1 [fit: 0.000, exp: 106.00, pred: 285.597]\n",
      "Cond:9111100# - Act:6 - Num:2 [fit: 0.000, exp: 95.00, pred: 214.419]\n",
      "Cond:91111000 - Act:7 - Num:3 [fit: 0.000, exp: 84.00, pred: 163.976]\n",
      "Cond:11900#01 - Act:0 - Num:3 [fit: 0.000, exp: 126.00, pred: 126.500]\n",
      "Cond:#19001#1 - Act:1 - Num:3 [fit: 0.000, exp: 88.00, pred: 123.663]\n",
      "Cond:11#0#1## - Act:2 - Num:3 [fit: 0.000, exp: 568.00, pred: 179.788]\n",
      "Cond:11###101 - Act:3 - Num:2 [fit: 0.000, exp: 531.00, pred: 206.508]\n",
      "Cond:11#00101 - Act:4 - Num:1 [fit: 0.000, exp: 733.00, pred: 110.964]\n",
      "Cond:11900#01 - Act:5 - Num:3 [fit: 0.000, exp: 32.00, pred: 122.885]\n",
      "Cond:11#0010# - Act:6 - Num:1 [fit: 0.000, exp: 181.00, pred: 111.185]\n",
      "Cond:1#900101 - Act:7 - Num:3 [fit: 0.000, exp: 27.00, pred: 122.569]\n",
      "Cond:10011111 - Act:0 - Num:1 [fit: 0.000, exp: 172.00, pred: 116.222]\n",
      "Cond:1#1#1111 - Act:1 - Num:3 [fit: 0.100, exp: 1.00, pred: 170.539]\n",
      "Cond:10#1#### - Act:3 - Num:3 [fit: 0.000, exp: 177.00, pred: 111.909]\n",
      "Cond:10011111 - Act:4 - Num:3 [fit: 0.000, exp: 52.00, pred: 102.089]\n",
      "Cond:100111#1 - Act:5 - Num:3 [fit: 0.017, exp: 15.00, pred: 105.621]\n",
      "Cond:1##111#1 - Act:6 - Num:2 [fit: 0.012, exp: 27.00, pred: 121.191]\n",
      "Cond:10011111 - Act:7 - Num:3 [fit: 0.000, exp: 54.00, pred: 180.651]\n",
      "Cond:#101#101 - Act:0 - Num:3 [fit: 0.000, exp: 767.00, pred: 858.874]\n",
      "Cond:01011101 - Act:4 - Num:1 [fit: 0.000, exp: 68.00, pred: 126.173]\n",
      "Cond:01011101 - Act:5 - Num:1 [fit: 0.000, exp: 37.00, pred: 108.492]\n",
      "Cond:##01##01 - Act:6 - Num:3 [fit: 0.000, exp: 54.00, pred: 140.863]\n",
      "Cond:010#1101 - Act:7 - Num:3 [fit: 0.000, exp: 46.00, pred: 119.662]\n",
      "Cond:1##111#1 - Act:0 - Num:3 [fit: 0.000, exp: 169.00, pred: 116.222]\n",
      "Cond:10101000 - Act:5 - Num:1 [fit: 0.000, exp: 202.00, pred: 146.433]\n",
      "Cond:00#1#101 - Act:0 - Num:3 [fit: 0.000, exp: 304.00, pred: 912.573]\n",
      "Cond:0#11#10# - Act:1 - Num:2 [fit: 0.000, exp: 94.00, pred: 137.535]\n",
      "Cond:##11##01 - Act:2 - Num:2 [fit: 0.030, exp: 10.00, pred: 146.064]\n",
      "Cond:00#1#1#1 - Act:4 - Num:3 [fit: 0.000, exp: 29.00, pred: 139.300]\n",
      "Cond:001111#1 - Act:6 - Num:3 [fit: 0.000, exp: 82.00, pred: 140.797]\n",
      "Cond:00111101 - Act:7 - Num:1 [fit: 0.018, exp: 18.00, pred: 136.105]\n",
      "Cond:1##111#0 - Act:0 - Num:3 [fit: 0.000, exp: 144.00, pred: 130.251]\n",
      "Cond:1##11100 - Act:1 - Num:2 [fit: 0.000, exp: 322.00, pred: 133.910]\n",
      "Cond:100111## - Act:2 - Num:3 [fit: 0.000, exp: 269.00, pred: 608.872]\n",
      "Cond:1#0111## - Act:4 - Num:3 [fit: 0.000, exp: 97.00, pred: 103.448]\n",
      "Cond:10#11100 - Act:6 - Num:3 [fit: 0.003, exp: 28.00, pred: 133.493]\n",
      "Cond:1#0111## - Act:7 - Num:3 [fit: 0.000, exp: 64.00, pred: 180.403]\n",
      "Cond:0#010#1# - Act:7 - Num:1 [fit: 0.000, exp: 288.00, pred: 152.803]\n",
      "Cond:11110000 - Act:0 - Num:1 [fit: 0.000, exp: 194.00, pred: 150.958]\n",
      "Cond:11110000 - Act:1 - Num:1 [fit: 0.070, exp: 295.00, pred: 147.964]\n",
      "Cond:11#10#00 - Act:2 - Num:1 [fit: 0.000, exp: 78.00, pred: 141.030]\n",
      "Cond:1111000# - Act:3 - Num:1 [fit: 0.000, exp: 78.00, pred: 140.999]\n",
      "Cond:1#110000 - Act:4 - Num:1 [fit: 0.000, exp: 49.00, pred: 150.649]\n",
      "Cond:11#10000 - Act:5 - Num:1 [fit: 0.000, exp: 279.00, pred: 145.236]\n",
      "Cond:11110000 - Act:6 - Num:1 [fit: 0.000, exp: 185.00, pred: 146.738]\n",
      "Cond:#1#1#000 - Act:7 - Num:1 [fit: 0.000, exp: 254.00, pred: 407.379]\n",
      "Cond:01110100 - Act:0 - Num:1 [fit: 0.000, exp: 232.00, pred: 615.710]\n",
      "Cond:0111010# - Act:1 - Num:1 [fit: 0.000, exp: 80.00, pred: 145.979]\n",
      "Cond:01110100 - Act:3 - Num:1 [fit: 0.000, exp: 58.00, pred: 149.429]\n",
      "Cond:011111## - Act:4 - Num:2 [fit: 0.000, exp: 85.00, pred: 212.841]\n",
      "Cond:01110100 - Act:5 - Num:1 [fit: 0.000, exp: 40.00, pred: 145.436]\n",
      "Cond:01110#00 - Act:6 - Num:1 [fit: 0.002, exp: 207.00, pred: 175.677]\n",
      "Cond:01110100 - Act:7 - Num:1 [fit: 0.001, exp: 25.00, pred: 123.626]\n",
      "Cond:#0#00001 - Act:7 - Num:3 [fit: 0.000, exp: 99.00, pred: 149.196]\n",
      "Cond:#00#0010 - Act:7 - Num:1 [fit: 0.000, exp: 177.00, pred: 136.101]\n",
      "Cond:0#11#10# - Act:3 - Num:1 [fit: 0.000, exp: 77.00, pred: 142.142]\n",
      "Cond:00000101 - Act:4 - Num:3 [fit: 0.000, exp: 59.00, pred: 161.226]\n",
      "Cond:1##11100 - Act:5 - Num:1 [fit: 0.000, exp: 68.00, pred: 134.100]\n",
      "Cond:##11##01 - Act:5 - Num:1 [fit: 0.002, exp: 28.00, pred: 143.431]\n",
      "Cond:9111100# - Act:5 - Num:1 [fit: 0.000, exp: 106.00, pred: 285.597]\n",
      "Cond:#0000101 - Act:6 - Num:1 [fit: 0.001, exp: 46.00, pred: 172.242]\n",
      "Cond:0#010#01 - Act:7 - Num:1 [fit: 0.000, exp: 37.00, pred: 134.329]\n",
      "Cond:000#1000 - Act:3 - Num:1 [fit: 0.000, exp: 107.00, pred: 224.511]\n",
      "Cond:91111000 - Act:5 - Num:1 [fit: 0.000, exp: 95.00, pred: 285.597]\n",
      "Cond:11###101 - Act:6 - Num:1 [fit: 0.000, exp: 177.00, pred: 111.185]\n"
     ]
    }
   ],
   "source": [
    "for cl in explore_population:\n",
    "    print(str(cl))"
   ]
  },
  {
   "cell_type": "code",
   "execution_count": 7,
   "metadata": {},
   "outputs": [
    {
     "data": {
      "text/plain": [
       "<matplotlib.legend.Legend at 0x20a9f5b8f08>"
      ]
     },
     "execution_count": 7,
     "metadata": {},
     "output_type": "execute_result"
    },
    {
     "data": {
      "image/png": "[encoded data removed]",
      "text/plain": [
       "<Figure size 432x288 with 1 Axes>"
      ]
     },
     "metadata": {
      "needs_background": "light"
     },
     "output_type": "display_data"
    }
   ],
   "source": [
    "import pandas as pd\n",
    "import numpy as np\n",
    "\n",
    "df = pd.DataFrame(metric[\"average_specificity\"] for metric in explore_metrics)\n",
    "ax = df.plot()\n",
    "ax.set_xlabel(\"trial\")\n",
    "ax.set_ylabel(\"average_specificity\")\n",
    "ax.legend([\"specificity\"])\n"
   ]
  },
  {
   "cell_type": "code",
   "execution_count": 8,
   "metadata": {},
   "outputs": [
    {
     "data": {
      "text/plain": [
       "<matplotlib.legend.Legend at 0x20aa1680788>"
      ]
     },
     "execution_count": 8,
     "metadata": {},
     "output_type": "execute_result"
    },
    {
     "data": {
      "image/png": "[encoded data removed]",
      "text/plain": [
       "<Figure size 432x288 with 1 Axes>"
      ]
     },
     "metadata": {
      "needs_background": "light"
     },
     "output_type": "display_data"
    }
   ],
   "source": [
    "df = pd.DataFrame(metric[\"fraction_accuracy\"] for metric in explore_metrics)\n",
    "ax = df.plot()\n",
    "ax.set_xlabel(\"trial\")\n",
    "ax.set_ylabel(\"fraction accuracy\")\n",
    "ax.legend([\"fraction accuracy\"])\n"
   ]
  },
  {
   "cell_type": "code",
   "execution_count": 9,
   "metadata": {},
   "outputs": [
    {
     "data": {
      "image/png": "[encoded data removed]",
      "text/plain": [
       "<Figure size 432x288 with 1 Axes>"
      ]
     },
     "metadata": {
      "needs_background": "light"
     },
     "output_type": "display_data"
    }
   ],
   "source": [
    "\n",
    "df = pd.DataFrame(zip([metric[\"population\"] for metric in explore_metrics], [metric[\"numerosity\"] for metric in explore_metrics]))\n",
    "ax = df.plot()\n",
    "ax.set_xlabel(\"trial\")\n",
    "ax.set_ylabel(\"population\")\n",
    "ax.legend([\"pop\", \"num\"])\n",
    "\n",
    "steps_averaged = []\n"
   ]
  },
  {
   "cell_type": "code",
   "execution_count": 10,
   "metadata": {},
   "outputs": [
    {
     "data": {
      "text/plain": [
       "<matplotlib.legend.Legend at 0x20aa178dec8>"
      ]
     },
     "execution_count": 10,
     "metadata": {},
     "output_type": "execute_result"
    },
    {
     "data": {
      "image/png": "[encoded data removed]",
      "text/plain": [
       "<Figure size 432x288 with 1 Axes>"
      ]
     },
     "metadata": {
      "needs_background": "light"
     },
     "output_type": "display_data"
    }
   ],
   "source": [
    "\n",
    "\n",
    "xf = [metric[\"steps_in_trial\"] for metric in explore_metrics]\n",
    "temp_df = np.array_split(xf, 20)\n",
    "for i in range(len(temp_df)):\n",
    "    temp_df[i] = np.mean(temp_df[i]) \n",
    "df = pd.DataFrame(temp_df)\n",
    "# df = pd.DataFrame(metric[\"steps_in_trial\"] for metric in explore_metrics)\n",
    "ax = df.plot()\n",
    "ax.set_xlabel(\"trial grouped up[*50]\")\n",
    "ax.set_ylabel(\"steps for solution\")\n",
    "ax.legend([\"steps\"])\n"
   ]
  },
  {
   "cell_type": "code",
   "execution_count": null,
   "metadata": {},
   "outputs": [],
   "source": []
  },
  {
   "cell_type": "code",
   "execution_count": null,
   "metadata": {},
   "outputs": [],
   "source": [
    "\n",
    "\n"
   ]
  },
  {
   "cell_type": "code",
   "execution_count": null,
   "metadata": {},
   "outputs": [],
   "source": []
  }
 ],
 "metadata": {
  "kernelspec": {
   "display_name": "Python 3",
   "language": "python",
   "name": "python3"
  },
  "language_info": {
   "codemirror_mode": {
    "name": "ipython",
    "version": 3
   },
   "file_extension": ".py",
   "mimetype": "text/x-python",
   "name": "python",
   "nbconvert_exporter": "python",
   "pygments_lexer": "ipython3",
   "version": "3.7.10"
  }
 },
 "nbformat": 4,
 "nbformat_minor": 1
}
