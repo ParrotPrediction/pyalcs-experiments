{
 "cells": [
  {
   "cell_type": "code",
   "execution_count": 32,
   "metadata": {},
   "outputs": [],
   "source": [
    "# logging \n",
    "import logging\n",
    "logging.basicConfig(level=logging.INFO)\n",
    "logger = logging.getLogger(__name__)\n"
   ]
  },
  {
   "cell_type": "code",
   "execution_count": 33,
   "metadata": {},
   "outputs": [
    {
     "name": "stdout",
     "output_type": "stream",
     "text": [
      "This is how maze looks like\n",
      "\n",
      "\u001b[30m■\u001b[0m \u001b[30m■\u001b[0m \u001b[30m■\u001b[0m \u001b[30m■\u001b[0m \u001b[30m■\u001b[0m \u001b[30m■\u001b[0m \u001b[30m■\u001b[0m \u001b[30m■\u001b[0m\n",
      "\u001b[30m■\u001b[0m \u001b[37m□\u001b[0m \u001b[37m□\u001b[0m \u001b[30m■\u001b[0m \u001b[31mA\u001b[0m \u001b[37m□\u001b[0m \u001b[33m$\u001b[0m \u001b[30m■\u001b[0m\n",
      "\u001b[30m■\u001b[0m \u001b[30m■\u001b[0m \u001b[37m□\u001b[0m \u001b[37m□\u001b[0m \u001b[30m■\u001b[0m \u001b[37m□\u001b[0m \u001b[37m□\u001b[0m \u001b[30m■\u001b[0m\n",
      "\u001b[30m■\u001b[0m \u001b[30m■\u001b[0m \u001b[37m□\u001b[0m \u001b[30m■\u001b[0m \u001b[37m□\u001b[0m \u001b[37m□\u001b[0m \u001b[30m■\u001b[0m \u001b[30m■\u001b[0m\n",
      "\u001b[30m■\u001b[0m \u001b[37m□\u001b[0m \u001b[37m□\u001b[0m \u001b[37m□\u001b[0m \u001b[37m□\u001b[0m \u001b[37m□\u001b[0m \u001b[37m□\u001b[0m \u001b[30m■\u001b[0m\n",
      "\u001b[30m■\u001b[0m \u001b[30m■\u001b[0m \u001b[37m□\u001b[0m \u001b[30m■\u001b[0m \u001b[37m□\u001b[0m \u001b[37m□\u001b[0m \u001b[37m□\u001b[0m \u001b[30m■\u001b[0m\n",
      "\u001b[30m■\u001b[0m \u001b[37m□\u001b[0m \u001b[37m□\u001b[0m \u001b[37m□\u001b[0m \u001b[37m□\u001b[0m \u001b[30m■\u001b[0m \u001b[37m□\u001b[0m \u001b[30m■\u001b[0m\n",
      "\u001b[30m■\u001b[0m \u001b[30m■\u001b[0m \u001b[30m■\u001b[0m \u001b[30m■\u001b[0m \u001b[30m■\u001b[0m \u001b[30m■\u001b[0m \u001b[30m■\u001b[0m \u001b[30m■\u001b[0m\n"
     ]
    }
   ],
   "source": [
    "# environment setup\n",
    "import gym\n",
    "# noinspection PyUnresolvedReferences\n",
    "import gym_maze\n",
    "\n",
    "maze = gym.make('Maze4-v0')\n",
    "print(\"This is how maze looks like\")\n",
    "situation = maze.reset()\n",
    "maze.render()"
   ]
  },
  {
   "cell_type": "code",
   "execution_count": 34,
   "metadata": {
    "scrolled": false
   },
   "outputs": [
    {
     "name": "stderr",
     "output_type": "stream",
     "text": [
      "INFO:lcs.agents.Agent:{'trial': 0, 'steps_in_trial': 50, 'reward': [1.2994767312751368e-40, 8.425094683250161e-41, 8.080616036546928e-41, 2.151275922133162e-40, 2.9886157503025325e-41, 1.4932361310615476e-40, 2.3431117194781775e-40, 2.503236778141304e-40], 'numerosity': 93, 'knowledge': 0.0, 'population': 86}\n",
      "INFO:lcs.agents.Agent:{'trial': 100, 'steps_in_trial': 50, 'reward': [17.7106160096439, 18.70375874734619, 27.413616771523962, 14.32479539360515, 16.020762763464212, 19.49788993491228, 22.215559261798692, 15.964796992604844], 'numerosity': 201, 'knowledge': 0.043478260869565216, 'population': 169}\n",
      "INFO:lcs.agents.Agent:{'trial': 200, 'steps_in_trial': 50, 'reward': [21.714908624246938, 26.038510393095187, 22.234101477763122, 25.491632641949376, 26.812847858516776, 23.08848403102084, 26.36926308323193, 27.6454171312055], 'numerosity': 200, 'knowledge': 0.10434782608695652, 'population': 172}\n",
      "INFO:lcs.agents.Agent:{'trial': 300, 'steps_in_trial': 50, 'reward': [41.78482065075315, 48.380960614764774, 49.56189572213928, 47.78027134469846, 49.90400389028047, 46.85606208338361, 46.37033318276565, 33.353986636073614], 'numerosity': 201, 'knowledge': 0.1565217391304348, 'population': 175}\n",
      "INFO:lcs.agents.Agent:{'trial': 400, 'steps_in_trial': 28, 'reward': [176.2032118369784, 71.20357578872813, 21.831254750645627, 24.56978527917089, 23.66516893822795, 25.974839174781632, 23.601559310718418, 22.750173716971588], 'numerosity': 200, 'knowledge': 0.06956521739130435, 'population': 165}\n",
      "INFO:lcs.agents.Agent:{'trial': 500, 'steps_in_trial': 50, 'reward': [29.068970035842693, 43.74360046138273, 46.47100520895943, 34.98648595588503, 41.85660251008614, 29.734209609859505, 22.14506985414836, 34.6492804697572], 'numerosity': 201, 'knowledge': 0.06086956521739131, 'population': 165}\n",
      "INFO:lcs.agents.Agent:{'trial': 600, 'steps_in_trial': 50, 'reward': [96.10117773362686, 38.32974416464635, 53.826339098773815, 33.46969523702192, 37.01480898887547, 34.856184823759854, 31.909255047504125, 28.672721020344603], 'numerosity': 200, 'knowledge': 0.06956521739130435, 'population': 169}\n",
      "INFO:lcs.agents.Agent:{'trial': 700, 'steps_in_trial': 50, 'reward': [26.95810473591553, 29.173238897776056, 26.89515028017275, 26.167346927063793, 31.39923377926806, 28.132108346069757, 33.74094420618254, 31.232009374067164], 'numerosity': 200, 'knowledge': 0.10434782608695652, 'population': 168}\n",
      "INFO:lcs.agents.Agent:{'trial': 800, 'steps_in_trial': 50, 'reward': [24.438391933430964, 52.839471287601, 27.192243547808978, 27.789615260673564, 31.214248646464185, 31.40143650104772, 29.402569968386018, 27.626151465473523], 'numerosity': 200, 'knowledge': 0.09565217391304348, 'population': 163}\n",
      "INFO:lcs.agents.Agent:{'trial': 900, 'steps_in_trial': 50, 'reward': [34.2304163213328, 44.22183379445062, 70.98433516113673, 30.160074376825836, 29.53826694691541, 38.90875900435606, 41.549070844327076, 42.73924848387591], 'numerosity': 200, 'knowledge': 0.11304347826086956, 'population': 165}\n"
     ]
    },
    {
     "name": "stdout",
     "output_type": "stream",
     "text": [
      "Cond:0#00#101 - Act:5 - Num:1 [fit: 0.024, exp: 15.00, pred: 169.453]\n",
      "Cond:00100010 - Act:5 - Num:1 [fit: 0.246, exp: 27.00, pred: 149.659]\n",
      "Cond:#111000# - Act:4 - Num:1 [fit: 0.172, exp: 4.00, pred: 150.193]\n",
      "Cond:01000000 - Act:5 - Num:1 [fit: 0.051, exp: 60.00, pred: 197.923]\n",
      "Cond:11001011 - Act:5 - Num:1 [fit: 0.098, exp: 16.00, pred: 167.031]\n",
      "Cond:01011101 - Act:5 - Num:1 [fit: 0.050, exp: 1.00, pred: 155.909]\n",
      "Cond:01110##0 - Act:7 - Num:1 [fit: 0.372, exp: 10.00, pred: 177.754]\n",
      "Cond:00100001 - Act:6 - Num:2 [fit: 0.244, exp: 5.00, pred: 168.252]\n",
      "Cond:11100101 - Act:4 - Num:1 [fit: 0.033, exp: 12.00, pred: 204.163]\n",
      "Cond:011##100 - Act:2 - Num:1 [fit: 0.000, exp: 0.00, pred: 0.000]\n",
      "Cond:10000010 - Act:6 - Num:1 [fit: 0.000, exp: 0.00, pred: 0.000]\n",
      "Cond:#0##0010 - Act:5 - Num:1 [fit: 0.448, exp: 33.00, pred: 176.638]\n",
      "Cond:9111#000 - Act:0 - Num:1 [fit: 0.022, exp: 9.00, pred: 146.504]\n",
      "Cond:00001000 - Act:5 - Num:1 [fit: 0.035, exp: 16.00, pred: 207.995]\n",
      "Cond:#11101#0 - Act:1 - Num:1 [fit: 0.000, exp: 0.00, pred: 0.000]\n",
      "Cond:00111101 - Act:2 - Num:1 [fit: 0.000, exp: 0.00, pred: 0.000]\n",
      "Cond:101010#0 - Act:1 - Num:1 [fit: 0.235, exp: 24.00, pred: 178.923]\n",
      "Cond:11900101 - Act:2 - Num:1 [fit: 0.011, exp: 15.00, pred: 184.016]\n",
      "Cond:0000##00 - Act:6 - Num:1 [fit: 0.077, exp: 4.00, pred: 171.926]\n",
      "Cond:0#000000 - Act:6 - Num:1 [fit: 0.097, exp: 11.00, pred: 184.617]\n",
      "Cond:09010010 - Act:3 - Num:1 [fit: 0.234, exp: 6.00, pred: 177.920]\n",
      "Cond:1111#0#0 - Act:5 - Num:1 [fit: 0.376, exp: 17.00, pred: 178.157]\n",
      "Cond:01011101 - Act:6 - Num:2 [fit: 0.522, exp: 16.00, pred: 166.357]\n",
      "Cond:1001#100 - Act:0 - Num:1 [fit: 0.050, exp: 1.00, pred: 163.615]\n",
      "Cond:#0#1#1#0 - Act:1 - Num:1 [fit: 0.007, exp: 20.00, pred: 170.972]\n",
      "Cond:10011#00 - Act:2 - Num:1 [fit: 0.041, exp: 10.00, pred: 280.522]\n",
      "Cond:10011#00 - Act:5 - Num:2 [fit: 0.137, exp: 4.00, pred: 140.834]\n",
      "Cond:#1001111 - Act:7 - Num:2 [fit: 0.045, exp: 2.00, pred: 200.177]\n",
      "Cond:11900101 - Act:4 - Num:1 [fit: 0.306, exp: 9.00, pred: 188.313]\n",
      "Cond:01000000 - Act:3 - Num:1 [fit: 0.095, exp: 2.00, pred: 158.463]\n",
      "Cond:000#0101 - Act:7 - Num:1 [fit: 0.146, exp: 16.00, pred: 185.487]\n",
      "Cond:#0100001 - Act:2 - Num:1 [fit: 0.000, exp: 0.00, pred: 0.000]\n",
      "Cond:10#00010 - Act:3 - Num:3 [fit: 0.211, exp: 7.00, pred: 162.062]\n",
      "Cond:##011111 - Act:3 - Num:2 [fit: 0.117, exp: 10.00, pred: 153.518]\n",
      "Cond:010#1101 - Act:1 - Num:1 [fit: 0.050, exp: 1.00, pred: 159.805]\n",
      "Cond:01011#01 - Act:7 - Num:1 [fit: 0.000, exp: 0.00, pred: 0.000]\n",
      "Cond:10101000 - Act:2 - Num:1 [fit: 0.000, exp: 0.00, pred: 0.000]\n",
      "Cond:000#0000 - Act:4 - Num:1 [fit: 0.050, exp: 1.00, pred: 202.253]\n",
      "Cond:100010#0 - Act:2 - Num:2 [fit: 0.240, exp: 4.00, pred: 195.472]\n",
      "Cond:10001#0# - Act:6 - Num:1 [fit: 0.197, exp: 4.00, pred: 148.935]\n",
      "Cond:01010#10 - Act:6 - Num:1 [fit: 0.086, exp: 3.00, pred: 168.845]\n",
      "Cond:11100101 - Act:2 - Num:1 [fit: 0.000, exp: 70.00, pred: 197.732]\n",
      "Cond:#90100#0 - Act:1 - Num:1 [fit: 0.050, exp: 1.00, pred: 129.707]\n",
      "Cond:00010010 - Act:7 - Num:1 [fit: 0.227, exp: 5.00, pred: 167.798]\n",
      "Cond:11001111 - Act:6 - Num:1 [fit: 0.037, exp: 11.00, pred: 217.394]\n",
      "Cond:01010110 - Act:1 - Num:1 [fit: 0.033, exp: 5.00, pred: 131.398]\n",
      "Cond:11900#0# - Act:1 - Num:1 [fit: 0.320, exp: 6.00, pred: 187.298]\n",
      "Cond:01010110 - Act:4 - Num:2 [fit: 0.260, exp: 6.00, pred: 166.681]\n",
      "Cond:00#11#0# - Act:0 - Num:1 [fit: 0.007, exp: 20.00, pred: 220.063]\n",
      "Cond:0#11#1#1 - Act:1 - Num:2 [fit: 0.062, exp: 6.00, pred: 159.070]\n",
      "Cond:0111111# - Act:3 - Num:3 [fit: 0.144, exp: 4.00, pred: 182.823]\n",
      "Cond:01111110 - Act:6 - Num:1 [fit: 0.000, exp: 0.00, pred: 0.000]\n",
      "Cond:01111110 - Act:7 - Num:1 [fit: 0.095, exp: 2.00, pred: 182.516]\n",
      "Cond:10000010 - Act:2 - Num:1 [fit: 0.050, exp: 1.00, pred: 160.809]\n",
      "Cond:00100001 - Act:3 - Num:1 [fit: 0.000, exp: 0.00, pred: 0.000]\n",
      "Cond:1#900101 - Act:3 - Num:1 [fit: 0.233, exp: 7.00, pred: 183.687]\n",
      "Cond:101#1000 - Act:6 - Num:1 [fit: 0.045, exp: 2.00, pred: 178.206]\n",
      "Cond:0901#010 - Act:7 - Num:1 [fit: 0.362, exp: 9.00, pred: 180.583]\n",
      "Cond:10001000 - Act:4 - Num:1 [fit: 0.000, exp: 0.00, pred: 0.000]\n",
      "Cond:10##1000 - Act:7 - Num:1 [fit: 0.050, exp: 1.00, pred: 142.259]\n",
      "Cond:0101#110 - Act:0 - Num:2 [fit: 0.037, exp: 11.00, pred: 203.845]\n",
      "Cond:0101#110 - Act:3 - Num:1 [fit: 0.095, exp: 2.00, pred: 196.224]\n",
      "Cond:#01111#1 - Act:3 - Num:1 [fit: 0.050, exp: 1.00, pred: 208.401]\n",
      "Cond:91111000 - Act:2 - Num:1 [fit: 0.050, exp: 1.00, pred: 156.549]\n",
      "Cond:91#11000 - Act:5 - Num:1 [fit: 0.205, exp: 5.00, pred: 171.109]\n",
      "Cond:1111000# - Act:6 - Num:1 [fit: 0.000, exp: 0.00, pred: 0.000]\n",
      "Cond:1111#0#0 - Act:7 - Num:3 [fit: 0.050, exp: 1.00, pred: 162.911]\n",
      "Cond:11110000 - Act:0 - Num:1 [fit: 0.050, exp: 1.00, pred: 164.759]\n",
      "Cond:090#0010 - Act:0 - Num:1 [fit: 0.095, exp: 2.00, pred: 178.356]\n",
      "Cond:91111000 - Act:3 - Num:1 [fit: 0.136, exp: 3.00, pred: 170.475]\n",
      "Cond:11001111 - Act:0 - Num:1 [fit: 0.132, exp: 11.00, pred: 220.808]\n",
      "Cond:11#01111 - Act:2 - Num:2 [fit: 0.024, exp: 8.00, pred: 245.516]\n",
      "Cond:110#1111 - Act:4 - Num:2 [fit: 0.187, exp: 6.00, pred: 213.187]\n",
      "Cond:110##111 - Act:5 - Num:1 [fit: 0.033, exp: 5.00, pred: 198.376]\n",
      "Cond:00010#10 - Act:0 - Num:1 [fit: 0.010, exp: 16.00, pred: 198.616]\n",
      "Cond:000#0010 - Act:6 - Num:1 [fit: 0.095, exp: 2.00, pred: 189.979]\n",
      "Cond:00#01000 - Act:3 - Num:1 [fit: 0.050, exp: 1.00, pred: 187.763]\n",
      "Cond:00100#01 - Act:1 - Num:1 [fit: 0.000, exp: 0.00, pred: 0.000]\n",
      "Cond:01110100 - Act:4 - Num:1 [fit: 0.000, exp: 0.00, pred: 0.000]\n",
      "Cond:011101## - Act:6 - Num:1 [fit: 0.000, exp: 0.00, pred: 0.000]\n",
      "Cond:#1100101 - Act:3 - Num:3 [fit: 0.122, exp: 4.00, pred: 133.906]\n",
      "Cond:11#00101 - Act:5 - Num:1 [fit: 0.077, exp: 4.00, pred: 203.597]\n",
      "Cond:1110#101 - Act:7 - Num:2 [fit: 0.077, exp: 4.00, pred: 203.165]\n",
      "Cond:1#1001#1 - Act:1 - Num:1 [fit: 0.069, exp: 5.00, pred: 194.328]\n",
      "Cond:91111000 - Act:6 - Num:1 [fit: 0.050, exp: 1.00, pred: 160.318]\n",
      "Cond:110010#1 - Act:0 - Num:3 [fit: 0.120, exp: 2.00, pred: 150.515]\n",
      "Cond:11001011 - Act:6 - Num:1 [fit: 0.000, exp: 0.00, pred: 0.000]\n",
      "Cond:09010010 - Act:6 - Num:1 [fit: 0.000, exp: 0.00, pred: 0.000]\n",
      "Cond:01010101 - Act:2 - Num:1 [fit: 0.000, exp: 0.00, pred: 0.000]\n",
      "Cond:01010101 - Act:6 - Num:1 [fit: 0.000, exp: 0.00, pred: 0.000]\n",
      "Cond:001000#0 - Act:3 - Num:1 [fit: 0.205, exp: 5.00, pred: 247.219]\n",
      "Cond:#0011111 - Act:0 - Num:1 [fit: 0.172, exp: 4.00, pred: 153.330]\n",
      "Cond:10#11111 - Act:5 - Num:1 [fit: 0.095, exp: 2.00, pred: 135.081]\n",
      "Cond:0101110# - Act:0 - Num:1 [fit: 0.095, exp: 2.00, pred: 165.161]\n",
      "Cond:01011101 - Act:2 - Num:1 [fit: 0.000, exp: 0.00, pred: 0.000]\n",
      "Cond:00100010 - Act:1 - Num:1 [fit: 0.050, exp: 1.00, pred: 160.905]\n",
      "Cond:0#011101 - Act:3 - Num:1 [fit: 0.045, exp: 2.00, pred: 91.941]\n",
      "Cond:10001000 - Act:3 - Num:1 [fit: 0.000, exp: 0.00, pred: 0.000]\n",
      "Cond:01010101 - Act:7 - Num:1 [fit: 0.000, exp: 0.00, pred: 0.000]\n",
      "Cond:00#0010# - Act:6 - Num:3 [fit: 0.095, exp: 2.00, pred: 158.016]\n",
      "Cond:01000000 - Act:0 - Num:1 [fit: 0.000, exp: 0.00, pred: 0.000]\n",
      "Cond:#1000000 - Act:4 - Num:3 [fit: 0.095, exp: 2.00, pred: 180.325]\n",
      "Cond:00010010 - Act:3 - Num:1 [fit: 0.136, exp: 3.00, pred: 195.221]\n",
      "Cond:00100010 - Act:2 - Num:1 [fit: 0.000, exp: 0.00, pred: 0.000]\n",
      "Cond:00100010 - Act:6 - Num:1 [fit: 0.050, exp: 1.00, pred: 215.476]\n",
      "Cond:00#00101 - Act:4 - Num:1 [fit: 0.136, exp: 3.00, pred: 185.199]\n",
      "Cond:10000010 - Act:0 - Num:1 [fit: 0.000, exp: 0.00, pred: 0.000]\n",
      "Cond:10000010 - Act:1 - Num:1 [fit: 0.000, exp: 0.00, pred: 0.000]\n",
      "Cond:10001000 - Act:1 - Num:1 [fit: 0.050, exp: 1.00, pred: 156.985]\n",
      "Cond:11110000 - Act:2 - Num:1 [fit: 0.000, exp: 0.00, pred: 0.000]\n",
      "Cond:011#010# - Act:0 - Num:1 [fit: 0.000, exp: 0.00, pred: 0.000]\n",
      "Cond:00111101 - Act:6 - Num:1 [fit: 0.000, exp: 0.00, pred: 0.000]\n",
      "Cond:0#100#10 - Act:4 - Num:1 [fit: 0.000, exp: 0.00, pred: 0.000]\n",
      "Cond:00111101 - Act:4 - Num:1 [fit: 0.183, exp: 3.00, pred: 218.161]\n",
      "Cond:00010#10 - Act:4 - Num:2 [fit: 0.189, exp: 4.00, pred: 201.307]\n",
      "Cond:001#0001 - Act:0 - Num:1 [fit: 0.050, exp: 1.00, pred: 170.302]\n",
      "Cond:#0100001 - Act:7 - Num:1 [fit: 0.000, exp: 0.00, pred: 0.000]\n",
      "Cond:0000#000 - Act:7 - Num:3 [fit: 0.095, exp: 2.00, pred: 164.754]\n",
      "Cond:0000010# - Act:3 - Num:1 [fit: 0.095, exp: 2.00, pred: 184.681]\n",
      "Cond:01111#1# - Act:0 - Num:1 [fit: 0.000, exp: 0.00, pred: 0.000]\n",
      "Cond:01111110 - Act:2 - Num:1 [fit: 0.000, exp: 0.00, pred: 0.000]\n",
      "Cond:011#1110 - Act:4 - Num:1 [fit: 0.000, exp: 0.00, pred: 0.000]\n",
      "Cond:#1111110 - Act:1 - Num:1 [fit: 0.000, exp: 0.00, pred: 0.000]\n",
      "Cond:10000010 - Act:7 - Num:1 [fit: 0.000, exp: 0.00, pred: 0.000]\n",
      "Cond:01000000 - Act:7 - Num:1 [fit: 0.050, exp: 1.00, pred: 161.726]\n",
      "Cond:000#1000 - Act:1 - Num:1 [fit: 0.000, exp: 0.00, pred: 0.000]\n",
      "Cond:1000#000 - Act:0 - Num:1 [fit: 0.000, exp: 0.00, pred: 0.000]\n",
      "Cond:#000100# - Act:5 - Num:1 [fit: 0.000, exp: 0.00, pred: 0.000]\n",
      "Cond:00100011 - Act:1 - Num:1 [fit: 0.000, exp: 0.00, pred: 0.000]\n",
      "Cond:001000#1 - Act:2 - Num:1 [fit: 0.000, exp: 0.00, pred: 0.000]\n",
      "Cond:0010#011 - Act:5 - Num:1 [fit: 0.000, exp: 0.00, pred: 0.000]\n",
      "Cond:00100011 - Act:7 - Num:1 [fit: 0.000, exp: 0.00, pred: 0.000]\n",
      "Cond:01010110 - Act:2 - Num:1 [fit: 0.000, exp: 0.00, pred: 0.000]\n",
      "Cond:0#010110 - Act:7 - Num:1 [fit: 0.000, exp: 0.00, pred: 0.000]\n",
      "Cond:111001#1 - Act:0 - Num:1 [fit: 0.095, exp: 2.00, pred: 187.709]\n",
      "Cond:111001#1 - Act:6 - Num:3 [fit: 0.086, exp: 3.00, pred: 156.555]\n",
      "Cond:1#101#00 - Act:0 - Num:1 [fit: 0.050, exp: 1.00, pred: 159.309]\n",
      "Cond:10101000 - Act:5 - Num:1 [fit: 0.095, exp: 2.00, pred: 174.455]\n",
      "Cond:0101#110 - Act:5 - Num:1 [fit: 0.000, exp: 0.00, pred: 0.000]\n",
      "Cond:11001#11 - Act:1 - Num:1 [fit: 0.077, exp: 4.00, pred: 171.987]\n",
      "Cond:11001#1# - Act:2 - Num:1 [fit: 0.047, exp: 2.00, pred: 184.597]\n",
      "Cond:1100101# - Act:3 - Num:1 [fit: 0.000, exp: 0.00, pred: 0.000]\n",
      "Cond:110#1011 - Act:4 - Num:1 [fit: 0.050, exp: 1.00, pred: 152.574]\n",
      "Cond:#1001011 - Act:7 - Num:1 [fit: 0.000, exp: 0.00, pred: 0.000]\n",
      "Cond:#0100011 - Act:6 - Num:1 [fit: 0.000, exp: 0.00, pred: 0.000]\n",
      "Cond:##011101 - Act:4 - Num:1 [fit: 0.000, exp: 0.00, pred: 0.000]\n",
      "Cond:10011111 - Act:1 - Num:1 [fit: 0.050, exp: 1.00, pred: 204.513]\n",
      "Cond:10011111 - Act:2 - Num:1 [fit: 0.000, exp: 0.00, pred: 0.000]\n",
      "Cond:1001111# - Act:6 - Num:1 [fit: 0.050, exp: 1.00, pred: 156.720]\n",
      "Cond:10011100 - Act:3 - Num:1 [fit: 0.000, exp: 0.00, pred: 0.000]\n",
      "Cond:10011100 - Act:7 - Num:1 [fit: 0.000, exp: 0.00, pred: 0.000]\n",
      "Cond:0##00101 - Act:0 - Num:1 [fit: 0.136, exp: 3.00, pred: 165.731]\n",
      "Cond:00001000 - Act:0 - Num:1 [fit: 0.000, exp: 0.00, pred: 0.000]\n",
      "Cond:100000#0 - Act:4 - Num:1 [fit: 0.000, exp: 0.00, pred: 0.000]\n",
      "Cond:01000000 - Act:1 - Num:1 [fit: 0.095, exp: 2.00, pred: 167.515]\n",
      "Cond:0#00#000 - Act:2 - Num:1 [fit: 0.050, exp: 1.00, pred: 153.584]\n",
      "Cond:00010010 - Act:2 - Num:1 [fit: 0.000, exp: 0.00, pred: 0.000]\n",
      "Cond:00000101 - Act:2 - Num:1 [fit: 0.000, exp: 0.00, pred: 0.000]\n",
      "Cond:11110000 - Act:3 - Num:1 [fit: 0.000, exp: 0.00, pred: 0.000]\n",
      "Cond:0901#010 - Act:2 - Num:1 [fit: 0.000, exp: 0.00, pred: 0.000]\n",
      "Cond:0#010#10 - Act:4 - Num:1 [fit: 0.020, exp: 1.00, pred: 167.454]\n",
      "Cond:09010##0 - Act:5 - Num:1 [fit: 0.000, exp: 0.00, pred: 0.000]\n",
      "Cond:10101#00 - Act:3 - Num:1 [fit: 0.000, exp: 0.00, pred: 0.000]\n",
      "Cond:10101000 - Act:4 - Num:1 [fit: 0.050, exp: 1.00, pred: 163.161]\n",
      "Cond:0#100011 - Act:3 - Num:1 [fit: 0.000, exp: 0.00, pred: 0.000]\n",
      "Cond:001000#1 - Act:4 - Num:1 [fit: 0.000, exp: 0.00, pred: 0.000]\n",
      "Cond:91111000 - Act:1 - Num:1 [fit: 0.000, exp: 0.00, pred: 0.000]\n",
      "Cond:91111000 - Act:4 - Num:1 [fit: 0.000, exp: 0.00, pred: 0.000]\n",
      "Cond:91#11000 - Act:7 - Num:1 [fit: 0.000, exp: 0.00, pred: 0.000]\n"
     ]
    }
   ],
   "source": [
    "from lcs.agents.xcs import XCS, Configuration\n",
    "\n",
    "\n",
    "def xcs_maze_knowledge(population, environment) -> float:\n",
    "    transitions = environment.env.get_all_possible_transitions()\n",
    "    nr_correct = 0\n",
    "    for start, action, end in transitions:\n",
    "        perception = environment.env.maze.perception(*start)\n",
    "        if any([True for cl in population\n",
    "                if cl.does_match(perception) and\n",
    "                cl.action == action and\n",
    "                cl.fitness > 0.05 and cl.experience > 10\n",
    "               ]):\n",
    "            nr_correct += 1\n",
    "    return nr_correct / len(transitions)\n",
    "\n",
    "def xcs_maze_metrics(xcs: XCS, environment):\n",
    "    return {\n",
    "        'numerosity': xcs.population.numerosity,\n",
    "        'knowledge': xcs_maze_knowledge(xcs.population, environment),\n",
    "        'population': len(xcs.population)\n",
    "    }\n",
    "\n",
    "\n",
    "cfg = Configuration(number_of_actions=8,\n",
    "                    max_population=200,\n",
    "                    metrics_trial_frequency=50,\n",
    "                    covering_wildcard_chance = 0.9,\n",
    "                    user_metrics_collector_fcn=xcs_maze_metrics)\n",
    "\n",
    "agent = XCS(cfg)\n",
    "explore_population, explore_metrics = agent.explore(maze, 1000, False)\n",
    "\n",
    "for cl in explore_population:\n",
    "    print(str(cl))\n",
    "\n",
    "\n"
   ]
  },
  {
   "cell_type": "code",
   "execution_count": 35,
   "metadata": {},
   "outputs": [
    {
     "data": {
      "text/plain": [
       "<matplotlib.legend.Legend at 0x1dc06616088>"
      ]
     },
     "execution_count": 35,
     "metadata": {},
     "output_type": "execute_result"
    },
    {
     "data": {
      "image/png": "[encoded data removed]",
      "text/plain": [
       "<Figure size 432x288 with 1 Axes>"
      ]
     },
     "metadata": {
      "needs_background": "light"
     },
     "output_type": "display_data"
    },
    {
     "data": {
      "image/png": "[encoded data removed]",
      "text/plain": [
       "<Figure size 432x288 with 1 Axes>"
      ]
     },
     "metadata": {
      "needs_background": "light"
     },
     "output_type": "display_data"
    },
    {
     "data": {
      "image/png": "[encoded data removed]",
      "text/plain": [
       "<Figure size 432x288 with 1 Axes>"
      ]
     },
     "metadata": {
      "needs_background": "light"
     },
     "output_type": "display_data"
    }
   ],
   "source": [
    "import pandas as pd\n",
    "import numpy as np\n",
    "\n",
    "df = pd.DataFrame(metric[\"knowledge\"] for metric in explore_metrics)\n",
    "ax = df.plot()\n",
    "ax.set_xlabel(\"trial\")\n",
    "ax.set_ylabel(\"knowledge %\")\n",
    "ax.legend([\"knowledge %\"])\n",
    "\n",
    "\n",
    "df = pd.DataFrame(zip([metric[\"population\"] for metric in explore_metrics], [metric[\"numerosity\"] for metric in explore_metrics]))\n",
    "ax = df.plot()\n",
    "ax.set_xlabel(\"trial\")\n",
    "ax.set_ylabel(\"population\")\n",
    "ax.legend([\"pop\", \"num\"])\n",
    "\n",
    "steps_averaged = []\n",
    "\n",
    "\n",
    "\n",
    "xf = [metric[\"steps_in_trial\"] for metric in explore_metrics]\n",
    "temp_df = np.array_split(xf, 20)\n",
    "for i in range(len(temp_df)):\n",
    "    temp_df[i] = np.mean(temp_df[i]) \n",
    "df = pd.DataFrame(temp_df)\n",
    "# df = pd.DataFrame(metric[\"steps_in_trial\"] for metric in explore_metrics)\n",
    "ax = df.plot()\n",
    "ax.set_xlabel(\"trial grouped up[*50]\")\n",
    "ax.set_ylabel(\"steps for solution\")\n",
    "ax.legend([\"steps\"])\n"
   ]
  },
  {
   "cell_type": "code",
   "execution_count": 36,
   "metadata": {},
   "outputs": [],
   "source": [
    "# It is hard to say but\n",
    "# looking at amount of times algorithm reaches top steps (50) the steps might actually go down over trials.\n",
    "# I need to somehow smooth it to see it better\n"
   ]
  },
  {
   "cell_type": "code",
   "execution_count": null,
   "metadata": {},
   "outputs": [],
   "source": []
  },
  {
   "cell_type": "code",
   "execution_count": null,
   "metadata": {},
   "outputs": [],
   "source": []
  }
 ],
 "metadata": {
  "kernelspec": {
   "display_name": "Python 3",
   "language": "python",
   "name": "python3"
  },
  "language_info": {
   "codemirror_mode": {
    "name": "ipython",
    "version": 3
   },
   "file_extension": ".py",
   "mimetype": "text/x-python",
   "name": "python",
   "nbconvert_exporter": "python",
   "pygments_lexer": "ipython3",
   "version": "3.7.10"
  }
 },
 "nbformat": 4,
 "nbformat_minor": 1
}
