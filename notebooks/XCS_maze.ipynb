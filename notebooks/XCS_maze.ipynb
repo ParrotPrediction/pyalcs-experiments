{
 "cells": [
  {
   "cell_type": "code",
   "execution_count": 9,
   "metadata": {},
   "outputs": [],
   "source": [
    "# logging \n",
    "import logging\n",
    "logging.basicConfig(level=logging.INFO)\n",
    "logger = logging.getLogger(__name__)\n"
   ]
  },
  {
   "cell_type": "code",
   "execution_count": 10,
   "metadata": {},
   "outputs": [
    {
     "name": "stdout",
     "output_type": "stream",
     "text": [
      "This is how maze looks like\n",
      "\n",
      "\u001b[30m■\u001b[0m \u001b[30m■\u001b[0m \u001b[30m■\u001b[0m \u001b[30m■\u001b[0m \u001b[30m■\u001b[0m \u001b[30m■\u001b[0m \u001b[30m■\u001b[0m \u001b[30m■\u001b[0m\n",
      "\u001b[30m■\u001b[0m \u001b[37m□\u001b[0m \u001b[37m□\u001b[0m \u001b[30m■\u001b[0m \u001b[31mA\u001b[0m \u001b[37m□\u001b[0m \u001b[33m$\u001b[0m \u001b[30m■\u001b[0m\n",
      "\u001b[30m■\u001b[0m \u001b[30m■\u001b[0m \u001b[37m□\u001b[0m \u001b[37m□\u001b[0m \u001b[30m■\u001b[0m \u001b[37m□\u001b[0m \u001b[37m□\u001b[0m \u001b[30m■\u001b[0m\n",
      "\u001b[30m■\u001b[0m \u001b[30m■\u001b[0m \u001b[37m□\u001b[0m \u001b[30m■\u001b[0m \u001b[37m□\u001b[0m \u001b[37m□\u001b[0m \u001b[30m■\u001b[0m \u001b[30m■\u001b[0m\n",
      "\u001b[30m■\u001b[0m \u001b[37m□\u001b[0m \u001b[37m□\u001b[0m \u001b[37m□\u001b[0m \u001b[37m□\u001b[0m \u001b[37m□\u001b[0m \u001b[37m□\u001b[0m \u001b[30m■\u001b[0m\n",
      "\u001b[30m■\u001b[0m \u001b[30m■\u001b[0m \u001b[37m□\u001b[0m \u001b[30m■\u001b[0m \u001b[37m□\u001b[0m \u001b[37m□\u001b[0m \u001b[37m□\u001b[0m \u001b[30m■\u001b[0m\n",
      "\u001b[30m■\u001b[0m \u001b[37m□\u001b[0m \u001b[37m□\u001b[0m \u001b[37m□\u001b[0m \u001b[37m□\u001b[0m \u001b[30m■\u001b[0m \u001b[37m□\u001b[0m \u001b[30m■\u001b[0m\n",
      "\u001b[30m■\u001b[0m \u001b[30m■\u001b[0m \u001b[30m■\u001b[0m \u001b[30m■\u001b[0m \u001b[30m■\u001b[0m \u001b[30m■\u001b[0m \u001b[30m■\u001b[0m \u001b[30m■\u001b[0m\n"
     ]
    }
   ],
   "source": [
    "# environment setup\n",
    "import gym\n",
    "# noinspection PyUnresolvedReferences\n",
    "import gym_maze\n",
    "\n",
    "maze = gym.make('Maze4-v0')\n",
    "print(\"This is how maze looks like\")\n",
    "situation = maze.reset()\n",
    "maze.render()"
   ]
  },
  {
   "cell_type": "code",
   "execution_count": 11,
   "metadata": {},
   "outputs": [
    {
     "name": "stderr",
     "output_type": "stream",
     "text": [
      "INFO:lcs.agents.Agent:{'trial': 0, 'steps_in_trial': 50, 'reward': [6.377150577806138e-40, 4.252646109511498e-40, 7.3409168711337795e-40, 6.802381997769329e-40], 'numerosity': 32, 'knowledge': 0.05217391304347826, 'population': 24}\n",
      "INFO:lcs.agents.Agent:{'trial': 100, 'steps_in_trial': 5, 'reward': [112.90642371155366, 10.841874413666908, 7.035019921005309, 7.815758453930583], 'numerosity': 132, 'knowledge': 0.2608695652173913, 'population': 100}\n",
      "INFO:lcs.agents.Agent:{'trial': 200, 'steps_in_trial': 50, 'reward': [42.32211927354301, 15.467164386772282, 46.108787098608545, 15.936582771570086], 'numerosity': 142, 'knowledge': 0.2608695652173913, 'population': 100}\n",
      "INFO:lcs.agents.Agent:{'trial': 300, 'steps_in_trial': 9, 'reward': [192.9096875713292, 13.645324857798885, 16.044810353335638, 11.87287213817752], 'numerosity': 146, 'knowledge': 0.25217391304347825, 'population': 100}\n",
      "INFO:lcs.agents.Agent:{'trial': 400, 'steps_in_trial': 11, 'reward': [117.84136554425527, 8.759959812550441, 9.761581689293413, 7.278232920269515], 'numerosity': 150, 'knowledge': 0.24347826086956523, 'population': 100}\n",
      "INFO:lcs.agents.Agent:{'trial': 500, 'steps_in_trial': 6, 'reward': [189.54823481240425, 5.304420438831839, 135.5096844483948, 11.239648156268457], 'numerosity': 150, 'knowledge': 0.24347826086956523, 'population': 100}\n",
      "INFO:lcs.agents.Agent:{'trial': 600, 'steps_in_trial': 2, 'reward': [46.93233987272315, 105.29087063886676, 123.83993500041811, 2.5609357200465674], 'numerosity': 154, 'knowledge': 0.24347826086956523, 'population': 100}\n",
      "INFO:lcs.agents.Agent:{'trial': 700, 'steps_in_trial': 6, 'reward': [116.59676631511253, 134.98075226050744, 113.7988656987908, 8.218295367755038], 'numerosity': 154, 'knowledge': 0.24347826086956523, 'population': 100}\n",
      "INFO:lcs.agents.Agent:{'trial': 800, 'steps_in_trial': 7, 'reward': [101.3307599666689, 0.2888785420312079, 73.8953628615562, 0.17674050992557747], 'numerosity': 160, 'knowledge': 0.23478260869565218, 'population': 100}\n",
      "INFO:lcs.agents.Agent:{'trial': 900, 'steps_in_trial': 50, 'reward': [2.726468949197712, 3.135456575438467, 2.3324759470192573, 3.3872662031189957], 'numerosity': 160, 'knowledge': 0.23478260869565218, 'population': 100}\n"
     ]
    },
    {
     "name": "stdout",
     "output_type": "stream",
     "text": [
      "Cond:10#11100 - Act:0 - Num:1 [fit: 0.000, exp: 52.00, pred: 215.516]\n",
      "Cond:10011100 - Act:1 - Num:1 [fit: 0.008, exp: 19.00, pred: 155.541]\n",
      "Cond:100##100 - Act:2 - Num:1 [fit: 0.000, exp: 51.00, pred: 235.879]\n",
      "Cond:#00111#0 - Act:3 - Num:1 [fit: 0.007, exp: 20.00, pred: 134.489]\n",
      "Cond:00010010 - Act:0 - Num:1 [fit: 0.002, exp: 49.00, pred: 198.062]\n",
      "Cond:000100#0 - Act:1 - Num:1 [fit: 0.001, exp: 42.00, pred: 160.682]\n",
      "Cond:00010010 - Act:2 - Num:1 [fit: 0.016, exp: 19.00, pred: 171.990]\n",
      "Cond:00010010 - Act:3 - Num:1 [fit: 0.004, exp: 26.00, pred: 135.713]\n",
      "Cond:0#00#000 - Act:0 - Num:3 [fit: 0.000, exp: 229.00, pred: 218.152]\n",
      "Cond:00001000 - Act:1 - Num:1 [fit: 0.003, exp: 31.00, pred: 94.052]\n",
      "Cond:00001000 - Act:2 - Num:1 [fit: 0.014, exp: 13.00, pred: 148.450]\n",
      "Cond:00001000 - Act:3 - Num:1 [fit: 0.014, exp: 13.00, pred: 98.651]\n",
      "Cond:#1111110 - Act:0 - Num:1 [fit: 0.000, exp: 53.00, pred: 168.987]\n",
      "Cond:011#111# - Act:1 - Num:1 [fit: 0.017, exp: 11.00, pred: 144.804]\n",
      "Cond:#1111110 - Act:2 - Num:1 [fit: 0.019, exp: 10.00, pred: 146.814]\n",
      "Cond:01111110 - Act:3 - Num:1 [fit: 0.050, exp: 8.00, pred: 88.229]\n",
      "Cond:011#0100 - Act:0 - Num:1 [fit: 0.000, exp: 144.00, pred: 131.475]\n",
      "Cond:011#0100 - Act:1 - Num:1 [fit: 0.000, exp: 109.00, pred: 119.483]\n",
      "Cond:01#10100 - Act:2 - Num:1 [fit: 0.000, exp: 298.00, pred: 124.329]\n",
      "Cond:01110100 - Act:3 - Num:1 [fit: 0.000, exp: 99.00, pred: 109.181]\n",
      "Cond:11110000 - Act:0 - Num:3 [fit: 0.000, exp: 5409.00, pred: 105.932]\n",
      "Cond:11110000 - Act:1 - Num:3 [fit: 0.022, exp: 2828.00, pred: 104.015]\n",
      "Cond:11110000 - Act:2 - Num:3 [fit: 0.001, exp: 4424.00, pred: 107.119]\n",
      "Cond:1##100#0 - Act:3 - Num:3 [fit: 0.031, exp: 1755.00, pred: 107.819]\n",
      "Cond:09010010 - Act:0 - Num:3 [fit: 0.000, exp: 197.00, pred: 142.156]\n",
      "Cond:09010010 - Act:1 - Num:3 [fit: 0.075, exp: 85.00, pred: 114.370]\n",
      "Cond:09010010 - Act:2 - Num:3 [fit: 0.000, exp: 74.00, pred: 151.579]\n",
      "Cond:09010010 - Act:3 - Num:3 [fit: 0.303, exp: 54.00, pred: 123.359]\n",
      "Cond:001000#0 - Act:0 - Num:1 [fit: 0.000, exp: 72.00, pred: 188.009]\n",
      "Cond:001#0010 - Act:1 - Num:1 [fit: 0.005, exp: 23.00, pred: 171.263]\n",
      "Cond:#01#00#0 - Act:2 - Num:1 [fit: 0.004, exp: 24.00, pred: 179.596]\n",
      "Cond:#0100010 - Act:3 - Num:1 [fit: 0.089, exp: 19.00, pred: 158.847]\n",
      "Cond:10001000 - Act:0 - Num:1 [fit: 0.003, exp: 36.00, pred: 196.761]\n",
      "Cond:##001000 - Act:1 - Num:1 [fit: 0.000, exp: 61.00, pred: 111.984]\n",
      "Cond:1#0#1000 - Act:2 - Num:1 [fit: 0.000, exp: 59.00, pred: 181.666]\n",
      "Cond:10001000 - Act:3 - Num:1 [fit: 0.008, exp: 18.00, pred: 124.302]\n",
      "Cond:#10000#0 - Act:1 - Num:1 [fit: 0.000, exp: 77.00, pred: 151.088]\n",
      "Cond:0#000000 - Act:2 - Num:1 [fit: 0.000, exp: 63.00, pred: 132.125]\n",
      "Cond:010#0000 - Act:3 - Num:1 [fit: 0.001, exp: 43.00, pred: 126.699]\n",
      "Cond:10101000 - Act:0 - Num:3 [fit: 0.000, exp: 239.00, pred: 134.139]\n",
      "Cond:101010## - Act:1 - Num:3 [fit: 0.000, exp: 160.00, pred: 133.570]\n",
      "Cond:10#01#00 - Act:2 - Num:3 [fit: 0.000, exp: 412.00, pred: 144.339]\n",
      "Cond:10101000 - Act:3 - Num:3 [fit: 0.647, exp: 134.00, pred: 140.315]\n",
      "Cond:10000010 - Act:0 - Num:3 [fit: 0.000, exp: 228.00, pred: 166.944]\n",
      "Cond:10000010 - Act:1 - Num:3 [fit: 0.000, exp: 82.00, pred: 141.301]\n",
      "Cond:100000#0 - Act:2 - Num:3 [fit: 0.000, exp: 108.00, pred: 186.600]\n",
      "Cond:1000001# - Act:3 - Num:3 [fit: 0.239, exp: 64.00, pred: 140.559]\n",
      "Cond:1#011111 - Act:0 - Num:1 [fit: 0.002, exp: 31.00, pred: 205.061]\n",
      "Cond:10011111 - Act:1 - Num:1 [fit: 0.030, exp: 13.00, pred: 188.172]\n",
      "Cond:10011#11 - Act:2 - Num:1 [fit: 0.004, exp: 24.00, pred: 217.426]\n",
      "Cond:1001111# - Act:3 - Num:1 [fit: 0.042, exp: 20.00, pred: 162.231]\n",
      "Cond:#111#000 - Act:0 - Num:3 [fit: 0.000, exp: 5683.00, pred: 105.786]\n",
      "Cond:91111000 - Act:1 - Num:3 [fit: 0.001, exp: 300.00, pred: 126.130]\n",
      "Cond:91111#00 - Act:2 - Num:3 [fit: 0.000, exp: 674.00, pred: 178.286]\n",
      "Cond:9111100# - Act:3 - Num:3 [fit: 0.235, exp: 201.00, pred: 107.665]\n",
      "Cond:#10#1101 - Act:0 - Num:1 [fit: 0.000, exp: 58.00, pred: 166.604]\n",
      "Cond:01011#01 - Act:1 - Num:1 [fit: 0.001, exp: 39.00, pred: 160.672]\n",
      "Cond:010#11#1 - Act:2 - Num:1 [fit: 0.014, exp: 13.00, pred: 164.258]\n",
      "Cond:01011101 - Act:3 - Num:1 [fit: 0.034, exp: 16.00, pred: 132.211]\n",
      "Cond:00#00101 - Act:0 - Num:1 [fit: 0.000, exp: 55.00, pred: 172.770]\n",
      "Cond:0000#101 - Act:1 - Num:1 [fit: 0.015, exp: 24.00, pred: 134.015]\n",
      "Cond:00000101 - Act:2 - Num:1 [fit: 0.001, exp: 39.00, pred: 184.033]\n",
      "Cond:000001#1 - Act:3 - Num:1 [fit: 0.039, exp: 24.00, pred: 138.708]\n",
      "Cond:11100101 - Act:0 - Num:3 [fit: 0.000, exp: 524.00, pred: 146.332]\n",
      "Cond:1110#1#1 - Act:1 - Num:3 [fit: 0.000, exp: 239.00, pred: 129.824]\n",
      "Cond:1110#101 - Act:2 - Num:3 [fit: 0.000, exp: 456.00, pred: 143.774]\n",
      "Cond:1110#10# - Act:3 - Num:3 [fit: 0.000, exp: 193.00, pred: 117.412]\n",
      "Cond:01010110 - Act:0 - Num:1 [fit: 0.000, exp: 127.00, pred: 191.311]\n",
      "Cond:01010#10 - Act:1 - Num:1 [fit: 0.001, exp: 40.00, pred: 167.793]\n",
      "Cond:01010110 - Act:2 - Num:1 [fit: 0.002, exp: 32.00, pred: 192.731]\n",
      "Cond:0101#11# - Act:3 - Num:1 [fit: 0.038, exp: 21.00, pred: 149.141]\n",
      "Cond:#1001011 - Act:0 - Num:1 [fit: 0.000, exp: 165.00, pred: 146.946]\n",
      "Cond:11001011 - Act:1 - Num:1 [fit: 0.018, exp: 56.00, pred: 144.548]\n",
      "Cond:11001011 - Act:2 - Num:3 [fit: 0.000, exp: 137.00, pred: 154.203]\n",
      "Cond:1100##11 - Act:3 - Num:3 [fit: 0.000, exp: 75.00, pred: 131.198]\n",
      "Cond:#1010101 - Act:0 - Num:1 [fit: 0.000, exp: 85.00, pred: 212.087]\n",
      "Cond:#1#10101 - Act:1 - Num:1 [fit: 0.008, exp: 30.00, pred: 167.465]\n",
      "Cond:01010101 - Act:2 - Num:1 [fit: 0.012, exp: 26.00, pred: 194.742]\n",
      "Cond:01010101 - Act:3 - Num:1 [fit: 0.019, exp: 30.00, pred: 149.661]\n",
      "Cond:00100011 - Act:0 - Num:1 [fit: 0.000, exp: 100.00, pred: 200.601]\n",
      "Cond:00100011 - Act:1 - Num:1 [fit: 0.003, exp: 27.00, pred: 139.972]\n",
      "Cond:0#1000#1 - Act:2 - Num:1 [fit: 0.000, exp: 168.00, pred: 192.983]\n",
      "Cond:00100011 - Act:3 - Num:1 [fit: 0.023, exp: 23.00, pred: 159.998]\n",
      "Cond:1#001111 - Act:0 - Num:1 [fit: 0.000, exp: 55.00, pred: 176.868]\n",
      "Cond:10001111 - Act:1 - Num:1 [fit: 0.002, exp: 26.00, pred: 178.017]\n",
      "Cond:10001111 - Act:2 - Num:1 [fit: 0.033, exp: 5.00, pred: 131.819]\n",
      "Cond:10001#11 - Act:3 - Num:1 [fit: 0.027, exp: 7.00, pred: 140.625]\n",
      "Cond:1##011## - Act:1 - Num:1 [fit: 0.001, exp: 40.00, pred: 174.223]\n",
      "Cond:110#11## - Act:2 - Num:1 [fit: 0.002, exp: 31.00, pred: 191.530]\n",
      "Cond:11900101 - Act:0 - Num:1 [fit: 0.000, exp: 256.00, pred: 133.846]\n",
      "Cond:1#900101 - Act:1 - Num:1 [fit: 0.000, exp: 129.00, pred: 131.911]\n",
      "Cond:11900101 - Act:2 - Num:3 [fit: 0.000, exp: 287.00, pred: 137.909]\n",
      "Cond:1190#101 - Act:3 - Num:3 [fit: 0.000, exp: 96.00, pred: 98.362]\n",
      "Cond:00111101 - Act:0 - Num:1 [fit: 0.034, exp: 28.00, pred: 173.894]\n",
      "Cond:00111101 - Act:1 - Num:1 [fit: 0.000, exp: 50.00, pred: 151.432]\n",
      "Cond:0#1111#1 - Act:2 - Num:1 [fit: 0.000, exp: 109.00, pred: 214.840]\n",
      "Cond:0#111101 - Act:3 - Num:1 [fit: 0.117, exp: 24.00, pred: 159.008]\n",
      "Cond:00100001 - Act:0 - Num:1 [fit: 0.000, exp: 164.00, pred: 168.868]\n",
      "Cond:00#0#001 - Act:1 - Num:3 [fit: 0.000, exp: 87.00, pred: 117.228]\n",
      "Cond:0010000# - Act:3 - Num:3 [fit: 0.001, exp: 62.00, pred: 78.527]\n"
     ]
    }
   ],
   "source": [
    "from lcs.agents.xcs import XCS, Configuration\n",
    "\n",
    "\n",
    "def xcs_maze_knowledge(population, environment) -> float:\n",
    "    transitions = environment.env.get_all_possible_transitions()\n",
    "    nr_correct = 0\n",
    "    for start, action, end in transitions:\n",
    "        perception = environment.env.maze.perception(*start)\n",
    "        if any([True for cl in population\n",
    "                if cl.does_match(perception) and\n",
    "                cl.action == action and\n",
    "                cl.wildcard_number == 0\n",
    "               ]):\n",
    "            nr_correct += 1\n",
    "    return nr_correct / len(transitions)\n",
    "\n",
    "def xcs_maze_metrics(xcs: XCS, environment):\n",
    "    return {\n",
    "        'numerosity': xcs.population.numerosity,\n",
    "        'knowledge': xcs_maze_knowledge(xcs.population, environment),\n",
    "        'population': len(xcs.population)\n",
    "    }\n",
    "\n",
    "\n",
    "cfg = Configuration(number_of_actions=4,\n",
    "                    max_population=200,\n",
    "                    metrics_trial_frequency=50,\n",
    "                    covering_wildcard_chance = 0.9,\n",
    "                    user_metrics_collector_fcn=xcs_maze_metrics)\n",
    "\n",
    "agent = XCS(cfg)\n",
    "explore_population, explore_metrics = agent.explore(maze, 1000, False)\n",
    "\n",
    "for cl in explore_population:\n",
    "    print(str(cl))\n",
    "\n",
    "\n"
   ]
  },
  {
   "cell_type": "code",
   "execution_count": 12,
   "metadata": {},
   "outputs": [
    {
     "data": {
      "text/plain": [
       "<matplotlib.legend.Legend at 0x1dc0635d988>"
      ]
     },
     "execution_count": 12,
     "metadata": {},
     "output_type": "execute_result"
    },
    {
     "data": {
      "image/png": "[encoded data removed]",
      "text/plain": [
       "<Figure size 432x288 with 1 Axes>"
      ]
     },
     "metadata": {
      "needs_background": "light"
     },
     "output_type": "display_data"
    },
    {
     "data": {
      "image/png": "[encoded data removed]",
      "text/plain": [
       "<Figure size 432x288 with 1 Axes>"
      ]
     },
     "metadata": {
      "needs_background": "light"
     },
     "output_type": "display_data"
    },
    {
     "data": {
      "image/png": "[encoded data removed]",
      "text/plain": [
       "<Figure size 432x288 with 1 Axes>"
      ]
     },
     "metadata": {
      "needs_background": "light"
     },
     "output_type": "display_data"
    }
   ],
   "source": [
    "import pandas as pd\n",
    "import numpy as np\n",
    "\n",
    "df = pd.DataFrame(metric[\"knowledge\"] for metric in explore_metrics)\n",
    "ax = df.plot()\n",
    "ax.set_xlabel(\"trial\")\n",
    "ax.set_ylabel(\"knowledge %\")\n",
    "ax.legend([\"knowledge %\"])\n",
    "\n",
    "\n",
    "df = pd.DataFrame(zip([metric[\"population\"] for metric in explore_metrics], [metric[\"numerosity\"] for metric in explore_metrics]))\n",
    "ax = df.plot()\n",
    "ax.set_xlabel(\"trial\")\n",
    "ax.set_ylabel(\"population\")\n",
    "ax.legend([\"pop\", \"num\"])\n",
    "\n",
    "steps_averaged = []\n",
    "\n",
    "\n",
    "\n",
    "xf = [metric[\"steps_in_trial\"] for metric in explore_metrics]\n",
    "temp_df = np.array_split(xf, 20)\n",
    "for i in range(len(temp_df)):\n",
    "    temp_df[i] = np.mean(temp_df[i]) \n",
    "df = pd.DataFrame(temp_df)\n",
    "# df = pd.DataFrame(metric[\"steps_in_trial\"] for metric in explore_metrics)\n",
    "ax = df.plot()\n",
    "ax.set_xlabel(\"trial grouped up[*50]\")\n",
    "ax.set_ylabel(\"steps for solution\")\n",
    "ax.legend([\"steps\"])\n"
   ]
  },
  {
   "cell_type": "code",
   "execution_count": 13,
   "metadata": {},
   "outputs": [],
   "source": [
    "# It is hard to say but\n",
    "# looking at amount of times algorithm reaches top steps (50) the steps might actually go down over trials.\n",
    "# I need to somehow smooth it to see it better\n"
   ]
  },
  {
   "cell_type": "code",
   "execution_count": null,
   "metadata": {},
   "outputs": [],
   "source": []
  },
  {
   "cell_type": "code",
   "execution_count": null,
   "metadata": {},
   "outputs": [],
   "source": []
  }
 ],
 "metadata": {
  "kernelspec": {
   "display_name": "Python 3",
   "language": "python",
   "name": "python3"
  },
  "language_info": {
   "codemirror_mode": {
    "name": "ipython",
    "version": 3
   },
   "file_extension": ".py",
   "mimetype": "text/x-python",
   "name": "python",
   "nbconvert_exporter": "python",
   "pygments_lexer": "ipython3",
   "version": "3.7.10"
  }
 },
 "nbformat": 4,
 "nbformat_minor": 1
}
