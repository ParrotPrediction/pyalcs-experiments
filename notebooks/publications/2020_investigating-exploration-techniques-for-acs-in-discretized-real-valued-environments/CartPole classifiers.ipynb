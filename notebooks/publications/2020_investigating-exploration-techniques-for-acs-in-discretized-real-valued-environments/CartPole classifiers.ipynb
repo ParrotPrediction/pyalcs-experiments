{
 "cells": [
  {
   "cell_type": "code",
   "execution_count": 10,
   "metadata": {},
   "outputs": [],
   "source": [
    "import logging\n",
    "logging.basicConfig(level=logging.WARN)\n",
    "\n",
    "import math\n",
    "from copy import copy\n",
    "\n",
    "import gym\n",
    "\n",
    "from lcs import Perception\n",
    "from lcs.agents import EnvironmentAdapter\n",
    "from lcs.metrics import population_metrics\n",
    "from lcs.agents.acs2 import ACS2, Configuration\n",
    "from lcs.strategies.action_selection import BestAction, EpsilonGreedy, KnowledgeArray, ActionDelay\n",
    "\n",
    "from utils.experiments import avg_experiments\n",
    "from utils.plotting import COLORS\n",
    "\n",
    "import numpy as np"
   ]
  },
  {
   "cell_type": "code",
   "execution_count": 2,
   "metadata": {},
   "outputs": [],
   "source": [
    "buckets = (1, 1, 6, 6)  # orig: (1, 1, 3, 6)"
   ]
  },
  {
   "cell_type": "code",
   "execution_count": 4,
   "metadata": {},
   "outputs": [],
   "source": [
    "env = gym.make('CartPole-v0')"
   ]
  },
  {
   "cell_type": "code",
   "execution_count": 5,
   "metadata": {},
   "outputs": [
    {
     "data": {
      "text/plain": [
       "([4.8, 0.5, 0.41887903, 3500], [-4.8, -0.5, -0.41887903, -3500])"
      ]
     },
     "execution_count": 5,
     "metadata": {},
     "output_type": "execute_result"
    }
   ],
   "source": [
    "_high = [env.observation_space.high[0], 0.5, env.observation_space.high[2], 3500]\n",
    "_low = [env.observation_space.low[0], -0.5, env.observation_space.low[2], -3500]\n",
    "\n",
    "_high, _low"
   ]
  },
  {
   "cell_type": "code",
   "execution_count": 6,
   "metadata": {},
   "outputs": [],
   "source": [
    "class CartPoleAdapter(EnvironmentAdapter):\n",
    "    @classmethod\n",
    "    def to_genotype(cls, obs):\n",
    "        ratios = [(obs[i] + abs(_low[i])) / (_high[i] - _low[i]) for i in range(len(obs))]\n",
    "        new_obs = [int(round((buckets[i] - 1) * ratios[i])) for i in range(len(obs))]\n",
    "        new_obs = [min(buckets[i] - 1, max(0, new_obs[i])) for i in range(len(obs))]\n",
    "        return [str(o) for o in new_obs]"
   ]
  },
  {
   "cell_type": "code",
   "execution_count": 7,
   "metadata": {},
   "outputs": [],
   "source": [
    "def cp_metrics(pop, env):\n",
    "    metrics = {}\n",
    "    metrics.update(population_metrics(pop, env))\n",
    "    \n",
    "    return metrics"
   ]
  },
  {
   "cell_type": "code",
   "execution_count": 11,
   "metadata": {},
   "outputs": [],
   "source": [
    "base_params = {\n",
    "    \"classifier_length\": 4,\n",
    "    \"number_of_possible_actions\": 2,\n",
    "    \"epsilon\": 0.9,\n",
    "    \"beta\": 0.01,\n",
    "    \"gamma\": 0.995,\n",
    "    \"initial_q\": 0.5,\n",
    "    \"theta_exp\": 50,\n",
    "    \"theta_ga\": 50,\n",
    "    \"do_ga\": True,\n",
    "    \"chi\": 0.0,  # do not cross-over\n",
    "    \"mu\": 0.03,\n",
    "    \"metrics_trial_frequency\": 2,\n",
    "    \"environment_adapter\": CartPoleAdapter,\n",
    "    \"user_metrics_collector_fcn\": cp_metrics\n",
    "}\n",
    "\n",
    "cfg = Configuration(**base_params)"
   ]
  },
  {
   "cell_type": "code",
   "execution_count": 18,
   "metadata": {},
   "outputs": [
    {
     "data": {
      "text/plain": [
       "[##12 1 ####             (empty)               q: 0.996 r: 1.384  ir: 0.9489 f: 1.379  exp: 286 tga: 13575 talp: 13577 tav: 49.8   num: 19,\n",
       " ##32 1 ####             (00##)                q: 0.947 r: 3.327  ir: 0.9999 f: 3.15   exp: 933 tga: 13586 talp: 13618 tav: 15.2   num: 1,\n",
       " ##22 1 ####             (00##)                q: 0.968 r: 2.78   ir: 1.0    f: 2.692  exp: 1939 tga: 13550 talp: 13623 tav: 8.44   num: 1,\n",
       " ##43 0 ####             (empty)               q: 0.997 r: 1.341  ir: 0.9505 f: 1.337  exp: 251 tga: 13546 talp: 13547 tav: 53.6   num: 19,\n",
       " ##12 0 ####             (00##)                q: 0.97  r: 1.439  ir: 0.9836 f: 1.395  exp: 350 tga: 13577 talp: 13623 tav: 41.5   num: 1,\n",
       " ##23 1 ###2             (00##)                q: 0.9   r: 3.045  ir: 1.0    f: 2.742  exp: 1016 tga: 13593 talp: 13596 tav: 11.4   num: 1,\n",
       " ##23 0 ####             (00##)                q: 0.924 r: 3.334  ir: 0.9999 f: 3.08   exp: 881 tga: 13595 talp: 13597 tav: 16.4   num: 2,\n",
       " ##33 0 ####             (00##)                q: 0.988 r: 2.676  ir: 1.0    f: 2.645  exp: 1815 tga: 13582 talp: 13604 tav: 7.58   num: 1,\n",
       " ##43 1 ####             (00##)                q: 0.952 r: 1.469  ir: 0.9902 f: 1.399  exp: 277 tga: 13547 talp: 13547 tav: 45.0   num: 1]"
      ]
     },
     "execution_count": 18,
     "metadata": {},
     "output_type": "execute_result"
    }
   ],
   "source": [
    "explorer = ACS2(cfg)\n",
    "population_explore, metrics_explore = explorer.explore(env, 500)"
   ]
  },
  {
   "cell_type": "code",
   "execution_count": 21,
   "metadata": {},
   "outputs": [
    {
     "data": {
      "text/plain": [
       "[##32 1 ####             (00##)                q: 0.947 r: 3.327  ir: 0.9999 f: 3.15   exp: 933 tga: 13586 talp: 13618 tav: 15.2   num: 1,\n",
       " ##23 0 ####             (00##)                q: 0.924 r: 3.334  ir: 0.9999 f: 3.08   exp: 881 tga: 13595 talp: 13597 tav: 16.4   num: 2,\n",
       " ##23 1 ###2             (00##)                q: 0.9   r: 3.045  ir: 1.0    f: 2.742  exp: 1016 tga: 13593 talp: 13596 tav: 11.4   num: 1,\n",
       " ##22 1 ####             (00##)                q: 0.968 r: 2.78   ir: 1.0    f: 2.692  exp: 1939 tga: 13550 talp: 13623 tav: 8.44   num: 1,\n",
       " ##33 0 ####             (00##)                q: 0.988 r: 2.676  ir: 1.0    f: 2.645  exp: 1815 tga: 13582 talp: 13604 tav: 7.58   num: 1,\n",
       " ##43 1 ####             (00##)                q: 0.952 r: 1.469  ir: 0.9902 f: 1.399  exp: 277 tga: 13547 talp: 13547 tav: 45.0   num: 1,\n",
       " ##12 0 ####             (00##)                q: 0.97  r: 1.439  ir: 0.9836 f: 1.395  exp: 350 tga: 13577 talp: 13623 tav: 41.5   num: 1,\n",
       " ##12 1 ####             (empty)               q: 0.996 r: 1.384  ir: 0.9489 f: 1.379  exp: 286 tga: 13575 talp: 13577 tav: 49.8   num: 19,\n",
       " ##43 0 ####             (empty)               q: 0.997 r: 1.341  ir: 0.9505 f: 1.337  exp: 251 tga: 13546 talp: 13547 tav: 53.6   num: 19]"
      ]
     },
     "execution_count": 21,
     "metadata": {},
     "output_type": "execute_result"
    }
   ],
   "source": [
    "reliable = [cl for cl in population_explore if cl.is_reliable()]\n",
    "sorted(reliable, key=lambda cl: -cl.fitness)"
   ]
  }
 ],
 "metadata": {
  "kernelspec": {
   "display_name": "Python 3",
   "language": "python",
   "name": "python3"
  },
  "language_info": {
   "codemirror_mode": {
    "name": "ipython",
    "version": 3
   },
   "file_extension": ".py",
   "mimetype": "text/x-python",
   "name": "python",
   "nbconvert_exporter": "python",
   "pygments_lexer": "ipython3",
   "version": "3.7.6"
  }
 },
 "nbformat": 4,
 "nbformat_minor": 4
}
