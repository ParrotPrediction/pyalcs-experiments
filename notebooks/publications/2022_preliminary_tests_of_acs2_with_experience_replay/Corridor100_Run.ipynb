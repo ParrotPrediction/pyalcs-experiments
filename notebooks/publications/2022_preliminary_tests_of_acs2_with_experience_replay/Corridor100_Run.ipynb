{
 "cells": [
  {
   "cell_type": "code",
   "execution_count": 1,
   "metadata": {},
   "outputs": [],
   "source": [
    "import os\n",
    "from utils.run_utils import Runner\n",
    "\n",
    "import gym\n",
    "import gym_corridor\n",
    "\n",
    "from lcs import Perception\n",
    "from lcs.agents.acs2 import ACS2, Configuration as CFG_ACS2\n",
    "from lcs.agents.acs2er import ACS2ER, Configuration as CFG_ACS2ER\n",
    "from lcs.metrics import population_metrics\n",
    "\n",
    "# Logger\n",
    "import logging\n",
    "logging.basicConfig(level=logging.INFO)\n"
   ]
  },
  {
   "cell_type": "markdown",
   "metadata": {},
   "source": [
    "# EXPERIMENT CONFIGURATION"
   ]
  },
  {
   "cell_type": "code",
   "execution_count": 2,
   "metadata": {},
   "outputs": [],
   "source": [
    "CORRIDOR_LENGTH = 100  # 20 | 40 |100\n",
    "COR = f'corridor-{CORRIDOR_LENGTH}-v0'\n",
    "EXPLORE_TRIALS = 500\n",
    "EXPLOIT_TRIALS = 500\n",
    "METRICS_FREQUENCY = 1\n",
    "\n",
    "# The size of ER replay memory buffer\n",
    "ER_BUFFER_SIZE = 10000\n",
    "# The minimum number of samples of ER replay memory buffer to start replying samples (warm-up phase)\n",
    "ER_BUFFER_MIN_SAMPLES = 1000\n",
    "# The number of samples to be replayed druing ER phase\n",
    "ER_SAMPLES_NUMBER_LIST = [1,3,5,13]\n",
    "\n",
    "\n",
    "#######\n",
    "\n",
    "REPEAT_START = 1\n",
    "REPEAT = 1\n",
    "\n",
    "EXPERIMENT_NAME = \"Corridor100_EXP1\" # Please edit if running new experiment to do not override saved results.\n"
   ]
  },
  {
   "cell_type": "code",
   "execution_count": 3,
   "metadata": {},
   "outputs": [],
   "source": [
    "runner = Runner('COR', EXPERIMENT_NAME, COR)"
   ]
  },
  {
   "cell_type": "markdown",
   "metadata": {},
   "source": [
    "## METRICS"
   ]
  },
  {
   "cell_type": "code",
   "execution_count": 4,
   "metadata": {},
   "outputs": [],
   "source": [
    "class CorridorObservationWrapper(gym.ObservationWrapper):\n",
    "    def observation(self, observation):\n",
    "        return observation,\n",
    "\n",
    "env = CorridorObservationWrapper(gym.make(COR))\n",
    "TRANSITIONS = env.env.get_transitions()\n",
    "\n",
    "def _corridor_knowledge(population, environment):\n",
    "    reliable = [c for c in population if c.is_reliable()]\n",
    "    nr_correct = 0\n",
    "    \n",
    "    for start, action, end in TRANSITIONS:\n",
    "        p0 = Perception((str(start),))\n",
    "        p1 = Perception((str(end),))\n",
    "        \n",
    "        if any([True for cl in reliable if cl.predicts_successfully(p0, action, p1)]):\n",
    "            nr_correct += 1\n",
    "            \n",
    "    return nr_correct / len(TRANSITIONS) * 100.0\n",
    "    \n",
    "def corridor_metrics(agent, env):\n",
    "    pop = agent.population\n",
    "    metrics = {\n",
    "        'knowledge': _corridor_knowledge(pop, env)\n",
    "    }\n",
    "    metrics.update(population_metrics(pop, env))\n",
    "    return metrics"
   ]
  },
  {
   "cell_type": "markdown",
   "metadata": {},
   "source": [
    "## EXPERIMENT"
   ]
  },
  {
   "cell_type": "code",
   "execution_count": 5,
   "metadata": {},
   "outputs": [],
   "source": [
    "def _run_experiment(agent, path):\n",
    "    runner.run_experiment(agent, CorridorObservationWrapper(gym.make(COR)), EXPLORE_TRIALS, EXPLOIT_TRIALS, path)\n",
    "\n",
    "def run_acs2_experiment():\n",
    "    for i in range(REPEAT_START, REPEAT_START + REPEAT):\n",
    "        # Create agent \n",
    "        cfg = CFG_ACS2(\n",
    "            classifier_length=1,\n",
    "            number_of_possible_actions=2,\n",
    "            metrics_trial_frequency=METRICS_FREQUENCY,\n",
    "            user_metrics_collector_fcn=corridor_metrics)\n",
    "        agent = ACS2(cfg)\n",
    "\n",
    "    _run_experiment(agent, f'{i}')\n",
    "        \n",
    "def _run_acs2er_experiment(er_samples_number: int):\n",
    "    for i in range(REPEAT_START, REPEAT_START + REPEAT):\n",
    "        # Create agent \n",
    "        cfg = CFG_ACS2ER(    \n",
    "            classifier_length=1,\n",
    "            number_of_possible_actions=2,\n",
    "            metrics_trial_frequency=METRICS_FREQUENCY,\n",
    "            er_buffer_size=ER_BUFFER_SIZE,\n",
    "            er_min_samples=ER_BUFFER_MIN_SAMPLES,\n",
    "            er_samples_number=er_samples_number,\n",
    "            user_metrics_collector_fcn=corridor_metrics)\n",
    "        agent = ACS2ER(cfg)\n",
    "\n",
    "        _run_experiment(agent, os.path.join(f'm_{er_samples_number}', f'{i}'))\n",
    "\n",
    "def run_acs2er_experiments():\n",
    "    for er_samples_number in ER_SAMPLES_NUMBER_LIST:\n",
    "        print(f\"START - ACS2ER - {er_samples_number}\")\n",
    "        _run_acs2er_experiment(er_samples_number)\n",
    "        print(f\"END - ACS2ER - {er_samples_number}\")"
   ]
  },
  {
   "cell_type": "markdown",
   "metadata": {},
   "source": [
    "### RUN ACS2 Experiments"
   ]
  },
  {
   "cell_type": "code",
   "execution_count": 6,
   "metadata": {},
   "outputs": [
    {
     "name": "stderr",
     "output_type": "stream",
     "text": [
      "INFO:lcs.agents.Agent:{'trial': 5, 'steps_in_trial': 200, 'reward': 0, 'perf_time': 0.05576369999999997, 'knowledge': 0.0, 'population': 94, 'numerosity': 94, 'reliable': 0}\n",
      "INFO:lcs.agents.Agent:{'trial': 10, 'steps_in_trial': 200, 'reward': 0, 'perf_time': 0.07916609999999835, 'knowledge': 1.015228426395939, 'population': 159, 'numerosity': 159, 'reliable': 2}\n",
      "INFO:lcs.agents.Agent:{'trial': 15, 'steps_in_trial': 200, 'reward': 0, 'perf_time': 0.08975110000000086, 'knowledge': 3.0456852791878175, 'population': 179, 'numerosity': 179, 'reliable': 6}\n",
      "INFO:lcs.agents.Agent:{'trial': 20, 'steps_in_trial': 200, 'reward': 0, 'perf_time': 0.11483889999999874, 'knowledge': 7.614213197969544, 'population': 185, 'numerosity': 185, 'reliable': 15}\n",
      "INFO:lcs.agents.Agent:{'trial': 25, 'steps_in_trial': 200, 'reward': 0, 'perf_time': 0.09953499999999948, 'knowledge': 21.31979695431472, 'population': 190, 'numerosity': 190, 'reliable': 42}\n",
      "INFO:lcs.agents.Agent:{'trial': 30, 'steps_in_trial': 200, 'reward': 0, 'perf_time': 0.10899440000000027, 'knowledge': 37.56345177664975, 'population': 196, 'numerosity': 196, 'reliable': 74}\n",
      "INFO:lcs.agents.Agent:{'trial': 35, 'steps_in_trial': 200, 'reward': 0, 'perf_time': 0.10365870000000044, 'knowledge': 57.360406091370564, 'population': 196, 'numerosity': 196, 'reliable': 113}\n",
      "INFO:lcs.agents.Agent:{'trial': 40, 'steps_in_trial': 200, 'reward': 0, 'perf_time': 0.11125129999999928, 'knowledge': 73.09644670050761, 'population': 198, 'numerosity': 198, 'reliable': 144}\n",
      "INFO:lcs.agents.Agent:{'trial': 45, 'steps_in_trial': 200, 'reward': 0, 'perf_time': 0.10981479999999877, 'knowledge': 76.14213197969542, 'population': 198, 'numerosity': 198, 'reliable': 150}\n",
      "INFO:lcs.agents.Agent:{'trial': 50, 'steps_in_trial': 200, 'reward': 0, 'perf_time': 0.13198169999999898, 'knowledge': 79.18781725888326, 'population': 198, 'numerosity': 198, 'reliable': 156}\n",
      "INFO:lcs.agents.Agent:{'trial': 1, 'steps_in_trial': 129, 'reward': 1000, 'perf_time': 0.06907730000000001, 'knowledge': 79.18781725888326, 'population': 198, 'numerosity': 198, 'reliable': 156}\n",
      "INFO:lcs.agents.Agent:{'trial': 2, 'steps_in_trial': 200, 'reward': 0, 'perf_time': 0.10669550000000072, 'knowledge': 79.18781725888326, 'population': 198, 'numerosity': 198, 'reliable': 156}\n",
      "INFO:lcs.agents.Agent:{'trial': 3, 'steps_in_trial': 200, 'reward': 0, 'perf_time': 0.1123870999999994, 'knowledge': 79.18781725888326, 'population': 198, 'numerosity': 198, 'reliable': 156}\n",
      "INFO:lcs.agents.Agent:{'trial': 4, 'steps_in_trial': 1, 'reward': 1000, 'perf_time': 0.0004913000000001944, 'knowledge': 79.18781725888326, 'population': 198, 'numerosity': 198, 'reliable': 156}\n",
      "INFO:lcs.agents.Agent:{'trial': 5, 'steps_in_trial': 200, 'reward': 0, 'perf_time': 0.11839910000000131, 'knowledge': 79.18781725888326, 'population': 198, 'numerosity': 198, 'reliable': 156}\n",
      "INFO:lcs.agents.Agent:{'trial': 6, 'steps_in_trial': 200, 'reward': 0, 'perf_time': 0.09745709999999974, 'knowledge': 79.18781725888326, 'population': 198, 'numerosity': 198, 'reliable': 156}\n",
      "INFO:lcs.agents.Agent:{'trial': 7, 'steps_in_trial': 200, 'reward': 0, 'perf_time': 0.18416859999999957, 'knowledge': 79.18781725888326, 'population': 198, 'numerosity': 198, 'reliable': 156}\n",
      "INFO:lcs.agents.Agent:{'trial': 8, 'steps_in_trial': 200, 'reward': 0, 'perf_time': 0.1093863000000006, 'knowledge': 79.18781725888326, 'population': 198, 'numerosity': 198, 'reliable': 156}\n",
      "INFO:lcs.agents.Agent:{'trial': 9, 'steps_in_trial': 200, 'reward': 0, 'perf_time': 0.10714640000000131, 'knowledge': 79.18781725888326, 'population': 198, 'numerosity': 198, 'reliable': 156}\n",
      "INFO:lcs.agents.Agent:{'trial': 10, 'steps_in_trial': 7, 'reward': 1000, 'perf_time': 0.007999399999999213, 'knowledge': 79.18781725888326, 'population': 198, 'numerosity': 198, 'reliable': 156}\n"
     ]
    }
   ],
   "source": [
    "run_acs2_experiment()"
   ]
  },
  {
   "cell_type": "markdown",
   "metadata": {},
   "source": [
    "### RUN ACS2ER Experiments"
   ]
  },
  {
   "cell_type": "code",
   "execution_count": 7,
   "metadata": {},
   "outputs": [
    {
     "name": "stdout",
     "output_type": "stream",
     "text": [
      "START - ACS2ER - 1\n"
     ]
    },
    {
     "name": "stderr",
     "output_type": "stream",
     "text": [
      "INFO:lcs.agents.Agent:{'trial': 5, 'steps_in_trial': 41, 'reward': 1000, 'perf_time': 0.06731979999999993, 'knowledge': 1.015228426395939, 'population': 82, 'numerosity': 82, 'reliable': 2}\n",
      "INFO:lcs.agents.Agent:{'trial': 10, 'steps_in_trial': 200, 'reward': 0, 'perf_time': 0.49616100000000074, 'knowledge': 6.598984771573605, 'population': 147, 'numerosity': 147, 'reliable': 13}\n",
      "INFO:lcs.agents.Agent:{'trial': 15, 'steps_in_trial': 200, 'reward': 0, 'perf_time': 0.28340419999999966, 'knowledge': 12.18274111675127, 'population': 170, 'numerosity': 170, 'reliable': 24}\n",
      "INFO:lcs.agents.Agent:{'trial': 20, 'steps_in_trial': 200, 'reward': 0, 'perf_time': 0.2849350000000008, 'knowledge': 14.720812182741117, 'population': 176, 'numerosity': 176, 'reliable': 29}\n",
      "INFO:lcs.agents.Agent:{'trial': 25, 'steps_in_trial': 200, 'reward': 0, 'perf_time': 0.3148314999999968, 'knowledge': 20.812182741116754, 'population': 183, 'numerosity': 183, 'reliable': 41}\n",
      "INFO:lcs.agents.Agent:{'trial': 30, 'steps_in_trial': 200, 'reward': 0, 'perf_time': 0.2824723999999996, 'knowledge': 26.39593908629442, 'population': 191, 'numerosity': 191, 'reliable': 52}\n",
      "INFO:lcs.agents.Agent:{'trial': 35, 'steps_in_trial': 200, 'reward': 0, 'perf_time': 0.27523629999999955, 'knowledge': 37.055837563451774, 'population': 195, 'numerosity': 195, 'reliable': 73}\n",
      "INFO:lcs.agents.Agent:{'trial': 40, 'steps_in_trial': 200, 'reward': 0, 'perf_time': 0.26776970000000233, 'knowledge': 42.13197969543147, 'population': 196, 'numerosity': 196, 'reliable': 83}\n",
      "INFO:lcs.agents.Agent:{'trial': 45, 'steps_in_trial': 50, 'reward': 1000, 'perf_time': 0.06979300000000066, 'knowledge': 47.20812182741117, 'population': 197, 'numerosity': 197, 'reliable': 93}\n",
      "INFO:lcs.agents.Agent:{'trial': 50, 'steps_in_trial': 200, 'reward': 0, 'perf_time': 0.32453879999999913, 'knowledge': 51.776649746192895, 'population': 197, 'numerosity': 197, 'reliable': 102}\n",
      "INFO:lcs.agents.Agent:{'trial': 1, 'steps_in_trial': 200, 'reward': 0, 'perf_time': 0.08869909999999948, 'knowledge': 51.776649746192895, 'population': 197, 'numerosity': 197, 'reliable': 102}\n",
      "INFO:lcs.agents.Agent:{'trial': 2, 'steps_in_trial': 200, 'reward': 0, 'perf_time': 0.10180659999999975, 'knowledge': 51.776649746192895, 'population': 197, 'numerosity': 197, 'reliable': 102}\n",
      "INFO:lcs.agents.Agent:{'trial': 3, 'steps_in_trial': 200, 'reward': 0, 'perf_time': 0.10454700000000017, 'knowledge': 51.776649746192895, 'population': 197, 'numerosity': 197, 'reliable': 102}\n",
      "INFO:lcs.agents.Agent:{'trial': 4, 'steps_in_trial': 200, 'reward': 0, 'perf_time': 0.11373620000000173, 'knowledge': 51.776649746192895, 'population': 197, 'numerosity': 197, 'reliable': 102}\n",
      "INFO:lcs.agents.Agent:{'trial': 5, 'steps_in_trial': 20, 'reward': 1000, 'perf_time': 0.01857830000000149, 'knowledge': 51.776649746192895, 'population': 197, 'numerosity': 197, 'reliable': 102}\n",
      "INFO:lcs.agents.Agent:{'trial': 6, 'steps_in_trial': 9, 'reward': 1000, 'perf_time': 0.004590300000000269, 'knowledge': 51.776649746192895, 'population': 197, 'numerosity': 197, 'reliable': 102}\n",
      "INFO:lcs.agents.Agent:{'trial': 7, 'steps_in_trial': 94, 'reward': 1000, 'perf_time': 0.04890150000000304, 'knowledge': 51.776649746192895, 'population': 197, 'numerosity': 197, 'reliable': 102}\n",
      "INFO:lcs.agents.Agent:{'trial': 8, 'steps_in_trial': 200, 'reward': 0, 'perf_time': 0.11349560000000025, 'knowledge': 51.776649746192895, 'population': 197, 'numerosity': 197, 'reliable': 102}\n",
      "INFO:lcs.agents.Agent:{'trial': 9, 'steps_in_trial': 200, 'reward': 0, 'perf_time': 0.17098760000000013, 'knowledge': 51.776649746192895, 'population': 197, 'numerosity': 197, 'reliable': 102}\n",
      "INFO:lcs.agents.Agent:{'trial': 10, 'steps_in_trial': 200, 'reward': 0, 'perf_time': 0.20950510000000122, 'knowledge': 51.776649746192895, 'population': 197, 'numerosity': 197, 'reliable': 102}\n"
     ]
    },
    {
     "name": "stdout",
     "output_type": "stream",
     "text": [
      "END - ACS2ER - 1\n",
      "START - ACS2ER - 3\n"
     ]
    },
    {
     "name": "stderr",
     "output_type": "stream",
     "text": [
      "INFO:lcs.agents.Agent:{'trial': 5, 'steps_in_trial': 5, 'reward': 1000, 'perf_time': 0.011234399999999312, 'knowledge': 7.614213197969544, 'population': 91, 'numerosity': 91, 'reliable': 15}\n",
      "INFO:lcs.agents.Agent:{'trial': 10, 'steps_in_trial': 200, 'reward': 0, 'perf_time': 0.6558891000000031, 'knowledge': 20.812182741116754, 'population': 119, 'numerosity': 119, 'reliable': 41}\n",
      "INFO:lcs.agents.Agent:{'trial': 15, 'steps_in_trial': 200, 'reward': 0, 'perf_time': 0.5934012999999965, 'knowledge': 36.54822335025381, 'population': 179, 'numerosity': 179, 'reliable': 72}\n",
      "INFO:lcs.agents.Agent:{'trial': 20, 'steps_in_trial': 200, 'reward': 0, 'perf_time': 0.6213751999999957, 'knowledge': 44.67005076142132, 'population': 188, 'numerosity': 188, 'reliable': 89}\n",
      "INFO:lcs.agents.Agent:{'trial': 25, 'steps_in_trial': 200, 'reward': 0, 'perf_time': 0.6516327999999945, 'knowledge': 57.360406091370564, 'population': 193, 'numerosity': 193, 'reliable': 114}\n",
      "INFO:lcs.agents.Agent:{'trial': 30, 'steps_in_trial': 200, 'reward': 0, 'perf_time': 0.7196124999999967, 'knowledge': 65.48223350253807, 'population': 195, 'numerosity': 195, 'reliable': 130}\n",
      "INFO:lcs.agents.Agent:{'trial': 35, 'steps_in_trial': 200, 'reward': 0, 'perf_time': 0.8520760999999979, 'knowledge': 67.00507614213198, 'population': 197, 'numerosity': 197, 'reliable': 133}\n",
      "INFO:lcs.agents.Agent:{'trial': 40, 'steps_in_trial': 200, 'reward': 0, 'perf_time': 0.859036500000002, 'knowledge': 73.09644670050761, 'population': 198, 'numerosity': 198, 'reliable': 145}\n",
      "INFO:lcs.agents.Agent:{'trial': 45, 'steps_in_trial': 200, 'reward': 0, 'perf_time': 0.7244121000000021, 'knowledge': 76.14213197969542, 'population': 198, 'numerosity': 198, 'reliable': 151}\n",
      "INFO:lcs.agents.Agent:{'trial': 50, 'steps_in_trial': 200, 'reward': 0, 'perf_time': 0.6215413000000041, 'knowledge': 80.71065989847716, 'population': 198, 'numerosity': 198, 'reliable': 160}\n",
      "INFO:lcs.agents.Agent:{'trial': 1, 'steps_in_trial': 200, 'reward': 0, 'perf_time': 0.10572409999998911, 'knowledge': 80.71065989847716, 'population': 198, 'numerosity': 198, 'reliable': 160}\n",
      "INFO:lcs.agents.Agent:{'trial': 2, 'steps_in_trial': 200, 'reward': 0, 'perf_time': 0.14531060000000195, 'knowledge': 80.71065989847716, 'population': 198, 'numerosity': 198, 'reliable': 160}\n",
      "INFO:lcs.agents.Agent:{'trial': 3, 'steps_in_trial': 200, 'reward': 0, 'perf_time': 0.13721660000000213, 'knowledge': 80.71065989847716, 'population': 198, 'numerosity': 198, 'reliable': 160}\n",
      "INFO:lcs.agents.Agent:{'trial': 4, 'steps_in_trial': 200, 'reward': 0, 'perf_time': 0.09222879999998668, 'knowledge': 80.71065989847716, 'population': 198, 'numerosity': 198, 'reliable': 160}\n",
      "INFO:lcs.agents.Agent:{'trial': 5, 'steps_in_trial': 200, 'reward': 0, 'perf_time': 0.2125405000000029, 'knowledge': 80.71065989847716, 'population': 198, 'numerosity': 198, 'reliable': 160}\n",
      "INFO:lcs.agents.Agent:{'trial': 6, 'steps_in_trial': 200, 'reward': 0, 'perf_time': 0.13302230000000748, 'knowledge': 80.71065989847716, 'population': 198, 'numerosity': 198, 'reliable': 160}\n",
      "INFO:lcs.agents.Agent:{'trial': 7, 'steps_in_trial': 200, 'reward': 0, 'perf_time': 0.1806568000000084, 'knowledge': 80.71065989847716, 'population': 198, 'numerosity': 198, 'reliable': 160}\n",
      "INFO:lcs.agents.Agent:{'trial': 8, 'steps_in_trial': 9, 'reward': 1000, 'perf_time': 0.004641400000011231, 'knowledge': 80.71065989847716, 'population': 198, 'numerosity': 198, 'reliable': 160}\n",
      "INFO:lcs.agents.Agent:{'trial': 9, 'steps_in_trial': 200, 'reward': 0, 'perf_time': 0.11484620000000234, 'knowledge': 80.71065989847716, 'population': 198, 'numerosity': 198, 'reliable': 160}\n",
      "INFO:lcs.agents.Agent:{'trial': 10, 'steps_in_trial': 200, 'reward': 0, 'perf_time': 0.13043020000000638, 'knowledge': 80.71065989847716, 'population': 198, 'numerosity': 198, 'reliable': 160}\n"
     ]
    },
    {
     "name": "stdout",
     "output_type": "stream",
     "text": [
      "END - ACS2ER - 3\n",
      "START - ACS2ER - 5\n"
     ]
    },
    {
     "name": "stderr",
     "output_type": "stream",
     "text": [
      "INFO:lcs.agents.Agent:{'trial': 5, 'steps_in_trial': 200, 'reward': 0, 'perf_time': 0.9619757000000106, 'knowledge': 30.456852791878177, 'population': 126, 'numerosity': 126, 'reliable': 61}\n",
      "INFO:lcs.agents.Agent:{'trial': 10, 'steps_in_trial': 200, 'reward': 0, 'perf_time': 0.910892600000011, 'knowledge': 48.223350253807105, 'population': 163, 'numerosity': 163, 'reliable': 96}\n",
      "INFO:lcs.agents.Agent:{'trial': 15, 'steps_in_trial': 22, 'reward': 1000, 'perf_time': 0.0967840999999936, 'knowledge': 63.95939086294417, 'population': 176, 'numerosity': 176, 'reliable': 127}\n",
      "INFO:lcs.agents.Agent:{'trial': 20, 'steps_in_trial': 200, 'reward': 0, 'perf_time': 1.245945000000006, 'knowledge': 70.05076142131979, 'population': 189, 'numerosity': 189, 'reliable': 139}\n",
      "INFO:lcs.agents.Agent:{'trial': 25, 'steps_in_trial': 200, 'reward': 0, 'perf_time': 1.037027100000003, 'knowledge': 74.11167512690355, 'population': 193, 'numerosity': 193, 'reliable': 147}\n",
      "INFO:lcs.agents.Agent:{'trial': 30, 'steps_in_trial': 200, 'reward': 0, 'perf_time': 1.0933346999999998, 'knowledge': 83.75634517766497, 'population': 195, 'numerosity': 195, 'reliable': 166}\n",
      "INFO:lcs.agents.Agent:{'trial': 35, 'steps_in_trial': 200, 'reward': 0, 'perf_time': 1.0972083000000055, 'knowledge': 89.84771573604061, 'population': 195, 'numerosity': 195, 'reliable': 178}\n",
      "INFO:lcs.agents.Agent:{'trial': 40, 'steps_in_trial': 200, 'reward': 0, 'perf_time': 1.1486251000000038, 'knowledge': 92.89340101522842, 'population': 196, 'numerosity': 196, 'reliable': 184}\n",
      "INFO:lcs.agents.Agent:{'trial': 45, 'steps_in_trial': 200, 'reward': 0, 'perf_time': 1.0898704000000095, 'knowledge': 92.89340101522842, 'population': 198, 'numerosity': 198, 'reliable': 184}\n",
      "INFO:lcs.agents.Agent:{'trial': 50, 'steps_in_trial': 200, 'reward': 0, 'perf_time': 1.0970252999999985, 'knowledge': 93.4010152284264, 'population': 198, 'numerosity': 198, 'reliable': 185}\n",
      "INFO:lcs.agents.Agent:{'trial': 1, 'steps_in_trial': 200, 'reward': 0, 'perf_time': 0.12759539999998992, 'knowledge': 93.4010152284264, 'population': 198, 'numerosity': 198, 'reliable': 185}\n",
      "INFO:lcs.agents.Agent:{'trial': 2, 'steps_in_trial': 200, 'reward': 0, 'perf_time': 0.12514200000001097, 'knowledge': 93.4010152284264, 'population': 198, 'numerosity': 198, 'reliable': 185}\n",
      "INFO:lcs.agents.Agent:{'trial': 3, 'steps_in_trial': 200, 'reward': 0, 'perf_time': 0.11328550000000348, 'knowledge': 93.4010152284264, 'population': 198, 'numerosity': 198, 'reliable': 185}\n",
      "INFO:lcs.agents.Agent:{'trial': 4, 'steps_in_trial': 200, 'reward': 0, 'perf_time': 0.10174879999999575, 'knowledge': 93.4010152284264, 'population': 198, 'numerosity': 198, 'reliable': 185}\n",
      "INFO:lcs.agents.Agent:{'trial': 5, 'steps_in_trial': 200, 'reward': 0, 'perf_time': 0.09694509999999923, 'knowledge': 93.4010152284264, 'population': 198, 'numerosity': 198, 'reliable': 185}\n",
      "INFO:lcs.agents.Agent:{'trial': 6, 'steps_in_trial': 200, 'reward': 0, 'perf_time': 0.14185710000000995, 'knowledge': 93.4010152284264, 'population': 198, 'numerosity': 198, 'reliable': 185}\n",
      "INFO:lcs.agents.Agent:{'trial': 7, 'steps_in_trial': 12, 'reward': 1000, 'perf_time': 0.006905799999998408, 'knowledge': 93.4010152284264, 'population': 198, 'numerosity': 198, 'reliable': 185}\n",
      "INFO:lcs.agents.Agent:{'trial': 8, 'steps_in_trial': 200, 'reward': 0, 'perf_time': 0.12314560000000085, 'knowledge': 93.4010152284264, 'population': 198, 'numerosity': 198, 'reliable': 185}\n",
      "INFO:lcs.agents.Agent:{'trial': 9, 'steps_in_trial': 200, 'reward': 0, 'perf_time': 0.1749255000000005, 'knowledge': 93.4010152284264, 'population': 198, 'numerosity': 198, 'reliable': 185}\n",
      "INFO:lcs.agents.Agent:{'trial': 10, 'steps_in_trial': 200, 'reward': 0, 'perf_time': 0.10774929999999472, 'knowledge': 93.4010152284264, 'population': 198, 'numerosity': 198, 'reliable': 185}\n"
     ]
    },
    {
     "name": "stdout",
     "output_type": "stream",
     "text": [
      "END - ACS2ER - 5\n"
     ]
    }
   ],
   "source": [
    "run_acs2er_experiments()"
   ]
  }
 ],
 "metadata": {
  "kernelspec": {
   "display_name": "Python 3",
   "language": "python",
   "name": "python3"
  },
  "language_info": {
   "codemirror_mode": {
    "name": "ipython",
    "version": 3
   },
   "file_extension": ".py",
   "mimetype": "text/x-python",
   "name": "python",
   "nbconvert_exporter": "python",
   "pygments_lexer": "ipython3",
   "version": "3.7.12"
  }
 },
 "nbformat": 4,
 "nbformat_minor": 4
}
