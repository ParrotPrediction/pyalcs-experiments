{
 "cells": [
  {
   "cell_type": "code",
   "execution_count": 1,
   "metadata": {},
   "outputs": [],
   "source": [
    "# logging \n",
    "import logging\n",
    "logging.basicConfig(level=logging.INFO)\n",
    "logger = logging.getLogger(__name__)\n"
   ]
  },
  {
   "cell_type": "code",
   "execution_count": 2,
   "metadata": {},
   "outputs": [
    {
     "name": "stdout",
     "output_type": "stream",
     "text": [
      "This is how maze looks like\n",
      "<class 'tuple'>\n",
      "('1', '1', '1', '1', '0', '0', '0', '0')\n",
      "\n",
      "\u001b[30m■\u001b[0m \u001b[30m■\u001b[0m \u001b[30m■\u001b[0m \u001b[30m■\u001b[0m \u001b[30m■\u001b[0m \u001b[30m■\u001b[0m \u001b[30m■\u001b[0m \u001b[30m■\u001b[0m\n",
      "\u001b[30m■\u001b[0m \u001b[37m□\u001b[0m \u001b[37m□\u001b[0m \u001b[30m■\u001b[0m \u001b[37m□\u001b[0m \u001b[37m□\u001b[0m \u001b[33m$\u001b[0m \u001b[30m■\u001b[0m\n",
      "\u001b[30m■\u001b[0m \u001b[30m■\u001b[0m \u001b[37m□\u001b[0m \u001b[37m□\u001b[0m \u001b[30m■\u001b[0m \u001b[37m□\u001b[0m \u001b[37m□\u001b[0m \u001b[30m■\u001b[0m\n",
      "\u001b[30m■\u001b[0m \u001b[30m■\u001b[0m \u001b[37m□\u001b[0m \u001b[30m■\u001b[0m \u001b[37m□\u001b[0m \u001b[37m□\u001b[0m \u001b[30m■\u001b[0m \u001b[30m■\u001b[0m\n",
      "\u001b[30m■\u001b[0m \u001b[37m□\u001b[0m \u001b[37m□\u001b[0m \u001b[37m□\u001b[0m \u001b[37m□\u001b[0m \u001b[37m□\u001b[0m \u001b[31mA\u001b[0m \u001b[30m■\u001b[0m\n",
      "\u001b[30m■\u001b[0m \u001b[30m■\u001b[0m \u001b[37m□\u001b[0m \u001b[30m■\u001b[0m \u001b[37m□\u001b[0m \u001b[37m□\u001b[0m \u001b[37m□\u001b[0m \u001b[30m■\u001b[0m\n",
      "\u001b[30m■\u001b[0m \u001b[37m□\u001b[0m \u001b[37m□\u001b[0m \u001b[37m□\u001b[0m \u001b[37m□\u001b[0m \u001b[30m■\u001b[0m \u001b[37m□\u001b[0m \u001b[30m■\u001b[0m\n",
      "\u001b[30m■\u001b[0m \u001b[30m■\u001b[0m \u001b[30m■\u001b[0m \u001b[30m■\u001b[0m \u001b[30m■\u001b[0m \u001b[30m■\u001b[0m \u001b[30m■\u001b[0m \u001b[30m■\u001b[0m\n"
     ]
    }
   ],
   "source": [
    "# environment setup\n",
    "import gym\n",
    "# noinspection PyUnresolvedReferences\n",
    "import gym_maze\n",
    "\n",
    "maze = gym.make('Maze4-v0')\n",
    "print(\"This is how maze looks like\")\n",
    "situation = maze.reset()\n",
    "print(type(situation))\n",
    "print(situation)\n",
    "maze.render()"
   ]
  },
  {
   "cell_type": "code",
   "execution_count": 3,
   "metadata": {},
   "outputs": [],
   "source": [
    "from lcs.agents.xncs import XNCS, Configuration\n",
    "\n",
    "def cl_accuracy(cl, cfg):\n",
    "     if cl.error < cfg.epsilon_0:\n",
    "        return 1\n",
    "     else:\n",
    "        return cfg.alpha * pow(1/(cl.error * cfg.epsilon_0), cfg.v)\n",
    "            \n",
    "def fraction_accuracy(xncs):\n",
    "    action_sets_percentages = []\n",
    "    for action in range(xncs.cfg.number_of_actions):\n",
    "        action_set = xncs.population.generate_action_set(action)\n",
    "        total_accuracy = 0\n",
    "        most_numerous = action_set[0]\n",
    "        for cl in action_set:\n",
    "            total_accuracy += cl_accuracy(cl, xncs.cfg)\n",
    "            if cl.numerosity > most_numerous.numerosity:\n",
    "                most_numerous = cl\n",
    "        action_sets_percentages.append(cl_accuracy(most_numerous, xncs.cfg) / total_accuracy)\n",
    "    return sum(action_sets_percentages) / xncs.cfg.number_of_actions\n",
    "\n",
    "def specificity(xncs, population):\n",
    "    total_specificity = 0\n",
    "    for cl in population:\n",
    "        total_specificity += pow(2, cl.wildcard_number)\n",
    "    return total_specificity / xncs.population.numerosity\n",
    "\n",
    "def xcs_maze_metrics(xncs: XNCS, environment):\n",
    "    return {\n",
    "        'numerosity': xncs.population.numerosity,\n",
    "        'population': len(xncs.population),\n",
    "        'average_specificity': specificity(xncs, xncs.population),\n",
    "        'fraction_accuracy': fraction_accuracy(xncs)\n",
    "    }"
   ]
  },
  {
   "cell_type": "code",
   "execution_count": 4,
   "metadata": {},
   "outputs": [],
   "source": [
    "cfg = Configuration(number_of_actions=8,\n",
    "                    max_population=1800,\n",
    "                    learning_rate=0.2,\n",
    "                    mutation_chance=0.08,\n",
    "                    chi=0.8,\n",
    "                    ga_threshold=25,\n",
    "                    deletion_threshold=25,\n",
    "                    delta=0.1,\n",
    "                    initial_error=0.01,\n",
    "                    metrics_trial_frequency=50,\n",
    "                    covering_wildcard_chance = 0.9,\n",
    "                    user_metrics_collector_fcn=xcs_maze_metrics,\n",
    "                    lmc=10,\n",
    "                    lem=200)"
   ]
  },
  {
   "cell_type": "code",
   "execution_count": null,
   "metadata": {
    "scrolled": false
   },
   "outputs": [
    {
     "name": "stderr",
     "output_type": "stream",
     "text": [
      "INFO:lcs.agents.Agent:{'trial': 0, 'steps_in_trial': 50, 'reward': [5.485291891704869e-40, 3.81694250773715e-40, 8.38831519018431e-40, 3.781344122869154e-40, 4.673660597979915e-40, 7.199291048503899e-40, 5.717934081182082e-40, 4.4497857054682506e-40], 'numerosity': 92, 'population': 76, 'average_specificity': 3.1956521739130435, 'fraction_accuracy': 0.07633928571428572}\n",
      "INFO:lcs.agents.Agent:{'trial': 100, 'steps_in_trial': 44, 'reward': [218.1850500112207, 10.037948650236483, 16.0335964086026, 10.786286107493435, 13.291639655296002, 10.6750395993733, 10.79476922633998, 12.378137906251723], 'numerosity': 320, 'population': 210, 'average_specificity': 2.0375, 'fraction_accuracy': 0.041667344974328245}\n",
      "INFO:lcs.agents.Agent:{'trial': 200, 'steps_in_trial': 27, 'reward': [7.153042922602556, 8.14020348020308, 249.11003344358414, 7.2443244074950455, 5.258506427053506, 19.42762175136607, 5.207857202198507, 15.729712845483432], 'numerosity': 342, 'population': 212, 'average_specificity': 2.0321637426900585, 'fraction_accuracy': 0.12501456852845894}\n",
      "INFO:lcs.agents.Agent:{'trial': 300, 'steps_in_trial': 18, 'reward': [23.072993798323722, 308.87002817683197, 12.573856341603221, 21.243235636945467, 15.290659467871059, 12.289478975433914, 14.854427309450264, 12.38480898041928], 'numerosity': 360, 'population': 215, 'average_specificity': 1.961111111111111, 'fraction_accuracy': 0.12500195430875677}\n",
      "INFO:lcs.agents.Agent:{'trial': 400, 'steps_in_trial': 17, 'reward': [120.92931328895641, 7.726411064737643, 244.09798037539082, 9.758974684575264, 9.570369310012941, 13.55765566450496, 18.51551452047155, 2.7095394240585917], 'numerosity': 364, 'population': 215, 'average_specificity': 1.956043956043956, 'fraction_accuracy': 0.12505959595287464}\n",
      "INFO:lcs.agents.Agent:{'trial': 500, 'steps_in_trial': 1, 'reward': [5.9801590336546, 397.5465272751883, 471.1868692266503, 12.061377485620639, 8.191145422047196, 11.93144875708537, 6.719371757402348, 16.432579806812544], 'numerosity': 380, 'population': 216, 'average_specificity': 1.95, 'fraction_accuracy': 7.186750000496627e-05}\n",
      "INFO:lcs.agents.Agent:{'trial': 600, 'steps_in_trial': 9, 'reward': [37.16571515270269, 447.3968001657777, 215.77292629911645, 20.465639268146077, 20.470005120289528, 16.17903266347407, 36.740020196079506, 12.668776317221678], 'numerosity': 382, 'population': 216, 'average_specificity': 1.9397905759162304, 'fraction_accuracy': 0.0035200525912143436}\n",
      "INFO:lcs.agents.Agent:{'trial': 700, 'steps_in_trial': 2, 'reward': [290.6275539893845, 9.772977146695592, 219.60966492376576, 19.936565531006902, 13.454243333546248, 10.576338829054071, 10.440303409931813, 16.542049814749994], 'numerosity': 384, 'population': 216, 'average_specificity': 1.9322916666666667, 'fraction_accuracy': 7.016892150447445e-05}\n",
      "INFO:lcs.agents.Agent:{'trial': 800, 'steps_in_trial': 31, 'reward': [15.37750842138103, 35.831390943749, 214.8105231641282, 12.934433852014998, 5.938380522921002, 7.413891435701217, 5.775375068243465, 11.318313791350045], 'numerosity': 386, 'population': 217, 'average_specificity': 1.9119170984455958, 'fraction_accuracy': 2.0958384626359498e-05}\n",
      "INFO:lcs.agents.Agent:{'trial': 900, 'steps_in_trial': 50, 'reward': [1.9146916014459046, 3.949615110493665, 18.1711782660637, 4.698541430940664, 2.234374172160954, 2.682500897888013, 3.7263791359079463, 5.7683847178027925], 'numerosity': 390, 'population': 218, 'average_specificity': 1.9153846153846155, 'fraction_accuracy': 2.046105156408558e-08}\n"
     ]
    }
   ],
   "source": [
    "agent = XNCS(cfg)\n",
    "explore_population, explore_metrics = agent.explore(maze, 1000, False)"
   ]
  },
  {
   "cell_type": "code",
   "execution_count": null,
   "metadata": {
    "scrolled": true
   },
   "outputs": [],
   "source": [
    "for cl in explore_population:\n",
    "    print(str(cl))"
   ]
  },
  {
   "cell_type": "code",
   "execution_count": null,
   "metadata": {},
   "outputs": [],
   "source": [
    "import pandas as pd\n",
    "import numpy as np\n",
    "\n",
    "df = pd.DataFrame(metric[\"average_specificity\"] for metric in explore_metrics)\n",
    "ax = df.plot()\n",
    "ax.set_xlabel(\"trial\")\n",
    "ax.set_ylabel(\"average_specificity\")\n",
    "ax.legend([\"specificity\"])\n"
   ]
  },
  {
   "cell_type": "code",
   "execution_count": null,
   "metadata": {},
   "outputs": [],
   "source": [
    "df = pd.DataFrame(metric[\"fraction_accuracy\"] for metric in explore_metrics)\n",
    "ax = df.plot()\n",
    "ax.set_xlabel(\"trial\")\n",
    "ax.set_ylabel(\"fraction accuracy\")\n",
    "ax.legend([\"fraction accuracy\"])\n"
   ]
  },
  {
   "cell_type": "code",
   "execution_count": null,
   "metadata": {},
   "outputs": [],
   "source": [
    "\n",
    "df = pd.DataFrame(zip([metric[\"population\"] for metric in explore_metrics], [metric[\"numerosity\"] for metric in explore_metrics]))\n",
    "ax = df.plot()\n",
    "ax.set_xlabel(\"trial\")\n",
    "ax.set_ylabel(\"population\")\n",
    "ax.legend([\"pop\", \"num\"])\n",
    "\n",
    "steps_averaged = []\n"
   ]
  },
  {
   "cell_type": "code",
   "execution_count": null,
   "metadata": {},
   "outputs": [],
   "source": [
    "\n",
    "\n",
    "xf = [metric[\"steps_in_trial\"] for metric in explore_metrics]\n",
    "temp_df = np.array_split(xf, 20)\n",
    "for i in range(len(temp_df)):\n",
    "    temp_df[i] = np.mean(temp_df[i]) \n",
    "df = pd.DataFrame(temp_df)\n",
    "# df = pd.DataFrame(metric[\"steps_in_trial\"] for metric in explore_metrics)\n",
    "ax = df.plot()\n",
    "ax.set_xlabel(\"trial grouped up[*50]\")\n",
    "ax.set_ylabel(\"steps for solution\")\n",
    "ax.legend([\"steps\"])\n"
   ]
  },
  {
   "cell_type": "code",
   "execution_count": null,
   "metadata": {},
   "outputs": [],
   "source": []
  },
  {
   "cell_type": "code",
   "execution_count": null,
   "metadata": {},
   "outputs": [],
   "source": [
    "\n",
    "\n"
   ]
  }
 ],
 "metadata": {
  "kernelspec": {
   "display_name": "Python 3",
   "language": "python",
   "name": "python3"
  },
  "language_info": {
   "codemirror_mode": {
    "name": "ipython",
    "version": 3
   },
   "file_extension": ".py",
   "mimetype": "text/x-python",
   "name": "python",
   "nbconvert_exporter": "python",
   "pygments_lexer": "ipython3",
   "version": "3.7.10"
  }
 },
 "nbformat": 4,
 "nbformat_minor": 1
}
