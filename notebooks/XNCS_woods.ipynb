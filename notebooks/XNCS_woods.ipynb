{
 "cells": [
  {
   "cell_type": "code",
   "execution_count": 1,
   "metadata": {},
   "outputs": [],
   "source": [
    "# logging \n",
    "import logging\n",
    "logging.basicConfig(level=logging.INFO)\n",
    "logger = logging.getLogger(__name__)\n"
   ]
  },
  {
   "cell_type": "code",
   "execution_count": 2,
   "metadata": {},
   "outputs": [
    {
     "name": "stdout",
     "output_type": "stream",
     "text": [
      "This is how maze looks like\n",
      "<class 'tuple'>\n",
      "('1', '1', '0', '0', '1', '0', '1', '1')\n",
      "\n",
      "\u001b[30m■\u001b[0m \u001b[30m■\u001b[0m \u001b[30m■\u001b[0m \u001b[30m■\u001b[0m \u001b[30m■\u001b[0m \u001b[30m■\u001b[0m \u001b[30m■\u001b[0m \u001b[30m■\u001b[0m\n",
      "\u001b[30m■\u001b[0m \u001b[37m□\u001b[0m \u001b[37m□\u001b[0m \u001b[30m■\u001b[0m \u001b[31mA\u001b[0m \u001b[37m□\u001b[0m \u001b[33m$\u001b[0m \u001b[30m■\u001b[0m\n",
      "\u001b[30m■\u001b[0m \u001b[30m■\u001b[0m \u001b[37m□\u001b[0m \u001b[37m□\u001b[0m \u001b[30m■\u001b[0m \u001b[37m□\u001b[0m \u001b[37m□\u001b[0m \u001b[30m■\u001b[0m\n",
      "\u001b[30m■\u001b[0m \u001b[30m■\u001b[0m \u001b[37m□\u001b[0m \u001b[30m■\u001b[0m \u001b[37m□\u001b[0m \u001b[37m□\u001b[0m \u001b[30m■\u001b[0m \u001b[30m■\u001b[0m\n",
      "\u001b[30m■\u001b[0m \u001b[37m□\u001b[0m \u001b[37m□\u001b[0m \u001b[37m□\u001b[0m \u001b[37m□\u001b[0m \u001b[37m□\u001b[0m \u001b[37m□\u001b[0m \u001b[30m■\u001b[0m\n",
      "\u001b[30m■\u001b[0m \u001b[30m■\u001b[0m \u001b[37m□\u001b[0m \u001b[30m■\u001b[0m \u001b[37m□\u001b[0m \u001b[37m□\u001b[0m \u001b[37m□\u001b[0m \u001b[30m■\u001b[0m\n",
      "\u001b[30m■\u001b[0m \u001b[37m□\u001b[0m \u001b[37m□\u001b[0m \u001b[37m□\u001b[0m \u001b[37m□\u001b[0m \u001b[30m■\u001b[0m \u001b[37m□\u001b[0m \u001b[30m■\u001b[0m\n",
      "\u001b[30m■\u001b[0m \u001b[30m■\u001b[0m \u001b[30m■\u001b[0m \u001b[30m■\u001b[0m \u001b[30m■\u001b[0m \u001b[30m■\u001b[0m \u001b[30m■\u001b[0m \u001b[30m■\u001b[0m\n"
     ]
    }
   ],
   "source": [
    "# environment setup\n",
    "import gym\n",
    "# noinspection PyUnresolvedReferences\n",
    "import gym_maze\n",
    "\n",
    "maze = gym.make('Maze4-v0')\n",
    "print(\"This is how maze looks like\")\n",
    "situation = maze.reset()\n",
    "print(type(situation))\n",
    "print(situation)\n",
    "maze.render()"
   ]
  },
  {
   "cell_type": "code",
   "execution_count": 3,
   "metadata": {},
   "outputs": [],
   "source": [
    "from lcs.agents.xncs import XNCS, Configuration\n",
    "\n",
    "def cl_accuracy(cl, cfg):\n",
    "     if cl.error < cfg.epsilon_0:\n",
    "        return 1\n",
    "     else:\n",
    "        return cfg.alpha * pow(1/(cl.error * cfg.epsilon_0), cfg.v)\n",
    "            \n",
    "def fraction_accuracy(xncs):\n",
    "    action_sets_percentages = []\n",
    "    for action in range(xncs.cfg.number_of_actions):\n",
    "        action_set = xncs.population.generate_action_set(action)\n",
    "        total_accuracy = 0\n",
    "        most_numerous = action_set[0]\n",
    "        for cl in action_set:\n",
    "            total_accuracy += cl_accuracy(cl, xncs.cfg)\n",
    "            if cl.numerosity > most_numerous.numerosity:\n",
    "                most_numerous = cl\n",
    "        action_sets_percentages.append(cl_accuracy(most_numerous, xncs.cfg) / total_accuracy)\n",
    "    return sum(action_sets_percentages) / xncs.cfg.number_of_actions\n",
    "\n",
    "def specificity(xncs, population):\n",
    "    total_specificity = 0\n",
    "    for cl in population:\n",
    "        total_specificity += pow(2, cl.wildcard_number)\n",
    "    return total_specificity / xncs.population.numerosity\n",
    "\n",
    "def xcs_maze_metrics(xncs: XNCS, environment):\n",
    "    return {\n",
    "        'numerosity': xncs.population.numerosity,\n",
    "        'population': len(xncs.population),\n",
    "        'average_specificity': specificity(xncs, xncs.population),\n",
    "        'fraction_accuracy': fraction_accuracy(xncs)\n",
    "    }"
   ]
  },
  {
   "cell_type": "code",
   "execution_count": 4,
   "metadata": {},
   "outputs": [],
   "source": [
    "cfg = Configuration(number_of_actions=8,\n",
    "                    max_population=1800,\n",
    "                    learning_rate=0.2,\n",
    "                    mutation_chance=0.08,\n",
    "                    chi=0.8,\n",
    "                    ga_threshold=25,\n",
    "                    deletion_threshold=25,\n",
    "                    delta=0.1,\n",
    "                    initial_error=0.01,\n",
    "                    metrics_trial_frequency=50,\n",
    "                    covering_wildcard_chance = 0.9,\n",
    "                    user_metrics_collector_fcn=xcs_maze_metrics,\n",
    "                    lmc=10,\n",
    "                    lem=200)"
   ]
  },
  {
   "cell_type": "code",
   "execution_count": 5,
   "metadata": {
    "scrolled": false
   },
   "outputs": [
    {
     "name": "stderr",
     "output_type": "stream",
     "text": [
      "INFO:lcs.agents.Agent:{'trial': 0, 'steps_in_trial': 50, 'reward': [5.866316727135972e-40, 6.528396107324103e-40, 2.2412305130291682e-40, 6.4976746116082634e-40, 6.715954838795384e-40, 7.169457359119906e-40, 7.707780995223417e-40, 1.8566390876556275e-40], 'numerosity': 79, 'population': 71, 'average_specificity': 2.569620253164557, 'fraction_accuracy': 0.13194444444444445}\n",
      "INFO:lcs.agents.Agent:{'trial': 100, 'steps_in_trial': 1, 'reward': [523.5880471397604, 308.1288815753598, 22.730629781713585, 16.96870964357394, 18.009451548156274, 27.634566257398756, 24.024463380046825, 24.58137221299023], 'numerosity': 327, 'population': 208, 'average_specificity': 2.1131498470948014, 'fraction_accuracy': 0.017857142857716148}\n",
      "INFO:lcs.agents.Agent:{'trial': 200, 'steps_in_trial': 50, 'reward': [4.5263501736005765, 21.281661093155314, 6.186356811052515, 11.779310654756094, 5.684496006849906, 8.325044723423478, 10.067241669272596, 5.980053399547474], 'numerosity': 364, 'population': 215, 'average_specificity': 2.0824175824175826, 'fraction_accuracy': 0.00016313515466493577}\n",
      "INFO:lcs.agents.Agent:{'trial': 300, 'steps_in_trial': 26, 'reward': [212.31537198874852, 93.779264726237, 7.37631043844307, 3.5964112891402733, 6.725408821652629, 6.475527816895699, 14.62849985162669, 4.381629406420127], 'numerosity': 386, 'population': 217, 'average_specificity': 2.028497409326425, 'fraction_accuracy': 0.009592351498865438}\n",
      "INFO:lcs.agents.Agent:{'trial': 400, 'steps_in_trial': 26, 'reward': [139.02284241211362, 233.23624527614484, 6.682004830870413, 8.33434318733046, 10.345322620860982, 11.301996578779567, 12.150752179259003, 11.424883235591015], 'numerosity': 388, 'population': 217, 'average_specificity': 2.018041237113402, 'fraction_accuracy': 0.061239016462054485}\n",
      "INFO:lcs.agents.Agent:{'trial': 500, 'steps_in_trial': 16, 'reward': [276.73633220231494, 221.64835011867387, 84.7444809248221, 27.66627874519793, 20.041738973561785, 19.835103180172176, 37.95869547791006, 18.29180203178189], 'numerosity': 394, 'population': 218, 'average_specificity': 2.012690355329949, 'fraction_accuracy': 0.07914368132213258}\n",
      "INFO:lcs.agents.Agent:{'trial': 600, 'steps_in_trial': 3, 'reward': [213.18471573425606, 278.5870370796613, 15.947297037818956, 8.819644714231318, 12.014141725487834, 11.129142310002866, 9.372159319629493, 4.884998720868413], 'numerosity': 396, 'population': 218, 'average_specificity': 2.032828282828283, 'fraction_accuracy': 0.045617642170388065}\n",
      "INFO:lcs.agents.Agent:{'trial': 700, 'steps_in_trial': 12, 'reward': [26.035817098051766, 381.79776035891496, 6.138398946029448, 5.310298372200023, 3.7366214138412635, 6.580879021713864, 9.645954119062349, 9.572418553948816], 'numerosity': 396, 'population': 218, 'average_specificity': 2.032828282828283, 'fraction_accuracy': 0.04159559742071185}\n",
      "INFO:lcs.agents.Agent:{'trial': 800, 'steps_in_trial': 17, 'reward': [265.38182597801665, 4.839299171118525, 26.929200114794526, 8.587696999230369, 5.756212180428586, 6.619387420004421, 5.995408808759422, 3.574164671486305], 'numerosity': 396, 'population': 218, 'average_specificity': 2.032828282828283, 'fraction_accuracy': 0.13926802972530972}\n",
      "INFO:lcs.agents.Agent:{'trial': 900, 'steps_in_trial': 13, 'reward': [260.57406032747514, 110.76516017577809, 7.016987329706326, 25.12181154903391, 2.535364693848347, 2.918212989376198, 6.855096446027886, 1.5619380617863863], 'numerosity': 396, 'population': 218, 'average_specificity': 2.032828282828283, 'fraction_accuracy': 0.03999950282018479}\n"
     ]
    }
   ],
   "source": [
    "agent = XNCS(cfg)\n",
    "explore_population, explore_metrics = agent.explore(maze, 1000, False)"
   ]
  },
  {
   "cell_type": "code",
   "execution_count": 6,
   "metadata": {
    "scrolled": true
   },
   "outputs": [
    {
     "name": "stdout",
     "output_type": "stream",
     "text": [
      "Cond:9#11100# - Act:0 - Num:1 [fit: 0.000, exp: 349.00, pred: 361.607]\n",
      "Cond:9111#00# - Act:1 - Num:3 [fit: 0.000, exp: 255.00, pred: 271.768]\n",
      "Cond:#11#1000 - Act:2 - Num:2 [fit: 0.000, exp: 105.00, pred: 245.590]\n",
      "Cond:911#1000 - Act:3 - Num:2 [fit: 0.000, exp: 49.00, pred: 203.800]\n",
      "Cond:#1#110#0 - Act:4 - Num:3 [fit: 0.000, exp: 65.00, pred: 219.707]\n",
      "Cond:911110## - Act:5 - Num:3 [fit: 0.000, exp: 62.00, pred: 235.261]\n",
      "Cond:9#11##00 - Act:6 - Num:3 [fit: 0.000, exp: 68.00, pred: 209.566]\n",
      "Cond:#11###00 - Act:7 - Num:2 [fit: 0.000, exp: 238.00, pred: 220.730]\n",
      "Cond:1#900101 - Act:0 - Num:3 [fit: 0.000, exp: 105.00, pred: 304.887]\n",
      "Cond:#19#0101 - Act:1 - Num:3 [fit: 0.000, exp: 83.00, pred: 207.658]\n",
      "Cond:11#00101 - Act:2 - Num:1 [fit: 0.000, exp: 252.00, pred: 287.370]\n",
      "Cond:111001#1 - Act:3 - Num:3 [fit: 0.000, exp: 180.00, pred: 190.237]\n",
      "Cond:##900#01 - Act:4 - Num:2 [fit: 0.009, exp: 144.00, pred: 200.013]\n",
      "Cond:1##0010# - Act:5 - Num:3 [fit: 0.000, exp: 124.00, pred: 194.150]\n",
      "Cond:#1900101 - Act:6 - Num:1 [fit: 0.000, exp: 100.00, pred: 195.761]\n",
      "Cond:1#900#0# - Act:7 - Num:3 [fit: 0.005, exp: 44.00, pred: 203.511]\n",
      "Cond:11#01011 - Act:0 - Num:3 [fit: 0.000, exp: 608.00, pred: 357.581]\n",
      "Cond:1#001#1# - Act:1 - Num:3 [fit: 0.000, exp: 668.00, pred: 272.396]\n",
      "Cond:11001011 - Act:2 - Num:1 [fit: 0.000, exp: 217.00, pred: 274.998]\n",
      "Cond:11#0#011 - Act:3 - Num:3 [fit: 0.151, exp: 273.00, pred: 209.066]\n",
      "Cond:11001011 - Act:4 - Num:1 [fit: 0.000, exp: 201.00, pred: 234.760]\n",
      "Cond:11001011 - Act:5 - Num:2 [fit: 0.000, exp: 98.00, pred: 221.531]\n",
      "Cond:#100101# - Act:6 - Num:3 [fit: 0.000, exp: 111.00, pred: 212.119]\n",
      "Cond:11001011 - Act:7 - Num:3 [fit: 0.000, exp: 97.00, pred: 204.289]\n",
      "Cond:10101#00 - Act:0 - Num:1 [fit: 0.000, exp: 305.00, pred: 223.333]\n",
      "Cond:1010#000 - Act:1 - Num:1 [fit: 0.000, exp: 392.00, pred: 359.280]\n",
      "Cond:101010#0 - Act:2 - Num:2 [fit: 0.000, exp: 209.00, pred: 231.210]\n",
      "Cond:101000#0 - Act:3 - Num:3 [fit: 0.051, exp: 4.00, pred: 37.473]\n",
      "Cond:10101000 - Act:4 - Num:3 [fit: 0.000, exp: 76.00, pred: 194.081]\n",
      "Cond:10101##0 - Act:5 - Num:3 [fit: 0.026, exp: 127.00, pred: 180.731]\n",
      "Cond:#010#0## - Act:6 - Num:3 [fit: 0.000, exp: 222.00, pred: 171.945]\n",
      "Cond:1010###0 - Act:7 - Num:2 [fit: 0.224, exp: 127.00, pred: 158.747]\n",
      "Cond:111##101 - Act:0 - Num:3 [fit: 0.000, exp: 244.00, pred: 190.551]\n",
      "Cond:#1100#01 - Act:1 - Num:3 [fit: 0.000, exp: 183.00, pred: 201.552]\n",
      "Cond:1110010# - Act:3 - Num:3 [fit: 0.000, exp: 192.00, pred: 190.237]\n",
      "Cond:11100#0# - Act:4 - Num:3 [fit: 0.013, exp: 72.00, pred: 184.535]\n",
      "Cond:1#1001#1 - Act:5 - Num:3 [fit: 0.031, exp: 97.00, pred: 178.560]\n",
      "Cond:1#1#0101 - Act:6 - Num:2 [fit: 0.595, exp: 75.00, pred: 170.825]\n",
      "Cond:1110#101 - Act:7 - Num:3 [fit: 0.150, exp: 57.00, pred: 177.772]\n",
      "Cond:01010110 - Act:0 - Num:3 [fit: 0.000, exp: 90.00, pred: 182.866]\n",
      "Cond:0101#110 - Act:1 - Num:3 [fit: 0.000, exp: 123.00, pred: 182.704]\n",
      "Cond:#1010110 - Act:2 - Num:2 [fit: 0.000, exp: 75.00, pred: 220.722]\n",
      "Cond:#1##0#10 - Act:3 - Num:3 [fit: 0.000, exp: 44.00, pred: 175.148]\n",
      "Cond:####0#10 - Act:4 - Num:3 [fit: 0.000, exp: 327.00, pred: 212.900]\n",
      "Cond:#1##01#0 - Act:5 - Num:3 [fit: 0.000, exp: 79.00, pred: 180.131]\n",
      "Cond:01010#1# - Act:6 - Num:1 [fit: 0.001, exp: 26.00, pred: 167.920]\n",
      "Cond:0##10110 - Act:7 - Num:3 [fit: 0.013, exp: 18.00, pred: 143.966]\n",
      "Cond:#1001111 - Act:0 - Num:3 [fit: 0.000, exp: 78.00, pred: 193.946]\n",
      "Cond:110011#1 - Act:1 - Num:3 [fit: 0.000, exp: 153.00, pred: 175.134]\n",
      "Cond:1100#111 - Act:2 - Num:1 [fit: 0.000, exp: 85.00, pred: 212.052]\n",
      "Cond:1100#111 - Act:3 - Num:3 [fit: 0.000, exp: 38.00, pred: 172.467]\n",
      "Cond:11#0##11 - Act:4 - Num:2 [fit: 0.000, exp: 271.00, pred: 233.956]\n",
      "Cond:1100111# - Act:5 - Num:3 [fit: 0.001, exp: 26.00, pred: 166.928]\n",
      "Cond:1100111# - Act:6 - Num:3 [fit: 0.270, exp: 33.00, pred: 166.888]\n",
      "Cond:11001111 - Act:7 - Num:3 [fit: 0.001, exp: 25.00, pred: 167.361]\n",
      "Cond:0#10##11 - Act:0 - Num:1 [fit: 0.000, exp: 103.00, pred: 242.647]\n",
      "Cond:001#00#1 - Act:1 - Num:1 [fit: 0.000, exp: 477.00, pred: 342.664]\n",
      "Cond:00100011 - Act:2 - Num:1 [fit: 0.000, exp: 79.00, pred: 232.103]\n",
      "Cond:00100#11 - Act:3 - Num:1 [fit: 0.024, exp: 92.00, pred: 196.258]\n",
      "Cond:0#100#11 - Act:4 - Num:1 [fit: 0.000, exp: 42.00, pred: 221.980]\n",
      "Cond:001#0011 - Act:5 - Num:1 [fit: 0.000, exp: 34.00, pred: 208.798]\n",
      "Cond:00100011 - Act:6 - Num:1 [fit: 0.000, exp: 72.00, pred: 183.993]\n",
      "Cond:00100#11 - Act:7 - Num:1 [fit: 0.000, exp: 33.00, pred: 196.297]\n",
      "Cond:01010101 - Act:0 - Num:1 [fit: 0.000, exp: 111.00, pred: 281.624]\n",
      "Cond:010101#1 - Act:1 - Num:1 [fit: 0.000, exp: 281.00, pred: 244.233]\n",
      "Cond:010#0101 - Act:2 - Num:1 [fit: 0.000, exp: 114.00, pred: 344.103]\n",
      "Cond:0#010101 - Act:3 - Num:1 [fit: 0.000, exp: 47.00, pred: 222.038]\n",
      "Cond:0101#101 - Act:4 - Num:1 [fit: 0.000, exp: 107.00, pred: 264.862]\n",
      "Cond:0101#101 - Act:5 - Num:1 [fit: 0.000, exp: 80.00, pred: 235.785]\n",
      "Cond:01010101 - Act:6 - Num:1 [fit: 0.000, exp: 45.00, pred: 181.416]\n",
      "Cond:01#101#1 - Act:7 - Num:1 [fit: 0.000, exp: 123.00, pred: 225.008]\n",
      "Cond:1000#010 - Act:0 - Num:1 [fit: 0.000, exp: 116.00, pred: 181.148]\n",
      "Cond:1#00001# - Act:1 - Num:1 [fit: 0.000, exp: 166.00, pred: 221.671]\n",
      "Cond:1000#010 - Act:2 - Num:1 [fit: 0.000, exp: 46.00, pred: 263.870]\n",
      "Cond:10000#10 - Act:3 - Num:1 [fit: 0.000, exp: 50.00, pred: 183.274]\n",
      "Cond:1000001# - Act:5 - Num:1 [fit: 0.000, exp: 30.00, pred: 202.708]\n",
      "Cond:10#0001# - Act:6 - Num:1 [fit: 0.000, exp: 39.00, pred: 190.448]\n",
      "Cond:1##0001# - Act:7 - Num:1 [fit: 0.001, exp: 74.00, pred: 172.910]\n",
      "Cond:11001011 - Act:0 - Num:1 [fit: 0.000, exp: 607.00, pred: 357.581]\n",
      "Cond:1010###0 - Act:0 - Num:2 [fit: 0.000, exp: 304.00, pred: 223.333]\n",
      "Cond:#1010110 - Act:4 - Num:1 [fit: 0.000, exp: 142.00, pred: 189.940]\n",
      "Cond:1#1#0101 - Act:2 - Num:3 [fit: 0.000, exp: 167.00, pred: 232.517]\n",
      "Cond:11#0##11 - Act:2 - Num:1 [fit: 0.000, exp: 301.00, pred: 274.907]\n",
      "Cond:1000100# - Act:0 - Num:3 [fit: 0.000, exp: 123.00, pred: 209.615]\n",
      "Cond:1000#000 - Act:1 - Num:2 [fit: 0.000, exp: 71.00, pred: 262.024]\n",
      "Cond:1#00##00 - Act:2 - Num:3 [fit: 0.000, exp: 176.00, pred: 322.858]\n",
      "Cond:1#00##00 - Act:3 - Num:3 [fit: 0.000, exp: 35.00, pred: 186.863]\n",
      "Cond:1000##0# - Act:4 - Num:3 [fit: 0.000, exp: 33.00, pred: 209.830]\n",
      "Cond:10#0100# - Act:5 - Num:2 [fit: 0.000, exp: 180.00, pred: 191.832]\n",
      "Cond:10001000 - Act:6 - Num:1 [fit: 0.000, exp: 114.00, pred: 224.005]\n",
      "Cond:10#0#0#0 - Act:7 - Num:3 [fit: 0.000, exp: 218.00, pred: 171.153]\n",
      "Cond:001000## - Act:0 - Num:3 [fit: 0.000, exp: 469.00, pred: 326.018]\n",
      "Cond:0010##10 - Act:1 - Num:2 [fit: 0.000, exp: 105.00, pred: 311.074]\n",
      "Cond:0#100#1# - Act:2 - Num:3 [fit: 0.000, exp: 107.00, pred: 274.276]\n",
      "Cond:0010001# - Act:3 - Num:3 [fit: 0.000, exp: 131.00, pred: 200.656]\n",
      "Cond:0010101# - Act:5 - Num:3 [fit: 0.180, exp: 2.00, pred: 6.391]\n",
      "Cond:##1#00#0 - Act:7 - Num:2 [fit: 0.000, exp: 137.00, pred: 218.291]\n",
      "Cond:1000##11 - Act:0 - Num:3 [fit: 0.000, exp: 55.00, pred: 208.737]\n",
      "Cond:10#0#111 - Act:1 - Num:3 [fit: 0.000, exp: 90.00, pred: 230.450]\n",
      "Cond:10001111 - Act:2 - Num:3 [fit: 0.005, exp: 18.00, pred: 213.917]\n",
      "Cond:00001111 - Act:3 - Num:3 [fit: 0.051, exp: 4.00, pred: 79.666]\n",
      "Cond:#0001111 - Act:4 - Num:3 [fit: 0.002, exp: 19.00, pred: 208.780]\n",
      "Cond:10001#11 - Act:5 - Num:3 [fit: 0.004, exp: 23.00, pred: 200.334]\n",
      "Cond:10001#11 - Act:6 - Num:3 [fit: 0.002, exp: 25.00, pred: 183.336]\n",
      "Cond:10#011#1 - Act:7 - Num:3 [fit: 0.011, exp: 17.00, pred: 198.982]\n",
      "Cond:010#1101 - Act:0 - Num:3 [fit: 0.000, exp: 91.00, pred: 339.992]\n",
      "Cond:00#1#101 - Act:1 - Num:2 [fit: 0.000, exp: 138.00, pred: 250.027]\n",
      "Cond:010##1#1 - Act:2 - Num:3 [fit: 0.000, exp: 164.00, pred: 346.029]\n",
      "Cond:010#1101 - Act:3 - Num:2 [fit: 0.000, exp: 28.00, pred: 250.904]\n",
      "Cond:##011#01 - Act:6 - Num:3 [fit: 0.000, exp: 30.00, pred: 206.393]\n",
      "Cond:0#01#10# - Act:7 - Num:1 [fit: 0.000, exp: 189.00, pred: 231.468]\n",
      "Cond:1001111# - Act:0 - Num:1 [fit: 0.092, exp: 5.00, pred: 171.767]\n",
      "Cond:1#0111#1 - Act:1 - Num:1 [fit: 0.001, exp: 24.00, pred: 287.316]\n",
      "Cond:10011111 - Act:2 - Num:1 [fit: 0.000, exp: 44.00, pred: 298.425]\n",
      "Cond:10011111 - Act:3 - Num:1 [fit: 0.051, exp: 10.00, pred: 169.138]\n",
      "Cond:10011111 - Act:4 - Num:1 [fit: 0.033, exp: 6.00, pred: 119.549]\n",
      "Cond:10#11111 - Act:5 - Num:1 [fit: 0.050, exp: 12.00, pred: 165.712]\n",
      "Cond:1#011111 - Act:6 - Num:1 [fit: 0.033, exp: 6.00, pred: 132.637]\n",
      "Cond:#0011#11 - Act:7 - Num:1 [fit: 0.017, exp: 15.00, pred: 170.762]\n",
      "Cond:10011100 - Act:0 - Num:1 [fit: 0.000, exp: 105.00, pred: 248.766]\n",
      "Cond:1#01110# - Act:1 - Num:1 [fit: 0.000, exp: 175.00, pred: 224.497]\n",
      "Cond:10011100 - Act:2 - Num:1 [fit: 0.000, exp: 113.00, pred: 352.610]\n",
      "Cond:1001#100 - Act:3 - Num:1 [fit: 0.001, exp: 43.00, pred: 234.762]\n",
      "Cond:1001#100 - Act:4 - Num:1 [fit: 0.002, exp: 43.00, pred: 239.687]\n",
      "Cond:10011100 - Act:5 - Num:1 [fit: 0.000, exp: 52.00, pred: 252.306]\n",
      "Cond:1001#10# - Act:6 - Num:1 [fit: 0.000, exp: 37.00, pred: 257.901]\n",
      "Cond:10011100 - Act:7 - Num:1 [fit: 0.001, exp: 43.00, pred: 231.603]\n",
      "Cond:00111101 - Act:0 - Num:1 [fit: 0.000, exp: 98.00, pred: 388.863]\n",
      "Cond:00#11101 - Act:2 - Num:1 [fit: 0.016, exp: 136.00, pred: 293.143]\n",
      "Cond:0011110# - Act:3 - Num:1 [fit: 0.034, exp: 34.00, pred: 224.717]\n",
      "Cond:00#1110# - Act:4 - Num:1 [fit: 0.137, exp: 51.00, pred: 168.981]\n",
      "Cond:00111101 - Act:5 - Num:1 [fit: 0.021, exp: 40.00, pred: 246.920]\n",
      "Cond:0#111101 - Act:6 - Num:1 [fit: 0.122, exp: 79.00, pred: 202.144]\n",
      "Cond:00#11101 - Act:7 - Num:1 [fit: 0.002, exp: 23.00, pred: 180.773]\n",
      "Cond:00001000 - Act:0 - Num:1 [fit: 0.000, exp: 106.00, pred: 397.217]\n",
      "Cond:000010#0 - Act:1 - Num:1 [fit: 0.000, exp: 63.00, pred: 204.587]\n",
      "Cond:0#001#0# - Act:2 - Num:1 [fit: 0.004, exp: 28.00, pred: 200.306]\n",
      "Cond:00001000 - Act:3 - Num:1 [fit: 0.000, exp: 44.00, pred: 203.193]\n",
      "Cond:00001000 - Act:4 - Num:1 [fit: 0.001, exp: 40.00, pred: 218.176]\n",
      "Cond:00001000 - Act:5 - Num:1 [fit: 0.000, exp: 151.00, pred: 211.624]\n",
      "Cond:#0001000 - Act:6 - Num:1 [fit: 0.000, exp: 156.00, pred: 223.937]\n",
      "Cond:00001000 - Act:7 - Num:1 [fit: 0.000, exp: 75.00, pred: 192.189]\n",
      "Cond:0#000101 - Act:0 - Num:1 [fit: 0.000, exp: 140.00, pred: 200.948]\n",
      "Cond:00#00101 - Act:1 - Num:1 [fit: 0.000, exp: 225.00, pred: 320.982]\n",
      "Cond:00000101 - Act:2 - Num:1 [fit: 0.000, exp: 65.00, pred: 241.336]\n",
      "Cond:000001#1 - Act:3 - Num:1 [fit: 0.000, exp: 60.00, pred: 219.815]\n",
      "Cond:00000101 - Act:4 - Num:1 [fit: 0.000, exp: 75.00, pred: 202.751]\n",
      "Cond:0#0001#1 - Act:5 - Num:1 [fit: 0.000, exp: 46.00, pred: 185.357]\n",
      "Cond:000#0101 - Act:6 - Num:1 [fit: 0.000, exp: 59.00, pred: 201.637]\n",
      "Cond:00000101 - Act:7 - Num:1 [fit: 0.000, exp: 36.00, pred: 191.142]\n",
      "Cond:00100#01 - Act:2 - Num:1 [fit: 0.000, exp: 110.00, pred: 250.241]\n",
      "Cond:0#100#01 - Act:3 - Num:1 [fit: 0.000, exp: 49.00, pred: 238.205]\n",
      "Cond:#01#0001 - Act:4 - Num:1 [fit: 0.100, exp: 87.00, pred: 205.427]\n",
      "Cond:00100001 - Act:5 - Num:1 [fit: 0.000, exp: 81.00, pred: 192.137]\n",
      "Cond:0#100001 - Act:7 - Num:1 [fit: 0.000, exp: 53.00, pred: 202.469]\n",
      "Cond:#10#000# - Act:0 - Num:3 [fit: 0.000, exp: 190.00, pred: 384.495]\n",
      "Cond:01##0#00 - Act:1 - Num:3 [fit: 0.000, exp: 379.00, pred: 251.953]\n",
      "Cond:010##0#0 - Act:2 - Num:3 [fit: 0.000, exp: 68.00, pred: 203.476]\n",
      "Cond:0#000000 - Act:3 - Num:3 [fit: 0.000, exp: 51.00, pred: 195.868]\n",
      "Cond:#1#0#00# - Act:4 - Num:3 [fit: 0.000, exp: 64.00, pred: 196.865]\n",
      "Cond:010#0000 - Act:5 - Num:3 [fit: 0.012, exp: 44.00, pred: 201.815]\n",
      "Cond:0#00000# - Act:6 - Num:3 [fit: 0.025, exp: 46.00, pred: 202.230]\n",
      "Cond:01000#0# - Act:7 - Num:3 [fit: 0.000, exp: 45.00, pred: 186.711]\n",
      "Cond:11#100#0 - Act:0 - Num:3 [fit: 0.000, exp: 132.00, pred: 448.885]\n",
      "Cond:11110##0 - Act:1 - Num:3 [fit: 0.000, exp: 90.00, pred: 220.807]\n",
      "Cond:1#1##000 - Act:2 - Num:2 [fit: 0.000, exp: 272.00, pred: 258.685]\n",
      "Cond:11#10#00 - Act:3 - Num:3 [fit: 0.001, exp: 21.00, pred: 184.010]\n",
      "Cond:11#100#0 - Act:4 - Num:3 [fit: 0.001, exp: 23.00, pred: 174.833]\n",
      "Cond:111#0000 - Act:5 - Num:2 [fit: 0.000, exp: 38.00, pred: 196.332]\n",
      "Cond:111#0000 - Act:6 - Num:3 [fit: 0.000, exp: 74.00, pred: 218.973]\n",
      "Cond:11110#00 - Act:7 - Num:1 [fit: 0.017, exp: 115.00, pred: 218.292]\n",
      "Cond:#001#010 - Act:0 - Num:1 [fit: 0.000, exp: 170.00, pred: 211.437]\n",
      "Cond:00#00#10 - Act:1 - Num:2 [fit: 0.000, exp: 105.00, pred: 311.074]\n",
      "Cond:00#10010 - Act:2 - Num:1 [fit: 0.000, exp: 99.00, pred: 295.559]\n",
      "Cond:00010#10 - Act:3 - Num:1 [fit: 0.001, exp: 44.00, pred: 196.469]\n",
      "Cond:000#0010 - Act:5 - Num:1 [fit: 0.008, exp: 167.00, pred: 214.908]\n",
      "Cond:00010010 - Act:6 - Num:1 [fit: 0.000, exp: 56.00, pred: 168.993]\n",
      "Cond:0#010010 - Act:7 - Num:1 [fit: 0.000, exp: 103.00, pred: 192.818]\n",
      "Cond:09010010 - Act:0 - Num:2 [fit: 0.000, exp: 104.00, pred: 227.954]\n",
      "Cond:010100#0 - Act:1 - Num:3 [fit: 0.100, exp: 1.00, pred: 213.321]\n",
      "Cond:09##001# - Act:2 - Num:2 [fit: 0.000, exp: 177.00, pred: 218.135]\n",
      "Cond:09010010 - Act:3 - Num:1 [fit: 0.148, exp: 81.00, pred: 197.985]\n",
      "Cond:0#010#10 - Act:5 - Num:2 [fit: 0.000, exp: 292.00, pred: 184.217]\n",
      "Cond:0#0100#0 - Act:6 - Num:3 [fit: 0.000, exp: 100.00, pred: 199.957]\n",
      "Cond:01110100 - Act:0 - Num:1 [fit: 0.000, exp: 38.00, pred: 300.663]\n",
      "Cond:0#110100 - Act:1 - Num:1 [fit: 0.000, exp: 177.00, pred: 178.741]\n",
      "Cond:01110100 - Act:2 - Num:1 [fit: 0.001, exp: 26.00, pred: 204.514]\n",
      "Cond:01110100 - Act:3 - Num:1 [fit: 0.002, exp: 27.00, pred: 178.963]\n",
      "Cond:01110100 - Act:4 - Num:1 [fit: 0.000, exp: 60.00, pred: 175.630]\n",
      "Cond:0111010# - Act:6 - Num:1 [fit: 0.001, exp: 45.00, pred: 214.497]\n",
      "Cond:0#110100 - Act:7 - Num:1 [fit: 0.000, exp: 90.00, pred: 192.686]\n",
      "Cond:01111110 - Act:0 - Num:1 [fit: 0.000, exp: 98.00, pred: 291.324]\n",
      "Cond:011#1110 - Act:1 - Num:1 [fit: 0.000, exp: 134.00, pred: 215.756]\n",
      "Cond:01111110 - Act:2 - Num:1 [fit: 0.000, exp: 70.00, pred: 242.932]\n",
      "Cond:0111##10 - Act:3 - Num:1 [fit: 0.000, exp: 49.00, pred: 206.540]\n",
      "Cond:01111110 - Act:4 - Num:1 [fit: 0.000, exp: 42.00, pred: 203.797]\n",
      "Cond:01#11110 - Act:5 - Num:1 [fit: 0.000, exp: 37.00, pred: 215.968]\n",
      "Cond:01111##0 - Act:6 - Num:1 [fit: 0.000, exp: 29.00, pred: 207.651]\n",
      "Cond:01111110 - Act:7 - Num:1 [fit: 0.000, exp: 39.00, pred: 202.758]\n",
      "Cond:111#0000 - Act:7 - Num:1 [fit: 0.017, exp: 114.00, pred: 218.292]\n",
      "Cond:00#1#101 - Act:0 - Num:1 [fit: 0.000, exp: 89.00, pred: 388.863]\n",
      "Cond:0901#01# - Act:1 - Num:3 [fit: 0.000, exp: 449.00, pred: 299.218]\n",
      "Cond:0##11101 - Act:1 - Num:3 [fit: 0.000, exp: 310.00, pred: 247.948]\n",
      "Cond:10#0100# - Act:2 - Num:1 [fit: 0.000, exp: 363.00, pred: 308.741]\n",
      "Cond:010#1101 - Act:7 - Num:1 [fit: 0.000, exp: 61.00, pred: 251.027]\n",
      "Cond:##1#00#0 - Act:0 - Num:1 [fit: 0.000, exp: 239.00, pred: 429.694]\n",
      "Cond:10001#11 - Act:3 - Num:1 [fit: 0.001, exp: 22.00, pred: 225.940]\n",
      "Cond:1010###0 - Act:1 - Num:1 [fit: 0.000, exp: 387.00, pred: 359.280]\n",
      "Cond:01010#1# - Act:3 - Num:1 [fit: 0.000, exp: 37.00, pred: 175.175]\n",
      "Cond:01010#1# - Act:4 - Num:1 [fit: 0.000, exp: 106.00, pred: 189.940]\n",
      "Cond:#11#1000 - Act:0 - Num:3 [fit: 0.000, exp: 334.00, pred: 361.607]\n",
      "Cond:09##001# - Act:3 - Num:1 [fit: 0.148, exp: 75.00, pred: 197.985]\n",
      "Cond:911#1000 - Act:7 - Num:2 [fit: 0.266, exp: 91.00, pred: 175.407]\n",
      "Cond:1190010# - Act:3 - Num:3 [fit: 0.000, exp: 122.00, pred: 224.328]\n",
      "Cond:##900#01 - Act:6 - Num:3 [fit: 0.000, exp: 92.00, pred: 195.761]\n",
      "Cond:0#010#10 - Act:2 - Num:1 [fit: 0.000, exp: 257.00, pred: 290.572]\n",
      "Cond:09010010 - Act:1 - Num:1 [fit: 0.000, exp: 345.00, pred: 299.218]\n",
      "Cond:1000#000 - Act:6 - Num:1 [fit: 0.000, exp: 73.00, pred: 224.005]\n"
     ]
    }
   ],
   "source": [
    "for cl in explore_population:\n",
    "    print(str(cl))"
   ]
  },
  {
   "cell_type": "code",
   "execution_count": 7,
   "metadata": {},
   "outputs": [
    {
     "data": {
      "text/plain": [
       "<matplotlib.legend.Legend at 0x29d8c235748>"
      ]
     },
     "execution_count": 7,
     "metadata": {},
     "output_type": "execute_result"
    },
    {
     "data": {
      "image/png": "[encoded data removed]",
      "text/plain": [
       "<Figure size 432x288 with 1 Axes>"
      ]
     },
     "metadata": {
      "needs_background": "light"
     },
     "output_type": "display_data"
    }
   ],
   "source": [
    "import pandas as pd\n",
    "import numpy as np\n",
    "\n",
    "df = pd.DataFrame(metric[\"average_specificity\"] for metric in explore_metrics)\n",
    "ax = df.plot()\n",
    "ax.set_xlabel(\"trial\")\n",
    "ax.set_ylabel(\"average_specificity\")\n",
    "ax.legend([\"specificity\"])\n"
   ]
  },
  {
   "cell_type": "code",
   "execution_count": 8,
   "metadata": {},
   "outputs": [
    {
     "data": {
      "text/plain": [
       "<matplotlib.legend.Legend at 0x29d8dcc8308>"
      ]
     },
     "execution_count": 8,
     "metadata": {},
     "output_type": "execute_result"
    },
    {
     "data": {
      "image/png": "[encoded data removed]",
      "text/plain": [
       "<Figure size 432x288 with 1 Axes>"
      ]
     },
     "metadata": {
      "needs_background": "light"
     },
     "output_type": "display_data"
    }
   ],
   "source": [
    "df = pd.DataFrame(metric[\"fraction_accuracy\"] for metric in explore_metrics)\n",
    "ax = df.plot()\n",
    "ax.set_xlabel(\"trial\")\n",
    "ax.set_ylabel(\"fraction accuracy\")\n",
    "ax.legend([\"fraction accuracy\"])\n"
   ]
  },
  {
   "cell_type": "code",
   "execution_count": 9,
   "metadata": {},
   "outputs": [
    {
     "data": {
      "image/png": "[encoded data removed]",
      "text/plain": [
       "<Figure size 432x288 with 1 Axes>"
      ]
     },
     "metadata": {
      "needs_background": "light"
     },
     "output_type": "display_data"
    }
   ],
   "source": [
    "\n",
    "df = pd.DataFrame(zip([metric[\"population\"] for metric in explore_metrics], [metric[\"numerosity\"] for metric in explore_metrics]))\n",
    "ax = df.plot()\n",
    "ax.set_xlabel(\"trial\")\n",
    "ax.set_ylabel(\"population\")\n",
    "ax.legend([\"pop\", \"num\"])\n",
    "\n",
    "steps_averaged = []\n"
   ]
  },
  {
   "cell_type": "code",
   "execution_count": 10,
   "metadata": {},
   "outputs": [
    {
     "data": {
      "text/plain": [
       "<matplotlib.legend.Legend at 0x29d8ddc4c08>"
      ]
     },
     "execution_count": 10,
     "metadata": {},
     "output_type": "execute_result"
    },
    {
     "data": {
      "image/png": "[encoded data removed]",
      "text/plain": [
       "<Figure size 432x288 with 1 Axes>"
      ]
     },
     "metadata": {
      "needs_background": "light"
     },
     "output_type": "display_data"
    }
   ],
   "source": [
    "\n",
    "\n",
    "xf = [metric[\"steps_in_trial\"] for metric in explore_metrics]\n",
    "temp_df = np.array_split(xf, 20)\n",
    "for i in range(len(temp_df)):\n",
    "    temp_df[i] = np.mean(temp_df[i]) \n",
    "df = pd.DataFrame(temp_df)\n",
    "# df = pd.DataFrame(metric[\"steps_in_trial\"] for metric in explore_metrics)\n",
    "ax = df.plot()\n",
    "ax.set_xlabel(\"trial grouped up[*50]\")\n",
    "ax.set_ylabel(\"steps for solution\")\n",
    "ax.legend([\"steps\"])\n"
   ]
  },
  {
   "cell_type": "code",
   "execution_count": null,
   "metadata": {},
   "outputs": [],
   "source": []
  },
  {
   "cell_type": "code",
   "execution_count": null,
   "metadata": {},
   "outputs": [],
   "source": [
    "\n",
    "\n"
   ]
  }
 ],
 "metadata": {
  "kernelspec": {
   "display_name": "Python 3",
   "language": "python",
   "name": "python3"
  },
  "language_info": {
   "codemirror_mode": {
    "name": "ipython",
    "version": 3
   },
   "file_extension": ".py",
   "mimetype": "text/x-python",
   "name": "python",
   "nbconvert_exporter": "python",
   "pygments_lexer": "ipython3",
   "version": "3.7.10"
  }
 },
 "nbformat": 4,
 "nbformat_minor": 1
}
