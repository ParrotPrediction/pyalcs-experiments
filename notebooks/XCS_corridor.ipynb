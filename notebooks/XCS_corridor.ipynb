{
 "cells": [
  {
   "cell_type": "code",
   "execution_count": 5,
   "metadata": {
    "collapsed": true
   },
   "outputs": [],
   "source": [
    "# logging \n",
    "import logging\n",
    "logging.basicConfig(level=logging.INFO)\n",
    "logger = logging.getLogger(__name__)\n"
   ]
  },
  {
   "cell_type": "code",
   "execution_count": 6,
   "metadata": {},
   "outputs": [
    {
     "name": "stdout",
     "output_type": "stream",
     "text": [
      "[..........X........$]\n"
     ]
    }
   ],
   "source": [
    "# environment setup\n",
    "import gym\n",
    "# noinspection PyUnresolvedReferences\n",
    "import gym_corridor\n",
    "\n",
    "\n",
    "# maze = gym.make('corridor-100-v0')\n",
    "# maze = gym.make('corridor-40-v0')\n",
    "maze = gym.make('corridor-20-v0')\n",
    "\n",
    "maze.reset()\n",
    "maze.render()"
   ]
  },
  {
   "cell_type": "code",
   "execution_count": 9,
   "metadata": {
    "collapsed": false
   },
   "outputs": [
    {
     "name": "stderr",
     "output_type": "stream",
     "text": [
      "INFO:lcs.agents.Agent:{'trial': 0, 'steps_in_trial': 200, 'reward': 9.900947691176333e-39, 'population': 28, 'knowledge': 0.7, 'numerosity': 92}\n"
     ]
    },
    {
     "name": "stderr",
     "output_type": "stream",
     "text": [
      "INFO:lcs.agents.Agent:{'trial': 50, 'steps_in_trial': 9, 'reward': 183.87686566743093, 'population': 38, 'knowledge': 0.95, 'numerosity': 176}\n"
     ]
    },
    {
     "name": "stderr",
     "output_type": "stream",
     "text": [
      "INFO:lcs.agents.Agent:{'trial': 100, 'steps_in_trial': 11, 'reward': 187.15347496865974, 'population': 38, 'knowledge': 0.95, 'numerosity': 180}\n"
     ]
    },
    {
     "name": "stderr",
     "output_type": "stream",
     "text": [
      "INFO:lcs.agents.Agent:{'trial': 150, 'steps_in_trial': 26, 'reward': 185.63509742568007, 'population': 38, 'knowledge': 0.95, 'numerosity': 182}\n"
     ]
    },
    {
     "name": "stderr",
     "output_type": "stream",
     "text": [
      "INFO:lcs.agents.Agent:{'trial': 200, 'steps_in_trial': 12, 'reward': 207.2434554850408, 'population': 38, 'knowledge': 0.95, 'numerosity': 182}\n"
     ]
    },
    {
     "name": "stderr",
     "output_type": "stream",
     "text": [
      "INFO:lcs.agents.Agent:{'trial': 250, 'steps_in_trial': 39, 'reward': 173.6313199046093, 'population': 38, 'knowledge': 0.95, 'numerosity': 182}\n"
     ]
    },
    {
     "name": "stderr",
     "output_type": "stream",
     "text": [
      "INFO:lcs.agents.Agent:{'trial': 300, 'steps_in_trial': 15, 'reward': 151.8576765704477, 'population': 38, 'knowledge': 0.85, 'numerosity': 200}\n"
     ]
    },
    {
     "name": "stderr",
     "output_type": "stream",
     "text": [
      "INFO:lcs.agents.Agent:{'trial': 350, 'steps_in_trial': 20, 'reward': 145.44320775893124, 'population': 38, 'knowledge': 0.85, 'numerosity': 200}\n"
     ]
    },
    {
     "name": "stderr",
     "output_type": "stream",
     "text": [
      "INFO:lcs.agents.Agent:{'trial': 400, 'steps_in_trial': 21, 'reward': 169.9271720767655, 'population': 38, 'knowledge': 0.85, 'numerosity': 200}\n"
     ]
    },
    {
     "name": "stderr",
     "output_type": "stream",
     "text": [
      "INFO:lcs.agents.Agent:{'trial': 450, 'steps_in_trial': 42, 'reward': 133.68769916487705, 'population': 38, 'knowledge': 0.85, 'numerosity': 200}\n"
     ]
    },
    {
     "name": "stdout",
     "output_type": "stream",
     "text": [
      "Cond:11 - Act:0 - Num:9 [fit: 0.004, exp: 245.00, pred: 171.846]\nCond:11 - Act:1 - Num:6 [fit: 0.000, exp: 564.00, pred: 206.975]\nCond:12 - Act:0 - Num:7 [fit: 0.011, exp: 250.00, pred: 167.618]\nCond:12 - Act:1 - Num:5 [fit: 0.000, exp: 596.00, pred: 196.972]\nCond:13 - Act:0 - Num:8 [fit: 0.006, exp: 252.00, pred: 151.764]\nCond:13 - Act:1 - Num:5 [fit: 0.000, exp: 615.00, pred: 179.142]\nCond:#0 - Act:0 - Num:7 [fit: 0.536, exp: 214.00, pred: 187.891]\nCond:10 - Act:1 - Num:5 [fit: 0.000, exp: 533.00, pred: 215.463]\nCond:9 - Act:0 - Num:4 [fit: 0.000, exp: 163.00, pred: 201.656]\nCond:9 - Act:1 - Num:7 [fit: 0.000, exp: 477.00, pred: 236.483]\nCond:8 - Act:0 - Num:4 [fit: 0.000, exp: 124.00, pred: 200.185]\nCond:8 - Act:1 - Num:4 [fit: 0.000, exp: 402.00, pred: 266.716]\nCond:7 - Act:0 - Num:3 [fit: 0.000, exp: 120.00, pred: 193.588]\nCond:7 - Act:1 - Num:6 [fit: 0.000, exp: 342.00, pred: 292.948]\nCond:6 - Act:0 - Num:7 [fit: 0.000, exp: 116.00, pred: 200.577]\nCond:6 - Act:1 - Num:5 [fit: 0.000, exp: 298.00, pred: 293.510]\nCond:5 - Act:0 - Num:6 [fit: 0.000, exp: 101.00, pred: 202.388]\nCond:5 - Act:1 - Num:3 [fit: 0.000, exp: 270.00, pred: 309.165]\nCond:4 - Act:0 - Num:3 [fit: 0.001, exp: 74.00, pred: 205.831]\nCond:4 - Act:1 - Num:5 [fit: 0.000, exp: 227.00, pred: 323.220]\nCond:3 - Act:0 - Num:2 [fit: 0.000, exp: 92.00, pred: 188.239]\nCond:# - Act:1 - Num:6 [fit: 0.000, exp: 1197.00, pred: 272.849]\nCond:2 - Act:0 - Num:2 [fit: 0.000, exp: 146.00, pred: 182.526]\nCond:# - Act:1 - Num:7 [fit: 0.000, exp: 1163.00, pred: 272.849]\nCond:1 - Act:0 - Num:2 [fit: 0.000, exp: 102.00, pred: 154.963]\nCond:1 - Act:1 - Num:6 [fit: 0.000, exp: 207.00, pred: 317.622]\nCond:0 - Act:0 - Num:8 [fit: 0.003, exp: 92.00, pred: 132.251]\nCond:0 - Act:1 - Num:5 [fit: 0.000, exp: 141.00, pred: 304.373]\nCond:18 - Act:0 - Num:5 [fit: 0.232, exp: 199.00, pred: 110.126]\nCond:18 - Act:1 - Num:6 [fit: 0.000, exp: 495.00, pred: 140.772]\nCond:15 - Act:0 - Num:7 [fit: 0.238, exp: 249.00, pred: 124.643]\nCond:15 - Act:1 - Num:7 [fit: 0.000, exp: 688.00, pred: 160.513]\nCond:16 - Act:0 - Num:5 [fit: 0.009, exp: 269.00, pred: 121.695]\nCond:16 - Act:1 - Num:7 [fit: 0.000, exp: 693.00, pred: 155.457]\nCond:17 - Act:0 - Num:4 [fit: 0.083, exp: 247.00, pred: 114.836]\nCond:17 - Act:1 - Num:5 [fit: 0.000, exp: 673.00, pred: 149.069]\nCond:14 - Act:0 - Num:2 [fit: 0.380, exp: 244.00, pred: 132.957]\nCond:14 - Act:1 - Num:5 [fit: 0.000, exp: 644.00, pred: 168.804]\n[147.11410928054846, 304.4519299527007]\n"
     ]
    }
   ],
   "source": [
    "from lcs.agents.xcs import XCS, Configuration\n",
    "\n",
    "# TODO: Move to utils\n",
    "def xcs_corridor_knowledge(xcs: XCS, environment):\n",
    "    nr_correct = 0\n",
    "    position = 0\n",
    "    while environment.observation_space.contains(position):\n",
    "        if any([True for cl in xcs.population if cl.does_match(str(position)) and\n",
    "                                                 cl.action == 1 and\n",
    "                                                 cl.wildcard_number == 0]):\n",
    "            nr_correct += 1\n",
    "        position += 1\n",
    "    return nr_correct / position\n",
    "\n",
    "\n",
    "def xcs_corridor_metrics(xcs: XCS, environment):\n",
    "    return {\n",
    "        'population': len(xcs.population),\n",
    "        'knowledge': xcs_corridor_knowledge(xcs, environment),\n",
    "        'numerosity': sum(cl.numerosity for cl in xcs.population)\n",
    "    }\n",
    "\n",
    "\n",
    "cfg = Configuration(number_of_actions=2,\n",
    "                    metrics_trial_frequency=1,\n",
    "                    user_metrics_collector_fcn=xcs_corridor_metrics)\n",
    "\n",
    "agent = XCS(cfg)\n",
    "explore_population, explore_metrics = agent.explore(maze, 500, False)\n",
    "\n",
    "for cl in explore_population:\n",
    "    print(str(cl))\n",
    "print(explore_population.prediction_array)"
   ]
  },
  {
   "cell_type": "code",
   "execution_count": 10,
   "metadata": {},
   "outputs": [
    {
     "data": {
      "text/plain": [
       "(0.0, 250.0)"
      ]
     },
     "execution_count": 10,
     "metadata": {},
     "output_type": "execute_result"
    },
    {
     "data": {
      "image/png": "[encoded data removed]",
      "text/plain": [
       "<Figure size 432x288 with 1 Axes>"
      ]
     },
     "metadata": {},
     "output_type": "display_data"
    },
    {
     "data": {
      "image/png": "[encoded data removed]",
      "text/plain": [
       "<Figure size 432x288 with 1 Axes>"
      ]
     },
     "metadata": {},
     "output_type": "display_data"
    },
    {
     "data": {
      "image/png": "[encoded data removed]",
      "text/plain": [
       "<Figure size 432x288 with 1 Axes>"
      ]
     },
     "metadata": {},
     "output_type": "display_data"
    }
   ],
   "source": [
    "import pandas as pd\n",
    "import numpy as np\n",
    "\n",
    "# TODO Merge explore and exploit\n",
    "\n",
    "df = pd.DataFrame(metric[\"knowledge\"] for metric in explore_metrics)\n",
    "ax = df.plot()\n",
    "ax.set_xlabel(\"trial\")\n",
    "ax.set_ylabel(\"knowledge %\")\n",
    "ax.legend([\"knowledge %\"])\n",
    "ax.set_ylim(ymin=0, ymax=1)\n",
    "\n",
    "\n",
    "df = pd.DataFrame(zip([metric[\"population\"] for metric in explore_metrics], [metric[\"numerosity\"] for metric in explore_metrics]))\n",
    "ax = df.plot()\n",
    "ax.set_xlabel(\"trial\")\n",
    "ax.set_ylabel(\"population\")\n",
    "ax.legend([\"pop\", \"num\"])\n",
    "ax.set_ylim(ymin=0, ymax=250)\n",
    "\n",
    "\n",
    "xf = [metric[\"steps_in_trial\"] for metric in explore_metrics]\n",
    "temp_df = np.array_split(xf, 20)\n",
    "for i in range(len(temp_df)):\n",
    "    temp_df[i] = np.mean(temp_df[i]) \n",
    "df = pd.DataFrame(temp_df)\n",
    "ax = df.plot()\n",
    "ax.set_xlabel(\"trial grouped up\")\n",
    "ax.set_ylabel(\"steps for solution\")\n",
    "ax.legend([\"steps\"])\n",
    "ax.set_ylim(ymin=0, ymax=250)"
   ]
  },
  {
   "cell_type": "code",
   "execution_count": 1,
   "metadata": {},
   "outputs": [],
   "source": []
  },
  {
   "cell_type": "code",
   "execution_count": null,
   "metadata": {},
   "outputs": [],
   "source": []
  }
 ],
 "metadata": {
  "kernelspec": {
   "display_name": "Python 2",
   "language": "python",
   "name": "python2"
  },
  "language_info": {
   "codemirror_mode": {
    "name": "ipython",
    "version": 2
   },
   "file_extension": ".py",
   "mimetype": "text/x-python",
   "name": "python",
   "nbconvert_exporter": "python",
   "pygments_lexer": "ipython2",
   "version": "2.7.6"
  }
 },
 "nbformat": 4,
 "nbformat_minor": 0
}
