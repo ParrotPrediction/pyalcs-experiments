{
 "cells": [
  {
   "cell_type": "code",
   "execution_count": 11,
   "metadata": {},
   "outputs": [],
   "source": [
    "# activate pyalcs-experiments\n",
    "\n",
    "# logging \n",
    "import logging\n",
    "logging.basicConfig(level=logging.INFO)\n",
    "logger = logging.getLogger(__name__)\n"
   ]
  },
  {
   "cell_type": "code",
   "execution_count": 12,
   "metadata": {},
   "outputs": [
    {
     "name": "stdout",
     "output_type": "stream",
     "text": [
      "[.....................................X.$]\n"
     ]
    }
   ],
   "source": [
    "# environment setup\n",
    "import gym\n",
    "# noinspection PyUnresolvedReferences\n",
    "import gym_corridor\n",
    "\n",
    "\n",
    "# maze = gym.make('corridor-100-v0')\n",
    "maze = gym.make('corridor-40-v0')\n",
    "# maze = gym.make('corridor-20-v0')\n",
    "\n",
    "maze.reset()\n",
    "maze.render()"
   ]
  },
  {
   "cell_type": "code",
   "execution_count": 13,
   "metadata": {
    "scrolled": false
   },
   "outputs": [
    {
     "name": "stderr",
     "output_type": "stream",
     "text": [
      "INFO:lcs.agents.Agent:{'trial': 0, 'steps_in_trial': 200, 'reward': [8.863654788418667e-40, 1.0062240605338938e-39], 'population': 58, 'knowledge': 0.7125, 'numerosity': 140}\n",
      "INFO:lcs.agents.Agent:{'trial': 100, 'steps_in_trial': 200, 'reward': [40.75893628699337, 21.55162427687288], 'population': 73, 'knowledge': 0.8625, 'numerosity': 201}\n",
      "INFO:lcs.agents.Agent:{'trial': 200, 'steps_in_trial': 93, 'reward': [8.847657213520396, 109.21876413546192], 'population': 73, 'knowledge': 0.8625, 'numerosity': 200}\n",
      "INFO:lcs.agents.Agent:{'trial': 300, 'steps_in_trial': 4, 'reward': [13.511487714328151, 188.08704069155374], 'population': 72, 'knowledge': 0.85, 'numerosity': 200}\n",
      "INFO:lcs.agents.Agent:{'trial': 400, 'steps_in_trial': 200, 'reward': [45.31261493477117, 52.64723177213358], 'population': 72, 'knowledge': 0.85, 'numerosity': 200}\n",
      "INFO:lcs.agents.Agent:{'trial': 500, 'steps_in_trial': 200, 'reward': [22.188368279211844, 7.818618866316086], 'population': 71, 'knowledge': 0.8375, 'numerosity': 200}\n",
      "INFO:lcs.agents.Agent:{'trial': 600, 'steps_in_trial': 200, 'reward': [11.462543810332253, 12.651777401748639], 'population': 71, 'knowledge': 0.8375, 'numerosity': 200}\n",
      "INFO:lcs.agents.Agent:{'trial': 700, 'steps_in_trial': 1, 'reward': [35.73102625014916, 228.95948464459866], 'population': 71, 'knowledge': 0.8375, 'numerosity': 200}\n",
      "INFO:lcs.agents.Agent:{'trial': 800, 'steps_in_trial': 152, 'reward': [40.76629841691825, 114.02728214877293], 'population': 70, 'knowledge': 0.825, 'numerosity': 200}\n",
      "INFO:lcs.agents.Agent:{'trial': 900, 'steps_in_trial': 17, 'reward': [13.18603265456975, 140.76359575921538], 'population': 70, 'knowledge': 0.825, 'numerosity': 200}\n"
     ]
    },
    {
     "name": "stdout",
     "output_type": "stream",
     "text": [
      "Cond:# - Act:0 - Num:8 [fit: 0.000, exp: 8644.00, pred: 116.729]\n",
      "Cond:1 - Act:1 - Num:6 [fit: 0.000, exp: 814.00, pred: 167.945]\n",
      "Cond:2 - Act:1 - Num:6 [fit: 0.000, exp: 563.00, pred: 184.253]\n",
      "Cond:3 - Act:0 - Num:2 [fit: 0.000, exp: 517.00, pred: 129.685]\n",
      "Cond:3 - Act:1 - Num:5 [fit: 0.000, exp: 567.00, pred: 181.399]\n",
      "Cond:4 - Act:0 - Num:1 [fit: 0.000, exp: 493.00, pred: 119.064]\n",
      "Cond:4 - Act:1 - Num:3 [fit: 0.000, exp: 589.00, pred: 190.995]\n",
      "Cond:5 - Act:0 - Num:1 [fit: 0.000, exp: 497.00, pred: 130.542]\n",
      "Cond:5 - Act:1 - Num:4 [fit: 0.000, exp: 589.00, pred: 151.400]\n",
      "Cond:7 - Act:0 - Num:3 [fit: 0.000, exp: 540.00, pred: 121.305]\n",
      "Cond:# - Act:1 - Num:5 [fit: 0.000, exp: 6307.00, pred: 116.803]\n",
      "Cond:8 - Act:1 - Num:4 [fit: 0.000, exp: 966.00, pred: 142.842]\n",
      "Cond:9 - Act:1 - Num:2 [fit: 0.000, exp: 1449.00, pred: 117.761]\n",
      "Cond:10 - Act:0 - Num:3 [fit: 0.538, exp: 1238.00, pred: 111.289]\n",
      "Cond:#0 - Act:1 - Num:2 [fit: 0.194, exp: 4890.00, pred: 115.738]\n",
      "Cond:11 - Act:0 - Num:2 [fit: 0.141, exp: 1427.00, pred: 98.523]\n",
      "Cond:11 - Act:1 - Num:2 [fit: 0.000, exp: 1969.00, pred: 111.231]\n",
      "Cond:12 - Act:0 - Num:2 [fit: 0.000, exp: 1738.00, pred: 100.768]\n",
      "Cond:12 - Act:1 - Num:3 [fit: 0.000, exp: 1855.00, pred: 99.341]\n",
      "Cond:0 - Act:0 - Num:1 [fit: 0.008, exp: 3041.00, pred: 147.899]\n",
      "Cond:0 - Act:1 - Num:3 [fit: 0.000, exp: 1174.00, pred: 192.023]\n",
      "Cond:13 - Act:0 - Num:2 [fit: 0.000, exp: 1611.00, pred: 97.719]\n",
      "Cond:13 - Act:1 - Num:2 [fit: 0.000, exp: 1525.00, pred: 97.356]\n",
      "Cond:14 - Act:0 - Num:4 [fit: 0.009, exp: 1268.00, pred: 93.373]\n",
      "Cond:14 - Act:1 - Num:1 [fit: 0.000, exp: 1101.00, pred: 95.907]\n",
      "Cond:15 - Act:0 - Num:3 [fit: 0.371, exp: 829.00, pred: 96.778]\n",
      "Cond:15 - Act:1 - Num:3 [fit: 0.000, exp: 1061.00, pred: 95.871]\n",
      "Cond:16 - Act:0 - Num:3 [fit: 0.526, exp: 770.00, pred: 96.800]\n",
      "Cond:16 - Act:1 - Num:3 [fit: 0.000, exp: 1148.00, pred: 97.934]\n",
      "Cond:17 - Act:1 - Num:5 [fit: 0.000, exp: 1138.00, pred: 101.508]\n",
      "Cond:18 - Act:1 - Num:4 [fit: 0.000, exp: 1345.00, pred: 102.262]\n",
      "Cond:19 - Act:0 - Num:4 [fit: 0.307, exp: 994.00, pred: 94.062]\n",
      "Cond:19 - Act:1 - Num:3 [fit: 0.449, exp: 1245.00, pred: 101.295]\n",
      "Cond:20 - Act:0 - Num:5 [fit: 0.622, exp: 880.00, pred: 101.107]\n",
      "Cond:20 - Act:1 - Num:1 [fit: 0.132, exp: 1725.00, pred: 114.795]\n",
      "Cond:21 - Act:0 - Num:2 [fit: 0.313, exp: 1349.00, pred: 111.820]\n",
      "Cond:21 - Act:1 - Num:3 [fit: 0.425, exp: 1698.00, pred: 118.662]\n",
      "Cond:22 - Act:0 - Num:2 [fit: 0.473, exp: 1301.00, pred: 126.671]\n",
      "Cond:22 - Act:1 - Num:3 [fit: 0.145, exp: 1539.00, pred: 100.941]\n",
      "Cond:23 - Act:0 - Num:2 [fit: 0.262, exp: 1121.00, pred: 103.766]\n",
      "Cond:23 - Act:1 - Num:1 [fit: 0.002, exp: 2053.00, pred: 82.410]\n",
      "Cond:24 - Act:0 - Num:2 [fit: 0.624, exp: 1623.00, pred: 80.769]\n",
      "Cond:24 - Act:1 - Num:2 [fit: 0.000, exp: 2322.00, pred: 75.780]\n",
      "Cond:25 - Act:0 - Num:2 [fit: 0.071, exp: 1878.00, pred: 66.768]\n",
      "Cond:25 - Act:1 - Num:1 [fit: 0.000, exp: 2048.00, pred: 66.600]\n",
      "Cond:26 - Act:0 - Num:1 [fit: 0.002, exp: 1585.00, pred: 64.141]\n",
      "Cond:26 - Act:1 - Num:2 [fit: 0.002, exp: 1507.00, pred: 62.802]\n",
      "Cond:27 - Act:0 - Num:1 [fit: 0.007, exp: 1032.00, pred: 61.042]\n",
      "Cond:27 - Act:1 - Num:2 [fit: 0.001, exp: 1392.00, pred: 59.789]\n",
      "Cond:28 - Act:0 - Num:2 [fit: 0.000, exp: 902.00, pred: 58.258]\n",
      "Cond:28 - Act:1 - Num:1 [fit: 0.001, exp: 1363.00, pred: 61.702]\n",
      "Cond:29 - Act:0 - Num:4 [fit: 0.002, exp: 848.00, pred: 60.689]\n",
      "Cond:29 - Act:1 - Num:2 [fit: 0.004, exp: 1317.00, pred: 63.227]\n",
      "Cond:30 - Act:0 - Num:5 [fit: 0.010, exp: 792.00, pred: 62.810]\n",
      "Cond:30 - Act:1 - Num:1 [fit: 0.000, exp: 1529.00, pred: 80.102]\n",
      "Cond:31 - Act:0 - Num:2 [fit: 0.000, exp: 982.00, pred: 64.417]\n",
      "Cond:3# - Act:1 - Num:5 [fit: 0.071, exp: 10474.00, pred: 159.335]\n",
      "Cond:32 - Act:0 - Num:4 [fit: 0.004, exp: 569.00, pred: 77.288]\n",
      "Cond:32 - Act:1 - Num:1 [fit: 0.030, exp: 1201.00, pred: 100.424]\n",
      "Cond:34 - Act:0 - Num:6 [fit: 0.001, exp: 520.00, pred: 108.447]\n",
      "Cond:34 - Act:1 - Num:1 [fit: 0.000, exp: 1203.00, pred: 127.053]\n",
      "Cond:35 - Act:0 - Num:4 [fit: 0.003, exp: 557.00, pred: 110.100]\n",
      "Cond:35 - Act:1 - Num:1 [fit: 0.000, exp: 1334.00, pred: 123.033]\n",
      "Cond:36 - Act:0 - Num:3 [fit: 0.028, exp: 675.00, pred: 106.219]\n",
      "Cond:37 - Act:0 - Num:5 [fit: 0.006, exp: 575.00, pred: 107.938]\n",
      "Cond:38 - Act:0 - Num:4 [fit: 0.014, exp: 243.00, pred: 107.382]\n",
      "Cond:38 - Act:1 - Num:1 [fit: 0.000, exp: 737.00, pred: 139.883]\n",
      "Cond:17 - Act:0 - Num:5 [fit: 0.126, exp: 834.00, pred: 93.350]\n",
      "Cond:18 - Act:0 - Num:2 [fit: 0.257, exp: 766.00, pred: 98.699]\n",
      "Cond:33 - Act:0 - Num:4 [fit: 0.456, exp: 605.00, pred: 87.399]\n",
      "Following is prediction Array. In case of Corridor better the last value the better\n",
      "[99.54394025630474, 112.06356979417521]\n"
     ]
    },
    {
     "data": {
      "text/plain": [
       "(0.0, 250.0)"
      ]
     },
     "execution_count": 13,
     "metadata": {},
     "output_type": "execute_result"
    },
    {
     "data": {
      "image/png": "[encoded data removed]",
      "text/plain": [
       "<Figure size 432x288 with 1 Axes>"
      ]
     },
     "metadata": {
      "needs_background": "light"
     },
     "output_type": "display_data"
    },
    {
     "data": {
      "image/png": "[encoded data removed]",
      "text/plain": [
       "<Figure size 432x288 with 1 Axes>"
      ]
     },
     "metadata": {
      "needs_background": "light"
     },
     "output_type": "display_data"
    },
    {
     "data": {
      "image/png": "[encoded data removed]",
      "text/plain": [
       "<Figure size 432x288 with 1 Axes>"
      ]
     },
     "metadata": {
      "needs_background": "light"
     },
     "output_type": "display_data"
    }
   ],
   "source": [
    "from lcs.agents.xcs import XCS, Configuration\n",
    "\n",
    "# TODO: Move to utils\n",
    "def xcs_corridor_knowledge(xcs: XCS, environment):\n",
    "    nr_correct = 0\n",
    "    position = 0\n",
    "    while environment.observation_space.contains(position):\n",
    "        if any([True for cl in xcs.population if cl.does_match(str(position)) and\n",
    "                                                 cl.action == 1 and \n",
    "                                                 cl.wildcard_number == 0 ]):\n",
    "            nr_correct += 1\n",
    "        if any([True for cl in xcs.population if cl.does_match(str(position)) and\n",
    "                                                 cl.action == 0 and \n",
    "                                                 cl.wildcard_number == 0 ]):\n",
    "            nr_correct += 1\n",
    "        position += 1\n",
    "    return nr_correct / (position*2)\n",
    "\n",
    "\n",
    "def xcs_corridor_metrics(xcs: XCS, environment):\n",
    "    return {\n",
    "        'population': len(xcs.population),\n",
    "        'knowledge': xcs_corridor_knowledge(xcs, environment),\n",
    "        'numerosity': sum(cl.numerosity for cl in xcs.population)\n",
    "    }\n",
    "\n",
    "\n",
    "cfg = Configuration(number_of_actions=2,\n",
    "                    metrics_trial_frequency=1,\n",
    "                    covering_wildcard_chance=1,\n",
    "                    user_metrics_collector_fcn=xcs_corridor_metrics)\n",
    "\n",
    "agent = XCS(cfg)\n",
    "explore_population, explore_metrics = agent.explore(maze, 1000, False)\n",
    "\n",
    "for cl in explore_population:\n",
    "    print(str(cl))\n",
    "print(\"Following is prediction Array. In case of Corridor better the last value the better\")\n",
    "print(explore_population.prediction_array)\n",
    "\n",
    "import pandas as pd\n",
    "import numpy as np\n",
    "\n",
    "# TODO Merge explore and exploit\n",
    "\n",
    "df = pd.DataFrame(metric[\"knowledge\"] for metric in explore_metrics)\n",
    "ax = df.plot()\n",
    "ax.set_xlabel(\"trial\")\n",
    "ax.set_ylabel(\"knowledge %\")\n",
    "ax.legend([\"knowledge %\"])\n",
    "ax.set_ylim(ymin=0, ymax=1)\n",
    "\n",
    "\n",
    "df = pd.DataFrame(zip([metric[\"population\"] for metric in explore_metrics], [metric[\"numerosity\"] for metric in explore_metrics]))\n",
    "ax = df.plot()\n",
    "ax.set_xlabel(\"trial\")\n",
    "ax.set_ylabel(\"population\")\n",
    "ax.legend([\"pop\", \"num\"])\n",
    "ax.set_ylim(ymin=0, ymax=250)\n",
    "\n",
    "\n",
    "xf = [metric[\"steps_in_trial\"] for metric in explore_metrics]\n",
    "temp_df = np.array_split(xf, 20)\n",
    "for i in range(len(temp_df)):\n",
    "    temp_df[i] = np.mean(temp_df[i]) \n",
    "df = pd.DataFrame(temp_df)\n",
    "ax = df.plot()\n",
    "ax.set_xlabel(\"trial grouped up\")\n",
    "ax.set_ylabel(\"steps for solution\")\n",
    "ax.legend([\"steps\"])\n",
    "ax.set_ylim(ymin=0, ymax=250)"
   ]
  },
  {
   "cell_type": "code",
   "execution_count": null,
   "metadata": {},
   "outputs": [],
   "source": [
    "\n",
    "\n"
   ]
  }
 ],
 "metadata": {
  "kernelspec": {
   "display_name": "Python 3",
   "language": "python",
   "name": "python3"
  },
  "language_info": {
   "codemirror_mode": {
    "name": "ipython",
    "version": 3
   },
   "file_extension": ".py",
   "mimetype": "text/x-python",
   "name": "python",
   "nbconvert_exporter": "python",
   "pygments_lexer": "ipython3",
   "version": "3.7.10"
  }
 },
 "nbformat": 4,
 "nbformat_minor": 1
}
