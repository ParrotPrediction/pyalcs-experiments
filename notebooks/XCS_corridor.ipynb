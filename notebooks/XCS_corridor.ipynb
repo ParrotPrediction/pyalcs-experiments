{
 "cells": [
  {
   "cell_type": "code",
   "execution_count": 1,
   "metadata": {
    "collapsed": true
   },
   "outputs": [],
   "source": [
    "# activate pyalcs-experiments\n",
    "\n",
    "# logging \n",
    "import logging\n",
    "logging.basicConfig(level=logging.INFO)\n",
    "logger = logging.getLogger(__name__)\n"
   ]
  },
  {
   "cell_type": "code",
   "execution_count": 2,
   "metadata": {},
   "outputs": [
    {
     "name": "stdout",
     "output_type": "stream",
     "text": [
      "[..X....................................$]\n"
     ]
    }
   ],
   "source": [
    "# environment setup\n",
    "import gym\n",
    "# noinspection PyUnresolvedReferences\n",
    "import gym_corridor\n",
    "\n",
    "\n",
    "# maze = gym.make('corridor-100-v0')\n",
    "maze = gym.make('corridor-40-v0')\n",
    "# maze = gym.make('corridor-20-v0')\n",
    "\n",
    "maze.reset()\n",
    "maze.render()"
   ]
  },
  {
   "cell_type": "code",
   "execution_count": 3,
   "metadata": {
    "collapsed": false
   },
   "outputs": [
    {
     "name": "stderr",
     "output_type": "stream",
     "text": [
      "INFO:lcs.agents.Agent:{'trial': 0, 'steps_in_trial': 35, 'reward': [4.791637586110138e-41, 100.0], 'population': 42, 'knowledge': 0.525, 'numerosity': 42}\n"
     ]
    },
    {
     "name": "stderr",
     "output_type": "stream",
     "text": [
      "INFO:lcs.agents.Agent:{'trial': 100, 'steps_in_trial': 47, 'reward': [13.543496279680127, 102.560423991623], 'population': 57, 'knowledge': 0.6, 'numerosity': 200}\n"
     ]
    },
    {
     "name": "stderr",
     "output_type": "stream",
     "text": [
      "INFO:lcs.agents.Agent:{'trial': 200, 'steps_in_trial': 200, 'reward': [46.410496535173124, 47.95628283599], 'population': 57, 'knowledge': 0.6, 'numerosity': 200}\n"
     ]
    },
    {
     "name": "stderr",
     "output_type": "stream",
     "text": [
      "INFO:lcs.agents.Agent:{'trial': 300, 'steps_in_trial': 200, 'reward': [20.189679689533445, 20.33336685383392], 'population': 57, 'knowledge': 0.6, 'numerosity': 200}\n"
     ]
    },
    {
     "name": "stderr",
     "output_type": "stream",
     "text": [
      "INFO:lcs.agents.Agent:{'trial': 400, 'steps_in_trial': 36, 'reward': [27.441026412821895, 104.53118783570679], 'population': 57, 'knowledge': 0.6, 'numerosity': 200}\n"
     ]
    },
    {
     "name": "stderr",
     "output_type": "stream",
     "text": [
      "INFO:lcs.agents.Agent:{'trial': 500, 'steps_in_trial': 200, 'reward': [41.941173974647626, 24.492419644857407], 'population': 57, 'knowledge': 0.6, 'numerosity': 200}\n"
     ]
    },
    {
     "name": "stderr",
     "output_type": "stream",
     "text": [
      "INFO:lcs.agents.Agent:{'trial': 600, 'steps_in_trial': 200, 'reward': [3.341162103537544, 7.908660827367597], 'population': 57, 'knowledge': 0.6, 'numerosity': 200}\n"
     ]
    },
    {
     "name": "stderr",
     "output_type": "stream",
     "text": [
      "INFO:lcs.agents.Agent:{'trial': 700, 'steps_in_trial': 70, 'reward': [27.331070255553612, 118.41600793966919], 'population': 57, 'knowledge': 0.6, 'numerosity': 200}\n"
     ]
    },
    {
     "name": "stderr",
     "output_type": "stream",
     "text": [
      "INFO:lcs.agents.Agent:{'trial': 800, 'steps_in_trial': 200, 'reward': [1.3926293877552958, 1.1740223583599678], 'population': 57, 'knowledge': 0.6, 'numerosity': 200}\n"
     ]
    },
    {
     "name": "stderr",
     "output_type": "stream",
     "text": [
      "INFO:lcs.agents.Agent:{'trial': 900, 'steps_in_trial': 200, 'reward': [31.552586336334066, 24.503442944267604], 'population': 57, 'knowledge': 0.6, 'numerosity': 200}\n"
     ]
    },
    {
     "name": "stdout",
     "output_type": "stream",
     "text": [
      "Cond:18 - Act:0 - Num:2 [fit: 0.647, exp: 2428.00, pred: 70.686]\nCond:18 - Act:1 - Num:4 [fit: 0.005, exp: 1740.00, pred: 64.267]\nCond:19 - Act:0 - Num:1 [fit: 0.447, exp: 1702.00, pred: 71.137]\nCond:19 - Act:1 - Num:5 [fit: 0.007, exp: 2098.00, pred: 82.512]\nCond:20 - Act:0 - Num:4 [fit: 0.691, exp: 2042.00, pred: 76.189]\nCond:21 - Act:0 - Num:4 [fit: 0.055, exp: 2894.00, pred: 117.193]\nCond:#1 - Act:1 - Num:4 [fit: 0.797, exp: 8884.00, pred: 133.250]\nCond:22 - Act:0 - Num:6 [fit: 0.734, exp: 2881.00, pred: 120.629]\nCond:22 - Act:1 - Num:3 [fit: 0.000, exp: 2378.00, pred: 103.940]\nCond:23 - Act:0 - Num:3 [fit: 0.058, exp: 2334.00, pred: 111.714]\nCond:23 - Act:1 - Num:3 [fit: 0.001, exp: 2367.00, pred: 81.806]\nCond:24 - Act:0 - Num:4 [fit: 0.246, exp: 2315.00, pred: 92.428]\nCond:24 - Act:1 - Num:4 [fit: 0.000, exp: 1753.00, pred: 69.445]\nCond:25 - Act:0 - Num:4 [fit: 0.484, exp: 1688.00, pred: 82.049]\nCond:25 - Act:1 - Num:4 [fit: 0.018, exp: 1661.00, pred: 72.690]\nCond:26 - Act:1 - Num:3 [fit: 0.013, exp: 1392.00, pred: 74.115]\nCond:27 - Act:0 - Num:6 [fit: 0.684, exp: 1296.00, pred: 81.577]\nCond:27 - Act:1 - Num:7 [fit: 0.000, exp: 1204.00, pred: 72.210]\nCond:28 - Act:0 - Num:4 [fit: 0.526, exp: 1100.00, pred: 79.032]\nCond:28 - Act:1 - Num:3 [fit: 0.000, exp: 1263.00, pred: 72.902]\nCond:29 - Act:0 - Num:3 [fit: 0.685, exp: 1138.00, pred: 82.589]\nCond:29 - Act:1 - Num:2 [fit: 0.000, exp: 1856.00, pred: 71.318]\nCond:30 - Act:0 - Num:3 [fit: 0.685, exp: 1727.00, pred: 84.879]\nCond:31 - Act:0 - Num:6 [fit: 0.133, exp: 1172.00, pred: 115.353]\nCond:32 - Act:0 - Num:3 [fit: 0.740, exp: 897.00, pred: 133.181]\nCond:33 - Act:0 - Num:2 [fit: 0.044, exp: 755.00, pred: 120.857]\nCond:33 - Act:1 - Num:8 [fit: 0.002, exp: 733.00, pred: 94.197]\nCond:35 - Act:0 - Num:3 [fit: 0.568, exp: 327.00, pred: 99.659]\nCond:35 - Act:1 - Num:7 [fit: 0.020, exp: 506.00, pred: 81.213]\nCond:36 - Act:1 - Num:5 [fit: 0.003, exp: 456.00, pred: 84.692]\nCond:38 - Act:0 - Num:4 [fit: 0.298, exp: 132.00, pred: 111.597]\nCond:38 - Act:1 - Num:4 [fit: 0.001, exp: 329.00, pred: 113.339]\nCond:# - Act:0 - Num:1 [fit: 0.020, exp: 20958.00, pred: 101.852]\nCond:# - Act:1 - Num:1 [fit: 0.464, exp: 13632.00, pred: 110.799]\nCond:10 - Act:0 - Num:2 [fit: 0.181, exp: 2460.00, pred: 106.399]\nCond:#0 - Act:1 - Num:3 [fit: 0.644, exp: 7972.00, pred: 137.338]\nCond:11 - Act:0 - Num:2 [fit: 0.371, exp: 3627.00, pred: 118.306]\nCond:11 - Act:1 - Num:2 [fit: 0.250, exp: 4909.00, pred: 138.280]\nCond:12 - Act:0 - Num:1 [fit: 0.500, exp: 4841.00, pred: 143.914]\nCond:12 - Act:1 - Num:3 [fit: 0.422, exp: 4330.00, pred: 131.928]\nCond:13 - Act:0 - Num:4 [fit: 0.719, exp: 4273.00, pred: 134.162]\nCond:13 - Act:1 - Num:2 [fit: 0.274, exp: 2756.00, pred: 120.840]\nCond:14 - Act:0 - Num:1 [fit: 0.298, exp: 2716.00, pred: 137.848]\nCond:14 - Act:1 - Num:3 [fit: 0.000, exp: 3134.00, pred: 85.069]\nCond:15 - Act:0 - Num:3 [fit: 0.093, exp: 3101.00, pred: 104.540]\nCond:15 - Act:1 - Num:3 [fit: 0.015, exp: 3014.00, pred: 60.559]\nCond:16 - Act:0 - Num:3 [fit: 0.416, exp: 2986.00, pred: 78.879]\nCond:16 - Act:1 - Num:1 [fit: 0.005, exp: 2536.00, pred: 60.283]\nCond:17 - Act:0 - Num:2 [fit: 0.622, exp: 2508.00, pred: 72.819]\nCond:17 - Act:1 - Num:3 [fit: 0.001, exp: 2456.00, pred: 59.092]\nCond:32 - Act:1 - Num:2 [fit: 0.006, exp: 944.00, pred: 106.976]\nCond:26 - Act:0 - Num:7 [fit: 0.744, exp: 1585.00, pred: 82.948]\nCond:34 - Act:0 - Num:5 [fit: 0.262, exp: 517.00, pred: 109.930]\nCond:34 - Act:1 - Num:2 [fit: 0.003, exp: 548.00, pred: 86.097]\nCond:36 - Act:0 - Num:7 [fit: 0.805, exp: 247.00, pred: 95.048]\nCond:37 - Act:0 - Num:5 [fit: 0.833, exp: 181.00, pred: 98.576]\nCond:37 - Act:1 - Num:4 [fit: 0.001, exp: 432.00, pred: 98.097]\nFollowing is prediction Array. In case of Corridor better the last value the better\n[97.64564796279618, 127.75568371981515]\n"
     ]
    },
    {
     "data": {
      "text/plain": [
       "(0.0, 250.0)"
      ]
     },
     "execution_count": 3,
     "metadata": {},
     "output_type": "execute_result"
    },
    {
     "data": {
      "image/png": "[encoded data removed]",
      "text/plain": [
       "<Figure size 432x288 with 1 Axes>"
      ]
     },
     "metadata": {},
     "output_type": "display_data"
    },
    {
     "data": {
      "image/png": "[encoded data removed]",
      "text/plain": [
       "<Figure size 432x288 with 1 Axes>"
      ]
     },
     "metadata": {},
     "output_type": "display_data"
    },
    {
     "data": {
      "image/png": "[encoded data removed]",
      "text/plain": [
       "<Figure size 432x288 with 1 Axes>"
      ]
     },
     "metadata": {},
     "output_type": "display_data"
    }
   ],
   "source": [
    "from lcs.agents.xcs import XCS, Configuration\n",
    "\n",
    "# TODO: Move to utils\n",
    "def xcs_corridor_knowledge(xcs: XCS, environment):\n",
    "    nr_correct = 0\n",
    "    position = 0\n",
    "    while environment.observation_space.contains(position):\n",
    "        if any([True for cl in xcs.population if cl.does_match(str(position)) and\n",
    "                                                 cl.action == 1 and \n",
    "                                                 cl.wildcard_number == 0 ]):\n",
    "            nr_correct += 1\n",
    "        position += 1\n",
    "    return nr_correct / position\n",
    "\n",
    "\n",
    "def xcs_corridor_metrics(xcs: XCS, environment):\n",
    "    return {\n",
    "        'population': len(xcs.population),\n",
    "        'knowledge': xcs_corridor_knowledge(xcs, environment),\n",
    "        'numerosity': sum(cl.numerosity for cl in xcs.population)\n",
    "    }\n",
    "\n",
    "\n",
    "cfg = Configuration(number_of_actions=2,\n",
    "                    metrics_trial_frequency=1,\n",
    "                    covering_wildcard_chance=1,\n",
    "                    user_metrics_collector_fcn=xcs_corridor_metrics)\n",
    "\n",
    "agent = XCS(cfg)\n",
    "explore_population, explore_metrics = agent.explore(maze, 1000, False)\n",
    "\n",
    "for cl in explore_population:\n",
    "    print(str(cl))\n",
    "print(\"Following is prediction Array. In case of Corridor better the last value the better\")\n",
    "print(explore_population.prediction_array)\n",
    "\n",
    "import pandas as pd\n",
    "import numpy as np\n",
    "\n",
    "# TODO Merge explore and exploit\n",
    "\n",
    "df = pd.DataFrame(metric[\"knowledge\"] for metric in explore_metrics)\n",
    "ax = df.plot()\n",
    "ax.set_xlabel(\"trial\")\n",
    "ax.set_ylabel(\"knowledge %\")\n",
    "ax.legend([\"knowledge %\"])\n",
    "ax.set_ylim(ymin=0, ymax=1)\n",
    "\n",
    "\n",
    "df = pd.DataFrame(zip([metric[\"population\"] for metric in explore_metrics], [metric[\"numerosity\"] for metric in explore_metrics]))\n",
    "ax = df.plot()\n",
    "ax.set_xlabel(\"trial\")\n",
    "ax.set_ylabel(\"population\")\n",
    "ax.legend([\"pop\", \"num\"])\n",
    "ax.set_ylim(ymin=0, ymax=250)\n",
    "\n",
    "\n",
    "xf = [metric[\"steps_in_trial\"] for metric in explore_metrics]\n",
    "temp_df = np.array_split(xf, 20)\n",
    "for i in range(len(temp_df)):\n",
    "    temp_df[i] = np.mean(temp_df[i]) \n",
    "df = pd.DataFrame(temp_df)\n",
    "ax = df.plot()\n",
    "ax.set_xlabel(\"trial grouped up\")\n",
    "ax.set_ylabel(\"steps for solution\")\n",
    "ax.legend([\"steps\"])\n",
    "ax.set_ylim(ymin=0, ymax=250)"
   ]
  },
  {
   "cell_type": "code",
   "execution_count": null,
   "metadata": {},
   "outputs": [],
   "source": [
    "\n",
    "\n"
   ]
  }
 ],
 "metadata": {
  "kernelspec": {
   "display_name": "Python 2",
   "language": "python",
   "name": "python2"
  },
  "language_info": {
   "codemirror_mode": {
    "name": "ipython",
    "version": 2
   },
   "file_extension": ".py",
   "mimetype": "text/x-python",
   "name": "python",
   "nbconvert_exporter": "python",
   "pygments_lexer": "ipython2",
   "version": "2.7.6"
  }
 },
 "nbformat": 4,
 "nbformat_minor": 0
}
