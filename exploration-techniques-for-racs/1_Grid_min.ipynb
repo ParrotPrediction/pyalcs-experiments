{
 "cells": [
  {
   "cell_type": "code",
   "execution_count": 1,
   "metadata": {},
   "outputs": [],
   "source": [
    "import logging\n",
    "logging.basicConfig(level=logging.WARN)\n",
    "\n",
    "from copy import copy\n",
    "\n",
    "import gym\n",
    "import gym_grid\n",
    "\n",
    "import numpy as np\n",
    "\n",
    "from lcs import Perception\n",
    "from lcs.agents import EnvironmentAdapter\n",
    "from lcs.metrics import population_metrics\n",
    "from lcs.agents.acs2 import ACS2\n",
    "from lcs.strategies.action_selection import BestAction, EpsilonGreedy, KnowledgeArray, ActionDelay\n",
    "\n",
    "from utils.experiments import avg_experiments\n",
    "from utils.plotting import COLORS\n",
    "\n",
    "from matplotlib import pyplot as plt\n",
    "from matplotlib import rc\n",
    "import matplotlib.ticker as mtick\n",
    "\n",
    "rc('pdf', **{'fonttype': 42})\n",
    "rc('ps', **{'fonttype': 42})\n",
    "rc('font',**{'family':'sans-serif', 'sans-serif': ['DejaVu Sans'],'size': 12})\n",
    "\n",
    "%matplotlib inline\n",
    "%config InlineBackend.figure_format = 'retina'  # comment if you don't have high-res display"
   ]
  },
  {
   "cell_type": "markdown",
   "metadata": {},
   "source": [
    "## Experiment settings"
   ]
  },
  {
   "cell_type": "code",
   "execution_count": 2,
   "metadata": {},
   "outputs": [],
   "source": [
    "experiments = 50\n",
    "\n",
    "explore_trials = 60\n",
    "exploit_trials = 20"
   ]
  },
  {
   "cell_type": "markdown",
   "metadata": {},
   "source": [
    "## Environment"
   ]
  },
  {
   "cell_type": "code",
   "execution_count": 3,
   "metadata": {},
   "outputs": [],
   "source": [
    "grid_size = 20  # 5/10/20/40/100\n",
    "\n",
    "ENV_NAME = f'grid-{grid_size}-v0'\n",
    "env = gym.make(ENV_NAME)"
   ]
  },
  {
   "cell_type": "code",
   "execution_count": 4,
   "metadata": {},
   "outputs": [
    {
     "name": "stdout",
     "output_type": "stream",
     "text": [
      "\n",
      "('11', '16')\n",
      " 19 _  _  _  _  _  _  _  _  _  _  _  _  _  _  _  _  _  _  _  _ \n",
      " 18 _  _  _  _  _  _  _  _  _  _  _  _  _  _  _  _  _  _  _  _ \n",
      " 17 _  _  _  _  _  _  _  _  _  _  _  _  _  _  _  _  _  _  _  _ \n",
      " 16 _  _  _  _  _  _  _  _  _  _  _  X  _  _  _  _  _  _  _  _ \n",
      " 15 _  _  _  _  _  _  _  _  _  _  _  _  _  _  _  _  _  _  _  _ \n",
      " 14 _  _  _  _  _  _  _  _  _  _  _  _  _  _  _  _  _  _  _  _ \n",
      " 13 _  _  _  _  _  _  _  _  _  _  _  _  _  _  _  _  _  _  _  _ \n",
      " 12 _  _  _  _  _  _  _  _  _  _  _  _  _  _  _  _  _  _  _  _ \n",
      " 11 _  _  _  _  _  _  _  _  _  _  _  _  _  _  _  _  _  _  _  _ \n",
      " 10 _  _  _  _  _  _  _  _  _  _  _  _  _  _  _  _  _  _  _  _ \n",
      "  9 _  _  _  _  _  _  _  _  _  _  _  _  _  _  _  _  _  _  _  _ \n",
      "  8 _  _  _  _  _  _  _  _  _  _  _  _  _  _  _  _  _  _  _  _ \n",
      "  7 _  _  _  _  _  _  _  _  _  _  _  _  _  _  _  _  _  _  _  _ \n",
      "  6 _  _  _  _  _  _  _  _  _  _  _  _  _  _  _  _  _  _  _  _ \n",
      "  5 _  _  _  _  _  _  _  _  _  _  _  _  _  _  _  _  _  _  _  _ \n",
      "  4 _  _  _  _  _  _  _  _  _  _  _  _  _  _  _  _  _  _  _  _ \n",
      "  3 _  _  _  _  _  _  _  _  _  _  _  _  _  _  _  _  _  _  _  _ \n",
      "  2 _  _  _  _  _  _  _  _  _  _  _  _  _  _  _  _  _  _  _  _ \n",
      "  1 _  _  _  _  _  _  _  _  _  _  _  _  _  _  _  _  _  _  _  _ \n",
      "  0 _  _  _  _  _  _  _  _  _  _  _  _  _  _  _  _  _  _  _  _ \n",
      "    0  1  2  3  4  5  6  7  8  9 10 11 12 13 14 15 16 17 18 19 \n",
      "None\n"
     ]
    }
   ],
   "source": [
    "# visualization (for grid-size = 20 this is readible)\n",
    "env.reset()\n",
    "env.render()"
   ]
  },
  {
   "cell_type": "code",
   "execution_count": 6,
   "metadata": {},
   "outputs": [],
   "source": [
    "transitions = env.env.get_transitions()"
   ]
  },
  {
   "cell_type": "code",
   "execution_count": null,
   "metadata": {},
   "outputs": [],
   "source": [
    "def calculate_knowledge(population, environment):\n",
    "    reliable = [c for c in population if c.is_reliable()]\n",
    "    nr_correct = 0\n",
    "    \n",
    "    for start, action, end in transitions:\n",
    "        p0 = Perception([str(el) for el in start])\n",
    "        p1 = Perception([str(el) for el in end])\n",
    "        \n",
    "        if any([True for cl in reliable if cl.predicts_successfully(p0, action, p1)]):\n",
    "            nr_correct += 1\n",
    "    \n",
    "    return nr_correct / len(transitions) * 100.0"
   ]
  },
  {
   "cell_type": "code",
   "execution_count": null,
   "metadata": {},
   "outputs": [],
   "source": [
    "# Build agent configuration\n",
    "# Collect additional population metrics\n",
    "def grid_metrics(pop, env):\n",
    "    metrics = {\n",
    "        'knowledge': calculate_knowledge(pop, env)\n",
    "    }\n",
    "    metrics.update(population_metrics(pop, env))\n",
    "    return metrics"
   ]
  },
  {
   "cell_type": "code",
   "execution_count": null,
   "metadata": {},
   "outputs": [],
   "source": [
    "base_params = {\n",
    "    \"classifier_length\": 2,\n",
    "    \"number_of_possible_actions\": 4,\n",
    "    \"epsilon\": 0.8,\n",
    "    \"beta\": 0.2,\n",
    "    \"gamma\": 0.95,\n",
    "    \"initial_q\": 0.5,\n",
    "    \"theta_exp\": 50,\n",
    "    \"theta_ga\": 50,\n",
    "    \"do_ga\": True,\n",
    "    \"mu\": 0.03,\n",
    "    \"u_max\": 1,\n",
    "    \"metrics_trial_frequency\": 1,\n",
    "    \"user_metrics_collector_fcn\": grid_metrics\n",
    "}"
   ]
  },
  {
   "cell_type": "markdown",
   "metadata": {},
   "source": [
    "### Epsilon Greedy (baseline)"
   ]
  },
  {
   "cell_type": "code",
   "execution_count": null,
   "metadata": {},
   "outputs": [],
   "source": [
    "%%time\n",
    "\n",
    "epsilon_greedy_params = copy(base_params)\n",
    "epsilon_greedy_params['action_selector'] = EpsilonGreedy\n",
    "epsilon_greedy_df = avg_experiments(experiments, env, explore_trials, exploit_trials, **epsilon_greedy_params)"
   ]
  },
  {
   "cell_type": "markdown",
   "metadata": {},
   "source": [
    "### Action Delay Bias"
   ]
  },
  {
   "cell_type": "code",
   "execution_count": null,
   "metadata": {},
   "outputs": [],
   "source": [
    "%%time\n",
    "\n",
    "action_delay_params = copy(base_params)\n",
    "action_delay_params['biased_exploration_prob'] = 0.5\n",
    "action_delay_params['action_selector'] = ActionDelay\n",
    "\n",
    "action_delay_df = avg_experiments(experiments, env, explore_trials, exploit_trials, **action_delay_params)"
   ]
  },
  {
   "cell_type": "markdown",
   "metadata": {},
   "source": [
    "### Knowledge Array Bias"
   ]
  },
  {
   "cell_type": "code",
   "execution_count": null,
   "metadata": {},
   "outputs": [],
   "source": [
    "%%time\n",
    "\n",
    "knowledge_array_params = copy(base_params)\n",
    "knowledge_array_params['biased_exploration_prob'] = 0.5\n",
    "knowledge_array_params['action_selector'] = KnowledgeArray\n",
    "\n",
    "knowledge_array_df = avg_experiments(experiments, env, explore_trials, exploit_trials, **knowledge_array_params)"
   ]
  },
  {
   "cell_type": "markdown",
   "metadata": {},
   "source": [
    "### Optimistic Initial Quality"
   ]
  },
  {
   "cell_type": "code",
   "execution_count": null,
   "metadata": {},
   "outputs": [],
   "source": [
    "%%time\n",
    "\n",
    "op_initial_params = copy(base_params)\n",
    "op_initial_params['action_selector'] = EpsilonGreedy\n",
    "op_initial_params['initial_q'] = 0.8\n",
    "\n",
    "op_initial_df = avg_experiments(experiments, env, explore_trials, exploit_trials, **op_initial_params)"
   ]
  },
  {
   "cell_type": "markdown",
   "metadata": {},
   "source": [
    "Sneak peek into collected metrics"
   ]
  },
  {
   "cell_type": "code",
   "execution_count": null,
   "metadata": {},
   "outputs": [],
   "source": [
    "epsilon_greedy_df[:5]"
   ]
  },
  {
   "cell_type": "markdown",
   "metadata": {},
   "source": [
    "## Vizualization\n",
    "### Aggregated performance plot"
   ]
  },
  {
   "cell_type": "code",
   "execution_count": null,
   "metadata": {},
   "outputs": [],
   "source": [
    "fig = plt.figure(figsize=(14, 8))\n",
    "\n",
    "# Layout\n",
    "gs = fig.add_gridspec(2,2, wspace=.25, hspace=.4)\n",
    "ax1 = fig.add_subplot(gs[0, 0])\n",
    "ax2 = fig.add_subplot(gs[0, 1])\n",
    "ax3 = fig.add_subplot(gs[1, :])\n",
    "\n",
    "# Global title\n",
    "fig.suptitle(f'Performance of [{env.unwrapped.spec.id}] environment', fontsize=24)\n",
    "\n",
    "# Each axis\n",
    "\n",
    "# Knowledge\n",
    "ax1_first = 10  # numer of first trials to show on plot\n",
    "\n",
    "epsilon_greedy_df['knowledge'][:ax1_first].plot(label=epsilon_greedy_params['action_selector'].__name__, c=COLORS['eg'], ax=ax1)\n",
    "action_delay_df['knowledge'][:ax1_first].plot(label=action_delay_params['action_selector'].__name__, c=COLORS['ad'], ax=ax1)\n",
    "knowledge_array_df['knowledge'][:ax1_first].plot(label=knowledge_array_params['action_selector'].__name__, c=COLORS['ka'], ax=ax1)\n",
    "op_initial_df['knowledge'][:ax1_first].plot(label='Optimistic initial quality', c=COLORS['oiq'], ax=ax1)\n",
    "\n",
    "ax1.spines['top'].set_visible(False)\n",
    "ax1.spines['right'].set_visible(False)\n",
    "ax1.set_title('Knowledge');\n",
    "ax1.set_xlabel('Trial')\n",
    "ax1.set_ylabel('Knowledge')\n",
    "ax1.axhline(y=100, color='black', linewidth=1, linestyle=\"--\")\n",
    "ax1.yaxis.set_major_formatter(mtick.PercentFormatter())\n",
    "\n",
    "\n",
    "# Population\n",
    "ax2_first = 30\n",
    "\n",
    "epsilon_greedy_df['population'][:ax2_first].plot(label=epsilon_greedy_params['action_selector'].__name__, c=COLORS['eg'], ax=ax2)\n",
    "action_delay_df['population'][:ax2_first].plot(label=action_delay_params['action_selector'].__name__, c=COLORS['ad'], ax=ax2)\n",
    "knowledge_array_df['population'][:ax2_first].plot(label=knowledge_array_params['action_selector'].__name__, c=COLORS['ka'], ax=ax2)\n",
    "op_initial_df['population'][:ax2_first].plot(label='Optimistic initial quality', c=COLORS['oiq'], ax=ax2)\n",
    "\n",
    "ax2.spines['top'].set_visible(False)\n",
    "ax2.spines['right'].set_visible(False)\n",
    "ax2.set_xlabel('Trial')\n",
    "ax2.set_ylabel('Classifiers')\n",
    "ax2.set_title('Classifiers Population');\n",
    "# ax2.set_ylim(17, 40)\n",
    "ax2.xaxis.set_major_formatter(mtick.FormatStrFormatter('%.0f'))\n",
    "ax2.yaxis.set_major_formatter(mtick.FormatStrFormatter('%.0f'))\n",
    "\n",
    "# Steps in trial\n",
    "window = 3 # window for moving average\n",
    "epsilon_greedy_df['steps_in_trial'].rolling(window=window).mean().plot(label=epsilon_greedy_params['action_selector'].__name__, c=COLORS['eg'], ax=ax3)\n",
    "action_delay_df['steps_in_trial'].rolling(window=window).mean().plot(label=action_delay_params['action_selector'].__name__, c=COLORS['ad'], ax=ax3)\n",
    "knowledge_array_df['steps_in_trial'].rolling(window=window).mean().plot(label=knowledge_array_params['action_selector'].__name__, c=COLORS['ka'], ax=ax3)\n",
    "op_initial_df['steps_in_trial'].rolling(window=window).mean().plot(label='Optimistic initial quality', c=COLORS['oiq'], ax=ax3)\n",
    "\n",
    "\n",
    "ax3.spines['top'].set_visible(False)\n",
    "ax3.spines['right'].set_visible(False)\n",
    "ax3.set_xlabel('Trial')\n",
    "ax3.set_ylabel('Steps')\n",
    "ax3.set_title('Steps in trial')\n",
    "ax3.axvline(x=explore_trials, color='black', linewidth=1, linestyle=\"--\")\n",
    "ax3.text(63, 1000, f'Moving average of {window} samples', style='italic', bbox={'facecolor': 'red', 'alpha': 0.2, 'pad': 10})\n",
    "\n",
    "# Create legend\n",
    "handles, labels = ax3.get_legend_handles_labels()\n",
    "fig.legend(handles, labels, loc='lower center', ncol=4);\n",
    "\n",
    "# Save plot to file\n",
    "fig.savefig('grid-performance.pdf')"
   ]
  }
 ],
 "metadata": {
  "kernelspec": {
   "display_name": "Python 3",
   "language": "python",
   "name": "python3"
  },
  "language_info": {
   "codemirror_mode": {
    "name": "ipython",
    "version": 3
   },
   "file_extension": ".py",
   "mimetype": "text/x-python",
   "name": "python",
   "nbconvert_exporter": "python",
   "pygments_lexer": "ipython3",
   "version": "3.7.10"
  }
 },
 "nbformat": 4,
 "nbformat_minor": 4
}
