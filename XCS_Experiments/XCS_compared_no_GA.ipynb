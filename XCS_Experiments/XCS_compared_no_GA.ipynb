{
 "cells": [
  {
   "cell_type": "code",
   "execution_count": 55,
   "metadata": {},
   "outputs": [],
   "source": [
    "import logging\n",
    "logging.root.setLevel(logging.INFO)\n"
   ]
  },
  {
   "cell_type": "code",
   "execution_count": 56,
   "metadata": {
    "scrolled": true
   },
   "outputs": [],
   "source": [
    "import random\n",
    "\n",
    "from xcs import XCSAlgorithm\n",
    "from xcs.scenarios import Scenario"
   ]
  },
  {
   "cell_type": "code",
   "execution_count": 57,
   "metadata": {},
   "outputs": [],
   "source": [
    "from utils.xcs_utils import *"
   ]
  },
  {
   "cell_type": "code",
   "execution_count": 58,
   "metadata": {},
   "outputs": [
    {
     "name": "stdout",
     "output_type": "stream",
     "text": [
      "\n",
      "\u001b[30m■\u001b[0m \u001b[30m■\u001b[0m \u001b[30m■\u001b[0m \u001b[30m■\u001b[0m \u001b[30m■\u001b[0m \u001b[30m■\u001b[0m \u001b[30m■\u001b[0m \u001b[30m■\u001b[0m\n",
      "\u001b[30m■\u001b[0m \u001b[37m□\u001b[0m \u001b[37m□\u001b[0m \u001b[30m■\u001b[0m \u001b[37m□\u001b[0m \u001b[37m□\u001b[0m \u001b[33m$\u001b[0m \u001b[30m■\u001b[0m\n",
      "\u001b[30m■\u001b[0m \u001b[30m■\u001b[0m \u001b[37m□\u001b[0m \u001b[37m□\u001b[0m \u001b[30m■\u001b[0m \u001b[37m□\u001b[0m \u001b[37m□\u001b[0m \u001b[30m■\u001b[0m\n",
      "\u001b[30m■\u001b[0m \u001b[30m■\u001b[0m \u001b[37m□\u001b[0m \u001b[30m■\u001b[0m \u001b[37m□\u001b[0m \u001b[31mA\u001b[0m \u001b[30m■\u001b[0m \u001b[30m■\u001b[0m\n",
      "\u001b[30m■\u001b[0m \u001b[37m□\u001b[0m \u001b[37m□\u001b[0m \u001b[37m□\u001b[0m \u001b[37m□\u001b[0m \u001b[37m□\u001b[0m \u001b[37m□\u001b[0m \u001b[30m■\u001b[0m\n",
      "\u001b[30m■\u001b[0m \u001b[30m■\u001b[0m \u001b[37m□\u001b[0m \u001b[30m■\u001b[0m \u001b[37m□\u001b[0m \u001b[37m□\u001b[0m \u001b[37m□\u001b[0m \u001b[30m■\u001b[0m\n",
      "\u001b[30m■\u001b[0m \u001b[37m□\u001b[0m \u001b[37m□\u001b[0m \u001b[37m□\u001b[0m \u001b[37m□\u001b[0m \u001b[30m■\u001b[0m \u001b[37m□\u001b[0m \u001b[30m■\u001b[0m\n",
      "\u001b[30m■\u001b[0m \u001b[30m■\u001b[0m \u001b[30m■\u001b[0m \u001b[30m■\u001b[0m \u001b[30m■\u001b[0m \u001b[30m■\u001b[0m \u001b[30m■\u001b[0m \u001b[30m■\u001b[0m\n"
     ]
    }
   ],
   "source": [
    "exploration_cycles = 1000\n",
    "exploitation_cycles = 500\n",
    "input_size = 8\n",
    "logging.root.setLevel(logging.INFO)\n",
    "scenario = MazeScenario(input_size)\n",
    "scenario.maze.reset()\n",
    "scenario.maze.render()"
   ]
  },
  {
   "cell_type": "code",
   "execution_count": 59,
   "metadata": {},
   "outputs": [],
   "source": [
    "import numpy as np\n",
    "algorithm = XCSAlgorithm()\n",
    "algorithm.max_population_size = 1600\n",
    "algorithm.learning_rate = .1\n",
    "algorithm.error_threshold = .01              # epsilon_0\n",
    "algorithm.ga_threshold = 99999999999999999999999999999999999# 25\n",
    "algorithm.crossover_probability = 0.5\n",
    "algorithm.mutation_probability = 0.01\n",
    "algorithm.initial_prediction = float(np.finfo(np.float32).tiny)        # p_I\n",
    "algorithm.initial_error = float(np.finfo(np.float32).tiny)            # epsilon_I\n",
    "algorithm.initial_fitness = float(np.finfo(np.float32).tiny)           # F_I\n",
    "algorithm.wildcard_probability = 0.0"
   ]
  },
  {
   "cell_type": "code",
   "execution_count": 60,
   "metadata": {},
   "outputs": [
    {
     "name": "stdout",
     "output_type": "stream",
     "text": [
      "Executing 0 experiment\n",
      "Executing 1 experiment\n",
      "Executing 2 experiment\n"
     ]
    }
   ],
   "source": [
    "other_metrics = other_avg_experiment(\n",
    "                                     maze=scenario,\n",
    "                                     algorithm=algorithm,\n",
    "                                     number_of_tests=3,\n",
    "                                     explore_trials=exploration_cycles,\n",
    "                                     exploit_trials=exploitation_cycles\n",
    "                                    )\n"
   ]
  },
  {
   "cell_type": "code",
   "execution_count": 61,
   "metadata": {},
   "outputs": [
    {
     "data": {
      "text/html": [
       "<div>\n",
       "<style scoped>\n",
       "    .dataframe tbody tr th:only-of-type {\n",
       "        vertical-align: middle;\n",
       "    }\n",
       "\n",
       "    .dataframe tbody tr th {\n",
       "        vertical-align: top;\n",
       "    }\n",
       "\n",
       "    .dataframe thead th {\n",
       "        text-align: right;\n",
       "    }\n",
       "</style>\n",
       "<table border=\"1\" class=\"dataframe\">\n",
       "  <thead>\n",
       "    <tr style=\"text-align: right;\">\n",
       "      <th></th>\n",
       "      <th>steps_in_trial</th>\n",
       "      <th>population</th>\n",
       "      <th>numerosity</th>\n",
       "    </tr>\n",
       "    <tr>\n",
       "      <th>trial</th>\n",
       "      <th></th>\n",
       "      <th></th>\n",
       "      <th></th>\n",
       "    </tr>\n",
       "  </thead>\n",
       "  <tbody>\n",
       "    <tr>\n",
       "      <th>0</th>\n",
       "      <td>19.666667</td>\n",
       "      <td>18.333333</td>\n",
       "      <td>18.333333</td>\n",
       "    </tr>\n",
       "    <tr>\n",
       "      <th>100</th>\n",
       "      <td>50.000000</td>\n",
       "      <td>200.000000</td>\n",
       "      <td>200.000000</td>\n",
       "    </tr>\n",
       "    <tr>\n",
       "      <th>200</th>\n",
       "      <td>37.666667</td>\n",
       "      <td>200.000000</td>\n",
       "      <td>200.000000</td>\n",
       "    </tr>\n",
       "    <tr>\n",
       "      <th>300</th>\n",
       "      <td>16.333333</td>\n",
       "      <td>200.000000</td>\n",
       "      <td>200.000000</td>\n",
       "    </tr>\n",
       "    <tr>\n",
       "      <th>400</th>\n",
       "      <td>47.000000</td>\n",
       "      <td>200.000000</td>\n",
       "      <td>200.000000</td>\n",
       "    </tr>\n",
       "    <tr>\n",
       "      <th>500</th>\n",
       "      <td>45.000000</td>\n",
       "      <td>200.000000</td>\n",
       "      <td>200.000000</td>\n",
       "    </tr>\n",
       "    <tr>\n",
       "      <th>600</th>\n",
       "      <td>14.333333</td>\n",
       "      <td>200.000000</td>\n",
       "      <td>200.000000</td>\n",
       "    </tr>\n",
       "    <tr>\n",
       "      <th>700</th>\n",
       "      <td>38.333333</td>\n",
       "      <td>200.000000</td>\n",
       "      <td>200.000000</td>\n",
       "    </tr>\n",
       "    <tr>\n",
       "      <th>800</th>\n",
       "      <td>35.000000</td>\n",
       "      <td>200.000000</td>\n",
       "      <td>200.000000</td>\n",
       "    </tr>\n",
       "    <tr>\n",
       "      <th>900</th>\n",
       "      <td>50.000000</td>\n",
       "      <td>200.000000</td>\n",
       "      <td>200.000000</td>\n",
       "    </tr>\n",
       "    <tr>\n",
       "      <th>1000</th>\n",
       "      <td>16.666667</td>\n",
       "      <td>200.000000</td>\n",
       "      <td>200.000000</td>\n",
       "    </tr>\n",
       "    <tr>\n",
       "      <th>1100</th>\n",
       "      <td>17.333333</td>\n",
       "      <td>200.000000</td>\n",
       "      <td>200.000000</td>\n",
       "    </tr>\n",
       "    <tr>\n",
       "      <th>1200</th>\n",
       "      <td>39.000000</td>\n",
       "      <td>200.000000</td>\n",
       "      <td>200.000000</td>\n",
       "    </tr>\n",
       "    <tr>\n",
       "      <th>1300</th>\n",
       "      <td>40.666667</td>\n",
       "      <td>200.000000</td>\n",
       "      <td>200.000000</td>\n",
       "    </tr>\n",
       "    <tr>\n",
       "      <th>1400</th>\n",
       "      <td>10.666667</td>\n",
       "      <td>200.000000</td>\n",
       "      <td>200.000000</td>\n",
       "    </tr>\n",
       "  </tbody>\n",
       "</table>\n",
       "</div>"
      ],
      "text/plain": [
       "       steps_in_trial  population  numerosity\n",
       "trial                                        \n",
       "0           19.666667   18.333333   18.333333\n",
       "100         50.000000  200.000000  200.000000\n",
       "200         37.666667  200.000000  200.000000\n",
       "300         16.333333  200.000000  200.000000\n",
       "400         47.000000  200.000000  200.000000\n",
       "500         45.000000  200.000000  200.000000\n",
       "600         14.333333  200.000000  200.000000\n",
       "700         38.333333  200.000000  200.000000\n",
       "800         35.000000  200.000000  200.000000\n",
       "900         50.000000  200.000000  200.000000\n",
       "1000        16.666667  200.000000  200.000000\n",
       "1100        17.333333  200.000000  200.000000\n",
       "1200        39.000000  200.000000  200.000000\n",
       "1300        40.666667  200.000000  200.000000\n",
       "1400        10.666667  200.000000  200.000000"
      ]
     },
     "metadata": {},
     "output_type": "display_data"
    }
   ],
   "source": [
    "display(other_metrics)"
   ]
  },
  {
   "cell_type": "code",
   "execution_count": 62,
   "metadata": {},
   "outputs": [
    {
     "data": {
      "text/plain": [
       "<matplotlib.legend.Legend at 0x2d2a68eea48>"
      ]
     },
     "execution_count": 62,
     "metadata": {},
     "output_type": "execute_result"
    },
    {
     "data": {
      "image/png": "[encoded data removed]",
      "text/plain": [
       "<Figure size 432x288 with 1 Axes>"
      ]
     },
     "metadata": {
      "needs_background": "light"
     },
     "output_type": "display_data"
    }
   ],
   "source": [
    "import pandas as pd\n",
    "\n",
    "ax = other_metrics[\"steps_in_trial\"].plot()\n",
    "ax.set_xlabel(\"trial\")\n",
    "ax.set_ylabel(\"steps_in_trial\")\n",
    "ax.legend([\"steps other XCS\"])"
   ]
  },
  {
   "cell_type": "code",
   "execution_count": 63,
   "metadata": {},
   "outputs": [
    {
     "data": {
      "text/plain": [
       "<matplotlib.legend.Legend at 0x2d2a6b4d088>"
      ]
     },
     "execution_count": 63,
     "metadata": {},
     "output_type": "execute_result"
    },
    {
     "data": {
      "image/png": "[encoded data removed]",
      "text/plain": [
       "<Figure size 432x288 with 1 Axes>"
      ]
     },
     "metadata": {
      "needs_background": "light"
     },
     "output_type": "display_data"
    }
   ],
   "source": [
    "ax = other_metrics[['numerosity', 'population']].plot()\n",
    "ax.set_xlabel(\"trial\")\n",
    "ax.set_ylabel(\"population\")\n",
    "ax.legend([\"numerosity\", \"number of rules\"])"
   ]
  },
  {
   "cell_type": "code",
   "execution_count": 64,
   "metadata": {},
   "outputs": [],
   "source": [
    "from lcs.agents.xcs import Configuration\n",
    "from utils.xcs_utils import *\n",
    "                    \n",
    "\n",
    "cfg = Configuration(number_of_actions=8,\n",
    "                    max_population=1600,\n",
    "                    covering_wildcard_chance = 1,\n",
    "                    ga_threshold = 9999999999999999999999999,\n",
    "                    metrics_trial_frequency=100,\n",
    "                    mutation_chance=0.01,\n",
    "                    user_metrics_collector_fcn=xcs_metrics)"
   ]
  },
  {
   "cell_type": "code",
   "execution_count": null,
   "metadata": {
    "scrolled": true
   },
   "outputs": [
    {
     "name": "stderr",
     "output_type": "stream",
     "text": [
      "INFO:lcs.agents.Agent:{'trial': 0, 'steps_in_trial': 50, 'reward': [2.542660842952075e-40, 2.537130172520431e-40, 5.747311643168374e-41, 2.5661902908747764e-40, 2.5279465835752264e-40, 2.6827109163905025e-40, 3.286006579805948e-40, 6.389912272244871e-77], 'perf_time': 0.012249299999893992, 'population': 72, 'numerosity': 72}\n"
     ]
    },
    {
     "name": "stdout",
     "output_type": "stream",
     "text": [
      "Executing 0 experiment\n"
     ]
    },
    {
     "name": "stderr",
     "output_type": "stream",
     "text": [
      "INFO:lcs.agents.Agent:{'trial': 100, 'steps_in_trial': 23, 'reward': [21.462757360749155, 15.052053970116882, 147.49131769766697, 15.061450525086169, 15.769469879384527, 16.368617318230157, 17.67312044107236, 12.237041235694013], 'perf_time': 0.012048999999933585, 'population': 208, 'numerosity': 208}\n",
      "INFO:lcs.agents.Agent:{'trial': 200, 'steps_in_trial': 23, 'reward': [192.744951873435, 23.06297297801297, 20.961107524277068, 13.550150821805328, 9.977576187566102, 8.320969885347477, 14.534055769675778, 11.444739841616927], 'perf_time': 0.012529500000027838, 'population': 208, 'numerosity': 208}\n",
      "INFO:lcs.agents.Agent:{'trial': 300, 'steps_in_trial': 18, 'reward': [33.96410653852179, 8.091225474355216, 112.79871547916159, 11.104911509917788, 10.489065281282523, 10.972637743716628, 13.930475205341489, 11.673031387638563], 'perf_time': 0.010326399999939895, 'population': 208, 'numerosity': 208}\n",
      "INFO:lcs.agents.Agent:{'trial': 400, 'steps_in_trial': 1, 'reward': [181.53370013783544, 9.05844329245552, 112.87279979043338, 7.335784888820384, 6.794219358301125, 8.099623628583664, 7.332779941267573, 8.812455183761925], 'perf_time': 0.0005407999999533786, 'population': 208, 'numerosity': 208}\n",
      "INFO:lcs.agents.Agent:{'trial': 500, 'steps_in_trial': 50, 'reward': [23.38206200337563, 21.09584944646928, 46.241191874533065, 15.659486179623855, 14.364525119863968, 12.29498872660284, 15.552649457074297, 16.825168484956905], 'perf_time': 0.028210399999807123, 'population': 208, 'numerosity': 208}\n",
      "INFO:lcs.agents.Agent:{'trial': 600, 'steps_in_trial': 2, 'reward': [18.29793558028772, 176.13102535705548, 219.15232103156836, 21.741364079176154, 16.27483238512787, 25.25710458486812, 20.688695067582188, 26.24980714786251], 'perf_time': 0.001040800000055242, 'population': 208, 'numerosity': 208}\n",
      "INFO:lcs.agents.Agent:{'trial': 700, 'steps_in_trial': 27, 'reward': [31.207326949725598, 25.576656949308195, 119.75388484655312, 24.935838471397133, 23.877833650448583, 30.158558055679265, 17.99670313959335, 21.029970877287518], 'perf_time': 0.015957699999944452, 'population': 208, 'numerosity': 208}\n",
      "INFO:lcs.agents.Agent:{'trial': 800, 'steps_in_trial': 45, 'reward': [17.09807166375876, 11.031051591935139, 124.21908768552925, 16.144767017120234, 14.550401147950982, 14.119085342273907, 11.533570633971685, 9.37552254360419], 'perf_time': 0.026237499999979264, 'population': 208, 'numerosity': 208}\n",
      "INFO:lcs.agents.Agent:{'trial': 900, 'steps_in_trial': 5, 'reward': [24.836684157002296, 119.4751264894901, 235.22799154445744, 17.56878825441542, 14.647677344532894, 15.857105071705801, 15.858259720035711, 16.46253082454636], 'perf_time': 0.002747699999872566, 'population': 208, 'numerosity': 208}\n"
     ]
    }
   ],
   "source": [
    "from lcs.agents.xcs import XCS\n",
    "\n",
    "\n",
    "agent = XCS(cfg)\n",
    "my_metrics = avg_experiment(scenario,\n",
    "                    cfg,\n",
    "                    number_of_tests=3,\n",
    "                    explore_trials=exploration_cycles,\n",
    "                    exploit_metrics=exploitation_cycles)\n"
   ]
  },
  {
   "cell_type": "code",
   "execution_count": null,
   "metadata": {},
   "outputs": [],
   "source": [
    "display(my_metrics)"
   ]
  },
  {
   "cell_type": "code",
   "execution_count": null,
   "metadata": {},
   "outputs": [],
   "source": [
    "import pandas as pd\n",
    "\n",
    "ax = my_metrics['steps_in_trial'].plot()\n",
    "ax.set_xlabel(\"trial\")\n",
    "ax.set_ylabel(\"steps in trial\")\n",
    "ax.legend([\"steps\"])\n"
   ]
  },
  {
   "cell_type": "code",
   "execution_count": null,
   "metadata": {},
   "outputs": [],
   "source": [
    "ax = my_metrics[['numerosity', 'population']].plot()\n",
    "ax.set_xlabel(\"trial\")\n",
    "ax.set_ylabel(\"population\")\n",
    "ax.legend([\"numerosity\", \"number of rules\"])"
   ]
  },
  {
   "cell_type": "markdown",
   "metadata": {},
   "source": [
    "#### Conclusions\n",
    "None so far."
   ]
  },
  {
   "cell_type": "code",
   "execution_count": null,
   "metadata": {},
   "outputs": [],
   "source": []
  }
 ],
 "metadata": {
  "kernelspec": {
   "display_name": "Python 3",
   "language": "python",
   "name": "python3"
  },
  "language_info": {
   "codemirror_mode": {
    "name": "ipython",
    "version": 3
   },
   "file_extension": ".py",
   "mimetype": "text/x-python",
   "name": "python",
   "nbconvert_exporter": "python",
   "pygments_lexer": "ipython3",
   "version": "3.7.10"
  }
 },
 "nbformat": 4,
 "nbformat_minor": 4
}
