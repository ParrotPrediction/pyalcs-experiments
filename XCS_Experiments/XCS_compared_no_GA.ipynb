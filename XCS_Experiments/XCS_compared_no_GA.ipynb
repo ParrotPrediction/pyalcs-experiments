{
 "cells": [
  {
   "cell_type": "code",
   "execution_count": 6,
   "metadata": {},
   "outputs": [],
   "source": [
    "import logging\n",
    "logging.root.setLevel(logging.INFO)\n"
   ]
  },
  {
   "cell_type": "code",
   "execution_count": 56,
   "metadata": {
    "scrolled": true
   },
   "outputs": [],
   "source": [
    "import random\n",
    "\n",
    "from xcs import XCSAlgorithm\n",
    "from xcs.scenarios import Scenario"
   ]
  },
  {
   "cell_type": "code",
   "execution_count": 57,
   "metadata": {},
   "outputs": [],
   "source": [
    "from utils.xcs_utils import *"
   ]
  },
  {
   "cell_type": "code",
   "execution_count": 7,
   "metadata": {},
   "outputs": [
    {
     "name": "stdout",
     "output_type": "stream",
     "text": [
      "\n",
      "\u001b[30m■\u001b[0m \u001b[30m■\u001b[0m \u001b[30m■\u001b[0m \u001b[30m■\u001b[0m \u001b[30m■\u001b[0m \u001b[30m■\u001b[0m \u001b[30m■\u001b[0m \u001b[30m■\u001b[0m\n",
      "\u001b[30m■\u001b[0m \u001b[37m□\u001b[0m \u001b[37m□\u001b[0m \u001b[30m■\u001b[0m \u001b[37m□\u001b[0m \u001b[37m□\u001b[0m \u001b[33m$\u001b[0m \u001b[30m■\u001b[0m\n",
      "\u001b[30m■\u001b[0m \u001b[30m■\u001b[0m \u001b[37m□\u001b[0m \u001b[37m□\u001b[0m \u001b[30m■\u001b[0m \u001b[37m□\u001b[0m \u001b[37m□\u001b[0m \u001b[30m■\u001b[0m\n",
      "\u001b[30m■\u001b[0m \u001b[30m■\u001b[0m \u001b[37m□\u001b[0m \u001b[30m■\u001b[0m \u001b[37m□\u001b[0m \u001b[37m□\u001b[0m \u001b[30m■\u001b[0m \u001b[30m■\u001b[0m\n",
      "\u001b[30m■\u001b[0m \u001b[37m□\u001b[0m \u001b[37m□\u001b[0m \u001b[37m□\u001b[0m \u001b[37m□\u001b[0m \u001b[37m□\u001b[0m \u001b[37m□\u001b[0m \u001b[30m■\u001b[0m\n",
      "\u001b[30m■\u001b[0m \u001b[30m■\u001b[0m \u001b[37m□\u001b[0m \u001b[30m■\u001b[0m \u001b[37m□\u001b[0m \u001b[37m□\u001b[0m \u001b[37m□\u001b[0m \u001b[30m■\u001b[0m\n",
      "\u001b[30m■\u001b[0m \u001b[37m□\u001b[0m \u001b[37m□\u001b[0m \u001b[37m□\u001b[0m \u001b[31mA\u001b[0m \u001b[30m■\u001b[0m \u001b[37m□\u001b[0m \u001b[30m■\u001b[0m\n",
      "\u001b[30m■\u001b[0m \u001b[30m■\u001b[0m \u001b[30m■\u001b[0m \u001b[30m■\u001b[0m \u001b[30m■\u001b[0m \u001b[30m■\u001b[0m \u001b[30m■\u001b[0m \u001b[30m■\u001b[0m\n"
     ]
    }
   ],
   "source": [
    "exploration_cycles = 1000\n",
    "exploitation_cycles = 500\n",
    "input_size = 8\n",
    "logging.root.setLevel(logging.INFO)\n",
    "scenario = MazeScenario(input_size)\n",
    "scenario.maze.reset()\n",
    "scenario.maze.render()"
   ]
  },
  {
   "cell_type": "code",
   "execution_count": 59,
   "metadata": {},
   "outputs": [],
   "source": [
    "import numpy as np\n",
    "algorithm = XCSAlgorithm()\n",
    "algorithm.max_population_size = 1600\n",
    "algorithm.learning_rate = .1\n",
    "algorithm.error_threshold = .01              # epsilon_0\n",
    "algorithm.ga_threshold = 99999999999999999999999999999999999# 25\n",
    "algorithm.crossover_probability = 0.5\n",
    "algorithm.mutation_probability = 0.01\n",
    "algorithm.initial_prediction = float(np.finfo(np.float32).tiny)        # p_I\n",
    "algorithm.initial_error = float(np.finfo(np.float32).tiny)            # epsilon_I\n",
    "algorithm.initial_fitness = float(np.finfo(np.float32).tiny)           # F_I\n",
    "algorithm.wildcard_probability = 0.0"
   ]
  },
  {
   "cell_type": "code",
   "execution_count": 60,
   "metadata": {},
   "outputs": [
    {
     "name": "stdout",
     "output_type": "stream",
     "text": [
      "Executing 0 experiment\n",
      "Executing 1 experiment\n",
      "Executing 2 experiment\n"
     ]
    }
   ],
   "source": [
    "other_metrics = other_avg_experiment(\n",
    "                                     maze=scenario,\n",
    "                                     algorithm=algorithm,\n",
    "                                     number_of_tests=3,\n",
    "                                     explore_trials=exploration_cycles,\n",
    "                                     exploit_trials=exploitation_cycles\n",
    "                                    )\n"
   ]
  },
  {
   "cell_type": "code",
   "execution_count": 61,
   "metadata": {},
   "outputs": [
    {
     "data": {
      "text/html": [
       "<div>\n",
       "<style scoped>\n",
       "    .dataframe tbody tr th:only-of-type {\n",
       "        vertical-align: middle;\n",
       "    }\n",
       "\n",
       "    .dataframe tbody tr th {\n",
       "        vertical-align: top;\n",
       "    }\n",
       "\n",
       "    .dataframe thead th {\n",
       "        text-align: right;\n",
       "    }\n",
       "</style>\n",
       "<table border=\"1\" class=\"dataframe\">\n",
       "  <thead>\n",
       "    <tr style=\"text-align: right;\">\n",
       "      <th></th>\n",
       "      <th>steps_in_trial</th>\n",
       "      <th>population</th>\n",
       "      <th>numerosity</th>\n",
       "    </tr>\n",
       "    <tr>\n",
       "      <th>trial</th>\n",
       "      <th></th>\n",
       "      <th></th>\n",
       "      <th></th>\n",
       "    </tr>\n",
       "  </thead>\n",
       "  <tbody>\n",
       "    <tr>\n",
       "      <th>0</th>\n",
       "      <td>19.666667</td>\n",
       "      <td>18.333333</td>\n",
       "      <td>18.333333</td>\n",
       "    </tr>\n",
       "    <tr>\n",
       "      <th>100</th>\n",
       "      <td>50.000000</td>\n",
       "      <td>200.000000</td>\n",
       "      <td>200.000000</td>\n",
       "    </tr>\n",
       "    <tr>\n",
       "      <th>200</th>\n",
       "      <td>37.666667</td>\n",
       "      <td>200.000000</td>\n",
       "      <td>200.000000</td>\n",
       "    </tr>\n",
       "    <tr>\n",
       "      <th>300</th>\n",
       "      <td>16.333333</td>\n",
       "      <td>200.000000</td>\n",
       "      <td>200.000000</td>\n",
       "    </tr>\n",
       "    <tr>\n",
       "      <th>400</th>\n",
       "      <td>47.000000</td>\n",
       "      <td>200.000000</td>\n",
       "      <td>200.000000</td>\n",
       "    </tr>\n",
       "    <tr>\n",
       "      <th>500</th>\n",
       "      <td>45.000000</td>\n",
       "      <td>200.000000</td>\n",
       "      <td>200.000000</td>\n",
       "    </tr>\n",
       "    <tr>\n",
       "      <th>600</th>\n",
       "      <td>14.333333</td>\n",
       "      <td>200.000000</td>\n",
       "      <td>200.000000</td>\n",
       "    </tr>\n",
       "    <tr>\n",
       "      <th>700</th>\n",
       "      <td>38.333333</td>\n",
       "      <td>200.000000</td>\n",
       "      <td>200.000000</td>\n",
       "    </tr>\n",
       "    <tr>\n",
       "      <th>800</th>\n",
       "      <td>35.000000</td>\n",
       "      <td>200.000000</td>\n",
       "      <td>200.000000</td>\n",
       "    </tr>\n",
       "    <tr>\n",
       "      <th>900</th>\n",
       "      <td>50.000000</td>\n",
       "      <td>200.000000</td>\n",
       "      <td>200.000000</td>\n",
       "    </tr>\n",
       "    <tr>\n",
       "      <th>1000</th>\n",
       "      <td>16.666667</td>\n",
       "      <td>200.000000</td>\n",
       "      <td>200.000000</td>\n",
       "    </tr>\n",
       "    <tr>\n",
       "      <th>1100</th>\n",
       "      <td>17.333333</td>\n",
       "      <td>200.000000</td>\n",
       "      <td>200.000000</td>\n",
       "    </tr>\n",
       "    <tr>\n",
       "      <th>1200</th>\n",
       "      <td>39.000000</td>\n",
       "      <td>200.000000</td>\n",
       "      <td>200.000000</td>\n",
       "    </tr>\n",
       "    <tr>\n",
       "      <th>1300</th>\n",
       "      <td>40.666667</td>\n",
       "      <td>200.000000</td>\n",
       "      <td>200.000000</td>\n",
       "    </tr>\n",
       "    <tr>\n",
       "      <th>1400</th>\n",
       "      <td>10.666667</td>\n",
       "      <td>200.000000</td>\n",
       "      <td>200.000000</td>\n",
       "    </tr>\n",
       "  </tbody>\n",
       "</table>\n",
       "</div>"
      ],
      "text/plain": [
       "       steps_in_trial  population  numerosity\n",
       "trial                                        \n",
       "0           19.666667   18.333333   18.333333\n",
       "100         50.000000  200.000000  200.000000\n",
       "200         37.666667  200.000000  200.000000\n",
       "300         16.333333  200.000000  200.000000\n",
       "400         47.000000  200.000000  200.000000\n",
       "500         45.000000  200.000000  200.000000\n",
       "600         14.333333  200.000000  200.000000\n",
       "700         38.333333  200.000000  200.000000\n",
       "800         35.000000  200.000000  200.000000\n",
       "900         50.000000  200.000000  200.000000\n",
       "1000        16.666667  200.000000  200.000000\n",
       "1100        17.333333  200.000000  200.000000\n",
       "1200        39.000000  200.000000  200.000000\n",
       "1300        40.666667  200.000000  200.000000\n",
       "1400        10.666667  200.000000  200.000000"
      ]
     },
     "metadata": {},
     "output_type": "display_data"
    }
   ],
   "source": [
    "display(other_metrics)"
   ]
  },
  {
   "cell_type": "code",
   "execution_count": 62,
   "metadata": {},
   "outputs": [
    {
     "data": {
      "text/plain": [
       "<matplotlib.legend.Legend at 0x2d2a68eea48>"
      ]
     },
     "execution_count": 62,
     "metadata": {},
     "output_type": "execute_result"
    },
    {
     "data": {
      "image/png": "[encoded data removed]",
      "text/plain": [
       "<Figure size 432x288 with 1 Axes>"
      ]
     },
     "metadata": {
      "needs_background": "light"
     },
     "output_type": "display_data"
    }
   ],
   "source": [
    "import pandas as pd\n",
    "\n",
    "ax = other_metrics[\"steps_in_trial\"].plot()\n",
    "ax.set_xlabel(\"trial\")\n",
    "ax.set_ylabel(\"steps_in_trial\")\n",
    "ax.legend([\"steps other XCS\"])"
   ]
  },
  {
   "cell_type": "code",
   "execution_count": 63,
   "metadata": {},
   "outputs": [
    {
     "data": {
      "text/plain": [
       "<matplotlib.legend.Legend at 0x2d2a6b4d088>"
      ]
     },
     "execution_count": 63,
     "metadata": {},
     "output_type": "execute_result"
    },
    {
     "data": {
      "image/png": "[encoded data removed]",
      "text/plain": [
       "<Figure size 432x288 with 1 Axes>"
      ]
     },
     "metadata": {
      "needs_background": "light"
     },
     "output_type": "display_data"
    }
   ],
   "source": [
    "ax = other_metrics[['numerosity', 'population']].plot()\n",
    "ax.set_xlabel(\"trial\")\n",
    "ax.set_ylabel(\"population\")\n",
    "ax.legend([\"numerosity\", \"number of rules\"])"
   ]
  },
  {
   "cell_type": "code",
   "execution_count": 3,
   "metadata": {},
   "outputs": [],
   "source": [
    "from lcs.agents.xcs import Configuration\n",
    "from utils.xcs_utils import *\n",
    "                    \n",
    "\n",
    "cfg = Configuration(number_of_actions=8,\n",
    "                    max_population=1600,\n",
    "                    covering_wildcard_chance = 1,\n",
    "                    ga_threshold = 9999999999999999999999999,\n",
    "                    metrics_trial_frequency=100,\n",
    "                    mutation_chance=0.01,\n",
    "                    user_metrics_collector_fcn=xcs_metrics)"
   ]
  },
  {
   "cell_type": "code",
   "execution_count": 8,
   "metadata": {
    "scrolled": true
   },
   "outputs": [
    {
     "name": "stderr",
     "output_type": "stream",
     "text": [
      "INFO:lcs.agents.Agent:{'trial': 0, 'steps_in_trial': 50, 'reward': [5.753183395709529e-41, 2.159292778582813e-40, 1.253515642280712e-40, 2.5209629782634306e-40, 7.569508869886019e-41, 2.1873884048928495e-40, 1.6565574643280677e-40, 1.0842949299188363e-40], 'perf_time': 0.013000199999993356, 'population': 80, 'numerosity': 80}\n"
     ]
    },
    {
     "name": "stdout",
     "output_type": "stream",
     "text": [
      "Executing 0 experiment\n"
     ]
    },
    {
     "name": "stderr",
     "output_type": "stream",
     "text": [
      "INFO:lcs.agents.Agent:{'trial': 100, 'steps_in_trial': 29, 'reward': [31.364722236947603, 115.30520592778899, 9.886847369331884, 5.45662672155003, 4.638095391004085, 3.4042051167905645, 5.294142650228229, 5.7713915871528], 'perf_time': 0.015804799999997954, 'population': 208, 'numerosity': 208}\n",
      "INFO:lcs.agents.Agent:{'trial': 200, 'steps_in_trial': 17, 'reward': [194.2522502058606, 53.94857650381515, 98.73732628256941, 4.368861674886088, 7.243342732776246, 4.462264673335366, 4.9651884079276165, 6.027256527488662], 'perf_time': 0.008661399999994046, 'population': 208, 'numerosity': 208}\n",
      "INFO:lcs.agents.Agent:{'trial': 300, 'steps_in_trial': 4, 'reward': [55.90099092140596, 9.347028821258352, 112.84972165016924, 8.526653060070778, 13.479242086186956, 8.738785085541329, 7.3312894571345035, 9.303370669253274], 'perf_time': 0.00219750000000829, 'population': 208, 'numerosity': 208}\n",
      "INFO:lcs.agents.Agent:{'trial': 400, 'steps_in_trial': 27, 'reward': [151.6573397791832, 28.17872398602944, 103.51928164110005, 11.330155009397526, 11.291253128344799, 10.237645782316164, 8.273109409730461, 17.387805821544706], 'perf_time': 0.01506219999998848, 'population': 208, 'numerosity': 208}\n",
      "INFO:lcs.agents.Agent:{'trial': 500, 'steps_in_trial': 15, 'reward': [15.599542578943028, 22.1861740674874, 236.8621778331525, 6.424903512612943, 5.0259242985816694, 4.8404267865916175, 3.724898089171485, 6.320602759558719], 'perf_time': 0.008211399999993318, 'population': 208, 'numerosity': 208}\n",
      "INFO:lcs.agents.Agent:{'trial': 600, 'steps_in_trial': 14, 'reward': [11.209393057033436, 88.22111335382773, 185.41848984281881, 9.8373846384005, 9.58355448760817, 7.628260706513267, 12.879400190949491, 8.71539547107655], 'perf_time': 0.007842699999997649, 'population': 208, 'numerosity': 208}\n",
      "INFO:lcs.agents.Agent:{'trial': 700, 'steps_in_trial': 50, 'reward': [7.525738278691067, 12.632074761532518, 4.210015221535248, 2.2115655865632053, 4.885847941612, 5.044572320720668, 11.124657255686525, 4.224092710433779], 'perf_time': 0.02821760000000495, 'population': 208, 'numerosity': 208}\n",
      "INFO:lcs.agents.Agent:{'trial': 800, 'steps_in_trial': 9, 'reward': [103.44798306939396, 2.7211216907873217, 65.85805674895983, 2.276595330659599, 3.2341602473693705, 1.9933841629412652, 2.037225041880077, 3.8124875898816253], 'perf_time': 0.004918500000002268, 'population': 208, 'numerosity': 208}\n",
      "INFO:lcs.agents.Agent:{'trial': 900, 'steps_in_trial': 50, 'reward': [27.986658320848814, 16.26295763054417, 42.27279847246655, 14.535470614459436, 16.693948902787675, 11.808278960599793, 10.647436491402914, 11.065018155295887], 'perf_time': 0.0282418999999976, 'population': 208, 'numerosity': 208}\n",
      "INFO:lcs.agents.Agent:{'trial': 0, 'steps_in_trial': 50, 'reward': [56.022621610967406, 27.000597030354022, 11.864429225321373, 10.948703227912096, 0, 0, 0, 0], 'perf_time': 0.027835500000009006, 'population': 208, 'numerosity': 208}\n",
      "INFO:lcs.agents.Agent:{'trial': 0, 'steps_in_trial': 50, 'reward': [191.67374485997752, 16.921110324451234, 15.734373769969213, 21.878858214481596, 12.635835834994806, 29.75579313740069, 6.455431621529097, 24.650768960781686], 'perf_time': 0.027835500000009006, 'population': 208, 'numerosity': 208}\n",
      "INFO:lcs.agents.Agent:{'trial': 100, 'steps_in_trial': 5, 'reward': [56.0774141060445, 8.46236281911499, 152.73144894347047, 25.07775286658447, 11.435510805875317, 23.667745701801838, 12.259068256488588, 27.643694120440706], 'perf_time': 0.0027528000000103248, 'population': 208, 'numerosity': 208}\n",
      "INFO:lcs.agents.Agent:{'trial': 100, 'steps_in_trial': 5, 'reward': [58.36296071651075, 5.295290766332977, 85.31748526979484, 25.07775286658447, 9.552093766498263, 23.667745701801838, 12.259068256488588, 27.643694120440706], 'perf_time': 0.0027528000000103248, 'population': 208, 'numerosity': 208}\n",
      "INFO:lcs.agents.Agent:{'trial': 200, 'steps_in_trial': 1, 'reward': [49.696312202764474, 7.2760616593231155, 314.60100746471704, 25.48396388685908, 3.359636808097791, 11.055467037958111, 14.199533745986693, 10.447537620813701], 'perf_time': 0.0005548999999973603, 'population': 208, 'numerosity': 208}\n",
      "INFO:lcs.agents.Agent:{'trial': 200, 'steps_in_trial': 1, 'reward': [50.56259104092342, 7.2760616593231155, 222.4272290685879, 22.10240595247263, 3.1455297008982703, 9.186455790605562, 14.199533745986693, 8.721007099008311], 'perf_time': 0.0005548999999973603, 'population': 208, 'numerosity': 208}\n",
      "INFO:lcs.agents.Agent:{'trial': 300, 'steps_in_trial': 50, 'reward': [58.03930792978751, 7.2760616593231155, 123.84596740973069, 20.705821524626867, 3.1455297008982703, 9.186455790605562, 14.199533745986693, 8.721007099008311], 'perf_time': 0.027547900000001846, 'population': 208, 'numerosity': 208}\n",
      "INFO:lcs.agents.Agent:{'trial': 300, 'steps_in_trial': 50, 'reward': [53.2930824783776, 7.2760616593231155, 269.45554141570375, 19.760250290342853, 3.1455297008982703, 9.186455790605562, 14.199533745986693, 8.721007099008311], 'perf_time': 0.027547900000001846, 'population': 208, 'numerosity': 208}\n",
      "INFO:lcs.agents.Agent:{'trial': 400, 'steps_in_trial': 6, 'reward': [125.89987799071011, 7.2760616593231155, 276.1513759680013, 24.268467670522405, 3.1455297008982703, 9.186455790605562, 14.199533745986693, 8.721007099008311], 'perf_time': 0.003318399999997723, 'population': 208, 'numerosity': 208}\n",
      "INFO:lcs.agents.Agent:{'trial': 400, 'steps_in_trial': 6, 'reward': [49.467221263936864, 7.2760616593231155, 337.85372217618635, 21.804490012092852, 3.1455297008982703, 9.186455790605562, 14.199533745986693, 8.721007099008311], 'perf_time': 0.003318399999997723, 'population': 208, 'numerosity': 208}\n",
      "INFO:lcs.agents.Agent:{'trial': 0, 'steps_in_trial': 50, 'reward': [9.810687478587288e-78, 2.9767119848712097e-41, 5.131258768708651e-41, 1.7885796513748394e-40, 1.2722269414413771e-40, 1.091619466991612e-40, 2.435934752768197e-40, 1.049485495042346e-40], 'perf_time': 0.020887799999997014, 'population': 120, 'numerosity': 120}\n"
     ]
    },
    {
     "name": "stdout",
     "output_type": "stream",
     "text": [
      "Executing 1 experiment\n"
     ]
    },
    {
     "name": "stderr",
     "output_type": "stream",
     "text": [
      "INFO:lcs.agents.Agent:{'trial': 100, 'steps_in_trial': 8, 'reward': [50.62112069002153, 37.2796344090185, 332.3640542103291, 5.9946725851409814, 14.01427660976799, 6.1540185773130744, 7.664914993193679, 4.598023885727767], 'perf_time': 0.00420629999999278, 'population': 208, 'numerosity': 208}\n",
      "INFO:lcs.agents.Agent:{'trial': 200, 'steps_in_trial': 6, 'reward': [12.172643499434448, 47.80255296024599, 136.5314784792791, 10.83206409367851, 8.062748948580936, 12.764469862838915, 10.288269584059329, 6.428567186673897], 'perf_time': 0.0032070000000032906, 'population': 208, 'numerosity': 208}\n",
      "INFO:lcs.agents.Agent:{'trial': 300, 'steps_in_trial': 18, 'reward': [21.916594546083946, 58.643480059403416, 122.2556922402514, 9.706457628799665, 7.0950670587329006, 9.16453251173892, 16.164172237475412, 10.43615245091545], 'perf_time': 0.009965400000012892, 'population': 208, 'numerosity': 208}\n",
      "INFO:lcs.agents.Agent:{'trial': 400, 'steps_in_trial': 16, 'reward': [58.1536098170657, 21.324106165579984, 255.87153551235855, 7.056051330126887, 20.96004755203102, 15.442462094757891, 4.217911073483579, 15.428718602939739], 'perf_time': 0.008747900000003028, 'population': 208, 'numerosity': 208}\n",
      "INFO:lcs.agents.Agent:{'trial': 500, 'steps_in_trial': 50, 'reward': [21.42799538892951, 33.424855640741555, 38.04643951979606, 15.004759256666617, 10.764197097831449, 9.933301762968549, 10.075061456930067, 12.898988483887523], 'perf_time': 0.027856600000006893, 'population': 208, 'numerosity': 208}\n",
      "INFO:lcs.agents.Agent:{'trial': 600, 'steps_in_trial': 2, 'reward': [244.96953291501816, 13.408722389494631, 178.7067007983331, 22.10444927765198, 20.061339456387604, 19.26412090987238, 15.010230300102913, 17.904793278439353], 'perf_time': 0.0010192000000017742, 'population': 208, 'numerosity': 208}\n",
      "INFO:lcs.agents.Agent:{'trial': 700, 'steps_in_trial': 16, 'reward': [97.73632347254465, 20.312234978339312, 157.4947064748884, 21.071675095077918, 20.765110874657584, 28.961819561054252, 25.61253345439657, 24.532203453851036], 'perf_time': 0.008646199999986948, 'population': 208, 'numerosity': 208}\n",
      "INFO:lcs.agents.Agent:{'trial': 800, 'steps_in_trial': 50, 'reward': [5.585121834706401, 5.1003023984174884, 5.729591424838499, 6.33754826032045, 5.506206738458305, 6.378996675118023, 5.571139682794123, 7.307202174847787], 'perf_time': 0.02841590000001304, 'population': 208, 'numerosity': 208}\n",
      "INFO:lcs.agents.Agent:{'trial': 900, 'steps_in_trial': 50, 'reward': [18.908844504856255, 44.64263979613175, 4.91203082690008, 2.364819629767965, 1.8826200366613932, 1.95939515491611, 3.3086318794764304, 2.1785186236959078], 'perf_time': 0.025997300000000223, 'population': 208, 'numerosity': 208}\n",
      "INFO:lcs.agents.Agent:{'trial': 0, 'steps_in_trial': 32, 'reward': [100.76476828967576, 0.5426650948314187, 11.618062603905283, 5.885287793813143, 3.1448171666758045, 8.395214272244726, 3.008477975568314, 0], 'perf_time': 0.017576300000001766, 'population': 208, 'numerosity': 208}\n",
      "INFO:lcs.agents.Agent:{'trial': 0, 'steps_in_trial': 32, 'reward': [8.678908344184443, 1.4171270204317943, 350.7436346563678, 3.4631368081877936, 8.215517262727232, 5.1007760971355385, 1.8140856365809752, 1.4668136443763409], 'perf_time': 0.017576300000001766, 'population': 208, 'numerosity': 208}\n",
      "INFO:lcs.agents.Agent:{'trial': 100, 'steps_in_trial': 5, 'reward': [347.8209513314059, 3.016352818531976, 260.19077253463246, 3.4631368081877936, 11.098048405774037, 11.439044825999778, 1.8140856365809752, 1.4668136443763409], 'perf_time': 0.002724000000000615, 'population': 208, 'numerosity': 208}\n",
      "INFO:lcs.agents.Agent:{'trial': 100, 'steps_in_trial': 5, 'reward': [188.28052716017862, 1.895402468514706, 329.0412695403945, 3.4631368081877936, 15.617130087717435, 13.890109898111886, 1.8140856365809752, 1.4668136443763409], 'perf_time': 0.002724000000000615, 'population': 208, 'numerosity': 208}\n",
      "INFO:lcs.agents.Agent:{'trial': 200, 'steps_in_trial': 3, 'reward': [374.67185747949816, 24.63591627446231, 243.03756065622628, 3.4631368081877936, 18.755160884876396, 15.239094945804318, 1.8140856365809752, 1.4668136443763409], 'perf_time': 0.0016377000000034059, 'population': 208, 'numerosity': 208}\n",
      "INFO:lcs.agents.Agent:{'trial': 200, 'steps_in_trial': 3, 'reward': [325.8406534054887, 12.969102728939502, 390.71657048987925, 3.4631368081877936, 17.641068893037875, 13.576024197472533, 1.8140856365809752, 1.4668136443763409], 'perf_time': 0.0016377000000034059, 'population': 208, 'numerosity': 208}\n",
      "INFO:lcs.agents.Agent:{'trial': 300, 'steps_in_trial': 5, 'reward': [336.54717285846027, 33.26667377001794, 281.40484286288256, 3.4631368081877936, 16.613931412099042, 10.23476805674419, 1.8140856365809752, 1.4668136443763409], 'perf_time': 0.003030600000002437, 'population': 208, 'numerosity': 208}\n",
      "INFO:lcs.agents.Agent:{'trial': 300, 'steps_in_trial': 5, 'reward': [443.51622855554155, 37.095254598381494, 296.18184098738084, 3.4631368081877936, 15.393918384860779, 8.007655066780517, 1.8140856365809752, 1.4668136443763409], 'perf_time': 0.003030600000002437, 'population': 208, 'numerosity': 208}\n",
      "INFO:lcs.agents.Agent:{'trial': 400, 'steps_in_trial': 3, 'reward': [306.5389051818823, 62.066226423499245, 388.12211863705664, 3.4631368081877936, 13.376966270085813, 7.551478592368678, 1.8140856365809752, 1.4668136443763409], 'perf_time': 0.0015985000000000582, 'population': 208, 'numerosity': 208}\n",
      "INFO:lcs.agents.Agent:{'trial': 400, 'steps_in_trial': 3, 'reward': [281.857691065857, 45.33123166585428, 347.5314827642799, 3.4631368081877936, 9.461430699061712, 7.318323598011542, 1.8140856365809752, 1.4668136443763409], 'perf_time': 0.0015985000000000582, 'population': 208, 'numerosity': 208}\n",
      "INFO:lcs.agents.Agent:{'trial': 0, 'steps_in_trial': 50, 'reward': [1.7684016252953148e-40, 1.972456282562577e-40, 2.1998314076017012e-40, 3.824975183200267e-40, 3.0752086070970204e-40, 2.8580774887091197e-40, 2.5342352393797694e-40, 1.1097887802859766e-40], 'perf_time': 0.00962660000000426, 'population': 48, 'numerosity': 48}\n"
     ]
    },
    {
     "name": "stdout",
     "output_type": "stream",
     "text": [
      "Executing 2 experiment\n"
     ]
    },
    {
     "name": "stderr",
     "output_type": "stream",
     "text": [
      "INFO:lcs.agents.Agent:{'trial': 100, 'steps_in_trial': 22, 'reward': [109.15030975967807, 79.59897791868903, 80.67760263777848, 13.051723820716713, 7.097621149328505, 9.33045525741245, 12.423194081712918, 9.787867990618608], 'perf_time': 0.012282599999991817, 'population': 208, 'numerosity': 208}\n",
      "INFO:lcs.agents.Agent:{'trial': 200, 'steps_in_trial': 20, 'reward': [12.73437126053744, 176.9636515906899, 107.46146814796813, 4.768230165806335, 7.607955254373438, 5.317102313974156, 8.244984291997962, 4.610614153840894], 'perf_time': 0.010749599999996917, 'population': 208, 'numerosity': 208}\n",
      "INFO:lcs.agents.Agent:{'trial': 300, 'steps_in_trial': 50, 'reward': [42.88104190128752, 6.927136792226988, 12.10883647657914, 10.164255337415021, 9.425965373523391, 6.951358572555523, 6.4318359726778525, 7.564658162456427], 'perf_time': 0.028391799999994305, 'population': 208, 'numerosity': 208}\n",
      "INFO:lcs.agents.Agent:{'trial': 400, 'steps_in_trial': 36, 'reward': [31.274764584371937, 116.51877393780256, 27.461719396226933, 4.390500881685782, 4.5295845198368525, 15.226537085885662, 11.451720156887452, 18.565726520519128], 'perf_time': 0.02047770000000071, 'population': 208, 'numerosity': 208}\n",
      "INFO:lcs.agents.Agent:{'trial': 500, 'steps_in_trial': 36, 'reward': [33.61504434804696, 20.127709524520398, 151.72308544728827, 19.69467127267048, 16.840215955401945, 17.914072814494254, 15.37485733309765, 14.885316870697286], 'perf_time': 0.018956700000003934, 'population': 208, 'numerosity': 208}\n",
      "INFO:lcs.agents.Agent:{'trial': 600, 'steps_in_trial': 18, 'reward': [119.1756088241732, 33.72879798208478, 262.3953764453017, 19.782617560233856, 16.576785365104804, 12.607503952108212, 18.04711314596429, 21.13124314313495], 'perf_time': 0.00997780000000148, 'population': 208, 'numerosity': 208}\n",
      "INFO:lcs.agents.Agent:{'trial': 700, 'steps_in_trial': 11, 'reward': [101.5853153076191, 17.123314065208348, 163.759355414238, 22.115905709990194, 20.429385011913734, 20.26764897541594, 13.731884573886894, 21.88814859036496], 'perf_time': 0.0061801000000087924, 'population': 208, 'numerosity': 208}\n",
      "INFO:lcs.agents.Agent:{'trial': 800, 'steps_in_trial': 24, 'reward': [17.762020614811934, 120.41750699384824, 62.031153004323784, 10.89282142051817, 17.68299520964935, 11.284444943011325, 9.999110002094808, 17.77912112460275], 'perf_time': 0.013354500000005487, 'population': 208, 'numerosity': 208}\n",
      "INFO:lcs.agents.Agent:{'trial': 900, 'steps_in_trial': 12, 'reward': [313.1452194213769, 105.00091495460072, 117.24352723399231, 19.613680298605942, 15.146910668467164, 24.682137581818843, 31.518643576189252, 23.68507943252762], 'perf_time': 0.006204099999990831, 'population': 208, 'numerosity': 208}\n",
      "INFO:lcs.agents.Agent:{'trial': 0, 'steps_in_trial': 50, 'reward': [11.57716218784354, 0.650164514819176, 6.179722774320887, 4.777770043260996, 0.6714603369138, 0.5510026104622945, 2.310685609452138, 3.17438985728963], 'perf_time': 0.02749040000000491, 'population': 208, 'numerosity': 208}\n",
      "INFO:lcs.agents.Agent:{'trial': 0, 'steps_in_trial': 50, 'reward': [104.09462935814433, 77.86902257359742, 5.16524128009921, 5.372490135400434, 4.667527648297662, 5.771550442346223, 4.50173168673136, 6.611102206203423], 'perf_time': 0.02749040000000491, 'population': 208, 'numerosity': 208}\n",
      "INFO:lcs.agents.Agent:{'trial': 100, 'steps_in_trial': 9, 'reward': [6.906524903048193, 8.42896350689133, 110.10921543073236, 4.747502521961093, 9.011182252480575, 5.1445077263811125, 11.46997964676963, 8.615974517198296], 'perf_time': 0.005215599999985443, 'population': 208, 'numerosity': 208}\n",
      "INFO:lcs.agents.Agent:{'trial': 100, 'steps_in_trial': 9, 'reward': [3.341561219454855, 4.537732112279718, 19.716563800600866, 5.580362439939835, 4.942773299125746, 16.471180162193985, 3.7873935888366823, 10.150398388497457], 'perf_time': 0.005215599999985443, 'population': 208, 'numerosity': 208}\n",
      "INFO:lcs.agents.Agent:{'trial': 200, 'steps_in_trial': 3, 'reward': [8.902292783373671, 15.073682644947697, 205.52226604963556, 8.797146268694025, 14.146506645149836, 10.597535530539902, 3.7360501925222738, 5.168134975555163], 'perf_time': 0.0016213000000107058, 'population': 208, 'numerosity': 208}\n",
      "INFO:lcs.agents.Agent:{'trial': 200, 'steps_in_trial': 3, 'reward': [19.812982172052063, 22.99770681166704, 325.8105553124543, 4.7282341191127415, 11.515561686666803, 6.093455053583607, 27.90257100580612, 0.3827331986493938], 'perf_time': 0.0016213000000107058, 'population': 208, 'numerosity': 208}\n",
      "INFO:lcs.agents.Agent:{'trial': 300, 'steps_in_trial': 1, 'reward': [28.52264266507555, 23.940863742820717, 407.30756330551225, 4.7282341191127415, 15.821534727659571, 3.569919701823005, 8.478879389910816, 8.62016343066536], 'perf_time': 0.0005673000000001593, 'population': 208, 'numerosity': 208}\n",
      "INFO:lcs.agents.Agent:{'trial': 300, 'steps_in_trial': 1, 'reward': [44.21333465637062, 38.88407488970557, 525.0207327939197, 4.7282341191127415, 18.504180233314997, 2.8054760435937025, 12.592577568514232, 9.533022550381862], 'perf_time': 0.0005673000000001593, 'population': 208, 'numerosity': 208}\n",
      "INFO:lcs.agents.Agent:{'trial': 400, 'steps_in_trial': 4, 'reward': [50.23965532520499, 37.828162799537324, 452.79195660082746, 4.7282341191127415, 19.834461572036385, 2.8054760435937025, 19.519488191744802, 16.431702533693223], 'perf_time': 0.002166100000010829, 'population': 208, 'numerosity': 208}\n",
      "INFO:lcs.agents.Agent:{'trial': 400, 'steps_in_trial': 4, 'reward': [59.97680181340553, 47.7864940835952, 401.19358085764844, 4.7282341191127415, 20.70725915837149, 1.6704078840644785, 21.788399511333587, 7.2877031826921765], 'perf_time': 0.002166100000010829, 'population': 208, 'numerosity': 208}\n"
     ]
    }
   ],
   "source": [
    "from lcs.agents.xcs import XCS\n",
    "\n",
    "\n",
    "agent = XCS(cfg)\n",
    "my_metrics = avg_experiment(scenario,\n",
    "                    cfg,\n",
    "                    number_of_tests=3,\n",
    "                    explore_trials=exploration_cycles,\n",
    "                    exploit_metrics=exploitation_cycles)\n"
   ]
  },
  {
   "cell_type": "code",
   "execution_count": 9,
   "metadata": {},
   "outputs": [
    {
     "data": {
      "text/html": [
       "<div>\n",
       "<style scoped>\n",
       "    .dataframe tbody tr th:only-of-type {\n",
       "        vertical-align: middle;\n",
       "    }\n",
       "\n",
       "    .dataframe tbody tr th {\n",
       "        vertical-align: top;\n",
       "    }\n",
       "\n",
       "    .dataframe thead th {\n",
       "        text-align: right;\n",
       "    }\n",
       "</style>\n",
       "<table border=\"1\" class=\"dataframe\">\n",
       "  <thead>\n",
       "    <tr style=\"text-align: right;\">\n",
       "      <th></th>\n",
       "      <th>steps_in_trial</th>\n",
       "      <th>perf_time</th>\n",
       "      <th>population</th>\n",
       "      <th>numerosity</th>\n",
       "    </tr>\n",
       "    <tr>\n",
       "      <th>trial</th>\n",
       "      <th></th>\n",
       "      <th></th>\n",
       "      <th></th>\n",
       "      <th></th>\n",
       "    </tr>\n",
       "  </thead>\n",
       "  <tbody>\n",
       "    <tr>\n",
       "      <th>0</th>\n",
       "      <td>50.000000</td>\n",
       "      <td>0.014505</td>\n",
       "      <td>82.666667</td>\n",
       "      <td>82.666667</td>\n",
       "    </tr>\n",
       "    <tr>\n",
       "      <th>100</th>\n",
       "      <td>19.666667</td>\n",
       "      <td>0.010765</td>\n",
       "      <td>208.000000</td>\n",
       "      <td>208.000000</td>\n",
       "    </tr>\n",
       "    <tr>\n",
       "      <th>200</th>\n",
       "      <td>14.333333</td>\n",
       "      <td>0.007539</td>\n",
       "      <td>208.000000</td>\n",
       "      <td>208.000000</td>\n",
       "    </tr>\n",
       "    <tr>\n",
       "      <th>300</th>\n",
       "      <td>24.000000</td>\n",
       "      <td>0.013518</td>\n",
       "      <td>208.000000</td>\n",
       "      <td>208.000000</td>\n",
       "    </tr>\n",
       "    <tr>\n",
       "      <th>400</th>\n",
       "      <td>26.333333</td>\n",
       "      <td>0.014763</td>\n",
       "      <td>208.000000</td>\n",
       "      <td>208.000000</td>\n",
       "    </tr>\n",
       "    <tr>\n",
       "      <th>500</th>\n",
       "      <td>33.666667</td>\n",
       "      <td>0.018342</td>\n",
       "      <td>208.000000</td>\n",
       "      <td>208.000000</td>\n",
       "    </tr>\n",
       "    <tr>\n",
       "      <th>600</th>\n",
       "      <td>11.333333</td>\n",
       "      <td>0.006280</td>\n",
       "      <td>208.000000</td>\n",
       "      <td>208.000000</td>\n",
       "    </tr>\n",
       "    <tr>\n",
       "      <th>700</th>\n",
       "      <td>25.666667</td>\n",
       "      <td>0.014348</td>\n",
       "      <td>208.000000</td>\n",
       "      <td>208.000000</td>\n",
       "    </tr>\n",
       "    <tr>\n",
       "      <th>800</th>\n",
       "      <td>27.666667</td>\n",
       "      <td>0.015563</td>\n",
       "      <td>208.000000</td>\n",
       "      <td>208.000000</td>\n",
       "    </tr>\n",
       "    <tr>\n",
       "      <th>900</th>\n",
       "      <td>37.333333</td>\n",
       "      <td>0.020148</td>\n",
       "      <td>208.000000</td>\n",
       "      <td>208.000000</td>\n",
       "    </tr>\n",
       "    <tr>\n",
       "      <th>1000</th>\n",
       "      <td>44.000000</td>\n",
       "      <td>0.024301</td>\n",
       "      <td>208.000000</td>\n",
       "      <td>208.000000</td>\n",
       "    </tr>\n",
       "    <tr>\n",
       "      <th>1100</th>\n",
       "      <td>6.333333</td>\n",
       "      <td>0.003564</td>\n",
       "      <td>208.000000</td>\n",
       "      <td>208.000000</td>\n",
       "    </tr>\n",
       "    <tr>\n",
       "      <th>1200</th>\n",
       "      <td>2.333333</td>\n",
       "      <td>0.001271</td>\n",
       "      <td>208.000000</td>\n",
       "      <td>208.000000</td>\n",
       "    </tr>\n",
       "    <tr>\n",
       "      <th>1300</th>\n",
       "      <td>18.666667</td>\n",
       "      <td>0.010382</td>\n",
       "      <td>208.000000</td>\n",
       "      <td>208.000000</td>\n",
       "    </tr>\n",
       "    <tr>\n",
       "      <th>1400</th>\n",
       "      <td>4.333333</td>\n",
       "      <td>0.002361</td>\n",
       "      <td>208.000000</td>\n",
       "      <td>208.000000</td>\n",
       "    </tr>\n",
       "  </tbody>\n",
       "</table>\n",
       "</div>"
      ],
      "text/plain": [
       "       steps_in_trial  perf_time  population  numerosity\n",
       "trial                                                   \n",
       "0           50.000000   0.014505   82.666667   82.666667\n",
       "100         19.666667   0.010765  208.000000  208.000000\n",
       "200         14.333333   0.007539  208.000000  208.000000\n",
       "300         24.000000   0.013518  208.000000  208.000000\n",
       "400         26.333333   0.014763  208.000000  208.000000\n",
       "500         33.666667   0.018342  208.000000  208.000000\n",
       "600         11.333333   0.006280  208.000000  208.000000\n",
       "700         25.666667   0.014348  208.000000  208.000000\n",
       "800         27.666667   0.015563  208.000000  208.000000\n",
       "900         37.333333   0.020148  208.000000  208.000000\n",
       "1000        44.000000   0.024301  208.000000  208.000000\n",
       "1100         6.333333   0.003564  208.000000  208.000000\n",
       "1200         2.333333   0.001271  208.000000  208.000000\n",
       "1300        18.666667   0.010382  208.000000  208.000000\n",
       "1400         4.333333   0.002361  208.000000  208.000000"
      ]
     },
     "metadata": {},
     "output_type": "display_data"
    }
   ],
   "source": [
    "display(my_metrics)"
   ]
  },
  {
   "cell_type": "code",
   "execution_count": 10,
   "metadata": {},
   "outputs": [
    {
     "data": {
      "text/plain": [
       "<matplotlib.legend.Legend at 0x25cf09b6388>"
      ]
     },
     "execution_count": 10,
     "metadata": {},
     "output_type": "execute_result"
    },
    {
     "data": {
      "image/png": "[encoded data removed]",
      "text/plain": [
       "<Figure size 432x288 with 1 Axes>"
      ]
     },
     "metadata": {
      "needs_background": "light"
     },
     "output_type": "display_data"
    }
   ],
   "source": [
    "import pandas as pd\n",
    "\n",
    "ax = my_metrics['steps_in_trial'].plot()\n",
    "ax.set_xlabel(\"trial\")\n",
    "ax.set_ylabel(\"steps in trial\")\n",
    "ax.legend([\"steps\"])\n"
   ]
  },
  {
   "cell_type": "code",
   "execution_count": 11,
   "metadata": {},
   "outputs": [
    {
     "data": {
      "text/plain": [
       "<matplotlib.legend.Legend at 0x25cf212c988>"
      ]
     },
     "execution_count": 11,
     "metadata": {},
     "output_type": "execute_result"
    },
    {
     "data": {
      "image/png": "[encoded data removed]",
      "text/plain": [
       "<Figure size 432x288 with 1 Axes>"
      ]
     },
     "metadata": {
      "needs_background": "light"
     },
     "output_type": "display_data"
    }
   ],
   "source": [
    "ax = my_metrics[['numerosity', 'population']].plot()\n",
    "ax.set_xlabel(\"trial\")\n",
    "ax.set_ylabel(\"population\")\n",
    "ax.legend([\"numerosity\", \"number of rules\"])"
   ]
  },
  {
   "cell_type": "markdown",
   "metadata": {},
   "source": [
    "#### Conclusions\n",
    "None so far."
   ]
  },
  {
   "cell_type": "code",
   "execution_count": null,
   "metadata": {},
   "outputs": [],
   "source": []
  }
 ],
 "metadata": {
  "kernelspec": {
   "display_name": "Python 3",
   "language": "python",
   "name": "python3"
  },
  "language_info": {
   "codemirror_mode": {
    "name": "ipython",
    "version": 3
   },
   "file_extension": ".py",
   "mimetype": "text/x-python",
   "name": "python",
   "nbconvert_exporter": "python",
   "pygments_lexer": "ipython3",
   "version": "3.7.10"
  }
 },
 "nbformat": 4,
 "nbformat_minor": 4
}
