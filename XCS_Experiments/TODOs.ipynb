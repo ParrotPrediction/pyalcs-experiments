{
 "cells": [
  {
   "cell_type": "markdown",
   "id": "applied-topic",
   "metadata": {},
   "source": [
    "# TODOs\n",
    "\n",
    "## XCS\n",
    "\n",
    "### Bugs\n",
    "- There are duplicate classifiers in population. Please ensure that classes implement `__hash__` and `__eq__` methods. It should be unit tested as well\n",
    "\n",
    "### Enhancements\n",
    "- Perform `assert` statements to ensure perception is in valid type"
   ]
  }
 ],
 "metadata": {
  "kernelspec": {
   "display_name": "Python 3",
   "language": "python",
   "name": "python3"
  },
  "language_info": {
   "codemirror_mode": {
    "name": "ipython",
    "version": 3
   },
   "file_extension": ".py",
   "mimetype": "text/x-python",
   "name": "python",
   "nbconvert_exporter": "python",
   "pygments_lexer": "ipython3",
   "version": "3.7.10"
  }
 },
 "nbformat": 4,
 "nbformat_minor": 5
}
