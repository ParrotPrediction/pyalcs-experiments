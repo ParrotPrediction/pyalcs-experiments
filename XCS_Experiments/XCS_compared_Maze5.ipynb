{
 "cells": [
  {
   "cell_type": "code",
   "execution_count": 1,
   "metadata": {},
   "outputs": [],
   "source": [
    "import logging\n",
    "logging.root.setLevel(logging.INFO)\n"
   ]
  },
  {
   "cell_type": "code",
   "execution_count": 2,
   "metadata": {
    "scrolled": true
   },
   "outputs": [],
   "source": [
    "import random\n",
    "\n",
    "from xcs import XCSAlgorithm\n",
    "from xcs.scenarios import Scenario"
   ]
  },
  {
   "cell_type": "code",
   "execution_count": 3,
   "metadata": {},
   "outputs": [],
   "source": [
    "import random\n",
    "\n",
    "from xcs.scenarios import Scenario\n",
    "from xcs.bitstrings import BitString\n",
    "\n",
    "# environment setup\n",
    "import gym\n",
    "# noinspection PyUnresolvedReferences\n",
    "import gym_maze\n",
    "\n",
    "\n",
    "class MazeScenario(Scenario):\n",
    "    \n",
    "    def __init__(self, exploration_cycles, exploitation_cycles, input_size=8):\n",
    "        self.input_size = input_size\n",
    "        self.maze = gym.make('Maze5-v0')\n",
    "        self.possible_actions = (0, 1, 2, 3, 4, 5, 6, 7)\n",
    "        self.done = False\n",
    "        self.state = None\n",
    "        self.reward = 0\n",
    "        self.state = self.maze.reset()\n",
    "        self.remaining_cycles = exploration_cycles\n",
    "        self.exploration_cycles = exploration_cycles\n",
    "        self.exploitation_cycles = exploitation_cycles\n",
    "        \n",
    "        self.steps_array = []\n",
    "        self.steps = 0\n",
    "\n",
    "    def reset(self):\n",
    "        self.done = False\n",
    "        self.state = self.maze.reset()\n",
    "        no_reward_state=[]\n",
    "        for char in self.state:\n",
    "            if char == '1' or char == '0':\n",
    "                no_reward_state.append(char)\n",
    "            else:\n",
    "                no_reward_state.append('1')\n",
    "        return no_reward_state\n",
    "    \n",
    "    def switch_to_explitation(self):\n",
    "        self.remaining_cycles = self.exploitation_cycles\n",
    "        \n",
    "    # XCS Hosford42 functions\n",
    "    @property\n",
    "    def is_dynamic(self):\n",
    "        return False\n",
    "        \n",
    "    def get_possible_actions(self):\n",
    "        return self.possible_actions\n",
    "        \n",
    "    def more(self):\n",
    "        if self.done:\n",
    "            self.reset()\n",
    "            self.remaining_cycles -= 1\n",
    "            self.steps_array.append(self.steps)\n",
    "            self.steps = 0\n",
    "            self.reset()\n",
    "        return self.remaining_cycles >=0\n",
    "        \n",
    "    def sense(self):\n",
    "        no_reward_state=[]\n",
    "        for char in self.state:\n",
    "            if char == '1' or char == '0':\n",
    "                no_reward_state.append(char)\n",
    "            else:\n",
    "                no_reward_state.append('1')\n",
    "        return BitString(''.join(no_reward_state))\n",
    "    \n",
    "    def execute(self, action):\n",
    "        self.steps += 1\n",
    "        raw_state, step_reward, done, _ = self.maze.step(action)\n",
    "        self.state = raw_state\n",
    "        self.reward = step_reward\n",
    "        self.done = done\n",
    "        return self.reward\n",
    "\n",
    "    # XCS Pyalcs functions\n",
    "    def step(self, action):\n",
    "        raw_state, step_reward, done, _ = self.maze.step(action)\n",
    "        self.state = raw_state\n",
    "        self.reward = step_reward\n",
    "        self.done = done\n",
    "        no_reward_state=[]\n",
    "        for char in self.state:\n",
    "            if char == '1' or char == '0':\n",
    "                no_reward_state.append(char)\n",
    "            else:\n",
    "                no_reward_state.append('1')\n",
    "        return no_reward_state, self.reward, self.done, _"
   ]
  },
  {
   "cell_type": "code",
   "execution_count": 4,
   "metadata": {},
   "outputs": [],
   "source": [
    "exploration_cycles = 4000\n",
    "exploitation_cycles = 1000\n",
    "input_size = 8\n",
    "logging.root.setLevel(logging.INFO)\n",
    "scenario = MazeScenario(exploration_cycles, exploitation_cycles, input_size)"
   ]
  },
  {
   "cell_type": "code",
   "execution_count": 5,
   "metadata": {},
   "outputs": [],
   "source": [
    "import numpy as np\n",
    "algorithm = XCSAlgorithm()\n",
    "algorithm.max_population_size = 1600          # N\n",
    "algorithm.learning_rate = .2                 # beta\n",
    "algorithm.accuracy_coefficient = .1          # alpha\n",
    "algorithm.error_threshold = .01              # epsilon_0\n",
    "algorithm.accuracy_power = 5                 # nu\n",
    "algorithm.discount_factor = .71              # gamma\n",
    "algorithm.ga_threshold = 35                  # theta_GA\n",
    "algorithm.crossover_probability = .8         # chi\n",
    "algorithm.mutation_probability = .01         # mu\n",
    "algorithm.deletion_threshold = 20            # theta_del\n",
    "algorithm.fitness_threshold = .1             # delta\n",
    "algorithm.subsumption_threshold = 20         # theta_sub\n",
    "algorithm.wildcard_probability = .3          # P_#\n",
    "algorithm.initial_prediction = 10        # p_I\n",
    "algorithm.initial_error = .00001             # epsilon_I\n",
    "algorithm.initial_fitness = 10           # F_I\n",
    "algorithm.exploration_probability = .5       # p_exp\n",
    "algorithm.minimum_actions = 8             # theta_mna\n",
    "algorithm.do_ga_subsumption = False          # doGASubsumption\n",
    "algorithm.do_action_set_subsumption = False  # doActionSetSubsumption"
   ]
  },
  {
   "cell_type": "code",
   "execution_count": 6,
   "metadata": {},
   "outputs": [],
   "source": [
    "model = algorithm.new_model(scenario)\n",
    "model.run(scenario, learn=True)\n",
    "scenario.switch_to_explitation()\n",
    "model.algorithm.exploration_probability = 0\n",
    "model.run(scenario, learn=True)"
   ]
  },
  {
   "cell_type": "code",
   "execution_count": 7,
   "metadata": {},
   "outputs": [
    {
     "name": "stdout",
     "output_type": "stream",
     "text": [
      "176\n"
     ]
    }
   ],
   "source": [
    "print(len(model))"
   ]
  },
  {
   "cell_type": "code",
   "execution_count": 8,
   "metadata": {},
   "outputs": [
    {
     "data": {
      "text/plain": [
       "<matplotlib.legend.Legend at 0x16b2125f8c8>"
      ]
     },
     "execution_count": 8,
     "metadata": {},
     "output_type": "execute_result"
    },
    {
     "data": {
      "image/png": "[encoded data removed]",
      "text/plain": [
       "<Figure size 432x288 with 1 Axes>"
      ]
     },
     "metadata": {
      "needs_background": "light"
     },
     "output_type": "display_data"
    }
   ],
   "source": [
    "import pandas as pd\n",
    "\n",
    "df = pd.DataFrame(scenario.steps_array)\n",
    "ax = df.plot()\n",
    "ax.set_xlabel(\"trial\")\n",
    "ax.set_ylabel(\"steps_in_trial\")\n",
    "ax.legend([\"steps other XCS\"])"
   ]
  },
  {
   "cell_type": "code",
   "execution_count": 9,
   "metadata": {},
   "outputs": [],
   "source": [
    "from lcs.agents.xcs import Configuration\n",
    "\n",
    "cfg = Configuration(\n",
    "    number_of_actions=algorithm.minimum_actions,\n",
    "    covering_wildcard_chance=1-algorithm.wildcard_probability,\n",
    "    max_population=algorithm.max_population_size,\n",
    "    learning_rate=algorithm.learning_rate,\n",
    "    alpha=algorithm.accuracy_coefficient,\n",
    "    epsilon_0=algorithm.error_threshold,\n",
    "    v=algorithm.accuracy_power,\n",
    "    gamma=algorithm.discount_factor,\n",
    "    ga_threshold=algorithm.ga_threshold,\n",
    "    chi=algorithm.crossover_probability,\n",
    "    mutation_chance=algorithm.mutation_probability,\n",
    "    deletion_threshold=algorithm.deletion_threshold,\n",
    "    delta=algorithm.fitness_threshold,\n",
    "    subsumption_threshold=algorithm.subsumption_threshold,\n",
    "    initial_prediction=algorithm.initial_prediction,\n",
    "    initial_error=algorithm.initial_error,\n",
    "    initial_fitness=algorithm.initial_fitness,\n",
    "    epsilon=algorithm.exploration_probability)\n",
    "\n"
   ]
  },
  {
   "cell_type": "code",
   "execution_count": 10,
   "metadata": {},
   "outputs": [
    {
     "name": "stderr",
     "output_type": "stream",
     "text": [
      "INFO:lcs.agents.Agent:{'trial': 0, 'steps_in_trial': 50, 'reward': [0, 0, 0, 0, 0, 0, 0, 337.47325870994104], 'perf_time': 0.006538899999952719}\n"
     ]
    },
    {
     "name": "stdout",
     "output_type": "stream",
     "text": [
      "Executing 0 experiment\n"
     ]
    },
    {
     "name": "stderr",
     "output_type": "stream",
     "text": [
      "INFO:lcs.agents.Agent:{'trial': 400, 'steps_in_trial': 50, 'reward': [1.0148173383781874e+19, 4.073459928830947e+19, 3.518826850895822e+19, 2.897046519622881e+19, 2.4630615109386056e+20, 2.4114153513675758e+20, 7.833037695324916e+20, 1.7307065797555233e+18], 'perf_time': 0.027840399999945475}\n",
      "INFO:lcs.agents.Agent:{'trial': 800, 'steps_in_trial': 50, 'reward': [1.573269138376133e+24, 1.3731331491908394e+27, 5.425354965009374e+26, 7.086928620932512e+27, 7.21007351642932e+26, 2.9990373080629794e+26, 1.4251708662289594e+27, 1.4361398509435144e+27], 'perf_time': 0.02816899999999123}\n",
      "INFO:lcs.agents.Agent:{'trial': 1200, 'steps_in_trial': 50, 'reward': [7.310660883119861e+32, 1.1661542271202125e+34, 6.785451784458224e+30, 1.2820989055527648e+32, 4.950309370208078e+32, 7.822677909196943e+32, 2.636174650764915e+34, 7.510091034367179e+32], 'perf_time': 0.03053299999999126}\n",
      "INFO:lcs.agents.Agent:{'trial': 1600, 'steps_in_trial': 50, 'reward': [1.050769430143061e+39, 9.50693823658764e+37, 9.010486088433386e+37, 1.225940618193259e+39, 9.391160066031166e+36, 1.2580807467998268e+39, 1.161693069138613e+39, 8.850213442710758e+37], 'perf_time': 0.02632269999998016}\n",
      "INFO:lcs.agents.Agent:{'trial': 2000, 'steps_in_trial': 50, 'reward': [3.84471852773688e+40, 1.4262489468009805e+40, 1.5345764066967956e+39, 1.6411892351438143e+39, 8.959838406678875e+38, 1.4751627998183314e+39, 9.06320851035102e+35, 4.2705759106484254e+39], 'perf_time': 0.027792899999951715}\n",
      "INFO:lcs.agents.Agent:{'trial': 2400, 'steps_in_trial': 50, 'reward': [1.8537608761624963e+44, 2.647550798065811e+44, 1.591788105964898e+44, 1.1151343781369e+44, 1.4244359270566382e+44, 3.1344925986303957e+43, 7.18416296651586e+41, 1.6359869869514158e+44], 'perf_time': 0.028567199999997683}\n",
      "INFO:lcs.agents.Agent:{'trial': 2800, 'steps_in_trial': 50, 'reward': [3.2511187657160804e+38, 1.18574597906815e+44, 1.797088898378277e+44, 5.9102959085215784e+41, 1.9920354674287356e+43, 2.9604149179190028e+44, 1.4450497743348973e+43, 1.0495886618561919e+45], 'perf_time': 0.02991220000001249}\n",
      "INFO:lcs.agents.Agent:{'trial': 3200, 'steps_in_trial': 50, 'reward': [3.980022059032881e+44, 7.900450704779844e+46, 8.709660800883775e+43, 3.323345053104063e+44, 5.438001188743115e+46, 1.9712097795650456e+48, 2.075878640099237e+47, 7.215069637440155e+45], 'perf_time': 0.028919100000052822}\n",
      "INFO:lcs.agents.Agent:{'trial': 3600, 'steps_in_trial': 50, 'reward': [7.068039373528805e+39, 7.923063862348319e+46, 1.3796526324929311e+48, 1.287857210745437e+49, 1.3521249222465882e+45, 4.607883638555973e+46, 8.157689941542512e+45, 2.354834568321254e+47], 'perf_time': 0.02927730000004658}\n",
      "INFO:lcs.agents.Agent:{'trial': 0, 'steps_in_trial': 50, 'reward': [0, 0, 2.015096861565465e+47, 5.018998852817211e+39, 1.4767104147955505e+49, 0, 0, 0], 'perf_time': 0.02835770000001503}\n",
      "INFO:lcs.agents.Agent:{'trial': 100, 'steps_in_trial': 50, 'reward': [3.9244294927552335e+48, 1.4543502523402253e+48, 3.900819603437095e+47, 8.451350791283988e+43, 1.0404908759015379e+43, 2.5483914528415335e+42, 8.403783716274723e+48, 6.1445406985834955e+47], 'perf_time': 0.02925810000004958}\n",
      "INFO:lcs.agents.Agent:{'trial': 200, 'steps_in_trial': 50, 'reward': [2.1009152160734343e+48, 1.3597037176016168e+48, 3.2092443843446877e+47, 3.1124920158641287e+43, 1.3767179640721e+46, 2.7363209071803962e+42, 8.403783739541915e+48, 7.084085976647115e+46], 'perf_time': 0.030637699999999768}\n",
      "INFO:lcs.agents.Agent:{'trial': 300, 'steps_in_trial': 50, 'reward': [2.5529968472993237e+48, 1.4716109548891058e+48, 4.027421372945576e+47, 4.727095862693737e+47, 2.5910617730134936e+46, 2.7374207519434612e+42, 8.403924796823335e+48, 1.457447789355475e+46], 'perf_time': 0.028804299999990235}\n",
      "INFO:lcs.agents.Agent:{'trial': 400, 'steps_in_trial': 50, 'reward': [9.978158117643348e+47, 1.6044205302970558e+48, 3.685435273592479e+47, 6.465769687422336e+42, 1.476741768471549e+49, 2.7374367581998586e+42, 8.403783716274684e+48, 2.289266692271513e+46], 'perf_time': 0.035312099999998736}\n",
      "INFO:lcs.agents.Agent:{'trial': 500, 'steps_in_trial': 50, 'reward': [5.824316748839119e+38, 1.5785321545465542e+48, 3.4030539784466384e+47, 1.5712748740986213e+47, 1.4767618724219376e+49, 2.737436833270314e+42, 1.0896470263974954e+48, 1.7431529438931397e+45], 'perf_time': 0.030306999999993423}\n",
      "INFO:lcs.agents.Agent:{'trial': 600, 'steps_in_trial': 50, 'reward': [1.9465105076323396e+43, 1.5941116205532213e+48, 1.035872374227058e+46, 6.345063027123967e+46, 2.1219311466694478e+48, 2.737436834051896e+42, 8.4037837162735e+48, 8.848624241949254e+44], 'perf_time': 0.02971509999997579}\n",
      "INFO:lcs.agents.Agent:{'trial': 700, 'steps_in_trial': 50, 'reward': [2.5218903695320843e+45, 1.6727843905917067e+48, 4.638166624664931e+47, 1.5495948127301378e+47, 1.4765798748831984e+49, 2.7374368341448287e+42, 8.403783714968659e+48, 1.0901979157647282e+45], 'perf_time': 0.030452200000013363}\n",
      "INFO:lcs.agents.Agent:{'trial': 800, 'steps_in_trial': 50, 'reward': [1.5341021100529596e+38, 1.5242392902253743e+48, 2.6905414774636066e+46, 4.0624156355040743e+46, 4.0036388097251355e+47, 2.7374368341458933e+42, 8.40356823492866e+48, 1.1657368268186952e+45], 'perf_time': 0.029527200000018183}\n",
      "INFO:lcs.agents.Agent:{'trial': 900, 'steps_in_trial': 50, 'reward': [1.4797193019101314e+48, 2.1658055838725938e+48, 7.517209526575011e+48, 2.182845240561643e+45, 9.989030225651386e+48, 2.737436834145912e+42, 3.4834162016846276e+48, 1.4211631049463195e+45], 'perf_time': 0.030793599999981325}\n"
     ]
    }
   ],
   "source": [
    "from lcs.agents.xcs import XCS\n",
    "from utils.xcs_utils import *\n",
    "\n",
    "agent = XCS(cfg)\n",
    "my_df = avg_experiment(scenario,\n",
    "                    cfg,\n",
    "                    number_of_tests=1,\n",
    "                    explore_trials=exploration_cycles,\n",
    "                    exploit_metrics=exploitation_cycles)\n"
   ]
  },
  {
   "cell_type": "code",
   "execution_count": 11,
   "metadata": {},
   "outputs": [
    {
     "data": {
      "text/plain": [
       "<matplotlib.legend.Legend at 0x16b22f5cbc8>"
      ]
     },
     "execution_count": 11,
     "metadata": {},
     "output_type": "execute_result"
    },
    {
     "data": {
      "image/png": "[encoded data removed]",
      "text/plain": [
       "<Figure size 432x288 with 1 Axes>"
      ]
     },
     "metadata": {
      "needs_background": "light"
     },
     "output_type": "display_data"
    }
   ],
   "source": [
    "import pandas as pd\n",
    "\n",
    "ax = my_df['steps_in_trial'].plot()\n",
    "ax.set_xlabel(\"trial\")\n",
    "ax.set_ylabel(\"steps in trial\")\n",
    "ax.legend([\"steps\"])\n"
   ]
  },
  {
   "cell_type": "markdown",
   "metadata": {},
   "source": [
    "#### Conclusions\n",
    "Conclusion to previous tests: Performing test with default values to my implementation, 4000 explore trials, 1000 exploit trials showed that both algorithms behave similarly. \n",
    "<br />\n",
    "The tests with values mirroring the ones from An Analysis of Generalization in the XCS Classifier System resulted in both XCS performing worse than in original test."
   ]
  },
  {
   "cell_type": "code",
   "execution_count": null,
   "metadata": {},
   "outputs": [],
   "source": []
  }
 ],
 "metadata": {
  "kernelspec": {
   "display_name": "Python 3",
   "language": "python",
   "name": "python3"
  },
  "language_info": {
   "codemirror_mode": {
    "name": "ipython",
    "version": 3
   },
   "file_extension": ".py",
   "mimetype": "text/x-python",
   "name": "python",
   "nbconvert_exporter": "python",
   "pygments_lexer": "ipython3",
   "version": "3.7.10"
  }
 },
 "nbformat": 4,
 "nbformat_minor": 4
}
