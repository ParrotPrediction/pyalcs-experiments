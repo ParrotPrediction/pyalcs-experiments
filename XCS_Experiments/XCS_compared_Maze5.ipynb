{
 "cells": [
  {
   "cell_type": "code",
   "execution_count": 1,
   "metadata": {},
   "outputs": [],
   "source": [
    "import logging\n",
    "logging.root.setLevel(logging.INFO)\n"
   ]
  },
  {
   "cell_type": "code",
   "execution_count": 2,
   "metadata": {
    "scrolled": true
   },
   "outputs": [],
   "source": [
    "import random\n",
    "\n",
    "from xcs import XCSAlgorithm\n",
    "from xcs.scenarios import Scenario"
   ]
  },
  {
   "cell_type": "code",
   "execution_count": 3,
   "metadata": {},
   "outputs": [],
   "source": [
    "from utils.xcs_utils import *"
   ]
  },
  {
   "cell_type": "code",
   "execution_count": 4,
   "metadata": {},
   "outputs": [
    {
     "name": "stdout",
     "output_type": "stream",
     "text": [
      "\n",
      "\u001b[30m■\u001b[0m \u001b[30m■\u001b[0m \u001b[30m■\u001b[0m \u001b[30m■\u001b[0m \u001b[30m■\u001b[0m \u001b[30m■\u001b[0m \u001b[30m■\u001b[0m \u001b[30m■\u001b[0m\n",
      "\u001b[30m■\u001b[0m \u001b[37m□\u001b[0m \u001b[37m□\u001b[0m \u001b[30m■\u001b[0m \u001b[37m□\u001b[0m \u001b[37m□\u001b[0m \u001b[33m$\u001b[0m \u001b[30m■\u001b[0m\n",
      "\u001b[30m■\u001b[0m \u001b[30m■\u001b[0m \u001b[37m□\u001b[0m \u001b[37m□\u001b[0m \u001b[30m■\u001b[0m \u001b[37m□\u001b[0m \u001b[37m□\u001b[0m \u001b[30m■\u001b[0m\n",
      "\u001b[30m■\u001b[0m \u001b[30m■\u001b[0m \u001b[37m□\u001b[0m \u001b[30m■\u001b[0m \u001b[37m□\u001b[0m \u001b[37m□\u001b[0m \u001b[30m■\u001b[0m \u001b[30m■\u001b[0m\n",
      "\u001b[30m■\u001b[0m \u001b[37m□\u001b[0m \u001b[37m□\u001b[0m \u001b[37m□\u001b[0m \u001b[31mA\u001b[0m \u001b[37m□\u001b[0m \u001b[37m□\u001b[0m \u001b[30m■\u001b[0m\n",
      "\u001b[30m■\u001b[0m \u001b[30m■\u001b[0m \u001b[37m□\u001b[0m \u001b[30m■\u001b[0m \u001b[37m□\u001b[0m \u001b[37m□\u001b[0m \u001b[37m□\u001b[0m \u001b[30m■\u001b[0m\n",
      "\u001b[30m■\u001b[0m \u001b[37m□\u001b[0m \u001b[37m□\u001b[0m \u001b[37m□\u001b[0m \u001b[37m□\u001b[0m \u001b[30m■\u001b[0m \u001b[37m□\u001b[0m \u001b[30m■\u001b[0m\n",
      "\u001b[30m■\u001b[0m \u001b[30m■\u001b[0m \u001b[30m■\u001b[0m \u001b[30m■\u001b[0m \u001b[30m■\u001b[0m \u001b[30m■\u001b[0m \u001b[30m■\u001b[0m \u001b[30m■\u001b[0m\n"
     ]
    }
   ],
   "source": [
    "exploration_cycles = 1000\n",
    "exploitation_cycles = 500\n",
    "input_size = 8\n",
    "logging.root.setLevel(logging.INFO)\n",
    "scenario = MazeScenario(input_size)\n",
    "scenario.maze.reset()\n",
    "scenario.maze.render()"
   ]
  },
  {
   "cell_type": "code",
   "execution_count": 5,
   "metadata": {},
   "outputs": [],
   "source": [
    "import numpy as np\n",
    "algorithm = XCSAlgorithm()\n",
    "algorithm.max_population_size = 1600\n",
    "algorithm.learning_rate = .1\n",
    "algorithm.error_threshold = .01              # epsilon_0\n",
    "algorithm.ga_threshold = 25\n",
    "algorithm.crossover_probability = 1\n",
    "algorithm.mutation_probability = 0.01\n",
    "algorithm.initial_prediction = 0.000001               # p_I\n",
    "algorithm.initial_error = 0.000001            # epsilon_I\n",
    "algorithm.initial_fitness = 0.000001           # F_I\n",
    "algorithm.wildcard_probability = 0.0"
   ]
  },
  {
   "cell_type": "code",
   "execution_count": 6,
   "metadata": {},
   "outputs": [
    {
     "name": "stdout",
     "output_type": "stream",
     "text": [
      "Executing 0 experiment\n"
     ]
    }
   ],
   "source": [
    "other_metrics = other_avg_experiment(\n",
    "                                     maze=scenario,\n",
    "                                     algorithm=algorithm,\n",
    "                                     number_of_tests=1,\n",
    "                                     explore_trials=exploration_cycles,\n",
    "                                     exploit_trials=exploitation_cycles\n",
    "                                    )\n"
   ]
  },
  {
   "cell_type": "code",
   "execution_count": 7,
   "metadata": {},
   "outputs": [
    {
     "data": {
      "text/html": [
       "<div>\n",
       "<style scoped>\n",
       "    .dataframe tbody tr th:only-of-type {\n",
       "        vertical-align: middle;\n",
       "    }\n",
       "\n",
       "    .dataframe tbody tr th {\n",
       "        vertical-align: top;\n",
       "    }\n",
       "\n",
       "    .dataframe thead th {\n",
       "        text-align: right;\n",
       "    }\n",
       "</style>\n",
       "<table border=\"1\" class=\"dataframe\">\n",
       "  <thead>\n",
       "    <tr style=\"text-align: right;\">\n",
       "      <th></th>\n",
       "      <th>steps_in_trial</th>\n",
       "      <th>population</th>\n",
       "      <th>numerosity</th>\n",
       "    </tr>\n",
       "    <tr>\n",
       "      <th>trial</th>\n",
       "      <th></th>\n",
       "      <th></th>\n",
       "      <th></th>\n",
       "    </tr>\n",
       "  </thead>\n",
       "  <tbody>\n",
       "    <tr>\n",
       "      <th>0</th>\n",
       "      <td>50</td>\n",
       "      <td>48</td>\n",
       "      <td>48</td>\n",
       "    </tr>\n",
       "    <tr>\n",
       "      <th>100</th>\n",
       "      <td>11</td>\n",
       "      <td>356</td>\n",
       "      <td>1600</td>\n",
       "    </tr>\n",
       "    <tr>\n",
       "      <th>200</th>\n",
       "      <td>50</td>\n",
       "      <td>406</td>\n",
       "      <td>1600</td>\n",
       "    </tr>\n",
       "    <tr>\n",
       "      <th>300</th>\n",
       "      <td>21</td>\n",
       "      <td>463</td>\n",
       "      <td>1600</td>\n",
       "    </tr>\n",
       "    <tr>\n",
       "      <th>400</th>\n",
       "      <td>50</td>\n",
       "      <td>459</td>\n",
       "      <td>1600</td>\n",
       "    </tr>\n",
       "    <tr>\n",
       "      <th>500</th>\n",
       "      <td>50</td>\n",
       "      <td>430</td>\n",
       "      <td>1600</td>\n",
       "    </tr>\n",
       "    <tr>\n",
       "      <th>600</th>\n",
       "      <td>48</td>\n",
       "      <td>487</td>\n",
       "      <td>1600</td>\n",
       "    </tr>\n",
       "    <tr>\n",
       "      <th>700</th>\n",
       "      <td>50</td>\n",
       "      <td>495</td>\n",
       "      <td>1600</td>\n",
       "    </tr>\n",
       "    <tr>\n",
       "      <th>800</th>\n",
       "      <td>50</td>\n",
       "      <td>501</td>\n",
       "      <td>1600</td>\n",
       "    </tr>\n",
       "    <tr>\n",
       "      <th>900</th>\n",
       "      <td>50</td>\n",
       "      <td>472</td>\n",
       "      <td>1600</td>\n",
       "    </tr>\n",
       "    <tr>\n",
       "      <th>1000</th>\n",
       "      <td>50</td>\n",
       "      <td>478</td>\n",
       "      <td>1600</td>\n",
       "    </tr>\n",
       "    <tr>\n",
       "      <th>1100</th>\n",
       "      <td>50</td>\n",
       "      <td>548</td>\n",
       "      <td>1600</td>\n",
       "    </tr>\n",
       "    <tr>\n",
       "      <th>1200</th>\n",
       "      <td>5</td>\n",
       "      <td>552</td>\n",
       "      <td>1600</td>\n",
       "    </tr>\n",
       "    <tr>\n",
       "      <th>1300</th>\n",
       "      <td>3</td>\n",
       "      <td>538</td>\n",
       "      <td>1600</td>\n",
       "    </tr>\n",
       "    <tr>\n",
       "      <th>1400</th>\n",
       "      <td>21</td>\n",
       "      <td>504</td>\n",
       "      <td>1600</td>\n",
       "    </tr>\n",
       "  </tbody>\n",
       "</table>\n",
       "</div>"
      ],
      "text/plain": [
       "       steps_in_trial  population  numerosity\n",
       "trial                                        \n",
       "0                  50          48          48\n",
       "100                11         356        1600\n",
       "200                50         406        1600\n",
       "300                21         463        1600\n",
       "400                50         459        1600\n",
       "500                50         430        1600\n",
       "600                48         487        1600\n",
       "700                50         495        1600\n",
       "800                50         501        1600\n",
       "900                50         472        1600\n",
       "1000               50         478        1600\n",
       "1100               50         548        1600\n",
       "1200                5         552        1600\n",
       "1300                3         538        1600\n",
       "1400               21         504        1600"
      ]
     },
     "metadata": {},
     "output_type": "display_data"
    }
   ],
   "source": [
    "display(other_metrics)"
   ]
  },
  {
   "cell_type": "code",
   "execution_count": 8,
   "metadata": {},
   "outputs": [
    {
     "data": {
      "text/plain": [
       "<matplotlib.legend.Legend at 0x1859719d788>"
      ]
     },
     "execution_count": 8,
     "metadata": {},
     "output_type": "execute_result"
    },
    {
     "data": {
      "image/png": "[encoded data removed]",
      "text/plain": [
       "<Figure size 432x288 with 1 Axes>"
      ]
     },
     "metadata": {
      "needs_background": "light"
     },
     "output_type": "display_data"
    }
   ],
   "source": [
    "import pandas as pd\n",
    "\n",
    "ax = other_metrics[\"steps_in_trial\"].plot()\n",
    "ax.set_xlabel(\"trial\")\n",
    "ax.set_ylabel(\"steps_in_trial\")\n",
    "ax.legend([\"steps other XCS\"])"
   ]
  },
  {
   "cell_type": "code",
   "execution_count": 9,
   "metadata": {},
   "outputs": [
    {
     "data": {
      "text/plain": [
       "<matplotlib.legend.Legend at 0x1859916de08>"
      ]
     },
     "execution_count": 9,
     "metadata": {},
     "output_type": "execute_result"
    },
    {
     "data": {
      "image/png": "[encoded data removed]",
      "text/plain": [
       "<Figure size 432x288 with 1 Axes>"
      ]
     },
     "metadata": {
      "needs_background": "light"
     },
     "output_type": "display_data"
    }
   ],
   "source": [
    "ax = other_metrics[['numerosity', 'population']].plot()\n",
    "ax.set_xlabel(\"trial\")\n",
    "ax.set_ylabel(\"population\")\n",
    "ax.legend([\"numerosity\", \"number of rules\"])"
   ]
  },
  {
   "cell_type": "code",
   "execution_count": 10,
   "metadata": {},
   "outputs": [],
   "source": [
    "from lcs.agents.xcs import Configuration\n",
    "from utils.xcs_utils import *\n",
    "                    \n",
    "\n",
    "cfg = Configuration(number_of_actions=8,\n",
    "                    max_population=1600,\n",
    "                    covering_wildcard_chance = 1,\n",
    "                    ga_threshold = 25,\n",
    "                    metrics_trial_frequency=100,\n",
    "                    mutation_chance=0.03,\n",
    "                    chi=1,                           # crossover\n",
    "                    initial_prediction = 0.000001,               # p_I\n",
    "                    initial_error = 0.000001,            # epsilon_I\n",
    "                    initial_fitness = 0.000001,           # F_I\n",
    "                    user_metrics_collector_fcn=xcs_metrics)"
   ]
  },
  {
   "cell_type": "code",
   "execution_count": null,
   "metadata": {},
   "outputs": [],
   "source": []
  },
  {
   "cell_type": "code",
   "execution_count": 11,
   "metadata": {
    "scrolled": true
   },
   "outputs": [
    {
     "name": "stderr",
     "output_type": "stream",
     "text": [
      "INFO:lcs.agents.Agent:{'trial': 0, 'steps_in_trial': 50, 'reward': [4.853293400638485e-09, 1.5513008505456238e-08, 4.853293400638485e-09, 1.0666607281520895e-08, 1.1330331416714414e-08, 2.25638247058798e-08, 2.3519964529236892e-08, 1.4966103277479953e-08], 'perf_time': 0.014919000000006122, 'population': 80, 'numerosity': 80}\n"
     ]
    },
    {
     "name": "stdout",
     "output_type": "stream",
     "text": [
      "Executing 0 experiment\n"
     ]
    },
    {
     "name": "stderr",
     "output_type": "stream",
     "text": [
      "INFO:lcs.agents.Agent:{'trial': 100, 'steps_in_trial': 35, 'reward': [20.72817337478072, 150.34470800498298, 17.841370537799342, 21.211367711060426, 24.757264794946533, 19.664738591081985, 30.485395490220334, 24.808342688869462], 'perf_time': 0.06060149999998998, 'population': 329, 'numerosity': 1600}\n",
      "INFO:lcs.agents.Agent:{'trial': 200, 'steps_in_trial': 36, 'reward': [57.54307373548139, 43.10794007818909, 148.96376212111437, 31.749378240500242, 50.72326620400441, 42.606363769847434, 49.943004843631385, 35.90668008392791], 'perf_time': 0.08095700000001216, 'population': 361, 'numerosity': 1600}\n",
      "INFO:lcs.agents.Agent:{'trial': 300, 'steps_in_trial': 19, 'reward': [65.69862693774058, 169.062476389856, 54.914263901857694, 59.23680565948616, 73.9389692709207, 75.2763929881259, 67.51153007914898, 74.68218691446816], 'perf_time': 0.0511620999999991, 'population': 384, 'numerosity': 1600}\n",
      "INFO:lcs.agents.Agent:{'trial': 400, 'steps_in_trial': 14, 'reward': [184.88413944823566, 71.64299250573869, 161.40297093554295, 54.95558345180356, 64.82453659762308, 70.19710268302498, 55.585954549073435, 63.49967970484722], 'perf_time': 0.03065639999999803, 'population': 397, 'numerosity': 1600}\n",
      "INFO:lcs.agents.Agent:{'trial': 500, 'steps_in_trial': 50, 'reward': [112.32783463975882, 54.62594605362509, 95.23037268533479, 82.2007233574991, 67.00459118440003, 74.85674689311104, 69.54091730129956, 67.78104852098149], 'perf_time': 0.110060500000003, 'population': 409, 'numerosity': 1600}\n",
      "INFO:lcs.agents.Agent:{'trial': 600, 'steps_in_trial': 50, 'reward': [141.3800628472801, 160.31288008695194, 103.64745294253063, 94.48305191744603, 85.17235888133806, 71.690145497079, 102.70176751621187, 69.15701159172221], 'perf_time': 0.11709110000001033, 'population': 418, 'numerosity': 1600}\n",
      "INFO:lcs.agents.Agent:{'trial': 700, 'steps_in_trial': 19, 'reward': [96.30882264454742, 140.64046843423543, 205.45335304046233, 114.29463132699274, 85.60995301671983, 81.21171047716378, 63.849258277631215, 103.72035250395854], 'perf_time': 0.04401070000000118, 'population': 415, 'numerosity': 1600}\n",
      "INFO:lcs.agents.Agent:{'trial': 800, 'steps_in_trial': 6, 'reward': [158.06753890782258, 40.88731352597092, 52.30829706994995, 40.53246472615053, 42.70689636783641, 54.10170911776683, 41.25323353824324, 38.17989915973899], 'perf_time': 0.013662899999985711, 'population': 408, 'numerosity': 1600}\n",
      "INFO:lcs.agents.Agent:{'trial': 900, 'steps_in_trial': 38, 'reward': [46.063869274041984, 36.958552041707506, 138.06561230587332, 37.644000727333044, 37.77768317111649, 49.66088298933521, 39.68959259593951, 36.24199566945813], 'perf_time': 0.10360219999998321, 'population': 400, 'numerosity': 1600}\n",
      "INFO:lcs.agents.Agent:{'trial': 0, 'steps_in_trial': 50, 'reward': [46.43657369975104, 42.95672701923821, 14.003551747776038, 14.003551747776038, 38.294279550416356, 0, 43.36722020471757, 68.89584633487222], 'perf_time': 0.04701449999998886, 'population': 399, 'numerosity': 1600}\n",
      "INFO:lcs.agents.Agent:{'trial': 0, 'steps_in_trial': 50, 'reward': [138.6474988625682, 59.615932636793964, 76.91973299838686, 86.25510974476694, 75.43735989735508, 68.64661051540335, 89.52060883903539, 73.69981570965375], 'perf_time': 0.04701449999998886, 'population': 399, 'numerosity': 1600}\n",
      "INFO:lcs.agents.Agent:{'trial': 100, 'steps_in_trial': 50, 'reward': [138.64749886257488, 59.615932636793964, 132.49920370722705, 86.25510974476694, 75.43735989735508, 68.64661051540335, 89.52060883903539, 73.69981570965375], 'perf_time': 0.046287799999987556, 'population': 402, 'numerosity': 1600}\n",
      "INFO:lcs.agents.Agent:{'trial': 100, 'steps_in_trial': 50, 'reward': [138.64749886257488, 59.615932636793964, 112.76022215037044, 86.25510974476694, 75.43735989735508, 68.64661051540335, 89.52060883903539, 73.69981570965375], 'perf_time': 0.046287799999987556, 'population': 402, 'numerosity': 1600}\n",
      "INFO:lcs.agents.Agent:{'trial': 200, 'steps_in_trial': 50, 'reward': [138.64749886257488, 59.615932636793964, 91.96968631413897, 86.25510974476694, 75.43735989735508, 68.64661051540335, 89.52060883903539, 73.69981570965375], 'perf_time': 0.04602849999997716, 'population': 402, 'numerosity': 1600}\n",
      "INFO:lcs.agents.Agent:{'trial': 200, 'steps_in_trial': 50, 'reward': [138.64749886257488, 59.615932636793964, 91.19673389012252, 86.25510974476694, 75.43735989735508, 68.64661051540335, 89.52060883903539, 73.69981570965375], 'perf_time': 0.04602849999997716, 'population': 402, 'numerosity': 1600}\n",
      "INFO:lcs.agents.Agent:{'trial': 300, 'steps_in_trial': 50, 'reward': [138.64749886257488, 59.615932636793964, 79.171949950431, 86.25510974476694, 75.43735989735508, 68.64661051540335, 89.52060883903539, 73.69981570965375], 'perf_time': 0.04738980000001902, 'population': 402, 'numerosity': 1600}\n",
      "INFO:lcs.agents.Agent:{'trial': 300, 'steps_in_trial': 50, 'reward': [138.64749886257488, 59.615932636793964, 120.75807051487772, 86.25510974476694, 75.43735989735508, 68.64661051540335, 89.52060883903539, 73.69981570965375], 'perf_time': 0.04738980000001902, 'population': 402, 'numerosity': 1600}\n",
      "INFO:lcs.agents.Agent:{'trial': 400, 'steps_in_trial': 50, 'reward': [138.64749886257488, 59.615932636793964, 77.4303309496462, 86.25510974476694, 75.43735989735508, 68.64661051540335, 89.52060883903539, 73.69981570965375], 'perf_time': 0.045242999999999256, 'population': 402, 'numerosity': 1600}\n",
      "INFO:lcs.agents.Agent:{'trial': 400, 'steps_in_trial': 50, 'reward': [138.64749886257488, 59.615932636793964, 105.32423005298685, 86.25510974476694, 75.43735989735508, 68.64661051540335, 89.52060883903539, 73.69981570965375], 'perf_time': 0.045242999999999256, 'population': 402, 'numerosity': 1600}\n"
     ]
    }
   ],
   "source": [
    "from lcs.agents.xcs import XCS\n",
    "\n",
    "\n",
    "agent = XCS(cfg)\n",
    "my_metrics = avg_experiment(scenario,\n",
    "                    cfg,\n",
    "                    number_of_tests=1,\n",
    "                    explore_trials=exploration_cycles,\n",
    "                    exploit_metrics=exploitation_cycles)\n"
   ]
  },
  {
   "cell_type": "code",
   "execution_count": 12,
   "metadata": {},
   "outputs": [
    {
     "data": {
      "text/html": [
       "<div>\n",
       "<style scoped>\n",
       "    .dataframe tbody tr th:only-of-type {\n",
       "        vertical-align: middle;\n",
       "    }\n",
       "\n",
       "    .dataframe tbody tr th {\n",
       "        vertical-align: top;\n",
       "    }\n",
       "\n",
       "    .dataframe thead th {\n",
       "        text-align: right;\n",
       "    }\n",
       "</style>\n",
       "<table border=\"1\" class=\"dataframe\">\n",
       "  <thead>\n",
       "    <tr style=\"text-align: right;\">\n",
       "      <th></th>\n",
       "      <th>steps_in_trial</th>\n",
       "      <th>perf_time</th>\n",
       "      <th>population</th>\n",
       "      <th>numerosity</th>\n",
       "    </tr>\n",
       "    <tr>\n",
       "      <th>trial</th>\n",
       "      <th></th>\n",
       "      <th></th>\n",
       "      <th></th>\n",
       "      <th></th>\n",
       "    </tr>\n",
       "  </thead>\n",
       "  <tbody>\n",
       "    <tr>\n",
       "      <th>0</th>\n",
       "      <td>50</td>\n",
       "      <td>0.014919</td>\n",
       "      <td>80</td>\n",
       "      <td>80</td>\n",
       "    </tr>\n",
       "    <tr>\n",
       "      <th>100</th>\n",
       "      <td>35</td>\n",
       "      <td>0.060601</td>\n",
       "      <td>329</td>\n",
       "      <td>1600</td>\n",
       "    </tr>\n",
       "    <tr>\n",
       "      <th>200</th>\n",
       "      <td>36</td>\n",
       "      <td>0.080957</td>\n",
       "      <td>361</td>\n",
       "      <td>1600</td>\n",
       "    </tr>\n",
       "    <tr>\n",
       "      <th>300</th>\n",
       "      <td>19</td>\n",
       "      <td>0.051162</td>\n",
       "      <td>384</td>\n",
       "      <td>1600</td>\n",
       "    </tr>\n",
       "    <tr>\n",
       "      <th>400</th>\n",
       "      <td>14</td>\n",
       "      <td>0.030656</td>\n",
       "      <td>397</td>\n",
       "      <td>1600</td>\n",
       "    </tr>\n",
       "    <tr>\n",
       "      <th>500</th>\n",
       "      <td>50</td>\n",
       "      <td>0.110061</td>\n",
       "      <td>409</td>\n",
       "      <td>1600</td>\n",
       "    </tr>\n",
       "    <tr>\n",
       "      <th>600</th>\n",
       "      <td>50</td>\n",
       "      <td>0.117091</td>\n",
       "      <td>418</td>\n",
       "      <td>1600</td>\n",
       "    </tr>\n",
       "    <tr>\n",
       "      <th>700</th>\n",
       "      <td>19</td>\n",
       "      <td>0.044011</td>\n",
       "      <td>415</td>\n",
       "      <td>1600</td>\n",
       "    </tr>\n",
       "    <tr>\n",
       "      <th>800</th>\n",
       "      <td>6</td>\n",
       "      <td>0.013663</td>\n",
       "      <td>408</td>\n",
       "      <td>1600</td>\n",
       "    </tr>\n",
       "    <tr>\n",
       "      <th>900</th>\n",
       "      <td>38</td>\n",
       "      <td>0.103602</td>\n",
       "      <td>400</td>\n",
       "      <td>1600</td>\n",
       "    </tr>\n",
       "    <tr>\n",
       "      <th>1000</th>\n",
       "      <td>50</td>\n",
       "      <td>0.047014</td>\n",
       "      <td>399</td>\n",
       "      <td>1600</td>\n",
       "    </tr>\n",
       "    <tr>\n",
       "      <th>1100</th>\n",
       "      <td>50</td>\n",
       "      <td>0.046288</td>\n",
       "      <td>402</td>\n",
       "      <td>1600</td>\n",
       "    </tr>\n",
       "    <tr>\n",
       "      <th>1200</th>\n",
       "      <td>50</td>\n",
       "      <td>0.046028</td>\n",
       "      <td>402</td>\n",
       "      <td>1600</td>\n",
       "    </tr>\n",
       "    <tr>\n",
       "      <th>1300</th>\n",
       "      <td>50</td>\n",
       "      <td>0.047390</td>\n",
       "      <td>402</td>\n",
       "      <td>1600</td>\n",
       "    </tr>\n",
       "    <tr>\n",
       "      <th>1400</th>\n",
       "      <td>50</td>\n",
       "      <td>0.045243</td>\n",
       "      <td>402</td>\n",
       "      <td>1600</td>\n",
       "    </tr>\n",
       "  </tbody>\n",
       "</table>\n",
       "</div>"
      ],
      "text/plain": [
       "       steps_in_trial  perf_time  population  numerosity\n",
       "trial                                                   \n",
       "0                  50   0.014919          80          80\n",
       "100                35   0.060601         329        1600\n",
       "200                36   0.080957         361        1600\n",
       "300                19   0.051162         384        1600\n",
       "400                14   0.030656         397        1600\n",
       "500                50   0.110061         409        1600\n",
       "600                50   0.117091         418        1600\n",
       "700                19   0.044011         415        1600\n",
       "800                 6   0.013663         408        1600\n",
       "900                38   0.103602         400        1600\n",
       "1000               50   0.047014         399        1600\n",
       "1100               50   0.046288         402        1600\n",
       "1200               50   0.046028         402        1600\n",
       "1300               50   0.047390         402        1600\n",
       "1400               50   0.045243         402        1600"
      ]
     },
     "metadata": {},
     "output_type": "display_data"
    }
   ],
   "source": [
    "display(my_metrics)"
   ]
  },
  {
   "cell_type": "code",
   "execution_count": 13,
   "metadata": {},
   "outputs": [
    {
     "data": {
      "text/plain": [
       "<matplotlib.legend.Legend at 0x185991b5b88>"
      ]
     },
     "execution_count": 13,
     "metadata": {},
     "output_type": "execute_result"
    },
    {
     "data": {
      "image/png": "[encoded data removed]",
      "text/plain": [
       "<Figure size 432x288 with 1 Axes>"
      ]
     },
     "metadata": {
      "needs_background": "light"
     },
     "output_type": "display_data"
    }
   ],
   "source": [
    "import pandas as pd\n",
    "\n",
    "ax = my_metrics['steps_in_trial'].plot()\n",
    "ax.set_xlabel(\"trial\")\n",
    "ax.set_ylabel(\"steps in trial\")\n",
    "ax.legend([\"steps\"])\n"
   ]
  },
  {
   "cell_type": "code",
   "execution_count": 14,
   "metadata": {},
   "outputs": [
    {
     "data": {
      "text/plain": [
       "<matplotlib.legend.Legend at 0x18599245c88>"
      ]
     },
     "execution_count": 14,
     "metadata": {},
     "output_type": "execute_result"
    },
    {
     "data": {
      "image/png": "[encoded data removed]",
      "text/plain": [
       "<Figure size 432x288 with 1 Axes>"
      ]
     },
     "metadata": {
      "needs_background": "light"
     },
     "output_type": "display_data"
    }
   ],
   "source": [
    "ax = my_metrics[['numerosity', 'population']].plot()\n",
    "ax.set_xlabel(\"trial\")\n",
    "ax.set_ylabel(\"population\")\n",
    "ax.legend([\"numerosity\", \"number of rules\"])"
   ]
  },
  {
   "cell_type": "markdown",
   "metadata": {},
   "source": [
    "#### Conclusions\n",
    "None so far."
   ]
  },
  {
   "cell_type": "code",
   "execution_count": null,
   "metadata": {},
   "outputs": [],
   "source": []
  }
 ],
 "metadata": {
  "kernelspec": {
   "display_name": "Python 3",
   "language": "python",
   "name": "python3"
  },
  "language_info": {
   "codemirror_mode": {
    "name": "ipython",
    "version": 3
   },
   "file_extension": ".py",
   "mimetype": "text/x-python",
   "name": "python",
   "nbconvert_exporter": "python",
   "pygments_lexer": "ipython3",
   "version": "3.7.10"
  }
 },
 "nbformat": 4,
 "nbformat_minor": 4
}
