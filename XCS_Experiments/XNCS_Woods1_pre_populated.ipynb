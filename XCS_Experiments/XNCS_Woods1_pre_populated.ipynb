{
 "cells": [
  {
   "cell_type": "code",
   "execution_count": 1,
   "metadata": {},
   "outputs": [],
   "source": [
    "# logging \n",
    "import logging\n",
    "logging.basicConfig(level=logging.INFO)\n",
    "logger = logging.getLogger(__name__)\n"
   ]
  },
  {
   "cell_type": "code",
   "execution_count": 2,
   "metadata": {},
   "outputs": [
    {
     "name": "stdout",
     "output_type": "stream",
     "text": [
      "This is how maze looks like\n",
      "<class 'list'>\n",
      "['.', '.', '.', '.', '.', '.', '.', 'O']\n",
      "\n",
      "\u001b[37m□\u001b[0m \u001b[37m□\u001b[0m \u001b[37m□\u001b[0m \u001b[36mX\u001b[0m \u001b[37m□\u001b[0m\n",
      "\u001b[37m□\u001b[0m \u001b[37m□\u001b[0m \u001b[37m□\u001b[0m \u001b[37m□\u001b[0m \u001b[37m□\u001b[0m\n",
      "\u001b[30m■\u001b[0m \u001b[30m■\u001b[0m \u001b[33m$\u001b[0m \u001b[37m□\u001b[0m \u001b[37m□\u001b[0m\n",
      "\u001b[30m■\u001b[0m \u001b[30m■\u001b[0m \u001b[30m■\u001b[0m \u001b[37m□\u001b[0m \u001b[37m□\u001b[0m\n",
      "\u001b[30m■\u001b[0m \u001b[30m■\u001b[0m \u001b[30m■\u001b[0m \u001b[37m□\u001b[0m \u001b[37m□\u001b[0m\n"
     ]
    }
   ],
   "source": [
    "# environment setup\n",
    "import gym\n",
    "# noinspection PyUnresolvedReferences\n",
    "import gym_woods\n",
    "\n",
    "maze = gym.make('Woods1-v0')\n",
    "print(\"This is how maze looks like\")\n",
    "situation = maze.reset()\n",
    "print(type(situation))\n",
    "print(situation)\n",
    "maze.render()\n"
   ]
  },
  {
   "cell_type": "code",
   "execution_count": 3,
   "metadata": {},
   "outputs": [],
   "source": [
    "from lcs.agents.xncs import Configuration\n",
    "from utils.nxcs_utils import *\n",
    "\n",
    "cfg = Configuration(number_of_actions=8,\n",
    "                    max_population=1800,\n",
    "                    learning_rate=0.2, # beta\n",
    "                    epsilon_0=0.01,\n",
    "                    alpha=0.1,\n",
    "                    gamma=0.71,\n",
    "                    mutation_chance=0.08, # mu\n",
    "                    delta=0.1,\n",
    "                    ga_threshold=25,\n",
    "                    deletion_threshold=25,\n",
    "                    covering_wildcard_chance = 0.7,\n",
    "                    chi=0.8,      # crossover\n",
    "                    metrics_trial_frequency=100,\n",
    "                    initial_prediction = 10,  # p_i\n",
    "                    initial_error = 0.1,  # epsilon_i\n",
    "                    initial_fitness = 10,  # f_i\n",
    "                    user_metrics_collector_fcn=xncs_metrics,\n",
    "                    lmc=10,\n",
    "                    lem=20\n",
    "                    )"
   ]
  },
  {
   "cell_type": "code",
   "execution_count": 4,
   "metadata": {
    "scrolled": true
   },
   "outputs": [
    {
     "name": "stdout",
     "output_type": "stream",
     "text": [
      "Executing 0 experiment\n"
     ]
    },
    {
     "name": "stderr",
     "output_type": "stream",
     "text": [
      "INFO:lcs.agents.Agent:{'trial': 0, 'steps_in_trial': 1, 'reward': 1000.0, 'perf_time': 0.0101880999999997, 'numerosity': 1800, 'population': 1622, 'average_specificity': 8.035, 'fraction_accuracy': 0.0}\n",
      "INFO:lcs.agents.Agent:{'trial': 200, 'steps_in_trial': 8, 'reward': 1078.3271337169067, 'perf_time': 0.09919509999999931, 'numerosity': 1800, 'population': 1548, 'average_specificity': 10.86, 'fraction_accuracy': 0.18455530966912712}\n",
      "INFO:lcs.agents.Agent:{'trial': 500, 'steps_in_trial': 7, 'reward': 1101.748979356001, 'perf_time': 0.09865720000000522, 'numerosity': 1800, 'population': 1568, 'average_specificity': 10.797222222222222, 'fraction_accuracy': 0.2016524165428857}\n",
      "INFO:lcs.agents.Agent:{'trial': 700, 'steps_in_trial': 6, 'reward': 1164.1117384164033, 'perf_time': 0.09157989999999927, 'numerosity': 1800, 'population': 1588, 'average_specificity': 12.010555555555555, 'fraction_accuracy': 0.20585388697704013}\n",
      "INFO:lcs.agents.Agent:{'trial': 1000, 'steps_in_trial': 9, 'reward': 1052.5560632430102, 'perf_time': 0.1354529000000042, 'numerosity': 1800, 'population': 1601, 'average_specificity': 14.02111111111111, 'fraction_accuracy': 0.1826998071372673}\n",
      "INFO:lcs.agents.Agent:{'trial': 1200, 'steps_in_trial': 8, 'reward': 1074.0450228370598, 'perf_time': 0.10274409999999534, 'numerosity': 1800, 'population': 1596, 'average_specificity': 15.21888888888889, 'fraction_accuracy': 0.27321950669337375}\n",
      "INFO:lcs.agents.Agent:{'trial': 1500, 'steps_in_trial': 9, 'reward': 1000.0000016776559, 'perf_time': 0.15066450000000486, 'numerosity': 1800, 'population': 1591, 'average_specificity': 15.515, 'fraction_accuracy': 0.27757357453773884}\n",
      "INFO:lcs.agents.Agent:{'trial': 1700, 'steps_in_trial': 2, 'reward': 1537.3784862796801, 'perf_time': 0.033960400000012214, 'numerosity': 1800, 'population': 1600, 'average_specificity': 15.283888888888889, 'fraction_accuracy': 0.2718877524777994}\n",
      "INFO:lcs.agents.Agent:{'trial': 2000, 'steps_in_trial': 10, 'reward': 1056.7966973842194, 'perf_time': 0.12077990000000227, 'numerosity': 1800, 'population': 1605, 'average_specificity': 16.441666666666666, 'fraction_accuracy': 0.20279985359056343}\n",
      "INFO:lcs.agents.Agent:{'trial': 2200, 'steps_in_trial': 12, 'reward': 1017.5512716605906, 'perf_time': 0.18368450000002667, 'numerosity': 1800, 'population': 1584, 'average_specificity': 15.605, 'fraction_accuracy': 0.26546746519449194}\n"
     ]
    }
   ],
   "source": [
    "from utils.nxcs_utils import avg_experiment as XNCSExp\n",
    "\n",
    "number_of_experiments = 1\n",
    "explore = 0\n",
    "exploit = 2500\n",
    "\n",
    "df = XNCSExp(\n",
    "    maze=maze,\n",
    "    cfg=cfg,\n",
    "    number_of_tests=number_of_experiments,\n",
    "    explore_trials=explore,\n",
    "    exploit_trials=exploit,\n",
    "    pre_generate=True\n",
    "    )"
   ]
  },
  {
   "cell_type": "code",
   "execution_count": 5,
   "metadata": {},
   "outputs": [
    {
     "data": {
      "text/html": [
       "<div>\n",
       "<style scoped>\n",
       "    .dataframe tbody tr th:only-of-type {\n",
       "        vertical-align: middle;\n",
       "    }\n",
       "\n",
       "    .dataframe tbody tr th {\n",
       "        vertical-align: top;\n",
       "    }\n",
       "\n",
       "    .dataframe thead th {\n",
       "        text-align: right;\n",
       "    }\n",
       "</style>\n",
       "<table border=\"1\" class=\"dataframe\">\n",
       "  <thead>\n",
       "    <tr style=\"text-align: right;\">\n",
       "      <th></th>\n",
       "      <th>steps_in_trial</th>\n",
       "      <th>reward</th>\n",
       "      <th>perf_time</th>\n",
       "      <th>numerosity</th>\n",
       "      <th>population</th>\n",
       "      <th>average_specificity</th>\n",
       "      <th>fraction_accuracy</th>\n",
       "    </tr>\n",
       "    <tr>\n",
       "      <th>trial</th>\n",
       "      <th></th>\n",
       "      <th></th>\n",
       "      <th></th>\n",
       "      <th></th>\n",
       "      <th></th>\n",
       "      <th></th>\n",
       "      <th></th>\n",
       "    </tr>\n",
       "  </thead>\n",
       "  <tbody>\n",
       "    <tr>\n",
       "      <th>0</th>\n",
       "      <td>1</td>\n",
       "      <td>1000.000000</td>\n",
       "      <td>0.010188</td>\n",
       "      <td>1800</td>\n",
       "      <td>1622</td>\n",
       "      <td>8.035000</td>\n",
       "      <td>0.000000</td>\n",
       "    </tr>\n",
       "    <tr>\n",
       "      <th>100</th>\n",
       "      <td>5</td>\n",
       "      <td>1199.143807</td>\n",
       "      <td>0.059476</td>\n",
       "      <td>1800</td>\n",
       "      <td>1559</td>\n",
       "      <td>8.187222</td>\n",
       "      <td>0.158505</td>\n",
       "    </tr>\n",
       "    <tr>\n",
       "      <th>200</th>\n",
       "      <td>8</td>\n",
       "      <td>1078.327134</td>\n",
       "      <td>0.099195</td>\n",
       "      <td>1800</td>\n",
       "      <td>1548</td>\n",
       "      <td>10.860000</td>\n",
       "      <td>0.184555</td>\n",
       "    </tr>\n",
       "    <tr>\n",
       "      <th>300</th>\n",
       "      <td>6</td>\n",
       "      <td>1146.002447</td>\n",
       "      <td>0.058881</td>\n",
       "      <td>1800</td>\n",
       "      <td>1568</td>\n",
       "      <td>11.231667</td>\n",
       "      <td>0.174072</td>\n",
       "    </tr>\n",
       "    <tr>\n",
       "      <th>400</th>\n",
       "      <td>6</td>\n",
       "      <td>1156.553744</td>\n",
       "      <td>0.083473</td>\n",
       "      <td>1800</td>\n",
       "      <td>1567</td>\n",
       "      <td>10.896667</td>\n",
       "      <td>0.185611</td>\n",
       "    </tr>\n",
       "    <tr>\n",
       "      <th>500</th>\n",
       "      <td>7</td>\n",
       "      <td>1101.748979</td>\n",
       "      <td>0.098657</td>\n",
       "      <td>1800</td>\n",
       "      <td>1568</td>\n",
       "      <td>10.797222</td>\n",
       "      <td>0.201652</td>\n",
       "    </tr>\n",
       "    <tr>\n",
       "      <th>600</th>\n",
       "      <td>8</td>\n",
       "      <td>1124.513090</td>\n",
       "      <td>0.118927</td>\n",
       "      <td>1800</td>\n",
       "      <td>1571</td>\n",
       "      <td>11.238889</td>\n",
       "      <td>0.199141</td>\n",
       "    </tr>\n",
       "    <tr>\n",
       "      <th>700</th>\n",
       "      <td>6</td>\n",
       "      <td>1164.111738</td>\n",
       "      <td>0.091580</td>\n",
       "      <td>1800</td>\n",
       "      <td>1588</td>\n",
       "      <td>12.010556</td>\n",
       "      <td>0.205854</td>\n",
       "    </tr>\n",
       "    <tr>\n",
       "      <th>800</th>\n",
       "      <td>6</td>\n",
       "      <td>1140.810820</td>\n",
       "      <td>0.077319</td>\n",
       "      <td>1800</td>\n",
       "      <td>1593</td>\n",
       "      <td>12.420000</td>\n",
       "      <td>0.203512</td>\n",
       "    </tr>\n",
       "    <tr>\n",
       "      <th>900</th>\n",
       "      <td>2</td>\n",
       "      <td>1665.215109</td>\n",
       "      <td>0.019909</td>\n",
       "      <td>1800</td>\n",
       "      <td>1604</td>\n",
       "      <td>12.331667</td>\n",
       "      <td>0.190575</td>\n",
       "    </tr>\n",
       "    <tr>\n",
       "      <th>1000</th>\n",
       "      <td>9</td>\n",
       "      <td>1052.556063</td>\n",
       "      <td>0.135453</td>\n",
       "      <td>1800</td>\n",
       "      <td>1601</td>\n",
       "      <td>14.021111</td>\n",
       "      <td>0.182700</td>\n",
       "    </tr>\n",
       "    <tr>\n",
       "      <th>1100</th>\n",
       "      <td>19</td>\n",
       "      <td>1001.494068</td>\n",
       "      <td>0.216819</td>\n",
       "      <td>1800</td>\n",
       "      <td>1598</td>\n",
       "      <td>14.650556</td>\n",
       "      <td>0.250071</td>\n",
       "    </tr>\n",
       "    <tr>\n",
       "      <th>1200</th>\n",
       "      <td>8</td>\n",
       "      <td>1074.045023</td>\n",
       "      <td>0.102744</td>\n",
       "      <td>1800</td>\n",
       "      <td>1596</td>\n",
       "      <td>15.218889</td>\n",
       "      <td>0.273220</td>\n",
       "    </tr>\n",
       "    <tr>\n",
       "      <th>1300</th>\n",
       "      <td>27</td>\n",
       "      <td>1000.105796</td>\n",
       "      <td>0.367714</td>\n",
       "      <td>1800</td>\n",
       "      <td>1582</td>\n",
       "      <td>14.381667</td>\n",
       "      <td>0.285966</td>\n",
       "    </tr>\n",
       "    <tr>\n",
       "      <th>1400</th>\n",
       "      <td>2</td>\n",
       "      <td>1000.000000</td>\n",
       "      <td>0.032981</td>\n",
       "      <td>1800</td>\n",
       "      <td>1578</td>\n",
       "      <td>14.962222</td>\n",
       "      <td>0.284248</td>\n",
       "    </tr>\n",
       "    <tr>\n",
       "      <th>1500</th>\n",
       "      <td>9</td>\n",
       "      <td>1000.000002</td>\n",
       "      <td>0.150665</td>\n",
       "      <td>1800</td>\n",
       "      <td>1591</td>\n",
       "      <td>15.515000</td>\n",
       "      <td>0.277574</td>\n",
       "    </tr>\n",
       "    <tr>\n",
       "      <th>1600</th>\n",
       "      <td>6</td>\n",
       "      <td>1137.613769</td>\n",
       "      <td>0.071694</td>\n",
       "      <td>1800</td>\n",
       "      <td>1589</td>\n",
       "      <td>15.189444</td>\n",
       "      <td>0.276329</td>\n",
       "    </tr>\n",
       "    <tr>\n",
       "      <th>1700</th>\n",
       "      <td>2</td>\n",
       "      <td>1537.378486</td>\n",
       "      <td>0.033960</td>\n",
       "      <td>1800</td>\n",
       "      <td>1600</td>\n",
       "      <td>15.283889</td>\n",
       "      <td>0.271888</td>\n",
       "    </tr>\n",
       "    <tr>\n",
       "      <th>1800</th>\n",
       "      <td>7</td>\n",
       "      <td>1141.540887</td>\n",
       "      <td>0.096521</td>\n",
       "      <td>1800</td>\n",
       "      <td>1590</td>\n",
       "      <td>15.622222</td>\n",
       "      <td>0.232106</td>\n",
       "    </tr>\n",
       "    <tr>\n",
       "      <th>1900</th>\n",
       "      <td>4</td>\n",
       "      <td>1345.544240</td>\n",
       "      <td>0.040551</td>\n",
       "      <td>1800</td>\n",
       "      <td>1591</td>\n",
       "      <td>16.743889</td>\n",
       "      <td>0.208933</td>\n",
       "    </tr>\n",
       "    <tr>\n",
       "      <th>2000</th>\n",
       "      <td>10</td>\n",
       "      <td>1056.796697</td>\n",
       "      <td>0.120780</td>\n",
       "      <td>1800</td>\n",
       "      <td>1605</td>\n",
       "      <td>16.441667</td>\n",
       "      <td>0.202800</td>\n",
       "    </tr>\n",
       "    <tr>\n",
       "      <th>2100</th>\n",
       "      <td>2</td>\n",
       "      <td>1000.000000</td>\n",
       "      <td>0.043360</td>\n",
       "      <td>1800</td>\n",
       "      <td>1600</td>\n",
       "      <td>16.318889</td>\n",
       "      <td>0.229790</td>\n",
       "    </tr>\n",
       "    <tr>\n",
       "      <th>2200</th>\n",
       "      <td>12</td>\n",
       "      <td>1017.551272</td>\n",
       "      <td>0.183685</td>\n",
       "      <td>1800</td>\n",
       "      <td>1584</td>\n",
       "      <td>15.605000</td>\n",
       "      <td>0.265467</td>\n",
       "    </tr>\n",
       "    <tr>\n",
       "      <th>2300</th>\n",
       "      <td>7</td>\n",
       "      <td>1095.673568</td>\n",
       "      <td>0.097950</td>\n",
       "      <td>1800</td>\n",
       "      <td>1601</td>\n",
       "      <td>16.071667</td>\n",
       "      <td>0.306780</td>\n",
       "    </tr>\n",
       "    <tr>\n",
       "      <th>2400</th>\n",
       "      <td>5</td>\n",
       "      <td>1197.960708</td>\n",
       "      <td>0.057193</td>\n",
       "      <td>1800</td>\n",
       "      <td>1592</td>\n",
       "      <td>15.902778</td>\n",
       "      <td>0.327172</td>\n",
       "    </tr>\n",
       "  </tbody>\n",
       "</table>\n",
       "</div>"
      ],
      "text/plain": [
       "       steps_in_trial       reward  perf_time  numerosity  population  \\\n",
       "trial                                                                   \n",
       "0                   1  1000.000000   0.010188        1800        1622   \n",
       "100                 5  1199.143807   0.059476        1800        1559   \n",
       "200                 8  1078.327134   0.099195        1800        1548   \n",
       "300                 6  1146.002447   0.058881        1800        1568   \n",
       "400                 6  1156.553744   0.083473        1800        1567   \n",
       "500                 7  1101.748979   0.098657        1800        1568   \n",
       "600                 8  1124.513090   0.118927        1800        1571   \n",
       "700                 6  1164.111738   0.091580        1800        1588   \n",
       "800                 6  1140.810820   0.077319        1800        1593   \n",
       "900                 2  1665.215109   0.019909        1800        1604   \n",
       "1000                9  1052.556063   0.135453        1800        1601   \n",
       "1100               19  1001.494068   0.216819        1800        1598   \n",
       "1200                8  1074.045023   0.102744        1800        1596   \n",
       "1300               27  1000.105796   0.367714        1800        1582   \n",
       "1400                2  1000.000000   0.032981        1800        1578   \n",
       "1500                9  1000.000002   0.150665        1800        1591   \n",
       "1600                6  1137.613769   0.071694        1800        1589   \n",
       "1700                2  1537.378486   0.033960        1800        1600   \n",
       "1800                7  1141.540887   0.096521        1800        1590   \n",
       "1900                4  1345.544240   0.040551        1800        1591   \n",
       "2000               10  1056.796697   0.120780        1800        1605   \n",
       "2100                2  1000.000000   0.043360        1800        1600   \n",
       "2200               12  1017.551272   0.183685        1800        1584   \n",
       "2300                7  1095.673568   0.097950        1800        1601   \n",
       "2400                5  1197.960708   0.057193        1800        1592   \n",
       "\n",
       "       average_specificity  fraction_accuracy  \n",
       "trial                                          \n",
       "0                 8.035000           0.000000  \n",
       "100               8.187222           0.158505  \n",
       "200              10.860000           0.184555  \n",
       "300              11.231667           0.174072  \n",
       "400              10.896667           0.185611  \n",
       "500              10.797222           0.201652  \n",
       "600              11.238889           0.199141  \n",
       "700              12.010556           0.205854  \n",
       "800              12.420000           0.203512  \n",
       "900              12.331667           0.190575  \n",
       "1000             14.021111           0.182700  \n",
       "1100             14.650556           0.250071  \n",
       "1200             15.218889           0.273220  \n",
       "1300             14.381667           0.285966  \n",
       "1400             14.962222           0.284248  \n",
       "1500             15.515000           0.277574  \n",
       "1600             15.189444           0.276329  \n",
       "1700             15.283889           0.271888  \n",
       "1800             15.622222           0.232106  \n",
       "1900             16.743889           0.208933  \n",
       "2000             16.441667           0.202800  \n",
       "2100             16.318889           0.229790  \n",
       "2200             15.605000           0.265467  \n",
       "2300             16.071667           0.306780  \n",
       "2400             15.902778           0.327172  "
      ]
     },
     "metadata": {},
     "output_type": "display_data"
    }
   ],
   "source": [
    "display(df)"
   ]
  },
  {
   "cell_type": "code",
   "execution_count": 6,
   "metadata": {},
   "outputs": [
    {
     "data": {
      "text/plain": [
       "<matplotlib.legend.Legend at 0x1fcb4981708>"
      ]
     },
     "execution_count": 6,
     "metadata": {},
     "output_type": "execute_result"
    },
    {
     "data": {
      "image/png": "[encoded data removed]",
      "text/plain": [
       "<Figure size 432x288 with 1 Axes>"
      ]
     },
     "metadata": {
      "needs_background": "light"
     },
     "output_type": "display_data"
    }
   ],
   "source": [
    "import pandas as pd\n",
    "import numpy as np\n",
    "\n",
    "ax = df['average_specificity'].plot()\n",
    "ax.set_xlabel(\"trial\")\n",
    "ax.set_ylabel(\"average_specificity\")\n",
    "ax.legend([\"specificity\"])\n"
   ]
  },
  {
   "cell_type": "code",
   "execution_count": 7,
   "metadata": {},
   "outputs": [
    {
     "data": {
      "text/plain": [
       "<matplotlib.legend.Legend at 0x1fcb781d108>"
      ]
     },
     "execution_count": 7,
     "metadata": {},
     "output_type": "execute_result"
    },
    {
     "data": {
      "image/png": "[encoded data removed]",
      "text/plain": [
       "<Figure size 432x288 with 1 Axes>"
      ]
     },
     "metadata": {
      "needs_background": "light"
     },
     "output_type": "display_data"
    }
   ],
   "source": [
    "ax = df['fraction_accuracy'].plot()\n",
    "ax.set_xlabel(\"trial\")\n",
    "ax.set_ylabel(\"fraction accuracy\")\n",
    "ax.legend([\"fraction accuracy\"])"
   ]
  },
  {
   "cell_type": "code",
   "execution_count": 8,
   "metadata": {},
   "outputs": [
    {
     "data": {
      "text/plain": [
       "<matplotlib.legend.Legend at 0x1fcb787eb48>"
      ]
     },
     "execution_count": 8,
     "metadata": {},
     "output_type": "execute_result"
    },
    {
     "data": {
      "image/png": "[encoded data removed]",
      "text/plain": [
       "<Figure size 432x288 with 1 Axes>"
      ]
     },
     "metadata": {
      "needs_background": "light"
     },
     "output_type": "display_data"
    }
   ],
   "source": [
    "ax = df[['numerosity', 'population']].plot()\n",
    "ax.set_xlabel(\"trial\")\n",
    "ax.set_ylabel(\"population\")\n",
    "ax.legend([\"numerosity\", \"number of rules\"])"
   ]
  },
  {
   "cell_type": "code",
   "execution_count": 9,
   "metadata": {},
   "outputs": [
    {
     "data": {
      "text/plain": [
       "<matplotlib.legend.Legend at 0x1fcb789d0c8>"
      ]
     },
     "execution_count": 9,
     "metadata": {},
     "output_type": "execute_result"
    },
    {
     "data": {
      "image/png": "[encoded data removed]",
      "text/plain": [
       "<Figure size 432x288 with 1 Axes>"
      ]
     },
     "metadata": {
      "needs_background": "light"
     },
     "output_type": "display_data"
    }
   ],
   "source": [
    "ax = df['steps_in_trial'].plot()\n",
    "ax.set_xlabel(\"trial\")\n",
    "ax.set_ylabel(\"steps in trial\")\n",
    "ax.legend([\"steps\"])"
   ]
  },
  {
   "cell_type": "code",
   "execution_count": 10,
   "metadata": {},
   "outputs": [
    {
     "name": "stdout",
     "output_type": "stream",
     "text": [
      "184.0\n"
     ]
    }
   ],
   "source": [
    "print(sum(df['steps_in_trial'])/number_of_experiments)"
   ]
  }
 ],
 "metadata": {
  "kernelspec": {
   "display_name": "Python 3",
   "language": "python",
   "name": "python3"
  },
  "language_info": {
   "codemirror_mode": {
    "name": "ipython",
    "version": 3
   },
   "file_extension": ".py",
   "mimetype": "text/x-python",
   "name": "python",
   "nbconvert_exporter": "python",
   "pygments_lexer": "ipython3",
   "version": "3.7.10"
  }
 },
 "nbformat": 4,
 "nbformat_minor": 1
}
