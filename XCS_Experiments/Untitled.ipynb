{
 "cells": [
  {
   "cell_type": "code",
   "execution_count": 13,
   "id": "sitting-christmas",
   "metadata": {},
   "outputs": [
    {
     "name": "stdout",
     "output_type": "stream",
     "text": [
      "\n",
      "\u001b[30m■\u001b[0m \u001b[30m■\u001b[0m \u001b[30m■\u001b[0m \u001b[30m■\u001b[0m \u001b[30m■\u001b[0m \u001b[30m■\u001b[0m \u001b[30m■\u001b[0m \u001b[30m■\u001b[0m\n",
      "\u001b[30m■\u001b[0m \u001b[37m□\u001b[0m \u001b[37m□\u001b[0m \u001b[30m■\u001b[0m \u001b[37m□\u001b[0m \u001b[37m□\u001b[0m \u001b[33m$\u001b[0m \u001b[30m■\u001b[0m\n",
      "\u001b[30m■\u001b[0m \u001b[30m■\u001b[0m \u001b[37m□\u001b[0m \u001b[37m□\u001b[0m \u001b[30m■\u001b[0m \u001b[37m□\u001b[0m \u001b[37m□\u001b[0m \u001b[30m■\u001b[0m\n",
      "\u001b[30m■\u001b[0m \u001b[30m■\u001b[0m \u001b[37m□\u001b[0m \u001b[30m■\u001b[0m \u001b[37m□\u001b[0m \u001b[37m□\u001b[0m \u001b[30m■\u001b[0m \u001b[30m■\u001b[0m\n",
      "\u001b[30m■\u001b[0m \u001b[37m□\u001b[0m \u001b[37m□\u001b[0m \u001b[37m□\u001b[0m \u001b[37m□\u001b[0m \u001b[37m□\u001b[0m \u001b[37m□\u001b[0m \u001b[30m■\u001b[0m\n",
      "\u001b[30m■\u001b[0m \u001b[30m■\u001b[0m \u001b[37m□\u001b[0m \u001b[30m■\u001b[0m \u001b[37m□\u001b[0m \u001b[37m□\u001b[0m \u001b[37m□\u001b[0m \u001b[30m■\u001b[0m\n",
      "\u001b[30m■\u001b[0m \u001b[31mA\u001b[0m \u001b[37m□\u001b[0m \u001b[37m□\u001b[0m \u001b[37m□\u001b[0m \u001b[30m■\u001b[0m \u001b[37m□\u001b[0m \u001b[30m■\u001b[0m\n",
      "\u001b[30m■\u001b[0m \u001b[30m■\u001b[0m \u001b[30m■\u001b[0m \u001b[30m■\u001b[0m \u001b[30m■\u001b[0m \u001b[30m■\u001b[0m \u001b[30m■\u001b[0m \u001b[30m■\u001b[0m\n"
     ]
    }
   ],
   "source": [
    "from utils.xcs_utils import *\n",
    "\n",
    "env = MazeScenario(input_size=8)\n",
    "env.maze.reset()\n",
    "env.maze.render()"
   ]
  },
  {
   "cell_type": "code",
   "execution_count": 14,
   "id": "referenced-affiliation",
   "metadata": {},
   "outputs": [],
   "source": [
    "from lcs.agents.xcs import Configuration\n",
    "from utils.xcs_utils import *\n",
    "                    \n",
    "\n",
    "cfg = Configuration(number_of_actions=8,\n",
    "                    max_population=400,\n",
    "                    metrics_trial_frequency=100,\n",
    "                    covering_wildcard_chance=0.9,\n",
    "                    delta=0.1,\n",
    "                    user_metrics_collector_fcn=xcs_metrics)"
   ]
  },
  {
   "cell_type": "code",
   "execution_count": 15,
   "id": "elementary-punch",
   "metadata": {},
   "outputs": [],
   "source": [
    "from lcs.agents.xcs import Configuration, XCS, GeneticAlgorithm\n",
    "\n",
    "agent = XCS(cfg)\n"
   ]
  },
  {
   "cell_type": "code",
   "execution_count": 16,
   "id": "productive-recipe",
   "metadata": {},
   "outputs": [],
   "source": [
    "from lcs.agents.xcs import ClassifiersList, Classifier, Condition"
   ]
  },
  {
   "cell_type": "code",
   "execution_count": 17,
   "id": "august-anatomy",
   "metadata": {},
   "outputs": [],
   "source": [
    "prev_action_set = None\n",
    "prev_reward = agent.reward\n",
    "prev_state = None  # state is known as situation\n",
    "prev_time_stamp = agent.time_stamp  # steps\n",
    "done = False  # eop\n",
    "\n",
    "raw_state = env.reset()\n",
    "state = agent.cfg.environment_adapter.to_genotype(raw_state)"
   ]
  },
  {
   "cell_type": "markdown",
   "id": "freelance-austin",
   "metadata": {},
   "source": [
    "Main Loop"
   ]
  },
  {
   "cell_type": "markdown",
   "id": "potential-plaza",
   "metadata": {},
   "source": [
    "Before Update Set"
   ]
  },
  {
   "cell_type": "code",
   "execution_count": 20,
   "id": "theoretical-projector",
   "metadata": {},
   "outputs": [],
   "source": [
    "assert len(agent.population) == len(set(agent.population)), 'duplicates found'\n",
    "agent.population.delete_from_population()\n",
    "# We are in t+1 here\n",
    "match_set = agent.population.generate_match_set(state, agent.time_stamp)\n",
    "prediction_array = match_set.prediction_array\n",
    "action = agent.select_action(prediction_array, match_set)\n",
    "action_set = match_set.generate_action_set(action)\n",
    "# apply action to environment\n",
    "raw_state, step_reward, done, _ = env.step(action)\n",
    "state = agent.cfg.environment_adapter.to_genotype(raw_state)\n",
    "if agent.cfg.multistep_enfiroment:\n",
    "    agent.reward = step_reward + agent.cfg.gamma * agent.reward"
   ]
  },
  {
   "cell_type": "code",
   "execution_count": null,
   "id": "patient-circle",
   "metadata": {},
   "outputs": [],
   "source": []
  }
 ],
 "metadata": {
  "kernelspec": {
   "display_name": "Python 3",
   "language": "python",
   "name": "python3"
  },
  "language_info": {
   "codemirror_mode": {
    "name": "ipython",
    "version": 3
   },
   "file_extension": ".py",
   "mimetype": "text/x-python",
   "name": "python",
   "nbconvert_exporter": "python",
   "pygments_lexer": "ipython3",
   "version": "3.7.10"
  }
 },
 "nbformat": 4,
 "nbformat_minor": 5
}
