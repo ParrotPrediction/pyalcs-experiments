{
 "cells": [
  {
   "cell_type": "code",
   "execution_count": 1,
   "metadata": {},
   "outputs": [],
   "source": [
    "# logging \n",
    "import logging\n",
    "logging.basicConfig(level=logging.INFO)\n",
    "logger = logging.getLogger(__name__)\n"
   ]
  },
  {
   "cell_type": "code",
   "execution_count": 2,
   "metadata": {},
   "outputs": [
    {
     "name": "stdout",
     "output_type": "stream",
     "text": [
      "This is how maze looks like\n",
      "<class 'tuple'>\n",
      "('0', '1', '1', '1', '1', '0', '0', '0')\n",
      "\n",
      "\u001b[30m■\u001b[0m \u001b[30m■\u001b[0m \u001b[30m■\u001b[0m \u001b[30m■\u001b[0m \u001b[30m■\u001b[0m \u001b[30m■\u001b[0m \u001b[30m■\u001b[0m \u001b[30m■\u001b[0m \u001b[30m■\u001b[0m\n",
      "\u001b[30m■\u001b[0m \u001b[37m□\u001b[0m \u001b[37m□\u001b[0m \u001b[37m□\u001b[0m \u001b[37m□\u001b[0m \u001b[37m□\u001b[0m \u001b[37m□\u001b[0m \u001b[33m$\u001b[0m \u001b[30m■\u001b[0m\n",
      "\u001b[30m■\u001b[0m \u001b[37m□\u001b[0m \u001b[37m□\u001b[0m \u001b[30m■\u001b[0m \u001b[37m□\u001b[0m \u001b[30m■\u001b[0m \u001b[30m■\u001b[0m \u001b[37m□\u001b[0m \u001b[30m■\u001b[0m\n",
      "\u001b[30m■\u001b[0m \u001b[37m□\u001b[0m \u001b[30m■\u001b[0m \u001b[37m□\u001b[0m \u001b[37m□\u001b[0m \u001b[37m□\u001b[0m \u001b[37m□\u001b[0m \u001b[37m□\u001b[0m \u001b[30m■\u001b[0m\n",
      "\u001b[30m■\u001b[0m \u001b[37m□\u001b[0m \u001b[37m□\u001b[0m \u001b[37m□\u001b[0m \u001b[30m■\u001b[0m \u001b[30m■\u001b[0m \u001b[37m□\u001b[0m \u001b[31mA\u001b[0m \u001b[30m■\u001b[0m\n",
      "\u001b[30m■\u001b[0m \u001b[37m□\u001b[0m \u001b[30m■\u001b[0m \u001b[37m□\u001b[0m \u001b[30m■\u001b[0m \u001b[37m□\u001b[0m \u001b[37m□\u001b[0m \u001b[30m■\u001b[0m \u001b[30m■\u001b[0m\n",
      "\u001b[30m■\u001b[0m \u001b[37m□\u001b[0m \u001b[30m■\u001b[0m \u001b[37m□\u001b[0m \u001b[37m□\u001b[0m \u001b[30m■\u001b[0m \u001b[37m□\u001b[0m \u001b[37m□\u001b[0m \u001b[30m■\u001b[0m\n",
      "\u001b[30m■\u001b[0m \u001b[37m□\u001b[0m \u001b[37m□\u001b[0m \u001b[37m□\u001b[0m \u001b[37m□\u001b[0m \u001b[37m□\u001b[0m \u001b[30m■\u001b[0m \u001b[37m□\u001b[0m \u001b[30m■\u001b[0m\n",
      "\u001b[30m■\u001b[0m \u001b[30m■\u001b[0m \u001b[30m■\u001b[0m \u001b[30m■\u001b[0m \u001b[30m■\u001b[0m \u001b[30m■\u001b[0m \u001b[30m■\u001b[0m \u001b[30m■\u001b[0m \u001b[30m■\u001b[0m\n"
     ]
    }
   ],
   "source": [
    "# environment setup\n",
    "import gym\n",
    "# noinspection PyUnresolvedReferences\n",
    "import gym_maze\n",
    "\n",
    "maze = gym.make('Maze5-v0')\n",
    "print(\"This is how maze looks like\")\n",
    "situation = maze.reset()\n",
    "print(type(situation))\n",
    "print(situation)\n",
    "maze.render()\n"
   ]
  },
  {
   "cell_type": "code",
   "execution_count": 3,
   "metadata": {},
   "outputs": [],
   "source": [
    "from lcs.agents.xcs import XCS\n",
    "from lcs.agents.xcs import Configuration as XCSConfig\n",
    "from lcs.agents.xncs import XNCS\n",
    "from lcs.agents.xncs import Configuration as XNCSConfig\n",
    "\n",
    "from utils.xcs_utils import *\n",
    "from utils.nxcs_utils import *\n",
    "\n",
    "XCScfg = XCSConfig(number_of_actions=8,\n",
    "                    max_population=7000,\n",
    "                    learning_rate=0.2,\n",
    "                    alpha=0.1,\n",
    "                    gamma=0.71,\n",
    "                    mutation_chance=0.01,\n",
    "                    delta=0.1,\n",
    "                    ga_threshold=25,\n",
    "                    covering_wildcard_chance = 0.7,\n",
    "                    chi=1,      # crossover\n",
    "                    metrics_trial_frequency=100,\n",
    "                    initial_prediction =10,  # p_i\n",
    "                    initial_error = 0,  # epsilon_i\n",
    "                    initial_fitness = 10,  # f_i\n",
    "                    user_metrics_collector_fcn=xcs_maze_metrics)\n",
    "\n",
    "XNCScfg = XNCSConfig(number_of_actions=8,\n",
    "                    max_population=7000,\n",
    "                    learning_rate=0.2,\n",
    "                    alpha=0.1,\n",
    "                    gamma=0.71,\n",
    "                    mutation_chance=0.01,\n",
    "                    delta=0.1,\n",
    "                    ga_threshold=25,\n",
    "                    covering_wildcard_chance = 0.7,\n",
    "                    chi=1,      # crossover\n",
    "                    metrics_trial_frequency=100,\n",
    "                    initial_prediction =10,  # p_i\n",
    "                    initial_error = 0.1,  # epsilon_i\n",
    "                    initial_fitness = 10,  # f_i\n",
    "                    user_metrics_collector_fcn=xncs_maze_metrics,\n",
    "                    lmc=10,\n",
    "                    lem=100)\n"
   ]
  },
  {
   "cell_type": "code",
   "execution_count": 4,
   "metadata": {
    "scrolled": false
   },
   "outputs": [
    {
     "name": "stdout",
     "output_type": "stream",
     "text": [
      "Executing 0 experiment\n"
     ]
    },
    {
     "name": "stderr",
     "output_type": "stream",
     "text": [
      "INFO:lcs.agents.Agent:{'trial': 0, 'steps_in_trial': 100, 'reward': 0.0, 'perf_time': 10.801801399999995, 'numerosity': 7000, 'population': 5837, 'average_specificity': 8.09457142857143, 'fraction_accuracy': 1.0, 'knowledge': 8.904109589041095}\n",
      "INFO:lcs.agents.Agent:{'trial': 200, 'steps_in_trial': 4, 'reward': 1268.4393400342683, 'perf_time': 0.23171939999997448, 'numerosity': 7000, 'population': 5424, 'average_specificity': 11.808, 'fraction_accuracy': 0.98, 'knowledge': 8.904109589041095}\n",
      "INFO:lcs.agents.Agent:{'trial': 500, 'steps_in_trial': 17, 'reward': 1002.9634080602486, 'perf_time': 1.1649275999999986, 'numerosity': 7000, 'population': 5232, 'average_specificity': 18.535, 'fraction_accuracy': 1.0, 'knowledge': 10.273972602739725}\n",
      "INFO:lcs.agents.Agent:{'trial': 700, 'steps_in_trial': 3, 'reward': 1640.090458495578, 'perf_time': 0.13137119999998959, 'numerosity': 7000, 'population': 5163, 'average_specificity': 21.890285714285714, 'fraction_accuracy': 1.0, 'knowledge': 10.273972602739725}\n",
      "INFO:lcs.agents.Agent:{'trial': 1000, 'steps_in_trial': 4, 'reward': 1278.945511810267, 'perf_time': 0.19018400000004476, 'numerosity': 7000, 'population': 5103, 'average_specificity': 25.297857142857143, 'fraction_accuracy': 1.0, 'knowledge': 9.58904109589041}\n",
      "INFO:lcs.agents.Agent:{'trial': 1200, 'steps_in_trial': 8, 'reward': 1076.4966296333594, 'perf_time': 0.35427870000000894, 'numerosity': 7000, 'population': 5076, 'average_specificity': 28.026714285714284, 'fraction_accuracy': 1.0, 'knowledge': 9.58904109589041}\n",
      "INFO:lcs.agents.Agent:{'trial': 1500, 'steps_in_trial': 4, 'reward': 1254.4961984638614, 'perf_time': 0.24357809999992242, 'numerosity': 7000, 'population': 5024, 'average_specificity': 30.314714285714285, 'fraction_accuracy': 1.0, 'knowledge': 9.58904109589041}\n",
      "INFO:lcs.agents.Agent:{'trial': 1700, 'steps_in_trial': 6, 'reward': 1130.568313210379, 'perf_time': 0.4939331000000493, 'numerosity': 7000, 'population': 4974, 'average_specificity': 32.60628571428571, 'fraction_accuracy': 0.99, 'knowledge': 9.58904109589041}\n",
      "INFO:lcs.agents.Agent:{'trial': 2000, 'steps_in_trial': 10, 'reward': 1034.6730339429612, 'perf_time': 0.4519010999999864, 'numerosity': 7000, 'population': 4949, 'average_specificity': 34.501, 'fraction_accuracy': 1.0, 'knowledge': 9.58904109589041}\n",
      "INFO:lcs.agents.Agent:{'trial': 2200, 'steps_in_trial': 5, 'reward': 1180.6925347601855, 'perf_time': 0.22202969999989364, 'numerosity': 7000, 'population': 4953, 'average_specificity': 34.76428571428571, 'fraction_accuracy': 1.0, 'knowledge': 9.58904109589041}\n"
     ]
    },
    {
     "name": "stdout",
     "output_type": "stream",
     "text": [
      "Executing 0 experiment\n"
     ]
    },
    {
     "name": "stderr",
     "output_type": "stream",
     "text": [
      "INFO:lcs.agents.Agent:{'trial': 0, 'steps_in_trial': 100, 'reward': 0.0, 'perf_time': 8.758626399999912, 'population': 5867, 'numerosity': 7000, 'average_specificity': 8.529142857142856, 'knowledge': 100.0}\n",
      "INFO:lcs.agents.Agent:{'trial': 200, 'steps_in_trial': 5, 'reward': 1203.5822709802917, 'perf_time': 0.35878309999998237, 'population': 5463, 'numerosity': 7000, 'average_specificity': 7.843571428571429, 'knowledge': 100.0}\n",
      "INFO:lcs.agents.Agent:{'trial': 500, 'steps_in_trial': 2, 'reward': 1527.2565917893598, 'perf_time': 0.09319830000004004, 'population': 5302, 'numerosity': 7000, 'average_specificity': 8.445285714285715, 'knowledge': 100.0}\n",
      "INFO:lcs.agents.Agent:{'trial': 700, 'steps_in_trial': 10, 'reward': 1058.0534669749482, 'perf_time': 0.7575213999998596, 'population': 5257, 'numerosity': 7000, 'average_specificity': 8.827142857142857, 'knowledge': 100.0}\n",
      "INFO:lcs.agents.Agent:{'trial': 1000, 'steps_in_trial': 4, 'reward': 1293.9856774060174, 'perf_time': 0.509301300000061, 'population': 5218, 'numerosity': 7000, 'average_specificity': 8.955428571428572, 'knowledge': 100.0}\n",
      "INFO:lcs.agents.Agent:{'trial': 1200, 'steps_in_trial': 4, 'reward': 1277.664799811856, 'perf_time': 0.3477192999998806, 'population': 5189, 'numerosity': 7000, 'average_specificity': 8.972428571428571, 'knowledge': 100.0}\n",
      "INFO:lcs.agents.Agent:{'trial': 1500, 'steps_in_trial': 8, 'reward': 1066.8965579440774, 'perf_time': 0.5528624000003219, 'population': 5196, 'numerosity': 7000, 'average_specificity': 9.646428571428572, 'knowledge': 100.0}\n",
      "INFO:lcs.agents.Agent:{'trial': 1700, 'steps_in_trial': 4, 'reward': 1437.7043077017056, 'perf_time': 0.5388333000000785, 'population': 5181, 'numerosity': 7000, 'average_specificity': 9.277142857142858, 'knowledge': 100.0}\n",
      "INFO:lcs.agents.Agent:{'trial': 2000, 'steps_in_trial': 3, 'reward': 1426.759214002228, 'perf_time': 0.19085350000023027, 'population': 5175, 'numerosity': 7000, 'average_specificity': 9.351, 'knowledge': 100.0}\n",
      "INFO:lcs.agents.Agent:{'trial': 2200, 'steps_in_trial': 7, 'reward': 1092.5100166015388, 'perf_time': 0.5086952000001475, 'population': 5169, 'numerosity': 7000, 'average_specificity': 9.467428571428572, 'knowledge': 100.0}\n"
     ]
    }
   ],
   "source": [
    "from utils.xcs_utils import avg_experiment as XCSExp\n",
    "from utils.nxcs_utils import avg_experiment as XNCSExp\n",
    "\n",
    "number_of_experiments = 1\n",
    "explore = 0\n",
    "exploit = 2500\n",
    "\n",
    "df_other = XNCSExp(\n",
    "    maze=maze,\n",
    "    cfg=XNCScfg,\n",
    "    number_of_tests=number_of_experiments,\n",
    "    explore_trials=explore,\n",
    "    exploit_trials=exploit,\n",
    "    pre_generate=True\n",
    "    )\n",
    "\n",
    "df = XCSExp(maze=maze,\n",
    "             cfg=XCScfg,\n",
    "             number_of_tests=number_of_experiments,\n",
    "             explore_trials=explore,\n",
    "             exploit_trials=exploit,\n",
    "             pre_generate=True\n",
    "           )\n",
    "\n"
   ]
  },
  {
   "cell_type": "code",
   "execution_count": 5,
   "metadata": {},
   "outputs": [
    {
     "data": {
      "text/html": [
       "<div>\n",
       "<style scoped>\n",
       "    .dataframe tbody tr th:only-of-type {\n",
       "        vertical-align: middle;\n",
       "    }\n",
       "\n",
       "    .dataframe tbody tr th {\n",
       "        vertical-align: top;\n",
       "    }\n",
       "\n",
       "    .dataframe thead th {\n",
       "        text-align: right;\n",
       "    }\n",
       "</style>\n",
       "<table border=\"1\" class=\"dataframe\">\n",
       "  <thead>\n",
       "    <tr style=\"text-align: right;\">\n",
       "      <th></th>\n",
       "      <th>steps_in_trial</th>\n",
       "      <th>reward</th>\n",
       "      <th>perf_time</th>\n",
       "      <th>population</th>\n",
       "      <th>numerosity</th>\n",
       "      <th>average_specificity</th>\n",
       "      <th>knowledge</th>\n",
       "      <th>steps_in_trial_other</th>\n",
       "      <th>population_other</th>\n",
       "      <th>numerosity_other</th>\n",
       "      <th>average_specificity_other</th>\n",
       "      <th>fraction_accuracy_other</th>\n",
       "      <th>knowledge_other</th>\n",
       "    </tr>\n",
       "    <tr>\n",
       "      <th>trial</th>\n",
       "      <th></th>\n",
       "      <th></th>\n",
       "      <th></th>\n",
       "      <th></th>\n",
       "      <th></th>\n",
       "      <th></th>\n",
       "      <th></th>\n",
       "      <th></th>\n",
       "      <th></th>\n",
       "      <th></th>\n",
       "      <th></th>\n",
       "      <th></th>\n",
       "      <th></th>\n",
       "    </tr>\n",
       "  </thead>\n",
       "  <tbody>\n",
       "    <tr>\n",
       "      <th>0</th>\n",
       "      <td>100</td>\n",
       "      <td>0.000000</td>\n",
       "      <td>8.758626</td>\n",
       "      <td>5867</td>\n",
       "      <td>7000</td>\n",
       "      <td>8.529143</td>\n",
       "      <td>100.0</td>\n",
       "      <td>100</td>\n",
       "      <td>5837</td>\n",
       "      <td>7000</td>\n",
       "      <td>8.094571</td>\n",
       "      <td>1.00</td>\n",
       "      <td>8.904110</td>\n",
       "    </tr>\n",
       "    <tr>\n",
       "      <th>100</th>\n",
       "      <td>6</td>\n",
       "      <td>1132.371203</td>\n",
       "      <td>0.440872</td>\n",
       "      <td>5571</td>\n",
       "      <td>7000</td>\n",
       "      <td>8.101857</td>\n",
       "      <td>100.0</td>\n",
       "      <td>5</td>\n",
       "      <td>5532</td>\n",
       "      <td>7000</td>\n",
       "      <td>8.196571</td>\n",
       "      <td>1.00</td>\n",
       "      <td>8.904110</td>\n",
       "    </tr>\n",
       "    <tr>\n",
       "      <th>200</th>\n",
       "      <td>5</td>\n",
       "      <td>1203.582271</td>\n",
       "      <td>0.358783</td>\n",
       "      <td>5463</td>\n",
       "      <td>7000</td>\n",
       "      <td>7.843571</td>\n",
       "      <td>100.0</td>\n",
       "      <td>4</td>\n",
       "      <td>5424</td>\n",
       "      <td>7000</td>\n",
       "      <td>11.808000</td>\n",
       "      <td>0.98</td>\n",
       "      <td>8.904110</td>\n",
       "    </tr>\n",
       "    <tr>\n",
       "      <th>300</th>\n",
       "      <td>8</td>\n",
       "      <td>1102.981508</td>\n",
       "      <td>1.255452</td>\n",
       "      <td>5400</td>\n",
       "      <td>7000</td>\n",
       "      <td>7.811571</td>\n",
       "      <td>100.0</td>\n",
       "      <td>17</td>\n",
       "      <td>5319</td>\n",
       "      <td>7000</td>\n",
       "      <td>15.260000</td>\n",
       "      <td>1.00</td>\n",
       "      <td>8.904110</td>\n",
       "    </tr>\n",
       "    <tr>\n",
       "      <th>400</th>\n",
       "      <td>7</td>\n",
       "      <td>1103.010512</td>\n",
       "      <td>0.268604</td>\n",
       "      <td>5348</td>\n",
       "      <td>7000</td>\n",
       "      <td>7.952857</td>\n",
       "      <td>100.0</td>\n",
       "      <td>13</td>\n",
       "      <td>5264</td>\n",
       "      <td>7000</td>\n",
       "      <td>17.081143</td>\n",
       "      <td>0.99</td>\n",
       "      <td>8.904110</td>\n",
       "    </tr>\n",
       "    <tr>\n",
       "      <th>500</th>\n",
       "      <td>2</td>\n",
       "      <td>1527.256592</td>\n",
       "      <td>0.093198</td>\n",
       "      <td>5302</td>\n",
       "      <td>7000</td>\n",
       "      <td>8.445286</td>\n",
       "      <td>100.0</td>\n",
       "      <td>17</td>\n",
       "      <td>5232</td>\n",
       "      <td>7000</td>\n",
       "      <td>18.535000</td>\n",
       "      <td>1.00</td>\n",
       "      <td>10.273973</td>\n",
       "    </tr>\n",
       "    <tr>\n",
       "      <th>600</th>\n",
       "      <td>6</td>\n",
       "      <td>1128.750812</td>\n",
       "      <td>0.413180</td>\n",
       "      <td>5295</td>\n",
       "      <td>7000</td>\n",
       "      <td>8.691000</td>\n",
       "      <td>100.0</td>\n",
       "      <td>15</td>\n",
       "      <td>5191</td>\n",
       "      <td>7000</td>\n",
       "      <td>20.499143</td>\n",
       "      <td>1.00</td>\n",
       "      <td>9.589041</td>\n",
       "    </tr>\n",
       "    <tr>\n",
       "      <th>700</th>\n",
       "      <td>10</td>\n",
       "      <td>1058.053467</td>\n",
       "      <td>0.757521</td>\n",
       "      <td>5257</td>\n",
       "      <td>7000</td>\n",
       "      <td>8.827143</td>\n",
       "      <td>100.0</td>\n",
       "      <td>3</td>\n",
       "      <td>5163</td>\n",
       "      <td>7000</td>\n",
       "      <td>21.890286</td>\n",
       "      <td>1.00</td>\n",
       "      <td>10.273973</td>\n",
       "    </tr>\n",
       "    <tr>\n",
       "      <th>800</th>\n",
       "      <td>2</td>\n",
       "      <td>1895.648471</td>\n",
       "      <td>0.087332</td>\n",
       "      <td>5242</td>\n",
       "      <td>7000</td>\n",
       "      <td>8.991714</td>\n",
       "      <td>100.0</td>\n",
       "      <td>17</td>\n",
       "      <td>5139</td>\n",
       "      <td>7000</td>\n",
       "      <td>22.749429</td>\n",
       "      <td>1.00</td>\n",
       "      <td>9.589041</td>\n",
       "    </tr>\n",
       "    <tr>\n",
       "      <th>900</th>\n",
       "      <td>9</td>\n",
       "      <td>1048.083839</td>\n",
       "      <td>0.741097</td>\n",
       "      <td>5232</td>\n",
       "      <td>7000</td>\n",
       "      <td>8.872571</td>\n",
       "      <td>100.0</td>\n",
       "      <td>18</td>\n",
       "      <td>5118</td>\n",
       "      <td>7000</td>\n",
       "      <td>23.875571</td>\n",
       "      <td>1.00</td>\n",
       "      <td>9.589041</td>\n",
       "    </tr>\n",
       "    <tr>\n",
       "      <th>1000</th>\n",
       "      <td>4</td>\n",
       "      <td>1293.985677</td>\n",
       "      <td>0.509301</td>\n",
       "      <td>5218</td>\n",
       "      <td>7000</td>\n",
       "      <td>8.955429</td>\n",
       "      <td>100.0</td>\n",
       "      <td>4</td>\n",
       "      <td>5103</td>\n",
       "      <td>7000</td>\n",
       "      <td>25.297857</td>\n",
       "      <td>1.00</td>\n",
       "      <td>9.589041</td>\n",
       "    </tr>\n",
       "    <tr>\n",
       "      <th>1100</th>\n",
       "      <td>2</td>\n",
       "      <td>1570.370868</td>\n",
       "      <td>0.072796</td>\n",
       "      <td>5189</td>\n",
       "      <td>7000</td>\n",
       "      <td>9.063857</td>\n",
       "      <td>100.0</td>\n",
       "      <td>7</td>\n",
       "      <td>5084</td>\n",
       "      <td>7000</td>\n",
       "      <td>26.676286</td>\n",
       "      <td>1.00</td>\n",
       "      <td>9.589041</td>\n",
       "    </tr>\n",
       "    <tr>\n",
       "      <th>1200</th>\n",
       "      <td>4</td>\n",
       "      <td>1277.664800</td>\n",
       "      <td>0.347719</td>\n",
       "      <td>5189</td>\n",
       "      <td>7000</td>\n",
       "      <td>8.972429</td>\n",
       "      <td>100.0</td>\n",
       "      <td>8</td>\n",
       "      <td>5076</td>\n",
       "      <td>7000</td>\n",
       "      <td>28.026714</td>\n",
       "      <td>1.00</td>\n",
       "      <td>9.589041</td>\n",
       "    </tr>\n",
       "    <tr>\n",
       "      <th>1300</th>\n",
       "      <td>12</td>\n",
       "      <td>1018.124816</td>\n",
       "      <td>0.691511</td>\n",
       "      <td>5211</td>\n",
       "      <td>7000</td>\n",
       "      <td>9.331143</td>\n",
       "      <td>100.0</td>\n",
       "      <td>22</td>\n",
       "      <td>5044</td>\n",
       "      <td>7000</td>\n",
       "      <td>28.889714</td>\n",
       "      <td>1.00</td>\n",
       "      <td>9.589041</td>\n",
       "    </tr>\n",
       "    <tr>\n",
       "      <th>1400</th>\n",
       "      <td>5</td>\n",
       "      <td>1204.612675</td>\n",
       "      <td>0.338109</td>\n",
       "      <td>5212</td>\n",
       "      <td>7000</td>\n",
       "      <td>9.488143</td>\n",
       "      <td>100.0</td>\n",
       "      <td>18</td>\n",
       "      <td>5032</td>\n",
       "      <td>7000</td>\n",
       "      <td>29.586714</td>\n",
       "      <td>0.99</td>\n",
       "      <td>9.589041</td>\n",
       "    </tr>\n",
       "    <tr>\n",
       "      <th>1500</th>\n",
       "      <td>8</td>\n",
       "      <td>1066.896558</td>\n",
       "      <td>0.552862</td>\n",
       "      <td>5196</td>\n",
       "      <td>7000</td>\n",
       "      <td>9.646429</td>\n",
       "      <td>100.0</td>\n",
       "      <td>4</td>\n",
       "      <td>5024</td>\n",
       "      <td>7000</td>\n",
       "      <td>30.314714</td>\n",
       "      <td>1.00</td>\n",
       "      <td>9.589041</td>\n",
       "    </tr>\n",
       "    <tr>\n",
       "      <th>1600</th>\n",
       "      <td>3</td>\n",
       "      <td>1653.947718</td>\n",
       "      <td>0.179172</td>\n",
       "      <td>5205</td>\n",
       "      <td>7000</td>\n",
       "      <td>9.661571</td>\n",
       "      <td>100.0</td>\n",
       "      <td>5</td>\n",
       "      <td>4982</td>\n",
       "      <td>7000</td>\n",
       "      <td>31.800000</td>\n",
       "      <td>1.00</td>\n",
       "      <td>9.589041</td>\n",
       "    </tr>\n",
       "    <tr>\n",
       "      <th>1700</th>\n",
       "      <td>4</td>\n",
       "      <td>1437.704308</td>\n",
       "      <td>0.538833</td>\n",
       "      <td>5181</td>\n",
       "      <td>7000</td>\n",
       "      <td>9.277143</td>\n",
       "      <td>100.0</td>\n",
       "      <td>6</td>\n",
       "      <td>4974</td>\n",
       "      <td>7000</td>\n",
       "      <td>32.606286</td>\n",
       "      <td>0.99</td>\n",
       "      <td>9.589041</td>\n",
       "    </tr>\n",
       "    <tr>\n",
       "      <th>1800</th>\n",
       "      <td>6</td>\n",
       "      <td>1137.269115</td>\n",
       "      <td>0.655746</td>\n",
       "      <td>5177</td>\n",
       "      <td>7000</td>\n",
       "      <td>9.140429</td>\n",
       "      <td>100.0</td>\n",
       "      <td>7</td>\n",
       "      <td>4952</td>\n",
       "      <td>7000</td>\n",
       "      <td>33.040714</td>\n",
       "      <td>1.00</td>\n",
       "      <td>10.273973</td>\n",
       "    </tr>\n",
       "    <tr>\n",
       "      <th>1900</th>\n",
       "      <td>12</td>\n",
       "      <td>1030.920891</td>\n",
       "      <td>1.295460</td>\n",
       "      <td>5169</td>\n",
       "      <td>7000</td>\n",
       "      <td>9.053143</td>\n",
       "      <td>100.0</td>\n",
       "      <td>3</td>\n",
       "      <td>4949</td>\n",
       "      <td>7000</td>\n",
       "      <td>33.979571</td>\n",
       "      <td>1.00</td>\n",
       "      <td>10.958904</td>\n",
       "    </tr>\n",
       "    <tr>\n",
       "      <th>2000</th>\n",
       "      <td>3</td>\n",
       "      <td>1426.759214</td>\n",
       "      <td>0.190854</td>\n",
       "      <td>5175</td>\n",
       "      <td>7000</td>\n",
       "      <td>9.351000</td>\n",
       "      <td>100.0</td>\n",
       "      <td>10</td>\n",
       "      <td>4949</td>\n",
       "      <td>7000</td>\n",
       "      <td>34.501000</td>\n",
       "      <td>1.00</td>\n",
       "      <td>9.589041</td>\n",
       "    </tr>\n",
       "    <tr>\n",
       "      <th>2100</th>\n",
       "      <td>2</td>\n",
       "      <td>1553.487266</td>\n",
       "      <td>0.109808</td>\n",
       "      <td>5164</td>\n",
       "      <td>7000</td>\n",
       "      <td>9.483429</td>\n",
       "      <td>100.0</td>\n",
       "      <td>20</td>\n",
       "      <td>4945</td>\n",
       "      <td>7000</td>\n",
       "      <td>34.571857</td>\n",
       "      <td>1.00</td>\n",
       "      <td>10.273973</td>\n",
       "    </tr>\n",
       "    <tr>\n",
       "      <th>2200</th>\n",
       "      <td>7</td>\n",
       "      <td>1092.510017</td>\n",
       "      <td>0.508695</td>\n",
       "      <td>5169</td>\n",
       "      <td>7000</td>\n",
       "      <td>9.467429</td>\n",
       "      <td>100.0</td>\n",
       "      <td>5</td>\n",
       "      <td>4953</td>\n",
       "      <td>7000</td>\n",
       "      <td>34.764286</td>\n",
       "      <td>1.00</td>\n",
       "      <td>9.589041</td>\n",
       "    </tr>\n",
       "    <tr>\n",
       "      <th>2300</th>\n",
       "      <td>4</td>\n",
       "      <td>1260.906217</td>\n",
       "      <td>0.275596</td>\n",
       "      <td>5170</td>\n",
       "      <td>7000</td>\n",
       "      <td>9.662571</td>\n",
       "      <td>100.0</td>\n",
       "      <td>2</td>\n",
       "      <td>4941</td>\n",
       "      <td>7000</td>\n",
       "      <td>34.967571</td>\n",
       "      <td>1.00</td>\n",
       "      <td>9.589041</td>\n",
       "    </tr>\n",
       "    <tr>\n",
       "      <th>2400</th>\n",
       "      <td>8</td>\n",
       "      <td>1067.705115</td>\n",
       "      <td>0.796736</td>\n",
       "      <td>5142</td>\n",
       "      <td>7000</td>\n",
       "      <td>9.390286</td>\n",
       "      <td>100.0</td>\n",
       "      <td>11</td>\n",
       "      <td>4940</td>\n",
       "      <td>7000</td>\n",
       "      <td>34.874286</td>\n",
       "      <td>1.00</td>\n",
       "      <td>9.589041</td>\n",
       "    </tr>\n",
       "  </tbody>\n",
       "</table>\n",
       "</div>"
      ],
      "text/plain": [
       "       steps_in_trial       reward  perf_time  population  numerosity  \\\n",
       "trial                                                                   \n",
       "0                 100     0.000000   8.758626        5867        7000   \n",
       "100                 6  1132.371203   0.440872        5571        7000   \n",
       "200                 5  1203.582271   0.358783        5463        7000   \n",
       "300                 8  1102.981508   1.255452        5400        7000   \n",
       "400                 7  1103.010512   0.268604        5348        7000   \n",
       "500                 2  1527.256592   0.093198        5302        7000   \n",
       "600                 6  1128.750812   0.413180        5295        7000   \n",
       "700                10  1058.053467   0.757521        5257        7000   \n",
       "800                 2  1895.648471   0.087332        5242        7000   \n",
       "900                 9  1048.083839   0.741097        5232        7000   \n",
       "1000                4  1293.985677   0.509301        5218        7000   \n",
       "1100                2  1570.370868   0.072796        5189        7000   \n",
       "1200                4  1277.664800   0.347719        5189        7000   \n",
       "1300               12  1018.124816   0.691511        5211        7000   \n",
       "1400                5  1204.612675   0.338109        5212        7000   \n",
       "1500                8  1066.896558   0.552862        5196        7000   \n",
       "1600                3  1653.947718   0.179172        5205        7000   \n",
       "1700                4  1437.704308   0.538833        5181        7000   \n",
       "1800                6  1137.269115   0.655746        5177        7000   \n",
       "1900               12  1030.920891   1.295460        5169        7000   \n",
       "2000                3  1426.759214   0.190854        5175        7000   \n",
       "2100                2  1553.487266   0.109808        5164        7000   \n",
       "2200                7  1092.510017   0.508695        5169        7000   \n",
       "2300                4  1260.906217   0.275596        5170        7000   \n",
       "2400                8  1067.705115   0.796736        5142        7000   \n",
       "\n",
       "       average_specificity  knowledge  steps_in_trial_other  population_other  \\\n",
       "trial                                                                           \n",
       "0                 8.529143      100.0                   100              5837   \n",
       "100               8.101857      100.0                     5              5532   \n",
       "200               7.843571      100.0                     4              5424   \n",
       "300               7.811571      100.0                    17              5319   \n",
       "400               7.952857      100.0                    13              5264   \n",
       "500               8.445286      100.0                    17              5232   \n",
       "600               8.691000      100.0                    15              5191   \n",
       "700               8.827143      100.0                     3              5163   \n",
       "800               8.991714      100.0                    17              5139   \n",
       "900               8.872571      100.0                    18              5118   \n",
       "1000              8.955429      100.0                     4              5103   \n",
       "1100              9.063857      100.0                     7              5084   \n",
       "1200              8.972429      100.0                     8              5076   \n",
       "1300              9.331143      100.0                    22              5044   \n",
       "1400              9.488143      100.0                    18              5032   \n",
       "1500              9.646429      100.0                     4              5024   \n",
       "1600              9.661571      100.0                     5              4982   \n",
       "1700              9.277143      100.0                     6              4974   \n",
       "1800              9.140429      100.0                     7              4952   \n",
       "1900              9.053143      100.0                     3              4949   \n",
       "2000              9.351000      100.0                    10              4949   \n",
       "2100              9.483429      100.0                    20              4945   \n",
       "2200              9.467429      100.0                     5              4953   \n",
       "2300              9.662571      100.0                     2              4941   \n",
       "2400              9.390286      100.0                    11              4940   \n",
       "\n",
       "       numerosity_other  average_specificity_other  fraction_accuracy_other  \\\n",
       "trial                                                                         \n",
       "0                  7000                   8.094571                     1.00   \n",
       "100                7000                   8.196571                     1.00   \n",
       "200                7000                  11.808000                     0.98   \n",
       "300                7000                  15.260000                     1.00   \n",
       "400                7000                  17.081143                     0.99   \n",
       "500                7000                  18.535000                     1.00   \n",
       "600                7000                  20.499143                     1.00   \n",
       "700                7000                  21.890286                     1.00   \n",
       "800                7000                  22.749429                     1.00   \n",
       "900                7000                  23.875571                     1.00   \n",
       "1000               7000                  25.297857                     1.00   \n",
       "1100               7000                  26.676286                     1.00   \n",
       "1200               7000                  28.026714                     1.00   \n",
       "1300               7000                  28.889714                     1.00   \n",
       "1400               7000                  29.586714                     0.99   \n",
       "1500               7000                  30.314714                     1.00   \n",
       "1600               7000                  31.800000                     1.00   \n",
       "1700               7000                  32.606286                     0.99   \n",
       "1800               7000                  33.040714                     1.00   \n",
       "1900               7000                  33.979571                     1.00   \n",
       "2000               7000                  34.501000                     1.00   \n",
       "2100               7000                  34.571857                     1.00   \n",
       "2200               7000                  34.764286                     1.00   \n",
       "2300               7000                  34.967571                     1.00   \n",
       "2400               7000                  34.874286                     1.00   \n",
       "\n",
       "       knowledge_other  \n",
       "trial                   \n",
       "0             8.904110  \n",
       "100           8.904110  \n",
       "200           8.904110  \n",
       "300           8.904110  \n",
       "400           8.904110  \n",
       "500          10.273973  \n",
       "600           9.589041  \n",
       "700          10.273973  \n",
       "800           9.589041  \n",
       "900           9.589041  \n",
       "1000          9.589041  \n",
       "1100          9.589041  \n",
       "1200          9.589041  \n",
       "1300          9.589041  \n",
       "1400          9.589041  \n",
       "1500          9.589041  \n",
       "1600          9.589041  \n",
       "1700          9.589041  \n",
       "1800         10.273973  \n",
       "1900         10.958904  \n",
       "2000          9.589041  \n",
       "2100         10.273973  \n",
       "2200          9.589041  \n",
       "2300          9.589041  \n",
       "2400          9.589041  "
      ]
     },
     "metadata": {},
     "output_type": "display_data"
    }
   ],
   "source": [
    "df['steps_in_trial_other']=df_other['steps_in_trial']\n",
    "df['population_other']=df_other['population']\n",
    "df['numerosity_other']=df_other['numerosity']\n",
    "df['average_specificity_other']=df_other['average_specificity']\n",
    "df['fraction_accuracy_other']=df_other['fraction_accuracy']\n",
    "df['knowledge_other']=df_other['knowledge']\n",
    "\n",
    "display(df)"
   ]
  },
  {
   "cell_type": "code",
   "execution_count": 6,
   "metadata": {},
   "outputs": [
    {
     "data": {
      "text/plain": [
       "<matplotlib.legend.Legend at 0x2348a5779c8>"
      ]
     },
     "execution_count": 6,
     "metadata": {},
     "output_type": "execute_result"
    },
    {
     "data": {
      "image/png": "[encoded data removed]",
      "text/plain": [
       "<Figure size 432x288 with 1 Axes>"
      ]
     },
     "metadata": {
      "needs_background": "light"
     },
     "output_type": "display_data"
    }
   ],
   "source": [
    "import pandas as pd\n",
    "import numpy as np\n",
    "\n",
    "ax = df[['average_specificity', \"average_specificity_other\"]].plot()\n",
    "ax.set_xlabel(\"trial\")\n",
    "ax.set_ylabel(\"average_specificity\")\n",
    "ax.legend([\"XCS\",\"XNCS\"])"
   ]
  },
  {
   "cell_type": "code",
   "execution_count": 7,
   "metadata": {},
   "outputs": [
    {
     "data": {
      "text/plain": [
       "<matplotlib.legend.Legend at 0x2348f0d5e48>"
      ]
     },
     "execution_count": 7,
     "metadata": {},
     "output_type": "execute_result"
    },
    {
     "data": {
      "image/png": "[encoded data removed]",
      "text/plain": [
       "<Figure size 432x288 with 1 Axes>"
      ]
     },
     "metadata": {
      "needs_background": "light"
     },
     "output_type": "display_data"
    }
   ],
   "source": [
    "ax = df[\"fraction_accuracy_other\"].plot()\n",
    "ax.set_xlabel(\"trial\")\n",
    "ax.set_ylabel(\"fraction accuracy\")\n",
    "ax.legend([\"XCS\",\"XNCS\"])"
   ]
  },
  {
   "cell_type": "code",
   "execution_count": 8,
   "metadata": {},
   "outputs": [
    {
     "data": {
      "text/plain": [
       "<matplotlib.legend.Legend at 0x2348f206388>"
      ]
     },
     "execution_count": 8,
     "metadata": {},
     "output_type": "execute_result"
    },
    {
     "data": {
      "image/png": "[encoded data removed]",
      "text/plain": [
       "<Figure size 432x288 with 1 Axes>"
      ]
     },
     "metadata": {
      "needs_background": "light"
     },
     "output_type": "display_data"
    }
   ],
   "source": [
    "ax = df[['numerosity', 'numerosity_other']].plot()\n",
    "ax.set_xlabel(\"trial\")\n",
    "ax.set_ylabel(\"numerosity\")\n",
    "ax.legend([\"numerosity\", \"number of rules\"])"
   ]
  },
  {
   "cell_type": "code",
   "execution_count": 9,
   "metadata": {},
   "outputs": [
    {
     "data": {
      "text/plain": [
       "<matplotlib.legend.Legend at 0x2348f206ec8>"
      ]
     },
     "execution_count": 9,
     "metadata": {},
     "output_type": "execute_result"
    },
    {
     "data": {
      "image/png": "[encoded data removed]",
      "text/plain": [
       "<Figure size 432x288 with 1 Axes>"
      ]
     },
     "metadata": {
      "needs_background": "light"
     },
     "output_type": "display_data"
    }
   ],
   "source": [
    "ax = df[['population', \"population_other\"]].plot()\n",
    "ax.set_xlabel(\"trial\")\n",
    "ax.set_ylabel(\"population\")\n",
    "ax.legend([\"XCS\",\"XNCS\"])"
   ]
  },
  {
   "cell_type": "code",
   "execution_count": 10,
   "metadata": {},
   "outputs": [
    {
     "data": {
      "text/plain": [
       "<matplotlib.legend.Legend at 0x2348f2f6588>"
      ]
     },
     "execution_count": 10,
     "metadata": {},
     "output_type": "execute_result"
    },
    {
     "data": {
      "image/png": "[encoded data removed]",
      "text/plain": [
       "<Figure size 432x288 with 1 Axes>"
      ]
     },
     "metadata": {
      "needs_background": "light"
     },
     "output_type": "display_data"
    }
   ],
   "source": [
    "ax = df['knowledge'].plot()\n",
    "ax.set_xlabel(\"trial\")\n",
    "ax.set_ylabel(\"Knowledge\")\n",
    "ax.legend([\"XCS\"])"
   ]
  },
  {
   "cell_type": "code",
   "execution_count": 11,
   "metadata": {},
   "outputs": [
    {
     "data": {
      "text/plain": [
       "<matplotlib.legend.Legend at 0x2348f365608>"
      ]
     },
     "execution_count": 11,
     "metadata": {},
     "output_type": "execute_result"
    },
    {
     "data": {
      "image/png": "[encoded data removed]",
      "text/plain": [
       "<Figure size 432x288 with 1 Axes>"
      ]
     },
     "metadata": {
      "needs_background": "light"
     },
     "output_type": "display_data"
    }
   ],
   "source": [
    "ax = df['knowledge_other'].plot()\n",
    "ax.set_xlabel(\"trial\")\n",
    "ax.set_ylabel(\"Knowledge\")\n",
    "ax.legend([\"XNCS\"])"
   ]
  },
  {
   "cell_type": "code",
   "execution_count": 12,
   "metadata": {},
   "outputs": [
    {
     "data": {
      "text/plain": [
       "<matplotlib.legend.Legend at 0x2348f3dc108>"
      ]
     },
     "execution_count": 12,
     "metadata": {},
     "output_type": "execute_result"
    },
    {
     "data": {
      "image/png": "[encoded data removed]",
      "text/plain": [
       "<Figure size 432x288 with 1 Axes>"
      ]
     },
     "metadata": {
      "needs_background": "light"
     },
     "output_type": "display_data"
    }
   ],
   "source": [
    "ax = df[['steps_in_trial', 'steps_in_trial_other']].plot()\n",
    "ax.set_xlabel(\"trial\")\n",
    "ax.set_ylabel(\"steps in trial\")\n",
    "ax.legend([\"XCS\",\"XNCS\"])"
   ]
  },
  {
   "cell_type": "code",
   "execution_count": 13,
   "metadata": {},
   "outputs": [
    {
     "name": "stdout",
     "output_type": "stream",
     "text": [
      "239.0\n",
      "341.0\n"
     ]
    }
   ],
   "source": [
    "print(sum(df[\"steps_in_trial\"])/number_of_experiments)\n",
    "print(sum(df[\"steps_in_trial_other\"])/number_of_experiments)"
   ]
  }
 ],
 "metadata": {
  "kernelspec": {
   "display_name": "Python 3",
   "language": "python",
   "name": "python3"
  },
  "language_info": {
   "codemirror_mode": {
    "name": "ipython",
    "version": 3
   },
   "file_extension": ".py",
   "mimetype": "text/x-python",
   "name": "python",
   "nbconvert_exporter": "python",
   "pygments_lexer": "ipython3",
   "version": "3.7.10"
  }
 },
 "nbformat": 4,
 "nbformat_minor": 1
}
