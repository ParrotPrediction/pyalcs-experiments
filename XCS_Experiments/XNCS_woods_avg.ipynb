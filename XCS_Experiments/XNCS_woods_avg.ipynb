{
 "cells": [
  {
   "cell_type": "code",
   "execution_count": 1,
   "metadata": {},
   "outputs": [],
   "source": [
    "# logging \n",
    "import logging\n",
    "logging.basicConfig(level=logging.INFO)\n",
    "logger = logging.getLogger(__name__)\n"
   ]
  },
  {
   "cell_type": "code",
   "execution_count": 2,
   "metadata": {},
   "outputs": [
    {
     "name": "stdout",
     "output_type": "stream",
     "text": [
      "This is how maze looks like:\n",
      "\n",
      "\u001b[37m□\u001b[0m \u001b[37m□\u001b[0m \u001b[37m□\u001b[0m \u001b[37m□\u001b[0m \u001b[37m□\u001b[0m\n",
      "\u001b[37m□\u001b[0m \u001b[30m■\u001b[0m \u001b[30m■\u001b[0m \u001b[33m$\u001b[0m \u001b[37m□\u001b[0m\n",
      "\u001b[37m□\u001b[0m \u001b[30m■\u001b[0m \u001b[30m■\u001b[0m \u001b[30m■\u001b[0m \u001b[36mX\u001b[0m\n",
      "\u001b[37m□\u001b[0m \u001b[30m■\u001b[0m \u001b[30m■\u001b[0m \u001b[30m■\u001b[0m \u001b[37m□\u001b[0m\n",
      "\u001b[37m□\u001b[0m \u001b[37m□\u001b[0m \u001b[37m□\u001b[0m \u001b[37m□\u001b[0m \u001b[37m□\u001b[0m\n"
     ]
    }
   ],
   "source": [
    "# environment setup\n",
    "import gym\n",
    "# noinspection PyUnresolvedReferences\n",
    "import gym_woods\n",
    "\n",
    "maze = gym.make('Woods1-v0')\n",
    "print(\"This is how maze looks like:\")\n",
    "situation = maze.reset()\n",
    "maze.render()\n"
   ]
  },
  {
   "cell_type": "code",
   "execution_count": 3,
   "metadata": {},
   "outputs": [],
   "source": [
    "from lcs.agents.xncs import XNCS, Configuration\n",
    "from utils.nxcs_utils import *\n",
    "\n",
    "cfg = Configuration(number_of_actions=8,\n",
    "                    max_population=1800,\n",
    "                    learning_rate=0.2,\n",
    "                    mutation_chance=0.08,\n",
    "                    chi=0.8,\n",
    "                    ga_threshold=25,\n",
    "                    deletion_threshold=25,\n",
    "                    delta=0.1,\n",
    "                    initial_error=0.01,\n",
    "                    metrics_trial_frequency=50,\n",
    "                    covering_wildcard_chance=0.9,\n",
    "                    user_metrics_collector_fcn=xcs_maze_metrics,\n",
    "                    lmc=10,\n",
    "                    lem=200\n",
    "                    )\n"
   ]
  },
  {
   "cell_type": "code",
   "execution_count": 16,
   "metadata": {
    "scrolled": true
   },
   "outputs": [
    {
     "name": "stderr",
     "output_type": "stream",
     "text": [
      "INFO:lcs.agents.Agent:{'trial': 0, 'steps_in_trial': 8, 'reward': [0, 0, 0, 0, 0, 0, 1.1851334044990301e-40, 200.0], 'numerosity': 47, 'population': 47, 'average_specificity': 1.7872340425531914, 'fraction_accuracy': 0.17083333333333334}\n"
     ]
    },
    {
     "name": "stdout",
     "output_type": "stream",
     "text": [
      "Executing 0 experiment\n"
     ]
    },
    {
     "name": "stderr",
     "output_type": "stream",
     "text": [
      "INFO:lcs.agents.Agent:{'trial': 100, 'steps_in_trial': 6, 'reward': [77.38844931957856, 7.623826644163734, 39.44184342118275, 16.359879976718155, 5.1203305010520594, 2.4386447916665857, 89.83144563206308, 271.2911095567387], 'numerosity': 150, 'population': 119, 'average_specificity': 1.9333333333333333, 'fraction_accuracy': 0.04413919413918962}\n",
      "INFO:lcs.agents.Agent:{'trial': 200, 'steps_in_trial': 7, 'reward': [48.38462335166774, 7.623826644163734, 35.159388112657865, 13.576156064045383, 5.1203305010520594, 8.89879435675598, 851.3524504782182, 23.40234691764327], 'numerosity': 150, 'population': 119, 'average_specificity': 1.9333333333333333, 'fraction_accuracy': 0.04494047619046745}\n",
      "INFO:lcs.agents.Agent:{'trial': 300, 'steps_in_trial': 13, 'reward': [54.96601893863661, 7.623826644163734, 28.01723395290747, 13.576156064045383, 24.681179527486805, 18.898572605269315, 388.39028306588693, 43.610554615095374], 'numerosity': 154, 'population': 119, 'average_specificity': 1.8896103896103895, 'fraction_accuracy': 0.03809523809522804}\n",
      "INFO:lcs.agents.Agent:{'trial': 400, 'steps_in_trial': 2, 'reward': [37.94302258424682, 38.22553692138047, 28.01723395290747, 15.150653316905945, 22.48159232755866, 16.996597279560554, 908.8574659327174, 21.43797897214085], 'numerosity': 154, 'population': 119, 'average_specificity': 1.8896103896103895, 'fraction_accuracy': 0.039377289377278045}\n",
      "INFO:lcs.agents.Agent:{'trial': 500, 'steps_in_trial': 5, 'reward': [43.90144877421363, 38.22553692138047, 21.46643242997483, 15.150653316905945, 22.48159232755866, 24.909752344156555, 829.7637477686644, 4.5309047227570485], 'numerosity': 154, 'population': 119, 'average_specificity': 1.8896103896103895, 'fraction_accuracy': 0.039377289377277844}\n",
      "INFO:lcs.agents.Agent:{'trial': 600, 'steps_in_trial': 3, 'reward': [46.07964589638172, 49.10614501994641, 20.77905931969153, 15.150653316905945, 22.48159232755866, 20.822012905149453, 1019.63834076703, 10.021240454484422], 'numerosity': 154, 'population': 119, 'average_specificity': 1.8896103896103895, 'fraction_accuracy': 0.03937728937728233}\n",
      "INFO:lcs.agents.Agent:{'trial': 700, 'steps_in_trial': 1, 'reward': [40.573967641901945, 49.10614501994641, 29.155092597323154, 27.13709391745155, 22.48159232755866, 24.46546444556533, 911.3910129088263, 23.846757731581015], 'numerosity': 154, 'population': 119, 'average_specificity': 1.8896103896103895, 'fraction_accuracy': 0.0403242590742544}\n",
      "INFO:lcs.agents.Agent:{'trial': 800, 'steps_in_trial': 7, 'reward': [57.28819522774022, 50.522602034159874, 29.155092597323154, 26.39836281672688, 36.51098934488897, 17.328031780897476, 868.6160387951318, 52.39870134713265], 'numerosity': 154, 'population': 119, 'average_specificity': 1.8896103896103895, 'fraction_accuracy': 0.03234265734265777}\n",
      "INFO:lcs.agents.Agent:{'trial': 900, 'steps_in_trial': 2, 'reward': [46.8070873424269, 50.522602034159874, 29.155092597323154, 39.64440573622355, 36.51098934488897, 39.30210636701267, 937.8272533163764, 47.3922182161366], 'numerosity': 154, 'population': 119, 'average_specificity': 1.8896103896103895, 'fraction_accuracy': 0.020979020979058988}\n",
      "INFO:lcs.agents.Agent:{'trial': 0, 'steps_in_trial': 2, 'reward': [0, 0, 0, 0, 0, 0, 0, 200.0], 'numerosity': 16, 'population': 16, 'average_specificity': 2.625, 'fraction_accuracy': 0.5}\n"
     ]
    },
    {
     "name": "stdout",
     "output_type": "stream",
     "text": [
      "Executing 1 experiment\n"
     ]
    },
    {
     "name": "stderr",
     "output_type": "stream",
     "text": [
      "INFO:lcs.agents.Agent:{'trial': 100, 'steps_in_trial': 3, 'reward': [14.948875859206213, 6.482167977715553, 4.805986741591473, 10.479921842138864, 14.219627088639728, 0, 1.1851334044990301e-40, 431.0227038242516], 'numerosity': 147, 'population': 123, 'average_specificity': 2.2176870748299318, 'fraction_accuracy': 0.04370993589743585}\n",
      "INFO:lcs.agents.Agent:{'trial': 200, 'steps_in_trial': 7, 'reward': [15.55608710194309, 7.8499174171232955, 3.406946533364375, 3.4831343410207727, 36.52774465882344, 0, 1.1851334044990301e-40, 308.1056286360639], 'numerosity': 147, 'population': 123, 'average_specificity': 2.2176870748299318, 'fraction_accuracy': 0.04451121794871399}\n",
      "INFO:lcs.agents.Agent:{'trial': 300, 'steps_in_trial': 3, 'reward': [15.54323818777562, 7.8499174171232955, 3.404239347120658, 4.971245444750248, 45.383825319161865, 6.404811518052039, 6.030486238575225, 432.02831573288677], 'numerosity': 147, 'population': 123, 'average_specificity': 2.2176870748299318, 'fraction_accuracy': 0.03549107142857154}\n",
      "INFO:lcs.agents.Agent:{'trial': 400, 'steps_in_trial': 1, 'reward': [18.348048575714827, 7.8499174171232955, 4.84945754810475, 3.9177130843656047, 75.50714140529465, 15.627740104046975, 19.572488496117735, 630.8092216650939], 'numerosity': 147, 'population': 123, 'average_specificity': 2.2176870748299318, 'fraction_accuracy': 0.027678571428567954}\n",
      "INFO:lcs.agents.Agent:{'trial': 500, 'steps_in_trial': 4, 'reward': [18.529376331105507, 7.8499174171232955, 3.4127662387181394, 3.6145557127783614, 34.22927037775702, 18.532678321812803, 19.572488496117735, 452.0894265653876], 'numerosity': 147, 'population': 123, 'average_specificity': 2.2176870748299318, 'fraction_accuracy': 0.02767857142856687}\n",
      "INFO:lcs.agents.Agent:{'trial': 600, 'steps_in_trial': 3, 'reward': [24.40636015128248, 12.310420172273862, 15.0891405687214, 3.4731529929930582, 45.60189652473746, 23.252957811595603, 30.406090302151743, 434.23284014422643], 'numerosity': 147, 'population': 123, 'average_specificity': 2.2176870748299318, 'fraction_accuracy': 0.01794871794872291}\n",
      "INFO:lcs.agents.Agent:{'trial': 700, 'steps_in_trial': 2, 'reward': [15.824250973110082, 7.644860878446178, 3.5237476485229147, 132.56936987767887, 14.542131031607909, 30.45486905450492, 28.24667365977325, 525.6926114948392], 'numerosity': 177, 'population': 127, 'average_specificity': 2.23728813559322, 'fraction_accuracy': 2.3069522022300464e-14}\n",
      "INFO:lcs.agents.Agent:{'trial': 800, 'steps_in_trial': 2, 'reward': [15.55298085337935, 7.835114493694148, 9.466637862173997, 37.26410022913019, 69.95246860401915, 30.45486905450492, 25.416696328719382, 472.9537590584709], 'numerosity': 177, 'population': 127, 'average_specificity': 2.23728813559322, 'fraction_accuracy': 0.0005800605798474069}\n",
      "INFO:lcs.agents.Agent:{'trial': 900, 'steps_in_trial': 7, 'reward': [15.543266530048548, 11.028719186639314, 5.035830308630031, 26.198248552404376, 24.426376909577897, 24.363895243604293, 25.0939846546595, 306.94671742233544], 'numerosity': 177, 'population': 127, 'average_specificity': 2.23728813559322, 'fraction_accuracy': 0.011162958001340399}\n",
      "INFO:lcs.agents.Agent:{'trial': 0, 'steps_in_trial': 12, 'reward': [0, 0, 0, 0, 0, 0, 2.8917255069776334e-40, 200.0], 'numerosity': 45, 'population': 45, 'average_specificity': 2.111111111111111, 'fraction_accuracy': 0.16041666666666668}\n"
     ]
    },
    {
     "name": "stdout",
     "output_type": "stream",
     "text": [
      "Executing 2 experiment\n"
     ]
    },
    {
     "name": "stderr",
     "output_type": "stream",
     "text": [
      "INFO:lcs.agents.Agent:{'trial': 100, 'steps_in_trial': 3, 'reward': [45.861272220979274, 5.777177158490537, 0.00016660736117730924, 2.0621010370614123, 2.1332401280982545e-40, 0.2972030982909575, 7.330626569441693, 550.6590878136249], 'numerosity': 137, 'population': 120, 'average_specificity': 2.4452554744525545, 'fraction_accuracy': 0.02687728937731934}\n",
      "INFO:lcs.agents.Agent:{'trial': 200, 'steps_in_trial': 7, 'reward': [33.60389640494075, 21.024528121718006, 0.00016660736117730924, 3.316922651040935, 7.603798864164178, 31.24193272440482, 77.42657818509677, 433.23639075586993], 'numerosity': 137, 'population': 120, 'average_specificity': 2.4452554744525545, 'fraction_accuracy': 0.026877289377325798}\n",
      "INFO:lcs.agents.Agent:{'trial': 300, 'steps_in_trial': 3, 'reward': [42.97602827058685, 13.278134975022153, 1.2500064292167756, 23.569352114997507, 13.897527820932243, 6.114114927044774, 56.31283598477882, 557.1563225259094], 'numerosity': 145, 'population': 120, 'average_specificity': 2.413793103448276, 'fraction_accuracy': 0.009615384615445232}\n",
      "INFO:lcs.agents.Agent:{'trial': 400, 'steps_in_trial': 7, 'reward': [53.58569871006642, 13.278134975022153, 2.44917751597095, 20.085070866907188, 46.824193448471874, 6.22096302385681, 36.56884912826032, 380.5924029480383], 'numerosity': 145, 'population': 120, 'average_specificity': 2.413793103448276, 'fraction_accuracy': 6.91443175469259e-14}\n",
      "INFO:lcs.agents.Agent:{'trial': 500, 'steps_in_trial': 4, 'reward': [52.08129391867677, 13.278134975022153, 7.7496001007435185, 36.30134954045823, 87.65151534836963, 7.514999618397419, 23.1385252850851, 518.589009196269], 'numerosity': 145, 'population': 120, 'average_specificity': 2.413793103448276, 'fraction_accuracy': 0.00781250000015866}\n",
      "INFO:lcs.agents.Agent:{'trial': 600, 'steps_in_trial': 4, 'reward': [51.96850280706528, 26.39200889267868, 7.7496001007435185, 64.93315386179331, 71.20597474608321, 9.877801417557226, 4.917200455055779, 511.25129124260684], 'numerosity': 145, 'population': 120, 'average_specificity': 2.413793103448276, 'fraction_accuracy': 1.9066282705108302e-13}\n",
      "INFO:lcs.agents.Agent:{'trial': 700, 'steps_in_trial': 11, 'reward': [47.209500363339444, 35.550311850128736, 33.962955218909386, 36.01137778014315, 79.51334046414505, 31.37765157997808, 0.7308563892486347, 377.0602893992064], 'numerosity': 145, 'population': 120, 'average_specificity': 2.413793103448276, 'fraction_accuracy': 1.8681001961314295e-13}\n",
      "INFO:lcs.agents.Agent:{'trial': 800, 'steps_in_trial': 5, 'reward': [37.55582341052015, 22.256554797887638, 5.076297939532929, 13.15979264110109, 26.34220222270589, 14.069856621131176, 30.222710281944607, 361.71289557594605], 'numerosity': 165, 'population': 120, 'average_specificity': 2.309090909090909, 'fraction_accuracy': 0.015625000000022246}\n",
      "INFO:lcs.agents.Agent:{'trial': 900, 'steps_in_trial': 3, 'reward': [48.426708696497194, 22.256554797887638, 16.249754380301873, 13.15979264110109, 71.58429370550216, 7.982938243836235, 7.983109856574336, 584.8695805946053], 'numerosity': 165, 'population': 120, 'average_specificity': 2.309090909090909, 'fraction_accuracy': 0.017857142857157778}\n",
      "INFO:lcs.agents.Agent:{'trial': 0, 'steps_in_trial': 1, 'reward': [0, 0, 0, 0, 0, 0, 0, 200.0], 'numerosity': 8, 'population': 8, 'average_specificity': 2.0, 'fraction_accuracy': 1.0}\n"
     ]
    },
    {
     "name": "stdout",
     "output_type": "stream",
     "text": [
      "Executing 3 experiment\n"
     ]
    },
    {
     "name": "stderr",
     "output_type": "stream",
     "text": [
      "INFO:lcs.agents.Agent:{'trial': 100, 'steps_in_trial': 36, 'reward': [11.263091164105244, 24.95507775792102, 41.231646490072166, 9.749164444859797, 20.381741099729133, 24.068676540251836, 12.794822957893398, 231.31843863012878], 'numerosity': 159, 'population': 121, 'average_specificity': 1.779874213836478, 'fraction_accuracy': 0.017261904761909388}\n",
      "INFO:lcs.agents.Agent:{'trial': 200, 'steps_in_trial': 1, 'reward': [21.044563688805766, 20.092038655389523, 6.651354038364426, 8.399435793350548, 44.079573099428416, 20.005633860085503, 0.9429512044895909, 596.7428444281051], 'numerosity': 159, 'population': 121, 'average_specificity': 1.779874213836478, 'fraction_accuracy': 0.027564102564122624}\n",
      "INFO:lcs.agents.Agent:{'trial': 300, 'steps_in_trial': 9, 'reward': [19.456997801016552, 20.092038655389523, 11.723291877191572, 2.8821335026734665, 40.9943077014927, 21.76413649059253, 0.05887127749627319, 283.9509145687471], 'numerosity': 163, 'population': 122, 'average_specificity': 1.7546012269938651, 'fraction_accuracy': 0.008333333333363748}\n",
      "INFO:lcs.agents.Agent:{'trial': 400, 'steps_in_trial': 4, 'reward': [24.1308191080625, 20.092038655389523, 12.371938087550216, 6.348662048295006, 102.03953381186737, 21.76413649059253, 0.003095872409040731, 376.7321693365493], 'numerosity': 163, 'population': 122, 'average_specificity': 1.7546012269938651, 'fraction_accuracy': 0.00833333333334946}\n",
      "INFO:lcs.agents.Agent:{'trial': 500, 'steps_in_trial': 9, 'reward': [22.402311904671418, 19.10231186628414, 15.6031212179493, 3.6583974262842367, 63.982393140294924, 20.079258483612634, 7.9139788395661705, 278.8172881919942], 'numerosity': 163, 'population': 122, 'average_specificity': 1.7546012269938651, 'fraction_accuracy': 0.008333333333414851}\n",
      "INFO:lcs.agents.Agent:{'trial': 600, 'steps_in_trial': 2, 'reward': [25.29660118269279, 25.79026114573014, 23.95531430411151, 2.346238859068154, 31.785584390359844, 20.079258483612634, 20.462093390127908, 397.6431351473533], 'numerosity': 163, 'population': 122, 'average_specificity': 1.7546012269938651, 'fraction_accuracy': 0.008333333333380665}\n",
      "INFO:lcs.agents.Agent:{'trial': 700, 'steps_in_trial': 8, 'reward': [26.963920426574035, 36.66206661823044, 23.95531430411151, 2.304057774871115, 47.39543827506442, 17.79899446798192, 7.226925513070212, 361.2897262547619], 'numerosity': 163, 'population': 122, 'average_specificity': 1.7546012269938651, 'fraction_accuracy': 0.008333333333401844}\n",
      "INFO:lcs.agents.Agent:{'trial': 800, 'steps_in_trial': 2, 'reward': [24.84020631790159, 36.66206661823044, 23.95531430411151, 2.518435519897546, 67.06271043216358, 22.570363794642063, 4.826290642137171, 495.08768122043045], 'numerosity': 163, 'population': 122, 'average_specificity': 1.7546012269938651, 'fraction_accuracy': 0.018750000000014536}\n",
      "INFO:lcs.agents.Agent:{'trial': 900, 'steps_in_trial': 10, 'reward': [24.444344514183975, 35.48912765891187, 24.11252048175882, 4.684852359513682, 38.21307307212778, 23.020978673136156, 6.155349992436928, 335.6880282580763], 'numerosity': 163, 'population': 122, 'average_specificity': 1.7546012269938651, 'fraction_accuracy': 0.00833333333335464}\n",
      "INFO:lcs.agents.Agent:{'trial': 0, 'steps_in_trial': 4, 'reward': [0, 0, 0, 0, 0, 0, 0, 200.0], 'numerosity': 32, 'population': 32, 'average_specificity': 1.78125, 'fraction_accuracy': 0.25}\n"
     ]
    },
    {
     "name": "stdout",
     "output_type": "stream",
     "text": [
      "Executing 4 experiment\n"
     ]
    },
    {
     "name": "stderr",
     "output_type": "stream",
     "text": [
      "INFO:lcs.agents.Agent:{'trial': 100, 'steps_in_trial': 4, 'reward': [64.06870541805179, 41.20838953907627, 3.391722166607101, 1.2622845446564395, 23.749919287001486, 0, 0.2392900980038868, 783.0655529855683], 'numerosity': 143, 'population': 118, 'average_specificity': 1.972027972027972, 'fraction_accuracy': 0.035285027472527555}\n",
      "INFO:lcs.agents.Agent:{'trial': 200, 'steps_in_trial': 5, 'reward': [67.02792501226101, 54.090157773020415, 3.391722166607101, 1.7736525236148224, 226.19061393722407, 0, 4.5534644936536495, 774.4843329483712], 'numerosity': 143, 'population': 118, 'average_specificity': 1.972027972027972, 'fraction_accuracy': 0.035971840659413355}\n",
      "INFO:lcs.agents.Agent:{'trial': 300, 'steps_in_trial': 6, 'reward': [65.91318506235174, 103.2184913949467, 56.03789911207512, 1.1950172643640016, 194.13512237144704, 33.990337141862646, 3.636980932269693, 458.1292640729289], 'numerosity': 143, 'population': 118, 'average_specificity': 1.972027972027972, 'fraction_accuracy': 0.028273809523819533}\n",
      "INFO:lcs.agents.Agent:{'trial': 400, 'steps_in_trial': 6, 'reward': [65.28363556620856, 33.12718535518996, 27.30265530632551, 19.6211188265729, 61.562945177419934, 14.898617773229407, 22.65816013577915, 451.94353496592777], 'numerosity': 155, 'population': 119, 'average_specificity': 2.193548387096774, 'fraction_accuracy': 3.377950608357205e-16}\n",
      "INFO:lcs.agents.Agent:{'trial': 500, 'steps_in_trial': 6, 'reward': [59.6835140778669, 102.0054121476894, 16.832155030799363, 19.6211188265729, 61.562945177419934, 12.014811720411343, 5.960716376437491, 437.19945837651335], 'numerosity': 155, 'population': 119, 'average_specificity': 2.193548387096774, 'fraction_accuracy': 3.8159931929073363e-16}\n",
      "INFO:lcs.agents.Agent:{'trial': 600, 'steps_in_trial': 1, 'reward': [57.534125639410085, 97.19043384553407, 16.189157957604817, 19.6211188265729, 62.43298736360375, 36.66745518125974, 31.46030821812869, 635.5719004732558], 'numerosity': 161, 'population': 120, 'average_specificity': 2.1925465838509317, 'fraction_accuracy': 3.233885112170189e-15}\n",
      "INFO:lcs.agents.Agent:{'trial': 700, 'steps_in_trial': 6, 'reward': [49.94637474840195, 90.14647225624634, 15.83010676954182, 19.6211188265729, 49.9463898908892, 20.03568458908265, 17.102154186453372, 434.72785485554596], 'numerosity': 161, 'population': 120, 'average_specificity': 2.1925465838509317, 'fraction_accuracy': 5.37325296081157e-14}\n",
      "INFO:lcs.agents.Agent:{'trial': 800, 'steps_in_trial': 7, 'reward': [56.12883784817967, 103.22013620855994, 16.14249794908877, 19.6211188265729, 40.56563805907757, 9.570568563413195, 18.071246599922283, 417.8918831008443], 'numerosity': 161, 'population': 120, 'average_specificity': 2.1925465838509317, 'fraction_accuracy': 5.126413297286144e-14}\n",
      "INFO:lcs.agents.Agent:{'trial': 900, 'steps_in_trial': 7, 'reward': [63.71640148692822, 115.00268114684656, 17.1324672201868, 19.6211188265729, 45.63514166892986, 10.984963336951784, 35.65507013797481, 566.8773382982131], 'numerosity': 161, 'population': 120, 'average_specificity': 2.1925465838509317, 'fraction_accuracy': 5.109051667489134e-14}\n",
      "INFO:lcs.agents.Agent:{'trial': 0, 'steps_in_trial': 7, 'reward': [0, 0, 0, 0, 0, 0, 1.1851334044990301e-40, 200.0], 'numerosity': 39, 'population': 39, 'average_specificity': 1.7692307692307692, 'fraction_accuracy': 0.20625}\n"
     ]
    },
    {
     "name": "stdout",
     "output_type": "stream",
     "text": [
      "Executing 5 experiment\n"
     ]
    },
    {
     "name": "stderr",
     "output_type": "stream",
     "text": [
      "INFO:lcs.agents.Agent:{'trial': 100, 'steps_in_trial': 6, 'reward': [0, 30.23119861020236, 0, 0, 548.3926121185434, 9.279467489057918, 9.52604619274965, 3.956092336137555], 'numerosity': 124, 'population': 120, 'average_specificity': 2.024193548387097, 'fraction_accuracy': 0.07166895604395318}\n",
      "INFO:lcs.agents.Agent:{'trial': 200, 'steps_in_trial': 4, 'reward': [0, 68.93567452655284, 1.2843413090337004e-06, 0, 767.3397647663063, 5.909548422723534, 7.562360977965659, 16.196307649858248], 'numerosity': 124, 'population': 120, 'average_specificity': 2.024193548387097, 'fraction_accuracy': 0.05848214285714043}\n",
      "INFO:lcs.agents.Agent:{'trial': 300, 'steps_in_trial': 5, 'reward': [74.75216165945935, 33.796350372047954, 0.40245912076104523, 0, 712.7166479144647, 66.12459208373218, 7.902963013240614, 23.730903924183245], 'numerosity': 131, 'population': 121, 'average_specificity': 1.9618320610687023, 'fraction_accuracy': 0.05024038461537768}\n",
      "INFO:lcs.agents.Agent:{'trial': 400, 'steps_in_trial': 6, 'reward': [74.75216165945935, 44.59807473367463, 0.3219672978505675, 0, 670.7673802938236, 53.32805120495526, 9.719652359741971, 143.08118256919448], 'numerosity': 131, 'population': 121, 'average_specificity': 1.9618320610687023, 'fraction_accuracy': 0.050240384615383805}\n",
      "INFO:lcs.agents.Agent:{'trial': 500, 'steps_in_trial': 3, 'reward': [66.42904582333948, 30.727924287271577, 0.3219672978505675, 35.05675425229235, 811.0554846387937, 3.9418780244808156, 38.01788081442385, 34.80057232502296], 'numerosity': 131, 'population': 121, 'average_specificity': 1.9618320610687023, 'fraction_accuracy': 0.05701121794870005}\n",
      "INFO:lcs.agents.Agent:{'trial': 600, 'steps_in_trial': 7, 'reward': [38.331334624014254, 37.1016830368763, 6.884890334052452, 43.16710561785931, 458.8972461192126, 5.393343461616956, 27.80536584428129, 13.712747691325854], 'numerosity': 143, 'population': 122, 'average_specificity': 1.916083916083916, 'fraction_accuracy': 0.047395833333351026}\n",
      "INFO:lcs.agents.Agent:{'trial': 700, 'steps_in_trial': 3, 'reward': [38.331334624014254, 24.596614436977212, 6.884890334052452, 17.13559997996341, 508.9983105278624, 1.2257184362094153, 26.01822557294634, 8.929505341217592], 'numerosity': 143, 'population': 122, 'average_specificity': 1.916083916083916, 'fraction_accuracy': 0.04739583333335122}\n",
      "INFO:lcs.agents.Agent:{'trial': 800, 'steps_in_trial': 7, 'reward': [112.832384426645, 8.929109166315877, 8.753807853137191, 3.901543950324816, 481.4436845579303, 67.76810610546461, 20.014389485120443, 38.48162845601994], 'numerosity': 143, 'population': 122, 'average_specificity': 1.916083916083916, 'fraction_accuracy': 0.04739583333329902}\n",
      "INFO:lcs.agents.Agent:{'trial': 900, 'steps_in_trial': 1, 'reward': [23.142878515936744, 0.4849409854133376, 10.698850363187313, 1.880219820429963, 638.7303109338242, 3.4416594527016002, 26.791698453671174, 53.935936265169076], 'numerosity': 143, 'population': 122, 'average_specificity': 1.916083916083916, 'fraction_accuracy': 0.04739583333329621}\n",
      "INFO:lcs.agents.Agent:{'trial': 0, 'steps_in_trial': 16, 'reward': [0, 0, 0, 0, 0, 2.1332401280982545e-40, 4.10530211318464e-40, 200.0], 'numerosity': 62, 'population': 62, 'average_specificity': 2.2903225806451615, 'fraction_accuracy': 0.1376488095238095}\n"
     ]
    },
    {
     "name": "stdout",
     "output_type": "stream",
     "text": [
      "Executing 6 experiment\n"
     ]
    },
    {
     "name": "stderr",
     "output_type": "stream",
     "text": [
      "INFO:lcs.agents.Agent:{'trial': 100, 'steps_in_trial': 1, 'reward': [18.165369130817837, 12.27326941757607, 17.881168324552974, 16.179977945331554, 1011.5267984583102, 20.26655317578048, 8.952835602521123, 2.2588505026527623], 'numerosity': 151, 'population': 117, 'average_specificity': 2.456953642384106, 'fraction_accuracy': 0.009615384615451774}\n",
      "INFO:lcs.agents.Agent:{'trial': 200, 'steps_in_trial': 3, 'reward': [65.75781403177004, 12.27326941757607, 33.41514869215344, 16.179977945331554, 881.9703856350003, 16.273851441761064, 18.78212380754962, 98.5278458590675], 'numerosity': 155, 'population': 117, 'average_specificity': 2.432258064516129, 'fraction_accuracy': 0.009615384615463683}\n",
      "INFO:lcs.agents.Agent:{'trial': 300, 'steps_in_trial': 5, 'reward': [0.0002264936599956, 13.67133952678913, 28.962996879284663, 16.179977945331554, 647.5360938924922, 19.212196782383153, 219.31363063845862, 205.0653000205567], 'numerosity': 159, 'population': 117, 'average_specificity': 2.3710691823899372, 'fraction_accuracy': 0.009615384615467761}\n",
      "INFO:lcs.agents.Agent:{'trial': 400, 'steps_in_trial': 3, 'reward': [15.570920529506465, 13.67133952678913, 24.658165695592125, 16.179977945331554, 1007.2940288355132, 14.779713529843455, 0.20806029873354712, 185.7563468645119], 'numerosity': 159, 'population': 117, 'average_specificity': 2.3710691823899372, 'fraction_accuracy': 0.009615384615467789}\n",
      "INFO:lcs.agents.Agent:{'trial': 500, 'steps_in_trial': 2, 'reward': [15.571267775330226, 13.67133952678913, 26.84239911684453, 16.179977945331554, 840.2368058224473, 16.853190461114337, 0.0024593319237450157, 19.50865059838797], 'numerosity': 163, 'population': 117, 'average_specificity': 2.374233128834356, 'fraction_accuracy': 0.009615384615467727}\n",
      "INFO:lcs.agents.Agent:{'trial': 600, 'steps_in_trial': 4, 'reward': [16.05677542706455, 13.67133952678913, 21.711507568913497, 16.179977945331554, 894.3347994081654, 18.481495468598556, 3.4626003480851625e-06, 199.02233682207657], 'numerosity': 163, 'population': 117, 'average_specificity': 2.374233128834356, 'fraction_accuracy': 0.009615384615467713}\n",
      "INFO:lcs.agents.Agent:{'trial': 700, 'steps_in_trial': 3, 'reward': [27.95650393370798, 53.45865400600164, 23.255354615389564, 16.580077154887267, 411.6915320804487, 15.465011718482023, 2.2006696542298014, 602.0154246319121], 'numerosity': 169, 'population': 118, 'average_specificity': 2.4319526627218937, 'fraction_accuracy': 0.010416666666757814}\n",
      "INFO:lcs.agents.Agent:{'trial': 800, 'steps_in_trial': 3, 'reward': [27.95650393370798, 53.45865400600164, 21.96794210448081, 16.580077154887267, 639.6371148086016, 16.610321498592256, 2.2006696542298014, 747.3614384470955], 'numerosity': 169, 'population': 118, 'average_specificity': 2.4319526627218937, 'fraction_accuracy': 0.010416666666757826}\n",
      "INFO:lcs.agents.Agent:{'trial': 900, 'steps_in_trial': 4, 'reward': [27.95650393370798, 56.53283190022294, 28.481123461021326, 19.07914789251636, 375.11209828350997, 17.744081652938796, 2.2006696542298014, 386.3280088915897], 'numerosity': 169, 'population': 118, 'average_specificity': 2.4319526627218937, 'fraction_accuracy': 0.010416666666762815}\n",
      "INFO:lcs.agents.Agent:{'trial': 0, 'steps_in_trial': 9, 'reward': [0, 0, 0, 0, 0, 0, 1.1851334044990301e-40, 200.0], 'numerosity': 54, 'population': 54, 'average_specificity': 2.074074074074074, 'fraction_accuracy': 0.1488095238095238}\n"
     ]
    },
    {
     "name": "stdout",
     "output_type": "stream",
     "text": [
      "Executing 7 experiment\n"
     ]
    },
    {
     "name": "stderr",
     "output_type": "stream",
     "text": [
      "INFO:lcs.agents.Agent:{'trial': 100, 'steps_in_trial': 1, 'reward': [4.979455259632858, 3.056237271897518, 0, 14.647803285565123, 0.06459587364690134, 2.16353213791725e-40, 6.754403187132419, 703.2571122364526], 'numerosity': 133, 'population': 119, 'average_specificity': 1.962406015037594, 'fraction_accuracy': 0.043824404761900325}\n",
      "INFO:lcs.agents.Agent:{'trial': 200, 'steps_in_trial': 9, 'reward': [5.071437877865236, 18.62450033919833, 0, 10.195672154694781, 12.535499910570136, 18.35247482786778, 13.154857294286662, 478.54334860554945], 'numerosity': 133, 'population': 119, 'average_specificity': 1.962406015037594, 'fraction_accuracy': 0.036086309523851196}\n",
      "INFO:lcs.agents.Agent:{'trial': 300, 'steps_in_trial': 1, 'reward': [4.143028110827236, 13.295374643963958, 0, 5.148351903824417, 17.204110081028325, 23.48662658150451, 410.1643900908414, 541.4840140183121], 'numerosity': 133, 'population': 119, 'average_specificity': 1.962406015037594, 'fraction_accuracy': 0.036086309523808285}\n",
      "INFO:lcs.agents.Agent:{'trial': 400, 'steps_in_trial': 1, 'reward': [4.143028110827236, 8.699426067382117, 0, 71.08204501345384, 11.319126811066466, 20.762947725947484, 20.551046281129032, 911.4395322030875], 'numerosity': 133, 'population': 119, 'average_specificity': 1.962406015037594, 'fraction_accuracy': 0.036086309523806995}\n",
      "INFO:lcs.agents.Agent:{'trial': 500, 'steps_in_trial': 1, 'reward': [4.143028110827236, 12.351041812050477, 0, 9.506376022913154, 11.199876023646555, 21.400000508550605, 340.65710972060737, 702.547900023523], 'numerosity': 133, 'population': 119, 'average_specificity': 1.962406015037594, 'fraction_accuracy': 0.036086309523802144}\n",
      "INFO:lcs.agents.Agent:{'trial': 600, 'steps_in_trial': 9, 'reward': [9.443675862439473, 17.154716081535415, 0, 11.670697890191235, 38.70495211632136, 23.730556547729947, 37.79997693753622, 458.72429820998207], 'numerosity': 133, 'population': 119, 'average_specificity': 1.962406015037594, 'fraction_accuracy': 0.03703327922077382}\n",
      "INFO:lcs.agents.Agent:{'trial': 700, 'steps_in_trial': 6, 'reward': [13.782741463324301, 15.548487068917648, 1.7231124921940382, 19.558176999518047, 11.383046714521758, 920.7648614107171, 82.6186130716791, 495.67415288360036], 'numerosity': 149, 'population': 121, 'average_specificity': 2.3087248322147653, 'fraction_accuracy': 0.018229166666665422}\n",
      "INFO:lcs.agents.Agent:{'trial': 800, 'steps_in_trial': 3, 'reward': [15.368291516004554, 13.823043370171755, 10.177846845334631, 27.921566632844424, 4.159594932611326, 924.9341299958234, 11.479221732820145, 627.9711832683228], 'numerosity': 159, 'population': 121, 'average_specificity': 2.251572327044025, 'fraction_accuracy': 0.008333333333331513}\n",
      "INFO:lcs.agents.Agent:{'trial': 900, 'steps_in_trial': 7, 'reward': [15.368291516004554, 13.681022801492132, 10.177846845334631, 53.542015878787666, 3.2746227877009826, 914.2296881600574, 20.074661351099166, 286.0802491894596], 'numerosity': 159, 'population': 121, 'average_specificity': 2.251572327044025, 'fraction_accuracy': 0.008333333333331668}\n",
      "INFO:lcs.agents.Agent:{'trial': 0, 'steps_in_trial': 8, 'reward': [0, 0, 0, 0, 0, 0, 1.1851334044990301e-40, 200.0], 'numerosity': 46, 'population': 46, 'average_specificity': 2.5, 'fraction_accuracy': 0.17500000000000002}\n"
     ]
    },
    {
     "name": "stdout",
     "output_type": "stream",
     "text": [
      "Executing 8 experiment\n"
     ]
    },
    {
     "name": "stderr",
     "output_type": "stream",
     "text": [
      "INFO:lcs.agents.Agent:{'trial': 100, 'steps_in_trial': 6, 'reward': [6.976011863888381, 3.6281690941048197, 19.868827228933007, 19.446043399113897, 7.968109055344296, 2.1332401280982545e-40, 222.04992997746805, 406.78882810412983], 'numerosity': 153, 'population': 122, 'average_specificity': 2.1437908496732025, 'fraction_accuracy': 0.03451067927172138}\n",
      "INFO:lcs.agents.Agent:{'trial': 200, 'steps_in_trial': 1, 'reward': [6.976011863888381, 3.6281690941048197, 75.34468902783256, 14.197520801967118, 9.470636046570691, 2.1332401280982545e-40, 560.3163489727106, 272.32607748749064], 'numerosity': 153, 'population': 122, 'average_specificity': 2.1437908496732025, 'fraction_accuracy': 0.03451067927171414}\n",
      "INFO:lcs.agents.Agent:{'trial': 300, 'steps_in_trial': 1, 'reward': [10.480185694957521, 23.545490749432087, 24.942690827018403, 16.462984002422196, 9.470636046570691, 2.1332401280982545e-40, 560.5086965678745, 40.78495566288173], 'numerosity': 153, 'population': 122, 'average_specificity': 2.1437908496732025, 'fraction_accuracy': 0.027157738095288424}\n",
      "INFO:lcs.agents.Agent:{'trial': 400, 'steps_in_trial': 4, 'reward': [9.794164371637365, 59.46180041560667, 18.030499412608222, 17.175039096338473, 10.91842011855941, 70.05085609074884, 183.26817823556416, 401.9857828395636], 'numerosity': 153, 'population': 122, 'average_specificity': 2.1437908496732025, 'fraction_accuracy': 0.02097902097904398}\n",
      "INFO:lcs.agents.Agent:{'trial': 500, 'steps_in_trial': 7, 'reward': [9.794164371637365, 47.86156599260255, 17.371528865864743, 22.267190833864333, 8.954503286447995, 29.141459433464114, 33.27276662162861, 375.1221170759215], 'numerosity': 159, 'population': 122, 'average_specificity': 2.119496855345912, 'fraction_accuracy': 0.020979020979053412}\n",
      "INFO:lcs.agents.Agent:{'trial': 600, 'steps_in_trial': 4, 'reward': [9.794164371637365, 14.237790987826695, 17.2836873586904, 22.267190833864333, 8.954503286447995, 19.052988976941847, 375.5832936682164, 354.6928316202783], 'numerosity': 159, 'population': 122, 'average_specificity': 2.119496855345912, 'fraction_accuracy': 0.0217803030303246}\n",
      "INFO:lcs.agents.Agent:{'trial': 700, 'steps_in_trial': 5, 'reward': [20.28551331408696, 14.197057962751886, 17.045226957055895, 20.652888991355358, 8.954503286447995, 21.05012094461912, 555.925565226167, 144.4978782403228], 'numerosity': 159, 'population': 122, 'average_specificity': 2.119496855345912, 'fraction_accuracy': 0.021780303030324553}\n",
      "INFO:lcs.agents.Agent:{'trial': 800, 'steps_in_trial': 5, 'reward': [20.28551331408696, 14.19568162134378, 32.28472087769759, 20.652888991355358, 11.083131252651723, 20.759625379188623, 575.7795100182484, 133.1745860324102], 'numerosity': 159, 'population': 122, 'average_specificity': 2.119496855345912, 'fraction_accuracy': 0.0217803030303228}\n",
      "INFO:lcs.agents.Agent:{'trial': 900, 'steps_in_trial': 49, 'reward': [20.64054874943627, 23.396170342510953, 12.11213666395744, 21.07453333656864, 7.969186319752497, 18.760209863840405, 22.80201242786775, 216.01210165460847], 'numerosity': 201, 'population': 124, 'average_specificity': 2.1194029850746268, 'fraction_accuracy': 0.012499999999999739}\n",
      "INFO:lcs.agents.Agent:{'trial': 0, 'steps_in_trial': 9, 'reward': [0, 0, 0, 0, 0, 0, 3.0813468516974786e-40, 200.0], 'numerosity': 55, 'population': 55, 'average_specificity': 2.0, 'fraction_accuracy': 0.14583333333333331}\n"
     ]
    },
    {
     "name": "stdout",
     "output_type": "stream",
     "text": [
      "Executing 9 experiment\n"
     ]
    },
    {
     "name": "stderr",
     "output_type": "stream",
     "text": [
      "INFO:lcs.agents.Agent:{'trial': 100, 'steps_in_trial': 3, 'reward': [22.367804106728823, 18.04717345529031, 43.424659540954764, 41.371285734440264, 793.8578192357055, 21.770703561180028, 12.23572346393489, 174.004005908294], 'numerosity': 161, 'population': 128, 'average_specificity': 1.6770186335403727, 'fraction_accuracy': 0.026356456043973346}\n",
      "INFO:lcs.agents.Agent:{'trial': 200, 'steps_in_trial': 2, 'reward': [22.367804106728823, 17.35646527322392, 50.289023650626426, 41.371285734440264, 913.0650522661118, 19.92553910480593, 7.147437410667159, 337.4253730198544], 'numerosity': 161, 'population': 128, 'average_specificity': 1.6770186335403727, 'fraction_accuracy': 0.02635645604397332}\n",
      "INFO:lcs.agents.Agent:{'trial': 300, 'steps_in_trial': 4, 'reward': [22.367804106728823, 10.389852759095092, 31.046345932815168, 41.371285734440264, 640.2595183493553, 18.321709687435774, 0.6545412888082301, 149.60994035758236], 'numerosity': 161, 'population': 128, 'average_specificity': 1.6770186335403727, 'fraction_accuracy': 0.026356456043976042}\n",
      "INFO:lcs.agents.Agent:{'trial': 400, 'steps_in_trial': 5, 'reward': [22.367804106728823, 7.864603029146709, 23.123457525985277, 53.877678377558645, 628.6423120164827, 53.58720907030358, 24.55746936830138, 18.95146090531683], 'numerosity': 161, 'population': 128, 'average_specificity': 1.6770186335403727, 'fraction_accuracy': 0.026356456043976205}\n",
      "INFO:lcs.agents.Agent:{'trial': 500, 'steps_in_trial': 4, 'reward': [67.601503096484, 7.660377142555792, 27.222096504043673, 40.72547779838188, 584.848341168318, 52.604752992933065, 38.40852452980744, 10.549104346230045], 'numerosity': 169, 'population': 129, 'average_specificity': 1.7041420118343196, 'fraction_accuracy': 0.008928571428591707}\n",
      "INFO:lcs.agents.Agent:{'trial': 600, 'steps_in_trial': 3, 'reward': [67.601503096484, 7.577539651973729, 21.261924630288345, 25.6207779849069, 658.7596990143298, 49.624420646504525, 15.452812425714, 8.306076706555565], 'numerosity': 169, 'population': 129, 'average_specificity': 1.7041420118343196, 'fraction_accuracy': 0.008928571428605512}\n",
      "INFO:lcs.agents.Agent:{'trial': 700, 'steps_in_trial': 7, 'reward': [67.601503096484, 41.364961138797945, 24.61813492096837, 21.898377004165553, 491.09664482807773, 58.79311135031428, 27.814584587827735, 28.15782054451189], 'numerosity': 169, 'population': 129, 'average_specificity': 1.7041420118343196, 'fraction_accuracy': 0.008928571428594044}\n",
      "INFO:lcs.agents.Agent:{'trial': 800, 'steps_in_trial': 7, 'reward': [67.601503096484, 18.91439348305834, 22.875132728288975, 21.625321296440816, 475.14070017704864, 44.94754617484875, 17.60190751320787, 86.73816758857231], 'numerosity': 169, 'population': 129, 'average_specificity': 1.7041420118343196, 'fraction_accuracy': 0.008928571428593499}\n",
      "INFO:lcs.agents.Agent:{'trial': 900, 'steps_in_trial': 5, 'reward': [67.601503096484, 14.431889733034506, 30.77127969460718, 90.132145402487, 607.3766890765431, 59.8353046516717, 22.63921356082991, 36.98670422235996], 'numerosity': 169, 'population': 129, 'average_specificity': 1.7041420118343196, 'fraction_accuracy': 0.01785714285716463}\n"
     ]
    }
   ],
   "source": [
    "\n",
    "df = avg_experiment(maze=maze,\n",
    "                         cfg=cfg,\n",
    "                         number_of_tests=10,\n",
    "                         trials=1000)\n"
   ]
  },
  {
   "cell_type": "code",
   "execution_count": 17,
   "metadata": {},
   "outputs": [
    {
     "data": {
      "text/html": [
       "<div>\n",
       "<style scoped>\n",
       "    .dataframe tbody tr th:only-of-type {\n",
       "        vertical-align: middle;\n",
       "    }\n",
       "\n",
       "    .dataframe tbody tr th {\n",
       "        vertical-align: top;\n",
       "    }\n",
       "\n",
       "    .dataframe thead th {\n",
       "        text-align: right;\n",
       "    }\n",
       "</style>\n",
       "<table border=\"1\" class=\"dataframe\">\n",
       "  <thead>\n",
       "    <tr style=\"text-align: right;\">\n",
       "      <th></th>\n",
       "      <th>steps_in_trial</th>\n",
       "      <th>numerosity</th>\n",
       "      <th>population</th>\n",
       "      <th>average_specificity</th>\n",
       "      <th>fraction_accuracy</th>\n",
       "    </tr>\n",
       "    <tr>\n",
       "      <th>trial</th>\n",
       "      <th></th>\n",
       "      <th></th>\n",
       "      <th></th>\n",
       "      <th></th>\n",
       "      <th></th>\n",
       "    </tr>\n",
       "  </thead>\n",
       "  <tbody>\n",
       "    <tr>\n",
       "      <th>0</th>\n",
       "      <td>7.6</td>\n",
       "      <td>40.4</td>\n",
       "      <td>40.4</td>\n",
       "      <td>2.093822</td>\n",
       "      <td>0.289479</td>\n",
       "    </tr>\n",
       "    <tr>\n",
       "      <th>50</th>\n",
       "      <td>13.5</td>\n",
       "      <td>143.2</td>\n",
       "      <td>120.5</td>\n",
       "      <td>2.073268</td>\n",
       "      <td>0.036071</td>\n",
       "    </tr>\n",
       "    <tr>\n",
       "      <th>100</th>\n",
       "      <td>6.9</td>\n",
       "      <td>145.8</td>\n",
       "      <td>120.7</td>\n",
       "      <td>2.061254</td>\n",
       "      <td>0.035325</td>\n",
       "    </tr>\n",
       "    <tr>\n",
       "      <th>150</th>\n",
       "      <td>4.4</td>\n",
       "      <td>146.2</td>\n",
       "      <td>120.7</td>\n",
       "      <td>2.058785</td>\n",
       "      <td>0.032594</td>\n",
       "    </tr>\n",
       "    <tr>\n",
       "      <th>200</th>\n",
       "      <td>4.6</td>\n",
       "      <td>146.2</td>\n",
       "      <td>120.7</td>\n",
       "      <td>2.058785</td>\n",
       "      <td>0.034492</td>\n",
       "    </tr>\n",
       "    <tr>\n",
       "      <th>250</th>\n",
       "      <td>7.0</td>\n",
       "      <td>148.1</td>\n",
       "      <td>120.9</td>\n",
       "      <td>2.046875</td>\n",
       "      <td>0.029361</td>\n",
       "    </tr>\n",
       "    <tr>\n",
       "      <th>300</th>\n",
       "      <td>5.0</td>\n",
       "      <td>148.9</td>\n",
       "      <td>120.9</td>\n",
       "      <td>2.036384</td>\n",
       "      <td>0.026927</td>\n",
       "    </tr>\n",
       "    <tr>\n",
       "      <th>350</th>\n",
       "      <td>4.6</td>\n",
       "      <td>148.9</td>\n",
       "      <td>120.9</td>\n",
       "      <td>2.036384</td>\n",
       "      <td>0.027339</td>\n",
       "    </tr>\n",
       "    <tr>\n",
       "      <th>400</th>\n",
       "      <td>3.9</td>\n",
       "      <td>150.1</td>\n",
       "      <td>121.0</td>\n",
       "      <td>2.058536</td>\n",
       "      <td>0.021867</td>\n",
       "    </tr>\n",
       "    <tr>\n",
       "      <th>450</th>\n",
       "      <td>7.6</td>\n",
       "      <td>150.1</td>\n",
       "      <td>121.0</td>\n",
       "      <td>2.058536</td>\n",
       "      <td>0.021893</td>\n",
       "    </tr>\n",
       "    <tr>\n",
       "      <th>500</th>\n",
       "      <td>4.5</td>\n",
       "      <td>151.9</td>\n",
       "      <td>121.1</td>\n",
       "      <td>2.059135</td>\n",
       "      <td>0.021582</td>\n",
       "    </tr>\n",
       "    <tr>\n",
       "      <th>550</th>\n",
       "      <td>4.4</td>\n",
       "      <td>151.9</td>\n",
       "      <td>121.1</td>\n",
       "      <td>2.059135</td>\n",
       "      <td>0.020964</td>\n",
       "    </tr>\n",
       "    <tr>\n",
       "      <th>600</th>\n",
       "      <td>4.0</td>\n",
       "      <td>153.7</td>\n",
       "      <td>121.3</td>\n",
       "      <td>2.054460</td>\n",
       "      <td>0.019041</td>\n",
       "    </tr>\n",
       "    <tr>\n",
       "      <th>650</th>\n",
       "      <td>6.9</td>\n",
       "      <td>156.9</td>\n",
       "      <td>121.7</td>\n",
       "      <td>2.057785</td>\n",
       "      <td>0.018956</td>\n",
       "    </tr>\n",
       "    <tr>\n",
       "      <th>700</th>\n",
       "      <td>5.2</td>\n",
       "      <td>158.9</td>\n",
       "      <td>122.0</td>\n",
       "      <td>2.096824</td>\n",
       "      <td>0.015541</td>\n",
       "    </tr>\n",
       "    <tr>\n",
       "      <th>750</th>\n",
       "      <td>4.8</td>\n",
       "      <td>159.9</td>\n",
       "      <td>122.0</td>\n",
       "      <td>2.091109</td>\n",
       "      <td>0.013753</td>\n",
       "    </tr>\n",
       "    <tr>\n",
       "      <th>800</th>\n",
       "      <td>4.8</td>\n",
       "      <td>161.9</td>\n",
       "      <td>122.0</td>\n",
       "      <td>2.080639</td>\n",
       "      <td>0.016415</td>\n",
       "    </tr>\n",
       "    <tr>\n",
       "      <th>850</th>\n",
       "      <td>4.3</td>\n",
       "      <td>161.9</td>\n",
       "      <td>122.0</td>\n",
       "      <td>2.080639</td>\n",
       "      <td>0.013618</td>\n",
       "    </tr>\n",
       "    <tr>\n",
       "      <th>900</th>\n",
       "      <td>9.5</td>\n",
       "      <td>166.1</td>\n",
       "      <td>122.2</td>\n",
       "      <td>2.080629</td>\n",
       "      <td>0.015484</td>\n",
       "    </tr>\n",
       "    <tr>\n",
       "      <th>950</th>\n",
       "      <td>6.0</td>\n",
       "      <td>166.1</td>\n",
       "      <td>122.2</td>\n",
       "      <td>2.080629</td>\n",
       "      <td>0.013668</td>\n",
       "    </tr>\n",
       "  </tbody>\n",
       "</table>\n",
       "</div>"
      ],
      "text/plain": [
       "       steps_in_trial  numerosity  population  average_specificity  \\\n",
       "trial                                                                \n",
       "0                 7.6        40.4        40.4             2.093822   \n",
       "50               13.5       143.2       120.5             2.073268   \n",
       "100               6.9       145.8       120.7             2.061254   \n",
       "150               4.4       146.2       120.7             2.058785   \n",
       "200               4.6       146.2       120.7             2.058785   \n",
       "250               7.0       148.1       120.9             2.046875   \n",
       "300               5.0       148.9       120.9             2.036384   \n",
       "350               4.6       148.9       120.9             2.036384   \n",
       "400               3.9       150.1       121.0             2.058536   \n",
       "450               7.6       150.1       121.0             2.058536   \n",
       "500               4.5       151.9       121.1             2.059135   \n",
       "550               4.4       151.9       121.1             2.059135   \n",
       "600               4.0       153.7       121.3             2.054460   \n",
       "650               6.9       156.9       121.7             2.057785   \n",
       "700               5.2       158.9       122.0             2.096824   \n",
       "750               4.8       159.9       122.0             2.091109   \n",
       "800               4.8       161.9       122.0             2.080639   \n",
       "850               4.3       161.9       122.0             2.080639   \n",
       "900               9.5       166.1       122.2             2.080629   \n",
       "950               6.0       166.1       122.2             2.080629   \n",
       "\n",
       "       fraction_accuracy  \n",
       "trial                     \n",
       "0               0.289479  \n",
       "50              0.036071  \n",
       "100             0.035325  \n",
       "150             0.032594  \n",
       "200             0.034492  \n",
       "250             0.029361  \n",
       "300             0.026927  \n",
       "350             0.027339  \n",
       "400             0.021867  \n",
       "450             0.021893  \n",
       "500             0.021582  \n",
       "550             0.020964  \n",
       "600             0.019041  \n",
       "650             0.018956  \n",
       "700             0.015541  \n",
       "750             0.013753  \n",
       "800             0.016415  \n",
       "850             0.013618  \n",
       "900             0.015484  \n",
       "950             0.013668  "
      ]
     },
     "metadata": {},
     "output_type": "display_data"
    }
   ],
   "source": [
    "display(df)"
   ]
  },
  {
   "cell_type": "code",
   "execution_count": 18,
   "metadata": {},
   "outputs": [
    {
     "data": {
      "text/plain": [
       "<matplotlib.legend.Legend at 0x21e67c706c8>"
      ]
     },
     "execution_count": 18,
     "metadata": {},
     "output_type": "execute_result"
    },
    {
     "data": {
      "image/png": "[encoded data removed]",
      "text/plain": [
       "<Figure size 432x288 with 1 Axes>"
      ]
     },
     "metadata": {
      "needs_background": "light"
     },
     "output_type": "display_data"
    }
   ],
   "source": [
    "import pandas as pd\n",
    "import numpy as np\n",
    "\n",
    "ax = df['average_specificity'].plot()\n",
    "ax.set_xlabel(\"trial\")\n",
    "ax.set_ylabel(\"average_specificity\")\n",
    "ax.legend([\"specificity\"])\n"
   ]
  },
  {
   "cell_type": "code",
   "execution_count": 19,
   "metadata": {},
   "outputs": [
    {
     "data": {
      "text/plain": [
       "<matplotlib.legend.Legend at 0x21e67cc4648>"
      ]
     },
     "execution_count": 19,
     "metadata": {},
     "output_type": "execute_result"
    },
    {
     "data": {
      "image/png": "[encoded data removed]",
      "text/plain": [
       "<Figure size 432x288 with 1 Axes>"
      ]
     },
     "metadata": {
      "needs_background": "light"
     },
     "output_type": "display_data"
    }
   ],
   "source": [
    "ax = df['fraction_accuracy'].plot()\n",
    "ax.set_xlabel(\"trial\")\n",
    "ax.set_ylabel(\"fraction accuracy\")\n",
    "ax.legend([\"fraction accuracy\"])"
   ]
  },
  {
   "cell_type": "code",
   "execution_count": 20,
   "metadata": {},
   "outputs": [
    {
     "data": {
      "text/plain": [
       "<matplotlib.legend.Legend at 0x21e67d4be08>"
      ]
     },
     "execution_count": 20,
     "metadata": {},
     "output_type": "execute_result"
    },
    {
     "data": {
      "image/png": "[encoded data removed]",
      "text/plain": [
       "<Figure size 432x288 with 1 Axes>"
      ]
     },
     "metadata": {
      "needs_background": "light"
     },
     "output_type": "display_data"
    }
   ],
   "source": [
    "ax = df[['numerosity', 'population']].plot()\n",
    "ax.set_xlabel(\"trial\")\n",
    "ax.set_ylabel(\"population\")\n",
    "ax.legend([\"numerosity\", \"number of rules\"])"
   ]
  },
  {
   "cell_type": "code",
   "execution_count": 21,
   "metadata": {},
   "outputs": [
    {
     "data": {
      "text/plain": [
       "<matplotlib.legend.Legend at 0x21e67b001c8>"
      ]
     },
     "execution_count": 21,
     "metadata": {},
     "output_type": "execute_result"
    },
    {
     "data": {
      "image/png": "[encoded data removed]",
      "text/plain": [
       "<Figure size 432x288 with 1 Axes>"
      ]
     },
     "metadata": {
      "needs_background": "light"
     },
     "output_type": "display_data"
    }
   ],
   "source": [
    "ax = df['steps_in_trial'].plot()\n",
    "ax.set_xlabel(\"trial\")\n",
    "ax.set_ylabel(\"steps in trial\")\n",
    "ax.legend([\"steps\"])"
   ]
  }
 ],
 "metadata": {
  "kernelspec": {
   "display_name": "Python 3",
   "language": "python",
   "name": "python3"
  },
  "language_info": {
   "codemirror_mode": {
    "name": "ipython",
    "version": 3
   },
   "file_extension": ".py",
   "mimetype": "text/x-python",
   "name": "python",
   "nbconvert_exporter": "python",
   "pygments_lexer": "ipython3",
   "version": "3.7.10"
  }
 },
 "nbformat": 4,
 "nbformat_minor": 1
}
