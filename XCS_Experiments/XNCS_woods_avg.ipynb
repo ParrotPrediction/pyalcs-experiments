{
 "cells": [
  {
   "cell_type": "code",
   "execution_count": 1,
   "metadata": {},
   "outputs": [],
   "source": [
    "# logging \n",
    "import logging\n",
    "logging.basicConfig(level=logging.INFO)\n",
    "logger = logging.getLogger(__name__)\n"
   ]
  },
  {
   "cell_type": "code",
   "execution_count": 2,
   "metadata": {},
   "outputs": [
    {
     "name": "stdout",
     "output_type": "stream",
     "text": [
      "This is how maze looks like:\n",
      "\n",
      "\u001b[36mX\u001b[0m \u001b[37m□\u001b[0m \u001b[37m□\u001b[0m \u001b[37m□\u001b[0m \u001b[37m□\u001b[0m\n",
      "\u001b[37m□\u001b[0m \u001b[30m■\u001b[0m \u001b[30m■\u001b[0m \u001b[33m$\u001b[0m \u001b[37m□\u001b[0m\n",
      "\u001b[37m□\u001b[0m \u001b[30m■\u001b[0m \u001b[30m■\u001b[0m \u001b[30m■\u001b[0m \u001b[37m□\u001b[0m\n",
      "\u001b[37m□\u001b[0m \u001b[30m■\u001b[0m \u001b[30m■\u001b[0m \u001b[30m■\u001b[0m \u001b[37m□\u001b[0m\n",
      "\u001b[37m□\u001b[0m \u001b[37m□\u001b[0m \u001b[37m□\u001b[0m \u001b[37m□\u001b[0m \u001b[37m□\u001b[0m\n"
     ]
    }
   ],
   "source": [
    "# environment setup\n",
    "import gym\n",
    "# noinspection PyUnresolvedReferences\n",
    "import gym_woods\n",
    "\n",
    "maze = gym.make('Woods1-v0')\n",
    "print(\"This is how maze looks like:\")\n",
    "situation = maze.reset()\n",
    "maze.render()\n"
   ]
  },
  {
   "cell_type": "code",
   "execution_count": 3,
   "metadata": {},
   "outputs": [],
   "source": [
    "from lcs.agents.xncs import XNCS, Configuration\n",
    "from utils.nxcs_utils import *\n",
    "\n",
    "cfg = Configuration(number_of_actions=8,\n",
    "                    max_population=1800,\n",
    "                    learning_rate=0.2,\n",
    "                    mutation_chance=0.08,\n",
    "                    chi=0.8,\n",
    "                    ga_threshold=25,\n",
    "                    deletion_threshold=25,\n",
    "                    delta=0.1,\n",
    "                    initial_error=0.01,\n",
    "                    metrics_trial_frequency=50,\n",
    "                    covering_wildcard_chance=0.9,\n",
    "                    user_metrics_collector_fcn=xcs_maze_metrics,\n",
    "                    lmc=10,\n",
    "                    lem=200\n",
    "                    )\n"
   ]
  },
  {
   "cell_type": "code",
   "execution_count": 4,
   "metadata": {
    "scrolled": true
   },
   "outputs": [
    {
     "name": "stderr",
     "output_type": "stream",
     "text": [
      "INFO:lcs.agents.Agent:{'trial': 0, 'steps_in_trial': 40, 'reward': [9.481067235992241e-41, 2.133240128098254e-40, 1.9621374957174576e-77, 2.922017516796629e-40, 2.94174852031233e-40, 3.824833107711084e-40, 4.3524600635062645e-40, 200.0], 'perf_time': 0.01856710000000028, 'numerosity': 112, 'population': 106, 'average_specificity': 2.2857142857142856, 'fraction_accuracy': 0.07738095238095237}\n"
     ]
    },
    {
     "name": "stdout",
     "output_type": "stream",
     "text": [
      "Executing 0 experiment\n"
     ]
    },
    {
     "name": "stderr",
     "output_type": "stream",
     "text": [
      "INFO:lcs.agents.Agent:{'trial': 100, 'steps_in_trial': 8, 'reward': [22.071990717464196, 17.587787020206807, 14.60592761340558, 254.31742969984236, 16.222857099384285, 29.62585820199659, 174.6541388542593, 219.65317673865303], 'perf_time': 0.0031069000000001346, 'numerosity': 222, 'population': 125, 'average_specificity': 2.130630630630631, 'fraction_accuracy': 0.01079401686393926}\n",
      "INFO:lcs.agents.Agent:{'trial': 200, 'steps_in_trial': 3, 'reward': [14.408116152816067, 8.512726318526216, 16.340806973841534, 16.56874585722745, 620.2240987084717, 11.377293606474229, 70.80187071593016, 298.02954821782356], 'perf_time': 0.0013203999999999994, 'numerosity': 231, 'population': 127, 'average_specificity': 2.1125541125541125, 'fraction_accuracy': 0.0006392895042614448}\n",
      "INFO:lcs.agents.Agent:{'trial': 300, 'steps_in_trial': 39, 'reward': [11.790636478803778, 19.12752398910379, 18.718752579719784, 20.368282413412334, 16.025304314067085, 8.483305734106578, 11.660086337113864, 213.74832513080545], 'perf_time': 0.01594680000000004, 'numerosity': 239, 'population': 127, 'average_specificity': 2.083682008368201, 'fraction_accuracy': 0.03632195744134278}\n",
      "INFO:lcs.agents.Agent:{'trial': 400, 'steps_in_trial': 2, 'reward': [5.845958784543153, 2.1179407954452287, 8.774936625035382, 9.181563757711944, 560.8768678357417, 24.887274420151535, 668.3710115511315, 16.387320116195113], 'perf_time': 0.0007964999999998668, 'numerosity': 243, 'population': 127, 'average_specificity': 2.0699588477366255, 'fraction_accuracy': 0.042638433660729995}\n",
      "INFO:lcs.agents.Agent:{'trial': 500, 'steps_in_trial': 9, 'reward': [6.327722702090227, 2.1060283095305175, 7.620268658370248, 46.73474846689705, 291.74984451893596, 5.9681264648052395, 12.744843922888794, 4.963217255808942], 'perf_time': 0.0034071999999998326, 'numerosity': 243, 'population': 127, 'average_specificity': 2.0699588477366255, 'fraction_accuracy': 0.05104226744516508}\n",
      "INFO:lcs.agents.Agent:{'trial': 600, 'steps_in_trial': 2, 'reward': [5.888173080094173, 3.299761866676121, 4.172386515043238, 4.1923948895952945, 14.370309402564112, 6.601756715544234, 4.4376204800262595, 580.1764572332637], 'perf_time': 0.0007774999999998755, 'numerosity': 247, 'population': 127, 'average_specificity': 2.0364372469635628, 'fraction_accuracy': 0.09077918958991367}\n",
      "INFO:lcs.agents.Agent:{'trial': 700, 'steps_in_trial': 6, 'reward': [22.920449864928376, 3.283466858489415, 3.440506463940982, 3.264870815050361, 3.575670552633571, 4.13537089936556, 3.4813789072421093, 360.27501143775623], 'perf_time': 0.0024391000000001384, 'numerosity': 247, 'population': 127, 'average_specificity': 2.0364372469635628, 'fraction_accuracy': 0.0936792758897281}\n",
      "INFO:lcs.agents.Agent:{'trial': 800, 'steps_in_trial': 4, 'reward': [13.64499820394293, 2.912294091031812, 3.094023577949356, 3.264870815050361, 0.550808313714016, 4.711894508932932, 3.0051338795125946, 503.034969975133], 'perf_time': 0.0017855000000004395, 'numerosity': 247, 'population': 127, 'average_specificity': 2.0364372469635628, 'fraction_accuracy': 0.09366720974330858}\n",
      "INFO:lcs.agents.Agent:{'trial': 900, 'steps_in_trial': 2, 'reward': [9.159342452543486, 2.912294091031812, 2.241157273176047, 3.264870815050361, 0.26325415333074964, 3.58348906292563, 3.1324980104654943, 720.5299811910106], 'perf_time': 0.0007774999999998755, 'numerosity': 247, 'population': 127, 'average_specificity': 2.0364372469635628, 'fraction_accuracy': 0.09283840019696718}\n",
      "INFO:lcs.agents.Agent:{'trial': 0, 'steps_in_trial': 34, 'reward': [0, 0, 0, 0, 200.0, 6.908349921621449e-40, 5.824985011363264e-40, 2.0685057529223626e-40], 'perf_time': 0.011527700000000252, 'numerosity': 87, 'population': 83, 'average_specificity': 2.0, 'fraction_accuracy': 0.10631313131313132}\n",
      "INFO:lcs.agents.Agent:{'trial': 100, 'steps_in_trial': 6, 'reward': [0, 0, 14.320739617919294, 157.13982313926502, 596.8809180303122, 26.24211759650743, 5.824985011363264e-40, 25.432684157517485], 'perf_time': 0.002236100000000185, 'numerosity': 122, 'population': 114, 'average_specificity': 2.0, 'fraction_accuracy': 0.04638850732601008}\n"
     ]
    },
    {
     "name": "stdout",
     "output_type": "stream",
     "text": [
      "Executing 1 experiment\n"
     ]
    },
    {
     "name": "stderr",
     "output_type": "stream",
     "text": [
      "INFO:lcs.agents.Agent:{'trial': 200, 'steps_in_trial': 1, 'reward': [0, 0, 0.9628887877491275, 529.9985118942901, 697.8494527228668, 164.86967119573438, 0.06175298977766064, 217.27934576067392], 'perf_time': 0.00039579999999972415, 'numerosity': 122, 'population': 114, 'average_specificity': 2.0, 'fraction_accuracy': 0.03677312271062335}\n",
      "INFO:lcs.agents.Agent:{'trial': 300, 'steps_in_trial': 50, 'reward': [189.15491697850888, 0, 12.305073502209941, 227.43235770726102, 507.3272703668849, 96.71453675196639, 0.5945806093789526, 91.05992412834581], 'perf_time': 0.018671699999999625, 'numerosity': 137, 'population': 115, 'average_specificity': 1.897810218978102, 'fraction_accuracy': 0.017427884615387742}\n",
      "INFO:lcs.agents.Agent:{'trial': 400, 'steps_in_trial': 1, 'reward': [116.95516168925238, 0, 5.8168595127521465, 676.9058135266669, 282.690491631713, 16.887242846391803, 0.5945806093789526, 11.830126470967812], 'perf_time': 0.0003853999999998692, 'numerosity': 139, 'population': 115, 'average_specificity': 1.8776978417266188, 'fraction_accuracy': 0.01917613636363616}\n",
      "INFO:lcs.agents.Agent:{'trial': 500, 'steps_in_trial': 2, 'reward': [116.95516168925238, 45.48497011691691, 0.1656145467218437, 580.8238522641684, 336.16311587236555, 16.887242846391803, 0.5945806093789526, 383.4603771985479], 'perf_time': 0.0007133000000001388, 'numerosity': 139, 'population': 115, 'average_specificity': 1.8776978417266188, 'fraction_accuracy': 0.01917613636363343}\n",
      "INFO:lcs.agents.Agent:{'trial': 600, 'steps_in_trial': 7, 'reward': [116.95516168925238, 45.48497011691691, 78.45031888191043, 529.6281960811764, 376.13842867551654, 73.60887612015746, 0.5945806093789526, 78.81879075696968], 'perf_time': 0.0024601999999998014, 'numerosity': 139, 'population': 115, 'average_specificity': 1.8776978417266188, 'fraction_accuracy': 0.01917613636363814}\n",
      "INFO:lcs.agents.Agent:{'trial': 700, 'steps_in_trial': 3, 'reward': [19.6541821074278, 21.98911777746465, 8.586825302754457, 233.63376949507028, 206.94983873943525, 14.118295603240488, 14.060248410236287, 30.365819161569693], 'perf_time': 0.0010973999999999151, 'numerosity': 159, 'population': 118, 'average_specificity': 1.9622641509433962, 'fraction_accuracy': 1.921077422271615e-16}\n",
      "INFO:lcs.agents.Agent:{'trial': 800, 'steps_in_trial': 15, 'reward': [13.23652318642678, 13.320640544774903, 2.6535526377534993, 3.780393776878459, 14.637417224153403, 88.52468697371093, 11.828797523839022, 798.9546897715312], 'perf_time': 0.006354400000000204, 'numerosity': 169, 'population': 119, 'average_specificity': 1.8520710059171597, 'fraction_accuracy': 4.019516953395288e-15}\n",
      "INFO:lcs.agents.Agent:{'trial': 900, 'steps_in_trial': 4, 'reward': [12.545184176827803, 7.378255987729554, 36.503848376943544, 213.2955514657087, 39.194990804073456, 10.148053300519809, 12.070041583632532, 793.5940644863052], 'perf_time': 0.001466699999999932, 'numerosity': 180, 'population': 120, 'average_specificity': 1.788888888888889, 'fraction_accuracy': 2.0163184271724154e-16}\n",
      "INFO:lcs.agents.Agent:{'trial': 0, 'steps_in_trial': 9, 'reward': [0, 0, 0, 0, 0, 0, 1.1851334044990301e-40, 200.0], 'perf_time': 0.004041100000000242, 'numerosity': 55, 'population': 55, 'average_specificity': 1.9454545454545455, 'fraction_accuracy': 0.1458333333333333}\n"
     ]
    },
    {
     "name": "stdout",
     "output_type": "stream",
     "text": [
      "Executing 2 experiment\n"
     ]
    },
    {
     "name": "stderr",
     "output_type": "stream",
     "text": [
      "INFO:lcs.agents.Agent:{'trial': 100, 'steps_in_trial': 4, 'reward': [0.0023107224875290595, 1.3794650020818784, 0.5102752668456102, 2.1332401280982545e-40, 59.97038592762018, 5.400957465147075, 10.04633678426003, 618.2898015158187], 'perf_time': 0.00183689999999892, 'numerosity': 130, 'population': 120, 'average_specificity': 2.146153846153846, 'fraction_accuracy': 0.045106456043997975}\n",
      "INFO:lcs.agents.Agent:{'trial': 200, 'steps_in_trial': 4, 'reward': [0.0023107224875290595, 8.546116684174894, 0.5102752668456102, 18.04013966694435, 36.77191260911946, 8.235633565155812, 5.179888848185465, 575.1954877800946], 'perf_time': 0.0018273999999998125, 'numerosity': 138, 'population': 121, 'average_specificity': 2.1739130434782608, 'fraction_accuracy': 0.03892773892780144}\n",
      "INFO:lcs.agents.Agent:{'trial': 300, 'steps_in_trial': 7, 'reward': [0.0023107224875290595, 8.546116684174894, 10.96212439545333, 10.951938087346369, 66.71141478460453, 3.6686830712206993, 3.9809146621737046, 318.0870944627734], 'perf_time': 0.003152699999999342, 'numerosity': 138, 'population': 121, 'average_specificity': 2.1739130434782608, 'fraction_accuracy': 0.03972902097909611}\n",
      "INFO:lcs.agents.Agent:{'trial': 400, 'steps_in_trial': 2, 'reward': [0.0023107224875290595, 42.86159322949514, 27.12912133458119, 5.443676071634025, 544.8988991346602, 2.1784072979971496, 4.703279145523968, 108.46814849619474], 'perf_time': 0.0007717000000013741, 'numerosity': 146, 'population': 122, 'average_specificity': 2.1232876712328768, 'fraction_accuracy': 0.020833333333384035}\n",
      "INFO:lcs.agents.Agent:{'trial': 500, 'steps_in_trial': 3, 'reward': [0.41107778962928465, 20.832700039963584, 27.12912133458119, 8.932482479546684, 471.7047476461445, 23.064756835404694, 217.2329561244382, 600.090100343675], 'perf_time': 0.0013719000000005366, 'numerosity': 146, 'population': 122, 'average_specificity': 2.1232876712328768, 'fraction_accuracy': 0.008333333333337061}\n",
      "INFO:lcs.agents.Agent:{'trial': 600, 'steps_in_trial': 4, 'reward': [2.62117710906641, 16.904630312480055, 27.12912133458119, 8.932482479546684, 516.8846399899201, 16.467782401514594, 217.2329561244382, 680.7445329884267], 'perf_time': 0.00152640000000126, 'numerosity': 146, 'population': 122, 'average_specificity': 2.1232876712328768, 'fraction_accuracy': 0.008928571428583104}\n",
      "INFO:lcs.agents.Agent:{'trial': 700, 'steps_in_trial': 2, 'reward': [6.613016269110865, 16.405847221382906, 27.12912133458119, 8.932482479546684, 88.37428398351264, 23.110061794913594, 378.3024394814083, 683.1699914410128], 'perf_time': 0.000822400000000556, 'numerosity': 146, 'population': 122, 'average_specificity': 2.1232876712328768, 'fraction_accuracy': 0.00892857142861492}\n",
      "INFO:lcs.agents.Agent:{'trial': 800, 'steps_in_trial': 6, 'reward': [9.634075262831553, 19.13285948364396, 44.70972537377457, 14.765985855009086, 52.91563709739739, 19.93771841542184, 378.3024394814083, 817.9910950566882], 'perf_time': 0.0027246999999999133, 'numerosity': 152, 'population': 124, 'average_specificity': 2.1315789473684212, 'fraction_accuracy': 0.022817460317461485}\n",
      "INFO:lcs.agents.Agent:{'trial': 900, 'steps_in_trial': 9, 'reward': [9.634075262831553, 16.400621718715172, 22.70671243831817, 23.323893827452917, 61.77890305898637, 19.68561830000248, 312.83693400175787, 506.2060883415203], 'perf_time': 0.003835099999999869, 'numerosity': 152, 'population': 124, 'average_specificity': 2.1315789473684212, 'fraction_accuracy': 0.022817460317462318}\n",
      "INFO:lcs.agents.Agent:{'trial': 0, 'steps_in_trial': 16, 'reward': [0, 0, 0, 0, 0, 2.1332401280982545e-40, 4.10530211318464e-40, 200.0], 'perf_time': 0.005111899999999281, 'numerosity': 61, 'population': 61, 'average_specificity': 2.1147540983606556, 'fraction_accuracy': 0.13988095238095238}\n"
     ]
    },
    {
     "name": "stdout",
     "output_type": "stream",
     "text": [
      "Executing 3 experiment\n"
     ]
    },
    {
     "name": "stderr",
     "output_type": "stream",
     "text": [
      "INFO:lcs.agents.Agent:{'trial': 100, 'steps_in_trial': 50, 'reward': [14.039104801014563, 9.683317018780638, 5.727363432319022, 6.155606815361731, 990.0354275183099, 5.934116304126983, 2.997850582308485, 7.080043617498435], 'perf_time': 0.018660799999999256, 'numerosity': 163, 'population': 125, 'average_specificity': 1.834355828220859, 'fraction_accuracy': 0.06913919413918448}\n",
      "INFO:lcs.agents.Agent:{'trial': 200, 'steps_in_trial': 2, 'reward': [13.409999228020018, 11.727140507531798, 14.165081813748383, 8.554468353934855, 704.3363629995565, 13.13780791843058, 12.925424447413143, 166.36668098556538], 'perf_time': 0.0007783999999997349, 'numerosity': 171, 'population': 125, 'average_specificity': 1.894736842105263, 'fraction_accuracy': 0.04441964285713895}\n",
      "INFO:lcs.agents.Agent:{'trial': 300, 'steps_in_trial': 3, 'reward': [12.860697440591162, 11.727140507531798, 14.165081813748383, 11.027420402801598, 746.8563081643429, 23.241359529690264, 4.268159453508158, 5.924059350027797], 'perf_time': 0.001318700000000561, 'numerosity': 171, 'population': 125, 'average_specificity': 1.894736842105263, 'fraction_accuracy': 0.04510645604396179}\n",
      "INFO:lcs.agents.Agent:{'trial': 400, 'steps_in_trial': 2, 'reward': [24.609323931465973, 11.727140507531798, 32.95341252309025, 20.682295058725508, 588.0927390384065, 13.137012423741416, 10.947938676636388, 58.71825732396747], 'perf_time': 0.0008996000000003335, 'numerosity': 177, 'population': 125, 'average_specificity': 1.8361581920903955, 'fraction_accuracy': 0.028104707792205048}\n",
      "INFO:lcs.agents.Agent:{'trial': 500, 'steps_in_trial': 3, 'reward': [9.586427172441955, 14.689312063010616, 20.992062199046423, 13.738489935078661, 551.5482630450974, 15.681904394386653, 10.554183791560739, 41.6500128647788], 'perf_time': 0.0013210000000007938, 'numerosity': 185, 'population': 126, 'average_specificity': 1.9081081081081082, 'fraction_accuracy': 0.031316773504274975}\n",
      "INFO:lcs.agents.Agent:{'trial': 600, 'steps_in_trial': 4, 'reward': [13.339047796350961, 14.689312063010616, 8.425402849510583, 10.589012060646285, 592.2022876394261, 15.681904394386653, 9.232145957322254, 68.03426963187661], 'perf_time': 0.0015330999999996209, 'numerosity': 185, 'population': 126, 'average_specificity': 1.9081081081081082, 'fraction_accuracy': 0.031316773504274864}\n",
      "INFO:lcs.agents.Agent:{'trial': 700, 'steps_in_trial': 1, 'reward': [13.339047796350961, 14.689312063010616, 6.876171594185341, 10.34854970649316, 672.069826563226, 15.681904394386653, 9.060943503141601, 143.84940439743846], 'perf_time': 0.00040710000000032665, 'numerosity': 185, 'population': 126, 'average_specificity': 1.9081081081081082, 'fraction_accuracy': 0.03131677350427277}\n",
      "INFO:lcs.agents.Agent:{'trial': 800, 'steps_in_trial': 8, 'reward': [13.339047796350961, 14.689312063010616, 21.67643321742649, 23.05791135383275, 453.9317832525011, 12.628501403846391, 8.891196093592086, 8.259221530453669], 'perf_time': 0.003020699999998655, 'numerosity': 185, 'population': 126, 'average_specificity': 1.9081081081081082, 'fraction_accuracy': 0.03131677350427724}\n",
      "INFO:lcs.agents.Agent:{'trial': 900, 'steps_in_trial': 7, 'reward': [13.339047796350961, 14.689312063010616, 11.40844056342997, 20.0386043727439, 389.3173106729925, 12.628501403846391, 8.883909885523426, 4.341023711868907], 'perf_time': 0.0030857999999991392, 'numerosity': 185, 'population': 126, 'average_specificity': 1.9081081081081082, 'fraction_accuracy': 0.03305288461540121}\n",
      "INFO:lcs.agents.Agent:{'trial': 0, 'steps_in_trial': 10, 'reward': [0, 0, 0, 0, 0, 0, 2.133240128098254e-40, 200.0], 'perf_time': 0.00354089999999907, 'numerosity': 47, 'population': 47, 'average_specificity': 2.1702127659574466, 'fraction_accuracy': 0.18125}\n"
     ]
    },
    {
     "name": "stdout",
     "output_type": "stream",
     "text": [
      "Executing 4 experiment\n"
     ]
    },
    {
     "name": "stderr",
     "output_type": "stream",
     "text": [
      "INFO:lcs.agents.Agent:{'trial': 100, 'steps_in_trial': 8, 'reward': [82.19655377294949, 78.13309657162972, 0, 3.799173477599655, 166.09216900253207, 20.87536085772607, 8.883598040058615, 682.1121480733271], 'perf_time': 0.003196699999998387, 'numerosity': 147, 'population': 122, 'average_specificity': 2.707482993197279, 'fraction_accuracy': 0.05208333333332696}\n",
      "INFO:lcs.agents.Agent:{'trial': 200, 'steps_in_trial': 3, 'reward': [13.629905623645694, 12.978526157035065, 37.436739781098254, 19.409102184518932, 947.2300794618349, 9.16925462019261, 4.036120809810008, 212.9524996193984], 'perf_time': 0.001332099999999059, 'numerosity': 159, 'population': 124, 'average_specificity': 2.59748427672956, 'fraction_accuracy': 0.031250000000019}\n",
      "INFO:lcs.agents.Agent:{'trial': 300, 'steps_in_trial': 3, 'reward': [15.52724291418671, 12.959331381826944, 37.436739781098254, 16.853165947875162, 836.2927959077374, 8.809857039129865, 10.94447136185202, 281.2455791107684], 'perf_time': 0.001345900000000455, 'numerosity': 165, 'population': 124, 'average_specificity': 2.581818181818182, 'fraction_accuracy': 0.04261363636363772}\n",
      "INFO:lcs.agents.Agent:{'trial': 400, 'steps_in_trial': 1, 'reward': [12.421830651759766, 13.269198847397071, 37.436739781098254, 16.853165947875162, 992.8614663873989, 7.490806492018365, 27.293601219973137, 176.17372963699853], 'perf_time': 0.00048519999999996344, 'numerosity': 165, 'population': 124, 'average_specificity': 2.581818181818182, 'fraction_accuracy': 0.04166666666679343}\n",
      "INFO:lcs.agents.Agent:{'trial': 500, 'steps_in_trial': 4, 'reward': [21.785853852923726, 47.08800333316623, 37.436739781098254, 16.853165947875162, 966.6879202012489, 38.47990384271043, 49.70749671304317, 360.0185772364459], 'perf_time': 0.001567500000000166, 'numerosity': 165, 'population': 124, 'average_specificity': 2.581818181818182, 'fraction_accuracy': 2.3024758115238313e-14}\n",
      "INFO:lcs.agents.Agent:{'trial': 600, 'steps_in_trial': 1, 'reward': [21.785853852923726, 35.779700953730476, 37.436739781098254, 16.853165947875162, 941.7751448137667, 59.583739587353975, 22.70866216397901, 26.679172550989062], 'perf_time': 0.0006810000000001537, 'numerosity': 165, 'population': 124, 'average_specificity': 2.581818181818182, 'fraction_accuracy': 9.050217040070132e-14}\n",
      "INFO:lcs.agents.Agent:{'trial': 700, 'steps_in_trial': 2, 'reward': [27.649233484999527, 65.91659960889639, 37.436739781098254, 16.853165947875162, 932.64900145019, 59.24195056016493, 19.41481356341438, 17.099692815220898], 'perf_time': 0.0008815000000002016, 'numerosity': 165, 'population': 124, 'average_specificity': 2.581818181818182, 'fraction_accuracy': 9.060563242804852e-14}\n",
      "INFO:lcs.agents.Agent:{'trial': 800, 'steps_in_trial': 4, 'reward': [24.109796178725574, 72.66815970565473, 34.17696737879422, 16.853165947875162, 717.2880405069582, 59.242025921432514, 16.08352569372126, 16.765498357934497], 'perf_time': 0.0018127000000003335, 'numerosity': 165, 'population': 124, 'average_specificity': 2.581818181818182, 'fraction_accuracy': 9.066308701337927e-14}\n",
      "INFO:lcs.agents.Agent:{'trial': 900, 'steps_in_trial': 5, 'reward': [24.109796178725574, 89.68113794314303, 28.46307620740588, 16.853165947875162, 778.2774245336368, 60.52114854251378, 22.216873457905116, 33.640209390293705], 'perf_time': 0.002015300000000053, 'numerosity': 165, 'population': 124, 'average_specificity': 2.581818181818182, 'fraction_accuracy': 8.173993151092131e-14}\n",
      "INFO:lcs.agents.Agent:{'trial': 0, 'steps_in_trial': 7, 'reward': [0, 0, 0, 0, 0, 0, 1.1851334044990301e-40, 200.0], 'perf_time': 0.002273100000000028, 'numerosity': 39, 'population': 39, 'average_specificity': 2.358974358974359, 'fraction_accuracy': 0.20625}\n"
     ]
    },
    {
     "name": "stdout",
     "output_type": "stream",
     "text": [
      "Executing 5 experiment\n"
     ]
    },
    {
     "name": "stderr",
     "output_type": "stream",
     "text": [
      "INFO:lcs.agents.Agent:{'trial': 100, 'steps_in_trial': 50, 'reward': [38.74623193995688, 14.686290116829676, 43.58639764370451, 78.16821075598438, 17.569806747329334, 33.10967500813126, 30.274798154876986, 11.683148868198735], 'perf_time': 0.01977989999999963, 'numerosity': 202, 'population': 131, 'average_specificity': 2.1782178217821784, 'fraction_accuracy': 0.05931776556768069}\n",
      "INFO:lcs.agents.Agent:{'trial': 200, 'steps_in_trial': 50, 'reward': [38.99178343900125, 16.843452275570368, 37.54092517554028, 80.6898055997486, 17.942325147531545, 40.66843957284197, 26.462848302701516, 187.22464142121703], 'perf_time': 0.019926000000001665, 'numerosity': 212, 'population': 132, 'average_specificity': 2.1367924528301887, 'fraction_accuracy': 0.03044871794874163}\n",
      "INFO:lcs.agents.Agent:{'trial': 300, 'steps_in_trial': 50, 'reward': [162.5597799306274, 54.53648562460454, 28.26608878773437, 32.73978663931784, 7.953637859694729, 34.871756924784506, 93.89219262612006, 108.72787918788248], 'perf_time': 0.021417899999999435, 'numerosity': 218, 'population': 132, 'average_specificity': 2.165137614678899, 'fraction_accuracy': 0.021780303030338066}\n",
      "INFO:lcs.agents.Agent:{'trial': 400, 'steps_in_trial': 3, 'reward': [7.880747278663781, 4.917459309265735, 39.716473151081686, 1059.4401961788153, 16.39527275753807, 58.598529273065594, 43.87821007637144, 67.04407850311081], 'perf_time': 0.0012119000000012647, 'numerosity': 226, 'population': 132, 'average_specificity': 2.1106194690265485, 'fraction_accuracy': 0.010416666666685108}\n",
      "INFO:lcs.agents.Agent:{'trial': 500, 'steps_in_trial': 4, 'reward': [10.900281521974748, 33.26847771867332, 34.47447138091652, 1111.0945557671316, 18.984664825849595, 65.76444670124137, 35.10263495469512, 34.89447912985195], 'perf_time': 0.0017313000000029888, 'numerosity': 226, 'population': 132, 'average_specificity': 2.1106194690265485, 'fraction_accuracy': 0.011363636363648219}\n",
      "INFO:lcs.agents.Agent:{'trial': 600, 'steps_in_trial': 3, 'reward': [12.685284264779453, 55.076075795638815, 42.07498778381921, 995.1182552327083, 19.17112683783225, 65.76444670124137, 35.10263495469512, 21.00703894937045], 'perf_time': 0.001375900000002872, 'numerosity': 226, 'population': 132, 'average_specificity': 2.1106194690265485, 'fraction_accuracy': 0.011363636363648002}\n",
      "INFO:lcs.agents.Agent:{'trial': 700, 'steps_in_trial': 3, 'reward': [30.456918344690173, 20.837470170447403, 35.44019759864358, 1096.3128556872282, 16.941392693888297, 65.76444670124137, 35.10263495469512, 47.974571704278745], 'perf_time': 0.0012806999999988022, 'numerosity': 226, 'population': 132, 'average_specificity': 2.1106194690265485, 'fraction_accuracy': 0.011363636363648247}\n",
      "INFO:lcs.agents.Agent:{'trial': 800, 'steps_in_trial': 3, 'reward': [14.947459864322362, 4.420917733897655, 41.79691927404207, 995.755849653005, 18.12496473228025, 60.776333530690586, 31.274661891992388, 151.03838346732266], 'perf_time': 0.0012316000000005545, 'numerosity': 228, 'population': 132, 'average_specificity': 2.0964912280701755, 'fraction_accuracy': 0.011363636363649534}\n",
      "INFO:lcs.agents.Agent:{'trial': 900, 'steps_in_trial': 3, 'reward': [6.78231617945228, 15.903533760210053, 38.35604400498138, 989.3868270088527, 19.77347011885188, 48.07117372755802, 31.274661891992388, 142.76110178670837], 'perf_time': 0.001235499999999945, 'numerosity': 228, 'population': 132, 'average_specificity': 2.0964912280701755, 'fraction_accuracy': 0.01250000000001356}\n",
      "INFO:lcs.agents.Agent:{'trial': 0, 'steps_in_trial': 6, 'reward': [0, 0, 0, 0, 0, 0, 1.1851334044990301e-40, 200.0], 'perf_time': 0.0018294000000018684, 'numerosity': 32, 'population': 32, 'average_specificity': 2.0625, 'fraction_accuracy': 0.25}\n"
     ]
    },
    {
     "name": "stdout",
     "output_type": "stream",
     "text": [
      "Executing 6 experiment\n"
     ]
    },
    {
     "name": "stderr",
     "output_type": "stream",
     "text": [
      "INFO:lcs.agents.Agent:{'trial': 100, 'steps_in_trial': 3, 'reward': [14.58856067858623, 0.3734265535721589, 0.5883914484364798, 5.742408849996218, 25.756489271365734, 1036.2060801652299, 2.133240128098254e-40, 16.812853121527546], 'perf_time': 0.0016220000000011225, 'numerosity': 134, 'population': 118, 'average_specificity': 1.8208955223880596, 'fraction_accuracy': 0.06794871794875668}\n",
      "INFO:lcs.agents.Agent:{'trial': 200, 'steps_in_trial': 1, 'reward': [8.358348111138636, 0.3734265535721589, 3.466621911429017, 5.742408849996218, 48.61853924322013, 1043.704281691633, 2.133240128098254e-40, 66.13029797307924], 'perf_time': 0.00047430000000048267, 'numerosity': 134, 'population': 118, 'average_specificity': 1.8208955223880596, 'fraction_accuracy': 0.0793123543124078}\n",
      "INFO:lcs.agents.Agent:{'trial': 300, 'steps_in_trial': 2, 'reward': [1.876690339149665, 0.3734265535721589, 22.158347020499875, 5.742408849996218, 25.718429396149336, 1050.5264227333091, 6.111300540354717e-10, 84.10954224371703], 'perf_time': 0.000879499999999922, 'numerosity': 134, 'population': 118, 'average_specificity': 1.8208955223880596, 'fraction_accuracy': 0.0679487179487463}\n",
      "INFO:lcs.agents.Agent:{'trial': 400, 'steps_in_trial': 4, 'reward': [8.74594577076916, 10.884098800013629, 25.889768443569437, 204.65755251390584, 48.76903375572345, 1053.063213985157, 6.111300540354717e-10, 45.06305163550296], 'perf_time': 0.0016804000000014696, 'numerosity': 134, 'population': 118, 'average_specificity': 1.8208955223880596, 'fraction_accuracy': 0.06726190476192442}\n",
      "INFO:lcs.agents.Agent:{'trial': 500, 'steps_in_trial': 7, 'reward': [24.986693987890142, 49.26630136542465, 27.18174134130933, 134.62747798103027, 36.514864636382576, 1071.3973384051615, 8.075851545671995, 59.39735582711603], 'perf_time': 0.0027048999999976786, 'numerosity': 134, 'population': 118, 'average_specificity': 1.8208955223880596, 'fraction_accuracy': 0.0685439560440993}\n",
      "INFO:lcs.agents.Agent:{'trial': 600, 'steps_in_trial': 3, 'reward': [23.97567197142644, 44.31293331314717, 19.165714117885184, 134.62747798103027, 53.52168791769506, 820.3321753395735, 8.075851545671995, 82.6511554687095], 'perf_time': 0.0010886999999968339, 'numerosity': 134, 'population': 118, 'average_specificity': 1.8208955223880596, 'fraction_accuracy': 0.026877289377284737}\n",
      "INFO:lcs.agents.Agent:{'trial': 700, 'steps_in_trial': 2, 'reward': [23.97567197142644, 40.84718479117312, 8.66620522904385, 134.62747798103027, 39.66964544473876, 778.953532151191, 8.075851545671995, 15.181207117578712], 'perf_time': 0.0007601000000008185, 'numerosity': 134, 'population': 118, 'average_specificity': 1.8208955223880596, 'fraction_accuracy': 0.02747252747252323}\n",
      "INFO:lcs.agents.Agent:{'trial': 800, 'steps_in_trial': 5, 'reward': [21.297692013632176, 40.84718479117312, 5.2537762852928385, 97.63510686010918, 26.99217914541423, 615.4196310161351, 14.536532781720688, 20.513549701491574], 'perf_time': 0.002010999999999541, 'numerosity': 134, 'population': 118, 'average_specificity': 1.8208955223880596, 'fraction_accuracy': 0.027472527472524818}\n",
      "INFO:lcs.agents.Agent:{'trial': 900, 'steps_in_trial': 4, 'reward': [23.724979036667914, 40.84718479117312, 20.683514804132844, 129.46331455027487, 18.400111214144626, 605.3573923048056, 14.536532781720688, 23.255033681216762], 'perf_time': 0.001657399999999143, 'numerosity': 134, 'population': 118, 'average_specificity': 1.8208955223880596, 'fraction_accuracy': 0.027472527472523118}\n",
      "INFO:lcs.agents.Agent:{'trial': 0, 'steps_in_trial': 11, 'reward': [0, 0, 0, 0, 0, 1.2019622988429165e-40, 1.1851334044990301e-40, 200.0], 'perf_time': 0.003836499999998466, 'numerosity': 54, 'population': 54, 'average_specificity': 1.8518518518518519, 'fraction_accuracy': 0.15595238095238093}\n"
     ]
    },
    {
     "name": "stdout",
     "output_type": "stream",
     "text": [
      "Executing 7 experiment\n"
     ]
    },
    {
     "name": "stderr",
     "output_type": "stream",
     "text": [
      "INFO:lcs.agents.Agent:{'trial': 100, 'steps_in_trial': 7, 'reward': [7.050817170479077, 51.35742910891106, 1.4913217599317374, 16.334769247718167, 20.599747807030507, 11.1900075582631, 8.895505844283834, 444.23381747284975], 'perf_time': 0.002558199999999289, 'numerosity': 163, 'population': 122, 'average_specificity': 1.98159509202454, 'fraction_accuracy': 0.03357371794880558}\n",
      "INFO:lcs.agents.Agent:{'trial': 200, 'steps_in_trial': 3, 'reward': [6.82455884371202, 17.764536870675897, 17.07827215716629, 38.96505036732738, 21.68762484856501, 29.56183492338043, 33.838649451651875, 822.3659905726058], 'perf_time': 0.0012720000000001619, 'numerosity': 173, 'population': 122, 'average_specificity': 2.0115606936416186, 'fraction_accuracy': 0.024553571428661346}\n",
      "INFO:lcs.agents.Agent:{'trial': 300, 'steps_in_trial': 6, 'reward': [6.765968867137655, 15.678716810438932, 17.07827215716629, 90.95285765124949, 18.877447212862887, 66.40951418053483, 13.847286689946706, 904.8713908484843], 'perf_time': 0.002508800000001088, 'numerosity': 173, 'population': 122, 'average_specificity': 2.0115606936416186, 'fraction_accuracy': 0.024553571428682433}\n",
      "INFO:lcs.agents.Agent:{'trial': 400, 'steps_in_trial': 6, 'reward': [33.492209311173696, 9.51029557727736, 17.07827215716629, 18.268962032879042, 149.87981263268912, 23.996099986079457, 25.652759559788716, 1017.4697291854428], 'perf_time': 0.002245600000001957, 'numerosity': 173, 'population': 122, 'average_specificity': 2.0115606936416186, 'fraction_accuracy': 0.02455357142857056}\n",
      "INFO:lcs.agents.Agent:{'trial': 500, 'steps_in_trial': 1, 'reward': [9.368592436683663, 13.831023046231033, 20.091600139204814, 40.4027668847029, 26.12451277789618, 28.591539308219126, 34.28769679787054, 974.8115928842437], 'perf_time': 0.00041849999999854504, 'numerosity': 173, 'population': 122, 'average_specificity': 2.0115606936416186, 'fraction_accuracy': 0.024553571428571015}\n",
      "INFO:lcs.agents.Agent:{'trial': 600, 'steps_in_trial': 6, 'reward': [26.137869341588203, 20.13799180448773, 23.276635809608308, 19.82736890364005, 17.776057118452496, 70.19044192321975, 23.58406099656664, 830.4410728834522], 'perf_time': 0.0022418999999977984, 'numerosity': 195, 'population': 124, 'average_specificity': 2.005128205128205, 'fraction_accuracy': 0.015624999999999865}\n",
      "INFO:lcs.agents.Agent:{'trial': 700, 'steps_in_trial': 5, 'reward': [8.983373880832094, 17.472541601793342, 24.381646837161213, 8.799377599013194, 18.820994343570003, 40.65102324228965, 21.17885880876394, 829.7315394337685], 'perf_time': 0.002108500000002067, 'numerosity': 195, 'population': 124, 'average_specificity': 2.005128205128205, 'fraction_accuracy': 0.015624999999999856}\n",
      "INFO:lcs.agents.Agent:{'trial': 800, 'steps_in_trial': 2, 'reward': [14.367194638576123, 10.907132218443131, 24.381646837161213, 8.65858334515027, 19.881123781844558, 33.31181625153338, 20.979053398628743, 958.7819686529933], 'perf_time': 0.0007812000000022579, 'numerosity': 195, 'population': 124, 'average_specificity': 2.005128205128205, 'fraction_accuracy': 0.015624999999999972}\n",
      "INFO:lcs.agents.Agent:{'trial': 900, 'steps_in_trial': 2, 'reward': [18.145099849717667, 18.642524961854743, 24.381646837161213, 9.639976946474915, 43.90306364131999, 58.38599223032743, 28.700727406697723, 949.7985245285388], 'perf_time': 0.0007714999999990368, 'numerosity': 195, 'population': 124, 'average_specificity': 2.005128205128205, 'fraction_accuracy': 0.015624999999999315}\n",
      "INFO:lcs.agents.Agent:{'trial': 0, 'steps_in_trial': 1, 'reward': [0, 0, 0, 0, 0, 0, 0, 200.0], 'perf_time': 0.00032359999999798106, 'numerosity': 8, 'population': 8, 'average_specificity': 1.875, 'fraction_accuracy': 1.0}\n"
     ]
    },
    {
     "name": "stdout",
     "output_type": "stream",
     "text": [
      "Executing 8 experiment\n"
     ]
    },
    {
     "name": "stderr",
     "output_type": "stream",
     "text": [
      "INFO:lcs.agents.Agent:{'trial': 100, 'steps_in_trial': 8, 'reward': [18.736529781786118, 11.913396486934719, 0, 30.717723542466242, 691.8752086670685, 3.2838565158669533, 3.409343821860514, 15.866770144617814], 'perf_time': 0.0033151000000017916, 'numerosity': 137, 'population': 120, 'average_specificity': 1.8394160583941606, 'fraction_accuracy': 0.03392857142887427}\n",
      "INFO:lcs.agents.Agent:{'trial': 200, 'steps_in_trial': 5, 'reward': [18.736529781786118, 16.510509303595338, 0, 28.49348462583757, 679.9134284951851, 101.20833245542056, 2.2410418904252403, 38.88134870622733], 'perf_time': 0.0021411000000028935, 'numerosity': 137, 'population': 120, 'average_specificity': 1.8394160583941606, 'fraction_accuracy': 0.03340773809554084}\n",
      "INFO:lcs.agents.Agent:{'trial': 300, 'steps_in_trial': 14, 'reward': [20.785810468226348, 17.960973453988828, 12.031974695997713, 51.59400425727998, 325.98890542311676, 58.33629559076577, 27.28619405888806, 140.45447486604405], 'perf_time': 0.005685999999997193, 'numerosity': 149, 'population': 120, 'average_specificity': 1.7986577181208054, 'fraction_accuracy': 0.027678571428873738}\n",
      "INFO:lcs.agents.Agent:{'trial': 400, 'steps_in_trial': 4, 'reward': [20.785810468226348, 5.292012834415812, 12.031974695997713, 38.37695596435788, 507.45490268563003, 9.298944606269961, 20.20512736327192, 0.9116576992423248], 'perf_time': 0.001492899999998798, 'numerosity': 152, 'population': 121, 'average_specificity': 1.7763157894736843, 'fraction_accuracy': 0.018750000000372035}\n",
      "INFO:lcs.agents.Agent:{'trial': 500, 'steps_in_trial': 2, 'reward': [20.785810468226348, 5.292012834415812, 30.019007897227475, 29.185793432202914, 654.7444486784883, 5.886516281826171, 52.18544557569314, 23.70319221987824], 'perf_time': 0.0007818000000021641, 'numerosity': 152, 'population': 121, 'average_specificity': 1.7763157894736843, 'fraction_accuracy': 0.01875000000037812}\n",
      "INFO:lcs.agents.Agent:{'trial': 600, 'steps_in_trial': 4, 'reward': [20.785810468226348, 5.292012834415812, 30.019007897227475, 32.70722443576763, 547.9974196380173, 18.94509769221444, 65.36361286953561, 42.04015696072348], 'perf_time': 0.0015065999999990254, 'numerosity': 152, 'population': 121, 'average_specificity': 1.7763157894736843, 'fraction_accuracy': 0.01794871794909643}\n",
      "INFO:lcs.agents.Agent:{'trial': 700, 'steps_in_trial': 3, 'reward': [20.785810468226348, 5.292012834415812, 21.519214650100544, 32.90134617971628, 622.8212886882997, 49.234168798494515, 25.53620464575449, 13.536341846156748], 'perf_time': 0.001130799999998544, 'numerosity': 156, 'population': 121, 'average_specificity': 1.7692307692307692, 'fraction_accuracy': 0.009615384615763759}\n",
      "INFO:lcs.agents.Agent:{'trial': 800, 'steps_in_trial': 8, 'reward': [20.785810468226348, 5.292012834415812, 21.519214650100544, 51.157512263027634, 436.1372813211557, 43.739464105191665, 28.70978905942192, 6.090935493641851], 'perf_time': 0.002938099999997945, 'numerosity': 156, 'population': 121, 'average_specificity': 1.7692307692307692, 'fraction_accuracy': 0.010416666667038128}\n",
      "INFO:lcs.agents.Agent:{'trial': 900, 'steps_in_trial': 3, 'reward': [20.785810468226348, 5.292012834415812, 21.519214650100544, 33.19776873674919, 700.8153124077123, 45.711726843832274, 55.515935125717746, 35.89652922586922], 'perf_time': 0.001122300000002241, 'numerosity': 156, 'population': 121, 'average_specificity': 1.7692307692307692, 'fraction_accuracy': 0.010416666667043186}\n",
      "INFO:lcs.agents.Agent:{'trial': 0, 'steps_in_trial': 3, 'reward': [0, 0, 0, 0, 0, 0, 0, 200.0], 'perf_time': 0.0012460000000018567, 'numerosity': 24, 'population': 24, 'average_specificity': 2.0, 'fraction_accuracy': 0.3333333333333333}\n"
     ]
    },
    {
     "name": "stdout",
     "output_type": "stream",
     "text": [
      "Executing 9 experiment\n"
     ]
    },
    {
     "name": "stderr",
     "output_type": "stream",
     "text": [
      "INFO:lcs.agents.Agent:{'trial': 100, 'steps_in_trial': 50, 'reward': [49.64988272360829, 6.910458938486178, 20.506485151779593, 44.693719724810784, 205.27147317118784, 36.7701543572808, 6.776176815378881, 12.293634247552266], 'perf_time': 0.018922199999998668, 'numerosity': 159, 'population': 118, 'average_specificity': 1.7547169811320755, 'fraction_accuracy': 0.03878205128203787}\n",
      "INFO:lcs.agents.Agent:{'trial': 200, 'steps_in_trial': 50, 'reward': [138.1836512482537, 18.47780861030674, 14.822914691212842, 12.178831288191606, 18.095849567103222, 13.215662141814317, 46.83409656394794, 2.1072664981003806], 'perf_time': 0.018791100000001393, 'numerosity': 192, 'population': 122, 'average_specificity': 2.1197916666666665, 'fraction_accuracy': 0.02747252747259621}\n",
      "INFO:lcs.agents.Agent:{'trial': 300, 'steps_in_trial': 50, 'reward': [35.30733909029365, 22.723277947671765, 33.540814257910625, 28.238916349071093, 4.6207679133983, 38.09001244759268, 14.587293413118699, 37.30413351784412], 'perf_time': 0.019743000000005395, 'numerosity': 204, 'population': 124, 'average_specificity': 2.1470588235294117, 'fraction_accuracy': 0.03184523809543155}\n",
      "INFO:lcs.agents.Agent:{'trial': 400, 'steps_in_trial': 5, 'reward': [38.179443950906936, 22.55400409493644, 29.603342548043884, 49.32222329032125, 10.62145920925237, 617.0352971705537, 6.837231933599023, 74.16134866692934], 'perf_time': 0.0018693999999968014, 'numerosity': 206, 'population': 124, 'average_specificity': 2.1262135922330097, 'fraction_accuracy': 0.0317307692308559}\n",
      "INFO:lcs.agents.Agent:{'trial': 500, 'steps_in_trial': 5, 'reward': [38.173476791948396, 20.041833787799597, 15.617922508696738, 28.37808369201675, 10.960880724571172, 659.1589380039866, 8.686270418586819, 30.007653260058127], 'perf_time': 0.0018815999999972632, 'numerosity': 206, 'population': 124, 'average_specificity': 2.1262135922330097, 'fraction_accuracy': 0.03333333333333956}\n",
      "INFO:lcs.agents.Agent:{'trial': 600, 'steps_in_trial': 5, 'reward': [36.35198802169208, 20.041833787799597, 18.17047698618772, 29.738781459381904, 8.856403533804082, 685.4444910216769, 6.497511918959849, 26.15536210082226], 'perf_time': 0.001930699999995511, 'numerosity': 206, 'population': 124, 'average_specificity': 2.1262135922330097, 'fraction_accuracy': 0.033333333333398524}\n",
      "INFO:lcs.agents.Agent:{'trial': 700, 'steps_in_trial': 6, 'reward': [70.20934835153803, 20.041833787799597, 18.17047698618772, 66.60825801303548, 43.022475226553944, 551.698140107593, 20.915991364002057, 38.95988614104239], 'perf_time': 0.002253000000003169, 'numerosity': 206, 'population': 124, 'average_specificity': 2.1262135922330097, 'fraction_accuracy': 0.03428030303040189}\n",
      "INFO:lcs.agents.Agent:{'trial': 800, 'steps_in_trial': 5, 'reward': [32.052564229716204, 13.524090570952175, 18.17047698618772, 28.61488446970534, 35.67324531893883, 552.8673839475117, 17.103521773041372, 41.66610323155069], 'perf_time': 0.0018868000000011875, 'numerosity': 206, 'population': 124, 'average_specificity': 2.1262135922330097, 'fraction_accuracy': 0.03566919191932198}\n",
      "INFO:lcs.agents.Agent:{'trial': 900, 'steps_in_trial': 1, 'reward': [121.75353860561464, 16.691972920245803, 17.389943955018218, 41.50731135117474, 35.67324531893883, 727.6134674308554, 19.096749205706338, 74.4946967886544], 'perf_time': 0.0004731999999947334, 'numerosity': 206, 'population': 124, 'average_specificity': 2.1262135922330097, 'fraction_accuracy': 0.034722222222383164}\n"
     ]
    }
   ],
   "source": [
    "\n",
    "df = avg_experiment(maze=maze,\n",
    "                         cfg=cfg,\n",
    "                         number_of_tests=10,\n",
    "                         trials=1000)\n"
   ]
  },
  {
   "cell_type": "code",
   "execution_count": 5,
   "metadata": {},
   "outputs": [
    {
     "data": {
      "text/html": [
       "<div>\n",
       "<style scoped>\n",
       "    .dataframe tbody tr th:only-of-type {\n",
       "        vertical-align: middle;\n",
       "    }\n",
       "\n",
       "    .dataframe tbody tr th {\n",
       "        vertical-align: top;\n",
       "    }\n",
       "\n",
       "    .dataframe thead th {\n",
       "        text-align: right;\n",
       "    }\n",
       "</style>\n",
       "<table border=\"1\" class=\"dataframe\">\n",
       "  <thead>\n",
       "    <tr style=\"text-align: right;\">\n",
       "      <th></th>\n",
       "      <th>steps_in_trial</th>\n",
       "      <th>perf_time</th>\n",
       "      <th>numerosity</th>\n",
       "      <th>population</th>\n",
       "      <th>average_specificity</th>\n",
       "      <th>fraction_accuracy</th>\n",
       "    </tr>\n",
       "    <tr>\n",
       "      <th>trial</th>\n",
       "      <th></th>\n",
       "      <th></th>\n",
       "      <th></th>\n",
       "      <th></th>\n",
       "      <th></th>\n",
       "      <th></th>\n",
       "    </tr>\n",
       "  </thead>\n",
       "  <tbody>\n",
       "    <tr>\n",
       "      <th>0</th>\n",
       "      <td>13.7</td>\n",
       "      <td>0.005230</td>\n",
       "      <td>51.9</td>\n",
       "      <td>50.9</td>\n",
       "      <td>2.066446</td>\n",
       "      <td>0.259619</td>\n",
       "    </tr>\n",
       "    <tr>\n",
       "      <th>50</th>\n",
       "      <td>22.8</td>\n",
       "      <td>0.010397</td>\n",
       "      <td>142.3</td>\n",
       "      <td>120.6</td>\n",
       "      <td>2.081385</td>\n",
       "      <td>0.053213</td>\n",
       "    </tr>\n",
       "    <tr>\n",
       "      <th>100</th>\n",
       "      <td>19.4</td>\n",
       "      <td>0.007523</td>\n",
       "      <td>157.9</td>\n",
       "      <td>121.5</td>\n",
       "      <td>2.039346</td>\n",
       "      <td>0.045706</td>\n",
       "    </tr>\n",
       "    <tr>\n",
       "      <th>150</th>\n",
       "      <td>20.0</td>\n",
       "      <td>0.007923</td>\n",
       "      <td>165.4</td>\n",
       "      <td>122.2</td>\n",
       "      <td>2.076295</td>\n",
       "      <td>0.035817</td>\n",
       "    </tr>\n",
       "    <tr>\n",
       "      <th>200</th>\n",
       "      <td>12.2</td>\n",
       "      <td>0.004826</td>\n",
       "      <td>166.9</td>\n",
       "      <td>122.5</td>\n",
       "      <td>2.070714</td>\n",
       "      <td>0.034720</td>\n",
       "    </tr>\n",
       "    <tr>\n",
       "      <th>250</th>\n",
       "      <td>13.9</td>\n",
       "      <td>0.005737</td>\n",
       "      <td>168.5</td>\n",
       "      <td>122.7</td>\n",
       "      <td>2.076916</td>\n",
       "      <td>0.039040</td>\n",
       "    </tr>\n",
       "    <tr>\n",
       "      <th>300</th>\n",
       "      <td>22.4</td>\n",
       "      <td>0.009067</td>\n",
       "      <td>172.8</td>\n",
       "      <td>122.8</td>\n",
       "      <td>2.057527</td>\n",
       "      <td>0.035501</td>\n",
       "    </tr>\n",
       "    <tr>\n",
       "      <th>350</th>\n",
       "      <td>5.3</td>\n",
       "      <td>0.002161</td>\n",
       "      <td>175.3</td>\n",
       "      <td>123.0</td>\n",
       "      <td>2.041395</td>\n",
       "      <td>0.030666</td>\n",
       "    </tr>\n",
       "    <tr>\n",
       "      <th>400</th>\n",
       "      <td>3.0</td>\n",
       "      <td>0.001184</td>\n",
       "      <td>176.1</td>\n",
       "      <td>123.0</td>\n",
       "      <td>2.033453</td>\n",
       "      <td>0.030513</td>\n",
       "    </tr>\n",
       "    <tr>\n",
       "      <th>450</th>\n",
       "      <td>7.8</td>\n",
       "      <td>0.003106</td>\n",
       "      <td>176.1</td>\n",
       "      <td>123.0</td>\n",
       "      <td>2.033453</td>\n",
       "      <td>0.032513</td>\n",
       "    </tr>\n",
       "    <tr>\n",
       "      <th>500</th>\n",
       "      <td>4.0</td>\n",
       "      <td>0.001590</td>\n",
       "      <td>176.9</td>\n",
       "      <td>123.1</td>\n",
       "      <td>2.040648</td>\n",
       "      <td>0.026641</td>\n",
       "    </tr>\n",
       "    <tr>\n",
       "      <th>550</th>\n",
       "      <td>3.4</td>\n",
       "      <td>0.001455</td>\n",
       "      <td>176.9</td>\n",
       "      <td>123.1</td>\n",
       "      <td>2.040648</td>\n",
       "      <td>0.025052</td>\n",
       "    </tr>\n",
       "    <tr>\n",
       "      <th>600</th>\n",
       "      <td>3.9</td>\n",
       "      <td>0.001512</td>\n",
       "      <td>179.5</td>\n",
       "      <td>123.3</td>\n",
       "      <td>2.036652</td>\n",
       "      <td>0.025535</td>\n",
       "    </tr>\n",
       "    <tr>\n",
       "      <th>650</th>\n",
       "      <td>3.4</td>\n",
       "      <td>0.001368</td>\n",
       "      <td>179.5</td>\n",
       "      <td>123.3</td>\n",
       "      <td>2.036652</td>\n",
       "      <td>0.028255</td>\n",
       "    </tr>\n",
       "    <tr>\n",
       "      <th>700</th>\n",
       "      <td>3.3</td>\n",
       "      <td>0.001318</td>\n",
       "      <td>181.9</td>\n",
       "      <td>123.6</td>\n",
       "      <td>2.044400</td>\n",
       "      <td>0.023228</td>\n",
       "    </tr>\n",
       "    <tr>\n",
       "      <th>750</th>\n",
       "      <td>4.7</td>\n",
       "      <td>0.001836</td>\n",
       "      <td>182.7</td>\n",
       "      <td>123.6</td>\n",
       "      <td>2.037064</td>\n",
       "      <td>0.028790</td>\n",
       "    </tr>\n",
       "    <tr>\n",
       "      <th>800</th>\n",
       "      <td>6.0</td>\n",
       "      <td>0.002455</td>\n",
       "      <td>183.7</td>\n",
       "      <td>123.9</td>\n",
       "      <td>2.032797</td>\n",
       "      <td>0.024835</td>\n",
       "    </tr>\n",
       "    <tr>\n",
       "      <th>850</th>\n",
       "      <td>4.1</td>\n",
       "      <td>0.001654</td>\n",
       "      <td>183.7</td>\n",
       "      <td>123.9</td>\n",
       "      <td>2.032797</td>\n",
       "      <td>0.024593</td>\n",
       "    </tr>\n",
       "    <tr>\n",
       "      <th>900</th>\n",
       "      <td>4.0</td>\n",
       "      <td>0.001644</td>\n",
       "      <td>184.8</td>\n",
       "      <td>124.0</td>\n",
       "      <td>2.026479</td>\n",
       "      <td>0.024945</td>\n",
       "    </tr>\n",
       "    <tr>\n",
       "      <th>950</th>\n",
       "      <td>2.9</td>\n",
       "      <td>0.001219</td>\n",
       "      <td>185.8</td>\n",
       "      <td>124.0</td>\n",
       "      <td>2.021963</td>\n",
       "      <td>0.025245</td>\n",
       "    </tr>\n",
       "  </tbody>\n",
       "</table>\n",
       "</div>"
      ],
      "text/plain": [
       "       steps_in_trial  perf_time  numerosity  population  average_specificity  \\\n",
       "trial                                                                           \n",
       "0                13.7   0.005230        51.9        50.9             2.066446   \n",
       "50               22.8   0.010397       142.3       120.6             2.081385   \n",
       "100              19.4   0.007523       157.9       121.5             2.039346   \n",
       "150              20.0   0.007923       165.4       122.2             2.076295   \n",
       "200              12.2   0.004826       166.9       122.5             2.070714   \n",
       "250              13.9   0.005737       168.5       122.7             2.076916   \n",
       "300              22.4   0.009067       172.8       122.8             2.057527   \n",
       "350               5.3   0.002161       175.3       123.0             2.041395   \n",
       "400               3.0   0.001184       176.1       123.0             2.033453   \n",
       "450               7.8   0.003106       176.1       123.0             2.033453   \n",
       "500               4.0   0.001590       176.9       123.1             2.040648   \n",
       "550               3.4   0.001455       176.9       123.1             2.040648   \n",
       "600               3.9   0.001512       179.5       123.3             2.036652   \n",
       "650               3.4   0.001368       179.5       123.3             2.036652   \n",
       "700               3.3   0.001318       181.9       123.6             2.044400   \n",
       "750               4.7   0.001836       182.7       123.6             2.037064   \n",
       "800               6.0   0.002455       183.7       123.9             2.032797   \n",
       "850               4.1   0.001654       183.7       123.9             2.032797   \n",
       "900               4.0   0.001644       184.8       124.0             2.026479   \n",
       "950               2.9   0.001219       185.8       124.0             2.021963   \n",
       "\n",
       "       fraction_accuracy  \n",
       "trial                     \n",
       "0               0.259619  \n",
       "50              0.053213  \n",
       "100             0.045706  \n",
       "150             0.035817  \n",
       "200             0.034720  \n",
       "250             0.039040  \n",
       "300             0.035501  \n",
       "350             0.030666  \n",
       "400             0.030513  \n",
       "450             0.032513  \n",
       "500             0.026641  \n",
       "550             0.025052  \n",
       "600             0.025535  \n",
       "650             0.028255  \n",
       "700             0.023228  \n",
       "750             0.028790  \n",
       "800             0.024835  \n",
       "850             0.024593  \n",
       "900             0.024945  \n",
       "950             0.025245  "
      ]
     },
     "metadata": {},
     "output_type": "display_data"
    }
   ],
   "source": [
    "display(df)"
   ]
  },
  {
   "cell_type": "code",
   "execution_count": 6,
   "metadata": {},
   "outputs": [
    {
     "data": {
      "text/plain": [
       "<matplotlib.legend.Legend at 0x2a22ad272c8>"
      ]
     },
     "execution_count": 6,
     "metadata": {},
     "output_type": "execute_result"
    },
    {
     "data": {
      "image/png": "[encoded data removed]",
      "text/plain": [
       "<Figure size 432x288 with 1 Axes>"
      ]
     },
     "metadata": {
      "needs_background": "light"
     },
     "output_type": "display_data"
    }
   ],
   "source": [
    "import pandas as pd\n",
    "import numpy as np\n",
    "\n",
    "ax = df['average_specificity'].plot()\n",
    "ax.set_xlabel(\"trial\")\n",
    "ax.set_ylabel(\"average_specificity\")\n",
    "ax.legend([\"specificity\"])\n"
   ]
  },
  {
   "cell_type": "code",
   "execution_count": 7,
   "metadata": {},
   "outputs": [
    {
     "data": {
      "text/plain": [
       "<matplotlib.legend.Legend at 0x2a22be5f2c8>"
      ]
     },
     "execution_count": 7,
     "metadata": {},
     "output_type": "execute_result"
    },
    {
     "data": {
      "image/png": "[encoded data removed]",
      "text/plain": [
       "<Figure size 432x288 with 1 Axes>"
      ]
     },
     "metadata": {
      "needs_background": "light"
     },
     "output_type": "display_data"
    }
   ],
   "source": [
    "ax = df['fraction_accuracy'].plot()\n",
    "ax.set_xlabel(\"trial\")\n",
    "ax.set_ylabel(\"fraction accuracy\")\n",
    "ax.legend([\"fraction accuracy\"])"
   ]
  },
  {
   "cell_type": "code",
   "execution_count": 8,
   "metadata": {},
   "outputs": [
    {
     "data": {
      "text/plain": [
       "<matplotlib.legend.Legend at 0x2a22bea8748>"
      ]
     },
     "execution_count": 8,
     "metadata": {},
     "output_type": "execute_result"
    },
    {
     "data": {
      "image/png": "[encoded data removed]",
      "text/plain": [
       "<Figure size 432x288 with 1 Axes>"
      ]
     },
     "metadata": {
      "needs_background": "light"
     },
     "output_type": "display_data"
    }
   ],
   "source": [
    "ax = df[['numerosity', 'population']].plot()\n",
    "ax.set_xlabel(\"trial\")\n",
    "ax.set_ylabel(\"population\")\n",
    "ax.legend([\"numerosity\", \"number of rules\"])"
   ]
  },
  {
   "cell_type": "code",
   "execution_count": 9,
   "metadata": {},
   "outputs": [
    {
     "data": {
      "text/plain": [
       "<matplotlib.legend.Legend at 0x2a22bed3b08>"
      ]
     },
     "execution_count": 9,
     "metadata": {},
     "output_type": "execute_result"
    },
    {
     "data": {
      "image/png": "[encoded data removed]",
      "text/plain": [
       "<Figure size 432x288 with 1 Axes>"
      ]
     },
     "metadata": {
      "needs_background": "light"
     },
     "output_type": "display_data"
    }
   ],
   "source": [
    "ax = df['steps_in_trial'].plot()\n",
    "ax.set_xlabel(\"trial\")\n",
    "ax.set_ylabel(\"steps in trial\")\n",
    "ax.legend([\"steps\"])"
   ]
  }
 ],
 "metadata": {
  "kernelspec": {
   "display_name": "Python 3",
   "language": "python",
   "name": "python3"
  },
  "language_info": {
   "codemirror_mode": {
    "name": "ipython",
    "version": 3
   },
   "file_extension": ".py",
   "mimetype": "text/x-python",
   "name": "python",
   "nbconvert_exporter": "python",
   "pygments_lexer": "ipython3",
   "version": "3.7.10"
  }
 },
 "nbformat": 4,
 "nbformat_minor": 1
}
