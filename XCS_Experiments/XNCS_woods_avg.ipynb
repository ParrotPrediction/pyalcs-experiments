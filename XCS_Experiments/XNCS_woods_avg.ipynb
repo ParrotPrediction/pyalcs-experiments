{
 "cells": [
  {
   "cell_type": "code",
   "execution_count": 5,
   "metadata": {},
   "outputs": [],
   "source": [
    "# logging \n",
    "import logging\n",
    "logging.basicConfig(level=logging.INFO)\n",
    "logger = logging.getLogger(__name__)\n"
   ]
  },
  {
   "cell_type": "code",
   "execution_count": 6,
   "metadata": {},
   "outputs": [
    {
     "name": "stdout",
     "output_type": "stream",
     "text": [
      "This is how maze looks like:\n",
      "\n",
      "\u001b[37m□\u001b[0m \u001b[37m□\u001b[0m \u001b[37m□\u001b[0m \u001b[37m□\u001b[0m \u001b[37m□\u001b[0m\n",
      "\u001b[37m□\u001b[0m \u001b[36mX\u001b[0m \u001b[37m□\u001b[0m \u001b[37m□\u001b[0m \u001b[37m□\u001b[0m\n",
      "\u001b[30m■\u001b[0m \u001b[30m■\u001b[0m \u001b[33m$\u001b[0m \u001b[37m□\u001b[0m \u001b[37m□\u001b[0m\n",
      "\u001b[30m■\u001b[0m \u001b[30m■\u001b[0m \u001b[30m■\u001b[0m \u001b[37m□\u001b[0m \u001b[37m□\u001b[0m\n",
      "\u001b[30m■\u001b[0m \u001b[30m■\u001b[0m \u001b[30m■\u001b[0m \u001b[37m□\u001b[0m \u001b[37m□\u001b[0m\n"
     ]
    }
   ],
   "source": [
    "# environment setup\n",
    "import gym\n",
    "# noinspection PyUnresolvedReferences\n",
    "import gym_woods\n",
    "\n",
    "maze = gym.make('Woods1-v0')\n",
    "print(\"This is how maze looks like:\")\n",
    "situation = maze.reset()\n",
    "maze.render()\n"
   ]
  },
  {
   "cell_type": "code",
   "execution_count": 7,
   "metadata": {},
   "outputs": [],
   "source": [
    "from lcs.agents.xncs import XNCS, Configuration\n",
    "from utils.nxcs_utils import *\n",
    "\n",
    "cfg = Configuration(number_of_actions=8,\n",
    "                    max_population=1800,\n",
    "                    learning_rate=0.2,\n",
    "                    epsilon_0=0.01,\n",
    "                    alpha=0.1,\n",
    "                    gamma=0.71,\n",
    "                    mutation_chance=0.08, # mu\n",
    "                    delta=0.1,\n",
    "                    ga_threshold=25,\n",
    "                    deletion_threshold=25,\n",
    "                    covering_wildcard_chance = 0.7,\n",
    "                    chi=0.8,      # crossover\n",
    "                    metrics_trial_frequency=100,\n",
    "                    initial_prediction =10,  # p_i\n",
    "                    initial_error = 0.1,  # epsilon_i\n",
    "                    initial_fitness = 10,  # f_i\n",
    "                    user_metrics_collector_fcn=xncs_metrics,\n",
    "                    lmc=10,\n",
    "                    lem=200\n",
    "                    )\n"
   ]
  },
  {
   "cell_type": "code",
   "execution_count": 8,
   "metadata": {
    "scrolled": true
   },
   "outputs": [
    {
     "name": "stderr",
     "output_type": "stream",
     "text": [
      "INFO:lcs.agents.Agent:{'trial': 0, 'steps_in_trial': 39, 'reward': 1000.0, 'perf_time': 0.02473699999973178, 'numerosity': 90, 'population': 86, 'average_specificity': 9.311111111111112, 'fraction_accuracy': 0.041666666666666664}\n"
     ]
    },
    {
     "name": "stdout",
     "output_type": "stream",
     "text": [
      "Executing 0 experiment\n"
     ]
    },
    {
     "name": "stderr",
     "output_type": "stream",
     "text": [
      "INFO:lcs.agents.Agent:{'trial': 100, 'steps_in_trial': 18, 'reward': 1003.2398142073862, 'perf_time': 0.15925530000004073, 'numerosity': 1411, 'population': 791, 'average_specificity': 17.42806520198441, 'fraction_accuracy': 0.016666666666666666}\n",
      "INFO:lcs.agents.Agent:{'trial': 200, 'steps_in_trial': 6, 'reward': 1128.3696637361093, 'perf_time': 0.09762419999970007, 'numerosity': 1800, 'population': 1021, 'average_specificity': 15.462777777777777, 'fraction_accuracy': 0.0}\n",
      "INFO:lcs.agents.Agent:{'trial': 300, 'steps_in_trial': 24, 'reward': 1000.6925982767643, 'perf_time': 0.3459408999997322, 'numerosity': 1800, 'population': 1150, 'average_specificity': 17.066111111111113, 'fraction_accuracy': 0.008333333333333333}\n",
      "INFO:lcs.agents.Agent:{'trial': 400, 'steps_in_trial': 6, 'reward': 1128.1003257966674, 'perf_time': 0.15353270000014163, 'numerosity': 1800, 'population': 1133, 'average_specificity': 18.805, 'fraction_accuracy': 0.0}\n",
      "INFO:lcs.agents.Agent:{'trial': 500, 'steps_in_trial': 2, 'reward': 1684.8606407941643, 'perf_time': 0.0306470000000445, 'numerosity': 1800, 'population': 1185, 'average_specificity': 19.858333333333334, 'fraction_accuracy': 0.135}\n",
      "INFO:lcs.agents.Agent:{'trial': 600, 'steps_in_trial': 11, 'reward': 1023.1210432116683, 'perf_time': 0.17080499999974563, 'numerosity': 1800, 'population': 1212, 'average_specificity': 17.901666666666667, 'fraction_accuracy': 0.125}\n",
      "INFO:lcs.agents.Agent:{'trial': 700, 'steps_in_trial': 21, 'reward': 1000.7612725903338, 'perf_time': 0.32511850000037157, 'numerosity': 1800, 'population': 1252, 'average_specificity': 20.461111111111112, 'fraction_accuracy': 0.1482919254658385}\n",
      "INFO:lcs.agents.Agent:{'trial': 800, 'steps_in_trial': 12, 'reward': 1028.0693780024117, 'perf_time': 0.17464179999979024, 'numerosity': 1800, 'population': 1245, 'average_specificity': 21.549444444444443, 'fraction_accuracy': 0.125}\n",
      "INFO:lcs.agents.Agent:{'trial': 900, 'steps_in_trial': 9, 'reward': 1069.0131524571857, 'perf_time': 0.11505570000008447, 'numerosity': 1800, 'population': 1268, 'average_specificity': 17.72, 'fraction_accuracy': 0.026041666666666668}\n",
      "INFO:lcs.agents.Agent:{'trial': 0, 'steps_in_trial': 2, 'reward': 1504.100104488066, 'perf_time': 0.01864179999984117, 'numerosity': 1800, 'population': 1320, 'average_specificity': 18.363333333333333, 'fraction_accuracy': 0.1431818181818182}\n",
      "INFO:lcs.agents.Agent:{'trial': 100, 'steps_in_trial': 5, 'reward': 1271.391525386314, 'perf_time': 0.06938970000010158, 'numerosity': 1800, 'population': 1331, 'average_specificity': 19.087777777777777, 'fraction_accuracy': 0.3760321100917431}\n",
      "INFO:lcs.agents.Agent:{'trial': 200, 'steps_in_trial': 2, 'reward': 1684.523501144618, 'perf_time': 0.019588800000292395, 'numerosity': 1800, 'population': 1336, 'average_specificity': 19.194444444444443, 'fraction_accuracy': 0.30544354838709675}\n",
      "INFO:lcs.agents.Agent:{'trial': 300, 'steps_in_trial': 50, 'reward': 1.6756096877070914e-12, 'perf_time': 0.6417199999996228, 'numerosity': 1800, 'population': 1350, 'average_specificity': 20.960555555555555, 'fraction_accuracy': 0.28409090909090906}\n",
      "INFO:lcs.agents.Agent:{'trial': 400, 'steps_in_trial': 50, 'reward': 1.3360875076982224e-12, 'perf_time': 0.6339357000001655, 'numerosity': 1800, 'population': 1330, 'average_specificity': 19.726111111111113, 'fraction_accuracy': 0.26973684210526316}\n",
      "INFO:lcs.agents.Agent:{'trial': 500, 'steps_in_trial': 1, 'reward': 1867.265115990726, 'perf_time': 0.00963499999988926, 'numerosity': 1800, 'population': 1329, 'average_specificity': 20.177777777777777, 'fraction_accuracy': 0.3787878787878788}\n",
      "INFO:lcs.agents.Agent:{'trial': 600, 'steps_in_trial': 1, 'reward': 2460.657864708448, 'perf_time': 0.011019800000212854, 'numerosity': 1800, 'population': 1345, 'average_specificity': 20.835555555555555, 'fraction_accuracy': 0.3538812785388128}\n",
      "INFO:lcs.agents.Agent:{'trial': 700, 'steps_in_trial': 3, 'reward': 1672.367205235479, 'perf_time': 0.03802749999977095, 'numerosity': 1800, 'population': 1360, 'average_specificity': 20.52, 'fraction_accuracy': 0.27781329923273657}\n",
      "INFO:lcs.agents.Agent:{'trial': 800, 'steps_in_trial': 1, 'reward': 1800.1126140573117, 'perf_time': 0.020959200000106648, 'numerosity': 1800, 'population': 1350, 'average_specificity': 19.385555555555555, 'fraction_accuracy': 0.2811866125760649}\n",
      "INFO:lcs.agents.Agent:{'trial': 900, 'steps_in_trial': 1, 'reward': 2399.910796806107, 'perf_time': 0.008633800000097835, 'numerosity': 1800, 'population': 1358, 'average_specificity': 19.255555555555556, 'fraction_accuracy': 0.30245535714285715}\n"
     ]
    }
   ],
   "source": [
    "df = avg_experiment(maze=maze,\n",
    "                         cfg=cfg,\n",
    "                         number_of_tests=1,\n",
    "                         explore_trials=1000,\n",
    "                         exploit_trials=1000)\n"
   ]
  },
  {
   "cell_type": "code",
   "execution_count": 9,
   "metadata": {},
   "outputs": [
    {
     "data": {
      "text/html": [
       "<div>\n",
       "<style scoped>\n",
       "    .dataframe tbody tr th:only-of-type {\n",
       "        vertical-align: middle;\n",
       "    }\n",
       "\n",
       "    .dataframe tbody tr th {\n",
       "        vertical-align: top;\n",
       "    }\n",
       "\n",
       "    .dataframe thead th {\n",
       "        text-align: right;\n",
       "    }\n",
       "</style>\n",
       "<table border=\"1\" class=\"dataframe\">\n",
       "  <thead>\n",
       "    <tr style=\"text-align: right;\">\n",
       "      <th></th>\n",
       "      <th>steps_in_trial</th>\n",
       "      <th>reward</th>\n",
       "      <th>perf_time</th>\n",
       "      <th>numerosity</th>\n",
       "      <th>population</th>\n",
       "      <th>average_specificity</th>\n",
       "      <th>fraction_accuracy</th>\n",
       "    </tr>\n",
       "    <tr>\n",
       "      <th>trial</th>\n",
       "      <th></th>\n",
       "      <th></th>\n",
       "      <th></th>\n",
       "      <th></th>\n",
       "      <th></th>\n",
       "      <th></th>\n",
       "      <th></th>\n",
       "    </tr>\n",
       "  </thead>\n",
       "  <tbody>\n",
       "    <tr>\n",
       "      <th>0</th>\n",
       "      <td>39</td>\n",
       "      <td>1.000000e+03</td>\n",
       "      <td>0.024737</td>\n",
       "      <td>90</td>\n",
       "      <td>86</td>\n",
       "      <td>9.311111</td>\n",
       "      <td>0.041667</td>\n",
       "    </tr>\n",
       "    <tr>\n",
       "      <th>100</th>\n",
       "      <td>18</td>\n",
       "      <td>1.003240e+03</td>\n",
       "      <td>0.159255</td>\n",
       "      <td>1411</td>\n",
       "      <td>791</td>\n",
       "      <td>17.428065</td>\n",
       "      <td>0.016667</td>\n",
       "    </tr>\n",
       "    <tr>\n",
       "      <th>200</th>\n",
       "      <td>6</td>\n",
       "      <td>1.128370e+03</td>\n",
       "      <td>0.097624</td>\n",
       "      <td>1800</td>\n",
       "      <td>1021</td>\n",
       "      <td>15.462778</td>\n",
       "      <td>0.000000</td>\n",
       "    </tr>\n",
       "    <tr>\n",
       "      <th>300</th>\n",
       "      <td>24</td>\n",
       "      <td>1.000693e+03</td>\n",
       "      <td>0.345941</td>\n",
       "      <td>1800</td>\n",
       "      <td>1150</td>\n",
       "      <td>17.066111</td>\n",
       "      <td>0.008333</td>\n",
       "    </tr>\n",
       "    <tr>\n",
       "      <th>400</th>\n",
       "      <td>6</td>\n",
       "      <td>1.128100e+03</td>\n",
       "      <td>0.153533</td>\n",
       "      <td>1800</td>\n",
       "      <td>1133</td>\n",
       "      <td>18.805000</td>\n",
       "      <td>0.000000</td>\n",
       "    </tr>\n",
       "    <tr>\n",
       "      <th>500</th>\n",
       "      <td>2</td>\n",
       "      <td>1.684861e+03</td>\n",
       "      <td>0.030647</td>\n",
       "      <td>1800</td>\n",
       "      <td>1185</td>\n",
       "      <td>19.858333</td>\n",
       "      <td>0.135000</td>\n",
       "    </tr>\n",
       "    <tr>\n",
       "      <th>600</th>\n",
       "      <td>11</td>\n",
       "      <td>1.023121e+03</td>\n",
       "      <td>0.170805</td>\n",
       "      <td>1800</td>\n",
       "      <td>1212</td>\n",
       "      <td>17.901667</td>\n",
       "      <td>0.125000</td>\n",
       "    </tr>\n",
       "    <tr>\n",
       "      <th>700</th>\n",
       "      <td>21</td>\n",
       "      <td>1.000761e+03</td>\n",
       "      <td>0.325119</td>\n",
       "      <td>1800</td>\n",
       "      <td>1252</td>\n",
       "      <td>20.461111</td>\n",
       "      <td>0.148292</td>\n",
       "    </tr>\n",
       "    <tr>\n",
       "      <th>800</th>\n",
       "      <td>12</td>\n",
       "      <td>1.028069e+03</td>\n",
       "      <td>0.174642</td>\n",
       "      <td>1800</td>\n",
       "      <td>1245</td>\n",
       "      <td>21.549444</td>\n",
       "      <td>0.125000</td>\n",
       "    </tr>\n",
       "    <tr>\n",
       "      <th>900</th>\n",
       "      <td>9</td>\n",
       "      <td>1.069013e+03</td>\n",
       "      <td>0.115056</td>\n",
       "      <td>1800</td>\n",
       "      <td>1268</td>\n",
       "      <td>17.720000</td>\n",
       "      <td>0.026042</td>\n",
       "    </tr>\n",
       "    <tr>\n",
       "      <th>1000</th>\n",
       "      <td>2</td>\n",
       "      <td>1.504100e+03</td>\n",
       "      <td>0.018642</td>\n",
       "      <td>1800</td>\n",
       "      <td>1320</td>\n",
       "      <td>18.363333</td>\n",
       "      <td>0.143182</td>\n",
       "    </tr>\n",
       "    <tr>\n",
       "      <th>1100</th>\n",
       "      <td>5</td>\n",
       "      <td>1.271392e+03</td>\n",
       "      <td>0.069390</td>\n",
       "      <td>1800</td>\n",
       "      <td>1331</td>\n",
       "      <td>19.087778</td>\n",
       "      <td>0.376032</td>\n",
       "    </tr>\n",
       "    <tr>\n",
       "      <th>1200</th>\n",
       "      <td>2</td>\n",
       "      <td>1.684524e+03</td>\n",
       "      <td>0.019589</td>\n",
       "      <td>1800</td>\n",
       "      <td>1336</td>\n",
       "      <td>19.194444</td>\n",
       "      <td>0.305444</td>\n",
       "    </tr>\n",
       "    <tr>\n",
       "      <th>1300</th>\n",
       "      <td>50</td>\n",
       "      <td>1.675610e-12</td>\n",
       "      <td>0.641720</td>\n",
       "      <td>1800</td>\n",
       "      <td>1350</td>\n",
       "      <td>20.960556</td>\n",
       "      <td>0.284091</td>\n",
       "    </tr>\n",
       "    <tr>\n",
       "      <th>1400</th>\n",
       "      <td>50</td>\n",
       "      <td>1.336088e-12</td>\n",
       "      <td>0.633936</td>\n",
       "      <td>1800</td>\n",
       "      <td>1330</td>\n",
       "      <td>19.726111</td>\n",
       "      <td>0.269737</td>\n",
       "    </tr>\n",
       "    <tr>\n",
       "      <th>1500</th>\n",
       "      <td>1</td>\n",
       "      <td>1.867265e+03</td>\n",
       "      <td>0.009635</td>\n",
       "      <td>1800</td>\n",
       "      <td>1329</td>\n",
       "      <td>20.177778</td>\n",
       "      <td>0.378788</td>\n",
       "    </tr>\n",
       "    <tr>\n",
       "      <th>1600</th>\n",
       "      <td>1</td>\n",
       "      <td>2.460658e+03</td>\n",
       "      <td>0.011020</td>\n",
       "      <td>1800</td>\n",
       "      <td>1345</td>\n",
       "      <td>20.835556</td>\n",
       "      <td>0.353881</td>\n",
       "    </tr>\n",
       "    <tr>\n",
       "      <th>1700</th>\n",
       "      <td>3</td>\n",
       "      <td>1.672367e+03</td>\n",
       "      <td>0.038027</td>\n",
       "      <td>1800</td>\n",
       "      <td>1360</td>\n",
       "      <td>20.520000</td>\n",
       "      <td>0.277813</td>\n",
       "    </tr>\n",
       "    <tr>\n",
       "      <th>1800</th>\n",
       "      <td>1</td>\n",
       "      <td>1.800113e+03</td>\n",
       "      <td>0.020959</td>\n",
       "      <td>1800</td>\n",
       "      <td>1350</td>\n",
       "      <td>19.385556</td>\n",
       "      <td>0.281187</td>\n",
       "    </tr>\n",
       "    <tr>\n",
       "      <th>1900</th>\n",
       "      <td>1</td>\n",
       "      <td>2.399911e+03</td>\n",
       "      <td>0.008634</td>\n",
       "      <td>1800</td>\n",
       "      <td>1358</td>\n",
       "      <td>19.255556</td>\n",
       "      <td>0.302455</td>\n",
       "    </tr>\n",
       "  </tbody>\n",
       "</table>\n",
       "</div>"
      ],
      "text/plain": [
       "       steps_in_trial        reward  perf_time  numerosity  population  \\\n",
       "trial                                                                    \n",
       "0                  39  1.000000e+03   0.024737          90          86   \n",
       "100                18  1.003240e+03   0.159255        1411         791   \n",
       "200                 6  1.128370e+03   0.097624        1800        1021   \n",
       "300                24  1.000693e+03   0.345941        1800        1150   \n",
       "400                 6  1.128100e+03   0.153533        1800        1133   \n",
       "500                 2  1.684861e+03   0.030647        1800        1185   \n",
       "600                11  1.023121e+03   0.170805        1800        1212   \n",
       "700                21  1.000761e+03   0.325119        1800        1252   \n",
       "800                12  1.028069e+03   0.174642        1800        1245   \n",
       "900                 9  1.069013e+03   0.115056        1800        1268   \n",
       "1000                2  1.504100e+03   0.018642        1800        1320   \n",
       "1100                5  1.271392e+03   0.069390        1800        1331   \n",
       "1200                2  1.684524e+03   0.019589        1800        1336   \n",
       "1300               50  1.675610e-12   0.641720        1800        1350   \n",
       "1400               50  1.336088e-12   0.633936        1800        1330   \n",
       "1500                1  1.867265e+03   0.009635        1800        1329   \n",
       "1600                1  2.460658e+03   0.011020        1800        1345   \n",
       "1700                3  1.672367e+03   0.038027        1800        1360   \n",
       "1800                1  1.800113e+03   0.020959        1800        1350   \n",
       "1900                1  2.399911e+03   0.008634        1800        1358   \n",
       "\n",
       "       average_specificity  fraction_accuracy  \n",
       "trial                                          \n",
       "0                 9.311111           0.041667  \n",
       "100              17.428065           0.016667  \n",
       "200              15.462778           0.000000  \n",
       "300              17.066111           0.008333  \n",
       "400              18.805000           0.000000  \n",
       "500              19.858333           0.135000  \n",
       "600              17.901667           0.125000  \n",
       "700              20.461111           0.148292  \n",
       "800              21.549444           0.125000  \n",
       "900              17.720000           0.026042  \n",
       "1000             18.363333           0.143182  \n",
       "1100             19.087778           0.376032  \n",
       "1200             19.194444           0.305444  \n",
       "1300             20.960556           0.284091  \n",
       "1400             19.726111           0.269737  \n",
       "1500             20.177778           0.378788  \n",
       "1600             20.835556           0.353881  \n",
       "1700             20.520000           0.277813  \n",
       "1800             19.385556           0.281187  \n",
       "1900             19.255556           0.302455  "
      ]
     },
     "metadata": {},
     "output_type": "display_data"
    }
   ],
   "source": [
    "display(df)"
   ]
  },
  {
   "cell_type": "code",
   "execution_count": 10,
   "metadata": {},
   "outputs": [
    {
     "data": {
      "text/plain": [
       "<matplotlib.legend.Legend at 0x185d0a95388>"
      ]
     },
     "execution_count": 10,
     "metadata": {},
     "output_type": "execute_result"
    },
    {
     "data": {
      "image/png": "[encoded data removed]",
      "text/plain": [
       "<Figure size 432x288 with 1 Axes>"
      ]
     },
     "metadata": {
      "needs_background": "light"
     },
     "output_type": "display_data"
    }
   ],
   "source": [
    "import pandas as pd\n",
    "import numpy as np\n",
    "\n",
    "ax = df['average_specificity'].plot()\n",
    "ax.set_xlabel(\"trial\")\n",
    "ax.set_ylabel(\"average_specificity\")\n",
    "ax.legend([\"specificity\"])\n"
   ]
  },
  {
   "cell_type": "code",
   "execution_count": 11,
   "metadata": {},
   "outputs": [
    {
     "data": {
      "text/plain": [
       "<matplotlib.legend.Legend at 0x185d37fcac8>"
      ]
     },
     "execution_count": 11,
     "metadata": {},
     "output_type": "execute_result"
    },
    {
     "data": {
      "image/png": "[encoded data removed]",
      "text/plain": [
       "<Figure size 432x288 with 1 Axes>"
      ]
     },
     "metadata": {
      "needs_background": "light"
     },
     "output_type": "display_data"
    }
   ],
   "source": [
    "ax = df['fraction_accuracy'].plot()\n",
    "ax.set_xlabel(\"trial\")\n",
    "ax.set_ylabel(\"fraction accuracy\")\n",
    "ax.legend([\"fraction accuracy\"])"
   ]
  },
  {
   "cell_type": "code",
   "execution_count": 12,
   "metadata": {},
   "outputs": [
    {
     "data": {
      "text/plain": [
       "<matplotlib.legend.Legend at 0x185d37f5fc8>"
      ]
     },
     "execution_count": 12,
     "metadata": {},
     "output_type": "execute_result"
    },
    {
     "data": {
      "image/png": "[encoded data removed]",
      "text/plain": [
       "<Figure size 432x288 with 1 Axes>"
      ]
     },
     "metadata": {
      "needs_background": "light"
     },
     "output_type": "display_data"
    }
   ],
   "source": [
    "ax = df[['numerosity', 'population']].plot()\n",
    "ax.set_xlabel(\"trial\")\n",
    "ax.set_ylabel(\"population\")\n",
    "ax.legend([\"numerosity\", \"number of rules\"])"
   ]
  },
  {
   "cell_type": "code",
   "execution_count": 13,
   "metadata": {},
   "outputs": [
    {
     "data": {
      "text/plain": [
       "<matplotlib.legend.Legend at 0x185d38c7c08>"
      ]
     },
     "execution_count": 13,
     "metadata": {},
     "output_type": "execute_result"
    },
    {
     "data": {
      "image/png": "[encoded data removed]",
      "text/plain": [
       "<Figure size 432x288 with 1 Axes>"
      ]
     },
     "metadata": {
      "needs_background": "light"
     },
     "output_type": "display_data"
    }
   ],
   "source": [
    "ax = df['steps_in_trial'].plot()\n",
    "ax.set_xlabel(\"trial\")\n",
    "ax.set_ylabel(\"steps in trial\")\n",
    "ax.legend([\"steps\"])"
   ]
  }
 ],
 "metadata": {
  "kernelspec": {
   "display_name": "Python 3",
   "language": "python",
   "name": "python3"
  },
  "language_info": {
   "codemirror_mode": {
    "name": "ipython",
    "version": 3
   },
   "file_extension": ".py",
   "mimetype": "text/x-python",
   "name": "python",
   "nbconvert_exporter": "python",
   "pygments_lexer": "ipython3",
   "version": "3.7.10"
  }
 },
 "nbformat": 4,
 "nbformat_minor": 1
}
