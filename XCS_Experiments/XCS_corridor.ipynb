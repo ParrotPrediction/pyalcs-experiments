{
 "cells": [
  {
   "cell_type": "markdown",
   "metadata": {},
   "source": [
    "<font color='red'>Review</font>\n",
    "- To jest bardzo proste środowisko a wiedza nie została wyuczona w 100% (trzeba to ogarnąć)\n",
    "- Przeorganizowałem nieco kod na bardziej czytelniejszy. Zwróć uwagę na [tą](#List-classifiers) komórkę. Na mój gust na górze posortowanej listy powinny być klasyfikatory bliżej nagrody, stopniowo oddalając się w kierunku prawej strony. Tu tak nie jest"
   ]
  },
  {
   "cell_type": "code",
   "execution_count": 1,
   "metadata": {},
   "outputs": [],
   "source": [
    "# activate pyalcs-experiments\n",
    "\n",
    "# logging \n",
    "import logging\n",
    "logging.basicConfig(level=logging.INFO)\n",
    "logger = logging.getLogger(__name__)"
   ]
  },
  {
   "cell_type": "code",
   "execution_count": 2,
   "metadata": {},
   "outputs": [
    {
     "name": "stdout",
     "output_type": "stream",
     "text": [
      "[........X..............................$]\n"
     ]
    }
   ],
   "source": [
    "# environment setup\n",
    "import gym\n",
    "# noinspection PyUnresolvedReferences\n",
    "import gym_corridor\n",
    "\n",
    "import pandas as pd\n",
    "import numpy as np\n",
    "\n",
    "# maze = gym.make('corridor-100-v0')\n",
    "maze = gym.make('corridor-40-v0')\n",
    "# maze = gym.make('corridor-20-v0')\n",
    "\n",
    "maze.reset()\n",
    "maze.render()"
   ]
  },
  {
   "cell_type": "code",
   "execution_count": 3,
   "metadata": {},
   "outputs": [],
   "source": [
    "from lcs.agents.xcs import XCS, Configuration\n",
    "\n",
    "# TODO: Move to utils\n",
    "def xcs_corridor_knowledge(xcs: XCS, environment):\n",
    "    nr_correct = 0\n",
    "    position = 0\n",
    "    while environment.observation_space.contains(position):\n",
    "        if any([True for cl in xcs.population if cl.does_match(str(position)) and\n",
    "                                                 cl.action == 1 and \n",
    "                                                 cl.wildcard_number == 0 ]):\n",
    "            nr_correct += 1\n",
    "        if any([True for cl in xcs.population if cl.does_match(str(position)) and\n",
    "                                                 cl.action == 0 and \n",
    "                                                 cl.wildcard_number == 0 ]):\n",
    "            nr_correct += 1\n",
    "        position += 1\n",
    "    return nr_correct / (position*2)\n",
    "\n",
    "\n",
    "def xcs_corridor_metrics(xcs: XCS, environment):\n",
    "    return {\n",
    "        'population': len(xcs.population),\n",
    "        'knowledge': xcs_corridor_knowledge(xcs, environment),\n",
    "        'numerosity': sum(cl.numerosity for cl in xcs.population)\n",
    "    }"
   ]
  },
  {
   "cell_type": "code",
   "execution_count": 4,
   "metadata": {},
   "outputs": [
    {
     "name": "stderr",
     "output_type": "stream",
     "text": [
      "INFO:lcs.agents.Agent:{'trial': 0, 'steps_in_trial': 200, 'reward': [2.944120652627682e-39, 3.071105928614176e-39], 'perf_time': 0.02247253399400506, 'population': 32, 'knowledge': 0.3875, 'numerosity': 122}\n",
      "INFO:lcs.agents.Agent:{'trial': 100, 'steps_in_trial': 5, 'reward': [72.71468807523601, 142.2856017704231], 'perf_time': 0.0007007239910308272, 'population': 68, 'knowledge': 0.75, 'numerosity': 200}\n",
      "INFO:lcs.agents.Agent:{'trial': 200, 'steps_in_trial': 18, 'reward': [34.007724741931874, 129.66262698325392], 'perf_time': 0.0024042559962254018, 'population': 66, 'knowledge': 0.725, 'numerosity': 200}\n",
      "INFO:lcs.agents.Agent:{'trial': 300, 'steps_in_trial': 200, 'reward': [51.084456851951785, 48.28798328396105], 'perf_time': 0.02581497900246177, 'population': 66, 'knowledge': 0.725, 'numerosity': 200}\n",
      "INFO:lcs.agents.Agent:{'trial': 400, 'steps_in_trial': 16, 'reward': [30.196522508124385, 145.578110206844], 'perf_time': 0.0020324390061432496, 'population': 62, 'knowledge': 0.6875, 'numerosity': 200}\n",
      "INFO:lcs.agents.Agent:{'trial': 500, 'steps_in_trial': 20, 'reward': [5.480873998929834, 116.74846805089655], 'perf_time': 0.0025307390023954213, 'population': 61, 'knowledge': 0.675, 'numerosity': 200}\n",
      "INFO:lcs.agents.Agent:{'trial': 600, 'steps_in_trial': 22, 'reward': [16.402771976222702, 133.95540861641945], 'perf_time': 0.003420224995352328, 'population': 61, 'knowledge': 0.675, 'numerosity': 200}\n",
      "INFO:lcs.agents.Agent:{'trial': 700, 'steps_in_trial': 18, 'reward': [26.55656208918223, 184.18629894911277], 'perf_time': 0.0026672530075302348, 'population': 61, 'knowledge': 0.675, 'numerosity': 200}\n",
      "INFO:lcs.agents.Agent:{'trial': 800, 'steps_in_trial': 3, 'reward': [12.568483418757092, 182.7818594561054], 'perf_time': 0.0004552710015559569, 'population': 61, 'knowledge': 0.675, 'numerosity': 200}\n",
      "INFO:lcs.agents.Agent:{'trial': 900, 'steps_in_trial': 35, 'reward': [25.393910559451296, 114.93381313214482], 'perf_time': 0.004438199001015164, 'population': 61, 'knowledge': 0.675, 'numerosity': 200}\n"
     ]
    }
   ],
   "source": [
    "cfg = Configuration(number_of_actions=2,\n",
    "                    metrics_trial_frequency=1,\n",
    "                    covering_wildcard_chance=1,\n",
    "                    user_metrics_collector_fcn=xcs_corridor_metrics)\n",
    "\n",
    "agent = XCS(cfg)\n",
    "explore_population, explore_metrics = agent.explore(maze, 1000, False)"
   ]
  },
  {
   "cell_type": "markdown",
   "metadata": {},
   "source": [
    "### List classifiers"
   ]
  },
  {
   "cell_type": "code",
   "execution_count": 5,
   "metadata": {},
   "outputs": [
    {
     "name": "stdout",
     "output_type": "stream",
     "text": [
      "Cond:0 - Act:1 - Num:1 [fit: 0.000, exp: 4640.00, pred: 269.701]\n",
      "Cond:1 - Act:1 - Num:2 [fit: 0.000, exp: 2123.00, pred: 259.866]\n",
      "Cond:1 - Act:0 - Num:1 [fit: 0.000, exp: 4709.00, pred: 208.224]\n",
      "Cond:2 - Act:1 - Num:4 [fit: 0.000, exp: 1694.00, pred: 197.502]\n",
      "Cond:19 - Act:1 - Num:4 [fit: 0.000, exp: 564.00, pred: 186.917]\n",
      "Cond:23 - Act:1 - Num:3 [fit: 0.016, exp: 1264.00, pred: 177.966]\n",
      "Cond:18 - Act:1 - Num:5 [fit: 0.000, exp: 569.00, pred: 176.239]\n",
      "Cond:26 - Act:1 - Num:1 [fit: 0.000, exp: 1374.00, pred: 172.835]\n",
      "Cond:25 - Act:1 - Num:3 [fit: 0.004, exp: 1031.00, pred: 165.747]\n",
      "Cond:31 - Act:1 - Num:1 [fit: 0.000, exp: 792.00, pred: 164.018]\n"
     ]
    }
   ],
   "source": [
    "for cl in sorted(explore_population, key=lambda cl: -cl.prediction)[:10]:\n",
    "    print(str(cl))"
   ]
  },
  {
   "cell_type": "markdown",
   "metadata": {},
   "source": [
    "Following is prediction Array. In case of Corridor better the last value the better"
   ]
  },
  {
   "cell_type": "code",
   "execution_count": 6,
   "metadata": {},
   "outputs": [
    {
     "data": {
      "text/plain": [
       "[115.57900208732934, 118.70329138343904]"
      ]
     },
     "execution_count": 6,
     "metadata": {},
     "output_type": "execute_result"
    }
   ],
   "source": [
    "explore_population.prediction_array"
   ]
  },
  {
   "cell_type": "code",
   "execution_count": 7,
   "metadata": {},
   "outputs": [],
   "source": [
    "# TODO Merge explore and exploit"
   ]
  },
  {
   "cell_type": "code",
   "execution_count": 8,
   "metadata": {},
   "outputs": [
    {
     "data": {
      "text/plain": [
       "(0.0, 1.0)"
      ]
     },
     "execution_count": 8,
     "metadata": {},
     "output_type": "execute_result"
    },
    {
     "data": {
      "image/png": "[encoded data removed]",
      "text/plain": [
       "<Figure size 432x288 with 1 Axes>"
      ]
     },
     "metadata": {
      "needs_background": "light"
     },
     "output_type": "display_data"
    }
   ],
   "source": [
    "df = pd.DataFrame(metric[\"knowledge\"] for metric in explore_metrics)\n",
    "ax = df.plot()\n",
    "ax.set_xlabel(\"trial\")\n",
    "ax.set_ylabel(\"knowledge %\")\n",
    "ax.legend([\"knowledge %\"])\n",
    "ax.set_ylim(ymin=0, ymax=1)"
   ]
  },
  {
   "cell_type": "code",
   "execution_count": 9,
   "metadata": {},
   "outputs": [
    {
     "data": {
      "text/plain": [
       "(0.0, 250.0)"
      ]
     },
     "execution_count": 9,
     "metadata": {},
     "output_type": "execute_result"
    },
    {
     "data": {
      "image/png": "[encoded data removed]",
      "text/plain": [
       "<Figure size 432x288 with 1 Axes>"
      ]
     },
     "metadata": {
      "needs_background": "light"
     },
     "output_type": "display_data"
    }
   ],
   "source": [
    "df = pd.DataFrame(zip([metric[\"population\"] for metric in explore_metrics], [metric[\"numerosity\"] for metric in explore_metrics]))\n",
    "ax = df.plot()\n",
    "ax.set_xlabel(\"trial\")\n",
    "ax.set_ylabel(\"population\")\n",
    "ax.legend([\"pop\", \"num\"])\n",
    "ax.set_ylim(ymin=0, ymax=250)"
   ]
  },
  {
   "cell_type": "code",
   "execution_count": 10,
   "metadata": {},
   "outputs": [
    {
     "data": {
      "text/plain": [
       "(0.0, 250.0)"
      ]
     },
     "execution_count": 10,
     "metadata": {},
     "output_type": "execute_result"
    },
    {
     "data": {
      "image/png": "[encoded data removed]",
      "text/plain": [
       "<Figure size 432x288 with 1 Axes>"
      ]
     },
     "metadata": {
      "needs_background": "light"
     },
     "output_type": "display_data"
    }
   ],
   "source": [
    "xf = [metric[\"steps_in_trial\"] for metric in explore_metrics]\n",
    "temp_df = np.array_split(xf, 20)\n",
    "for i in range(len(temp_df)):\n",
    "    temp_df[i] = np.mean(temp_df[i]) \n",
    "df = pd.DataFrame(temp_df)\n",
    "ax = df.plot()\n",
    "ax.set_xlabel(\"trial grouped up\")\n",
    "ax.set_ylabel(\"steps for solution\")\n",
    "ax.legend([\"steps\"])\n",
    "ax.set_ylim(ymin=0, ymax=250)"
   ]
  }
 ],
 "metadata": {
  "kernelspec": {
   "display_name": "Python 3",
   "language": "python",
   "name": "python3"
  },
  "language_info": {
   "codemirror_mode": {
    "name": "ipython",
    "version": 3
   },
   "file_extension": ".py",
   "mimetype": "text/x-python",
   "name": "python",
   "nbconvert_exporter": "python",
   "pygments_lexer": "ipython3",
   "version": "3.7.10"
  }
 },
 "nbformat": 4,
 "nbformat_minor": 4
}
