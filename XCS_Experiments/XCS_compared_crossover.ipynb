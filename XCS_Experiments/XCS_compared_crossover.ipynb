{
 "cells": [
  {
   "cell_type": "code",
   "execution_count": 1,
   "metadata": {},
   "outputs": [],
   "source": [
    "import logging\n",
    "logging.root.setLevel(logging.INFO)\n"
   ]
  },
  {
   "cell_type": "code",
   "execution_count": 2,
   "metadata": {
    "scrolled": true
   },
   "outputs": [],
   "source": [
    "import random\n",
    "\n",
    "from xcs import XCSAlgorithm\n",
    "from xcs.scenarios import Scenario"
   ]
  },
  {
   "cell_type": "code",
   "execution_count": 3,
   "metadata": {},
   "outputs": [],
   "source": [
    "from utils.xcs_utils import *"
   ]
  },
  {
   "cell_type": "code",
   "execution_count": 4,
   "metadata": {},
   "outputs": [
    {
     "name": "stdout",
     "output_type": "stream",
     "text": [
      "\n",
      "\u001b[30m■\u001b[0m \u001b[30m■\u001b[0m \u001b[30m■\u001b[0m \u001b[30m■\u001b[0m \u001b[30m■\u001b[0m \u001b[30m■\u001b[0m \u001b[30m■\u001b[0m \u001b[30m■\u001b[0m\n",
      "\u001b[30m■\u001b[0m \u001b[37m□\u001b[0m \u001b[37m□\u001b[0m \u001b[30m■\u001b[0m \u001b[37m□\u001b[0m \u001b[31mA\u001b[0m \u001b[33m$\u001b[0m \u001b[30m■\u001b[0m\n",
      "\u001b[30m■\u001b[0m \u001b[30m■\u001b[0m \u001b[37m□\u001b[0m \u001b[37m□\u001b[0m \u001b[30m■\u001b[0m \u001b[37m□\u001b[0m \u001b[37m□\u001b[0m \u001b[30m■\u001b[0m\n",
      "\u001b[30m■\u001b[0m \u001b[30m■\u001b[0m \u001b[37m□\u001b[0m \u001b[30m■\u001b[0m \u001b[37m□\u001b[0m \u001b[37m□\u001b[0m \u001b[30m■\u001b[0m \u001b[30m■\u001b[0m\n",
      "\u001b[30m■\u001b[0m \u001b[37m□\u001b[0m \u001b[37m□\u001b[0m \u001b[37m□\u001b[0m \u001b[37m□\u001b[0m \u001b[37m□\u001b[0m \u001b[37m□\u001b[0m \u001b[30m■\u001b[0m\n",
      "\u001b[30m■\u001b[0m \u001b[30m■\u001b[0m \u001b[37m□\u001b[0m \u001b[30m■\u001b[0m \u001b[37m□\u001b[0m \u001b[37m□\u001b[0m \u001b[37m□\u001b[0m \u001b[30m■\u001b[0m\n",
      "\u001b[30m■\u001b[0m \u001b[37m□\u001b[0m \u001b[37m□\u001b[0m \u001b[37m□\u001b[0m \u001b[37m□\u001b[0m \u001b[30m■\u001b[0m \u001b[37m□\u001b[0m \u001b[30m■\u001b[0m\n",
      "\u001b[30m■\u001b[0m \u001b[30m■\u001b[0m \u001b[30m■\u001b[0m \u001b[30m■\u001b[0m \u001b[30m■\u001b[0m \u001b[30m■\u001b[0m \u001b[30m■\u001b[0m \u001b[30m■\u001b[0m\n"
     ]
    }
   ],
   "source": [
    "exploration_cycles = 1000\n",
    "exploitation_cycles = 500\n",
    "input_size = 8\n",
    "logging.root.setLevel(logging.INFO)\n",
    "scenario = MazeScenario(input_size)\n",
    "scenario.maze.reset()\n",
    "scenario.maze.render()"
   ]
  },
  {
   "cell_type": "code",
   "execution_count": 5,
   "metadata": {},
   "outputs": [],
   "source": [
    "import numpy as np\n",
    "algorithm = XCSAlgorithm()\n",
    "algorithm.max_population_size = 1600\n",
    "algorithm.learning_rate = .1\n",
    "algorithm.error_threshold = .01              # epsilon_0\n",
    "algorithm.ga_threshold = 25\n",
    "algorithm.crossover_probability = 1\n",
    "algorithm.mutation_probability = 0.01\n",
    "algorithm.initial_prediction = 0.000001               # p_I\n",
    "algorithm.initial_error = 0.000001            # epsilon_I\n",
    "algorithm.initial_fitness = 0.000001           # F_I\n",
    "algorithm.wildcard_probability = 0.0"
   ]
  },
  {
   "cell_type": "code",
   "execution_count": 6,
   "metadata": {},
   "outputs": [
    {
     "name": "stdout",
     "output_type": "stream",
     "text": [
      "Executing 0 experiment\n"
     ]
    }
   ],
   "source": [
    "other_metrics = other_avg_experiment(\n",
    "                                     maze=scenario,\n",
    "                                     algorithm=algorithm,\n",
    "                                     number_of_tests=1,\n",
    "                                     explore_trials=exploration_cycles,\n",
    "                                     exploit_trials=exploitation_cycles\n",
    "                                    )\n"
   ]
  },
  {
   "cell_type": "code",
   "execution_count": 7,
   "metadata": {},
   "outputs": [
    {
     "data": {
      "text/html": [
       "<div>\n",
       "<style scoped>\n",
       "    .dataframe tbody tr th:only-of-type {\n",
       "        vertical-align: middle;\n",
       "    }\n",
       "\n",
       "    .dataframe tbody tr th {\n",
       "        vertical-align: top;\n",
       "    }\n",
       "\n",
       "    .dataframe thead th {\n",
       "        text-align: right;\n",
       "    }\n",
       "</style>\n",
       "<table border=\"1\" class=\"dataframe\">\n",
       "  <thead>\n",
       "    <tr style=\"text-align: right;\">\n",
       "      <th></th>\n",
       "      <th>steps_in_trial</th>\n",
       "      <th>population</th>\n",
       "      <th>numerosity</th>\n",
       "    </tr>\n",
       "    <tr>\n",
       "      <th>trial</th>\n",
       "      <th></th>\n",
       "      <th></th>\n",
       "      <th></th>\n",
       "    </tr>\n",
       "  </thead>\n",
       "  <tbody>\n",
       "    <tr>\n",
       "      <th>0</th>\n",
       "      <td>50</td>\n",
       "      <td>42</td>\n",
       "      <td>44</td>\n",
       "    </tr>\n",
       "    <tr>\n",
       "      <th>100</th>\n",
       "      <td>16</td>\n",
       "      <td>377</td>\n",
       "      <td>1600</td>\n",
       "    </tr>\n",
       "    <tr>\n",
       "      <th>200</th>\n",
       "      <td>6</td>\n",
       "      <td>391</td>\n",
       "      <td>1600</td>\n",
       "    </tr>\n",
       "    <tr>\n",
       "      <th>300</th>\n",
       "      <td>2</td>\n",
       "      <td>406</td>\n",
       "      <td>1600</td>\n",
       "    </tr>\n",
       "    <tr>\n",
       "      <th>400</th>\n",
       "      <td>50</td>\n",
       "      <td>426</td>\n",
       "      <td>1600</td>\n",
       "    </tr>\n",
       "    <tr>\n",
       "      <th>500</th>\n",
       "      <td>50</td>\n",
       "      <td>444</td>\n",
       "      <td>1600</td>\n",
       "    </tr>\n",
       "    <tr>\n",
       "      <th>600</th>\n",
       "      <td>50</td>\n",
       "      <td>449</td>\n",
       "      <td>1600</td>\n",
       "    </tr>\n",
       "    <tr>\n",
       "      <th>700</th>\n",
       "      <td>2</td>\n",
       "      <td>468</td>\n",
       "      <td>1600</td>\n",
       "    </tr>\n",
       "    <tr>\n",
       "      <th>800</th>\n",
       "      <td>14</td>\n",
       "      <td>470</td>\n",
       "      <td>1600</td>\n",
       "    </tr>\n",
       "    <tr>\n",
       "      <th>900</th>\n",
       "      <td>50</td>\n",
       "      <td>458</td>\n",
       "      <td>1600</td>\n",
       "    </tr>\n",
       "    <tr>\n",
       "      <th>1000</th>\n",
       "      <td>1</td>\n",
       "      <td>518</td>\n",
       "      <td>1600</td>\n",
       "    </tr>\n",
       "    <tr>\n",
       "      <th>1100</th>\n",
       "      <td>31</td>\n",
       "      <td>532</td>\n",
       "      <td>1600</td>\n",
       "    </tr>\n",
       "    <tr>\n",
       "      <th>1200</th>\n",
       "      <td>50</td>\n",
       "      <td>506</td>\n",
       "      <td>1600</td>\n",
       "    </tr>\n",
       "    <tr>\n",
       "      <th>1300</th>\n",
       "      <td>50</td>\n",
       "      <td>464</td>\n",
       "      <td>1600</td>\n",
       "    </tr>\n",
       "    <tr>\n",
       "      <th>1400</th>\n",
       "      <td>50</td>\n",
       "      <td>477</td>\n",
       "      <td>1600</td>\n",
       "    </tr>\n",
       "  </tbody>\n",
       "</table>\n",
       "</div>"
      ],
      "text/plain": [
       "       steps_in_trial  population  numerosity\n",
       "trial                                        \n",
       "0                  50          42          44\n",
       "100                16         377        1600\n",
       "200                 6         391        1600\n",
       "300                 2         406        1600\n",
       "400                50         426        1600\n",
       "500                50         444        1600\n",
       "600                50         449        1600\n",
       "700                 2         468        1600\n",
       "800                14         470        1600\n",
       "900                50         458        1600\n",
       "1000                1         518        1600\n",
       "1100               31         532        1600\n",
       "1200               50         506        1600\n",
       "1300               50         464        1600\n",
       "1400               50         477        1600"
      ]
     },
     "metadata": {},
     "output_type": "display_data"
    }
   ],
   "source": [
    "display(other_metrics)"
   ]
  },
  {
   "cell_type": "code",
   "execution_count": 8,
   "metadata": {},
   "outputs": [
    {
     "data": {
      "text/plain": [
       "<matplotlib.legend.Legend at 0x256006e4d08>"
      ]
     },
     "execution_count": 8,
     "metadata": {},
     "output_type": "execute_result"
    },
    {
     "data": {
      "image/png": "[encoded data removed]",
      "text/plain": [
       "<Figure size 432x288 with 1 Axes>"
      ]
     },
     "metadata": {
      "needs_background": "light"
     },
     "output_type": "display_data"
    }
   ],
   "source": [
    "import pandas as pd\n",
    "\n",
    "ax = other_metrics[\"steps_in_trial\"].plot()\n",
    "ax.set_xlabel(\"trial\")\n",
    "ax.set_ylabel(\"steps_in_trial\")\n",
    "ax.legend([\"steps other XCS\"])"
   ]
  },
  {
   "cell_type": "code",
   "execution_count": 9,
   "metadata": {},
   "outputs": [
    {
     "data": {
      "text/plain": [
       "<matplotlib.legend.Legend at 0x25601e56608>"
      ]
     },
     "execution_count": 9,
     "metadata": {},
     "output_type": "execute_result"
    },
    {
     "data": {
      "image/png": "[encoded data removed]",
      "text/plain": [
       "<Figure size 432x288 with 1 Axes>"
      ]
     },
     "metadata": {
      "needs_background": "light"
     },
     "output_type": "display_data"
    }
   ],
   "source": [
    "ax = other_metrics[['numerosity', 'population']].plot()\n",
    "ax.set_xlabel(\"trial\")\n",
    "ax.set_ylabel(\"population\")\n",
    "ax.legend([\"numerosity\", \"number of rules\"])"
   ]
  },
  {
   "cell_type": "code",
   "execution_count": 12,
   "metadata": {},
   "outputs": [],
   "source": [
    "from lcs.agents.xcs import Configuration\n",
    "from utils.xcs_utils import *\n",
    "                    \n",
    "\n",
    "cfg = Configuration(number_of_actions=8,\n",
    "                    max_population=1600,\n",
    "                    covering_wildcard_chance = 1,\n",
    "                    ga_threshold = 25,\n",
    "                    metrics_trial_frequency=100,\n",
    "                    mutation_chance=0.03,\n",
    "                    chi=1,                           # crossover\n",
    "                    initial_prediction = 0.000001,               # p_I\n",
    "                    initial_error = 0.000001,            # epsilon_I\n",
    "                    initial_fitness = 0.000001,           # F_I\n",
    "                    user_metrics_collector_fcn=xcs_metrics)"
   ]
  },
  {
   "cell_type": "code",
   "execution_count": null,
   "metadata": {},
   "outputs": [],
   "source": []
  },
  {
   "cell_type": "code",
   "execution_count": 13,
   "metadata": {
    "scrolled": true
   },
   "outputs": [
    {
     "name": "stderr",
     "output_type": "stream",
     "text": [
      "INFO:lcs.agents.Agent:{'trial': 0, 'steps_in_trial': 4, 'reward': [0, 100.00000000000007, 0, 2.5205456210545373e-09, 0, 0, 0, 1.349e-13], 'perf_time': 0.0010627999999996973, 'population': 16, 'numerosity': 16}\n"
     ]
    },
    {
     "name": "stdout",
     "output_type": "stream",
     "text": [
      "Executing 0 experiment\n"
     ]
    },
    {
     "name": "stderr",
     "output_type": "stream",
     "text": [
      "INFO:lcs.agents.Agent:{'trial': 100, 'steps_in_trial': 49, 'reward': [43.484988911585006, 155.8801151880337, 25.899420844188477, 27.394917025619986, 26.44408670571981, 25.766672900415497, 29.961322059865527, 29.01554115718213], 'perf_time': 0.027437300000087816, 'population': 212, 'numerosity': 422}\n",
      "INFO:lcs.agents.Agent:{'trial': 200, 'steps_in_trial': 50, 'reward': [39.187000242492935, 33.6946701445112, 29.95530843292193, 31.015277518436182, 37.75189563350876, 51.031719648243865, 40.92758657756191, 37.92694442758516], 'perf_time': 0.03000869999993938, 'population': 215, 'numerosity': 514}\n",
      "INFO:lcs.agents.Agent:{'trial': 300, 'steps_in_trial': 50, 'reward': [135.8813424010642, 54.62575901289569, 38.02975863106683, 53.93782200756955, 43.89146734206789, 78.60386221284136, 52.21542181564877, 54.56380856282243], 'perf_time': 0.02858409999998912, 'population': 215, 'numerosity': 534}\n",
      "INFO:lcs.agents.Agent:{'trial': 400, 'steps_in_trial': 50, 'reward': [11.028770725424632, 8.036558896840486, 11.152270698537862, 11.938716632531456, 8.369187263391087, 10.192073332779183, 10.660576277140526, 9.991671784408583], 'perf_time': 0.027828600000020742, 'population': 215, 'numerosity': 574}\n",
      "INFO:lcs.agents.Agent:{'trial': 500, 'steps_in_trial': 50, 'reward': [5.422615823419046, 71.4420710309193, 26.7895438786806, 5.4517037500402985, 3.3897934462998225, 7.406041186166473, 5.663023624677907, 8.61396758133133], 'perf_time': 0.028523299999960727, 'population': 215, 'numerosity': 574}\n",
      "INFO:lcs.agents.Agent:{'trial': 600, 'steps_in_trial': 50, 'reward': [10.411625294142818, 24.714116375966604, 49.82606327002898, 13.728374550492436, 17.160893509241358, 22.834571426005958, 11.436024671878481, 20.84157225566885], 'perf_time': 0.027706800000032672, 'population': 215, 'numerosity': 574}\n",
      "INFO:lcs.agents.Agent:{'trial': 700, 'steps_in_trial': 29, 'reward': [128.89278216980534, 26.479497375211743, 68.4533093440447, 24.815704702919735, 11.523050395228893, 19.619368617446252, 28.028641890757022, 40.2243970355051], 'perf_time': 0.015212500000075124, 'population': 215, 'numerosity': 574}\n",
      "INFO:lcs.agents.Agent:{'trial': 800, 'steps_in_trial': 21, 'reward': [106.5712081832744, 16.846532827112792, 123.43721829716101, 15.639046398934886, 10.340423296307735, 8.661523791584335, 18.26595136624244, 14.428231492492541], 'perf_time': 0.01086350000002767, 'population': 215, 'numerosity': 574}\n",
      "INFO:lcs.agents.Agent:{'trial': 900, 'steps_in_trial': 35, 'reward': [59.93796394539037, 43.476047709965634, 188.42515509447708, 17.352785714924458, 23.494364283236273, 15.77726047497663, 22.58617556259116, 19.738777589431084], 'perf_time': 0.01988600000004226, 'population': 215, 'numerosity': 574}\n",
      "INFO:lcs.agents.Agent:{'trial': 0, 'steps_in_trial': 21, 'reward': [102.25417594330445, 3.2758146905298373, 2.889553900119542, 1.5235041858199434, 0, 0.6698977388631, 0, 1.0798961171588901], 'perf_time': 0.011633499999902597, 'population': 215, 'numerosity': 576}\n",
      "INFO:lcs.agents.Agent:{'trial': 0, 'steps_in_trial': 21, 'reward': [2.942876206738658, 251.3443699823993, 3.3137146311630676, 1.0260173605547003, 1.2583490243432027, 1.3467468248804502, 1.250420200624438, 0.9232115899555582], 'perf_time': 0.011633499999902597, 'population': 215, 'numerosity': 576}\n",
      "INFO:lcs.agents.Agent:{'trial': 100, 'steps_in_trial': 5, 'reward': [115.10988459964275, 435.4274692106625, 3.9237716843111743, 1.640798443427785, 1.976389751983341, 0.6602806581070816, 2.0211497461614414, 0.9805641743642121], 'perf_time': 0.002584300000080475, 'population': 215, 'numerosity': 576}\n",
      "INFO:lcs.agents.Agent:{'trial': 100, 'steps_in_trial': 5, 'reward': [41.01102062813288, 438.0738151641403, 2.5961991378758458, 1.8337744012325405, 2.0861126991614953, 0.535965866788736, 2.3444670791899145, 0.8832075558695726], 'perf_time': 0.002584300000080475, 'population': 215, 'numerosity': 576}\n",
      "INFO:lcs.agents.Agent:{'trial': 200, 'steps_in_trial': 5, 'reward': [104.01233175359825, 430.40682460177493, 4.255513382585892, 1.8231034849047894, 2.057778520658027, 0.47105525730401704, 1.9777722103770659, 0.8832075558695726], 'perf_time': 0.003091700000027231, 'population': 215, 'numerosity': 576}\n",
      "INFO:lcs.agents.Agent:{'trial': 200, 'steps_in_trial': 5, 'reward': [15.463331703834978, 440.8374902961353, 4.732419307260924, 1.718277094565807, 1.7095066261611827, 0.44100145008045233, 2.600316874930196, 0.8832075558695726], 'perf_time': 0.003091700000027231, 'population': 215, 'numerosity': 576}\n",
      "INFO:lcs.agents.Agent:{'trial': 300, 'steps_in_trial': 1, 'reward': [147.01179636044228, 416.49272635130717, 1.6914039365409756, 1.723473822737457, 1.9716476176371516, 0.4332177852632394, 3.687158954513004, 0.8832075558695726], 'perf_time': 0.0006981999999879918, 'population': 215, 'numerosity': 576}\n",
      "INFO:lcs.agents.Agent:{'trial': 300, 'steps_in_trial': 1, 'reward': [26.853688666655376, 414.7040811043279, 1.3029947197277327, 1.870606694105669, 1.8576346126166676, 0.4286216090253233, 3.687158954513004, 0.8832075558695726], 'perf_time': 0.0006981999999879918, 'population': 215, 'numerosity': 576}\n",
      "INFO:lcs.agents.Agent:{'trial': 400, 'steps_in_trial': 6, 'reward': [4.37262555195136, 371.86937569875477, 1.0368343690128623, 1.9575532423163327, 1.6985260916723495, 1.4502573832045915, 4.328928334085856, 0.8832075558695726], 'perf_time': 0.003091500000095948, 'population': 215, 'numerosity': 576}\n",
      "INFO:lcs.agents.Agent:{'trial': 400, 'steps_in_trial': 6, 'reward': [3.5417891368560768, 557.1476983279694, 0.7683630253380476, 1.9749750338987246, 0.9996412758013704, 35.736008617470134, 4.504753335134316, 0.8832075558695726], 'perf_time': 0.003091500000095948, 'population': 215, 'numerosity': 576}\n"
     ]
    }
   ],
   "source": [
    "from lcs.agents.xcs import XCS\n",
    "\n",
    "\n",
    "agent = XCS(cfg)\n",
    "my_metrics = avg_experiment(scenario,\n",
    "                    cfg,\n",
    "                    number_of_tests=1,\n",
    "                    explore_trials=exploration_cycles,\n",
    "                    exploit_metrics=exploitation_cycles)\n"
   ]
  },
  {
   "cell_type": "code",
   "execution_count": 14,
   "metadata": {},
   "outputs": [
    {
     "data": {
      "text/html": [
       "<div>\n",
       "<style scoped>\n",
       "    .dataframe tbody tr th:only-of-type {\n",
       "        vertical-align: middle;\n",
       "    }\n",
       "\n",
       "    .dataframe tbody tr th {\n",
       "        vertical-align: top;\n",
       "    }\n",
       "\n",
       "    .dataframe thead th {\n",
       "        text-align: right;\n",
       "    }\n",
       "</style>\n",
       "<table border=\"1\" class=\"dataframe\">\n",
       "  <thead>\n",
       "    <tr style=\"text-align: right;\">\n",
       "      <th></th>\n",
       "      <th>steps_in_trial</th>\n",
       "      <th>perf_time</th>\n",
       "      <th>population</th>\n",
       "      <th>numerosity</th>\n",
       "    </tr>\n",
       "    <tr>\n",
       "      <th>trial</th>\n",
       "      <th></th>\n",
       "      <th></th>\n",
       "      <th></th>\n",
       "      <th></th>\n",
       "    </tr>\n",
       "  </thead>\n",
       "  <tbody>\n",
       "    <tr>\n",
       "      <th>0</th>\n",
       "      <td>4</td>\n",
       "      <td>0.001063</td>\n",
       "      <td>16</td>\n",
       "      <td>16</td>\n",
       "    </tr>\n",
       "    <tr>\n",
       "      <th>100</th>\n",
       "      <td>49</td>\n",
       "      <td>0.027437</td>\n",
       "      <td>212</td>\n",
       "      <td>422</td>\n",
       "    </tr>\n",
       "    <tr>\n",
       "      <th>200</th>\n",
       "      <td>50</td>\n",
       "      <td>0.030009</td>\n",
       "      <td>215</td>\n",
       "      <td>514</td>\n",
       "    </tr>\n",
       "    <tr>\n",
       "      <th>300</th>\n",
       "      <td>50</td>\n",
       "      <td>0.028584</td>\n",
       "      <td>215</td>\n",
       "      <td>534</td>\n",
       "    </tr>\n",
       "    <tr>\n",
       "      <th>400</th>\n",
       "      <td>50</td>\n",
       "      <td>0.027829</td>\n",
       "      <td>215</td>\n",
       "      <td>574</td>\n",
       "    </tr>\n",
       "    <tr>\n",
       "      <th>500</th>\n",
       "      <td>50</td>\n",
       "      <td>0.028523</td>\n",
       "      <td>215</td>\n",
       "      <td>574</td>\n",
       "    </tr>\n",
       "    <tr>\n",
       "      <th>600</th>\n",
       "      <td>50</td>\n",
       "      <td>0.027707</td>\n",
       "      <td>215</td>\n",
       "      <td>574</td>\n",
       "    </tr>\n",
       "    <tr>\n",
       "      <th>700</th>\n",
       "      <td>29</td>\n",
       "      <td>0.015213</td>\n",
       "      <td>215</td>\n",
       "      <td>574</td>\n",
       "    </tr>\n",
       "    <tr>\n",
       "      <th>800</th>\n",
       "      <td>21</td>\n",
       "      <td>0.010864</td>\n",
       "      <td>215</td>\n",
       "      <td>574</td>\n",
       "    </tr>\n",
       "    <tr>\n",
       "      <th>900</th>\n",
       "      <td>35</td>\n",
       "      <td>0.019886</td>\n",
       "      <td>215</td>\n",
       "      <td>574</td>\n",
       "    </tr>\n",
       "    <tr>\n",
       "      <th>1000</th>\n",
       "      <td>21</td>\n",
       "      <td>0.011633</td>\n",
       "      <td>215</td>\n",
       "      <td>576</td>\n",
       "    </tr>\n",
       "    <tr>\n",
       "      <th>1100</th>\n",
       "      <td>5</td>\n",
       "      <td>0.002584</td>\n",
       "      <td>215</td>\n",
       "      <td>576</td>\n",
       "    </tr>\n",
       "    <tr>\n",
       "      <th>1200</th>\n",
       "      <td>5</td>\n",
       "      <td>0.003092</td>\n",
       "      <td>215</td>\n",
       "      <td>576</td>\n",
       "    </tr>\n",
       "    <tr>\n",
       "      <th>1300</th>\n",
       "      <td>1</td>\n",
       "      <td>0.000698</td>\n",
       "      <td>215</td>\n",
       "      <td>576</td>\n",
       "    </tr>\n",
       "    <tr>\n",
       "      <th>1400</th>\n",
       "      <td>6</td>\n",
       "      <td>0.003092</td>\n",
       "      <td>215</td>\n",
       "      <td>576</td>\n",
       "    </tr>\n",
       "  </tbody>\n",
       "</table>\n",
       "</div>"
      ],
      "text/plain": [
       "       steps_in_trial  perf_time  population  numerosity\n",
       "trial                                                   \n",
       "0                   4   0.001063          16          16\n",
       "100                49   0.027437         212         422\n",
       "200                50   0.030009         215         514\n",
       "300                50   0.028584         215         534\n",
       "400                50   0.027829         215         574\n",
       "500                50   0.028523         215         574\n",
       "600                50   0.027707         215         574\n",
       "700                29   0.015213         215         574\n",
       "800                21   0.010864         215         574\n",
       "900                35   0.019886         215         574\n",
       "1000               21   0.011633         215         576\n",
       "1100                5   0.002584         215         576\n",
       "1200                5   0.003092         215         576\n",
       "1300                1   0.000698         215         576\n",
       "1400                6   0.003092         215         576"
      ]
     },
     "metadata": {},
     "output_type": "display_data"
    }
   ],
   "source": [
    "display(my_metrics)"
   ]
  },
  {
   "cell_type": "code",
   "execution_count": 15,
   "metadata": {},
   "outputs": [
    {
     "data": {
      "text/plain": [
       "<matplotlib.legend.Legend at 0x25601ebc788>"
      ]
     },
     "execution_count": 15,
     "metadata": {},
     "output_type": "execute_result"
    },
    {
     "data": {
      "image/png": "[encoded data removed]",
      "text/plain": [
       "<Figure size 432x288 with 1 Axes>"
      ]
     },
     "metadata": {
      "needs_background": "light"
     },
     "output_type": "display_data"
    }
   ],
   "source": [
    "import pandas as pd\n",
    "\n",
    "ax = my_metrics['steps_in_trial'].plot()\n",
    "ax.set_xlabel(\"trial\")\n",
    "ax.set_ylabel(\"steps in trial\")\n",
    "ax.legend([\"steps\"])\n"
   ]
  },
  {
   "cell_type": "code",
   "execution_count": 16,
   "metadata": {},
   "outputs": [
    {
     "data": {
      "text/plain": [
       "<matplotlib.legend.Legend at 0x25601f77dc8>"
      ]
     },
     "execution_count": 16,
     "metadata": {},
     "output_type": "execute_result"
    },
    {
     "data": {
      "image/png": "[encoded data removed]",
      "text/plain": [
       "<Figure size 432x288 with 1 Axes>"
      ]
     },
     "metadata": {
      "needs_background": "light"
     },
     "output_type": "display_data"
    }
   ],
   "source": [
    "ax = my_metrics[['numerosity', 'population']].plot()\n",
    "ax.set_xlabel(\"trial\")\n",
    "ax.set_ylabel(\"population\")\n",
    "ax.legend([\"numerosity\", \"number of rules\"])"
   ]
  },
  {
   "cell_type": "markdown",
   "metadata": {},
   "source": [
    "#### Conclusions\n",
    "None so far."
   ]
  },
  {
   "cell_type": "code",
   "execution_count": null,
   "metadata": {},
   "outputs": [],
   "source": []
  }
 ],
 "metadata": {
  "kernelspec": {
   "display_name": "Python 3",
   "language": "python",
   "name": "python3"
  },
  "language_info": {
   "codemirror_mode": {
    "name": "ipython",
    "version": 3
   },
   "file_extension": ".py",
   "mimetype": "text/x-python",
   "name": "python",
   "nbconvert_exporter": "python",
   "pygments_lexer": "ipython3",
   "version": "3.7.10"
  }
 },
 "nbformat": 4,
 "nbformat_minor": 4
}
