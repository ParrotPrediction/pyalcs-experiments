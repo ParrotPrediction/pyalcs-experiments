{
 "cells": [
  {
   "cell_type": "markdown",
   "metadata": {},
   "source": [
    "### XCS in Maze 5\n",
    "This experiment is meant to replicate An Analysis of Generalization in the XCS Classifier System Maze5 experiment. \n",
    "Due to differences in implementation I decided to run this experiment with my default values in hopes of that it will yield similar results this way. "
   ]
  },
  {
   "cell_type": "code",
   "execution_count": 2,
   "metadata": {},
   "outputs": [],
   "source": [
    "# logging \n",
    "import logging\n",
    "logging.basicConfig(level=logging.INFO)\n",
    "logger = logging.getLogger(__name__)\n",
    "\n",
    "import pandas as pd\n",
    "import numpy as np\n",
    "import matplotlib.pyplot as plt\n",
    "\n",
    "# environment setup\n",
    "import gym\n",
    "# noinspection PyUnresolvedReferences\n",
    "import gym_maze\n",
    "\n",
    "from lcs.agents.xcs import XCS, Configuration\n",
    "from utils.xcs_utils import *"
   ]
  },
  {
   "cell_type": "code",
   "execution_count": 3,
   "metadata": {},
   "outputs": [
    {
     "name": "stdout",
     "output_type": "stream",
     "text": [
      "This is how maze looks like\n",
      "\n",
      "\u001b[30m■\u001b[0m \u001b[30m■\u001b[0m \u001b[30m■\u001b[0m \u001b[30m■\u001b[0m \u001b[30m■\u001b[0m \u001b[30m■\u001b[0m \u001b[30m■\u001b[0m \u001b[30m■\u001b[0m\n",
      "\u001b[30m■\u001b[0m \u001b[37m□\u001b[0m \u001b[37m□\u001b[0m \u001b[30m■\u001b[0m \u001b[37m□\u001b[0m \u001b[37m□\u001b[0m \u001b[33m$\u001b[0m \u001b[30m■\u001b[0m\n",
      "\u001b[30m■\u001b[0m \u001b[30m■\u001b[0m \u001b[37m□\u001b[0m \u001b[37m□\u001b[0m \u001b[30m■\u001b[0m \u001b[37m□\u001b[0m \u001b[37m□\u001b[0m \u001b[30m■\u001b[0m\n",
      "\u001b[30m■\u001b[0m \u001b[30m■\u001b[0m \u001b[37m□\u001b[0m \u001b[30m■\u001b[0m \u001b[37m□\u001b[0m \u001b[37m□\u001b[0m \u001b[30m■\u001b[0m \u001b[30m■\u001b[0m\n",
      "\u001b[30m■\u001b[0m \u001b[37m□\u001b[0m \u001b[37m□\u001b[0m \u001b[37m□\u001b[0m \u001b[31mA\u001b[0m \u001b[37m□\u001b[0m \u001b[37m□\u001b[0m \u001b[30m■\u001b[0m\n",
      "\u001b[30m■\u001b[0m \u001b[30m■\u001b[0m \u001b[37m□\u001b[0m \u001b[30m■\u001b[0m \u001b[37m□\u001b[0m \u001b[37m□\u001b[0m \u001b[37m□\u001b[0m \u001b[30m■\u001b[0m\n",
      "\u001b[30m■\u001b[0m \u001b[37m□\u001b[0m \u001b[37m□\u001b[0m \u001b[37m□\u001b[0m \u001b[37m□\u001b[0m \u001b[30m■\u001b[0m \u001b[37m□\u001b[0m \u001b[30m■\u001b[0m\n",
      "\u001b[30m■\u001b[0m \u001b[30m■\u001b[0m \u001b[30m■\u001b[0m \u001b[30m■\u001b[0m \u001b[30m■\u001b[0m \u001b[30m■\u001b[0m \u001b[30m■\u001b[0m \u001b[30m■\u001b[0m\n"
     ]
    }
   ],
   "source": [
    "maze = gym.make('Maze4-v0')\n",
    "print(\"This is how maze looks like\")\n",
    "situation = maze.reset()\n",
    "maze.render()"
   ]
  },
  {
   "cell_type": "code",
   "execution_count": null,
   "metadata": {
    "scrolled": true
   },
   "outputs": [
    {
     "name": "stderr",
     "output_type": "stream",
     "text": [
      "INFO:lcs.agents.Agent:{'trial': 0, 'steps_in_trial': 50, 'reward': [2.4786035893814066e-08, 2.103715185466775e-08, 3.933899037348334e-08, 2.8035119847182056e-08, 2.0106829085699827e-08, 3.168486574625643e-08, 3.72801533812359e-08, 2.2195475247048022e-08], 'perf_time': 0.009912399999990384, 'population': 31, 'numerosity': 55}\n"
     ]
    },
    {
     "name": "stdout",
     "output_type": "stream",
     "text": [
      "Executing 0 experiment\n"
     ]
    },
    {
     "name": "stderr",
     "output_type": "stream",
     "text": [
      "INFO:lcs.agents.Agent:{'trial': 400, 'steps_in_trial': 11, 'reward': [192.249892874772, 26.931986152892236, 22.190624535826586, 20.981276831711654, 16.31917897337844, 13.662676650425665, 31.952498163145627, 19.987772937524518], 'perf_time': 0.0082487000000242, 'population': 129, 'numerosity': 1600}\n",
      "INFO:lcs.agents.Agent:{'trial': 800, 'steps_in_trial': 13, 'reward': [133.86926587417383, 252.60969653413588, 111.08589510751257, 27.14766120357823, 24.811219183234048, 33.05493123906132, 36.22602763109328, 26.191831848518063], 'perf_time': 0.012212000000005219, 'population': 177, 'numerosity': 1600}\n",
      "INFO:lcs.agents.Agent:{'trial': 1200, 'steps_in_trial': 23, 'reward': [202.15500169263512, 69.32414588368329, 28.732562971834348, 34.839076938464935, 40.49706742931872, 39.62085778532757, 35.87329514714048, 41.652567059059216], 'perf_time': 0.03006560000000036, 'population': 217, 'numerosity': 1600}\n",
      "INFO:lcs.agents.Agent:{'trial': 1600, 'steps_in_trial': 50, 'reward': [17.385558720493844, 7.259722479475583, 4.181280638273523, 6.554732434636562, 4.7148670652991305, 7.942508161027174, 8.14367268903134, 20.342532207230622], 'perf_time': 0.07322769999996126, 'population': 235, 'numerosity': 1600}\n",
      "INFO:lcs.agents.Agent:{'trial': 2000, 'steps_in_trial': 15, 'reward': [67.43004140498363, 62.92705494400509, 163.48453783294156, 63.5936852667624, 58.935104747061445, 46.40117727683138, 73.59202092585616, 49.886982937242195], 'perf_time': 0.02999229999994668, 'population': 254, 'numerosity': 1600}\n",
      "INFO:lcs.agents.Agent:{'trial': 2400, 'steps_in_trial': 48, 'reward': [133.57566133771837, 19.25117170379007, 48.04793446962558, 25.438739304102864, 24.166485326506578, 17.90232318483771, 17.910287921107265, 18.777149273685946], 'perf_time': 0.06905499999999165, 'population': 270, 'numerosity': 1600}\n",
      "INFO:lcs.agents.Agent:{'trial': 2800, 'steps_in_trial': 14, 'reward': [290.1310465173458, 70.95462660752747, 25.15931455002641, 47.24914207644388, 36.67198569183896, 35.49515084780444, 33.50971439062103, 23.77302940908314], 'perf_time': 0.01135229999999865, 'population': 257, 'numerosity': 1600}\n",
      "INFO:lcs.agents.Agent:{'trial': 3200, 'steps_in_trial': 3, 'reward': [122.43382078801, 267.9803403288335, 53.739040277455466, 54.910826572630505, 58.45444129386732, 67.64604253483076, 62.73103213328288, 51.94969944780014], 'perf_time': 0.0032487999999943895, 'population': 244, 'numerosity': 1600}\n",
      "INFO:lcs.agents.Agent:{'trial': 3600, 'steps_in_trial': 50, 'reward': [43.79871344727405, 74.58861874130534, 50.74540081741836, 41.96739045558935, 43.507349562417275, 49.65299506150686, 28.60643440296422, 41.96100501449158], 'perf_time': 0.054834599999992406, 'population': 262, 'numerosity': 1600}\n",
      "INFO:lcs.agents.Agent:{'trial': 0, 'steps_in_trial': 50, 'reward': [22.964194323607153, 19.590488646735487, 17.821273263975726, 37.64537252996056, 38.58276128734491, 19.96282696926985, 9.294564015261882, 23.592956377061093], 'perf_time': 0.03425539999994953, 'population': 268, 'numerosity': 1600}\n",
      "INFO:lcs.agents.Agent:{'trial': 100, 'steps_in_trial': 50, 'reward': [41.96012242527661, 35.93517664032958, 11.860882935995082, 12.939697671494693, 13.068752574502904, 11.125460782596411, 22.41016710020909, 21.45383931185263], 'perf_time': 0.031599399999947764, 'population': 269, 'numerosity': 1600}\n",
      "INFO:lcs.agents.Agent:{'trial': 200, 'steps_in_trial': 50, 'reward': [43.2783459663675, 90.75857957387746, 11.860882935995082, 12.939697671494693, 13.068752574502904, 11.125460782596411, 58.202826141189966, 43.033221732350086], 'perf_time': 0.033915200000024015, 'population': 269, 'numerosity': 1600}\n",
      "INFO:lcs.agents.Agent:{'trial': 300, 'steps_in_trial': 50, 'reward': [43.16773690795854, 124.05087071991682, 11.860882935995082, 12.939697671494693, 13.068752574502904, 11.125460782596411, 84.9861471935618, 60.9081080435192], 'perf_time': 0.036603299999967476, 'population': 269, 'numerosity': 1600}\n",
      "INFO:lcs.agents.Agent:{'trial': 400, 'steps_in_trial': 50, 'reward': [41.96211072262627, 168.70652617850854, 11.860882935995082, 12.939697671494693, 13.068752574502904, 11.125460782596411, 123.62661420964007, 76.01526204892393], 'perf_time': 0.03156979999999976, 'population': 269, 'numerosity': 1600}\n",
      "INFO:lcs.agents.Agent:{'trial': 500, 'steps_in_trial': 50, 'reward': [43.2783459663675, 224.86796718043567, 11.860882935995082, 12.939697671494693, 13.068752574502904, 11.125460782596411, 145.10087786849732, 88.42719510213168], 'perf_time': 0.043965300000024854, 'population': 269, 'numerosity': 1600}\n",
      "INFO:lcs.agents.Agent:{'trial': 600, 'steps_in_trial': 50, 'reward': [43.16773690795854, 248.176389135676, 11.860882935995082, 12.939697671494693, 13.068752574502904, 11.125460782596411, 204.85426024627517, 99.95364920370247], 'perf_time': 0.03321809999999914, 'population': 269, 'numerosity': 1600}\n",
      "INFO:lcs.agents.Agent:{'trial': 700, 'steps_in_trial': 50, 'reward': [41.96211072262627, 262.98137261930543, 11.860882935995082, 12.939697671494693, 13.068752574502904, 11.125460782596411, 253.27813320351902, 111.28103995075587], 'perf_time': 0.0334231999999588, 'population': 269, 'numerosity': 1600}\n",
      "INFO:lcs.agents.Agent:{'trial': 800, 'steps_in_trial': 50, 'reward': [43.2783459663675, 318.550939741451, 11.860882935995082, 12.939697671494693, 13.068752574502904, 11.125460782596411, 290.8125425353441, 124.34559977146385], 'perf_time': 0.035920399999952224, 'population': 269, 'numerosity': 1600}\n",
      "INFO:lcs.agents.Agent:{'trial': 900, 'steps_in_trial': 50, 'reward': [43.16773690795854, 342.1853542117973, 11.860882935995082, 12.939697671494693, 13.068752574502904, 11.125460782596411, 323.643774443642, 136.77661047776843], 'perf_time': 0.035716999999976906, 'population': 269, 'numerosity': 1600}\n",
      "INFO:lcs.agents.Agent:{'trial': 0, 'steps_in_trial': 46, 'reward': [1.6548022247499014e-08, 100.00000003128785, 2.847751161083169e-08, 1.839999941468484e-08, 2.8493697759591003e-08, 9.213413595652578e-09, 4.0175001158005735e-08, 3.2022614663140636e-08], 'perf_time': 0.00920450000000983, 'population': 34, 'numerosity': 50}\n"
     ]
    },
    {
     "name": "stdout",
     "output_type": "stream",
     "text": [
      "Executing 1 experiment\n"
     ]
    },
    {
     "name": "stderr",
     "output_type": "stream",
     "text": [
      "INFO:lcs.agents.Agent:{'trial': 400, 'steps_in_trial': 50, 'reward': [49.00961778467261, 64.50762644085759, 29.47468536645948, 54.73970761685219, 58.4310494016315, 52.10349059120672, 53.455571627787855, 57.184789203382394], 'perf_time': 0.0340820999999778, 'population': 140, 'numerosity': 1600}\n",
      "INFO:lcs.agents.Agent:{'trial': 800, 'steps_in_trial': 50, 'reward': [95.66607826369977, 99.25735272070943, 86.08740198905025, 100.03968078143936, 95.17013302170523, 71.25877744650279, 91.65480830220858, 93.95127218176061], 'perf_time': 0.041144299999984923, 'population': 198, 'numerosity': 1600}\n",
      "INFO:lcs.agents.Agent:{'trial': 1200, 'steps_in_trial': 50, 'reward': [38.463824310839165, 113.6670271081694, 41.124174848646284, 40.054776219961646, 36.40078163999772, 41.96335616417129, 32.884863751189165, 37.357518675413004], 'perf_time': 0.06874570000002223, 'population': 220, 'numerosity': 1600}\n",
      "INFO:lcs.agents.Agent:{'trial': 1600, 'steps_in_trial': 29, 'reward': [164.35178429882404, 47.57054176904981, 45.475022657577306, 47.20882821819073, 54.13333994351864, 66.61056453333255, 58.63475392814412, 63.50235989731425], 'perf_time': 0.0410837000000015, 'population': 238, 'numerosity': 1600}\n",
      "INFO:lcs.agents.Agent:{'trial': 2000, 'steps_in_trial': 38, 'reward': [144.61674089546204, 108.93549885267885, 48.83293475284978, 31.776397463019837, 32.625703726951706, 43.861776369017065, 27.631086356004634, 42.64518643796308], 'perf_time': 0.04907580000002554, 'population': 251, 'numerosity': 1600}\n",
      "INFO:lcs.agents.Agent:{'trial': 2400, 'steps_in_trial': 11, 'reward': [38.66246547014015, 38.21531880232136, 136.31834200105538, 32.79136759906458, 36.38301804916878, 35.09720321927145, 35.29757254237806, 32.746668340913786], 'perf_time': 0.020472199999971963, 'population': 269, 'numerosity': 1600}\n",
      "INFO:lcs.agents.Agent:{'trial': 2800, 'steps_in_trial': 50, 'reward': [6.471563101414737, 2.9923599917052983, 3.3576745026186865, 1.5280261035948985, 3.4897989228568185, 1.7354023743017455, 4.427308189348445, 14.216995370700657], 'perf_time': 0.04996289999996861, 'population': 267, 'numerosity': 1600}\n",
      "INFO:lcs.agents.Agent:{'trial': 3200, 'steps_in_trial': 38, 'reward': [171.03317481737776, 77.61015516013919, 144.8573225105397, 57.804942469601734, 57.52921041807283, 55.38538071834971, 64.14106598525274, 49.80024277999519], 'perf_time': 0.05387729999995372, 'population': 263, 'numerosity': 1600}\n",
      "INFO:lcs.agents.Agent:{'trial': 3600, 'steps_in_trial': 50, 'reward': [88.91078503980904, 83.40080624275967, 124.97448672474947, 48.76336263368567, 50.914103194671966, 57.93531033919993, 49.66371108075291, 56.31407802490018], 'perf_time': 0.0765039999999999, 'population': 300, 'numerosity': 1600}\n",
      "INFO:lcs.agents.Agent:{'trial': 0, 'steps_in_trial': 50, 'reward': [10.876160746288562, 12.421130285176602, 17.552683852856713, 15.670669947093877, 10.640782105877207, 5.630188136502136, 1.3976353949517855, 9.066697749271258], 'perf_time': 0.03419459999997798, 'population': 275, 'numerosity': 1600}\n",
      "INFO:lcs.agents.Agent:{'trial': 100, 'steps_in_trial': 50, 'reward': [48.90125288849559, 6.904800105777069, 19.002404398017802, 12.746442482741415, 80.20514108414474, 40.82603958252742, 26.612755549327325, 14.353675053469976], 'perf_time': 0.03606950000005327, 'population': 275, 'numerosity': 1600}\n",
      "INFO:lcs.agents.Agent:{'trial': 200, 'steps_in_trial': 50, 'reward': [47.49859635187388, 6.904800105777069, 19.002404398017802, 12.746442482741415, 92.86591835751952, 40.82603958252742, 26.612755549327325, 14.353675053469976], 'perf_time': 0.04058579999991707, 'population': 275, 'numerosity': 1600}\n",
      "INFO:lcs.agents.Agent:{'trial': 300, 'steps_in_trial': 50, 'reward': [47.23249982997278, 6.904800105777069, 19.002404398017802, 12.746442482741415, 97.04261015792775, 40.82603958252742, 26.612755549327325, 14.353675053469976], 'perf_time': 0.03547229999992396, 'population': 275, 'numerosity': 1600}\n",
      "INFO:lcs.agents.Agent:{'trial': 400, 'steps_in_trial': 50, 'reward': [47.213396814212295, 6.904800105777069, 19.002404398017802, 12.746442482741415, 111.6792039253462, 40.82603958252742, 26.612755549327325, 14.353675053469976], 'perf_time': 0.03990169999997306, 'population': 275, 'numerosity': 1600}\n",
      "INFO:lcs.agents.Agent:{'trial': 500, 'steps_in_trial': 50, 'reward': [47.212025412554965, 6.904800105777069, 19.002404398017802, 12.746442482741415, 109.5946437348438, 40.82603958252742, 26.612755549327325, 14.353675053469976], 'perf_time': 0.03621080000004895, 'population': 275, 'numerosity': 1600}\n",
      "INFO:lcs.agents.Agent:{'trial': 600, 'steps_in_trial': 50, 'reward': [47.21192695990594, 6.904800105777069, 19.002404398017802, 12.746442482741415, 126.91449949922608, 40.82603958252742, 26.612755549327325, 14.353675053469976], 'perf_time': 0.055119900000022426, 'population': 275, 'numerosity': 1600}\n",
      "INFO:lcs.agents.Agent:{'trial': 700, 'steps_in_trial': 50, 'reward': [47.211919892010094, 6.904800105777069, 19.002404398017802, 12.746442482741415, 96.02883042561409, 40.82603958252742, 26.612755549327325, 14.353675053469976], 'perf_time': 0.03591349999999238, 'population': 275, 'numerosity': 1600}\n",
      "INFO:lcs.agents.Agent:{'trial': 800, 'steps_in_trial': 50, 'reward': [47.21191938460727, 6.904800105777069, 19.002404398017802, 12.746442482741415, 50.716475568348024, 40.82603958252742, 26.612755549327325, 14.353675053469976], 'perf_time': 0.03640490000009322, 'population': 275, 'numerosity': 1600}\n",
      "INFO:lcs.agents.Agent:{'trial': 900, 'steps_in_trial': 50, 'reward': [47.21191934818093, 6.904800105777069, 19.002404398017802, 12.746442482741415, 47.46351073138699, 40.82603958252742, 26.612755549327325, 14.353675053469976], 'perf_time': 0.03584369999998671, 'population': 275, 'numerosity': 1600}\n",
      "INFO:lcs.agents.Agent:{'trial': 0, 'steps_in_trial': 43, 'reward': [1.4698038764122936e-08, 100.00000003340615, 1.1972775321371993e-08, 3.103763400468129e-08, 1.8716889780254748e-08, 7.88990682456302e-09, 1.9196449151887155e-08, 7.1719316673371326e-09], 'perf_time': 0.007698000000004868, 'population': 29, 'numerosity': 41}\n"
     ]
    },
    {
     "name": "stdout",
     "output_type": "stream",
     "text": [
      "Executing 2 experiment\n"
     ]
    },
    {
     "name": "stderr",
     "output_type": "stream",
     "text": [
      "INFO:lcs.agents.Agent:{'trial': 400, 'steps_in_trial': 50, 'reward': [133.7996189129713, 47.973032459405935, 45.447683222016884, 46.74760497837577, 38.5098971025024, 46.06877768546307, 45.06557636959899, 35.462351552089224], 'perf_time': 0.043370399999957954, 'population': 170, 'numerosity': 1600}\n",
      "INFO:lcs.agents.Agent:{'trial': 800, 'steps_in_trial': 17, 'reward': [93.16510139357176, 158.54219067148617, 56.77234543436286, 31.29052639758666, 40.890993904933, 33.085763902250065, 39.33076142113749, 36.09778250834841], 'perf_time': 0.020786300000054325, 'population': 208, 'numerosity': 1600}\n",
      "INFO:lcs.agents.Agent:{'trial': 1200, 'steps_in_trial': 12, 'reward': [29.694281376972043, 17.002294104076707, 122.9005784390147, 13.482770247679545, 14.685230141879485, 12.566152338789994, 19.80740130653421, 12.9186205181667], 'perf_time': 0.015276800000037838, 'population': 225, 'numerosity': 1600}\n",
      "INFO:lcs.agents.Agent:{'trial': 1600, 'steps_in_trial': 11, 'reward': [29.08969590308703, 170.84452886638593, 53.36500336510805, 32.87736730946297, 34.85323432273628, 37.09350514133978, 23.920490700709657, 35.869346047177245], 'perf_time': 0.013749200000006567, 'population': 230, 'numerosity': 1600}\n",
      "INFO:lcs.agents.Agent:{'trial': 2000, 'steps_in_trial': 50, 'reward': [73.08061576609077, 55.07181785127997, 72.9200091557745, 58.21927582687477, 69.98627472143164, 82.30940942660268, 57.1337596213986, 56.21587704886265], 'perf_time': 0.06954849999999624, 'population': 255, 'numerosity': 1600}\n",
      "INFO:lcs.agents.Agent:{'trial': 2400, 'steps_in_trial': 5, 'reward': [221.80311235763986, 134.0380828328639, 142.87361011231496, 35.14886042490954, 50.186817949920815, 40.8821209096631, 38.41177906837382, 52.61067082174361], 'perf_time': 0.004535099999998238, 'population': 256, 'numerosity': 1600}\n",
      "INFO:lcs.agents.Agent:{'trial': 2800, 'steps_in_trial': 50, 'reward': [43.48457575859103, 59.87330579147406, 76.6216222069663, 90.542582220527, 78.19365878153472, 42.278592251571425, 42.77956683783183, 52.92107328076834], 'perf_time': 0.056932899999992514, 'population': 263, 'numerosity': 1600}\n",
      "INFO:lcs.agents.Agent:{'trial': 3200, 'steps_in_trial': 35, 'reward': [45.038454493165084, 131.05362608569627, 128.11514072372674, 37.00208793718265, 34.39309777316051, 34.24700251448614, 31.08237801161367, 48.138971894365824], 'perf_time': 0.05391090000000531, 'population': 278, 'numerosity': 1600}\n",
      "INFO:lcs.agents.Agent:{'trial': 3600, 'steps_in_trial': 16, 'reward': [77.78493646338542, 126.6373081507731, 129.40631431513793, 27.226956166377224, 32.7800091578352, 17.791500339633004, 33.13136800879297, 21.83316457897589], 'perf_time': 0.016536599999994905, 'population': 266, 'numerosity': 1600}\n",
      "INFO:lcs.agents.Agent:{'trial': 0, 'steps_in_trial': 50, 'reward': [0, 7.935437939967491, 39.32666574566197, 29.16929828947663, 36.641250187672725, 39.599911070163756, 19.16365658397643, 34.129346930919844], 'perf_time': 0.03807440000002771, 'population': 277, 'numerosity': 1600}\n",
      "INFO:lcs.agents.Agent:{'trial': 100, 'steps_in_trial': 4, 'reward': [18.79729363886293, 437.71738487544417, 7.796414237618071, 16.400578639488558, 10.579479432667432, 10.320602146923138, 18.27014251081137, 22.897538426502045], 'perf_time': 0.0027982999999949243, 'population': 277, 'numerosity': 1600}\n",
      "INFO:lcs.agents.Agent:{'trial': 200, 'steps_in_trial': 4, 'reward': [18.79729363886293, 394.1442786662953, 7.796414237618071, 16.400578639488558, 10.579479432667432, 10.320602146923138, 28.711823237925575, 22.897538426502045], 'perf_time': 0.0027914999999438805, 'population': 277, 'numerosity': 1600}\n",
      "INFO:lcs.agents.Agent:{'trial': 300, 'steps_in_trial': 4, 'reward': [18.79729363886293, 394.03228018386307, 7.796414237618071, 16.400578639488558, 10.579479432667432, 10.320602146923138, 20.98195882540104, 22.897538426502045], 'perf_time': 0.0026734000000487868, 'population': 277, 'numerosity': 1600}\n",
      "INFO:lcs.agents.Agent:{'trial': 400, 'steps_in_trial': 4, 'reward': [18.79729363886293, 394.8374951291781, 7.796414237618071, 16.400578639488558, 10.579479432667432, 10.320602146923138, 47.612973712357274, 22.897538426502045], 'perf_time': 0.0028141000000232452, 'population': 277, 'numerosity': 1600}\n",
      "INFO:lcs.agents.Agent:{'trial': 500, 'steps_in_trial': 4, 'reward': [18.79729363886293, 435.1995485444507, 7.796414237618071, 16.400578639488558, 10.579479432667432, 10.320602146923138, 69.0922032232651, 22.897538426502045], 'perf_time': 0.0029746000000159256, 'population': 277, 'numerosity': 1600}\n",
      "INFO:lcs.agents.Agent:{'trial': 600, 'steps_in_trial': 4, 'reward': [18.79729363886293, 448.3983931789241, 7.796414237618071, 16.400578639488558, 10.579479432667432, 10.320602146923138, 40.46800410943401, 22.897538426502045], 'perf_time': 0.002999899999963418, 'population': 277, 'numerosity': 1600}\n",
      "INFO:lcs.agents.Agent:{'trial': 700, 'steps_in_trial': 4, 'reward': [18.79729363886293, 452.56574952268824, 7.796414237618071, 16.400578639488558, 10.579479432667432, 10.320602146923138, 71.76927132923092, 22.897538426502045], 'perf_time': 0.0029978999999684675, 'population': 277, 'numerosity': 1600}\n",
      "INFO:lcs.agents.Agent:{'trial': 800, 'steps_in_trial': 4, 'reward': [18.79729363886293, 451.19739816377967, 7.796414237618071, 16.400578639488558, 10.579479432667432, 10.320602146923138, 42.04885285333053, 22.897538426502045], 'perf_time': 0.0031390000000328655, 'population': 277, 'numerosity': 1600}\n",
      "INFO:lcs.agents.Agent:{'trial': 900, 'steps_in_trial': 4, 'reward': [18.79729363886293, 394.00003331108013, 7.796414237618071, 16.400578639488558, 10.579479432667432, 10.320602146923138, 46.11927144996678, 22.897538426502045], 'perf_time': 0.0028088999999908992, 'population': 277, 'numerosity': 1600}\n",
      "INFO:lcs.agents.Agent:{'trial': 0, 'steps_in_trial': 50, 'reward': [1.702606745942226e-08, 3.337702575715843e-08, 4.022228310506651e-08, 1.7081412632690127e-08, 3.052601161189198e-08, 9.228668074526546e-09, 2.4874363702785293e-08, 3.8671892994462025e-08], 'perf_time': 0.01183770000000095, 'population': 43, 'numerosity': 55}\n"
     ]
    },
    {
     "name": "stdout",
     "output_type": "stream",
     "text": [
      "Executing 3 experiment\n"
     ]
    },
    {
     "name": "stderr",
     "output_type": "stream",
     "text": [
      "INFO:lcs.agents.Agent:{'trial': 400, 'steps_in_trial': 14, 'reward': [20.388608711146162, 142.21346623438637, 101.31224687961449, 23.565721377892125, 27.548862370785894, 24.055166560652864, 15.626725533276113, 22.107131001927584], 'perf_time': 0.014004599999907441, 'population': 144, 'numerosity': 1600}\n",
      "INFO:lcs.agents.Agent:{'trial': 800, 'steps_in_trial': 50, 'reward': [124.48236409551029, 66.94232826569865, 59.90385096883716, 64.34524332257867, 73.9936587356448, 73.57131059875344, 62.769132772832464, 58.68775027227248], 'perf_time': 0.04527949999999237, 'population': 192, 'numerosity': 1600}\n",
      "INFO:lcs.agents.Agent:{'trial': 1200, 'steps_in_trial': 19, 'reward': [56.71827826015375, 196.60825075091694, 61.378263352272995, 58.1477390279744, 55.863434426750246, 50.62048060421538, 46.89601145752426, 58.02365866433595], 'perf_time': 0.025555299999950876, 'population': 224, 'numerosity': 1600}\n",
      "INFO:lcs.agents.Agent:{'trial': 1600, 'steps_in_trial': 19, 'reward': [41.982580952278084, 239.0638931627788, 39.40875465732016, 44.69249895871119, 39.18506609452847, 47.84127323643807, 31.746732719196967, 44.462488154178395], 'perf_time': 0.018707199999994373, 'population': 227, 'numerosity': 1600}\n",
      "INFO:lcs.agents.Agent:{'trial': 2000, 'steps_in_trial': 50, 'reward': [69.75610676974844, 63.043526620181446, 61.83792203657703, 61.857266737105476, 78.35856194657273, 59.12787337328712, 55.180073276392044, 71.69174636831293], 'perf_time': 0.06751250000002074, 'population': 256, 'numerosity': 1600}\n",
      "INFO:lcs.agents.Agent:{'trial': 2400, 'steps_in_trial': 50, 'reward': [48.35465884241882, 34.538336531972, 28.907939412733374, 43.15804028531008, 63.863294511468965, 39.52408859298028, 47.294922323933626, 39.39822594526861], 'perf_time': 0.0680657999999994, 'population': 261, 'numerosity': 1600}\n",
      "INFO:lcs.agents.Agent:{'trial': 2800, 'steps_in_trial': 22, 'reward': [29.89374214388964, 19.005686841441022, 563.9511472581387, 26.714288092588927, 32.317576602629984, 33.73991337599275, 27.781154996687693, 35.46705205232614], 'perf_time': 0.020844000000010965, 'population': 274, 'numerosity': 1600}\n",
      "INFO:lcs.agents.Agent:{'trial': 3200, 'steps_in_trial': 50, 'reward': [60.389938606724726, 163.1231811385494, 71.92221037033572, 65.22207201113575, 57.943004448843645, 61.50451889019013, 68.73745926642329, 44.32308662079949], 'perf_time': 0.06472550000000865, 'population': 273, 'numerosity': 1600}\n",
      "INFO:lcs.agents.Agent:{'trial': 3600, 'steps_in_trial': 13, 'reward': [177.10190870465266, 55.60253767626497, 24.234579792580945, 17.945730808098446, 15.742800623511453, 20.762216039707297, 19.74332075863749, 21.05820165333263], 'perf_time': 0.01914800000008654, 'population': 279, 'numerosity': 1600}\n",
      "INFO:lcs.agents.Agent:{'trial': 0, 'steps_in_trial': 50, 'reward': [10.132921886706379, 10.570514516728403, 18.593008656618903, 7.572813891634311, 11.325776918595421, 13.26162361121859, 14.558398160587123, 16.087797104209898], 'perf_time': 0.039285599999971055, 'population': 251, 'numerosity': 1600}\n",
      "INFO:lcs.agents.Agent:{'trial': 100, 'steps_in_trial': 50, 'reward': [23.314975250138403, 65.14259696038712, 16.21979907619884, 33.13775336973347, 12.54116307112888, 13.22485921548294, 17.68765285270435, 31.57355647277657], 'perf_time': 0.03476639999996678, 'population': 251, 'numerosity': 1600}\n",
      "INFO:lcs.agents.Agent:{'trial': 200, 'steps_in_trial': 50, 'reward': [23.314975250138403, 53.107722500532596, 16.21979907619884, 33.13775336973347, 12.54116307112888, 13.22485921548294, 17.68765285270435, 31.57355647277657], 'perf_time': 0.033799600000065766, 'population': 251, 'numerosity': 1600}\n",
      "INFO:lcs.agents.Agent:{'trial': 300, 'steps_in_trial': 50, 'reward': [23.314975250138403, 69.05303706201211, 16.21979907619884, 33.13775336973347, 12.54116307112888, 13.22485921548294, 17.68765285270435, 31.57355647277657], 'perf_time': 0.03156290000003992, 'population': 251, 'numerosity': 1600}\n",
      "INFO:lcs.agents.Agent:{'trial': 400, 'steps_in_trial': 50, 'reward': [23.314975250138403, 65.13546406120048, 16.21979907619884, 33.13775336973347, 12.54116307112888, 13.22485921548294, 17.68765285270435, 31.57355647277657], 'perf_time': 0.03248180000002776, 'population': 251, 'numerosity': 1600}\n",
      "INFO:lcs.agents.Agent:{'trial': 500, 'steps_in_trial': 50, 'reward': [23.314975250138403, 53.10772225073497, 16.21979907619884, 33.13775336973347, 12.54116307112888, 13.22485921548294, 17.68765285270435, 31.57355647277657], 'perf_time': 0.03180720000000292, 'population': 251, 'numerosity': 1600}\n",
      "INFO:lcs.agents.Agent:{'trial': 600, 'steps_in_trial': 50, 'reward': [23.314975250138403, 69.05303706197189, 16.21979907619884, 33.13775336973347, 12.54116307112888, 13.22485921548294, 17.68765285270435, 31.57355647277657], 'perf_time': 0.03722620000007737, 'population': 251, 'numerosity': 1600}\n",
      "INFO:lcs.agents.Agent:{'trial': 700, 'steps_in_trial': 50, 'reward': [23.314975250138403, 65.13546406120048, 16.21979907619884, 33.13775336973347, 12.54116307112888, 13.22485921548294, 17.68765285270435, 31.57355647277657], 'perf_time': 0.033311499999967964, 'population': 251, 'numerosity': 1600}\n",
      "INFO:lcs.agents.Agent:{'trial': 800, 'steps_in_trial': 50, 'reward': [23.314975250138403, 53.10772225073497, 16.21979907619884, 33.13775336973347, 12.54116307112888, 13.22485921548294, 17.68765285270435, 31.57355647277657], 'perf_time': 0.03837010000006558, 'population': 251, 'numerosity': 1600}\n",
      "INFO:lcs.agents.Agent:{'trial': 900, 'steps_in_trial': 50, 'reward': [23.314975250138403, 69.05303706197189, 16.21979907619884, 33.13775336973347, 12.54116307112888, 13.22485921548294, 17.68765285270435, 31.57355647277657], 'perf_time': 0.034794499999975415, 'population': 251, 'numerosity': 1600}\n",
      "INFO:lcs.agents.Agent:{'trial': 0, 'steps_in_trial': 50, 'reward': [2.7293731277514354e-08, 2.9145162635450294e-08, 2.691839809634338e-08, 2.0573677461960416e-08, 5.336936225039312e-08, 3.658419324029175e-08, 2.4166062013286972e-08, 3.9015934625321394e-08], 'perf_time': 0.014218400000004294, 'population': 39, 'numerosity': 63}\n"
     ]
    },
    {
     "name": "stdout",
     "output_type": "stream",
     "text": [
      "Executing 4 experiment\n"
     ]
    },
    {
     "name": "stderr",
     "output_type": "stream",
     "text": [
      "INFO:lcs.agents.Agent:{'trial': 400, 'steps_in_trial': 49, 'reward': [220.38262385360872, 21.198940210966207, 12.657740825553168, 10.583220403166186, 10.706828644888901, 29.663808500597202, 13.039804647658482, 25.70014032316859], 'perf_time': 0.030226599999991777, 'population': 131, 'numerosity': 1600}\n",
      "INFO:lcs.agents.Agent:{'trial': 800, 'steps_in_trial': 50, 'reward': [112.39602674754661, 34.95496379742707, 43.97103747929562, 44.26482590325977, 47.43020693445715, 40.34614633981285, 50.98214542941025, 34.5041527824887], 'perf_time': 0.04808900000000449, 'population': 188, 'numerosity': 1600}\n",
      "INFO:lcs.agents.Agent:{'trial': 1200, 'steps_in_trial': 36, 'reward': [60.77666303059567, 81.64779362883667, 200.46600902699444, 51.86158739098585, 40.833823500254766, 35.34016461611583, 49.98398438140457, 58.49117568771261], 'perf_time': 0.03764990000001944, 'population': 214, 'numerosity': 1600}\n",
      "INFO:lcs.agents.Agent:{'trial': 1600, 'steps_in_trial': 50, 'reward': [51.154145415111444, 39.17739916392958, 36.08499157732464, 39.65408719422858, 64.71777431554207, 48.39531212255991, 41.90504912343571, 39.63169462189046], 'perf_time': 0.070057499999848, 'population': 240, 'numerosity': 1600}\n",
      "INFO:lcs.agents.Agent:{'trial': 2000, 'steps_in_trial': 50, 'reward': [17.30105103182993, 18.489326427818842, 19.48311319848976, 20.800884017473777, 14.955206589264149, 16.048350653444825, 13.873020354640866, 17.777040090130924], 'perf_time': 0.08274920000008024, 'population': 263, 'numerosity': 1600}\n",
      "INFO:lcs.agents.Agent:{'trial': 2400, 'steps_in_trial': 47, 'reward': [216.33632620844804, 38.47431652950688, 62.96531179644565, 35.99135577873798, 46.32138648531296, 48.02675797232942, 46.81987773782946, 36.23679823486306], 'perf_time': 0.056289800000058676, 'population': 248, 'numerosity': 1600}\n",
      "INFO:lcs.agents.Agent:{'trial': 2800, 'steps_in_trial': 50, 'reward': [29.796302503040096, 12.81758665936368, 17.049150898324804, 13.97616945316853, 13.568688002360714, 16.54048140506074, 16.185478313909865, 50.44592322927109], 'perf_time': 0.05269980000002761, 'population': 245, 'numerosity': 1600}\n",
      "INFO:lcs.agents.Agent:{'trial': 3200, 'steps_in_trial': 50, 'reward': [150.83473273671552, 65.20875546322742, 27.366210225263174, 23.411749815978865, 25.22493726316218, 20.567306022927326, 19.752424956137144, 24.40874904700699], 'perf_time': 0.06906100000014703, 'population': 259, 'numerosity': 1600}\n",
      "INFO:lcs.agents.Agent:{'trial': 3600, 'steps_in_trial': 8, 'reward': [245.11795002205798, 155.70990456561933, 72.29568416494982, 30.46619216609684, 40.3782157806389, 36.784332657735746, 39.000240570976686, 40.305535253332835], 'perf_time': 0.013915100000076563, 'population': 268, 'numerosity': 1600}\n",
      "INFO:lcs.agents.Agent:{'trial': 0, 'steps_in_trial': 50, 'reward': [97.01259205356708, 0, 0, 0, 0, 0, 0, 0], 'perf_time': 0.037389500000017506, 'population': 266, 'numerosity': 1600}\n",
      "INFO:lcs.agents.Agent:{'trial': 100, 'steps_in_trial': 50, 'reward': [106.41238739001632, 0, 0, 0, 0, 0, 0, 0], 'perf_time': 0.03627599999981612, 'population': 266, 'numerosity': 1600}\n",
      "INFO:lcs.agents.Agent:{'trial': 200, 'steps_in_trial': 50, 'reward': [106.41238739001632, 0, 0, 0, 0, 0, 0, 0], 'perf_time': 0.03757919999998194, 'population': 266, 'numerosity': 1600}\n",
      "INFO:lcs.agents.Agent:{'trial': 300, 'steps_in_trial': 50, 'reward': [106.41238739001632, 0, 0, 0, 0, 0, 0, 0], 'perf_time': 0.03654310000001715, 'population': 266, 'numerosity': 1600}\n",
      "INFO:lcs.agents.Agent:{'trial': 400, 'steps_in_trial': 50, 'reward': [106.41238739001632, 0, 0, 0, 0, 0, 0, 0], 'perf_time': 0.03767040000002453, 'population': 266, 'numerosity': 1600}\n",
      "INFO:lcs.agents.Agent:{'trial': 500, 'steps_in_trial': 50, 'reward': [106.41238739001632, 0, 0, 0, 0, 0, 0, 0], 'perf_time': 0.037464499999941836, 'population': 266, 'numerosity': 1600}\n",
      "INFO:lcs.agents.Agent:{'trial': 600, 'steps_in_trial': 50, 'reward': [106.41238739001632, 0, 0, 0, 0, 0, 0, 0], 'perf_time': 0.03526380000016616, 'population': 266, 'numerosity': 1600}\n",
      "INFO:lcs.agents.Agent:{'trial': 700, 'steps_in_trial': 50, 'reward': [106.41238739001632, 0, 0, 0, 0, 0, 0, 0], 'perf_time': 0.037461200000052486, 'population': 266, 'numerosity': 1600}\n",
      "INFO:lcs.agents.Agent:{'trial': 800, 'steps_in_trial': 50, 'reward': [106.41238739001632, 0, 0, 0, 0, 0, 0, 0], 'perf_time': 0.03669450000006691, 'population': 266, 'numerosity': 1600}\n"
     ]
    }
   ],
   "source": [
    "cfg = Configuration(number_of_actions=8,\n",
    "                    max_population=1600,\n",
    "                    metrics_trial_frequency=100,\n",
    "                    user_metrics_collector_fcn=xcs_metrics)\n",
    "\n",
    "explore_trials = 4000\n",
    "\n",
    "df = avg_experiment(maze,\n",
    "                    cfg,\n",
    "                    number_of_tests=5,\n",
    "                    explore_trials=4000,\n",
    "                    exploit_metrics=1000)"
   ]
  },
  {
   "cell_type": "code",
   "execution_count": null,
   "metadata": {},
   "outputs": [],
   "source": [
    "display(df)"
   ]
  },
  {
   "cell_type": "code",
   "execution_count": null,
   "metadata": {},
   "outputs": [],
   "source": [
    "ax = df[['numerosity', 'population']].plot()\n",
    "ax.set_xlabel(\"trial\")\n",
    "ax.set_ylabel(\"population\")\n",
    "ax.legend([\"numerosity\", \"number of rules\"])\n",
    "\n",
    "plt.show()"
   ]
  },
  {
   "cell_type": "markdown",
   "metadata": {},
   "source": [
    "It is hard to say but oking at amount of times algorithm reaches top steps (50) the steps might actually go down over trials.  need to somehow smooth it to see it better"
   ]
  },
  {
   "cell_type": "code",
   "execution_count": null,
   "metadata": {},
   "outputs": [],
   "source": [
    "ax = df['steps_in_trial'].plot()\n",
    "ax.set_xlabel(\"trial\")\n",
    "ax.set_ylabel(\"steps in trial\")\n",
    "ax.legend([\"steps\"])"
   ]
  },
  {
   "cell_type": "markdown",
   "metadata": {},
   "source": [
    "### Conclusion\n",
    "The results of my implementation of the XCS aredifferent compared to An Analysis of Generalization in the XCS\n",
    "Classifier System. \n",
    "Unfortunately from 10 experiments my algorithm managed to fail to solve the maze as well as the one presented in An Analysis of Generalization in the XCS Classifier System. With exploitation not really going down below 50 steps, where it should be easily below 50.\n",
    "It can be caused by differences in implementation or envirement I am unaware of.\n",
    "<br />\n",
    "Unfortunately I cannot find metrics or issues that could showcase what causes what said diffrences are."
   ]
  },
  {
   "cell_type": "code",
   "execution_count": null,
   "metadata": {},
   "outputs": [],
   "source": []
  }
 ],
 "metadata": {
  "kernelspec": {
   "display_name": "Python 3",
   "language": "python",
   "name": "python3"
  },
  "language_info": {
   "codemirror_mode": {
    "name": "ipython",
    "version": 3
   },
   "file_extension": ".py",
   "mimetype": "text/x-python",
   "name": "python",
   "nbconvert_exporter": "python",
   "pygments_lexer": "ipython3",
   "version": "3.7.10"
  }
 },
 "nbformat": 4,
 "nbformat_minor": 4
}
