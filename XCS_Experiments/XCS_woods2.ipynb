{
 "cells": [
  {
   "cell_type": "markdown",
   "metadata": {},
   "source": [
    "### XCS in Woods 14\n",
    "This experiment is meant to replicate An Analysis of Generalization in the XCS Classifier System Wood14 version without generalization"
   ]
  },
  {
   "cell_type": "code",
   "execution_count": 1,
   "metadata": {},
   "outputs": [],
   "source": [
    "# logging \n",
    "import logging\n",
    "logging.basicConfig(level=logging.INFO)\n",
    "logger = logging.getLogger(__name__)\n",
    "\n",
    "import pandas as pd\n",
    "import numpy as np\n",
    "import matplotlib.pyplot as plt\n",
    "\n",
    "# environment setup\n",
    "import gym\n",
    "# noinspection PyUnresolvedReferences\n",
    "import gym_woods\n",
    "\n",
    "from lcs.agents.xcs import XCS, Configuration\n",
    "from utils.xcs_utils import *"
   ]
  },
  {
   "cell_type": "code",
   "execution_count": 2,
   "metadata": {},
   "outputs": [
    {
     "name": "stdout",
     "output_type": "stream",
     "text": [
      "This is how maze looks like\n",
      "<class 'list'>\n",
      "['.', '.', '.', '.', '.', 'O', 'F', '.']\n",
      "\n",
      "\u001b[37m□\u001b[0m \u001b[37m□\u001b[0m \u001b[37m□\u001b[0m \u001b[37m□\u001b[0m \u001b[37m□\u001b[0m \u001b[37m□\u001b[0m \u001b[37m□\u001b[0m \u001b[37m□\u001b[0m \u001b[37m□\u001b[0m \u001b[37m□\u001b[0m \u001b[37m□\u001b[0m \u001b[37m□\u001b[0m \u001b[37m□\u001b[0m \u001b[37m□\u001b[0m \u001b[37m□\u001b[0m \u001b[37m□\u001b[0m \u001b[37m□\u001b[0m \u001b[37m□\u001b[0m \u001b[37m□\u001b[0m \u001b[37m□\u001b[0m \u001b[37m□\u001b[0m \u001b[37m□\u001b[0m \u001b[37m□\u001b[0m \u001b[37m□\u001b[0m \u001b[37m□\u001b[0m \u001b[37m□\u001b[0m \u001b[37m□\u001b[0m \u001b[37m□\u001b[0m \u001b[37m□\u001b[0m \u001b[37m□\u001b[0m\n",
      "\u001b[37m□\u001b[0m \u001b[30m■\u001b[0m \u001b[30m■\u001b[0m \u001b[33m$\u001b[0m \u001b[36mX\u001b[0m \u001b[37m□\u001b[0m \u001b[30m■\u001b[0m \u001b[30m■\u001b[0m \u001b[33m$\u001b[0m \u001b[37m□\u001b[0m \u001b[37m□\u001b[0m \u001b[30m■\u001b[0m \u001b[30m■\u001b[0m \u001b[33m$\u001b[0m \u001b[37m□\u001b[0m \u001b[37m□\u001b[0m \u001b[30m■\u001b[0m \u001b[30m■\u001b[0m \u001b[33m$\u001b[0m \u001b[37m□\u001b[0m \u001b[37m□\u001b[0m \u001b[30m■\u001b[0m \u001b[30m■\u001b[0m \u001b[33m$\u001b[0m \u001b[37m□\u001b[0m \u001b[37m□\u001b[0m \u001b[30m■\u001b[0m \u001b[30m■\u001b[0m \u001b[33m$\u001b[0m \u001b[37m□\u001b[0m\n",
      "\u001b[37m□\u001b[0m \u001b[30m■\u001b[0m \u001b[30m■\u001b[0m \u001b[30m■\u001b[0m \u001b[37m□\u001b[0m \u001b[37m□\u001b[0m \u001b[30m■\u001b[0m \u001b[30m■\u001b[0m \u001b[30m■\u001b[0m \u001b[37m□\u001b[0m \u001b[37m□\u001b[0m \u001b[30m■\u001b[0m \u001b[30m■\u001b[0m \u001b[30m■\u001b[0m \u001b[37m□\u001b[0m \u001b[37m□\u001b[0m \u001b[30m■\u001b[0m \u001b[30m■\u001b[0m \u001b[30m■\u001b[0m \u001b[37m□\u001b[0m \u001b[37m□\u001b[0m \u001b[30m■\u001b[0m \u001b[30m■\u001b[0m \u001b[30m■\u001b[0m \u001b[37m□\u001b[0m \u001b[37m□\u001b[0m \u001b[30m■\u001b[0m \u001b[30m■\u001b[0m \u001b[30m■\u001b[0m \u001b[37m□\u001b[0m\n",
      "\u001b[37m□\u001b[0m \u001b[30m■\u001b[0m \u001b[30m■\u001b[0m \u001b[30m■\u001b[0m \u001b[37m□\u001b[0m \u001b[37m□\u001b[0m \u001b[30m■\u001b[0m \u001b[30m■\u001b[0m \u001b[30m■\u001b[0m \u001b[37m□\u001b[0m \u001b[37m□\u001b[0m \u001b[30m■\u001b[0m \u001b[30m■\u001b[0m \u001b[30m■\u001b[0m \u001b[37m□\u001b[0m \u001b[37m□\u001b[0m \u001b[30m■\u001b[0m \u001b[30m■\u001b[0m \u001b[30m■\u001b[0m \u001b[37m□\u001b[0m \u001b[37m□\u001b[0m \u001b[30m■\u001b[0m \u001b[30m■\u001b[0m \u001b[30m■\u001b[0m \u001b[37m□\u001b[0m \u001b[37m□\u001b[0m \u001b[30m■\u001b[0m \u001b[30m■\u001b[0m \u001b[30m■\u001b[0m \u001b[37m□\u001b[0m\n",
      "\u001b[37m□\u001b[0m \u001b[37m□\u001b[0m \u001b[37m□\u001b[0m \u001b[37m□\u001b[0m \u001b[37m□\u001b[0m \u001b[37m□\u001b[0m \u001b[37m□\u001b[0m \u001b[37m□\u001b[0m \u001b[37m□\u001b[0m \u001b[37m□\u001b[0m \u001b[37m□\u001b[0m \u001b[37m□\u001b[0m \u001b[37m□\u001b[0m \u001b[37m□\u001b[0m \u001b[37m□\u001b[0m \u001b[37m□\u001b[0m \u001b[37m□\u001b[0m \u001b[37m□\u001b[0m \u001b[37m□\u001b[0m \u001b[37m□\u001b[0m \u001b[37m□\u001b[0m \u001b[37m□\u001b[0m \u001b[37m□\u001b[0m \u001b[37m□\u001b[0m \u001b[37m□\u001b[0m \u001b[37m□\u001b[0m \u001b[37m□\u001b[0m \u001b[37m□\u001b[0m \u001b[37m□\u001b[0m \u001b[37m□\u001b[0m\n",
      "\u001b[37m□\u001b[0m \u001b[37m□\u001b[0m \u001b[37m□\u001b[0m \u001b[37m□\u001b[0m \u001b[37m□\u001b[0m \u001b[37m□\u001b[0m \u001b[37m□\u001b[0m \u001b[37m□\u001b[0m \u001b[37m□\u001b[0m \u001b[37m□\u001b[0m \u001b[37m□\u001b[0m \u001b[37m□\u001b[0m \u001b[37m□\u001b[0m \u001b[37m□\u001b[0m \u001b[37m□\u001b[0m \u001b[37m□\u001b[0m \u001b[37m□\u001b[0m \u001b[37m□\u001b[0m \u001b[37m□\u001b[0m \u001b[37m□\u001b[0m \u001b[37m□\u001b[0m \u001b[37m□\u001b[0m \u001b[37m□\u001b[0m \u001b[37m□\u001b[0m \u001b[37m□\u001b[0m \u001b[37m□\u001b[0m \u001b[37m□\u001b[0m \u001b[37m□\u001b[0m \u001b[37m□\u001b[0m \u001b[37m□\u001b[0m\n",
      "\u001b[37m□\u001b[0m \u001b[30m■\u001b[0m \u001b[30m■\u001b[0m \u001b[33m$\u001b[0m \u001b[37m□\u001b[0m \u001b[37m□\u001b[0m \u001b[30m■\u001b[0m \u001b[30m■\u001b[0m \u001b[33m$\u001b[0m \u001b[37m□\u001b[0m \u001b[37m□\u001b[0m \u001b[30m■\u001b[0m \u001b[30m■\u001b[0m \u001b[33m$\u001b[0m \u001b[37m□\u001b[0m \u001b[37m□\u001b[0m \u001b[30m■\u001b[0m \u001b[30m■\u001b[0m \u001b[33m$\u001b[0m \u001b[37m□\u001b[0m \u001b[37m□\u001b[0m \u001b[30m■\u001b[0m \u001b[30m■\u001b[0m \u001b[33m$\u001b[0m \u001b[37m□\u001b[0m \u001b[37m□\u001b[0m \u001b[30m■\u001b[0m \u001b[30m■\u001b[0m \u001b[33m$\u001b[0m \u001b[37m□\u001b[0m\n",
      "\u001b[37m□\u001b[0m \u001b[30m■\u001b[0m \u001b[30m■\u001b[0m \u001b[30m■\u001b[0m \u001b[37m□\u001b[0m \u001b[37m□\u001b[0m \u001b[30m■\u001b[0m \u001b[30m■\u001b[0m \u001b[30m■\u001b[0m \u001b[37m□\u001b[0m \u001b[37m□\u001b[0m \u001b[30m■\u001b[0m \u001b[30m■\u001b[0m \u001b[30m■\u001b[0m \u001b[37m□\u001b[0m \u001b[37m□\u001b[0m \u001b[30m■\u001b[0m \u001b[30m■\u001b[0m \u001b[30m■\u001b[0m \u001b[37m□\u001b[0m \u001b[37m□\u001b[0m \u001b[30m■\u001b[0m \u001b[30m■\u001b[0m \u001b[30m■\u001b[0m \u001b[37m□\u001b[0m \u001b[37m□\u001b[0m \u001b[30m■\u001b[0m \u001b[30m■\u001b[0m \u001b[30m■\u001b[0m \u001b[37m□\u001b[0m\n",
      "\u001b[37m□\u001b[0m \u001b[30m■\u001b[0m \u001b[30m■\u001b[0m \u001b[30m■\u001b[0m \u001b[37m□\u001b[0m \u001b[37m□\u001b[0m \u001b[30m■\u001b[0m \u001b[30m■\u001b[0m \u001b[30m■\u001b[0m \u001b[37m□\u001b[0m \u001b[37m□\u001b[0m \u001b[30m■\u001b[0m \u001b[30m■\u001b[0m \u001b[30m■\u001b[0m \u001b[37m□\u001b[0m \u001b[37m□\u001b[0m \u001b[30m■\u001b[0m \u001b[30m■\u001b[0m \u001b[30m■\u001b[0m \u001b[37m□\u001b[0m \u001b[37m□\u001b[0m \u001b[30m■\u001b[0m \u001b[30m■\u001b[0m \u001b[30m■\u001b[0m \u001b[37m□\u001b[0m \u001b[37m□\u001b[0m \u001b[30m■\u001b[0m \u001b[30m■\u001b[0m \u001b[30m■\u001b[0m \u001b[37m□\u001b[0m\n",
      "\u001b[37m□\u001b[0m \u001b[37m□\u001b[0m \u001b[37m□\u001b[0m \u001b[37m□\u001b[0m \u001b[37m□\u001b[0m \u001b[37m□\u001b[0m \u001b[37m□\u001b[0m \u001b[37m□\u001b[0m \u001b[37m□\u001b[0m \u001b[37m□\u001b[0m \u001b[37m□\u001b[0m \u001b[37m□\u001b[0m \u001b[37m□\u001b[0m \u001b[37m□\u001b[0m \u001b[37m□\u001b[0m \u001b[37m□\u001b[0m \u001b[37m□\u001b[0m \u001b[37m□\u001b[0m \u001b[37m□\u001b[0m \u001b[37m□\u001b[0m \u001b[37m□\u001b[0m \u001b[37m□\u001b[0m \u001b[37m□\u001b[0m \u001b[37m□\u001b[0m \u001b[37m□\u001b[0m \u001b[37m□\u001b[0m \u001b[37m□\u001b[0m \u001b[37m□\u001b[0m \u001b[37m□\u001b[0m \u001b[37m□\u001b[0m\n",
      "\u001b[37m□\u001b[0m \u001b[37m□\u001b[0m \u001b[37m□\u001b[0m \u001b[37m□\u001b[0m \u001b[37m□\u001b[0m \u001b[37m□\u001b[0m \u001b[37m□\u001b[0m \u001b[37m□\u001b[0m \u001b[37m□\u001b[0m \u001b[37m□\u001b[0m \u001b[37m□\u001b[0m \u001b[37m□\u001b[0m \u001b[37m□\u001b[0m \u001b[37m□\u001b[0m \u001b[37m□\u001b[0m \u001b[37m□\u001b[0m \u001b[37m□\u001b[0m \u001b[37m□\u001b[0m \u001b[37m□\u001b[0m \u001b[37m□\u001b[0m \u001b[37m□\u001b[0m \u001b[37m□\u001b[0m \u001b[37m□\u001b[0m \u001b[37m□\u001b[0m \u001b[37m□\u001b[0m \u001b[37m□\u001b[0m \u001b[37m□\u001b[0m \u001b[37m□\u001b[0m \u001b[37m□\u001b[0m \u001b[37m□\u001b[0m\n",
      "\u001b[37m□\u001b[0m \u001b[30m■\u001b[0m \u001b[30m■\u001b[0m \u001b[33m$\u001b[0m \u001b[37m□\u001b[0m \u001b[37m□\u001b[0m \u001b[30m■\u001b[0m \u001b[30m■\u001b[0m \u001b[33m$\u001b[0m \u001b[37m□\u001b[0m \u001b[37m□\u001b[0m \u001b[30m■\u001b[0m \u001b[30m■\u001b[0m \u001b[33m$\u001b[0m \u001b[37m□\u001b[0m \u001b[37m□\u001b[0m \u001b[30m■\u001b[0m \u001b[30m■\u001b[0m \u001b[33m$\u001b[0m \u001b[37m□\u001b[0m \u001b[37m□\u001b[0m \u001b[30m■\u001b[0m \u001b[30m■\u001b[0m \u001b[33m$\u001b[0m \u001b[37m□\u001b[0m \u001b[37m□\u001b[0m \u001b[30m■\u001b[0m \u001b[30m■\u001b[0m \u001b[33m$\u001b[0m \u001b[37m□\u001b[0m\n",
      "\u001b[37m□\u001b[0m \u001b[30m■\u001b[0m \u001b[30m■\u001b[0m \u001b[30m■\u001b[0m \u001b[37m□\u001b[0m \u001b[37m□\u001b[0m \u001b[30m■\u001b[0m \u001b[30m■\u001b[0m \u001b[30m■\u001b[0m \u001b[37m□\u001b[0m \u001b[37m□\u001b[0m \u001b[30m■\u001b[0m \u001b[30m■\u001b[0m \u001b[30m■\u001b[0m \u001b[37m□\u001b[0m \u001b[37m□\u001b[0m \u001b[30m■\u001b[0m \u001b[30m■\u001b[0m \u001b[30m■\u001b[0m \u001b[37m□\u001b[0m \u001b[37m□\u001b[0m \u001b[30m■\u001b[0m \u001b[30m■\u001b[0m \u001b[30m■\u001b[0m \u001b[37m□\u001b[0m \u001b[37m□\u001b[0m \u001b[30m■\u001b[0m \u001b[30m■\u001b[0m \u001b[30m■\u001b[0m \u001b[37m□\u001b[0m\n",
      "\u001b[37m□\u001b[0m \u001b[30m■\u001b[0m \u001b[30m■\u001b[0m \u001b[30m■\u001b[0m \u001b[37m□\u001b[0m \u001b[37m□\u001b[0m \u001b[30m■\u001b[0m \u001b[30m■\u001b[0m \u001b[30m■\u001b[0m \u001b[37m□\u001b[0m \u001b[37m□\u001b[0m \u001b[30m■\u001b[0m \u001b[30m■\u001b[0m \u001b[30m■\u001b[0m \u001b[37m□\u001b[0m \u001b[37m□\u001b[0m \u001b[30m■\u001b[0m \u001b[30m■\u001b[0m \u001b[30m■\u001b[0m \u001b[37m□\u001b[0m \u001b[37m□\u001b[0m \u001b[30m■\u001b[0m \u001b[30m■\u001b[0m \u001b[30m■\u001b[0m \u001b[37m□\u001b[0m \u001b[37m□\u001b[0m \u001b[30m■\u001b[0m \u001b[30m■\u001b[0m \u001b[30m■\u001b[0m \u001b[37m□\u001b[0m\n",
      "\u001b[37m□\u001b[0m \u001b[37m□\u001b[0m \u001b[37m□\u001b[0m \u001b[37m□\u001b[0m \u001b[37m□\u001b[0m \u001b[37m□\u001b[0m \u001b[37m□\u001b[0m \u001b[37m□\u001b[0m \u001b[37m□\u001b[0m \u001b[37m□\u001b[0m \u001b[37m□\u001b[0m \u001b[37m□\u001b[0m \u001b[37m□\u001b[0m \u001b[37m□\u001b[0m \u001b[37m□\u001b[0m \u001b[37m□\u001b[0m \u001b[37m□\u001b[0m \u001b[37m□\u001b[0m \u001b[37m□\u001b[0m \u001b[37m□\u001b[0m \u001b[37m□\u001b[0m \u001b[37m□\u001b[0m \u001b[37m□\u001b[0m \u001b[37m□\u001b[0m \u001b[37m□\u001b[0m \u001b[37m□\u001b[0m \u001b[37m□\u001b[0m \u001b[37m□\u001b[0m \u001b[37m□\u001b[0m \u001b[37m□\u001b[0m\n"
     ]
    }
   ],
   "source": [
    "maze = gym.make('Woods2-v0')\n",
    "print(\"This is how maze looks like\")\n",
    "situation = maze.reset()\n",
    "print(type(situation))\n",
    "print(situation)\n",
    "maze.render()"
   ]
  },
  {
   "cell_type": "code",
   "execution_count": 4,
   "metadata": {
    "scrolled": true
   },
   "outputs": [
    {
     "name": "stderr",
     "output_type": "stream",
     "text": [
      "INFO:lcs.agents.Agent:{'trial': 0, 'steps_in_trial': 41, 'reward': [4.589021266313866e-40, 4.870406642378066e-40, 5.959442979254628e-40, 6.860782503982207e-40, 3.0171325838869193e-40, 6.489390878997436e-40, 3.94250424467599e-40, 100.0], 'perf_time': 0.006837500000017371, 'population': 24, 'numerosity': 36}\n"
     ]
    },
    {
     "name": "stdout",
     "output_type": "stream",
     "text": [
      "Executing 0 experiment\n"
     ]
    },
    {
     "name": "stderr",
     "output_type": "stream",
     "text": [
      "INFO:lcs.agents.Agent:{'trial': 0, 'steps_in_trial': 41, 'reward': [31.227858902627208, 20.98261270552403, 25.696276955844596, 19.439123118080225, 45.11857677023246, 105.8820921485077, 37.14719066103274, 51.33684556639302], 'perf_time': 0.006837500000017371, 'population': 24, 'numerosity': 36}\n",
      "INFO:lcs.agents.Agent:{'trial': 100, 'steps_in_trial': 50, 'reward': [42.5554792144864, 47.708236760051335, 40.03833988291377, 128.93834245958055, 144.4562445233263, 50.64753390375941, 135.52504055505057, 24.29046353103902], 'perf_time': 0.029150899999990543, 'population': 90, 'numerosity': 1000}\n",
      "INFO:lcs.agents.Agent:{'trial': 200, 'steps_in_trial': 25, 'reward': [6.638584357586653, 14.597593415761454, 5.7478318392997245, 21.540128971979502, 8.548421019481717, 22.27742127894104, 13.946145547387852, 192.87769268132132], 'perf_time': 0.01547130000000152, 'population': 114, 'numerosity': 1000}\n",
      "INFO:lcs.agents.Agent:{'trial': 300, 'steps_in_trial': 50, 'reward': [7.499219163798673, 10.486150168186573, 16.67964194068747, 19.525966536648838, 16.563205378316304, 111.72284607509269, 23.922069364939926, 16.198794109117124], 'perf_time': 0.03213629999999057, 'population': 132, 'numerosity': 1000}\n",
      "INFO:lcs.agents.Agent:{'trial': 400, 'steps_in_trial': 2, 'reward': [39.100282668019375, 38.465392754987505, 63.84836125785483, 45.044492603348345, 293.74319441980606, 64.50916419994435, 39.62575040223986, 33.61545585122868], 'perf_time': 0.002739599999983966, 'population': 157, 'numerosity': 1000}\n",
      "INFO:lcs.agents.Agent:{'trial': 400, 'steps_in_trial': 2, 'reward': [114.49715892582802, 103.74794500644748, 72.2367128729825, 133.59798332268235, 175.27126743420618, 256.01866890453636, 183.91779816028497, 107.53674306173893], 'perf_time': 0.002739599999983966, 'population': 157, 'numerosity': 1000}\n",
      "INFO:lcs.agents.Agent:{'trial': 500, 'steps_in_trial': 34, 'reward': [68.89895352171446, 74.59482727537517, 52.0916882942894, 52.33042353080907, 64.06649621877034, 58.74127474820169, 52.54095975547141, 39.7281186921704], 'perf_time': 0.028834400000022242, 'population': 161, 'numerosity': 1000}\n",
      "INFO:lcs.agents.Agent:{'trial': 600, 'steps_in_trial': 12, 'reward': [53.0770669886775, 51.220628101228144, 58.84972301504349, 35.12395860956079, 42.90848982133214, 93.01934429703019, 141.02040479082711, 80.83791767338981], 'perf_time': 0.010869299999995974, 'population': 159, 'numerosity': 1000}\n",
      "INFO:lcs.agents.Agent:{'trial': 700, 'steps_in_trial': 50, 'reward': [31.565796068849284, 19.66426069711489, 35.3892363620897, 50.31856273731795, 65.76219587565423, 143.19228374866384, 42.984207630084406, 23.799987948846056], 'perf_time': 0.039542100000005576, 'population': 142, 'numerosity': 1000}\n",
      "INFO:lcs.agents.Agent:{'trial': 0, 'steps_in_trial': 8, 'reward': [0.12352154796998, 0, 0, 7.682467441847171, 0, 100.12352154796999, 7.381198386348389, 7.381198386348389], 'perf_time': 0.0034471000000166896, 'population': 144, 'numerosity': 1000}\n",
      "INFO:lcs.agents.Agent:{'trial': 0, 'steps_in_trial': 8, 'reward': [20.196598420995223, 6.694095781018486, 13.90345253236297, 20.940648896534135, 129.10786430721893, 11.98578524667543, 80.91287257621939, 27.627471474026084], 'perf_time': 0.0034471000000166896, 'population': 144, 'numerosity': 1000}\n",
      "INFO:lcs.agents.Agent:{'trial': 0, 'steps_in_trial': 8, 'reward': [3.082926071716781, 8.516430229493823, 5.864258064333518, 3.1688261498785013, 5.251602172055398, 13.53324653936051, 19.66179735072489, 8.64500383951148], 'perf_time': 0.0034471000000166896, 'population': 144, 'numerosity': 1000}\n",
      "INFO:lcs.agents.Agent:{'trial': 0, 'steps_in_trial': 8, 'reward': [15.202742837883187, 1.3104296565473565, 2.3179061728700203, 1.0717305875161154, 4.488074086724723, 2.258294354697086, 5.573037812807293, 4.454248140723558], 'perf_time': 0.0034471000000166896, 'population': 144, 'numerosity': 1000}\n",
      "INFO:lcs.agents.Agent:{'trial': 0, 'steps_in_trial': 8, 'reward': [0.4276984628455858, 1.3510370586517777, 1.186917452005985, 0.67655205874641, 11.732719086614539, 3.7711268975668224, 35.57858304691315, 0.9038472975688421], 'perf_time': 0.0034471000000166896, 'population': 144, 'numerosity': 1000}\n",
      "INFO:lcs.agents.Agent:{'trial': 100, 'steps_in_trial': 50, 'reward': [9.971231157773431, 62.99698306909121, 0.8256065304719682, 22.762132134260142, 13.018894294650904, 0.9113464085333559, 26.948294338105647, 3.526009895771219], 'perf_time': 0.025946000000004688, 'population': 148, 'numerosity': 1000}\n",
      "INFO:lcs.agents.Agent:{'trial': 100, 'steps_in_trial': 50, 'reward': [7.717436583882668, 96.66777075471138, 0.9773191701485545, 37.10669078055416, 79.62791656303942, 6.861311301676159, 31.41929455236082, 3.526009895771219], 'perf_time': 0.025946000000004688, 'population': 148, 'numerosity': 1000}\n",
      "INFO:lcs.agents.Agent:{'trial': 100, 'steps_in_trial': 50, 'reward': [7.717436583882668, 7.465342202437859, 1.726966514408943, 130.6769099474419, 79.62791656303942, 6.886589032497902, 31.41929455236082, 12.844478709090573], 'perf_time': 0.025946000000004688, 'population': 148, 'numerosity': 1000}\n",
      "INFO:lcs.agents.Agent:{'trial': 100, 'steps_in_trial': 50, 'reward': [7.717436583882668, 96.15137294975126, 2.4554305297172574, 76.24987149962918, 12.092199426458707, 6.886589032497902, 6.694079907090284, 12.844478709090573], 'perf_time': 0.025946000000004688, 'population': 148, 'numerosity': 1000}\n",
      "INFO:lcs.agents.Agent:{'trial': 100, 'steps_in_trial': 50, 'reward': [7.05748251666995, 7.408117109225682, 2.9348509481074814, 191.24092788705218, 10.882984655669667, 6.886589032497902, 6.694079907090284, 12.844478709090573], 'perf_time': 0.025946000000004688, 'population': 148, 'numerosity': 1000}\n",
      "INFO:lcs.agents.Agent:{'trial': 0, 'steps_in_trial': 50, 'reward': [6.2280206657155e-40, 7.1974355919257256e-40, 2.437105947764535e-40, 4.653815734456753e-40, 6.418565469885413e-40, 8.236964861005169e-40, 6.985247389210972e-40, 4.6834533287214085e-40], 'perf_time': 0.009961199999992232, 'population': 29, 'numerosity': 44}\n"
     ]
    },
    {
     "name": "stdout",
     "output_type": "stream",
     "text": [
      "Executing 1 experiment\n"
     ]
    },
    {
     "name": "stderr",
     "output_type": "stream",
     "text": [
      "INFO:lcs.agents.Agent:{'trial': 0, 'steps_in_trial': 50, 'reward': [10.841269563963595, 16.223665408382505, 11.093233251479349, 55.05709858299984, 62.75267162802808, 9.505721233233034, 9.749489655247443, 14.215314692654403], 'perf_time': 0.009961199999992232, 'population': 29, 'numerosity': 44}\n",
      "INFO:lcs.agents.Agent:{'trial': 100, 'steps_in_trial': 36, 'reward': [18.162413204707207, 14.685764854650428, 13.401277311561138, 69.60838013815156, 209.03987971540468, 176.65922846175837, 11.607676976558064, 15.522432202091014], 'perf_time': 0.02381040000000212, 'population': 125, 'numerosity': 1000}\n",
      "INFO:lcs.agents.Agent:{'trial': 200, 'steps_in_trial': 22, 'reward': [38.33530634283262, 30.713882965096836, 54.24454234469141, 26.33987152975941, 133.3448486336064, 19.73657522561052, 45.407845974176695, 23.035744631821466], 'perf_time': 0.01633329999998523, 'population': 135, 'numerosity': 1000}\n",
      "INFO:lcs.agents.Agent:{'trial': 300, 'steps_in_trial': 6, 'reward': [37.255400146238316, 35.73879137331795, 46.61096201848053, 80.1610258682077, 261.9957361950339, 82.2900458081408, 95.58714407864491, 28.58108766520924], 'perf_time': 0.006248300000009976, 'population': 142, 'numerosity': 1000}\n",
      "INFO:lcs.agents.Agent:{'trial': 400, 'steps_in_trial': 50, 'reward': [23.177771745759085, 26.451190345252137, 15.868746096653902, 47.289476407393565, 30.585782048190694, 62.17300121059529, 31.861481182991195, 45.79602019469192], 'perf_time': 0.044525099999987106, 'population': 166, 'numerosity': 1000}\n",
      "INFO:lcs.agents.Agent:{'trial': 400, 'steps_in_trial': 50, 'reward': [48.58036621658319, 33.91315053446508, 41.61098941953001, 245.21586853107942, 120.39359104569985, 72.5511565522055, 53.40735685965471, 101.62585224968899], 'perf_time': 0.044525099999987106, 'population': 166, 'numerosity': 1000}\n",
      "INFO:lcs.agents.Agent:{'trial': 500, 'steps_in_trial': 27, 'reward': [11.904110037447104, 12.580645116826432, 15.81469154543553, 20.480503925554057, 17.758088730063605, 20.999403455995438, 19.66781907490802, 27.160474617260412], 'perf_time': 0.02872470000002636, 'population': 176, 'numerosity': 1000}\n",
      "INFO:lcs.agents.Agent:{'trial': 600, 'steps_in_trial': 16, 'reward': [52.67972148963402, 38.702395341302505, 32.102780591998496, 143.95528573854799, 47.038759004235665, 49.72289559124075, 236.14106319599256, 43.185771933845054], 'perf_time': 0.01272679999999582, 'population': 162, 'numerosity': 1000}\n",
      "INFO:lcs.agents.Agent:{'trial': 700, 'steps_in_trial': 50, 'reward': [44.087732273561336, 40.046942087440804, 43.03049386438283, 43.23698584837458, 167.7914257272011, 188.81023180050374, 45.30935068578546, 56.96125680143945], 'perf_time': 0.055519699999990735, 'population': 160, 'numerosity': 1000}\n",
      "INFO:lcs.agents.Agent:{'trial': 0, 'steps_in_trial': 50, 'reward': [21.044382451812083, 12.454856916988494, 15.6850999079917, 0, 0, 29.992138464646978, 0, 9.08939203321768], 'perf_time': 0.02203360000001453, 'population': 147, 'numerosity': 1000}\n",
      "INFO:lcs.agents.Agent:{'trial': 0, 'steps_in_trial': 50, 'reward': [1.4435994483098908, 1.5276602743084151, 4.466685658109856, 2.5954497566774584, 23.336379016505184, 12.535867884825532, 3.5198644809900026, 3.506188481876729], 'perf_time': 0.02203360000001453, 'population': 147, 'numerosity': 1000}\n",
      "INFO:lcs.agents.Agent:{'trial': 0, 'steps_in_trial': 50, 'reward': [1.938319446115079, 1.5912134971996523, 2.3025012226556933, 2.9611904433502394, 2.1426622861039726, 3.324382187093801, 2.6359458043032533, 2.0941994611987886], 'perf_time': 0.02203360000001453, 'population': 147, 'numerosity': 1000}\n",
      "INFO:lcs.agents.Agent:{'trial': 0, 'steps_in_trial': 50, 'reward': [3.135018792840201, 4.198678434662753, 1.7442987432651211, 0.7416470364458752, 8.193757596786462, 35.59320630398009, 9.739755532475629, 2.98132423155632], 'perf_time': 0.02203360000001453, 'population': 147, 'numerosity': 1000}\n",
      "INFO:lcs.agents.Agent:{'trial': 0, 'steps_in_trial': 50, 'reward': [15.340827532452467, 27.166988320043345, 5.896581239002648, 20.259847905179907, 14.310626726401669, 4.252596450368774, 28.437476587133382, 32.47982203482833], 'perf_time': 0.02203360000001453, 'population': 147, 'numerosity': 1000}\n",
      "INFO:lcs.agents.Agent:{'trial': 100, 'steps_in_trial': 50, 'reward': [4.990582646306038, 47.30113819050466, 25.58777414208589, 39.94207390282566, 26.4261199334998, 4.132627048888231, 17.068140901691898, 37.356204933742475], 'perf_time': 0.022635000000008176, 'population': 147, 'numerosity': 1000}\n",
      "INFO:lcs.agents.Agent:{'trial': 100, 'steps_in_trial': 50, 'reward': [29.457312286172304, 39.102073301820255, 82.74805797565774, 22.224504802759487, 31.97883777385442, 117.78919079474184, 65.49898273482606, 47.310951149443895], 'perf_time': 0.022635000000008176, 'population': 147, 'numerosity': 1000}\n",
      "INFO:lcs.agents.Agent:{'trial': 100, 'steps_in_trial': 50, 'reward': [29.457312286172304, 34.31421500613699, 36.328657327536, 22.224504802759487, 37.1347862801926, 117.78919079474184, 65.49898273482606, 47.310951149443895], 'perf_time': 0.022635000000008176, 'population': 147, 'numerosity': 1000}\n",
      "INFO:lcs.agents.Agent:{'trial': 100, 'steps_in_trial': 50, 'reward': [29.457312286172304, 75.84764020867995, 55.87418706624759, 53.56670000668446, 60.68865076362752, 117.78919079474184, 72.40449989611754, 47.310951149443895], 'perf_time': 0.022635000000008176, 'population': 147, 'numerosity': 1000}\n",
      "INFO:lcs.agents.Agent:{'trial': 100, 'steps_in_trial': 50, 'reward': [29.457312286172304, 74.44616712188858, 82.03801204198257, 53.56670000668446, 97.77512802862347, 117.78919079474184, 71.67566012830272, 47.310951149443895], 'perf_time': 0.022635000000008176, 'population': 147, 'numerosity': 1000}\n"
     ]
    }
   ],
   "source": [
    "cfg = Configuration(number_of_actions=8,\n",
    "                    max_population=1000,\n",
    "                    gamma=0.9,\n",
    "                    chi=1,                           # crossover\n",
    "                    metrics_trial_frequency=100,\n",
    "                    user_metrics_collector_fcn=xcs_metrics)\n",
    "\n",
    "df = avg_experiment(maze,\n",
    "                    cfg,\n",
    "                    number_of_tests=2,\n",
    "                    explore_trials=800,\n",
    "                    exploit_metrics=200)"
   ]
  },
  {
   "cell_type": "code",
   "execution_count": 5,
   "metadata": {},
   "outputs": [
    {
     "data": {
      "text/html": [
       "<div>\n",
       "<style scoped>\n",
       "    .dataframe tbody tr th:only-of-type {\n",
       "        vertical-align: middle;\n",
       "    }\n",
       "\n",
       "    .dataframe tbody tr th {\n",
       "        vertical-align: top;\n",
       "    }\n",
       "\n",
       "    .dataframe thead th {\n",
       "        text-align: right;\n",
       "    }\n",
       "</style>\n",
       "<table border=\"1\" class=\"dataframe\">\n",
       "  <thead>\n",
       "    <tr style=\"text-align: right;\">\n",
       "      <th></th>\n",
       "      <th>steps_in_trial</th>\n",
       "      <th>perf_time</th>\n",
       "      <th>population</th>\n",
       "      <th>numerosity</th>\n",
       "    </tr>\n",
       "    <tr>\n",
       "      <th>trial</th>\n",
       "      <th></th>\n",
       "      <th></th>\n",
       "      <th></th>\n",
       "      <th></th>\n",
       "    </tr>\n",
       "  </thead>\n",
       "  <tbody>\n",
       "    <tr>\n",
       "      <th>0</th>\n",
       "      <td>45.5</td>\n",
       "      <td>0.008399</td>\n",
       "      <td>26.5</td>\n",
       "      <td>40.0</td>\n",
       "    </tr>\n",
       "    <tr>\n",
       "      <th>100</th>\n",
       "      <td>43.0</td>\n",
       "      <td>0.026481</td>\n",
       "      <td>107.5</td>\n",
       "      <td>1000.0</td>\n",
       "    </tr>\n",
       "    <tr>\n",
       "      <th>200</th>\n",
       "      <td>23.5</td>\n",
       "      <td>0.015902</td>\n",
       "      <td>124.5</td>\n",
       "      <td>1000.0</td>\n",
       "    </tr>\n",
       "    <tr>\n",
       "      <th>300</th>\n",
       "      <td>28.0</td>\n",
       "      <td>0.019192</td>\n",
       "      <td>137.0</td>\n",
       "      <td>1000.0</td>\n",
       "    </tr>\n",
       "    <tr>\n",
       "      <th>400</th>\n",
       "      <td>26.0</td>\n",
       "      <td>0.023632</td>\n",
       "      <td>161.5</td>\n",
       "      <td>1000.0</td>\n",
       "    </tr>\n",
       "    <tr>\n",
       "      <th>500</th>\n",
       "      <td>30.5</td>\n",
       "      <td>0.028780</td>\n",
       "      <td>168.5</td>\n",
       "      <td>1000.0</td>\n",
       "    </tr>\n",
       "    <tr>\n",
       "      <th>600</th>\n",
       "      <td>14.0</td>\n",
       "      <td>0.011798</td>\n",
       "      <td>160.5</td>\n",
       "      <td>1000.0</td>\n",
       "    </tr>\n",
       "    <tr>\n",
       "      <th>700</th>\n",
       "      <td>50.0</td>\n",
       "      <td>0.047531</td>\n",
       "      <td>151.0</td>\n",
       "      <td>1000.0</td>\n",
       "    </tr>\n",
       "    <tr>\n",
       "      <th>800</th>\n",
       "      <td>29.0</td>\n",
       "      <td>0.012740</td>\n",
       "      <td>145.5</td>\n",
       "      <td>1000.0</td>\n",
       "    </tr>\n",
       "    <tr>\n",
       "      <th>900</th>\n",
       "      <td>50.0</td>\n",
       "      <td>0.024291</td>\n",
       "      <td>147.5</td>\n",
       "      <td>1000.0</td>\n",
       "    </tr>\n",
       "  </tbody>\n",
       "</table>\n",
       "</div>"
      ],
      "text/plain": [
       "       steps_in_trial  perf_time  population  numerosity\n",
       "trial                                                   \n",
       "0                45.5   0.008399        26.5        40.0\n",
       "100              43.0   0.026481       107.5      1000.0\n",
       "200              23.5   0.015902       124.5      1000.0\n",
       "300              28.0   0.019192       137.0      1000.0\n",
       "400              26.0   0.023632       161.5      1000.0\n",
       "500              30.5   0.028780       168.5      1000.0\n",
       "600              14.0   0.011798       160.5      1000.0\n",
       "700              50.0   0.047531       151.0      1000.0\n",
       "800              29.0   0.012740       145.5      1000.0\n",
       "900              50.0   0.024291       147.5      1000.0"
      ]
     },
     "metadata": {},
     "output_type": "display_data"
    }
   ],
   "source": [
    "display(df)"
   ]
  },
  {
   "cell_type": "code",
   "execution_count": 6,
   "metadata": {},
   "outputs": [
    {
     "data": {
      "image/png": "[encoded data removed]",
      "text/plain": [
       "<Figure size 432x288 with 1 Axes>"
      ]
     },
     "metadata": {
      "needs_background": "light"
     },
     "output_type": "display_data"
    }
   ],
   "source": [
    "ax = df[['numerosity', 'population']].plot()\n",
    "ax.set_xlabel(\"trial\")\n",
    "ax.set_ylabel(\"population\")\n",
    "ax.legend([\"numerosity\", \"number of rules\"])\n",
    "\n",
    "plt.show()"
   ]
  },
  {
   "cell_type": "markdown",
   "metadata": {},
   "source": [
    "It is hard to say but oking at amount of times algorithm reaches top steps (50) the steps might actually go down over trials.  need to somehow smooth it to see it better"
   ]
  },
  {
   "cell_type": "code",
   "execution_count": 7,
   "metadata": {},
   "outputs": [
    {
     "data": {
      "text/plain": [
       "<matplotlib.legend.Legend at 0x22cfe80ac08>"
      ]
     },
     "execution_count": 7,
     "metadata": {},
     "output_type": "execute_result"
    },
    {
     "data": {
      "image/png": "[encoded data removed]",
      "text/plain": [
       "<Figure size 432x288 with 1 Axes>"
      ]
     },
     "metadata": {
      "needs_background": "light"
     },
     "output_type": "display_data"
    }
   ],
   "source": [
    "ax = df['steps_in_trial'].plot()\n",
    "ax.set_xlabel(\"trial\")\n",
    "ax.set_ylabel(\"steps in trial\")\n",
    "ax.legend([\"steps\"])"
   ]
  },
  {
   "cell_type": "markdown",
   "metadata": {},
   "source": [
    "### Conclusion\n"
   ]
  },
  {
   "cell_type": "code",
   "execution_count": null,
   "metadata": {},
   "outputs": [],
   "source": []
  }
 ],
 "metadata": {
  "kernelspec": {
   "display_name": "Python 3",
   "language": "python",
   "name": "python3"
  },
  "language_info": {
   "codemirror_mode": {
    "name": "ipython",
    "version": 3
   },
   "file_extension": ".py",
   "mimetype": "text/x-python",
   "name": "python",
   "nbconvert_exporter": "python",
   "pygments_lexer": "ipython3",
   "version": "3.7.10"
  }
 },
 "nbformat": 4,
 "nbformat_minor": 4
}
