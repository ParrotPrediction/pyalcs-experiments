{
 "cells": [
  {
   "cell_type": "code",
   "execution_count": 14,
   "metadata": {},
   "outputs": [],
   "source": [
    "# logging \n",
    "import logging\n",
    "logging.basicConfig(level=logging.INFO)\n",
    "logger = logging.getLogger(__name__)\n"
   ]
  },
  {
   "cell_type": "code",
   "execution_count": 15,
   "metadata": {},
   "outputs": [
    {
     "name": "stdout",
     "output_type": "stream",
     "text": [
      "This is how maze looks like\n",
      "<class 'list'>\n",
      "['0', '1', '1', '1']\n"
     ]
    },
    {
     "data": {
      "text/plain": [
       "'State: 3'"
      ]
     },
     "execution_count": 15,
     "metadata": {},
     "output_type": "execute_result"
    }
   ],
   "source": [
    "# environment setup\n",
    "import gym\n",
    "# noinspection PyUnresolvedReferences\n",
    "import gym_yacs_simple_maze\n",
    "\n",
    "maze = gym.make('SimpleMaze-v0')\n",
    "print(\"This is how maze looks like\")\n",
    "situation = maze.reset()\n",
    "print(type(situation))\n",
    "print(situation)\n",
    "maze.render()"
   ]
  },
  {
   "cell_type": "code",
   "execution_count": 16,
   "metadata": {},
   "outputs": [],
   "source": [
    "from lcs.agents.xcs import XCS, Configuration\n",
    "from utils.xcs_utils import *\n"
   ]
  },
  {
   "cell_type": "code",
   "execution_count": 17,
   "metadata": {},
   "outputs": [],
   "source": [
    "cfg = Configuration(number_of_actions=4,\n",
    "                    user_metrics_collector_fcn=xcs_metrics,\n",
    "                    covering_wildcard_chance = 1,\n",
    "                    mutation_chance = 0,\n",
    "                    epsilon = 1,\n",
    "                   )\n"
   ]
  },
  {
   "cell_type": "code",
   "execution_count": 18,
   "metadata": {},
   "outputs": [
    {
     "name": "stderr",
     "output_type": "stream",
     "text": [
      "INFO:lcs.agents.Agent:{'trial': 0, 'steps_in_trial': 57, 'reward': 1000.0, 'perf_time': 0.009571499999992739, 'population': 32, 'numerosity': 36, 'average_specificity': 1.0}\n",
      "INFO:lcs.agents.Agent:{'trial': 500, 'steps_in_trial': 103, 'reward': 1000.0000000000005, 'perf_time': 0.03537640000001829, 'population': 31, 'numerosity': 200, 'average_specificity': 1.0}\n",
      "INFO:lcs.agents.Agent:{'trial': 1000, 'steps_in_trial': 82, 'reward': 1000.0000000006356, 'perf_time': 0.02387029999999868, 'population': 32, 'numerosity': 200, 'average_specificity': 1.0}\n",
      "INFO:lcs.agents.Agent:{'trial': 1500, 'steps_in_trial': 335, 'reward': 1000.0, 'perf_time': 0.094538899999975, 'population': 32, 'numerosity': 200, 'average_specificity': 1.0}\n",
      "INFO:lcs.agents.Agent:{'trial': 2000, 'steps_in_trial': 262, 'reward': 1000.0, 'perf_time': 0.07639949999997953, 'population': 32, 'numerosity': 200, 'average_specificity': 1.0}\n",
      "INFO:lcs.agents.Agent:{'trial': 2500, 'steps_in_trial': 26, 'reward': 1000.1357428823436, 'perf_time': 0.010510000000010677, 'population': 32, 'numerosity': 200, 'average_specificity': 1.0}\n",
      "INFO:lcs.agents.Agent:{'trial': 3000, 'steps_in_trial': 188, 'reward': 1000.0, 'perf_time': 0.05975800000004483, 'population': 32, 'numerosity': 200, 'average_specificity': 1.0}\n",
      "INFO:lcs.agents.Agent:{'trial': 3500, 'steps_in_trial': 273, 'reward': 1000.0, 'perf_time': 0.08238000000000056, 'population': 32, 'numerosity': 200, 'average_specificity': 1.0}\n",
      "INFO:lcs.agents.Agent:{'trial': 4000, 'steps_in_trial': 73, 'reward': 1000.0000000138631, 'perf_time': 0.024332100000037826, 'population': 32, 'numerosity': 200, 'average_specificity': 1.0}\n",
      "INFO:lcs.agents.Agent:{'trial': 4500, 'steps_in_trial': 278, 'reward': 1000.0, 'perf_time': 0.1191023999999743, 'population': 31, 'numerosity': 200, 'average_specificity': 1.0}\n",
      "INFO:lcs.agents.Agent:{'trial': 0, 'steps_in_trial': 77, 'reward': 1000.0000000035228, 'perf_time': 0.018505000000004657, 'population': 31, 'numerosity': 200, 'average_specificity': 1.0}\n",
      "INFO:lcs.agents.Agent:{'trial': 50, 'steps_in_trial': 7, 'reward': 1100.0509562769146, 'perf_time': 0.0013782999999989443, 'population': 31, 'numerosity': 200, 'average_specificity': 1.0}\n",
      "INFO:lcs.agents.Agent:{'trial': 100, 'steps_in_trial': 7, 'reward': 1100.0509562769146, 'perf_time': 0.0012757000000078733, 'population': 31, 'numerosity': 200, 'average_specificity': 1.0}\n",
      "INFO:lcs.agents.Agent:{'trial': 150, 'steps_in_trial': 7, 'reward': 1100.0509562769146, 'perf_time': 0.001599300000009407, 'population': 31, 'numerosity': 200, 'average_specificity': 1.0}\n",
      "INFO:lcs.agents.Agent:{'trial': 200, 'steps_in_trial': 7, 'reward': 1100.0509562769146, 'perf_time': 0.0011202999999682106, 'population': 30, 'numerosity': 200, 'average_specificity': 1.0}\n",
      "INFO:lcs.agents.Agent:{'trial': 250, 'steps_in_trial': 7, 'reward': 1100.0509562769146, 'perf_time': 0.0014271000000007916, 'population': 30, 'numerosity': 200, 'average_specificity': 1.0}\n",
      "INFO:lcs.agents.Agent:{'trial': 300, 'steps_in_trial': 7, 'reward': 1100.0509562769146, 'perf_time': 0.0013026999999965483, 'population': 30, 'numerosity': 200, 'average_specificity': 1.0}\n",
      "INFO:lcs.agents.Agent:{'trial': 350, 'steps_in_trial': 7, 'reward': 1100.0509562769146, 'perf_time': 0.0013284999999996217, 'population': 30, 'numerosity': 200, 'average_specificity': 1.0}\n",
      "INFO:lcs.agents.Agent:{'trial': 400, 'steps_in_trial': 7, 'reward': 1100.0509562769146, 'perf_time': 0.0011438999999882071, 'population': 30, 'numerosity': 200, 'average_specificity': 1.0}\n",
      "INFO:lcs.agents.Agent:{'trial': 450, 'steps_in_trial': 7, 'reward': 1100.0509562769146, 'perf_time': 0.0013928000000191787, 'population': 30, 'numerosity': 200, 'average_specificity': 1.0}\n"
     ]
    }
   ],
   "source": [
    "explore_trials = 5000\n",
    "exploit_trials = 500\n",
    "\n",
    "agent = XCS(cfg)\n",
    "_, explore_metrics =\\\n",
    "    agent.explore(maze, explore_trials, False)\n",
    "population, exploit_metrics =\\\n",
    "    agent.exploit(maze, exploit_trials)"
   ]
  },
  {
   "cell_type": "code",
   "execution_count": 19,
   "metadata": {},
   "outputs": [],
   "source": [
    "df = pd.DataFrame(explore_metrics)\n",
    "df['trial'] = df.index * cfg.metrics_trial_frequency\n",
    "df.set_index('trial', inplace=True)\n",
    "df_exploit = pd.DataFrame(exploit_metrics)\n",
    "df_exploit['trial'] = df_exploit.index * cfg.metrics_trial_frequency + explore_trials\n",
    "df_exploit.set_index('trial', inplace=True)\n",
    "df = df.append(df_exploit)"
   ]
  },
  {
   "cell_type": "code",
   "execution_count": 20,
   "metadata": {},
   "outputs": [
    {
     "data": {
      "text/html": [
       "<div>\n",
       "<style scoped>\n",
       "    .dataframe tbody tr th:only-of-type {\n",
       "        vertical-align: middle;\n",
       "    }\n",
       "\n",
       "    .dataframe tbody tr th {\n",
       "        vertical-align: top;\n",
       "    }\n",
       "\n",
       "    .dataframe thead th {\n",
       "        text-align: right;\n",
       "    }\n",
       "</style>\n",
       "<table border=\"1\" class=\"dataframe\">\n",
       "  <thead>\n",
       "    <tr style=\"text-align: right;\">\n",
       "      <th></th>\n",
       "      <th>steps_in_trial</th>\n",
       "      <th>reward</th>\n",
       "      <th>perf_time</th>\n",
       "      <th>population</th>\n",
       "      <th>numerosity</th>\n",
       "      <th>average_specificity</th>\n",
       "    </tr>\n",
       "    <tr>\n",
       "      <th>trial</th>\n",
       "      <th></th>\n",
       "      <th></th>\n",
       "      <th></th>\n",
       "      <th></th>\n",
       "      <th></th>\n",
       "      <th></th>\n",
       "    </tr>\n",
       "  </thead>\n",
       "  <tbody>\n",
       "    <tr>\n",
       "      <th>0</th>\n",
       "      <td>57</td>\n",
       "      <td>1000.000000</td>\n",
       "      <td>0.009571</td>\n",
       "      <td>32</td>\n",
       "      <td>36</td>\n",
       "      <td>1.0</td>\n",
       "    </tr>\n",
       "    <tr>\n",
       "      <th>5</th>\n",
       "      <td>11</td>\n",
       "      <td>1023.112229</td>\n",
       "      <td>0.005407</td>\n",
       "      <td>32</td>\n",
       "      <td>200</td>\n",
       "      <td>1.0</td>\n",
       "    </tr>\n",
       "    <tr>\n",
       "      <th>10</th>\n",
       "      <td>17</td>\n",
       "      <td>1002.960683</td>\n",
       "      <td>0.006189</td>\n",
       "      <td>32</td>\n",
       "      <td>200</td>\n",
       "      <td>1.0</td>\n",
       "    </tr>\n",
       "    <tr>\n",
       "      <th>15</th>\n",
       "      <td>31</td>\n",
       "      <td>1000.024491</td>\n",
       "      <td>0.011041</td>\n",
       "      <td>32</td>\n",
       "      <td>200</td>\n",
       "      <td>1.0</td>\n",
       "    </tr>\n",
       "    <tr>\n",
       "      <th>20</th>\n",
       "      <td>176</td>\n",
       "      <td>1000.000000</td>\n",
       "      <td>0.058673</td>\n",
       "      <td>32</td>\n",
       "      <td>200</td>\n",
       "      <td>1.0</td>\n",
       "    </tr>\n",
       "    <tr>\n",
       "      <th>...</th>\n",
       "      <td>...</td>\n",
       "      <td>...</td>\n",
       "      <td>...</td>\n",
       "      <td>...</td>\n",
       "      <td>...</td>\n",
       "      <td>...</td>\n",
       "    </tr>\n",
       "    <tr>\n",
       "      <th>5475</th>\n",
       "      <td>7</td>\n",
       "      <td>1100.050956</td>\n",
       "      <td>0.002458</td>\n",
       "      <td>30</td>\n",
       "      <td>200</td>\n",
       "      <td>1.0</td>\n",
       "    </tr>\n",
       "    <tr>\n",
       "      <th>5480</th>\n",
       "      <td>7</td>\n",
       "      <td>1100.050956</td>\n",
       "      <td>0.001158</td>\n",
       "      <td>30</td>\n",
       "      <td>200</td>\n",
       "      <td>1.0</td>\n",
       "    </tr>\n",
       "    <tr>\n",
       "      <th>5485</th>\n",
       "      <td>7</td>\n",
       "      <td>1100.050956</td>\n",
       "      <td>0.001148</td>\n",
       "      <td>30</td>\n",
       "      <td>200</td>\n",
       "      <td>1.0</td>\n",
       "    </tr>\n",
       "    <tr>\n",
       "      <th>5490</th>\n",
       "      <td>7</td>\n",
       "      <td>1100.050956</td>\n",
       "      <td>0.001332</td>\n",
       "      <td>29</td>\n",
       "      <td>200</td>\n",
       "      <td>1.0</td>\n",
       "    </tr>\n",
       "    <tr>\n",
       "      <th>5495</th>\n",
       "      <td>7</td>\n",
       "      <td>1100.050956</td>\n",
       "      <td>0.002386</td>\n",
       "      <td>29</td>\n",
       "      <td>200</td>\n",
       "      <td>1.0</td>\n",
       "    </tr>\n",
       "  </tbody>\n",
       "</table>\n",
       "<p>1100 rows × 6 columns</p>\n",
       "</div>"
      ],
      "text/plain": [
       "       steps_in_trial       reward  perf_time  population  numerosity  \\\n",
       "trial                                                                   \n",
       "0                  57  1000.000000   0.009571          32          36   \n",
       "5                  11  1023.112229   0.005407          32         200   \n",
       "10                 17  1002.960683   0.006189          32         200   \n",
       "15                 31  1000.024491   0.011041          32         200   \n",
       "20                176  1000.000000   0.058673          32         200   \n",
       "...               ...          ...        ...         ...         ...   \n",
       "5475                7  1100.050956   0.002458          30         200   \n",
       "5480                7  1100.050956   0.001158          30         200   \n",
       "5485                7  1100.050956   0.001148          30         200   \n",
       "5490                7  1100.050956   0.001332          29         200   \n",
       "5495                7  1100.050956   0.002386          29         200   \n",
       "\n",
       "       average_specificity  \n",
       "trial                       \n",
       "0                      1.0  \n",
       "5                      1.0  \n",
       "10                     1.0  \n",
       "15                     1.0  \n",
       "20                     1.0  \n",
       "...                    ...  \n",
       "5475                   1.0  \n",
       "5480                   1.0  \n",
       "5485                   1.0  \n",
       "5490                   1.0  \n",
       "5495                   1.0  \n",
       "\n",
       "[1100 rows x 6 columns]"
      ]
     },
     "metadata": {},
     "output_type": "display_data"
    }
   ],
   "source": [
    "display(df)"
   ]
  },
  {
   "cell_type": "code",
   "execution_count": 21,
   "metadata": {},
   "outputs": [
    {
     "data": {
      "text/plain": [
       "<matplotlib.legend.Legend at 0x231439bf188>"
      ]
     },
     "execution_count": 21,
     "metadata": {},
     "output_type": "execute_result"
    },
    {
     "data": {
      "image/png": "[encoded data removed]",
      "text/plain": [
       "<Figure size 432x288 with 1 Axes>"
      ]
     },
     "metadata": {
      "needs_background": "light"
     },
     "output_type": "display_data"
    }
   ],
   "source": [
    "import pandas as pd\n",
    "import numpy as np\n",
    "\n",
    "ax = df['average_specificity'].plot()\n",
    "ax.set_xlabel(\"trial\")\n",
    "ax.set_ylabel(\"average_specificity\")\n",
    "ax.legend([\"specificity\"])\n"
   ]
  },
  {
   "cell_type": "code",
   "execution_count": 22,
   "metadata": {},
   "outputs": [
    {
     "data": {
      "text/plain": [
       "<matplotlib.legend.Legend at 0x23147a25f48>"
      ]
     },
     "execution_count": 22,
     "metadata": {},
     "output_type": "execute_result"
    },
    {
     "data": {
      "image/png": "[encoded data removed]",
      "text/plain": [
       "<Figure size 432x288 with 1 Axes>"
      ]
     },
     "metadata": {
      "needs_background": "light"
     },
     "output_type": "display_data"
    }
   ],
   "source": [
    "ax = df[['population', 'numerosity']].plot()\n",
    "ax.set_xlabel(\"trial\")\n",
    "ax.set_ylabel(\"population\")\n",
    "ax.legend([\"pop\", \"num\"])"
   ]
  },
  {
   "cell_type": "code",
   "execution_count": 23,
   "metadata": {},
   "outputs": [
    {
     "data": {
      "text/plain": [
       "<matplotlib.legend.Legend at 0x23147aa8f48>"
      ]
     },
     "execution_count": 23,
     "metadata": {},
     "output_type": "execute_result"
    },
    {
     "data": {
      "image/png": "[encoded data removed]",
      "text/plain": [
       "<Figure size 432x288 with 1 Axes>"
      ]
     },
     "metadata": {
      "needs_background": "light"
     },
     "output_type": "display_data"
    }
   ],
   "source": [
    "ax = df['steps_in_trial'].plot()\n",
    "ax.set_xlabel(\"trial\")\n",
    "ax.set_ylabel(\"steps for solution\")\n",
    "ax.legend([\"steps\"])"
   ]
  },
  {
   "cell_type": "code",
   "execution_count": 24,
   "metadata": {},
   "outputs": [
    {
     "name": "stdout",
     "output_type": "stream",
     "text": [
      "The best action: 0\n",
      "1 [189.4468880751367, 1280.3139057920484, 1e-06, 1e-06]\n",
      "\n",
      "The best action: 1\n",
      "1 [1e-06, 1022.2228432857141, 1e-06, 1e-06]\n",
      "\n",
      "The best action: 1\n",
      "2 [1e-06, 1e-06, 885.2147964418139, 1e-06]\n",
      "\n",
      "The best action: 2\n",
      "2 [1e-06, 1e-06, 853.0610656271485, 1e-06]\n",
      "\n",
      "The best action: 2\n",
      "3 [1e-06, 504.44956740303866, 1e-06, 921.9530187832484]\n",
      "\n",
      "The best action: 3\n",
      "3 [1e-06, 1e-06, 1e-06, 1100.0509562769134]\n",
      "\n"
     ]
    }
   ],
   "source": [
    "moves = [\n",
    "    {'action': 0, 'exp_state': '1001'},  # 3 -> 0\n",
    "    {'action': 1, 'exp_state': '1010'},  # 0 -> 1\n",
    "    {'action': 1, 'exp_state': '1100'},  # 1 -> 2\n",
    "    {'action': 2, 'exp_state': '0101'},  # 2 -> 5\n",
    "    {'action': 2, 'exp_state': '0110'},  # 5 -> 8\n",
    "    {'action': 3, 'exp_state': '0010'},  # 8 -> 7\n",
    "]\n",
    "\n",
    "for step in moves:\n",
    "    match_set = population.generate_match_set(step['exp_state'], 0)\n",
    "    print(f\"The best action: {step['action']}\")\n",
    "    prediction = match_set.prediction_array\n",
    "    print(f\"{prediction.index(max(prediction))} {prediction}\")\n",
    "    print()"
   ]
  },
  {
   "cell_type": "code",
   "execution_count": 25,
   "metadata": {},
   "outputs": [
    {
     "name": "stdout",
     "output_type": "stream",
     "text": [
      "The best action: 0\n",
      "Cond:1001 - Act:0 - Num:1 [fit: 1.000, exp: 5747.00, pred: 189.447, Error:62.900812807082936]\n",
      "Cond:1001 - Act:1 - Num:24 [fit: 1.000, exp: 30598.00, pred: 1280.314, Error:1.145587242960733e-12]\n",
      "Cond:1001 - Act:2 - Num:1 [fit: 0.000, exp: 0.00, pred: 0.000, Error:1e-06]\n",
      "Cond:1001 - Act:3 - Num:1 [fit: 0.000, exp: 0.00, pred: 0.000, Error:1e-06]\n",
      "The best action: 1\n",
      "Cond:1010 - Act:0 - Num:1 [fit: 0.000, exp: 0.00, pred: 0.000, Error:1e-06]\n",
      "Cond:1010 - Act:1 - Num:24 [fit: 1.000, exp: 6967.00, pred: 1022.223, Error:4.560794602049363e-13]\n",
      "Cond:1010 - Act:2 - Num:1 [fit: 0.000, exp: 0.00, pred: 0.000, Error:1e-06]\n",
      "Cond:1010 - Act:3 - Num:1 [fit: 0.000, exp: 0.00, pred: 0.000, Error:1e-06]\n",
      "The best action: 1\n",
      "Cond:1100 - Act:0 - Num:1 [fit: 0.000, exp: 0.00, pred: 0.000, Error:1e-06]\n",
      "Cond:1100 - Act:1 - Num:1 [fit: 0.000, exp: 0.00, pred: 0.000, Error:1e-06]\n",
      "Cond:1100 - Act:2 - Num:25 [fit: 1.000, exp: 12982.00, pred: 885.215, Error:5.685935895621327e-13]\n",
      "Cond:1100 - Act:3 - Num:1 [fit: 0.000, exp: 0.00, pred: 0.000, Error:1e-06]\n",
      "The best action: 2\n",
      "Cond:0101 - Act:0 - Num:1 [fit: 0.000, exp: 0.00, pred: 0.000, Error:1e-06]\n",
      "Cond:0101 - Act:1 - Num:1 [fit: 0.000, exp: 0.00, pred: 0.000, Error:1e-06]\n",
      "Cond:0101 - Act:2 - Num:25 [fit: 1.000, exp: 6005.00, pred: 853.061, Error:4.547645146517495e-13]\n",
      "Cond:0101 - Act:3 - Num:1 [fit: 0.000, exp: 0.00, pred: 0.000, Error:1e-06]\n",
      "The best action: 2\n",
      "Cond:0110 - Act:0 - Num:1 [fit: 0.000, exp: 0.00, pred: 0.000, Error:1e-06]\n",
      "Cond:0110 - Act:1 - Num:1 [fit: 1.000, exp: 90.00, pred: 504.450, Error:0.21057623942027062]\n",
      "Cond:0110 - Act:2 - Num:1 [fit: 0.000, exp: 0.00, pred: 0.000, Error:1e-06]\n",
      "Cond:0110 - Act:3 - Num:25 [fit: 1.000, exp: 2037.00, pred: 921.953, Error:4.547488415483494e-13]\n",
      "The best action: 3\n",
      "Cond:0010 - Act:0 - Num:1 [fit: 0.000, exp: 0.00, pred: 0.000, Error:1e-06]\n",
      "Cond:0010 - Act:1 - Num:1 [fit: 0.000, exp: 0.00, pred: 0.000, Error:1e-06]\n",
      "Cond:0010 - Act:2 - Num:1 [fit: 0.000, exp: 0.00, pred: 0.000, Error:1e-06]\n",
      "Cond:0010 - Act:3 - Num:25 [fit: 1.000, exp: 670.00, pred: 1100.051, Error:1.1368684684463848e-12]\n"
     ]
    }
   ],
   "source": [
    "for step in moves:\n",
    "    match_set = population.generate_match_set(step['exp_state'], 0)\n",
    "    print(f\"The best action: {step['action']}\")\n",
    "    for cl in sorted(match_set, key=lambda cl: cl.action)[0:10]:\n",
    "        print(cl)\n"
   ]
  }
 ],
 "metadata": {
  "kernelspec": {
   "display_name": "Python 3",
   "language": "python",
   "name": "python3"
  },
  "language_info": {
   "codemirror_mode": {
    "name": "ipython",
    "version": 3
   },
   "file_extension": ".py",
   "mimetype": "text/x-python",
   "name": "python",
   "nbconvert_exporter": "python",
   "pygments_lexer": "ipython3",
   "version": "3.7.10"
  }
 },
 "nbformat": 4,
 "nbformat_minor": 1
}
