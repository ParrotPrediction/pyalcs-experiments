{
 "cells": [
  {
   "cell_type": "code",
   "execution_count": 1,
   "metadata": {},
   "outputs": [],
   "source": [
    "# logging \n",
    "import logging\n",
    "logging.basicConfig(level=logging.INFO)\n",
    "logger = logging.getLogger(__name__)\n"
   ]
  },
  {
   "cell_type": "code",
   "execution_count": 2,
   "metadata": {},
   "outputs": [
    {
     "name": "stdout",
     "output_type": "stream",
     "text": [
      "This is how maze looks like:\n",
      "\n",
      "\u001b[37m□\u001b[0m \u001b[37m□\u001b[0m \u001b[37m□\u001b[0m \u001b[37m□\u001b[0m \u001b[37m□\u001b[0m\n",
      "\u001b[36mX\u001b[0m \u001b[37m□\u001b[0m \u001b[37m□\u001b[0m \u001b[37m□\u001b[0m \u001b[37m□\u001b[0m\n",
      "\u001b[30m■\u001b[0m \u001b[30m■\u001b[0m \u001b[33m$\u001b[0m \u001b[37m□\u001b[0m \u001b[37m□\u001b[0m\n",
      "\u001b[30m■\u001b[0m \u001b[30m■\u001b[0m \u001b[30m■\u001b[0m \u001b[37m□\u001b[0m \u001b[37m□\u001b[0m\n",
      "\u001b[30m■\u001b[0m \u001b[30m■\u001b[0m \u001b[30m■\u001b[0m \u001b[37m□\u001b[0m \u001b[37m□\u001b[0m\n"
     ]
    }
   ],
   "source": [
    "# environment setup\n",
    "import gym\n",
    "# noinspection PyUnresolvedReferences\n",
    "import gym_woods\n",
    "\n",
    "maze = gym.make('Woods1-v0')\n",
    "print(\"This is how maze looks like:\")\n",
    "situation = maze.reset()\n",
    "maze.render()\n"
   ]
  },
  {
   "cell_type": "code",
   "execution_count": 3,
   "metadata": {},
   "outputs": [],
   "source": [
    "from lcs.agents.xcs import XCS, Configuration\n",
    "from utils.xcs_utils import *\n",
    "\n",
    "cfg = Configuration(number_of_actions=8,\n",
    "                    max_population=1600,\n",
    "                    learning_rate=0.2,\n",
    "                    alpha=0.1,\n",
    "                    gamma=0.71,\n",
    "                    mutation_chance=0.01,\n",
    "                    delta=0.1,\n",
    "                    ga_threshold=25,\n",
    "                    covering_wildcard_chance = 0.7,\n",
    "                    chi=1,      # crossover\n",
    "                    metrics_trial_frequency=100,\n",
    "                    initial_prediction =10,  # p_i\n",
    "                    initial_error = 0,  # epsilon_i\n",
    "                    initial_fitness = 10,  # f_i\n",
    "                    user_metrics_collector_fcn=xcs_metrics)\n"
   ]
  },
  {
   "cell_type": "code",
   "execution_count": 4,
   "metadata": {
    "scrolled": true
   },
   "outputs": [
    {
     "name": "stderr",
     "output_type": "stream",
     "text": [
      "INFO:lcs.agents.Agent:{'trial': 0, 'steps_in_trial': 1, 'reward': 1000.0, 'perf_time': 0.00047239999999959537, 'population': 8, 'numerosity': 8, 'average_specificity': 12.75, 'fraction_accuracy': 1.0}\n"
     ]
    },
    {
     "name": "stdout",
     "output_type": "stream",
     "text": [
      "Executing 0 experiment\n"
     ]
    },
    {
     "name": "stderr",
     "output_type": "stream",
     "text": [
      "INFO:lcs.agents.Agent:{'trial': 100, 'steps_in_trial': 2, 'reward': 1504.1548361035784, 'perf_time': 0.006607600000000602, 'population': 264, 'numerosity': 1603, 'average_specificity': 10.123518402994385, 'fraction_accuracy': 2.0223529468227565e-18}\n",
      "INFO:lcs.agents.Agent:{'trial': 200, 'steps_in_trial': 4, 'reward': 1255.6096947680135, 'perf_time': 0.00807600000000086, 'population': 221, 'numerosity': 1636, 'average_specificity': 7.235941320293398, 'fraction_accuracy': 9.116482292505803e-18}\n",
      "INFO:lcs.agents.Agent:{'trial': 300, 'steps_in_trial': 6, 'reward': 1130.2101830360214, 'perf_time': 0.018849900000001085, 'population': 269, 'numerosity': 1857, 'average_specificity': 9.990845449649973, 'fraction_accuracy': 5.7811789702408024e-18}\n",
      "INFO:lcs.agents.Agent:{'trial': 400, 'steps_in_trial': 7, 'reward': 1097.75560647724, 'perf_time': 0.012708599999999848, 'population': 237, 'numerosity': 1821, 'average_specificity': 7.786381109280615, 'fraction_accuracy': 4.1736124655626805e-17}\n",
      "INFO:lcs.agents.Agent:{'trial': 500, 'steps_in_trial': 16, 'reward': 1004.1789444831745, 'perf_time': 0.04987759999999852, 'population': 264, 'numerosity': 2117, 'average_specificity': 8.61076995748701, 'fraction_accuracy': 7.256041304979413e-17}\n",
      "INFO:lcs.agents.Agent:{'trial': 600, 'steps_in_trial': 17, 'reward': 1003.4381828772223, 'perf_time': 0.05070580000000291, 'population': 260, 'numerosity': 2129, 'average_specificity': 7.046970408642555, 'fraction_accuracy': 3.408548664653742e-17}\n",
      "INFO:lcs.agents.Agent:{'trial': 700, 'steps_in_trial': 26, 'reward': 1000.2321215204573, 'perf_time': 0.0633636000000024, 'population': 270, 'numerosity': 2462, 'average_specificity': 8.03127538586515, 'fraction_accuracy': 5.9762455819293225e-18}\n",
      "INFO:lcs.agents.Agent:{'trial': 800, 'steps_in_trial': 5, 'reward': 1248.7320916970837, 'perf_time': 0.01531310000000019, 'population': 293, 'numerosity': 2670, 'average_specificity': 7.344194756554307, 'fraction_accuracy': 6.225021203088247e-18}\n",
      "INFO:lcs.agents.Agent:{'trial': 900, 'steps_in_trial': 11, 'reward': 1023.6607895777664, 'perf_time': 0.04438640000000049, 'population': 366, 'numerosity': 3615, 'average_specificity': 8.097648686030428, 'fraction_accuracy': 8.026765585997684e-17}\n",
      "INFO:lcs.agents.Agent:{'trial': 0, 'steps_in_trial': 4, 'reward': 1000.0, 'perf_time': 0.010870700000005229, 'population': 414, 'numerosity': 4562, 'average_specificity': 11.068171854449803, 'fraction_accuracy': 2.996470273358862e-17}\n",
      "INFO:lcs.agents.Agent:{'trial': 0, 'steps_in_trial': 4, 'reward': 1000.0, 'perf_time': 0.010870700000005229, 'population': 414, 'numerosity': 4562, 'average_specificity': 11.068171854449803, 'fraction_accuracy': 2.996470273358862e-17}\n",
      "INFO:lcs.agents.Agent:{'trial': 100, 'steps_in_trial': 4, 'reward': 1460.7290129023108, 'perf_time': 0.011446999999996876, 'population': 399, 'numerosity': 4207, 'average_specificity': 9.655811742334205, 'fraction_accuracy': 2.8473404621539156e-17}\n",
      "INFO:lcs.agents.Agent:{'trial': 100, 'steps_in_trial': 4, 'reward': 1460.7290129023108, 'perf_time': 0.011446999999996876, 'population': 399, 'numerosity': 4207, 'average_specificity': 9.655811742334205, 'fraction_accuracy': 2.8473404621539156e-17}\n",
      "INFO:lcs.agents.Agent:{'trial': 200, 'steps_in_trial': 3, 'reward': 1588.393744412426, 'perf_time': 0.0079521999999983, 'population': 371, 'numerosity': 3788, 'average_specificity': 9.538806758183737, 'fraction_accuracy': 3.082901510373173e-17}\n",
      "INFO:lcs.agents.Agent:{'trial': 200, 'steps_in_trial': 3, 'reward': 1588.393744412426, 'perf_time': 0.0079521999999983, 'population': 371, 'numerosity': 3788, 'average_specificity': 9.538806758183737, 'fraction_accuracy': 3.082901510373173e-17}\n",
      "INFO:lcs.agents.Agent:{'trial': 300, 'steps_in_trial': 13, 'reward': 1000.000000425869, 'perf_time': 0.026899200000002566, 'population': 299, 'numerosity': 2466, 'average_specificity': 8.036090835360909, 'fraction_accuracy': 3.497510101315578e-17}\n",
      "INFO:lcs.agents.Agent:{'trial': 300, 'steps_in_trial': 13, 'reward': 1000.000000425869, 'perf_time': 0.026899200000002566, 'population': 299, 'numerosity': 2466, 'average_specificity': 8.036090835360909, 'fraction_accuracy': 3.497510101315578e-17}\n",
      "INFO:lcs.agents.Agent:{'trial': 400, 'steps_in_trial': 50, 'reward': 3.6552529472225224e-05, 'perf_time': 0.05360910000000274, 'population': 218, 'numerosity': 1600, 'average_specificity': 9.2375, 'fraction_accuracy': 3.8878450171860393e-14}\n",
      "INFO:lcs.agents.Agent:{'trial': 400, 'steps_in_trial': 50, 'reward': 3.6552529472225224e-05, 'perf_time': 0.05360910000000274, 'population': 218, 'numerosity': 1600, 'average_specificity': 9.2375, 'fraction_accuracy': 3.8878450171860393e-14}\n"
     ]
    }
   ],
   "source": [
    "df = avg_experiment(maze=maze,\n",
    "                         cfg=cfg,\n",
    "                         number_of_tests=1,\n",
    "                         explore_trials=1000,\n",
    "                         exploit_trials=500)\n"
   ]
  },
  {
   "cell_type": "code",
   "execution_count": 5,
   "metadata": {},
   "outputs": [
    {
     "data": {
      "text/html": [
       "<div>\n",
       "<style scoped>\n",
       "    .dataframe tbody tr th:only-of-type {\n",
       "        vertical-align: middle;\n",
       "    }\n",
       "\n",
       "    .dataframe tbody tr th {\n",
       "        vertical-align: top;\n",
       "    }\n",
       "\n",
       "    .dataframe thead th {\n",
       "        text-align: right;\n",
       "    }\n",
       "</style>\n",
       "<table border=\"1\" class=\"dataframe\">\n",
       "  <thead>\n",
       "    <tr style=\"text-align: right;\">\n",
       "      <th></th>\n",
       "      <th>steps_in_trial</th>\n",
       "      <th>reward</th>\n",
       "      <th>perf_time</th>\n",
       "      <th>population</th>\n",
       "      <th>numerosity</th>\n",
       "      <th>average_specificity</th>\n",
       "      <th>fraction_accuracy</th>\n",
       "    </tr>\n",
       "    <tr>\n",
       "      <th>trial</th>\n",
       "      <th></th>\n",
       "      <th></th>\n",
       "      <th></th>\n",
       "      <th></th>\n",
       "      <th></th>\n",
       "      <th></th>\n",
       "      <th></th>\n",
       "    </tr>\n",
       "  </thead>\n",
       "  <tbody>\n",
       "    <tr>\n",
       "      <th>0</th>\n",
       "      <td>1</td>\n",
       "      <td>1000.000000</td>\n",
       "      <td>0.000472</td>\n",
       "      <td>8</td>\n",
       "      <td>8</td>\n",
       "      <td>12.750000</td>\n",
       "      <td>1.000000e+00</td>\n",
       "    </tr>\n",
       "    <tr>\n",
       "      <th>100</th>\n",
       "      <td>2</td>\n",
       "      <td>1504.154836</td>\n",
       "      <td>0.006608</td>\n",
       "      <td>264</td>\n",
       "      <td>1603</td>\n",
       "      <td>10.123518</td>\n",
       "      <td>2.022353e-18</td>\n",
       "    </tr>\n",
       "    <tr>\n",
       "      <th>200</th>\n",
       "      <td>4</td>\n",
       "      <td>1255.609695</td>\n",
       "      <td>0.008076</td>\n",
       "      <td>221</td>\n",
       "      <td>1636</td>\n",
       "      <td>7.235941</td>\n",
       "      <td>9.116482e-18</td>\n",
       "    </tr>\n",
       "    <tr>\n",
       "      <th>300</th>\n",
       "      <td>6</td>\n",
       "      <td>1130.210183</td>\n",
       "      <td>0.018850</td>\n",
       "      <td>269</td>\n",
       "      <td>1857</td>\n",
       "      <td>9.990845</td>\n",
       "      <td>5.781179e-18</td>\n",
       "    </tr>\n",
       "    <tr>\n",
       "      <th>400</th>\n",
       "      <td>7</td>\n",
       "      <td>1097.755606</td>\n",
       "      <td>0.012709</td>\n",
       "      <td>237</td>\n",
       "      <td>1821</td>\n",
       "      <td>7.786381</td>\n",
       "      <td>4.173612e-17</td>\n",
       "    </tr>\n",
       "    <tr>\n",
       "      <th>500</th>\n",
       "      <td>16</td>\n",
       "      <td>1004.178944</td>\n",
       "      <td>0.049878</td>\n",
       "      <td>264</td>\n",
       "      <td>2117</td>\n",
       "      <td>8.610770</td>\n",
       "      <td>7.256041e-17</td>\n",
       "    </tr>\n",
       "    <tr>\n",
       "      <th>600</th>\n",
       "      <td>17</td>\n",
       "      <td>1003.438183</td>\n",
       "      <td>0.050706</td>\n",
       "      <td>260</td>\n",
       "      <td>2129</td>\n",
       "      <td>7.046970</td>\n",
       "      <td>3.408549e-17</td>\n",
       "    </tr>\n",
       "    <tr>\n",
       "      <th>700</th>\n",
       "      <td>26</td>\n",
       "      <td>1000.232122</td>\n",
       "      <td>0.063364</td>\n",
       "      <td>270</td>\n",
       "      <td>2462</td>\n",
       "      <td>8.031275</td>\n",
       "      <td>5.976246e-18</td>\n",
       "    </tr>\n",
       "    <tr>\n",
       "      <th>800</th>\n",
       "      <td>5</td>\n",
       "      <td>1248.732092</td>\n",
       "      <td>0.015313</td>\n",
       "      <td>293</td>\n",
       "      <td>2670</td>\n",
       "      <td>7.344195</td>\n",
       "      <td>6.225021e-18</td>\n",
       "    </tr>\n",
       "    <tr>\n",
       "      <th>900</th>\n",
       "      <td>11</td>\n",
       "      <td>1023.660790</td>\n",
       "      <td>0.044386</td>\n",
       "      <td>366</td>\n",
       "      <td>3615</td>\n",
       "      <td>8.097649</td>\n",
       "      <td>8.026766e-17</td>\n",
       "    </tr>\n",
       "    <tr>\n",
       "      <th>1000</th>\n",
       "      <td>4</td>\n",
       "      <td>1000.000000</td>\n",
       "      <td>0.010871</td>\n",
       "      <td>414</td>\n",
       "      <td>4562</td>\n",
       "      <td>11.068172</td>\n",
       "      <td>2.996470e-17</td>\n",
       "    </tr>\n",
       "    <tr>\n",
       "      <th>1100</th>\n",
       "      <td>4</td>\n",
       "      <td>1460.729013</td>\n",
       "      <td>0.011447</td>\n",
       "      <td>399</td>\n",
       "      <td>4207</td>\n",
       "      <td>9.655812</td>\n",
       "      <td>2.847340e-17</td>\n",
       "    </tr>\n",
       "    <tr>\n",
       "      <th>1200</th>\n",
       "      <td>3</td>\n",
       "      <td>1588.393744</td>\n",
       "      <td>0.007952</td>\n",
       "      <td>371</td>\n",
       "      <td>3788</td>\n",
       "      <td>9.538807</td>\n",
       "      <td>3.082902e-17</td>\n",
       "    </tr>\n",
       "    <tr>\n",
       "      <th>1300</th>\n",
       "      <td>13</td>\n",
       "      <td>1000.000000</td>\n",
       "      <td>0.026899</td>\n",
       "      <td>299</td>\n",
       "      <td>2466</td>\n",
       "      <td>8.036091</td>\n",
       "      <td>3.497510e-17</td>\n",
       "    </tr>\n",
       "    <tr>\n",
       "      <th>1400</th>\n",
       "      <td>50</td>\n",
       "      <td>0.000037</td>\n",
       "      <td>0.053609</td>\n",
       "      <td>218</td>\n",
       "      <td>1600</td>\n",
       "      <td>9.237500</td>\n",
       "      <td>3.887845e-14</td>\n",
       "    </tr>\n",
       "  </tbody>\n",
       "</table>\n",
       "</div>"
      ],
      "text/plain": [
       "       steps_in_trial       reward  perf_time  population  numerosity  \\\n",
       "trial                                                                   \n",
       "0                   1  1000.000000   0.000472           8           8   \n",
       "100                 2  1504.154836   0.006608         264        1603   \n",
       "200                 4  1255.609695   0.008076         221        1636   \n",
       "300                 6  1130.210183   0.018850         269        1857   \n",
       "400                 7  1097.755606   0.012709         237        1821   \n",
       "500                16  1004.178944   0.049878         264        2117   \n",
       "600                17  1003.438183   0.050706         260        2129   \n",
       "700                26  1000.232122   0.063364         270        2462   \n",
       "800                 5  1248.732092   0.015313         293        2670   \n",
       "900                11  1023.660790   0.044386         366        3615   \n",
       "1000                4  1000.000000   0.010871         414        4562   \n",
       "1100                4  1460.729013   0.011447         399        4207   \n",
       "1200                3  1588.393744   0.007952         371        3788   \n",
       "1300               13  1000.000000   0.026899         299        2466   \n",
       "1400               50     0.000037   0.053609         218        1600   \n",
       "\n",
       "       average_specificity  fraction_accuracy  \n",
       "trial                                          \n",
       "0                12.750000       1.000000e+00  \n",
       "100              10.123518       2.022353e-18  \n",
       "200               7.235941       9.116482e-18  \n",
       "300               9.990845       5.781179e-18  \n",
       "400               7.786381       4.173612e-17  \n",
       "500               8.610770       7.256041e-17  \n",
       "600               7.046970       3.408549e-17  \n",
       "700               8.031275       5.976246e-18  \n",
       "800               7.344195       6.225021e-18  \n",
       "900               8.097649       8.026766e-17  \n",
       "1000             11.068172       2.996470e-17  \n",
       "1100              9.655812       2.847340e-17  \n",
       "1200              9.538807       3.082902e-17  \n",
       "1300              8.036091       3.497510e-17  \n",
       "1400              9.237500       3.887845e-14  "
      ]
     },
     "metadata": {},
     "output_type": "display_data"
    }
   ],
   "source": [
    "display(df)"
   ]
  },
  {
   "cell_type": "code",
   "execution_count": 6,
   "metadata": {},
   "outputs": [
    {
     "data": {
      "text/plain": [
       "<matplotlib.legend.Legend at 0x2427f031448>"
      ]
     },
     "execution_count": 6,
     "metadata": {},
     "output_type": "execute_result"
    },
    {
     "data": {
      "image/png": "[encoded data removed]",
      "text/plain": [
       "<Figure size 432x288 with 1 Axes>"
      ]
     },
     "metadata": {
      "needs_background": "light"
     },
     "output_type": "display_data"
    }
   ],
   "source": [
    "import pandas as pd\n",
    "import numpy as np\n",
    "\n",
    "ax = df['average_specificity'].plot()\n",
    "ax.set_xlabel(\"trial\")\n",
    "ax.set_ylabel(\"average_specificity\")\n",
    "ax.legend([\"specificity\"])\n"
   ]
  },
  {
   "cell_type": "code",
   "execution_count": 7,
   "metadata": {},
   "outputs": [
    {
     "data": {
      "text/plain": [
       "<matplotlib.legend.Legend at 0x2427f1ea148>"
      ]
     },
     "execution_count": 7,
     "metadata": {},
     "output_type": "execute_result"
    },
    {
     "data": {
      "image/png": "[encoded data removed]",
      "text/plain": [
       "<Figure size 432x288 with 1 Axes>"
      ]
     },
     "metadata": {
      "needs_background": "light"
     },
     "output_type": "display_data"
    }
   ],
   "source": [
    "ax = df['fraction_accuracy'].plot()\n",
    "ax.set_xlabel(\"trial\")\n",
    "ax.set_ylabel(\"fraction accuracy\")\n",
    "ax.legend([\"fraction accuracy\"])"
   ]
  },
  {
   "cell_type": "code",
   "execution_count": 8,
   "metadata": {},
   "outputs": [
    {
     "data": {
      "text/plain": [
       "<matplotlib.legend.Legend at 0x2427f21ec08>"
      ]
     },
     "execution_count": 8,
     "metadata": {},
     "output_type": "execute_result"
    },
    {
     "data": {
      "image/png": "[encoded data removed]",
      "text/plain": [
       "<Figure size 432x288 with 1 Axes>"
      ]
     },
     "metadata": {
      "needs_background": "light"
     },
     "output_type": "display_data"
    }
   ],
   "source": [
    "ax = df[['numerosity', 'population']].plot()\n",
    "ax.set_xlabel(\"trial\")\n",
    "ax.set_ylabel(\"population\")\n",
    "ax.legend([\"numerosity\", \"population\"])"
   ]
  },
  {
   "cell_type": "code",
   "execution_count": 9,
   "metadata": {},
   "outputs": [
    {
     "data": {
      "text/plain": [
       "<matplotlib.legend.Legend at 0x2427f25b908>"
      ]
     },
     "execution_count": 9,
     "metadata": {},
     "output_type": "execute_result"
    },
    {
     "data": {
      "image/png": "[encoded data removed]",
      "text/plain": [
       "<Figure size 432x288 with 1 Axes>"
      ]
     },
     "metadata": {
      "needs_background": "light"
     },
     "output_type": "display_data"
    }
   ],
   "source": [
    "ax = df['steps_in_trial'].plot()\n",
    "ax.set_xlabel(\"trial\")\n",
    "ax.set_ylabel(\"steps in trial\")\n",
    "ax.legend([\"steps\"])"
   ]
  }
 ],
 "metadata": {
  "kernelspec": {
   "display_name": "Python 3",
   "language": "python",
   "name": "python3"
  },
  "language_info": {
   "codemirror_mode": {
    "name": "ipython",
    "version": 3
   },
   "file_extension": ".py",
   "mimetype": "text/x-python",
   "name": "python",
   "nbconvert_exporter": "python",
   "pygments_lexer": "ipython3",
   "version": "3.7.10"
  }
 },
 "nbformat": 4,
 "nbformat_minor": 1
}
