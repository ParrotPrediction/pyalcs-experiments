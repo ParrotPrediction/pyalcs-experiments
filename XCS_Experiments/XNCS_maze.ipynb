{
 "cells": [
  {
   "cell_type": "code",
   "execution_count": 4,
   "metadata": {},
   "outputs": [],
   "source": [
    "# logging \n",
    "import logging\n",
    "logging.basicConfig(level=logging.INFO)\n",
    "logger = logging.getLogger(__name__)\n"
   ]
  },
  {
   "cell_type": "code",
   "execution_count": 5,
   "metadata": {},
   "outputs": [
    {
     "name": "stdout",
     "output_type": "stream",
     "text": [
      "This is how maze looks like\n",
      "<class 'tuple'>\n",
      "('1', '1', '9', '0', '0', '1', '0', '1')\n",
      "\n",
      "\u001b[30m■\u001b[0m \u001b[30m■\u001b[0m \u001b[30m■\u001b[0m \u001b[30m■\u001b[0m \u001b[30m■\u001b[0m \u001b[30m■\u001b[0m \u001b[30m■\u001b[0m \u001b[30m■\u001b[0m\n",
      "\u001b[30m■\u001b[0m \u001b[37m□\u001b[0m \u001b[37m□\u001b[0m \u001b[30m■\u001b[0m \u001b[37m□\u001b[0m \u001b[31mA\u001b[0m \u001b[33m$\u001b[0m \u001b[30m■\u001b[0m\n",
      "\u001b[30m■\u001b[0m \u001b[30m■\u001b[0m \u001b[37m□\u001b[0m \u001b[37m□\u001b[0m \u001b[30m■\u001b[0m \u001b[37m□\u001b[0m \u001b[37m□\u001b[0m \u001b[30m■\u001b[0m\n",
      "\u001b[30m■\u001b[0m \u001b[30m■\u001b[0m \u001b[37m□\u001b[0m \u001b[30m■\u001b[0m \u001b[37m□\u001b[0m \u001b[37m□\u001b[0m \u001b[30m■\u001b[0m \u001b[30m■\u001b[0m\n",
      "\u001b[30m■\u001b[0m \u001b[37m□\u001b[0m \u001b[37m□\u001b[0m \u001b[37m□\u001b[0m \u001b[37m□\u001b[0m \u001b[37m□\u001b[0m \u001b[37m□\u001b[0m \u001b[30m■\u001b[0m\n",
      "\u001b[30m■\u001b[0m \u001b[30m■\u001b[0m \u001b[37m□\u001b[0m \u001b[30m■\u001b[0m \u001b[37m□\u001b[0m \u001b[37m□\u001b[0m \u001b[37m□\u001b[0m \u001b[30m■\u001b[0m\n",
      "\u001b[30m■\u001b[0m \u001b[37m□\u001b[0m \u001b[37m□\u001b[0m \u001b[37m□\u001b[0m \u001b[37m□\u001b[0m \u001b[30m■\u001b[0m \u001b[37m□\u001b[0m \u001b[30m■\u001b[0m\n",
      "\u001b[30m■\u001b[0m \u001b[30m■\u001b[0m \u001b[30m■\u001b[0m \u001b[30m■\u001b[0m \u001b[30m■\u001b[0m \u001b[30m■\u001b[0m \u001b[30m■\u001b[0m \u001b[30m■\u001b[0m\n"
     ]
    }
   ],
   "source": [
    "# environment setup\n",
    "import gym\n",
    "# noinspection PyUnresolvedReferences\n",
    "import gym_maze\n",
    "\n",
    "maze = gym.make('Maze4-v0')\n",
    "print(\"This is how maze looks like\")\n",
    "situation = maze.reset()\n",
    "print(type(situation))\n",
    "print(situation)\n",
    "maze.render()"
   ]
  },
  {
   "cell_type": "code",
   "execution_count": 6,
   "metadata": {},
   "outputs": [],
   "source": [
    "from lcs.agents.xncs import XNCS, Configuration\n",
    "from utils.nxcs_utils import *\n"
   ]
  },
  {
   "cell_type": "code",
   "execution_count": 7,
   "metadata": {},
   "outputs": [],
   "source": [
    "cfg = Configuration(number_of_actions=8,\n",
    "                    max_population=1800,\n",
    "                    learning_rate=0.2,\n",
    "                    mutation_chance=0.08,\n",
    "                    chi=0.8,\n",
    "                    ga_threshold=25,\n",
    "                    deletion_threshold=25,\n",
    "                    delta=0.1,\n",
    "                    initial_error=0.01,\n",
    "                    metrics_trial_frequency=50,\n",
    "                    covering_wildcard_chance = 0.9,\n",
    "                    user_metrics_collector_fcn=xcs_maze_metrics,\n",
    "                    lmc=10,\n",
    "                    lem=200\n",
    "                   )\n"
   ]
  },
  {
   "cell_type": "code",
   "execution_count": 8,
   "metadata": {},
   "outputs": [
    {
     "name": "stderr",
     "output_type": "stream",
     "text": [
      "INFO:lcs.agents.Agent:{'trial': 0, 'steps_in_trial': 50, 'reward': [2.8566112218933495e-40, 8.400832354756411e-40, 3.0089755020947694e-40, 5.373945905528416e-40, 1.331157464532907e-39, 7.2462590953615124e-40, 1.2413732752587846e-39, 8.502887850913455e-40], 'numerosity': 74, 'population': 62, 'average_specificity': 2.324324324324324, 'fraction_accuracy': 0.09002976190476192}\n",
      "INFO:lcs.agents.Agent:{'trial': 300, 'steps_in_trial': 4, 'reward': [19.04115636378121, 282.52017309674295, 226.5067539676668, 8.421850892652117, 5.431990731337813, 15.731977597089834, 11.963625607846652, 14.502821779440746], 'numerosity': 366, 'population': 206, 'average_specificity': 1.7978142076502732, 'fraction_accuracy': 0.00012562392327923093}\n",
      "INFO:lcs.agents.Agent:{'trial': 600, 'steps_in_trial': 3, 'reward': [9.141033961819875, 503.015057902867, 8.863140156841938, 9.473248851504252, 10.954050664477583, 5.113548666757833, 10.610099188209634, 6.427631106549245], 'numerosity': 376, 'population': 207, 'average_specificity': 1.8085106382978724, 'fraction_accuracy': 0.002685303593785624}\n",
      "INFO:lcs.agents.Agent:{'trial': 900, 'steps_in_trial': 8, 'reward': [236.62182341932353, 17.71831643714007, 169.77052904218897, 9.885835547509476, 3.7531533272066295, 3.492515487209963, 4.602117471447815, 8.500254071547586], 'numerosity': 380, 'population': 207, 'average_specificity': 1.7973684210526315, 'fraction_accuracy': 0.029532007613889643}\n",
      "INFO:lcs.agents.Agent:{'trial': 1200, 'steps_in_trial': 4, 'reward': [135.7803478314048, 450.7886225104653, 14.72247029751609, 4.572676939519304, 11.63699361165655, 15.083527445343089, 25.43823816003597, 5.356680235746249], 'numerosity': 382, 'population': 207, 'average_specificity': 1.7958115183246073, 'fraction_accuracy': 0.0064821793669427264}\n",
      "INFO:lcs.agents.Agent:{'trial': 1500, 'steps_in_trial': 1, 'reward': [218.9779987445338, 560.3080029864477, 4.628089864393865, 2.8052160415666796, 11.859517588053768, 4.325274560832783, 6.284963398815211, 33.54393462509168], 'numerosity': 382, 'population': 207, 'average_specificity': 1.7958115183246073, 'fraction_accuracy': 0.005001010385987953}\n",
      "INFO:lcs.agents.Agent:{'trial': 1800, 'steps_in_trial': 7, 'reward': [13.135194486657284, 493.6535088133593, 12.417384480151332, 22.74253293618887, 10.932168768078794, 3.2971373023255612, 4.570089035733947, 19.641580876438702], 'numerosity': 382, 'population': 207, 'average_specificity': 1.7958115183246073, 'fraction_accuracy': 0.007293011429806728}\n",
      "INFO:lcs.agents.Agent:{'trial': 2100, 'steps_in_trial': 5, 'reward': [33.69239728997236, 564.1246357266482, 3.3293423929079964, 2.3605428093942398, 8.754942465846353, 2.873620086579977, 6.588360230435732, 14.707460577876544], 'numerosity': 382, 'population': 207, 'average_specificity': 1.7958115183246073, 'fraction_accuracy': 0.0019079329181071096}\n",
      "INFO:lcs.agents.Agent:{'trial': 2400, 'steps_in_trial': 7, 'reward': [95.27548590841683, 400.8054428471048, 51.28659289721928, 9.397675259440012, 10.264134401651521, 2.873620086579977, 14.182604637030222, 16.305140503616084], 'numerosity': 382, 'population': 207, 'average_specificity': 1.7958115183246073, 'fraction_accuracy': 0.0013329544909790438}\n",
      "INFO:lcs.agents.Agent:{'trial': 2700, 'steps_in_trial': 4, 'reward': [3.8719475782675903, 598.8377444943224, 43.41676649934165, 1.7303620527514036, 11.178729589211162, 2.873620086579977, 0.6959811681736219, 52.13301090746528], 'numerosity': 382, 'population': 207, 'average_specificity': 1.7958115183246073, 'fraction_accuracy': 0.00041098423726583603}\n"
     ]
    }
   ],
   "source": [
    "agent = XNCS(cfg)\n",
    "explore_population, explore_metrics =\\\n",
    "    agent.explore(maze, 3000, True)"
   ]
  },
  {
   "cell_type": "code",
   "execution_count": 9,
   "metadata": {
    "scrolled": false
   },
   "outputs": [
    {
     "name": "stdout",
     "output_type": "stream",
     "text": [
      "Cond:00#000## - Act:0 - Num:3 [fit: 0.000, exp: 769.00, pred: 362.000]\n",
      "Cond:001##001 - Act:1 - Num:2 [fit: 0.000, exp: 299.00, pred: 735.269]\n",
      "Cond:0010#001 - Act:2 - Num:1 [fit: 0.000, exp: 153.00, pred: 273.097]\n",
      "Cond:0#100001 - Act:3 - Num:3 [fit: 0.006, exp: 21.00, pred: 209.456]\n",
      "Cond:001000#1 - Act:4 - Num:3 [fit: 0.000, exp: 65.00, pred: 253.011]\n",
      "Cond:00100#01 - Act:5 - Num:1 [fit: 0.004, exp: 156.00, pred: 279.322]\n",
      "Cond:10100001 - Act:6 - Num:2 [fit: 0.244, exp: 3.00, pred: 6.916]\n",
      "Cond:00100001 - Act:7 - Num:1 [fit: 0.001, exp: 82.00, pred: 273.815]\n",
      "Cond:0#01#01# - Act:0 - Num:3 [fit: 0.000, exp: 814.00, pred: 428.572]\n",
      "Cond:#9010010 - Act:1 - Num:3 [fit: 0.000, exp: 2354.00, pred: 541.384]\n",
      "Cond:09010010 - Act:2 - Num:1 [fit: 0.000, exp: 235.00, pred: 247.591]\n",
      "Cond:09010010 - Act:3 - Num:3 [fit: 0.000, exp: 56.00, pred: 306.198]\n",
      "Cond:#9010010 - Act:4 - Num:3 [fit: 0.000, exp: 94.00, pred: 300.504]\n",
      "Cond:09##001# - Act:5 - Num:3 [fit: 0.000, exp: 59.00, pred: 371.361]\n",
      "Cond:#9#10010 - Act:6 - Num:3 [fit: 0.000, exp: 61.00, pred: 291.819]\n",
      "Cond:0#01#0## - Act:7 - Num:3 [fit: 0.000, exp: 85.00, pred: 284.094]\n",
      "Cond:11001011 - Act:0 - Num:3 [fit: 0.000, exp: 62.00, pred: 203.801]\n",
      "Cond:11001011 - Act:1 - Num:3 [fit: 0.000, exp: 200.00, pred: 255.488]\n",
      "Cond:110010#1 - Act:2 - Num:3 [fit: 0.000, exp: 80.00, pred: 273.577]\n",
      "Cond:11001#11 - Act:3 - Num:3 [fit: 0.000, exp: 617.00, pred: 422.712]\n",
      "Cond:###0#01# - Act:4 - Num:3 [fit: 0.000, exp: 163.00, pred: 320.334]\n",
      "Cond:1##0#011 - Act:5 - Num:3 [fit: 0.000, exp: 34.00, pred: 285.247]\n",
      "Cond:#1001011 - Act:6 - Num:3 [fit: 0.000, exp: 34.00, pred: 209.057]\n",
      "Cond:#1001011 - Act:7 - Num:3 [fit: 0.000, exp: 47.00, pred: 250.444]\n",
      "Cond:119#0101 - Act:0 - Num:1 [fit: 0.000, exp: 244.00, pred: 226.670]\n",
      "Cond:119###01 - Act:1 - Num:4 [fit: 0.000, exp: 242.00, pred: 313.680]\n",
      "Cond:1##001#1 - Act:2 - Num:3 [fit: 0.000, exp: 371.00, pred: 248.102]\n",
      "Cond:11900#01 - Act:3 - Num:3 [fit: 0.000, exp: 74.00, pred: 222.356]\n",
      "Cond:#190##01 - Act:4 - Num:3 [fit: 0.000, exp: 265.00, pred: 407.212]\n",
      "Cond:119#0101 - Act:5 - Num:2 [fit: 0.000, exp: 44.00, pred: 225.464]\n",
      "Cond:11900101 - Act:6 - Num:1 [fit: 0.064, exp: 30.00, pred: 226.547]\n",
      "Cond:1190#101 - Act:7 - Num:3 [fit: 0.000, exp: 45.00, pred: 225.734]\n",
      "Cond:10101#00 - Act:0 - Num:3 [fit: 0.000, exp: 100.00, pred: 229.454]\n",
      "Cond:1010#0#0 - Act:1 - Num:3 [fit: 0.000, exp: 377.00, pred: 762.358]\n",
      "Cond:1010#000 - Act:2 - Num:1 [fit: 0.000, exp: 60.00, pred: 266.907]\n",
      "Cond:#01####0 - Act:3 - Num:3 [fit: 0.293, exp: 541.00, pred: 538.738]\n",
      "Cond:101010#0 - Act:4 - Num:1 [fit: 0.003, exp: 43.00, pred: 322.756]\n",
      "Cond:1010#00# - Act:5 - Num:3 [fit: 0.000, exp: 63.00, pred: 260.278]\n",
      "Cond:1#10##00 - Act:6 - Num:3 [fit: 0.000, exp: 48.00, pred: 288.850]\n",
      "Cond:1#101000 - Act:7 - Num:3 [fit: 0.077, exp: 35.00, pred: 175.312]\n",
      "Cond:1##00101 - Act:0 - Num:3 [fit: 0.000, exp: 551.00, pred: 212.303]\n",
      "Cond:1110##01 - Act:1 - Num:3 [fit: 0.000, exp: 103.00, pred: 180.127]\n",
      "Cond:1#1#0101 - Act:3 - Num:2 [fit: 0.315, exp: 164.00, pred: 552.258]\n",
      "Cond:1110#10# - Act:4 - Num:3 [fit: 0.000, exp: 61.00, pred: 218.462]\n",
      "Cond:1#10#101 - Act:5 - Num:1 [fit: 0.000, exp: 48.00, pred: 175.658]\n",
      "Cond:1110010# - Act:6 - Num:2 [fit: 0.002, exp: 23.00, pred: 167.197]\n",
      "Cond:1110010# - Act:7 - Num:3 [fit: 0.000, exp: 34.00, pred: 200.439]\n",
      "Cond:11#01111 - Act:0 - Num:3 [fit: 0.060, exp: 8.00, pred: 236.590]\n",
      "Cond:11#0#111 - Act:1 - Num:3 [fit: 0.056, exp: 11.00, pred: 210.205]\n",
      "Cond:1100111# - Act:2 - Num:3 [fit: 0.001, exp: 23.00, pred: 178.690]\n",
      "Cond:1#0011#1 - Act:4 - Num:1 [fit: 0.001, exp: 25.00, pred: 189.596]\n",
      "Cond:11001111 - Act:5 - Num:1 [fit: 0.038, exp: 9.00, pred: 147.714]\n",
      "Cond:11001111 - Act:6 - Num:3 [fit: 0.024, exp: 11.00, pred: 159.321]\n",
      "Cond:11#0111# - Act:7 - Num:1 [fit: 0.047, exp: 8.00, pred: 126.576]\n",
      "Cond:0#0101#0 - Act:0 - Num:1 [fit: 0.000, exp: 80.00, pred: 241.403]\n",
      "Cond:0#0#0110 - Act:1 - Num:1 [fit: 0.000, exp: 271.00, pred: 324.762]\n",
      "Cond:0101#11# - Act:2 - Num:1 [fit: 0.080, exp: 466.00, pred: 523.418]\n",
      "Cond:010101## - Act:3 - Num:3 [fit: 0.000, exp: 83.00, pred: 230.883]\n",
      "Cond:01010110 - Act:4 - Num:1 [fit: 0.000, exp: 30.00, pred: 194.867]\n",
      "Cond:010##110 - Act:5 - Num:1 [fit: 0.000, exp: 29.00, pred: 228.229]\n",
      "Cond:01010110 - Act:6 - Num:1 [fit: 0.000, exp: 84.00, pred: 256.103]\n",
      "Cond:01010#10 - Act:7 - Num:1 [fit: 0.041, exp: 44.00, pred: 223.438]\n",
      "Cond:01000000 - Act:0 - Num:3 [fit: 0.000, exp: 82.00, pred: 268.571]\n",
      "Cond:0100000# - Act:1 - Num:3 [fit: 0.000, exp: 78.00, pred: 360.871]\n",
      "Cond:#1#00000 - Act:2 - Num:3 [fit: 0.000, exp: 38.00, pred: 265.867]\n",
      "Cond:01000000 - Act:3 - Num:3 [fit: 0.010, exp: 16.00, pred: 180.552]\n",
      "Cond:#10#0#00 - Act:4 - Num:3 [fit: 0.003, exp: 17.00, pred: 251.009]\n",
      "Cond:010#0#00 - Act:5 - Num:3 [fit: 0.006, exp: 23.00, pred: 274.079]\n",
      "Cond:01000#00 - Act:6 - Num:3 [fit: 0.000, exp: 92.00, pred: 273.765]\n",
      "Cond:#100#000 - Act:7 - Num:3 [fit: 0.000, exp: 294.00, pred: 591.685]\n",
      "Cond:10#0#010 - Act:0 - Num:1 [fit: 0.000, exp: 283.00, pred: 500.807]\n",
      "Cond:#0000010 - Act:1 - Num:2 [fit: 0.000, exp: 1644.00, pred: 826.590]\n",
      "Cond:100000#0 - Act:2 - Num:3 [fit: 0.000, exp: 324.00, pred: 278.687]\n",
      "Cond:10#00010 - Act:3 - Num:2 [fit: 0.000, exp: 39.00, pred: 277.021]\n",
      "Cond:10#0#0#0 - Act:5 - Num:3 [fit: 0.000, exp: 58.00, pred: 283.264]\n",
      "Cond:1#000010 - Act:6 - Num:2 [fit: 0.000, exp: 47.00, pred: 286.466]\n",
      "Cond:10000010 - Act:7 - Num:3 [fit: 0.005, exp: 55.00, pred: 294.252]\n",
      "Cond:1#00100# - Act:0 - Num:1 [fit: 0.000, exp: 102.00, pred: 290.634]\n",
      "Cond:#000100# - Act:1 - Num:3 [fit: 0.000, exp: 345.00, pred: 250.207]\n",
      "Cond:10001#0# - Act:2 - Num:3 [fit: 0.000, exp: 334.00, pred: 427.273]\n",
      "Cond:##001000 - Act:3 - Num:3 [fit: 0.000, exp: 33.00, pred: 219.538]\n",
      "Cond:10001#0# - Act:4 - Num:3 [fit: 0.006, exp: 17.00, pred: 262.323]\n",
      "Cond:001010#0 - Act:5 - Num:3 [fit: 0.244, exp: 3.00, pred: 0.000]\n",
      "Cond:10001000 - Act:6 - Num:3 [fit: 0.003, exp: 21.00, pred: 265.582]\n",
      "Cond:#000#00# - Act:7 - Num:3 [fit: 0.000, exp: 427.00, pred: 404.759]\n",
      "Cond:0010000# - Act:1 - Num:2 [fit: 0.000, exp: 302.00, pred: 735.269]\n",
      "Cond:001#0##1 - Act:2 - Num:3 [fit: 0.000, exp: 208.00, pred: 260.829]\n",
      "Cond:0010001# - Act:3 - Num:3 [fit: 0.000, exp: 498.00, pred: 370.348]\n",
      "Cond:#01#00## - Act:5 - Num:3 [fit: 0.000, exp: 351.00, pred: 314.932]\n",
      "Cond:00##0011 - Act:6 - Num:3 [fit: 0.001, exp: 26.00, pred: 198.943]\n",
      "Cond:001#0##1 - Act:7 - Num:2 [fit: 0.000, exp: 108.00, pred: 292.972]\n",
      "Cond:0101#1#1 - Act:0 - Num:3 [fit: 0.000, exp: 230.00, pred: 349.281]\n",
      "Cond:01010101 - Act:1 - Num:1 [fit: 0.000, exp: 85.00, pred: 232.502]\n",
      "Cond:0101###1 - Act:2 - Num:2 [fit: 0.000, exp: 215.00, pred: 296.369]\n",
      "Cond:01010101 - Act:4 - Num:1 [fit: 0.002, exp: 24.00, pred: 219.968]\n",
      "Cond:#1010101 - Act:5 - Num:1 [fit: 0.013, exp: 16.00, pred: 241.500]\n",
      "Cond:01010101 - Act:6 - Num:1 [fit: 0.019, exp: 12.00, pred: 235.113]\n",
      "Cond:010#010# - Act:7 - Num:1 [fit: 0.003, exp: 24.00, pred: 223.643]\n",
      "Cond:1000111# - Act:0 - Num:1 [fit: 0.000, exp: 97.00, pred: 274.680]\n",
      "Cond:100#1#11 - Act:1 - Num:1 [fit: 0.000, exp: 394.00, pred: 757.293]\n",
      "Cond:10001#1# - Act:2 - Num:1 [fit: 0.001, exp: 29.00, pred: 267.503]\n",
      "Cond:1000#111 - Act:3 - Num:1 [fit: 0.004, exp: 25.00, pred: 193.396]\n",
      "Cond:10#01#11 - Act:5 - Num:3 [fit: 0.003, exp: 20.00, pred: 255.466]\n",
      "Cond:10#01111 - Act:6 - Num:3 [fit: 0.003, exp: 20.00, pred: 213.324]\n",
      "Cond:#000111# - Act:7 - Num:3 [fit: 0.003, exp: 23.00, pred: 218.067]\n",
      "Cond:0#10001# - Act:0 - Num:1 [fit: 0.000, exp: 362.00, pred: 361.997]\n",
      "Cond:00100010 - Act:2 - Num:1 [fit: 0.195, exp: 4.00, pred: 63.311]\n",
      "Cond:00100010 - Act:6 - Num:1 [fit: 0.033, exp: 12.00, pred: 196.543]\n",
      "Cond:00100010 - Act:7 - Num:1 [fit: 0.056, exp: 13.00, pred: 272.173]\n",
      "Cond:10011100 - Act:0 - Num:1 [fit: 0.004, exp: 19.00, pred: 312.415]\n",
      "Cond:10011#00 - Act:1 - Num:1 [fit: 0.000, exp: 452.00, pred: 723.399]\n",
      "Cond:10#11#00 - Act:2 - Num:1 [fit: 0.032, exp: 14.00, pred: 308.447]\n",
      "Cond:10011100 - Act:3 - Num:1 [fit: 0.080, exp: 8.00, pred: 132.007]\n",
      "Cond:#0011100 - Act:4 - Num:1 [fit: 0.083, exp: 14.00, pred: 196.091]\n",
      "Cond:10#111#0 - Act:5 - Num:1 [fit: 0.015, exp: 13.00, pred: 259.164]\n",
      "Cond:1001110# - Act:6 - Num:1 [fit: 0.011, exp: 11.00, pred: 225.322]\n",
      "Cond:10011##0 - Act:7 - Num:1 [fit: 0.017, exp: 9.00, pred: 262.670]\n",
      "Cond:001#0##1 - Act:5 - Num:1 [fit: 0.000, exp: 256.00, pred: 265.613]\n",
      "Cond:00010010 - Act:0 - Num:2 [fit: 0.000, exp: 507.00, pred: 428.572]\n",
      "Cond:000100#0 - Act:1 - Num:3 [fit: 0.041, exp: 5.00, pred: 218.078]\n",
      "Cond:0#0##01# - Act:2 - Num:3 [fit: 0.000, exp: 303.00, pred: 267.933]\n",
      "Cond:00010010 - Act:3 - Num:1 [fit: 0.051, exp: 10.00, pred: 181.937]\n",
      "Cond:00010010 - Act:4 - Num:3 [fit: 0.000, exp: 53.00, pred: 246.024]\n",
      "Cond:0001##10 - Act:5 - Num:3 [fit: 0.000, exp: 51.00, pred: 265.694]\n",
      "Cond:00#1001# - Act:6 - Num:3 [fit: 0.120, exp: 11.00, pred: 233.528]\n",
      "Cond:00#10010 - Act:7 - Num:3 [fit: 0.003, exp: 24.00, pred: 251.434]\n",
      "Cond:01011101 - Act:1 - Num:1 [fit: 0.097, exp: 9.00, pred: 213.165]\n",
      "Cond:01#10101 - Act:2 - Num:2 [fit: 0.000, exp: 152.00, pred: 243.607]\n",
      "Cond:#101#101 - Act:3 - Num:1 [fit: 0.000, exp: 51.00, pred: 229.215]\n",
      "Cond:010111#1 - Act:4 - Num:1 [fit: 0.074, exp: 6.00, pred: 159.277]\n",
      "Cond:01011#01 - Act:5 - Num:1 [fit: 0.110, exp: 10.00, pred: 196.715]\n",
      "Cond:0#011#01 - Act:6 - Num:1 [fit: 0.011, exp: 11.00, pred: 257.289]\n",
      "Cond:01011101 - Act:7 - Num:1 [fit: 0.144, exp: 3.00, pred: 91.832]\n",
      "Cond:100111#1 - Act:0 - Num:1 [fit: 0.074, exp: 6.00, pred: 233.990]\n",
      "Cond:10011111 - Act:2 - Num:1 [fit: 0.038, exp: 9.00, pred: 255.342]\n",
      "Cond:1#011111 - Act:3 - Num:1 [fit: 0.010, exp: 15.00, pred: 239.023]\n",
      "Cond:10#111#1 - Act:4 - Num:1 [fit: 0.047, exp: 8.00, pred: 217.477]\n",
      "Cond:#0011111 - Act:5 - Num:3 [fit: 0.051, exp: 4.00, pred: 164.841]\n",
      "Cond:10011111 - Act:6 - Num:1 [fit: 0.038, exp: 9.00, pred: 163.989]\n",
      "Cond:1#011111 - Act:7 - Num:1 [fit: 0.074, exp: 6.00, pred: 135.800]\n",
      "Cond:0#111101 - Act:0 - Num:1 [fit: 0.074, exp: 6.00, pred: 186.316]\n",
      "Cond:#0111#01 - Act:1 - Num:1 [fit: 0.000, exp: 267.00, pred: 746.083]\n",
      "Cond:00111101 - Act:2 - Num:1 [fit: 0.032, exp: 17.00, pred: 216.929]\n",
      "Cond:00111101 - Act:3 - Num:1 [fit: 0.011, exp: 11.00, pred: 229.266]\n",
      "Cond:00111101 - Act:4 - Num:1 [fit: 0.003, exp: 21.00, pred: 195.710]\n",
      "Cond:00111##1 - Act:5 - Num:1 [fit: 0.026, exp: 13.00, pred: 214.319]\n",
      "Cond:001111#1 - Act:6 - Num:1 [fit: 0.125, exp: 6.00, pred: 155.548]\n",
      "Cond:0#11#101 - Act:7 - Num:1 [fit: 0.010, exp: 15.00, pred: 189.243]\n",
      "Cond:00#01000 - Act:0 - Num:1 [fit: 0.001, exp: 27.00, pred: 240.113]\n",
      "Cond:0000##00 - Act:2 - Num:1 [fit: 0.001, exp: 30.00, pred: 225.981]\n",
      "Cond:0000100# - Act:3 - Num:1 [fit: 0.000, exp: 46.00, pred: 217.728]\n",
      "Cond:00001000 - Act:4 - Num:1 [fit: 0.003, exp: 20.00, pred: 241.520]\n",
      "Cond:000010#0 - Act:6 - Num:1 [fit: 0.000, exp: 39.00, pred: 256.732]\n",
      "Cond:00001000 - Act:7 - Num:1 [fit: 0.012, exp: 316.00, pred: 440.521]\n",
      "Cond:#0000##1 - Act:0 - Num:1 [fit: 0.000, exp: 1278.00, pred: 615.179]\n",
      "Cond:0#000101 - Act:1 - Num:1 [fit: 0.000, exp: 149.00, pred: 370.228]\n",
      "Cond:00000101 - Act:2 - Num:1 [fit: 0.000, exp: 40.00, pred: 326.216]\n",
      "Cond:00000101 - Act:3 - Num:1 [fit: 0.000, exp: 36.00, pred: 235.609]\n",
      "Cond:00000101 - Act:4 - Num:1 [fit: 0.000, exp: 44.00, pred: 291.699]\n",
      "Cond:#000010# - Act:5 - Num:1 [fit: 0.000, exp: 48.00, pred: 292.828]\n",
      "Cond:000#0101 - Act:6 - Num:1 [fit: 0.000, exp: 31.00, pred: 259.395]\n",
      "Cond:00000101 - Act:7 - Num:1 [fit: 0.000, exp: 35.00, pred: 298.455]\n",
      "Cond:91111##0 - Act:0 - Num:1 [fit: 0.000, exp: 396.00, pred: 238.241]\n",
      "Cond:911110#0 - Act:1 - Num:1 [fit: 0.000, exp: 300.00, pred: 230.258]\n",
      "Cond:91111#00 - Act:2 - Num:1 [fit: 0.000, exp: 134.00, pred: 233.228]\n",
      "Cond:91111000 - Act:3 - Num:1 [fit: 0.000, exp: 43.00, pred: 232.649]\n",
      "Cond:91#11000 - Act:4 - Num:1 [fit: 0.000, exp: 47.00, pred: 218.217]\n",
      "Cond:91111000 - Act:5 - Num:1 [fit: 0.000, exp: 41.00, pred: 220.108]\n",
      "Cond:91#11#00 - Act:6 - Num:1 [fit: 0.000, exp: 237.00, pred: 402.970]\n",
      "Cond:91111000 - Act:7 - Num:1 [fit: 0.000, exp: 54.00, pred: 225.116]\n",
      "Cond:001##001 - Act:7 - Num:1 [fit: 0.001, exp: 80.00, pred: 273.815]\n",
      "Cond:01#10100 - Act:0 - Num:3 [fit: 0.000, exp: 43.00, pred: 245.339]\n",
      "Cond:0111#1#0 - Act:1 - Num:3 [fit: 0.000, exp: 403.00, pred: 297.699]\n",
      "Cond:0#110100 - Act:2 - Num:3 [fit: 0.041, exp: 35.00, pred: 215.618]\n",
      "Cond:0#110#00 - Act:3 - Num:3 [fit: 0.035, exp: 18.00, pred: 156.300]\n",
      "Cond:011##100 - Act:4 - Num:3 [fit: 0.002, exp: 31.00, pred: 208.535]\n",
      "Cond:#111#100 - Act:5 - Num:3 [fit: 0.001, exp: 24.00, pred: 201.008]\n",
      "Cond:01#1#1#0 - Act:6 - Num:3 [fit: 0.001, exp: 245.00, pred: 214.019]\n",
      "Cond:01#100## - Act:7 - Num:3 [fit: 0.180, exp: 2.00, pred: 0.000]\n",
      "Cond:000#1000 - Act:5 - Num:3 [fit: 0.466, exp: 102.00, pred: 253.971]\n",
      "Cond:01111#10 - Act:0 - Num:1 [fit: 0.400, exp: 160.00, pred: 366.265]\n",
      "Cond:#1111110 - Act:1 - Num:1 [fit: 0.000, exp: 204.00, pred: 298.253]\n",
      "Cond:0111#110 - Act:2 - Num:1 [fit: 0.004, exp: 23.00, pred: 216.716]\n",
      "Cond:01111110 - Act:3 - Num:1 [fit: 0.051, exp: 10.00, pred: 137.266]\n",
      "Cond:01111#10 - Act:4 - Num:1 [fit: 0.030, exp: 10.00, pred: 183.919]\n",
      "Cond:0#111110 - Act:5 - Num:1 [fit: 0.062, exp: 11.00, pred: 197.428]\n",
      "Cond:01111110 - Act:6 - Num:1 [fit: 0.000, exp: 55.00, pred: 193.188]\n",
      "Cond:011#111# - Act:7 - Num:2 [fit: 0.000, exp: 37.00, pred: 221.720]\n",
      "Cond:10001000 - Act:5 - Num:1 [fit: 0.001, exp: 21.00, pred: 295.456]\n",
      "Cond:11110000 - Act:0 - Num:1 [fit: 0.000, exp: 117.00, pred: 219.779]\n",
      "Cond:1111000# - Act:1 - Num:1 [fit: 0.000, exp: 287.00, pred: 222.121]\n",
      "Cond:111100#0 - Act:2 - Num:1 [fit: 0.000, exp: 72.00, pred: 220.338]\n",
      "Cond:11110000 - Act:3 - Num:1 [fit: 0.000, exp: 35.00, pred: 226.311]\n",
      "Cond:11110000 - Act:4 - Num:1 [fit: 0.000, exp: 34.00, pred: 204.920]\n",
      "Cond:1111#000 - Act:5 - Num:1 [fit: 0.001, exp: 149.00, pred: 225.083]\n",
      "Cond:11110000 - Act:6 - Num:1 [fit: 0.337, exp: 151.00, pred: 436.397]\n",
      "Cond:111100#0 - Act:7 - Num:1 [fit: 0.000, exp: 116.00, pred: 227.816]\n",
      "Cond:01110100 - Act:7 - Num:1 [fit: 0.068, exp: 153.00, pred: 458.150]\n",
      "Cond:#0000010 - Act:0 - Num:1 [fit: 0.000, exp: 283.00, pred: 500.807]\n",
      "Cond:1110010# - Act:2 - Num:1 [fit: 0.000, exp: 151.00, pred: 234.003]\n",
      "Cond:00010010 - Act:2 - Num:1 [fit: 0.000, exp: 66.00, pred: 267.071]\n",
      "Cond:1#1#0101 - Act:5 - Num:1 [fit: 0.000, exp: 41.00, pred: 175.676]\n",
      "Cond:10100001 - Act:5 - Num:1 [fit: 0.244, exp: 0.00, pred: 6.916]\n",
      "Cond:0010000# - Act:5 - Num:1 [fit: 0.004, exp: 151.00, pred: 279.322]\n",
      "Cond:1#000010 - Act:2 - Num:1 [fit: 0.000, exp: 316.00, pred: 278.687]\n",
      "Cond:10#00010 - Act:1 - Num:1 [fit: 0.000, exp: 1579.00, pred: 826.590]\n",
      "Cond:011#111# - Act:2 - Num:1 [fit: 0.026, exp: 9.00, pred: 220.959]\n"
     ]
    }
   ],
   "source": [
    "for cl in explore_population:\n",
    "    print(str(cl))"
   ]
  },
  {
   "cell_type": "code",
   "execution_count": 10,
   "metadata": {},
   "outputs": [
    {
     "data": {
      "text/plain": [
       "<matplotlib.legend.Legend at 0x2860b39cfc8>"
      ]
     },
     "execution_count": 10,
     "metadata": {},
     "output_type": "execute_result"
    },
    {
     "data": {
      "image/png": "[encoded data removed]",
      "text/plain": [
       "<Figure size 432x288 with 1 Axes>"
      ]
     },
     "metadata": {
      "needs_background": "light"
     },
     "output_type": "display_data"
    }
   ],
   "source": [
    "import pandas as pd\n",
    "import numpy as np\n",
    "\n",
    "df = pd.DataFrame(metric[\"average_specificity\"] for metric in explore_metrics)\n",
    "ax = df.plot()\n",
    "ax.set_xlabel(\"trial\")\n",
    "ax.set_ylabel(\"average_specificity\")\n",
    "ax.legend([\"specificity\"])\n"
   ]
  },
  {
   "cell_type": "code",
   "execution_count": 11,
   "metadata": {},
   "outputs": [
    {
     "data": {
      "text/plain": [
       "<matplotlib.legend.Legend at 0x2860b4bba88>"
      ]
     },
     "execution_count": 11,
     "metadata": {},
     "output_type": "execute_result"
    },
    {
     "data": {
      "image/png": "[encoded data removed]",
      "text/plain": [
       "<Figure size 432x288 with 1 Axes>"
      ]
     },
     "metadata": {
      "needs_background": "light"
     },
     "output_type": "display_data"
    }
   ],
   "source": [
    "df = pd.DataFrame(metric[\"fraction_accuracy\"] for metric in explore_metrics)\n",
    "ax = df.plot()\n",
    "ax.set_xlabel(\"trial\")\n",
    "ax.set_ylabel(\"fraction accuracy\")\n",
    "ax.legend([\"fraction accuracy\"])\n"
   ]
  },
  {
   "cell_type": "code",
   "execution_count": 12,
   "metadata": {},
   "outputs": [
    {
     "data": {
      "image/png": "[encoded data removed]",
      "text/plain": [
       "<Figure size 432x288 with 1 Axes>"
      ]
     },
     "metadata": {
      "needs_background": "light"
     },
     "output_type": "display_data"
    }
   ],
   "source": [
    "\n",
    "df = pd.DataFrame(zip([metric[\"population\"] for metric in explore_metrics], [metric[\"numerosity\"] for metric in explore_metrics]))\n",
    "ax = df.plot()\n",
    "ax.set_xlabel(\"trial\")\n",
    "ax.set_ylabel(\"population\")\n",
    "ax.legend([\"pop\", \"num\"])\n",
    "\n",
    "steps_averaged = []\n"
   ]
  },
  {
   "cell_type": "code",
   "execution_count": 13,
   "metadata": {},
   "outputs": [
    {
     "data": {
      "text/plain": [
       "<matplotlib.legend.Legend at 0x2860b5c3588>"
      ]
     },
     "execution_count": 13,
     "metadata": {},
     "output_type": "execute_result"
    },
    {
     "data": {
      "image/png": "[encoded data removed]",
      "text/plain": [
       "<Figure size 432x288 with 1 Axes>"
      ]
     },
     "metadata": {
      "needs_background": "light"
     },
     "output_type": "display_data"
    }
   ],
   "source": [
    "\n",
    "\n",
    "xf = [metric[\"steps_in_trial\"] for metric in explore_metrics]\n",
    "temp_df = np.array_split(xf, 20)\n",
    "for i in range(len(temp_df)):\n",
    "    temp_df[i] = np.mean(temp_df[i]) \n",
    "df = pd.DataFrame(temp_df)\n",
    "# df = pd.DataFrame(metric[\"steps_in_trial\"] for metric in explore_metrics)\n",
    "ax = df.plot()\n",
    "ax.set_xlabel(\"trial grouped up[*50]\")\n",
    "ax.set_ylabel(\"steps for solution\")\n",
    "ax.legend([\"steps\"])\n"
   ]
  },
  {
   "cell_type": "code",
   "execution_count": null,
   "metadata": {},
   "outputs": [],
   "source": []
  },
  {
   "cell_type": "code",
   "execution_count": null,
   "metadata": {},
   "outputs": [],
   "source": [
    "\n",
    "\n"
   ]
  },
  {
   "cell_type": "code",
   "execution_count": null,
   "metadata": {},
   "outputs": [],
   "source": []
  }
 ],
 "metadata": {
  "kernelspec": {
   "display_name": "Python 3",
   "language": "python",
   "name": "python3"
  },
  "language_info": {
   "codemirror_mode": {
    "name": "ipython",
    "version": 3
   },
   "file_extension": ".py",
   "mimetype": "text/x-python",
   "name": "python",
   "nbconvert_exporter": "python",
   "pygments_lexer": "ipython3",
   "version": "3.7.10"
  }
 },
 "nbformat": 4,
 "nbformat_minor": 1
}
