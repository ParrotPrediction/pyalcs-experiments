{
 "cells": [
  {
   "cell_type": "code",
   "execution_count": 10,
   "metadata": {},
   "outputs": [],
   "source": [
    "# logging \n",
    "import logging\n",
    "logging.basicConfig(level=logging.INFO)\n",
    "logger = logging.getLogger(__name__)\n"
   ]
  },
  {
   "cell_type": "code",
   "execution_count": 11,
   "metadata": {},
   "outputs": [
    {
     "name": "stdout",
     "output_type": "stream",
     "text": [
      "This is how maze looks like\n",
      "<class 'tuple'>\n",
      "('0', '1', '0', '1', '0', '1', '1', '1')\n",
      "\n",
      "\u001b[30m■\u001b[0m \u001b[30m■\u001b[0m \u001b[30m■\u001b[0m \u001b[30m■\u001b[0m \u001b[30m■\u001b[0m \u001b[30m■\u001b[0m \u001b[30m■\u001b[0m \u001b[30m■\u001b[0m \u001b[30m■\u001b[0m\n",
      "\u001b[30m■\u001b[0m \u001b[37m□\u001b[0m \u001b[37m□\u001b[0m \u001b[37m□\u001b[0m \u001b[37m□\u001b[0m \u001b[37m□\u001b[0m \u001b[37m□\u001b[0m \u001b[33m$\u001b[0m \u001b[30m■\u001b[0m\n",
      "\u001b[30m■\u001b[0m \u001b[37m□\u001b[0m \u001b[37m□\u001b[0m \u001b[30m■\u001b[0m \u001b[37m□\u001b[0m \u001b[30m■\u001b[0m \u001b[30m■\u001b[0m \u001b[37m□\u001b[0m \u001b[30m■\u001b[0m\n",
      "\u001b[30m■\u001b[0m \u001b[37m□\u001b[0m \u001b[30m■\u001b[0m \u001b[37m□\u001b[0m \u001b[37m□\u001b[0m \u001b[37m□\u001b[0m \u001b[37m□\u001b[0m \u001b[37m□\u001b[0m \u001b[30m■\u001b[0m\n",
      "\u001b[30m■\u001b[0m \u001b[31mA\u001b[0m \u001b[37m□\u001b[0m \u001b[37m□\u001b[0m \u001b[30m■\u001b[0m \u001b[30m■\u001b[0m \u001b[37m□\u001b[0m \u001b[37m□\u001b[0m \u001b[30m■\u001b[0m\n",
      "\u001b[30m■\u001b[0m \u001b[37m□\u001b[0m \u001b[30m■\u001b[0m \u001b[37m□\u001b[0m \u001b[30m■\u001b[0m \u001b[37m□\u001b[0m \u001b[37m□\u001b[0m \u001b[30m■\u001b[0m \u001b[30m■\u001b[0m\n",
      "\u001b[30m■\u001b[0m \u001b[37m□\u001b[0m \u001b[30m■\u001b[0m \u001b[37m□\u001b[0m \u001b[37m□\u001b[0m \u001b[30m■\u001b[0m \u001b[37m□\u001b[0m \u001b[37m□\u001b[0m \u001b[30m■\u001b[0m\n",
      "\u001b[30m■\u001b[0m \u001b[37m□\u001b[0m \u001b[37m□\u001b[0m \u001b[37m□\u001b[0m \u001b[37m□\u001b[0m \u001b[37m□\u001b[0m \u001b[30m■\u001b[0m \u001b[37m□\u001b[0m \u001b[30m■\u001b[0m\n",
      "\u001b[30m■\u001b[0m \u001b[30m■\u001b[0m \u001b[30m■\u001b[0m \u001b[30m■\u001b[0m \u001b[30m■\u001b[0m \u001b[30m■\u001b[0m \u001b[30m■\u001b[0m \u001b[30m■\u001b[0m \u001b[30m■\u001b[0m\n"
     ]
    }
   ],
   "source": [
    "# environment setup\n",
    "import gym\n",
    "# noinspection PyUnresolvedReferences\n",
    "import gym_maze\n",
    "\n",
    "maze = gym.make('Maze5-v0')\n",
    "print(\"This is how maze looks like\")\n",
    "situation = maze.reset()\n",
    "print(type(situation))\n",
    "print(situation)\n",
    "maze.render()\n"
   ]
  },
  {
   "cell_type": "code",
   "execution_count": 12,
   "metadata": {},
   "outputs": [],
   "source": [
    "from lcs.agents.xcs import XCS, Configuration\n",
    "from utils.xcs_utils import *\n",
    "\n",
    "cfg = Configuration(number_of_actions=8,\n",
    "                    max_population=1600,\n",
    "                    learning_rate=0.2,\n",
    "                    alpha=0.1,\n",
    "                    gamma=0.71,\n",
    "                    mutation_chance=0.01,\n",
    "                    delta=0.1,\n",
    "                    ga_threshold=25,\n",
    "                    covering_wildcard_chance = 0.7,\n",
    "                    chi=1,      # crossover\n",
    "                    metrics_trial_frequency=100,\n",
    "                    initial_prediction =10,  # p_i\n",
    "                    initial_error = 0,  # epsilon_i\n",
    "                    initial_fitness = 10,  # f_i\n",
    "                    user_metrics_collector_fcn=xcs_metrics)\n"
   ]
  },
  {
   "cell_type": "code",
   "execution_count": 13,
   "metadata": {
    "scrolled": true
   },
   "outputs": [
    {
     "name": "stderr",
     "output_type": "stream",
     "text": [
      "INFO:lcs.agents.Agent:{'trial': 0, 'steps_in_trial': 100, 'reward': 0.0, 'perf_time': 0.06490789999998015, 'population': 118, 'numerosity': 167, 'average_specificity': 7.251497005988024, 'fraction_accuracy': 1.0}\n"
     ]
    },
    {
     "name": "stdout",
     "output_type": "stream",
     "text": [
      "Executing 0 experiment\n"
     ]
    },
    {
     "name": "stderr",
     "output_type": "stream",
     "text": [
      "INFO:lcs.agents.Agent:{'trial': 100, 'steps_in_trial': 30, 'reward': 1000.0345501267201, 'perf_time': 0.10261690000015733, 'population': 389, 'numerosity': 1600, 'average_specificity': 6.7275, 'fraction_accuracy': 2.6545478371694405e-16}\n",
      "INFO:lcs.agents.Agent:{'trial': 200, 'steps_in_trial': 9, 'reward': 1000.0000000000001, 'perf_time': 0.04221030000007886, 'population': 427, 'numerosity': 1600, 'average_specificity': 6.305, 'fraction_accuracy': 7.133214498104759e-15}\n",
      "INFO:lcs.agents.Agent:{'trial': 300, 'steps_in_trial': 19, 'reward': 1001.4924803628722, 'perf_time': 0.07440409999981057, 'population': 417, 'numerosity': 1602, 'average_specificity': 6.504369538077404, 'fraction_accuracy': 2.1510520454084546e-15}\n",
      "INFO:lcs.agents.Agent:{'trial': 400, 'steps_in_trial': 58, 'reward': 1000.0000024149464, 'perf_time': 0.22334860000000845, 'population': 418, 'numerosity': 1600, 'average_specificity': 6.29125, 'fraction_accuracy': 2.073694525858471e-15}\n",
      "INFO:lcs.agents.Agent:{'trial': 500, 'steps_in_trial': 100, 'reward': 1.675609681536095e-12, 'perf_time': 0.40097160000004806, 'population': 414, 'numerosity': 1600, 'average_specificity': 6.56875, 'fraction_accuracy': 6.395394106590811e-13}\n",
      "INFO:lcs.agents.Agent:{'trial': 600, 'steps_in_trial': 2, 'reward': 1504.1000000098427, 'perf_time': 0.007696799999848736, 'population': 408, 'numerosity': 1610, 'average_specificity': 7.822360248447205, 'fraction_accuracy': 3.0104455562010197e-13}\n",
      "INFO:lcs.agents.Agent:{'trial': 700, 'steps_in_trial': 23, 'reward': 1000.0, 'perf_time': 0.08154340000010052, 'population': 438, 'numerosity': 1600, 'average_specificity': 6.03125, 'fraction_accuracy': 3.797291047644312e-15}\n",
      "INFO:lcs.agents.Agent:{'trial': 800, 'steps_in_trial': 17, 'reward': 1002.9606831241265, 'perf_time': 0.06626740000001519, 'population': 385, 'numerosity': 1618, 'average_specificity': 6.177379480840544, 'fraction_accuracy': 2.2127582131626325e-13}\n",
      "INFO:lcs.agents.Agent:{'trial': 900, 'steps_in_trial': 99, 'reward': 1000.0, 'perf_time': 0.3405913999999939, 'population': 411, 'numerosity': 1610, 'average_specificity': 6.719875776397515, 'fraction_accuracy': 5.4687322008958656e-15}\n",
      "INFO:lcs.agents.Agent:{'trial': 0, 'steps_in_trial': 53, 'reward': 1000.0, 'perf_time': 0.13541850000001432, 'population': 434, 'numerosity': 1600, 'average_specificity': 5.989375, 'fraction_accuracy': 2.0454617467649185e-15}\n",
      "INFO:lcs.agents.Agent:{'trial': 0, 'steps_in_trial': 53, 'reward': 1000.0, 'perf_time': 0.13541850000001432, 'population': 434, 'numerosity': 1600, 'average_specificity': 5.989375, 'fraction_accuracy': 2.0454617467649185e-15}\n",
      "INFO:lcs.agents.Agent:{'trial': 100, 'steps_in_trial': 2, 'reward': 1762.8384355046353, 'perf_time': 0.004093699999884848, 'population': 436, 'numerosity': 1600, 'average_specificity': 5.98875, 'fraction_accuracy': 1.6879632850454125e-15}\n",
      "INFO:lcs.agents.Agent:{'trial': 100, 'steps_in_trial': 2, 'reward': 1762.8384355046353, 'perf_time': 0.004093699999884848, 'population': 436, 'numerosity': 1600, 'average_specificity': 5.98875, 'fraction_accuracy': 1.6879632850454125e-15}\n",
      "INFO:lcs.agents.Agent:{'trial': 200, 'steps_in_trial': 5, 'reward': 1196.2871582235587, 'perf_time': 0.010165700000015931, 'population': 436, 'numerosity': 1600, 'average_specificity': 5.98875, 'fraction_accuracy': 1.6852274143598479e-15}\n",
      "INFO:lcs.agents.Agent:{'trial': 200, 'steps_in_trial': 5, 'reward': 1196.2871582235587, 'perf_time': 0.010165700000015931, 'population': 436, 'numerosity': 1600, 'average_specificity': 5.98875, 'fraction_accuracy': 1.6852274143598479e-15}\n",
      "INFO:lcs.agents.Agent:{'trial': 300, 'steps_in_trial': 11, 'reward': 1026.1106184795624, 'perf_time': 0.021779000000151427, 'population': 436, 'numerosity': 1600, 'average_specificity': 5.98875, 'fraction_accuracy': 1.83519028097717e-15}\n",
      "INFO:lcs.agents.Agent:{'trial': 300, 'steps_in_trial': 11, 'reward': 1026.1106184795624, 'perf_time': 0.021779000000151427, 'population': 436, 'numerosity': 1600, 'average_specificity': 5.98875, 'fraction_accuracy': 1.83519028097717e-15}\n",
      "INFO:lcs.agents.Agent:{'trial': 400, 'steps_in_trial': 7, 'reward': 1206.7188092770646, 'perf_time': 0.014286399999946298, 'population': 436, 'numerosity': 1600, 'average_specificity': 5.98875, 'fraction_accuracy': 1.694373250286204e-15}\n",
      "INFO:lcs.agents.Agent:{'trial': 400, 'steps_in_trial': 7, 'reward': 1206.7188092770646, 'perf_time': 0.014286399999946298, 'population': 436, 'numerosity': 1600, 'average_specificity': 5.98875, 'fraction_accuracy': 1.694373250286204e-15}\n"
     ]
    }
   ],
   "source": [
    "\n",
    "df = avg_experiment(maze=maze,\n",
    "                         cfg=cfg,\n",
    "                         number_of_tests=1,\n",
    "                         explore_trials=1000,\n",
    "                         exploit_trials=500)\n"
   ]
  },
  {
   "cell_type": "code",
   "execution_count": 14,
   "metadata": {},
   "outputs": [
    {
     "data": {
      "text/html": [
       "<div>\n",
       "<style scoped>\n",
       "    .dataframe tbody tr th:only-of-type {\n",
       "        vertical-align: middle;\n",
       "    }\n",
       "\n",
       "    .dataframe tbody tr th {\n",
       "        vertical-align: top;\n",
       "    }\n",
       "\n",
       "    .dataframe thead th {\n",
       "        text-align: right;\n",
       "    }\n",
       "</style>\n",
       "<table border=\"1\" class=\"dataframe\">\n",
       "  <thead>\n",
       "    <tr style=\"text-align: right;\">\n",
       "      <th></th>\n",
       "      <th>steps_in_trial</th>\n",
       "      <th>reward</th>\n",
       "      <th>perf_time</th>\n",
       "      <th>population</th>\n",
       "      <th>numerosity</th>\n",
       "      <th>average_specificity</th>\n",
       "      <th>fraction_accuracy</th>\n",
       "    </tr>\n",
       "    <tr>\n",
       "      <th>trial</th>\n",
       "      <th></th>\n",
       "      <th></th>\n",
       "      <th></th>\n",
       "      <th></th>\n",
       "      <th></th>\n",
       "      <th></th>\n",
       "      <th></th>\n",
       "    </tr>\n",
       "  </thead>\n",
       "  <tbody>\n",
       "    <tr>\n",
       "      <th>0</th>\n",
       "      <td>100</td>\n",
       "      <td>0.000000e+00</td>\n",
       "      <td>0.064908</td>\n",
       "      <td>118</td>\n",
       "      <td>167</td>\n",
       "      <td>7.251497</td>\n",
       "      <td>1.000000e+00</td>\n",
       "    </tr>\n",
       "    <tr>\n",
       "      <th>100</th>\n",
       "      <td>30</td>\n",
       "      <td>1.000035e+03</td>\n",
       "      <td>0.102617</td>\n",
       "      <td>389</td>\n",
       "      <td>1600</td>\n",
       "      <td>6.727500</td>\n",
       "      <td>2.654548e-16</td>\n",
       "    </tr>\n",
       "    <tr>\n",
       "      <th>200</th>\n",
       "      <td>9</td>\n",
       "      <td>1.000000e+03</td>\n",
       "      <td>0.042210</td>\n",
       "      <td>427</td>\n",
       "      <td>1600</td>\n",
       "      <td>6.305000</td>\n",
       "      <td>7.133214e-15</td>\n",
       "    </tr>\n",
       "    <tr>\n",
       "      <th>300</th>\n",
       "      <td>19</td>\n",
       "      <td>1.001492e+03</td>\n",
       "      <td>0.074404</td>\n",
       "      <td>417</td>\n",
       "      <td>1602</td>\n",
       "      <td>6.504370</td>\n",
       "      <td>2.151052e-15</td>\n",
       "    </tr>\n",
       "    <tr>\n",
       "      <th>400</th>\n",
       "      <td>58</td>\n",
       "      <td>1.000000e+03</td>\n",
       "      <td>0.223349</td>\n",
       "      <td>418</td>\n",
       "      <td>1600</td>\n",
       "      <td>6.291250</td>\n",
       "      <td>2.073695e-15</td>\n",
       "    </tr>\n",
       "    <tr>\n",
       "      <th>500</th>\n",
       "      <td>100</td>\n",
       "      <td>1.675610e-12</td>\n",
       "      <td>0.400972</td>\n",
       "      <td>414</td>\n",
       "      <td>1600</td>\n",
       "      <td>6.568750</td>\n",
       "      <td>6.395394e-13</td>\n",
       "    </tr>\n",
       "    <tr>\n",
       "      <th>600</th>\n",
       "      <td>2</td>\n",
       "      <td>1.504100e+03</td>\n",
       "      <td>0.007697</td>\n",
       "      <td>408</td>\n",
       "      <td>1610</td>\n",
       "      <td>7.822360</td>\n",
       "      <td>3.010446e-13</td>\n",
       "    </tr>\n",
       "    <tr>\n",
       "      <th>700</th>\n",
       "      <td>23</td>\n",
       "      <td>1.000000e+03</td>\n",
       "      <td>0.081543</td>\n",
       "      <td>438</td>\n",
       "      <td>1600</td>\n",
       "      <td>6.031250</td>\n",
       "      <td>3.797291e-15</td>\n",
       "    </tr>\n",
       "    <tr>\n",
       "      <th>800</th>\n",
       "      <td>17</td>\n",
       "      <td>1.002961e+03</td>\n",
       "      <td>0.066267</td>\n",
       "      <td>385</td>\n",
       "      <td>1618</td>\n",
       "      <td>6.177379</td>\n",
       "      <td>2.212758e-13</td>\n",
       "    </tr>\n",
       "    <tr>\n",
       "      <th>900</th>\n",
       "      <td>99</td>\n",
       "      <td>1.000000e+03</td>\n",
       "      <td>0.340591</td>\n",
       "      <td>411</td>\n",
       "      <td>1610</td>\n",
       "      <td>6.719876</td>\n",
       "      <td>5.468732e-15</td>\n",
       "    </tr>\n",
       "    <tr>\n",
       "      <th>1000</th>\n",
       "      <td>53</td>\n",
       "      <td>1.000000e+03</td>\n",
       "      <td>0.135419</td>\n",
       "      <td>434</td>\n",
       "      <td>1600</td>\n",
       "      <td>5.989375</td>\n",
       "      <td>2.045462e-15</td>\n",
       "    </tr>\n",
       "    <tr>\n",
       "      <th>1100</th>\n",
       "      <td>2</td>\n",
       "      <td>1.762838e+03</td>\n",
       "      <td>0.004094</td>\n",
       "      <td>436</td>\n",
       "      <td>1600</td>\n",
       "      <td>5.988750</td>\n",
       "      <td>1.687963e-15</td>\n",
       "    </tr>\n",
       "    <tr>\n",
       "      <th>1200</th>\n",
       "      <td>5</td>\n",
       "      <td>1.196287e+03</td>\n",
       "      <td>0.010166</td>\n",
       "      <td>436</td>\n",
       "      <td>1600</td>\n",
       "      <td>5.988750</td>\n",
       "      <td>1.685227e-15</td>\n",
       "    </tr>\n",
       "    <tr>\n",
       "      <th>1300</th>\n",
       "      <td>11</td>\n",
       "      <td>1.026111e+03</td>\n",
       "      <td>0.021779</td>\n",
       "      <td>436</td>\n",
       "      <td>1600</td>\n",
       "      <td>5.988750</td>\n",
       "      <td>1.835190e-15</td>\n",
       "    </tr>\n",
       "    <tr>\n",
       "      <th>1400</th>\n",
       "      <td>7</td>\n",
       "      <td>1.206719e+03</td>\n",
       "      <td>0.014286</td>\n",
       "      <td>436</td>\n",
       "      <td>1600</td>\n",
       "      <td>5.988750</td>\n",
       "      <td>1.694373e-15</td>\n",
       "    </tr>\n",
       "  </tbody>\n",
       "</table>\n",
       "</div>"
      ],
      "text/plain": [
       "       steps_in_trial        reward  perf_time  population  numerosity  \\\n",
       "trial                                                                    \n",
       "0                 100  0.000000e+00   0.064908         118         167   \n",
       "100                30  1.000035e+03   0.102617         389        1600   \n",
       "200                 9  1.000000e+03   0.042210         427        1600   \n",
       "300                19  1.001492e+03   0.074404         417        1602   \n",
       "400                58  1.000000e+03   0.223349         418        1600   \n",
       "500               100  1.675610e-12   0.400972         414        1600   \n",
       "600                 2  1.504100e+03   0.007697         408        1610   \n",
       "700                23  1.000000e+03   0.081543         438        1600   \n",
       "800                17  1.002961e+03   0.066267         385        1618   \n",
       "900                99  1.000000e+03   0.340591         411        1610   \n",
       "1000               53  1.000000e+03   0.135419         434        1600   \n",
       "1100                2  1.762838e+03   0.004094         436        1600   \n",
       "1200                5  1.196287e+03   0.010166         436        1600   \n",
       "1300               11  1.026111e+03   0.021779         436        1600   \n",
       "1400                7  1.206719e+03   0.014286         436        1600   \n",
       "\n",
       "       average_specificity  fraction_accuracy  \n",
       "trial                                          \n",
       "0                 7.251497       1.000000e+00  \n",
       "100               6.727500       2.654548e-16  \n",
       "200               6.305000       7.133214e-15  \n",
       "300               6.504370       2.151052e-15  \n",
       "400               6.291250       2.073695e-15  \n",
       "500               6.568750       6.395394e-13  \n",
       "600               7.822360       3.010446e-13  \n",
       "700               6.031250       3.797291e-15  \n",
       "800               6.177379       2.212758e-13  \n",
       "900               6.719876       5.468732e-15  \n",
       "1000              5.989375       2.045462e-15  \n",
       "1100              5.988750       1.687963e-15  \n",
       "1200              5.988750       1.685227e-15  \n",
       "1300              5.988750       1.835190e-15  \n",
       "1400              5.988750       1.694373e-15  "
      ]
     },
     "metadata": {},
     "output_type": "display_data"
    }
   ],
   "source": [
    "display(df)"
   ]
  },
  {
   "cell_type": "code",
   "execution_count": 15,
   "metadata": {},
   "outputs": [
    {
     "data": {
      "text/plain": [
       "<matplotlib.legend.Legend at 0x1fbcfe6d788>"
      ]
     },
     "execution_count": 15,
     "metadata": {},
     "output_type": "execute_result"
    },
    {
     "data": {
      "image/png": "[encoded data removed]",
      "text/plain": [
       "<Figure size 432x288 with 1 Axes>"
      ]
     },
     "metadata": {
      "needs_background": "light"
     },
     "output_type": "display_data"
    }
   ],
   "source": [
    "import pandas as pd\n",
    "import numpy as np\n",
    "\n",
    "ax = df['average_specificity'].plot()\n",
    "ax.set_xlabel(\"trial\")\n",
    "ax.set_ylabel(\"average_specificity\")\n",
    "ax.legend([\"specificity\"])\n"
   ]
  },
  {
   "cell_type": "code",
   "execution_count": 16,
   "metadata": {},
   "outputs": [
    {
     "data": {
      "text/plain": [
       "<matplotlib.legend.Legend at 0x1fbcff1f4c8>"
      ]
     },
     "execution_count": 16,
     "metadata": {},
     "output_type": "execute_result"
    },
    {
     "data": {
      "image/png": "[encoded data removed]",
      "text/plain": [
       "<Figure size 432x288 with 1 Axes>"
      ]
     },
     "metadata": {
      "needs_background": "light"
     },
     "output_type": "display_data"
    }
   ],
   "source": [
    "ax = df['fraction_accuracy'].plot()\n",
    "ax.set_xlabel(\"trial\")\n",
    "ax.set_ylabel(\"fraction accuracy\")\n",
    "ax.legend([\"fraction accuracy\"])"
   ]
  },
  {
   "cell_type": "code",
   "execution_count": 17,
   "metadata": {},
   "outputs": [
    {
     "data": {
      "text/plain": [
       "<matplotlib.legend.Legend at 0x1fbcff67bc8>"
      ]
     },
     "execution_count": 17,
     "metadata": {},
     "output_type": "execute_result"
    },
    {
     "data": {
      "image/png": "[encoded data removed]",
      "text/plain": [
       "<Figure size 432x288 with 1 Axes>"
      ]
     },
     "metadata": {
      "needs_background": "light"
     },
     "output_type": "display_data"
    }
   ],
   "source": [
    "ax = df[['numerosity', 'population']].plot()\n",
    "ax.set_xlabel(\"trial\")\n",
    "ax.set_ylabel(\"population\")\n",
    "ax.legend([\"numerosity\", \"number of rules\"])"
   ]
  },
  {
   "cell_type": "code",
   "execution_count": 18,
   "metadata": {},
   "outputs": [
    {
     "data": {
      "text/plain": [
       "<matplotlib.legend.Legend at 0x1fbd00210c8>"
      ]
     },
     "execution_count": 18,
     "metadata": {},
     "output_type": "execute_result"
    },
    {
     "data": {
      "image/png": "[encoded data removed]",
      "text/plain": [
       "<Figure size 432x288 with 1 Axes>"
      ]
     },
     "metadata": {
      "needs_background": "light"
     },
     "output_type": "display_data"
    }
   ],
   "source": [
    "ax = df['steps_in_trial'].plot()\n",
    "ax.set_xlabel(\"trial\")\n",
    "ax.set_ylabel(\"steps in trial\")\n",
    "ax.legend([\"steps\"])"
   ]
  }
 ],
 "metadata": {
  "kernelspec": {
   "display_name": "Python 3",
   "language": "python",
   "name": "python3"
  },
  "language_info": {
   "codemirror_mode": {
    "name": "ipython",
    "version": 3
   },
   "file_extension": ".py",
   "mimetype": "text/x-python",
   "name": "python",
   "nbconvert_exporter": "python",
   "pygments_lexer": "ipython3",
   "version": "3.7.10"
  }
 },
 "nbformat": 4,
 "nbformat_minor": 1
}
