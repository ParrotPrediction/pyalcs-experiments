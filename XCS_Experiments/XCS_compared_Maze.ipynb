{
 "cells": [
  {
   "cell_type": "code",
   "execution_count": 49,
   "metadata": {},
   "outputs": [],
   "source": [
    "import logging\n",
    "logging.root.setLevel(logging.INFO)\n"
   ]
  },
  {
   "cell_type": "code",
   "execution_count": 50,
   "metadata": {
    "scrolled": true
   },
   "outputs": [],
   "source": [
    "import random\n",
    "\n",
    "from xcs import XCSAlgorithm\n",
    "from xcs.scenarios import Scenario"
   ]
  },
  {
   "cell_type": "code",
   "execution_count": 51,
   "metadata": {},
   "outputs": [],
   "source": [
    "import random\n",
    "\n",
    "from xcs.scenarios import Scenario\n",
    "from xcs.bitstrings import BitString\n",
    "\n",
    "# environment setup\n",
    "import gym\n",
    "# noinspection PyUnresolvedReferences\n",
    "import gym_maze\n",
    "\n",
    "\n",
    "class MazeScenario(Scenario):\n",
    "    \n",
    "    def __init__(self, training_cycles=5000, input_size=8):\n",
    "        self.input_size = input_size\n",
    "        self.maze = gym.make('Maze5-v0')\n",
    "        self.possible_actions = (0, 1, 2, 3, 4, 5, 6, 7)\n",
    "        self.done = False\n",
    "        self.state = None\n",
    "        self.reward = 0\n",
    "        self.state = self.maze.reset()\n",
    "        self.remaining_cycles = training_cycles\n",
    "        \n",
    "        self.steps_array = []\n",
    "        self.steps = 0\n",
    "\n",
    "    def reset(self):\n",
    "        self.done = False\n",
    "        self.state = self.maze.reset()\n",
    "        no_reward_state=[]\n",
    "        for char in self.state:\n",
    "            if char == '1' or char == '0':\n",
    "                no_reward_state.append(char)\n",
    "            else:\n",
    "                no_reward_state.append('1')\n",
    "        return no_reward_state\n",
    "        \n",
    "    # XCS Hosford42 functions\n",
    "    @property\n",
    "    def is_dynamic(self):\n",
    "        return False\n",
    "        \n",
    "    def get_possible_actions(self):\n",
    "        return self.possible_actions\n",
    "        \n",
    "    def more(self):\n",
    "        if self.done:\n",
    "            self.reset()\n",
    "            self.remaining_cycles -= 1\n",
    "            self.steps_array.append(self.steps)\n",
    "            self.steps = 0\n",
    "            self.reset()\n",
    "        return self.remaining_cycles >=0\n",
    "        \n",
    "    def sense(self):\n",
    "        no_reward_state=[]\n",
    "        for char in self.state:\n",
    "            if char == '1' or char == '0':\n",
    "                no_reward_state.append(char)\n",
    "            else:\n",
    "                no_reward_state.append('1')\n",
    "        return BitString(''.join(no_reward_state))\n",
    "    \n",
    "    def execute(self, action):\n",
    "        self.steps += 1\n",
    "        raw_state, step_reward, done, _ = self.maze.step(action)\n",
    "        self.state = raw_state\n",
    "        self.reward = step_reward\n",
    "        self.done = done\n",
    "        return self.reward\n",
    "\n",
    "    # XCS Pyalcs functions\n",
    "    def step(self, action):\n",
    "        raw_state, step_reward, done, _ = self.maze.step(action)\n",
    "        self.state = raw_state\n",
    "        self.reward = step_reward\n",
    "        self.done = done\n",
    "        no_reward_state=[]\n",
    "        for char in self.state:\n",
    "            if char == '1' or char == '0':\n",
    "                no_reward_state.append(char)\n",
    "            else:\n",
    "                no_reward_state.append('1')\n",
    "        return no_reward_state, self.reward, self.done, _"
   ]
  },
  {
   "cell_type": "code",
   "execution_count": 52,
   "metadata": {},
   "outputs": [],
   "source": [
    "training_cycles = 100\n",
    "input_size = 8\n",
    "logging.root.setLevel(logging.INFO)\n",
    "scenario = MazeScenario(training_cycles, input_size)"
   ]
  },
  {
   "cell_type": "code",
   "execution_count": 53,
   "metadata": {},
   "outputs": [],
   "source": [
    "import numpy as np\n",
    "algorithm = XCSAlgorithm()\n",
    "algorithm.learning_rate = .1\n",
    "algorithm.error_threshold = .01              # epsilon_0\n",
    "algorithm.ga_threshold = 25\n",
    "algorithm.crossover_probability = 0.5\n",
    "algorithm.mutation_probability = 0.01\n",
    "algorithm.initial_prediction = float(np.finfo(np.float32).tiny)        # p_I\n",
    "algorithm.initial_error = float(np.finfo(np.float32).tiny)            # epsilon_I\n",
    "algorithm.initial_fitness = float(np.finfo(np.float32).tiny)           # F_I\n",
    "algorithm.minimum_actions = 8\n",
    "algorithm.wildcard_pobability = 0.001"
   ]
  },
  {
   "cell_type": "code",
   "execution_count": null,
   "metadata": {},
   "outputs": [],
   "source": [
    "model = algorithm.new_model(scenario)\n",
    "model.run(scenario, learn=True)\n"
   ]
  },
  {
   "cell_type": "code",
   "execution_count": null,
   "metadata": {
    "scrolled": true
   },
   "outputs": [],
   "source": [
    "print(model)\n"
   ]
  },
  {
   "cell_type": "code",
   "execution_count": null,
   "metadata": {},
   "outputs": [],
   "source": [
    "print(len(model))"
   ]
  },
  {
   "cell_type": "code",
   "execution_count": null,
   "metadata": {
    "scrolled": true
   },
   "outputs": [],
   "source": [
    "for rule in model:\n",
    "    if rule.fitness > .05 and rule.experience >= 1:\n",
    "        print(rule.condition, '=>', rule.action, ' [%.5f]' % rule.fitness)"
   ]
  },
  {
   "cell_type": "code",
   "execution_count": null,
   "metadata": {},
   "outputs": [],
   "source": [
    "import pandas as pd\n",
    "\n",
    "df = pd.DataFrame(scenario.steps_array)\n",
    "ax = df.plot()\n",
    "ax.set_xlabel(\"trial\")\n",
    "ax.set_ylabel(\"steps_in_trial\")\n",
    "ax.legend([\"steps other XCS\"])"
   ]
  },
  {
   "cell_type": "code",
   "execution_count": null,
   "metadata": {},
   "outputs": [],
   "source": [
    "from lcs.agents.xcs import XCS, Configuration\n",
    "\n",
    "cfg = Configuration(number_of_actions=algorithm.minimum_actions,\n",
    "                    covering_wildcard_chance=1-algorithm.wildcard_probability)\n"
   ]
  },
  {
   "cell_type": "code",
   "execution_count": null,
   "metadata": {},
   "outputs": [],
   "source": [
    "agent = XCS(cfg)\n",
    "explore_population, explore_metrics = agent.explore(scenario, training_cycles, False)"
   ]
  },
  {
   "cell_type": "code",
   "execution_count": null,
   "metadata": {
    "scrolled": true
   },
   "outputs": [],
   "source": [
    "for rule in explore_population:\n",
    "    print(rule)\n"
   ]
  },
  {
   "cell_type": "code",
   "execution_count": null,
   "metadata": {},
   "outputs": [],
   "source": [
    "print(len(explore_population))"
   ]
  },
  {
   "cell_type": "code",
   "execution_count": null,
   "metadata": {
    "scrolled": true
   },
   "outputs": [],
   "source": [
    "for rule in explore_population:\n",
    "    if rule.fitness >= .05 and rule.experience >= 1:\n",
    "        print(rule.condition, '=>', rule.action, ' [%.5f]' % rule.fitness)"
   ]
  },
  {
   "cell_type": "code",
   "execution_count": null,
   "metadata": {},
   "outputs": [],
   "source": [
    "import pandas as pd\n",
    "\n",
    "df = pd.DataFrame(metric[\"steps_in_trial\"] for metric in explore_metrics)\n",
    "df['trial'] = df.index * cfg.metrics_trial_frequency\n",
    "df.set_index('trial', inplace=True)\n",
    "\n",
    "ax = df.plot()\n",
    "ax.set_xlabel(\"trial\") \n",
    "ax.set_ylabel(\"steps_in_trial\")\n",
    "ax.legend([\"steps my XCS\"])"
   ]
  },
  {
   "cell_type": "code",
   "execution_count": null,
   "metadata": {},
   "outputs": [],
   "source": []
  },
  {
   "cell_type": "markdown",
   "metadata": {},
   "source": [
    "#### Conclusions\n"
   ]
  },
  {
   "cell_type": "code",
   "execution_count": null,
   "metadata": {},
   "outputs": [],
   "source": []
  },
  {
   "cell_type": "code",
   "execution_count": null,
   "metadata": {},
   "outputs": [],
   "source": []
  },
  {
   "cell_type": "code",
   "execution_count": null,
   "metadata": {},
   "outputs": [],
   "source": []
  }
 ],
 "metadata": {
  "kernelspec": {
   "display_name": "Python 3",
   "language": "python",
   "name": "python3"
  },
  "language_info": {
   "codemirror_mode": {
    "name": "ipython",
    "version": 3
   },
   "file_extension": ".py",
   "mimetype": "text/x-python",
   "name": "python",
   "nbconvert_exporter": "python",
   "pygments_lexer": "ipython3",
   "version": "3.7.10"
  }
 },
 "nbformat": 4,
 "nbformat_minor": 4
}
