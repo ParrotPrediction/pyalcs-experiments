{
 "cells": [
  {
   "cell_type": "code",
   "execution_count": 102,
   "metadata": {},
   "outputs": [],
   "source": [
    "import logging\n",
    "logging.root.setLevel(logging.INFO)\n"
   ]
  },
  {
   "cell_type": "code",
   "execution_count": 103,
   "metadata": {
    "scrolled": true
   },
   "outputs": [],
   "source": [
    "import random\n",
    "\n",
    "from xcs import XCSAlgorithm\n",
    "from xcs.scenarios import Scenario"
   ]
  },
  {
   "cell_type": "code",
   "execution_count": 104,
   "metadata": {},
   "outputs": [],
   "source": [
    "import random\n",
    "\n",
    "from xcs.scenarios import Scenario\n",
    "from xcs.bitstrings import BitString\n",
    "\n",
    "# environment setup\n",
    "import gym\n",
    "# noinspection PyUnresolvedReferences\n",
    "import gym_maze\n",
    "\n",
    "\n",
    "class MazeScenario(Scenario):\n",
    "    \n",
    "    def __init__(self, training_cycles=5000, input_size=8):\n",
    "        self.input_size = input_size\n",
    "        self.maze = gym.make('Maze5-v0')\n",
    "        self.possible_actions = (0, 1, 2, 3, 4, 5, 6, 7)\n",
    "        self.done = False\n",
    "        self.state = None\n",
    "        self.reward = 0\n",
    "        self.state = self.maze.reset()\n",
    "        self.remaining_cycles = training_cycles\n",
    "        \n",
    "        self.steps_array = []\n",
    "        self.steps = 0\n",
    "\n",
    "    def reset(self):\n",
    "        self.done = False\n",
    "        self.state = self.maze.reset()\n",
    "        return self.state\n",
    "        \n",
    "    # XCS Hosford42 functions\n",
    "    @property\n",
    "    def is_dynamic(self):\n",
    "        return False\n",
    "        \n",
    "    def get_possible_actions(self):\n",
    "        return self.possible_actions\n",
    "        \n",
    "    def more(self):\n",
    "        if self.done:\n",
    "            self.reset()\n",
    "            self.remaining_cycles -= 1\n",
    "            self.steps_array.append(self.steps)\n",
    "            self.steps = 0\n",
    "            self.reset()\n",
    "        return self.remaining_cycles >=0\n",
    "        \n",
    "    def sense(self):\n",
    "        no_reward_state=[]\n",
    "        for char in self.state:\n",
    "            if char == '1' or char == '0':\n",
    "                no_reward_state.append(char)\n",
    "            else:\n",
    "                no_reward_state.append('1')\n",
    "        return BitString(''.join(no_reward_state))\n",
    "    \n",
    "    def execute(self, action):\n",
    "        self.steps += 1\n",
    "        raw_state, step_reward, done, _ = self.maze.step(action)\n",
    "        self.state = raw_state\n",
    "        self.reward = step_reward\n",
    "        self.done = done\n",
    "        return self.reward\n",
    "\n",
    "    # XCS Pyalcs functions\n",
    "    def step(self, action):\n",
    "        return self.maze.step(action)"
   ]
  },
  {
   "cell_type": "code",
   "execution_count": 105,
   "metadata": {},
   "outputs": [],
   "source": [
    "training_cycles = 1000\n",
    "input_size = 8\n",
    "logging.root.setLevel(logging.INFO)\n",
    "scenario = MazeScenario(training_cycles, input_size)"
   ]
  },
  {
   "cell_type": "code",
   "execution_count": 106,
   "metadata": {},
   "outputs": [],
   "source": [
    "algorithm = XCSAlgorithm()\n",
    "algorithm.exploration_probability = .1\n",
    "algorithm.discount_factor = 0\n",
    "algorithm.wildcard_probability = .5\n",
    "algorithm.do_ga_subsumption = True\n",
    "algorithm.do_action_set_subsumption = True"
   ]
  },
  {
   "cell_type": "code",
   "execution_count": 107,
   "metadata": {},
   "outputs": [],
   "source": [
    "model = algorithm.new_model(scenario)\n",
    "model.run(scenario, learn=True)\n"
   ]
  },
  {
   "cell_type": "code",
   "execution_count": 108,
   "metadata": {
    "scrolled": true
   },
   "outputs": [
    {
     "name": "stdout",
     "output_type": "stream",
     "text": [
      "11###0## => 0\n",
      "    Time Stamp: 38326\n",
      "    Average Reward: 500.0\n",
      "    Error: 308.3333333333333\n",
      "    Fitness: 0.045988676321369014\n",
      "    Experience: 6\n",
      "    Action Set Size: 18.666666666666664\n",
      "    Numerosity: 1\n",
      "1##1#### => 2\n",
      "    Time Stamp: 38331\n",
      "    Average Reward: 0.0\n",
      "    Error: 0.0\n",
      "    Fitness: 0.24836232276204642\n",
      "    Experience: 518\n",
      "    Action Set Size: 9.105283687215593\n",
      "    Numerosity: 1\n",
      "111##1#1 => 2\n",
      "    Time Stamp: 38041\n",
      "    Average Reward: 1000.0\n",
      "    Error: 0.0\n",
      "    Fitness: 0.3845964706180859\n",
      "    Experience: 26\n",
      "    Action Set Size: 11.216821606330608\n",
      "    Numerosity: 1\n",
      "######## => 0\n",
      "    Time Stamp: 38380\n",
      "    Average Reward: 0.0\n",
      "    Error: 0.0\n",
      "    Fitness: 0.08748383548041756\n",
      "    Experience: 6\n",
      "    Action Set Size: 16.333333333333332\n",
      "    Numerosity: 2\n",
      "1110###1 => 2\n",
      "    Time Stamp: 38041\n",
      "    Average Reward: 1000.0\n",
      "    Error: 0.0\n",
      "    Fitness: 0.5789733223023461\n",
      "    Experience: 56\n",
      "    Action Set Size: 11.230580956037086\n",
      "    Numerosity: 2\n",
      "#1#10##1 => 0\n",
      "    Time Stamp: 38303\n",
      "    Average Reward: 0.0\n",
      "    Error: 0.0\n",
      "    Fitness: 0.3112971349270992\n",
      "    Experience: 173\n",
      "    Action Set Size: 22.85199333306706\n",
      "    Numerosity: 4\n",
      "####1### => 0\n",
      "    Time Stamp: 38380\n",
      "    Average Reward: 0.0\n",
      "    Error: 0.0\n",
      "    Fitness: 0.3207366390385358\n",
      "    Experience: 2272\n",
      "    Action Set Size: 17.65235698195699\n",
      "    Numerosity: 4\n",
      "##0##### => 0\n",
      "    Time Stamp: 38366\n",
      "    Average Reward: 0.0\n",
      "    Error: 0.0\n",
      "    Fitness: 0.5049119608337627\n",
      "    Experience: 1181\n",
      "    Action Set Size: 19.805370101903012\n",
      "    Numerosity: 6\n",
      "######## => 2\n",
      "    Time Stamp: 38377\n",
      "    Average Reward: 0.0\n",
      "    Error: 0.0\n",
      "    Fitness: 0.4905704726819721\n",
      "    Experience: 51\n",
      "    Action Set Size: 16.68720311716171\n",
      "    Numerosity: 7\n",
      "11###0#0 => 0\n",
      "    Time Stamp: 38326\n",
      "    Average Reward: 1000.0\n",
      "    Error: 0.0\n",
      "    Fitness: 0.9918071234227942\n",
      "    Experience: 104\n",
      "    Action Set Size: 8.535408962424368\n",
      "    Numerosity: 8\n",
      "###0#### => 0\n",
      "    Time Stamp: 38366\n",
      "    Average Reward: 0.0\n",
      "    Error: 0.0\n",
      "    Fitness: 0.4205447389653871\n",
      "    Experience: 2732\n",
      "    Action Set Size: 22.223396163723155\n",
      "    Numerosity: 9\n",
      "#####1## => 0\n",
      "    Time Stamp: 38380\n",
      "    Average Reward: 0.0\n",
      "    Error: 0.0\n",
      "    Fitness: 0.7467548062374219\n",
      "    Experience: 3506\n",
      "    Action Set Size: 16.19272243852708\n",
      "    Numerosity: 12\n",
      "0####### => 2\n",
      "    Time Stamp: 38377\n",
      "    Average Reward: 0.0\n",
      "    Error: 0.0\n",
      "    Fitness: 0.6448168641510396\n",
      "    Experience: 2960\n",
      "    Action Set Size: 20.641429306580214\n",
      "    Numerosity: 13\n",
      "##0##### => 2\n",
      "    Time Stamp: 38346\n",
      "    Average Reward: 0.0\n",
      "    Error: 0.0\n",
      "    Fitness: 0.7405527240409606\n",
      "    Experience: 579\n",
      "    Action Set Size: 18.97327765999123\n",
      "    Numerosity: 14\n",
      "######## => 7\n",
      "    Time Stamp: 38335\n",
      "    Average Reward: 0.0\n",
      "    Error: 0.0\n",
      "    Fitness: 0.9999999999999997\n",
      "    Experience: 2870\n",
      "    Action Set Size: 16.317230174343578\n",
      "    Numerosity: 15\n",
      "######## => 6\n",
      "    Time Stamp: 38385\n",
      "    Average Reward: 0.0\n",
      "    Error: 0.0\n",
      "    Fitness: 0.9999999999999997\n",
      "    Experience: 2749\n",
      "    Action Set Size: 19.20364563959221\n",
      "    Numerosity: 18\n",
      "######## => 1\n",
      "    Time Stamp: 38384\n",
      "    Average Reward: 0.0\n",
      "    Error: 0.0\n",
      "    Fitness: 0.9999999999999997\n",
      "    Experience: 3015\n",
      "    Action Set Size: 17.220632325844054\n",
      "    Numerosity: 18\n",
      "######## => 5\n",
      "    Time Stamp: 38402\n",
      "    Average Reward: 0.0\n",
      "    Error: 0.0\n",
      "    Fitness: 0.9999999999999997\n",
      "    Experience: 2943\n",
      "    Action Set Size: 19.71186153807779\n",
      "    Numerosity: 20\n",
      "######## => 3\n",
      "    Time Stamp: 38404\n",
      "    Average Reward: 0.0\n",
      "    Error: 0.0\n",
      "    Fitness: 0.9999999999999997\n",
      "    Experience: 2859\n",
      "    Action Set Size: 20.899800084811808\n",
      "    Numerosity: 22\n",
      "######## => 4\n",
      "    Time Stamp: 38370\n",
      "    Average Reward: 0.0\n",
      "    Error: 0.0\n",
      "    Fitness: 0.9999999999999997\n",
      "    Experience: 2939\n",
      "    Action Set Size: 22.247693243343686\n",
      "    Numerosity: 23\n"
     ]
    }
   ],
   "source": [
    "print(model)\n"
   ]
  },
  {
   "cell_type": "code",
   "execution_count": 109,
   "metadata": {},
   "outputs": [
    {
     "name": "stdout",
     "output_type": "stream",
     "text": [
      "20\n"
     ]
    }
   ],
   "source": [
    "print(len(model))"
   ]
  },
  {
   "cell_type": "code",
   "execution_count": 110,
   "metadata": {
    "scrolled": true
   },
   "outputs": [
    {
     "name": "stdout",
     "output_type": "stream",
     "text": [
      "######## => 1  [1.00000]\n",
      "######## => 5  [1.00000]\n",
      "######## => 4  [1.00000]\n",
      "######## => 3  [1.00000]\n",
      "######## => 7  [1.00000]\n",
      "######## => 6  [1.00000]\n",
      "######## => 2  [0.49057]\n",
      "######## => 0  [0.08748]\n",
      "####1### => 0  [0.32074]\n",
      "#####1## => 0  [0.74675]\n",
      "###0#### => 0  [0.42054]\n",
      "0####### => 2  [0.64482]\n",
      "11###0#0 => 0  [0.99181]\n",
      "1110###1 => 2  [0.57897]\n",
      "1##1#### => 2  [0.24836]\n",
      "##0##### => 2  [0.74055]\n",
      "##0##### => 0  [0.50491]\n",
      "111##1#1 => 2  [0.38460]\n",
      "#1#10##1 => 0  [0.31130]\n"
     ]
    }
   ],
   "source": [
    "for rule in model:\n",
    "    if rule.fitness > .05 and rule.experience >= 1:\n",
    "        print(rule.condition, '=>', rule.action, ' [%.5f]' % rule.fitness)"
   ]
  },
  {
   "cell_type": "code",
   "execution_count": 111,
   "metadata": {},
   "outputs": [],
   "source": [
    "from lcs.agents.xcs import XCS, Configuration\n",
    "\n",
    "cfg = Configuration(number_of_actions=8,\n",
    "                    gamma=0,\n",
    "                    metrics_trial_frequency=5,\n",
    "                    covering_wildcard_chance=0.5\n",
    "                    )\n"
   ]
  },
  {
   "cell_type": "code",
   "execution_count": 112,
   "metadata": {},
   "outputs": [
    {
     "name": "stderr",
     "output_type": "stream",
     "text": [
      "INFO:lcs.agents.Agent:{'trial': 0, 'steps_in_trial': 50, 'reward': [0.0, 0.0, 0.0, 0.0, 0.0, 0.0, 0.0, 0.0], 'perf_time': 0.013241000000107306}\n",
      "INFO:lcs.agents.Agent:{'trial': 100, 'steps_in_trial': 50, 'reward': [0.22216238934366633, 0.0, 18.55750487760253, 0.0, 0.0, 0.0, 0.0, 0.0], 'perf_time': 0.01804779999974926}\n",
      "INFO:lcs.agents.Agent:{'trial': 200, 'steps_in_trial': 22, 'reward': [0.6097820989611553, 0.0, 101.19408810284162, 0.0, 0.0, 0.0, 0.0, 0.0], 'perf_time': 0.007204099999853497}\n",
      "INFO:lcs.agents.Agent:{'trial': 300, 'steps_in_trial': 19, 'reward': [148.58502194449176, 0.0, 2.0656988452201053, 0.0, 0.0, 0.0, 0.0, 0.0], 'perf_time': 0.006742399999893678}\n",
      "INFO:lcs.agents.Agent:{'trial': 400, 'steps_in_trial': 33, 'reward': [2.931776380778595, 0.0, 148.136184185694, 0.0, 0.0, 0.0, 0.0, 0.0], 'perf_time': 0.012150000000019645}\n",
      "INFO:lcs.agents.Agent:{'trial': 500, 'steps_in_trial': 50, 'reward': [3.131055589096458, 0.0, 0.0004955884867171367, 0.0, 0.0, 0.0, 0.0, 0.0], 'perf_time': 0.021928599999682774}\n",
      "INFO:lcs.agents.Agent:{'trial': 600, 'steps_in_trial': 1, 'reward': [239.00992146247393, 0.0, 2.1427835097521855, 0.0, 0.0, 0.0, 0.0, 0.0], 'perf_time': 0.00038099999983387534}\n",
      "INFO:lcs.agents.Agent:{'trial': 700, 'steps_in_trial': 29, 'reward': [23.529803156393584, 0.0, 101.48058886835001, 0.0, 0.0, 0.0, 0.0, 0.0], 'perf_time': 0.011123799999950279}\n",
      "INFO:lcs.agents.Agent:{'trial': 800, 'steps_in_trial': 31, 'reward': [0.0034420083654010726, 0.0, 197.78673682828196, 0.0, 0.0, 0.0, 0.0, 0.0], 'perf_time': 0.01081400000020949}\n",
      "INFO:lcs.agents.Agent:{'trial': 900, 'steps_in_trial': 37, 'reward': [100.23616875928947, 0.0, 33.17003240960106, 0.0, 0.0, 0.0, 0.0, 0.0], 'perf_time': 0.012477600000238454}\n"
     ]
    }
   ],
   "source": [
    "agent = XCS(cfg)\n",
    "explore_population, explore_metrics = agent.explore(scenario, training_cycles, False)"
   ]
  },
  {
   "cell_type": "code",
   "execution_count": 113,
   "metadata": {
    "scrolled": true
   },
   "outputs": [
    {
     "name": "stdout",
     "output_type": "stream",
     "text": [
      "Cond:10#01### - Act:0 - Num:1 [fit: 0.000, exp: 313.00, pred: 56.005]\n",
      "Cond:#000#011 - Act:1 - Num:3 [fit: 0.683, exp: 24.00, pred: 0.000]\n",
      "Cond:1#0##0#1 - Act:2 - Num:3 [fit: 0.000, exp: 1041.00, pred: 26.442]\n",
      "Cond:#0#0#011 - Act:3 - Num:3 [fit: 0.727, exp: 35.00, pred: 0.000]\n",
      "Cond:10###01# - Act:4 - Num:2 [fit: 0.217, exp: 197.00, pred: 0.000]\n",
      "Cond:##00#0#1 - Act:5 - Num:3 [fit: 0.356, exp: 189.00, pred: 0.000]\n",
      "Cond:##001##1 - Act:6 - Num:3 [fit: 0.429, exp: 91.00, pred: 0.000]\n",
      "Cond:1##010## - Act:7 - Num:2 [fit: 0.410, exp: 124.00, pred: 0.000]\n",
      "Cond:#0#10##0 - Act:0 - Num:1 [fit: 0.000, exp: 527.00, pred: 30.466]\n",
      "Cond:###10##0 - Act:1 - Num:3 [fit: 0.295, exp: 601.00, pred: 0.000]\n",
      "Cond:###100## - Act:2 - Num:1 [fit: 0.000, exp: 1312.00, pred: 22.659]\n",
      "Cond:0##10##0 - Act:3 - Num:3 [fit: 0.711, exp: 30.00, pred: 0.000]\n",
      "Cond:0#0##0#0 - Act:4 - Num:1 [fit: 0.111, exp: 205.00, pred: 0.000]\n",
      "Cond:######1# - Act:5 - Num:2 [fit: 0.223, exp: 1332.00, pred: 0.000]\n",
      "Cond:000##0## - Act:6 - Num:2 [fit: 0.324, exp: 37.00, pred: 0.000]\n",
      "Cond:0##10#10 - Act:7 - Num:3 [fit: 0.712, exp: 29.00, pred: 0.000]\n",
      "Cond:11#0###0 - Act:0 - Num:1 [fit: 0.012, exp: 130.00, pred: 25.259]\n",
      "Cond:11###### - Act:1 - Num:3 [fit: 0.321, exp: 969.00, pred: 0.000]\n",
      "Cond:#1#0##0# - Act:2 - Num:3 [fit: 0.000, exp: 995.00, pred: 64.384]\n",
      "Cond:11#011#0 - Act:3 - Num:1 [fit: 0.167, exp: 70.00, pred: 0.000]\n",
      "Cond:11#01#00 - Act:4 - Num:1 [fit: 0.200, exp: 79.00, pred: 0.000]\n",
      "Cond:###01#00 - Act:5 - Num:2 [fit: 0.298, exp: 226.00, pred: 0.000]\n",
      "Cond:##00#### - Act:6 - Num:1 [fit: 0.194, exp: 890.00, pred: 0.000]\n",
      "Cond:#10011## - Act:7 - Num:3 [fit: 0.729, exp: 35.00, pred: 0.000]\n",
      "Cond:#0####1# - Act:0 - Num:2 [fit: 0.000, exp: 1339.00, pred: 27.592]\n",
      "Cond:#010##10 - Act:1 - Num:3 [fit: 0.709, exp: 28.00, pred: 0.000]\n",
      "Cond:0#1#0010 - Act:2 - Num:3 [fit: 0.007, exp: 62.00, pred: 25.458]\n",
      "Cond:0#1#0### - Act:3 - Num:1 [fit: 0.301, exp: 361.00, pred: 0.000]\n",
      "Cond:##0##010 - Act:4 - Num:1 [fit: 0.105, exp: 350.00, pred: 0.000]\n",
      "Cond:0#1###1# - Act:6 - Num:2 [fit: 0.449, exp: 202.00, pred: 0.000]\n",
      "Cond:0#10###0 - Act:7 - Num:3 [fit: 0.457, exp: 100.00, pred: 0.000]\n",
      "Cond:11#0##01 - Act:0 - Num:3 [fit: 0.014, exp: 163.00, pred: 16.157]\n",
      "Cond:1#00##01 - Act:3 - Num:3 [fit: 0.694, exp: 165.00, pred: 0.000]\n",
      "Cond:110#0101 - Act:0 - Num:1 [fit: 0.000, exp: 693.00, pred: 28.877]\n",
      "Cond:###1010# - Act:2 - Num:2 [fit: 0.000, exp: 1833.00, pred: 16.568]\n",
      "Cond:1##1010# - Act:3 - Num:3 [fit: 0.634, exp: 219.00, pred: 0.000]\n",
      "Cond:110#01## - Act:4 - Num:3 [fit: 0.531, exp: 188.00, pred: 0.000]\n",
      "Cond:1#0#01#1 - Act:5 - Num:1 [fit: 0.097, exp: 1037.00, pred: 0.000]\n",
      "Cond:#####1#1 - Act:6 - Num:2 [fit: 0.418, exp: 940.00, pred: 0.000]\n",
      "Cond:1##1##01 - Act:7 - Num:2 [fit: 0.456, exp: 142.00, pred: 0.000]\n",
      "Cond:1#0##### - Act:0 - Num:2 [fit: 0.000, exp: 5534.00, pred: 16.630]\n",
      "Cond:1101#0#1 - Act:3 - Num:1 [fit: 0.200, exp: 87.00, pred: 0.000]\n",
      "Cond:1##1000# - Act:4 - Num:1 [fit: 0.197, exp: 43.00, pred: 0.000]\n",
      "Cond:##01##01 - Act:5 - Num:3 [fit: 0.335, exp: 394.00, pred: 0.000]\n",
      "Cond:00#0#01# - Act:0 - Num:2 [fit: 0.000, exp: 247.00, pred: 36.003]\n",
      "Cond:#001#1## - Act:1 - Num:1 [fit: 0.204, exp: 91.00, pred: 0.000]\n",
      "Cond:###1###1 - Act:2 - Num:2 [fit: 0.000, exp: 2823.00, pred: 12.558]\n",
      "Cond:#####111 - Act:3 - Num:3 [fit: 0.636, exp: 233.00, pred: 0.000]\n",
      "Cond:###10### - Act:4 - Num:2 [fit: 0.317, exp: 923.00, pred: 0.000]\n",
      "Cond:0##1#1## - Act:7 - Num:3 [fit: 0.545, exp: 216.00, pred: 0.000]\n",
      "Cond:0#11#### - Act:0 - Num:2 [fit: 0.000, exp: 1381.00, pred: 19.287]\n",
      "Cond:0##01000 - Act:1 - Num:1 [fit: 0.248, exp: 43.00, pred: 0.000]\n",
      "Cond:##1#1#00 - Act:2 - Num:3 [fit: 0.002, exp: 1457.00, pred: 30.995]\n",
      "Cond:00#01#00 - Act:3 - Num:3 [fit: 0.705, exp: 27.00, pred: 0.000]\n",
      "Cond:00101##0 - Act:4 - Num:1 [fit: 0.200, exp: 57.00, pred: 0.000]\n",
      "Cond:#010100# - Act:6 - Num:1 [fit: 0.474, exp: 28.00, pred: 0.000]\n",
      "Cond:#0###111 - Act:1 - Num:3 [fit: 0.634, exp: 76.00, pred: 0.000]\n",
      "Cond:0####11# - Act:2 - Num:3 [fit: 0.000, exp: 1080.00, pred: 18.724]\n",
      "Cond:#10#0##1 - Act:0 - Num:3 [fit: 0.000, exp: 2674.00, pred: 25.957]\n",
      "Cond:11#11#0# - Act:4 - Num:1 [fit: 0.200, exp: 62.00, pred: 0.000]\n",
      "Cond:##0#00#0 - Act:6 - Num:2 [fit: 0.520, exp: 103.00, pred: 0.000]\n",
      "Cond:#1###101 - Act:3 - Num:3 [fit: 0.498, exp: 109.00, pred: 0.000]\n",
      "Cond:1##0#101 - Act:4 - Num:3 [fit: 0.652, exp: 165.00, pred: 0.000]\n",
      "Cond:#1#01### - Act:5 - Num:1 [fit: 0.140, exp: 328.00, pred: 0.000]\n",
      "Cond:#1901101 - Act:7 - Num:1 [fit: 0.199, exp: 34.00, pred: 0.000]\n",
      "Cond:##011#01 - Act:0 - Num:1 [fit: 0.000, exp: 495.00, pred: 35.636]\n",
      "Cond:######0# - Act:1 - Num:1 [fit: 0.222, exp: 1623.00, pred: 0.000]\n",
      "Cond:#####001 - Act:3 - Num:2 [fit: 0.441, exp: 271.00, pred: 0.000]\n",
      "Cond:####1### - Act:4 - Num:2 [fit: 0.423, exp: 1163.00, pred: 0.000]\n",
      "Cond:#1###101 - Act:7 - Num:2 [fit: 0.348, exp: 225.00, pred: 0.000]\n",
      "Cond:##1#010# - Act:0 - Num:1 [fit: 0.000, exp: 1396.00, pred: 16.936]\n",
      "Cond:00#1#### - Act:4 - Num:1 [fit: 0.127, exp: 284.00, pred: 0.000]\n",
      "Cond:0######1 - Act:5 - Num:1 [fit: 0.131, exp: 726.00, pred: 0.000]\n",
      "Cond:#1100#1# - Act:0 - Num:1 [fit: 0.000, exp: 233.00, pred: 35.900]\n",
      "Cond:#1##0##0 - Act:1 - Num:1 [fit: 0.113, exp: 574.00, pred: 0.000]\n",
      "Cond:01##0#10 - Act:4 - Num:1 [fit: 0.439, exp: 20.00, pred: 0.000]\n",
      "Cond:###000#1 - Act:1 - Num:1 [fit: 0.445, exp: 21.00, pred: 0.000]\n",
      "Cond:0###0##1 - Act:2 - Num:1 [fit: 0.000, exp: 2512.00, pred: 12.853]\n",
      "Cond:10#11##0 - Act:3 - Num:1 [fit: 0.258, exp: 369.00, pred: 0.000]\n",
      "Cond:1#0###0# - Act:5 - Num:1 [fit: 0.124, exp: 951.00, pred: 0.000]\n",
      "Cond:1#0#1#0# - Act:6 - Num:1 [fit: 0.209, exp: 226.00, pred: 0.000]\n",
      "Cond:##0##1#1 - Act:0 - Num:1 [fit: 0.000, exp: 4261.00, pred: 21.533]\n",
      "Cond:010#11#1 - Act:1 - Num:1 [fit: 0.172, exp: 4.00, pred: 0.000]\n",
      "Cond:0#1#1000 - Act:0 - Num:2 [fit: 0.000, exp: 614.00, pred: 40.100]\n",
      "Cond:9##1#01# - Act:0 - Num:3 [fit: 0.000, exp: 310.00, pred: 135.324]\n",
      "Cond:#111##10 - Act:3 - Num:2 [fit: 0.400, exp: 176.00, pred: 0.000]\n",
      "Cond:###1###0 - Act:4 - Num:1 [fit: 0.158, exp: 1259.00, pred: 0.000]\n",
      "Cond:##1##010 - Act:6 - Num:3 [fit: 0.630, exp: 66.00, pred: 0.000]\n",
      "Cond:001001## - Act:4 - Num:1 [fit: 0.237, exp: 128.00, pred: 0.000]\n",
      "Cond:0###0101 - Act:7 - Num:3 [fit: 0.483, exp: 152.00, pred: 0.000]\n",
      "Cond:##100#0# - Act:0 - Num:3 [fit: 0.000, exp: 546.00, pred: 38.451]\n",
      "Cond:1##0#0## - Act:2 - Num:2 [fit: 0.000, exp: 1055.00, pred: 35.722]\n",
      "Cond:##1#00#0 - Act:3 - Num:1 [fit: 0.281, exp: 148.00, pred: 0.000]\n",
      "Cond:##100#0# - Act:4 - Num:3 [fit: 0.579, exp: 188.00, pred: 0.000]\n",
      "Cond:####0### - Act:5 - Num:3 [fit: 0.384, exp: 2369.00, pred: 0.000]\n",
      "Cond:10####0# - Act:6 - Num:3 [fit: 0.499, exp: 697.00, pred: 0.000]\n",
      "Cond:#0#0#0## - Act:7 - Num:2 [fit: 0.415, exp: 252.00, pred: 0.000]\n",
      "Cond:##011#0# - Act:0 - Num:1 [fit: 0.000, exp: 786.00, pred: 26.951]\n",
      "Cond:##011#00 - Act:2 - Num:1 [fit: 0.000, exp: 263.00, pred: 33.040]\n",
      "Cond:#10####0 - Act:3 - Num:3 [fit: 0.634, exp: 126.00, pred: 0.000]\n",
      "Cond:#1###1## - Act:5 - Num:2 [fit: 0.231, exp: 1399.00, pred: 0.000]\n",
      "Cond:#0111100 - Act:0 - Num:1 [fit: 0.000, exp: 828.00, pred: 26.176]\n",
      "Cond:##111##0 - Act:3 - Num:1 [fit: 0.242, exp: 545.00, pred: 0.000]\n",
      "Cond:0####0#0 - Act:5 - Num:1 [fit: 0.191, exp: 348.00, pred: 0.000]\n"
     ]
    }
   ],
   "source": [
    "for rule in explore_population:\n",
    "    print(rule)\n"
   ]
  },
  {
   "cell_type": "code",
   "execution_count": 114,
   "metadata": {},
   "outputs": [
    {
     "name": "stdout",
     "output_type": "stream",
     "text": [
      "104\n"
     ]
    }
   ],
   "source": [
    "print(len(explore_population))"
   ]
  },
  {
   "cell_type": "code",
   "execution_count": 115,
   "metadata": {
    "scrolled": true
   },
   "outputs": [
    {
     "name": "stdout",
     "output_type": "stream",
     "text": [
      "#000#011 => 1  [0.68276]\n",
      "#0#0#011 => 3  [0.72743]\n",
      "10###01# => 4  [0.21673]\n",
      "##00#0#1 => 5  [0.35587]\n",
      "##001##1 => 6  [0.42863]\n",
      "1##010## => 7  [0.41023]\n",
      "###10##0 => 1  [0.29505]\n",
      "0##10##0 => 3  [0.71086]\n",
      "0#0##0#0 => 4  [0.11064]\n",
      "######1# => 5  [0.22303]\n",
      "000##0## => 6  [0.32390]\n",
      "0##10#10 => 7  [0.71191]\n",
      "11###### => 1  [0.32107]\n",
      "11#011#0 => 3  [0.16666]\n",
      "11#01#00 => 4  [0.19996]\n",
      "###01#00 => 5  [0.29776]\n",
      "##00#### => 6  [0.19389]\n",
      "#10011## => 7  [0.72890]\n",
      "#010##10 => 1  [0.70930]\n",
      "0#1#0### => 3  [0.30100]\n",
      "##0##010 => 4  [0.10505]\n",
      "0#1###1# => 6  [0.44913]\n",
      "0#10###0 => 7  [0.45669]\n",
      "1#00##01 => 3  [0.69390]\n",
      "1##1010# => 3  [0.63434]\n",
      "110#01## => 4  [0.53090]\n",
      "1#0#01#1 => 5  [0.09658]\n",
      "#####1#1 => 6  [0.41802]\n",
      "1##1##01 => 7  [0.45632]\n",
      "1101#0#1 => 3  [0.19996]\n",
      "1##1000# => 4  [0.19673]\n",
      "##01##01 => 5  [0.33489]\n",
      "#001#1## => 1  [0.20412]\n",
      "#####111 => 3  [0.63612]\n",
      "###10### => 4  [0.31655]\n",
      "0##1#1## => 7  [0.54535]\n",
      "0##01000 => 1  [0.24761]\n",
      "00#01#00 => 3  [0.70477]\n",
      "00101##0 => 4  [0.19984]\n",
      "#010100# => 6  [0.47383]\n",
      "#0###111 => 1  [0.63388]\n",
      "11#11#0# => 4  [0.19988]\n",
      "##0#00#0 => 6  [0.52008]\n",
      "#1###101 => 3  [0.49823]\n",
      "1##0#101 => 4  [0.65248]\n",
      "#1#01### => 5  [0.13978]\n",
      "#1901101 => 7  [0.19929]\n",
      "######0# => 1  [0.22249]\n",
      "#####001 => 3  [0.44106]\n",
      "####1### => 4  [0.42342]\n",
      "#1###101 => 7  [0.34777]\n",
      "00#1#### => 4  [0.12717]\n",
      "0######1 => 5  [0.13127]\n",
      "#1##0##0 => 1  [0.11275]\n",
      "01##0#10 => 4  [0.43921]\n",
      "###000#1 => 1  [0.44529]\n",
      "10#11##0 => 3  [0.25842]\n",
      "1#0###0# => 5  [0.12421]\n",
      "1#0#1#0# => 6  [0.20938]\n",
      "010#11#1 => 1  [0.17195]\n",
      "#111##10 => 3  [0.40005]\n",
      "###1###0 => 4  [0.15847]\n",
      "##1##010 => 6  [0.62986]\n",
      "001001## => 4  [0.23704]\n",
      "0###0101 => 7  [0.48343]\n",
      "##1#00#0 => 3  [0.28090]\n",
      "##100#0# => 4  [0.57948]\n",
      "####0### => 5  [0.38397]\n",
      "10####0# => 6  [0.49866]\n",
      "#0#0#0## => 7  [0.41521]\n",
      "#10####0 => 3  [0.63379]\n",
      "#1###1## => 5  [0.23136]\n",
      "##111##0 => 3  [0.24151]\n",
      "0####0#0 => 5  [0.19145]\n"
     ]
    }
   ],
   "source": [
    "for rule in explore_population:\n",
    "    if rule.fitness >= .05 and rule.experience >= 1:\n",
    "        print(rule.condition, '=>', rule.action, ' [%.5f]' % rule.fitness)"
   ]
  },
  {
   "cell_type": "code",
   "execution_count": 116,
   "metadata": {},
   "outputs": [
    {
     "data": {
      "text/plain": [
       "<matplotlib.legend.Legend at 0x166e185f4c8>"
      ]
     },
     "execution_count": 116,
     "metadata": {},
     "output_type": "execute_result"
    },
    {
     "data": {
      "image/png": "[encoded data removed]",
      "text/plain": [
       "<Figure size 432x288 with 1 Axes>"
      ]
     },
     "metadata": {
      "needs_background": "light"
     },
     "output_type": "display_data"
    }
   ],
   "source": [
    "import pandas as pd\n",
    "\n",
    "df = pd.DataFrame(metric[\"steps_in_trial\"] for metric in explore_metrics)\n",
    "ax = df.plot()\n",
    "ax.set_xlabel(\"trial\")\n",
    "ax.set_ylabel(\"steps_in_trial\")\n",
    "ax.legend([\"steps my XCS\"])"
   ]
  },
  {
   "cell_type": "code",
   "execution_count": 117,
   "metadata": {},
   "outputs": [
    {
     "data": {
      "text/plain": [
       "<matplotlib.legend.Legend at 0x166e2d13f88>"
      ]
     },
     "execution_count": 117,
     "metadata": {},
     "output_type": "execute_result"
    },
    {
     "data": {
      "image/png": "[encoded data removed]",
      "text/plain": [
       "<Figure size 432x288 with 1 Axes>"
      ]
     },
     "metadata": {
      "needs_background": "light"
     },
     "output_type": "display_data"
    }
   ],
   "source": [
    "df = pd.DataFrame(scenario.steps_array)\n",
    "ax = df.plot()\n",
    "ax.set_xlabel(\"trial\")\n",
    "ax.set_ylabel(\"steps_in_trial\")\n",
    "ax.legend([\"steps other XCS\"])"
   ]
  },
  {
   "cell_type": "markdown",
   "metadata": {},
   "source": [
    "#### Conclusions\n"
   ]
  }
 ],
 "metadata": {
  "kernelspec": {
   "display_name": "Python 3",
   "language": "python",
   "name": "python3"
  },
  "language_info": {
   "codemirror_mode": {
    "name": "ipython",
    "version": 3
   },
   "file_extension": ".py",
   "mimetype": "text/x-python",
   "name": "python",
   "nbconvert_exporter": "python",
   "pygments_lexer": "ipython3",
   "version": "3.7.10"
  }
 },
 "nbformat": 4,
 "nbformat_minor": 4
}
