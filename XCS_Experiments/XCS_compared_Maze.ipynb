{
 "cells": [
  {
   "cell_type": "code",
   "execution_count": 156,
   "metadata": {},
   "outputs": [],
   "source": [
    "import logging\n",
    "logging.root.setLevel(logging.INFO)\n"
   ]
  },
  {
   "cell_type": "code",
   "execution_count": 157,
   "metadata": {
    "scrolled": true
   },
   "outputs": [],
   "source": [
    "import random\n",
    "\n",
    "from xcs import XCSAlgorithm\n",
    "from xcs.scenarios import Scenario"
   ]
  },
  {
   "cell_type": "code",
   "execution_count": 158,
   "metadata": {},
   "outputs": [],
   "source": [
    "import random\n",
    "\n",
    "from xcs.scenarios import Scenario\n",
    "from xcs.bitstrings import BitString\n",
    "\n",
    "# environment setup\n",
    "import gym\n",
    "# noinspection PyUnresolvedReferences\n",
    "import gym_maze\n",
    "\n",
    "\n",
    "class MazeScenario(Scenario):\n",
    "    \n",
    "    def __init__(self, training_cycles=1000, input_size=1):\n",
    "        self.input_size = input_size\n",
    "        self.maze = gym.make('Maze5-v0')\n",
    "        self.possible_actions = (0, 1, 2, 3, 4, 5, 6, 7)\n",
    "        self.done = False\n",
    "        self.state = None\n",
    "        self.reward = 0\n",
    "        self.state = self.maze.reset()\n",
    "        self.remaining_cycles = training_cycles\n",
    "\n",
    "    def reset(self):\n",
    "        self.done = False\n",
    "        self.state = self.maze.reset()\n",
    "        return self.state\n",
    "        \n",
    "    # XCS Hosford42 functions\n",
    "    @property\n",
    "    def is_dynamic(self):\n",
    "        return False\n",
    "        \n",
    "    def get_possible_actions(self):\n",
    "        return self.possible_actions\n",
    "        \n",
    "    def more(self):\n",
    "        if self.done:\n",
    "            self.reset()\n",
    "        self.remaining_cycles -= 1\n",
    "        return self.remaining_cycles > 0\n",
    "    \n",
    "    def sense(self):\n",
    "        return BitString(self.state)\n",
    "    \n",
    "    def execute(self, action):\n",
    "        raw_state, step_reward, done, _ = self.maze.step(action)\n",
    "        self.state = raw_state\n",
    "        self.reward = step_reward\n",
    "        self.done = done\n",
    "        return self.reward\n",
    "\n",
    "    # XCS Pyalcs functions\n",
    "    def step(self, action):\n",
    "        return self.maze.step(action)"
   ]
  },
  {
   "cell_type": "code",
   "execution_count": 159,
   "metadata": {},
   "outputs": [],
   "source": [
    "training_cycles = 1000\n",
    "input_size = 1\n",
    "logging.root.setLevel(logging.INFO)\n",
    "scenario = MazeScenario(training_cycles, input_size)"
   ]
  },
  {
   "cell_type": "code",
   "execution_count": 160,
   "metadata": {},
   "outputs": [
    {
     "name": "stdout",
     "output_type": "stream",
     "text": [
      "<class 'xcs._python_bitstrings.BitString'>\n"
     ]
    }
   ],
   "source": [
    "print(type(scenario.sense()))"
   ]
  },
  {
   "cell_type": "code",
   "execution_count": 161,
   "metadata": {},
   "outputs": [],
   "source": [
    "algorithm = XCSAlgorithm()\n",
    "algorithm.exploration_probability = .1\n",
    "algorithm.discount_factor = 0\n",
    "algorithm.wildcard_probability = .998\n",
    "algorithm.do_ga_subsumption = True\n",
    "algorithm.do_action_set_subsumption = True"
   ]
  },
  {
   "cell_type": "code",
   "execution_count": 162,
   "metadata": {},
   "outputs": [],
   "source": [
    "model = algorithm.new_model(scenario)\n",
    "model.run(scenario, learn=True)\n"
   ]
  },
  {
   "cell_type": "code",
   "execution_count": 163,
   "metadata": {},
   "outputs": [
    {
     "name": "stdout",
     "output_type": "stream",
     "text": [
      "1####### => 0\n",
      "    Time Stamp: 979\n",
      "    Average Reward: 0.0053639358970496145\n",
      "    Error: 0.05524853974452604\n",
      "    Fitness: 9.663322275465782e-06\n",
      "    Experience: 743\n",
      "    Action Set Size: 54.79363865595093\n",
      "    Numerosity: 1\n",
      "#######1 => 3\n",
      "    Time Stamp: 988\n",
      "    Average Reward: 0.0\n",
      "    Error: 0.0\n",
      "    Fitness: 0.050215747938410916\n",
      "    Experience: 3\n",
      "    Action Set Size: 15.0\n",
      "    Numerosity: 1\n",
      "##11#### => 3\n",
      "    Time Stamp: 988\n",
      "    Average Reward: 0.0\n",
      "    Error: 0.0\n",
      "    Fitness: 0.06420609638581713\n",
      "    Experience: 1\n",
      "    Action Set Size: 17.0\n",
      "    Numerosity: 1\n",
      "####1### => 3\n",
      "    Time Stamp: 988\n",
      "    Average Reward: 0.0\n",
      "    Error: 0.0\n",
      "    Fitness: 0.06505609638581712\n",
      "    Experience: 2\n",
      "    Action Set Size: 16.0\n",
      "    Numerosity: 1\n",
      "###1#### => 3\n",
      "    Time Stamp: 988\n",
      "    Average Reward: 0.0\n",
      "    Error: 0.0\n",
      "    Fitness: 0.07187833210842784\n",
      "    Experience: 5\n",
      "    Action Set Size: 13.0\n",
      "    Numerosity: 1\n",
      "1####### => 3\n",
      "    Time Stamp: 988\n",
      "    Average Reward: 0.0\n",
      "    Error: 0.0\n",
      "    Fitness: 0.07663231759949928\n",
      "    Experience: 6\n",
      "    Action Set Size: 12.0\n",
      "    Numerosity: 1\n",
      "##1##### => 6\n",
      "    Time Stamp: 986\n",
      "    Average Reward: 0.0\n",
      "    Error: 0.0\n",
      "    Fitness: 0.10304085445662181\n",
      "    Experience: 9\n",
      "    Action Set Size: 15.0985\n",
      "    Numerosity: 2\n",
      "######11 => 3\n",
      "    Time Stamp: 988\n",
      "    Average Reward: 0.0\n",
      "    Error: 0.0\n",
      "    Fitness: 0.13180037500054465\n",
      "    Experience: 11\n",
      "    Action Set Size: 9.80791625\n",
      "    Numerosity: 2\n",
      "#1#####1 => 0\n",
      "    Time Stamp: 979\n",
      "    Average Reward: 0.0\n",
      "    Error: 0.0\n",
      "    Fitness: 0.9995144328326058\n",
      "    Experience: 48\n",
      "    Action Set Size: 54.79446066093823\n",
      "    Numerosity: 3\n",
      "1######1 => 0\n",
      "    Time Stamp: 979\n",
      "    Average Reward: 0.005363935896823634\n",
      "    Error: 0.055248539737283435\n",
      "    Fitness: 3.862021816193826e-05\n",
      "    Experience: 183\n",
      "    Action Set Size: 54.79363865595117\n",
      "    Numerosity: 4\n",
      "11###### => 6\n",
      "    Time Stamp: 986\n",
      "    Average Reward: 0.0\n",
      "    Error: 0.0\n",
      "    Fitness: 0.14601745026349594\n",
      "    Experience: 11\n",
      "    Action Set Size: 14.144559166666667\n",
      "    Numerosity: 4\n",
      "1####### => 6\n",
      "    Time Stamp: 986\n",
      "    Average Reward: 0.0\n",
      "    Error: 0.0\n",
      "    Fitness: 0.14532793758284396\n",
      "    Experience: 14\n",
      "    Action Set Size: 13.347479548203125\n",
      "    Numerosity: 5\n",
      "######## => 6\n",
      "    Time Stamp: 986\n",
      "    Average Reward: 0.0\n",
      "    Error: 0.0\n",
      "    Fitness: 0.570386130638518\n",
      "    Experience: 18\n",
      "    Action Set Size: 13.056116783550731\n",
      "    Numerosity: 10\n",
      "######## => 3\n",
      "    Time Stamp: 988\n",
      "    Average Reward: 0.0\n",
      "    Error: 0.0\n",
      "    Fitness: 0.6420609638581714\n",
      "    Experience: 15\n",
      "    Action Set Size: 9.24617700490039\n",
      "    Numerosity: 10\n",
      "######## => 1\n",
      "    Time Stamp: 911\n",
      "    Average Reward: 0.0\n",
      "    Error: 0.0\n",
      "    Fitness: 0.5129838872907476\n",
      "    Experience: 23\n",
      "    Action Set Size: 7.349857668154746\n",
      "    Numerosity: 11\n",
      "#######1 => 0\n",
      "    Time Stamp: 979\n",
      "    Average Reward: 0.0053639358970496145\n",
      "    Error: 0.05524853974452604\n",
      "    Fitness: 0.00010793183628326644\n",
      "    Experience: 824\n",
      "    Action Set Size: 54.79363865595093\n",
      "    Numerosity: 12\n",
      "######## => 2\n",
      "    Time Stamp: 995\n",
      "    Average Reward: 0.0\n",
      "    Error: 0.0\n",
      "    Fitness: 0.9065129594007834\n",
      "    Experience: 27\n",
      "    Action Set Size: 10.245065265956704\n",
      "    Numerosity: 19\n",
      "######## => 4\n",
      "    Time Stamp: 999\n",
      "    Average Reward: 0.0\n",
      "    Error: 0.0\n",
      "    Fitness: 0.985382007807007\n",
      "    Experience: 26\n",
      "    Action Set Size: 13.818114991313266\n",
      "    Numerosity: 23\n",
      "######## => 5\n",
      "    Time Stamp: 983\n",
      "    Average Reward: 0.0\n",
      "    Error: 0.0\n",
      "    Fitness: 0.985382007807007\n",
      "    Experience: 26\n",
      "    Action Set Size: 13.237745768856493\n",
      "    Numerosity: 23\n",
      "######## => 7\n",
      "    Time Stamp: 951\n",
      "    Average Reward: 0.0\n",
      "    Error: 0.0\n",
      "    Fitness: 0.9690610729902587\n",
      "    Experience: 37\n",
      "    Action Set Size: 17.60140767119904\n",
      "    Numerosity: 25\n",
      "######## => 0\n",
      "    Time Stamp: 979\n",
      "    Average Reward: 0.0053639358970496145\n",
      "    Error: 0.05524853974452604\n",
      "    Fitness: 0.00033818262480398223\n",
      "    Experience: 827\n",
      "    Action Set Size: 54.79363865595093\n",
      "    Numerosity: 35\n"
     ]
    }
   ],
   "source": [
    "print(model)\n"
   ]
  },
  {
   "cell_type": "code",
   "execution_count": 164,
   "metadata": {},
   "outputs": [
    {
     "name": "stdout",
     "output_type": "stream",
     "text": [
      "21\n"
     ]
    }
   ],
   "source": [
    "print(len(model))"
   ]
  },
  {
   "cell_type": "code",
   "execution_count": 165,
   "metadata": {
    "scrolled": true
   },
   "outputs": [
    {
     "name": "stdout",
     "output_type": "stream",
     "text": [
      "######## => 5  [0.98538]\n",
      "######## => 7  [0.96906]\n",
      "######## => 2  [0.90651]\n",
      "######## => 1  [0.51298]\n",
      "######## => 4  [0.98538]\n",
      "######## => 3  [0.64206]\n",
      "######## => 6  [0.57039]\n",
      "#######1 => 3  [0.05022]\n",
      "1####### => 6  [0.14533]\n",
      "1####### => 3  [0.07663]\n",
      "######11 => 3  [0.13180]\n",
      "11###### => 6  [0.14602]\n",
      "####1### => 3  [0.06506]\n",
      "##1##### => 6  [0.10304]\n",
      "###1#### => 3  [0.07188]\n",
      "#1#####1 => 0  [0.99951]\n",
      "##11#### => 3  [0.06421]\n"
     ]
    }
   ],
   "source": [
    "for rule in model:\n",
    "    if rule.fitness > .05 and rule.experience >= 1:\n",
    "        print(rule.condition, '=>', rule.action, ' [%.5f]' % rule.fitness)"
   ]
  },
  {
   "cell_type": "code",
   "execution_count": 166,
   "metadata": {},
   "outputs": [],
   "source": [
    "from lcs.agents.xcs import XCS, Configuration\n",
    "\n",
    "cfg = Configuration(number_of_actions=8,\n",
    "                    gamma=0,\n",
    "                    metrics_trial_frequency=5,\n",
    "                    covering_wildcard_chance=0.002\n",
    "                    )\n"
   ]
  },
  {
   "cell_type": "code",
   "execution_count": 167,
   "metadata": {},
   "outputs": [
    {
     "name": "stderr",
     "output_type": "stream",
     "text": [
      "INFO:lcs.agents.Agent:{'trial': 0, 'steps_in_trial': 50, 'reward': [0.0, 0.0, 0.0, 0.0, 0.0, 0.0, 0.0, 0.0], 'perf_time': 0.007192999999915628}\n",
      "INFO:lcs.agents.Agent:{'trial': 100, 'steps_in_trial': 40, 'reward': [112.56721594091879, 0.0, 0.012357094389507807, 0.0, 0.0, 0.0, 0.0, 0.0], 'perf_time': 0.005010500000025786}\n",
      "INFO:lcs.agents.Agent:{'trial': 200, 'steps_in_trial': 7, 'reward': [100.31762363941263, 0.0, 0.025202085617222873, 0.0, 0.0, 0.0, 0.0, 0.0], 'perf_time': 0.0010694000000057713}\n",
      "INFO:lcs.agents.Agent:{'trial': 300, 'steps_in_trial': 37, 'reward': [100.69953911162375, 0.0, 0.0001664515690303, 0.0, 0.0, 0.0, 0.0, 0.0], 'perf_time': 0.005030099999885351}\n",
      "INFO:lcs.agents.Agent:{'trial': 400, 'steps_in_trial': 50, 'reward': [2.5806022569614915, 0.0, 0.03717564528487627, 0.0, 0.0, 0.0, 0.0, 0.0], 'perf_time': 0.006249499999967156}\n",
      "INFO:lcs.agents.Agent:{'trial': 500, 'steps_in_trial': 50, 'reward': [8.142423631338298, 0.0, 0.501724135122222, 0.0, 0.0, 0.0, 0.0, 0.0], 'perf_time': 0.007090800000014497}\n",
      "INFO:lcs.agents.Agent:{'trial': 600, 'steps_in_trial': 5, 'reward': [100.00940939472716, 0.0, 0.0068559613254940656, 0.0, 0.0, 0.0, 0.0, 0.0], 'perf_time': 0.0008688999998867075}\n",
      "INFO:lcs.agents.Agent:{'trial': 700, 'steps_in_trial': 50, 'reward': [6.069469519697839, 0.0, 1.2821518156361259e-08, 0.0, 0.0, 0.0, 0.0, 0.0], 'perf_time': 0.006611499999962689}\n",
      "INFO:lcs.agents.Agent:{'trial': 800, 'steps_in_trial': 50, 'reward': [0.2465292302013704, 0.0, 0.0002118711951952185, 0.0, 0.0, 0.0, 0.0, 0.0], 'perf_time': 0.007019099999979517}\n",
      "INFO:lcs.agents.Agent:{'trial': 900, 'steps_in_trial': 10, 'reward': [100.00959529760888, 0.0, 2.4011828567142907e-05, 0.0, 0.0, 0.0, 0.0, 0.0], 'perf_time': 0.001560300000164716}\n"
     ]
    }
   ],
   "source": [
    "agent = XCS(cfg)\n",
    "explore_population, explore_metrics = agent.explore(scenario, training_cycles, False)"
   ]
  },
  {
   "cell_type": "code",
   "execution_count": 168,
   "metadata": {},
   "outputs": [
    {
     "name": "stdout",
     "output_type": "stream",
     "text": [
      "Cond:######## - Act:0 - Num:3 [fit: 0.030, exp: 14704.00, pred: 14.170]\n",
      "Cond:#######1 - Act:1 - Num:3 [fit: 0.750, exp: 1375.00, pred: 0.000]\n",
      "Cond:#0###### - Act:2 - Num:3 [fit: 0.489, exp: 4882.00, pred: 0.579]\n",
      "Cond:#######0 - Act:3 - Num:3 [fit: 0.500, exp: 1789.00, pred: 0.000]\n",
      "Cond:######## - Act:4 - Num:3 [fit: 0.750, exp: 2326.00, pred: 0.000]\n",
      "Cond:######## - Act:5 - Num:3 [fit: 0.750, exp: 2357.00, pred: 0.000]\n",
      "Cond:######## - Act:6 - Num:3 [fit: 0.750, exp: 2209.00, pred: 0.000]\n",
      "Cond:######## - Act:7 - Num:3 [fit: 0.750, exp: 3034.00, pred: 0.000]\n",
      "Cond:######## - Act:3 - Num:1 [fit: 0.303, exp: 3089.00, pred: 0.000]\n",
      "Cond:######## - Act:2 - Num:1 [fit: 0.338, exp: 8629.00, pred: 0.234]\n"
     ]
    }
   ],
   "source": [
    "for rule in explore_population:\n",
    "    print(rule)\n"
   ]
  },
  {
   "cell_type": "code",
   "execution_count": 169,
   "metadata": {},
   "outputs": [
    {
     "name": "stdout",
     "output_type": "stream",
     "text": [
      "10\n"
     ]
    }
   ],
   "source": [
    "print(len(explore_population))"
   ]
  },
  {
   "cell_type": "code",
   "execution_count": 170,
   "metadata": {},
   "outputs": [
    {
     "name": "stdout",
     "output_type": "stream",
     "text": [
      "#######1 => 1  [0.75000]\n",
      "#0###### => 2  [0.48850]\n",
      "#######0 => 3  [0.50000]\n",
      "######## => 4  [0.75000]\n",
      "######## => 5  [0.75000]\n",
      "######## => 6  [0.75000]\n",
      "######## => 7  [0.75000]\n",
      "######## => 3  [0.30296]\n",
      "######## => 2  [0.33770]\n"
     ]
    }
   ],
   "source": [
    "for rule in explore_population:\n",
    "    if rule.fitness >= .05 and rule.experience >= 1:\n",
    "        print(rule.condition, '=>', rule.action, ' [%.5f]' % rule.fitness)"
   ]
  },
  {
   "cell_type": "markdown",
   "metadata": {},
   "source": [
    "#### Conclusions\n",
    "Both XCS implementations provide similar looking population. Both has population size of 200, and both provide similarly looking classifiers.\n",
    "Main difference being differenty amount of classifiers with fitness above 0.05, which can easily be explained by algorithms using different RP."
   ]
  }
 ],
 "metadata": {
  "kernelspec": {
   "display_name": "Python 3",
   "language": "python",
   "name": "python3"
  },
  "language_info": {
   "codemirror_mode": {
    "name": "ipython",
    "version": 3
   },
   "file_extension": ".py",
   "mimetype": "text/x-python",
   "name": "python",
   "nbconvert_exporter": "python",
   "pygments_lexer": "ipython3",
   "version": "3.7.10"
  }
 },
 "nbformat": 4,
 "nbformat_minor": 4
}
