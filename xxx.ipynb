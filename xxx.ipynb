{
 "cells": [
  {
   "cell_type": "markdown",
   "id": "polyphonic-sender",
   "metadata": {
    "papermill": {
     "duration": 0.016431,
     "end_time": "2021-03-29T16:33:35.758483",
     "exception": false,
     "start_time": "2021-03-29T16:33:35.742052",
     "status": "completed"
    },
    "tags": []
   },
   "source": [
    "# Comparing ALCS Latent-Learning capabilities\n",
    "\n",
    "Approach to compare *latent-learning* capabilities of various ALCS systems.\n",
    "\n",
    "The following aspects will be compared:\n",
    "\n",
    "- ability learn consequences of performing action in certain states (build accurate internal model of the environment),\n",
    "- ability to generalize,\n",
    "- size of internal classifier population,\n",
    "- relative operation time"
   ]
  },
  {
   "cell_type": "code",
   "execution_count": 1,
   "id": "filled-grounds",
   "metadata": {
    "execution": {
     "iopub.execute_input": "2021-03-29T16:33:35.794130Z",
     "iopub.status.busy": "2021-03-29T16:33:35.793193Z",
     "iopub.status.idle": "2021-03-29T16:33:36.190889Z",
     "shell.execute_reply": "2021-03-29T16:33:36.190393Z"
    },
    "papermill": {
     "duration": 0.420239,
     "end_time": "2021-03-29T16:33:36.190997",
     "exception": false,
     "start_time": "2021-03-29T16:33:35.770758",
     "status": "completed"
    },
    "tags": []
   },
   "outputs": [],
   "source": [
    "import os\n",
    "import pathlib\n",
    "import dill\n",
    "\n",
    "import pandas as pd\n",
    "\n",
    "import matplotlib as mpl\n",
    "import matplotlib.pyplot as plt\n",
    "\n",
    "from pylab import cm\n",
    "\n",
    "import gym\n",
    "\n",
    "from lcs import Perception\n",
    "from lcs.agents import EnvironmentAdapter\n",
    "\n",
    "# Logger\n",
    "# import logging\n",
    "# logging.basicConfig(level=logging.DEBUG)\n",
    "\n",
    "# Common plot settings\n",
    "mpl.rcParams['font.family'] = 'DejaVu Sans'\n",
    "plt.rcParams['font.size'] = 16\n",
    "plt.rcParams['axes.linewidth'] = 2\n",
    "\n",
    "# Common color palette\n",
    "palette = cm.get_cmap('Paired', 4)\n",
    "\n",
    "COLORS = {\n",
    "    'acs': palette(0),\n",
    "    'acs2': palette(1),\n",
    "    'acs2_ga': palette(2),\n",
    "    'yacs': palette(3),\n",
    "}"
   ]
  },
  {
   "cell_type": "code",
   "execution_count": 2,
   "id": "northern-contribution",
   "metadata": {
    "execution": {
     "iopub.execute_input": "2021-03-29T16:33:36.216401Z",
     "iopub.status.busy": "2021-03-29T16:33:36.215692Z",
     "iopub.status.idle": "2021-03-29T16:33:36.218376Z",
     "shell.execute_reply": "2021-03-29T16:33:36.219001Z"
    },
    "papermill": {
     "duration": 0.017628,
     "end_time": "2021-03-29T16:33:36.219173",
     "exception": false,
     "start_time": "2021-03-29T16:33:36.201545",
     "status": "completed"
    },
    "tags": []
   },
   "outputs": [
    {
     "data": {
      "text/plain": [
       "'/home/arc/Projects/pwr/pyalcs-experiments/cache/'"
      ]
     },
     "execution_count": 2,
     "metadata": {},
     "output_type": "execute_result"
    }
   ],
   "source": [
    "cache_prefix = f'{pathlib.Path().absolute()}/cache/'\n",
    "cache_prefix"
   ]
  },
  {
   "cell_type": "markdown",
   "id": "advanced-chester",
   "metadata": {
    "papermill": {
     "duration": 0.010064,
     "end_time": "2021-03-29T16:33:36.240526",
     "exception": false,
     "start_time": "2021-03-29T16:33:36.230462",
     "status": "completed"
    },
    "tags": []
   },
   "source": [
    "### Agents"
   ]
  },
  {
   "cell_type": "code",
   "execution_count": 3,
   "id": "contrary-dryer",
   "metadata": {
    "execution": {
     "iopub.execute_input": "2021-03-29T16:33:36.266784Z",
     "iopub.status.busy": "2021-03-29T16:33:36.266184Z",
     "iopub.status.idle": "2021-03-29T16:33:36.276224Z",
     "shell.execute_reply": "2021-03-29T16:33:36.275829Z"
    },
    "papermill": {
     "duration": 0.025761,
     "end_time": "2021-03-29T16:33:36.276315",
     "exception": false,
     "start_time": "2021-03-29T16:33:36.250554",
     "status": "completed"
    },
    "tags": []
   },
   "outputs": [],
   "source": [
    "import lcs.agents.acs as acs\n",
    "import lcs.agents.acs2 as acs2\n",
    "import lcs.agents.yacs as yacs\n",
    "\n",
    "def run_acs(env, classifier_length, possible_actions, environment_adapter, metrics_trial_freq, metrics_fcn, explore_trials):\n",
    "    cfg = acs.Configuration(classifier_length, possible_actions,\n",
    "                            environment_adapter=environment_adapter,\n",
    "                            metrics_trial_frequency=metrics_trial_freq,\n",
    "                            user_metrics_collector_fcn=metrics_fcn)\n",
    "    agent = acs.ACS(cfg)\n",
    "    pop, metrics = agent.explore(env, explore_trials)\n",
    "    \n",
    "    return pop, metrics\n",
    "\n",
    "def run_acs2(env, classifier_length, possible_actions, environment_adapter, metrics_trial_freq, metrics_fcn, explore_trials, do_ga):\n",
    "    cfg = acs2.Configuration(classifier_length, possible_actions,\n",
    "                             environment_adapter=environment_adapter,\n",
    "                             do_ga=do_ga,\n",
    "                             metrics_trial_frequency=metrics_trial_freq,\n",
    "                             user_metrics_collector_fcn=metrics_fcn)\n",
    "    agent = acs2.ACS2(cfg)\n",
    "    pop, metrics = agent.explore(env, explore_trials)\n",
    "    return pop, metrics\n",
    "\n",
    "def run_yacs(env, classifier_length, possible_actions, environment_adapter, metrics_trial_freq, metrics_fcn, explore_trials, trace_length, feature_possible_values):\n",
    "    cfg = yacs.Configuration(classifier_length, possible_actions,\n",
    "                             environment_adapter=environment_adapter,\n",
    "                             trace_length=trace_length,\n",
    "                             feature_possible_values=feature_possible_values,\n",
    "                             metrics_trial_frequency=metrics_trial_freq,\n",
    "                             user_metrics_collector_fcn=metrics_fcn)\n",
    "    agent = yacs.YACS(cfg)\n",
    "    pop, metrics = agent.explore(env, explore_trials)\n",
    "    return pop, metrics"
   ]
  },
  {
   "cell_type": "markdown",
   "id": "general-brisbane",
   "metadata": {
    "papermill": {
     "duration": 0.01054,
     "end_time": "2021-03-29T16:33:36.298610",
     "exception": false,
     "start_time": "2021-03-29T16:33:36.288070",
     "status": "completed"
    },
    "tags": []
   },
   "source": [
    "### Helper functions"
   ]
  },
  {
   "cell_type": "code",
   "execution_count": 4,
   "id": "graduate-oxygen",
   "metadata": {
    "execution": {
     "iopub.execute_input": "2021-03-29T16:33:36.326245Z",
     "iopub.status.busy": "2021-03-29T16:33:36.325653Z",
     "iopub.status.idle": "2021-03-29T16:33:36.328204Z",
     "shell.execute_reply": "2021-03-29T16:33:36.327748Z"
    },
    "papermill": {
     "duration": 0.019471,
     "end_time": "2021-03-29T16:33:36.328291",
     "exception": false,
     "start_time": "2021-03-29T16:33:36.308820",
     "status": "completed"
    },
    "tags": []
   },
   "outputs": [],
   "source": [
    "# convert collected metrics into pandas dataframe\n",
    "def parse_metrics(agent, metrics):\n",
    "    data = [[agent, d['perf_time'], d['trial'], d['knowledge'], d['pop'], d['generalization']] for d in metrics]\n",
    "\n",
    "    df = pd.DataFrame(\n",
    "        data,\n",
    "        columns=['agent', 'time', 'trial', 'knowledge', 'population', 'generalization'])\n",
    "\n",
    "    return df"
   ]
  },
  {
   "cell_type": "code",
   "execution_count": 5,
   "id": "complicated-redhead",
   "metadata": {
    "execution": {
     "iopub.execute_input": "2021-03-29T16:33:36.352561Z",
     "iopub.status.busy": "2021-03-29T16:33:36.352117Z",
     "iopub.status.idle": "2021-03-29T16:33:36.354446Z",
     "shell.execute_reply": "2021-03-29T16:33:36.354064Z"
    },
    "papermill": {
     "duration": 0.015623,
     "end_time": "2021-03-29T16:33:36.354532",
     "exception": false,
     "start_time": "2021-03-29T16:33:36.338909",
     "status": "completed"
    },
    "tags": []
   },
   "outputs": [],
   "source": [
    "# Compute proportion of wildcards in classifier condition across all classifiers\n",
    "def generalization_score(pop):\n",
    "    wildcards = sum(1 for cl in pop for cond in cl.condition if cond == '#' or (hasattr(cond, 'symbol') and cond.symbol == '#'))\n",
    "    all_symbols = sum(len(cl.condition) for cl in pop)\n",
    "    return wildcards / all_symbols"
   ]
  },
  {
   "cell_type": "code",
   "execution_count": 6,
   "id": "developing-trouble",
   "metadata": {
    "execution": {
     "iopub.execute_input": "2021-03-29T16:33:36.379634Z",
     "iopub.status.busy": "2021-03-29T16:33:36.379245Z",
     "iopub.status.idle": "2021-03-29T16:33:36.381572Z",
     "shell.execute_reply": "2021-03-29T16:33:36.381193Z"
    },
    "papermill": {
     "duration": 0.016683,
     "end_time": "2021-03-29T16:33:36.381657",
     "exception": false,
     "start_time": "2021-03-29T16:33:36.364974",
     "status": "completed"
    },
    "tags": []
   },
   "outputs": [],
   "source": [
    "# Run single experiments using 4 algorithms. Return all population of classifiers and metrics\n",
    "def run_experiment(common_params, acs_params={}, acs2_params={}, yacs_params={}):\n",
    "    pop_acs, metrics_acs = run_acs(**{**common_params, **acs_params})\n",
    "    pop_acs2, metrics_acs2 = run_acs2(do_ga=False, **{**common_params, **acs2_params})\n",
    "    pop_acs2ga, metrics_acs2ga = run_acs2(do_ga=True, **{**common_params, **acs2_params})\n",
    "    pop_yacs, metrics_yacs = run_yacs(**{**common_params, **yacs_params})\n",
    "    \n",
    "    metrics_df = pd.concat([\n",
    "        parse_metrics('acs', metrics_acs),\n",
    "        parse_metrics('acs2', metrics_acs2),\n",
    "        parse_metrics('acs2_ga', metrics_acs2ga),\n",
    "        parse_metrics('yacs', metrics_yacs),\n",
    "    ])\n",
    "    metrics_df.set_index(['agent', 'trial'], inplace=True)\n",
    "    \n",
    "    return {\n",
    "        'acs': pop_acs,\n",
    "        'acs2': pop_acs2,\n",
    "        'acs2_ga': pop_acs2ga,\n",
    "        'yacs': pop_yacs\n",
    "    }, metrics_df"
   ]
  },
  {
   "cell_type": "code",
   "execution_count": 7,
   "id": "separate-electron",
   "metadata": {
    "execution": {
     "iopub.execute_input": "2021-03-29T16:33:36.406454Z",
     "iopub.status.busy": "2021-03-29T16:33:36.406045Z",
     "iopub.status.idle": "2021-03-29T16:33:36.407980Z",
     "shell.execute_reply": "2021-03-29T16:33:36.408266Z"
    },
    "papermill": {
     "duration": 0.015832,
     "end_time": "2021-03-29T16:33:36.408361",
     "exception": false,
     "start_time": "2021-03-29T16:33:36.392529",
     "status": "completed"
    },
    "tags": []
   },
   "outputs": [],
   "source": [
    "# Execute multiple experiments and average metrics\n",
    "def avg_experiments(func, n=1):\n",
    "    dfs = []\n",
    "    for i in range(n):\n",
    "        print(f'Executing {i} experiment')\n",
    "        _, metrics_df = func()\n",
    "        dfs.append(metrics_df)\n",
    "    \n",
    "    return pd.concat(dfs).groupby(['agent', 'trial']).mean()"
   ]
  },
  {
   "cell_type": "code",
   "execution_count": 8,
   "id": "manual-greensboro",
   "metadata": {
    "execution": {
     "iopub.execute_input": "2021-03-29T16:33:36.433317Z",
     "iopub.status.busy": "2021-03-29T16:33:36.432930Z",
     "iopub.status.idle": "2021-03-29T16:33:36.435057Z",
     "shell.execute_reply": "2021-03-29T16:33:36.434693Z"
    },
    "papermill": {
     "duration": 0.016137,
     "end_time": "2021-03-29T16:33:36.435140",
     "exception": false,
     "start_time": "2021-03-29T16:33:36.419003",
     "status": "completed"
    },
    "tags": []
   },
   "outputs": [],
   "source": [
    "# Cache function result into file (no-need for recomputation)\n",
    "def get_from_cache_or_run(cache_path, fun):\n",
    "    os.makedirs(os.path.dirname(cache_path), exist_ok=True)\n",
    "\n",
    "    if os.path.exists(cache_path):\n",
    "        with open(cache_path, 'rb') as f:\n",
    "            return dill.load(f)\n",
    "    else:\n",
    "        res = fun()\n",
    "\n",
    "        # save the results to file\n",
    "        with open(cache_path, 'wb') as f:\n",
    "            dill.dump(res, f)\n",
    "\n",
    "        return res"
   ]
  },
  {
   "cell_type": "code",
   "execution_count": 9,
   "id": "authorized-terrorism",
   "metadata": {
    "execution": {
     "iopub.execute_input": "2021-03-29T16:33:36.469668Z",
     "iopub.status.busy": "2021-03-29T16:33:36.469226Z",
     "iopub.status.idle": "2021-03-29T16:33:36.471563Z",
     "shell.execute_reply": "2021-03-29T16:33:36.471117Z"
    },
    "papermill": {
     "duration": 0.022014,
     "end_time": "2021-03-29T16:33:36.471660",
     "exception": false,
     "start_time": "2021-03-29T16:33:36.449646",
     "status": "completed"
    },
    "tags": []
   },
   "outputs": [],
   "source": [
    "def plot_comparison(metrics):   \n",
    "    fig, axs = plt.subplots(2, 2, figsize=(22, 16))\n",
    "\n",
    "    # Population\n",
    "    axs[0, 0].set_title('Population size')\n",
    "    metrics.loc['acs']['population'].plot(label='ACS', ax=axs[0, 0])\n",
    "    metrics.loc['acs2']['population'].plot(label='ACS2', ax=axs[0, 0])\n",
    "    metrics.loc['acs2_ga']['population'].plot(label='ACS2_GA', ax=axs[0, 0])\n",
    "    metrics.loc['yacs']['population'].plot(label='YACS', ax=axs[0, 0])\n",
    "    axs[0, 0].legend(loc='best', frameon=False)\n",
    "\n",
    "    # Knowledge\n",
    "    axs[0, 1].set_title('Knowledge')\n",
    "    metrics.loc['acs']['knowledge'].plot(label='ACS', ax=axs[0, 1])\n",
    "    metrics.loc['acs2']['knowledge'].plot(label='ACS2', ax=axs[0, 1])\n",
    "    metrics.loc['acs2_ga']['knowledge'].plot(label='ACS2_GA', ax=axs[0, 1])\n",
    "    metrics.loc['yacs']['knowledge'].plot(label='YACS', ax=axs[0, 1])\n",
    "    axs[0, 1].legend(loc='lower right', frameon=False)\n",
    "\n",
    "    # Generalization\n",
    "    axs[1, 0].set_title('Generalization')\n",
    "    metrics.loc['acs']['generalization'].plot(label='ACS', ax=axs[1, 0])\n",
    "    metrics.loc['acs2']['generalization'].plot(label='ACS2', ax=axs[1, 0])\n",
    "    metrics.loc['acs2_ga']['generalization'].plot(label='ACS2_GA', ax=axs[1, 0])\n",
    "    metrics.loc['yacs']['generalization'].plot(label='YACS', ax=axs[1, 0])\n",
    "    axs[1, 0].legend(loc='best', frameon=False)\n",
    "\n",
    "    # Trial time\n",
    "    metrics.groupby('agent')['time'].mean().plot.bar(ax=axs[1, 1])\n",
    "    axs[1, 1].set_title('Average trial time')\n",
    "    axs[1, 1].set_ylabel('Seconds [s]')\n",
    "    axs[1, 1].set_xlabel('Agent')"
   ]
  },
  {
   "cell_type": "markdown",
   "id": "union-basis",
   "metadata": {
    "papermill": {
     "duration": 0.010418,
     "end_time": "2021-03-29T16:33:36.493468",
     "exception": false,
     "start_time": "2021-03-29T16:33:36.483050",
     "status": "completed"
    },
    "tags": []
   },
   "source": [
    "# Environments\n",
    "This section presents the multi-step environments that were used in experiments.\n",
    "\n",
    "1. [Simple Maze](#Simple-Maze) - Simpler maze variant with limited perception and available actions\n",
    "\n",
    "Discretized real-valued.\n",
    "\n",
    "2. [Corridor](#Corridor) - one dimension and two actions are available. The agent is checked is optimal number of classifiers is created\n",
    "3. [Grid](#Grid) - two dimensions and four actions.\n",
    "\n",
    "Maybe (todo)\n",
    "\n",
    "4. Maze4 / Maze6 - More advanced mazes (bigger perception and available actions)"
   ]
  },
  {
   "cell_type": "markdown",
   "id": "filled-backing",
   "metadata": {
    "papermill": {
     "duration": 0.010379,
     "end_time": "2021-03-29T16:33:36.514483",
     "exception": false,
     "start_time": "2021-03-29T16:33:36.504104",
     "status": "completed"
    },
    "tags": []
   },
   "source": [
    "## Simple Maze\n",
    "In each trial the agent is placed in **S** tile. It can perceive 4 values (N, E, S and W) and can move in each cardinal direction. The trial ends when tile **F** is reached.\n",
    "\n",
    "![simple-maze](img/simple-maze.png)\n",
    "\n",
    "Minimal number of classifiers to model the environment is **20**. The number of *\"fully-specialized\"* classifiers is **32**."
   ]
  },
  {
   "cell_type": "code",
   "execution_count": 10,
   "id": "individual-humidity",
   "metadata": {
    "execution": {
     "iopub.execute_input": "2021-03-29T16:33:36.541716Z",
     "iopub.status.busy": "2021-03-29T16:33:36.541092Z",
     "iopub.status.idle": "2021-03-29T16:33:36.544680Z",
     "shell.execute_reply": "2021-03-29T16:33:36.544291Z"
    },
    "papermill": {
     "duration": 0.019702,
     "end_time": "2021-03-29T16:33:36.544785",
     "exception": false,
     "start_time": "2021-03-29T16:33:36.525083",
     "status": "completed"
    },
    "tags": []
   },
   "outputs": [],
   "source": [
    "import gym_yacs_simple_maze\n",
    "\n",
    "\n",
    "def simple_maze_knowledge(pop, env):\n",
    "    all_transitions = 0\n",
    "    nr_correct = 0\n",
    "\n",
    "    for s0, action_states in env.env.TRANSITIONS.items():\n",
    "        for action_state in action_states:\n",
    "            all_transitions += 1\n",
    "\n",
    "            action = action_state.action.value\n",
    "            s1 = action_state.state\n",
    "\n",
    "            p0 = env.env._perception(s0)\n",
    "            p1 = env.env._perception(s1)\n",
    "            \n",
    "            if any([True for cl in pop if cl.predicts_successfully(p0, action, p1)]):\n",
    "                nr_correct += 1\n",
    "            \n",
    "    return nr_correct / all_transitions\n",
    "\n",
    "def simple_maze_metrics(agent, env):\n",
    "    population = agent.population\n",
    "    return {\n",
    "        'pop': len(population),\n",
    "        'knowledge': simple_maze_knowledge(population, env),\n",
    "        'generalization': generalization_score(population)\n",
    "    }"
   ]
  },
  {
   "cell_type": "code",
   "execution_count": 11,
   "id": "meaning-prediction",
   "metadata": {
    "execution": {
     "iopub.execute_input": "2021-03-29T16:33:36.572370Z",
     "iopub.status.busy": "2021-03-29T16:33:36.571748Z",
     "iopub.status.idle": "2021-03-29T16:34:32.546142Z",
     "shell.execute_reply": "2021-03-29T16:34:32.545694Z"
    },
    "papermill": {
     "duration": 55.988936,
     "end_time": "2021-03-29T16:34:32.546235",
     "exception": false,
     "start_time": "2021-03-29T16:33:36.557299",
     "status": "completed"
    },
    "tags": []
   },
   "outputs": [
    {
     "name": "stdout",
     "output_type": "stream",
     "text": [
      "Executing 0 experiment\n"
     ]
    },
    {
     "name": "stdout",
     "output_type": "stream",
     "text": [
      "Executing 1 experiment\n"
     ]
    },
    {
     "name": "stdout",
     "output_type": "stream",
     "text": [
      "CPU times: user 56 s, sys: 23.8 ms, total: 56 s\n",
      "Wall time: 56 s\n"
     ]
    },
    {
     "data": {
      "text/html": [
       "<div>\n",
       "<style scoped>\n",
       "    .dataframe tbody tr th:only-of-type {\n",
       "        vertical-align: middle;\n",
       "    }\n",
       "\n",
       "    .dataframe tbody tr th {\n",
       "        vertical-align: top;\n",
       "    }\n",
       "\n",
       "    .dataframe thead th {\n",
       "        text-align: right;\n",
       "    }\n",
       "</style>\n",
       "<table border=\"1\" class=\"dataframe\">\n",
       "  <thead>\n",
       "    <tr style=\"text-align: right;\">\n",
       "      <th></th>\n",
       "      <th></th>\n",
       "      <th>time</th>\n",
       "      <th>knowledge</th>\n",
       "      <th>population</th>\n",
       "      <th>generalization</th>\n",
       "    </tr>\n",
       "    <tr>\n",
       "      <th>agent</th>\n",
       "      <th>trial</th>\n",
       "      <th></th>\n",
       "      <th></th>\n",
       "      <th></th>\n",
       "      <th></th>\n",
       "    </tr>\n",
       "  </thead>\n",
       "  <tbody>\n",
       "    <tr>\n",
       "      <th rowspan=\"5\" valign=\"top\">acs</th>\n",
       "      <th>0</th>\n",
       "      <td>0.008128</td>\n",
       "      <td>0.766667</td>\n",
       "      <td>16.0</td>\n",
       "      <td>0.556373</td>\n",
       "    </tr>\n",
       "    <tr>\n",
       "      <th>1</th>\n",
       "      <td>0.016533</td>\n",
       "      <td>0.900000</td>\n",
       "      <td>19.0</td>\n",
       "      <td>0.541317</td>\n",
       "    </tr>\n",
       "    <tr>\n",
       "      <th>2</th>\n",
       "      <td>0.011242</td>\n",
       "      <td>0.900000</td>\n",
       "      <td>20.0</td>\n",
       "      <td>0.526515</td>\n",
       "    </tr>\n",
       "    <tr>\n",
       "      <th>3</th>\n",
       "      <td>0.007761</td>\n",
       "      <td>0.900000</td>\n",
       "      <td>20.0</td>\n",
       "      <td>0.526515</td>\n",
       "    </tr>\n",
       "    <tr>\n",
       "      <th>4</th>\n",
       "      <td>0.042668</td>\n",
       "      <td>0.966667</td>\n",
       "      <td>21.0</td>\n",
       "      <td>0.511932</td>\n",
       "    </tr>\n",
       "    <tr>\n",
       "      <th>...</th>\n",
       "      <th>...</th>\n",
       "      <td>...</td>\n",
       "      <td>...</td>\n",
       "      <td>...</td>\n",
       "      <td>...</td>\n",
       "    </tr>\n",
       "    <tr>\n",
       "      <th rowspan=\"5\" valign=\"top\">yacs</th>\n",
       "      <th>245</th>\n",
       "      <td>0.019111</td>\n",
       "      <td>1.000000</td>\n",
       "      <td>22.5</td>\n",
       "      <td>0.299654</td>\n",
       "    </tr>\n",
       "    <tr>\n",
       "      <th>246</th>\n",
       "      <td>0.016307</td>\n",
       "      <td>1.000000</td>\n",
       "      <td>22.5</td>\n",
       "      <td>0.299654</td>\n",
       "    </tr>\n",
       "    <tr>\n",
       "      <th>247</th>\n",
       "      <td>0.077705</td>\n",
       "      <td>1.000000</td>\n",
       "      <td>22.5</td>\n",
       "      <td>0.299654</td>\n",
       "    </tr>\n",
       "    <tr>\n",
       "      <th>248</th>\n",
       "      <td>0.056100</td>\n",
       "      <td>1.000000</td>\n",
       "      <td>22.5</td>\n",
       "      <td>0.299654</td>\n",
       "    </tr>\n",
       "    <tr>\n",
       "      <th>249</th>\n",
       "      <td>0.064194</td>\n",
       "      <td>1.000000</td>\n",
       "      <td>22.5</td>\n",
       "      <td>0.299654</td>\n",
       "    </tr>\n",
       "  </tbody>\n",
       "</table>\n",
       "<p>1000 rows × 4 columns</p>\n",
       "</div>"
      ],
      "text/plain": [
       "                 time  knowledge  population  generalization\n",
       "agent trial                                                 \n",
       "acs   0      0.008128   0.766667        16.0        0.556373\n",
       "      1      0.016533   0.900000        19.0        0.541317\n",
       "      2      0.011242   0.900000        20.0        0.526515\n",
       "      3      0.007761   0.900000        20.0        0.526515\n",
       "      4      0.042668   0.966667        21.0        0.511932\n",
       "...               ...        ...         ...             ...\n",
       "yacs  245    0.019111   1.000000        22.5        0.299654\n",
       "      246    0.016307   1.000000        22.5        0.299654\n",
       "      247    0.077705   1.000000        22.5        0.299654\n",
       "      248    0.056100   1.000000        22.5        0.299654\n",
       "      249    0.064194   1.000000        22.5        0.299654\n",
       "\n",
       "[1000 rows x 4 columns]"
      ]
     },
     "execution_count": 11,
     "metadata": {},
     "output_type": "execute_result"
    }
   ],
   "source": [
    "%%time\n",
    "\n",
    "common_params = {\n",
    "    'env': gym.make('SimpleMaze-v0'),\n",
    "    'classifier_length': 4,\n",
    "    'possible_actions': 4,\n",
    "    'environment_adapter': EnvironmentAdapter,\n",
    "    'metrics_trial_freq': 1,\n",
    "    'metrics_fcn': simple_maze_metrics,\n",
    "    'explore_trials': 250\n",
    "}\n",
    "\n",
    "yacs_params = {\n",
    "    'trace_length': 3,\n",
    "    'feature_possible_values': [2, 2, 2, 2]\n",
    "}\n",
    "\n",
    "simple_maze_metrics = get_from_cache_or_run(\n",
    "    f'{cache_prefix}/SimpleMaze-metrics.dill', \n",
    "    lambda: avg_experiments(lambda: run_experiment(common_params, yacs_params=yacs_params), n=2))\n",
    "\n",
    "simple_maze_metrics"
   ]
  },
  {
   "cell_type": "code",
   "execution_count": 12,
   "id": "decent-alberta",
   "metadata": {
    "execution": {
     "iopub.execute_input": "2021-03-29T16:34:32.599829Z",
     "iopub.status.busy": "2021-03-29T16:34:32.599421Z",
     "iopub.status.idle": "2021-03-29T16:34:33.123677Z",
     "shell.execute_reply": "2021-03-29T16:34:33.124082Z"
    },
    "papermill": {
     "duration": 0.097304,
     "end_time": "2021-03-29T16:34:32.656159",
     "exception": false,
     "start_time": "2021-03-29T16:34:32.558855",
     "status": "completed"
    },
    "tags": []
   },
   "outputs": [
    {
     "data": {
      "image/png": "[encoded data removed]",
      "text/plain": [
       "<Figure size 1584x1152 with 4 Axes>"
      ]
     },
     "metadata": {
      "needs_background": "light"
     },
     "output_type": "display_data"
    }
   ],
   "source": [
    "plot_comparison(simple_maze_metrics)\n",
    "plt.show()"
   ]
  },
  {
   "cell_type": "markdown",
   "id": "african-external",
   "metadata": {
    "papermill": {
     "duration": null,
     "end_time": null,
     "exception": null,
     "start_time": null,
     "status": "completed"
    },
    "tags": []
   },
   "source": [
    "## Corridor\n",
    "\n",
    "![corridor](img/corridor.png)"
   ]
  },
  {
   "cell_type": "code",
   "execution_count": null,
   "id": "complete-driving",
   "metadata": {
    "papermill": {
     "duration": null,
     "end_time": null,
     "exception": null,
     "start_time": null,
     "status": "completed"
    },
    "tags": []
   },
   "outputs": [],
   "source": [
    "import gym_corridor\n",
    "\n",
    "def corridor_knowledge(pop, env):\n",
    "    transitions = env.env.get_transitions()\n",
    "    reliable = [c for c in pop if c.is_reliable()]\n",
    "    nr_correct = 0\n",
    "\n",
    "    for start, action, end in transitions:\n",
    "        p0 = Perception((str(start),))\n",
    "        p1 = Perception((str(end),))\n",
    "\n",
    "        if any([True for cl in pop if cl.predicts_successfully(p0, action, p1)]):\n",
    "            nr_correct += 1\n",
    "\n",
    "    return nr_correct / len(transitions)\n",
    "\n",
    "\n",
    "def corridor_metrics(agent, env):\n",
    "    population = agent.population\n",
    "    return {\n",
    "        'pop': len(population),\n",
    "        'knowledge': corridor_knowledge(population, env),\n",
    "        'generalization': generalization_score(population)\n",
    "    }\n",
    "\n",
    "class CorridorAdapter(EnvironmentAdapter):\n",
    "    @staticmethod\n",
    "    def to_genotype(phenotype):\n",
    "        return [str(phenotype)]"
   ]
  },
  {
   "cell_type": "code",
   "execution_count": null,
   "id": "italic-dollar",
   "metadata": {
    "papermill": {
     "duration": null,
     "end_time": null,
     "exception": null,
     "start_time": null,
     "status": "completed"
    },
    "tags": []
   },
   "outputs": [],
   "source": [
    "%%time\n",
    "\n",
    "common_params = {\n",
    "    'env': gym.make('corridor-20-v0'),\n",
    "    'classifier_length': 1,\n",
    "    'possible_actions': 2,\n",
    "    'environment_adapter': CorridorAdapter,\n",
    "    'metrics_trial_freq': 1,\n",
    "    'metrics_fcn': corridor_metrics,\n",
    "    'explore_trials': 50\n",
    "}\n",
    "\n",
    "yacs_params = {\n",
    "    'trace_length': 3,\n",
    "    'feature_possible_values': [19]\n",
    "}\n",
    "\n",
    "corridor_metrics = get_from_cache_or_run(\n",
    "    f'{cache_prefix}/Corridor-metrics.dill', \n",
    "    lambda: avg_experiments(lambda: run_experiment(common_params, yacs_params=yacs_params), n=2))\n",
    "\n",
    "corridor_metrics"
   ]
  },
  {
   "cell_type": "code",
   "execution_count": null,
   "id": "prospective-outline",
   "metadata": {
    "papermill": {
     "duration": null,
     "end_time": null,
     "exception": null,
     "start_time": null,
     "status": "completed"
    },
    "tags": []
   },
   "outputs": [],
   "source": [
    "plot_comparison(corridor_metrics)"
   ]
  },
  {
   "cell_type": "markdown",
   "id": "controlling-accused",
   "metadata": {
    "papermill": {
     "duration": null,
     "end_time": null,
     "exception": null,
     "start_time": null,
     "status": "completed"
    },
    "tags": []
   },
   "source": [
    "## Grid\n",
    "![grid](img/grid.png)"
   ]
  },
  {
   "cell_type": "code",
   "execution_count": null,
   "id": "running-dealer",
   "metadata": {
    "papermill": {
     "duration": null,
     "end_time": null,
     "exception": null,
     "start_time": null,
     "status": "completed"
    },
    "tags": []
   },
   "outputs": [],
   "source": [
    "import gym_grid\n",
    "\n",
    "\n",
    "def grid_knowledge(population, env):\n",
    "    transitions = env.env.get_transitions()\n",
    "    reliable = [c for c in population if c.is_reliable()]\n",
    "    nr_correct = 0\n",
    "    \n",
    "    for start, action, end in transitions:\n",
    "        p0 = Perception([str(el) for el in start])\n",
    "        p1 = Perception([str(el) for el in end])\n",
    "        \n",
    "        if any([True for cl in reliable if cl.predicts_successfully(p0, action, p1)]):\n",
    "            nr_correct += 1\n",
    "    \n",
    "    return nr_correct / len(transitions)\n",
    "\n",
    "def grid_metrics(agent, env):\n",
    "    population = agent.population\n",
    "    return {\n",
    "        'pop': len(population),\n",
    "        'knowledge': grid_knowledge(population, env),\n",
    "        'generalization': generalization_score(population)\n",
    "    }"
   ]
  },
  {
   "cell_type": "code",
   "execution_count": null,
   "id": "korean-growing",
   "metadata": {
    "papermill": {
     "duration": null,
     "end_time": null,
     "exception": null,
     "start_time": null,
     "status": "completed"
    },
    "tags": []
   },
   "outputs": [],
   "source": [
    "%%time\n",
    "\n",
    "common_params = {\n",
    "    'env': gym.make('grid-20-v0'),\n",
    "    'classifier_length': 2,\n",
    "    'possible_actions': 4,\n",
    "    'environment_adapter': EnvironmentAdapter,\n",
    "    'metrics_trial_freq': 1,\n",
    "    'metrics_fcn': grid_metrics,\n",
    "    'explore_trials': 50\n",
    "}\n",
    "\n",
    "yacs_params = {\n",
    "    'trace_length': 3,\n",
    "    'feature_possible_values': [20, 20]\n",
    "}\n",
    "\n",
    "grid_metrics = get_from_cache_or_run(\n",
    "    f'{cache_prefix}/Grid-metrics.dill', \n",
    "    lambda: avg_experiments(lambda: run_experiment(common_params, yacs_params=yacs_params), n=2))\n",
    "\n",
    "grid_metrics"
   ]
  },
  {
   "cell_type": "code",
   "execution_count": null,
   "id": "cheap-necessity",
   "metadata": {
    "papermill": {
     "duration": null,
     "end_time": null,
     "exception": null,
     "start_time": null,
     "status": "completed"
    },
    "tags": []
   },
   "outputs": [],
   "source": [
    "# grid_metrics.loc['yacs']"
   ]
  },
  {
   "cell_type": "code",
   "execution_count": null,
   "id": "verbal-clone",
   "metadata": {
    "papermill": {
     "duration": null,
     "end_time": null,
     "exception": null,
     "start_time": null,
     "status": "completed"
    },
    "tags": []
   },
   "outputs": [],
   "source": [
    "plot_comparison(grid_metrics)"
   ]
  },
  {
   "cell_type": "markdown",
   "id": "negative-membership",
   "metadata": {
    "papermill": {
     "duration": null,
     "end_time": null,
     "exception": null,
     "start_time": null,
     "status": "completed"
    },
    "tags": []
   },
   "source": [
    "## Conclusions\n",
    "\n",
    "First obvious points:\n",
    "- YACS is over-specialising and slow,\n",
    "- YACS handles big dimensions (Grid environment) poorly"
   ]
  }
 ],
 "metadata": {
  "kernelspec": {
   "display_name": "Python 3",
   "language": "python",
   "name": "python3"
  },
  "language_info": {
   "codemirror_mode": {
    "name": "ipython",
    "version": 3
   },
   "file_extension": ".py",
   "mimetype": "text/x-python",
   "name": "python",
   "nbconvert_exporter": "python",
   "pygments_lexer": "ipython3",
   "version": "3.7.10"
  },
  "papermill": {
   "default_parameters": {},
   "duration": 58.70546,
   "end_time": "2021-03-29T16:34:33.475233",
   "environment_variables": {},
   "exception": null,
   "input_path": "alcs_comparison/Experiments.ipynb",
   "output_path": "xxx.ipynb",
   "parameters": {},
   "start_time": "2021-03-29T16:33:34.769773",
   "version": "2.3.2"
  }
 },
 "nbformat": 4,
 "nbformat_minor": 5
}